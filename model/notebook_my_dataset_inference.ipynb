{
 "cells": [
  {
   "metadata": {},
   "cell_type": "markdown",
   "source": [
    "Try to use these to fix outputs issue:\n",
    "\n",
    "https://ipython.readthedocs.io/en/stable/interactive/magics.html\n",
    "https://notebook.community/lifeinoppo/littlefishlet-scode/RES/REF/python_sourcecode/ipython-master/examples/IPython%20Kernel/Capturing%20Output"
   ],
   "id": "206fd0459d5c59b4"
  },
  {
   "cell_type": "markdown",
   "id": "3e0f4b0cf1c39ceb",
   "metadata": {},
   "source": [
    "# Common libs"
   ]
  },
  {
   "cell_type": "markdown",
   "id": "d65280ea51435b56",
   "metadata": {},
   "source": [
    "notebook --allow-root --no-browser --notebook-dir=/root/model/"
   ]
  },
  {
   "cell_type": "code",
   "id": "9acb8a1fbeb40ff5",
   "metadata": {},
   "source": [
    "# noinspection PyUnresolvedReferences\n",
    "from importlib import reload\n",
    "\n",
    "MODEL_PARAMS_DIR = \"_model_results/model_params__mine\"\n",
    "RUNS_DIR = \"_model_results/runs__mine\""
   ],
   "outputs": [],
   "execution_count": null
  },
  {
   "cell_type": "markdown",
   "id": "a29db2a0b135a13b",
   "metadata": {
    "collapsed": false,
    "jupyter": {
     "outputs_hidden": false
    }
   },
   "source": [
    "# Load My Dataset"
   ]
  },
  {
   "cell_type": "markdown",
   "id": "24699bd8dcadd704",
   "metadata": {},
   "source": "### Load RAW EEG for prediction"
  },
  {
   "cell_type": "code",
   "id": "f28dcf2b965f8640",
   "metadata": {},
   "source": [
    "import dataset_processing.my_dataset_loader\n",
    "\n",
    "reload(dataset_processing.my_dataset_loader)\n",
    "\n",
    "from dataset_processing.my_dataset_loader import EpocDatasetLoader\n",
    "\n",
    "sampling_frequency = 200  # 200 Hz\n",
    "\n",
    "_loader = EpocDatasetLoader(\n",
    "    target_fs=sampling_frequency,\n",
    "    seconds_per_eeg_for_gan=15,\n",
    "    my_eeg_dir=\"datasets/_DEMO__EPOC_X/EEG\",\n",
    ")\n",
    "_eeg_data_df = _loader.process_dataset()\n",
    "\n",
    "# 200 Hz * 15 seconds -> 3000 num_samples\n",
    "print(\"Dataset size:\", len(_eeg_data_df.index))\n",
    "print(\"EEG Shape:\", _eeg_data_df.iloc[0][\"EEG\"].shape)"
   ],
   "outputs": [],
   "execution_count": null
  },
  {
   "cell_type": "code",
   "id": "37b7728a33b86c3c",
   "metadata": {},
   "source": [
    "# Segment into 1s segments\n",
    "_eeg_data_df = _loader.segment_df_final(_eeg_data_df)\n",
    "print(\"Dataset size:\", len(_eeg_data_df.index))\n",
    "print(\"EEG Shape:\", _eeg_data_df.iloc[-1][\"EEG\"].shape)"
   ],
   "outputs": [],
   "execution_count": null
  },
  {
   "cell_type": "markdown",
   "id": "3405db51e6dde34e",
   "metadata": {
    "collapsed": false,
    "jupyter": {
     "outputs_hidden": false
    }
   },
   "source": [
    "### Data Augmentation"
   ]
  },
  {
   "cell_type": "code",
   "id": "cb020fa64271167f",
   "metadata": {},
   "source": [
    "from dataset_processing.eeg_augmentation import EEGAugmentation\n",
    "\n",
    "_augmentor = EEGAugmentation(_eeg_data_df)\n",
    "_augmented_df = _augmentor.augment_data()\n",
    "del _augmentor"
   ],
   "outputs": [],
   "execution_count": null
  },
  {
   "cell_type": "markdown",
   "id": "ad9af7bc72ac020d",
   "metadata": {},
   "source": [
    "# Pre-Training"
   ]
  },
  {
   "cell_type": "code",
   "id": "c370fe3af6a91b1a",
   "metadata": {},
   "source": [
    "from model.pre_training.do_pre_training import PreTraining\n",
    "\n",
    "PRETRAINING_SAVE_DIR = f\"{MODEL_PARAMS_DIR}/pretraining\"\n",
    "PRETRAINING_RUNS_DIR = f\"{RUNS_DIR}/pretraining\""
   ],
   "outputs": [],
   "execution_count": null
  },
  {
   "metadata": {},
   "cell_type": "code",
   "source": [
    "with_gan = False\n",
    "\n",
    "PRETRAINING_EXTRA = \"WITH_GAN\" if with_gan else \"WITHOUT_GAN\"\n",
    "FINETUNING_EXTRA = \"pre_GAN\" if with_gan else \"pre_no_GAN\"\n",
    "\n",
    "pretraining_model = PreTraining(\n",
    "    data_loader=None,\n",
    "    sampling_frequency=sampling_frequency,\n",
    "    pretraining_model_save_dir=f\"{PRETRAINING_SAVE_DIR}_{PRETRAINING_EXTRA}\",\n",
    "    scheduler_patience=50,\n",
    "    early_stopping_patience=100,\n",
    "    epochs=2000,\n",
    "    to_train=False,\n",
    ")\n",
    "pretraining_model.load_model(2000)"
   ],
   "id": "f1fcc4b608d7223d",
   "outputs": [],
   "execution_count": null
  },
  {
   "cell_type": "markdown",
   "id": "d52e28a9f9218d03",
   "metadata": {},
   "source": [
    "# Fine-Tuning"
   ]
  },
  {
   "cell_type": "code",
   "id": "e64c6783f5db231d",
   "metadata": {},
   "source": [
    "from torch.utils.data import DataLoader\n",
    "from dataset_processing.eeg_dataset import EEGDataset\n",
    "from model.fine_tuning.do_fine_tuning import FineTuning\n",
    "\n",
    "FINETUNING_SAVE_DIR = f\"{MODEL_PARAMS_DIR}/finetuning\"\n",
    "FINETUNING_RUNS_DIR = f\"{RUNS_DIR}/finetuning\"\n",
    "\n",
    "# From the paper\n",
    "finetuning_batch_size = 128\n",
    "finetuning_epochs = 20"
   ],
   "outputs": [],
   "execution_count": null
  },
  {
   "cell_type": "markdown",
   "id": "9ee25fc044cb4938",
   "metadata": {},
   "source": [
    "### Dataset Loader"
   ]
  },
  {
   "metadata": {},
   "cell_type": "code",
   "source": [
    "verdict_to_str = {\n",
    "    -1: \"NEGATIVE\",\n",
    "    0: \"NEUTRAL\",\n",
    "    1: \"POSITIVE\",\n",
    "    None: \"OVERALL\",\n",
    "}"
   ],
   "id": "2e5c797214b45d22",
   "outputs": [],
   "execution_count": null
  },
  {
   "metadata": {},
   "cell_type": "code",
   "source": [
    "def create_verdict_dataloader(verdict, num_workers=5, prefetch_factor=2, exclude_p=0):\n",
    "    if verdict is None:\n",
    "        filtered_df = _augmented_df\n",
    "    else:\n",
    "        filtered_df = _augmented_df[_augmented_df[\"Verdict\"] == verdict]\n",
    "\n",
    "    if exclude_p > 0:\n",
    "        dataset_exclude_count = int(len(filtered_df.index) * exclude_p)\n",
    "        filtered_df = filtered_df.iloc[dataset_exclude_count:-dataset_exclude_count]\n",
    "\n",
    "    dataloader = DataLoader(\n",
    "        EEGDataset(filtered_df),\n",
    "        # batch_size=finetuning_batch_size,\n",
    "        batch_size=128,\n",
    "        shuffle=False,\n",
    "        pin_memory=True,\n",
    "        persistent_workers=True,\n",
    "        num_workers=num_workers,\n",
    "        prefetch_factor=prefetch_factor,\n",
    "    )\n",
    "    print(f\"Verdict: {verdict}, Eval size: {len(filtered_df)}\")\n",
    "    return dataloader\n",
    "\n",
    "\n",
    "verdicts = sorted(_augmented_df[\"Verdict\"].unique())\n",
    "dataloaders = {\n",
    "    verdict: create_verdict_dataloader(verdict)\n",
    "    for verdict in verdicts\n",
    "}\n",
    "dataloaders[None] = create_verdict_dataloader(None)"
   ],
   "id": "49255ae66edd8c3c",
   "outputs": [],
   "execution_count": null
  },
  {
   "cell_type": "markdown",
   "id": "4b86e0b0a5e34884",
   "metadata": {},
   "source": [
    "### Do the fine-tuning"
   ]
  },
  {
   "cell_type": "code",
   "id": "82b99e44275bb153",
   "metadata": {},
   "source": [
    "import model.fine_tuning.do_fine_tuning\n",
    "\n",
    "reload(model.fine_tuning.do_fine_tuning)\n",
    "\n",
    "from model.fine_tuning.do_fine_tuning import FineTuning\n",
    "from utils.misc import print_accuracy_progress_bars, get_pred_str\n",
    "\n",
    "\n",
    "# Load model where the maximum accuracy was achieved\n",
    "best_model_type = \"pre_no_GAN_WITH_GAN\"\n",
    "best_epoch = 5\n",
    "\n",
    "for verdict, data_loader in dataloaders.items():\n",
    "    finetuning_model = FineTuning(\n",
    "        data_loader=None,\n",
    "        data_loader_eval=data_loader,\n",
    "        sampling_frequency=sampling_frequency,\n",
    "        num_classes=3,\n",
    "        num_channels=14,\n",
    "\n",
    "        ET=pretraining_model.ET,\n",
    "        EF=pretraining_model.EF,\n",
    "        PT=pretraining_model.PT,\n",
    "        PF=pretraining_model.PF,\n",
    "\n",
    "        finetuning_model_save_dir=f\"{FINETUNING_SAVE_DIR}_{best_model_type}\",\n",
    "        to_train=False,\n",
    "    )\n",
    "    finetuning_model.load_model(best_epoch, allow_logs=False)\n",
    "\n",
    "    all_predictions, all_ok_predictions, eval_accuracy, avg_eval_loss = finetuning_model.do_eval_epoch(all_accuracies=True)\n",
    "    print(\n",
    "        f\"Verdict {verdict_to_str[verdict]} -> \"\n",
    "        f\"Overall Predictions: {get_pred_str(all_predictions, verdict_to_str)}\"\n",
    "    )\n",
    "\n",
    "    print_accuracy_progress_bars(all_predictions, verdict_to_str, total_bar_length=30)"
   ],
   "outputs": [],
   "execution_count": null
  },
  {
   "cell_type": "code",
   "id": "98c549d3-26a3-4288-9294-75528cbf1a62",
   "metadata": {},
   "source": [
    "print(\"DONE!\")"
   ],
   "outputs": [],
   "execution_count": null
  }
 ],
 "metadata": {
  "kernelspec": {
   "display_name": "Python 3 (ipykernel)",
   "language": "python",
   "name": "python3"
  },
  "language_info": {
   "codemirror_mode": {
    "name": "ipython",
    "version": 3
   },
   "file_extension": ".py",
   "mimetype": "text/x-python",
   "name": "python",
   "nbconvert_exporter": "python",
   "pygments_lexer": "ipython3",
   "version": "3.11.9"
  },
  "widgets": {
   "application/vnd.jupyter.widget-state+json": {
    "state": {
     "000446d47db846cb8542c9ef809e277d": {
      "model_module": "@jupyter-widgets/controls",
      "model_module_version": "2.0.0",
      "model_name": "ProgressStyleModel",
      "state": {
       "description_width": ""
      }
     },
     "0017a93588be4f19a862f7a7c8d48b37": {
      "model_module": "@jupyter-widgets/base",
      "model_module_version": "2.0.0",
      "model_name": "LayoutModel",
      "state": {}
     },
     "0049a453fe164b15899d02b8244a40fe": {
      "model_module": "@jupyter-widgets/controls",
      "model_module_version": "2.0.0",
      "model_name": "ProgressStyleModel",
      "state": {
       "description_width": ""
      }
     },
     "004aea5c5bfd4a1dbef46fce70e58d0d": {
      "model_module": "@jupyter-widgets/base",
      "model_module_version": "2.0.0",
      "model_name": "LayoutModel",
      "state": {}
     },
     "004b9556c01b4521a08abbafcf3a4678": {
      "model_module": "@jupyter-widgets/base",
      "model_module_version": "2.0.0",
      "model_name": "LayoutModel",
      "state": {
       "visibility": "hidden"
      }
     },
     "00670dcf8c5649828d1b0e397e279ab1": {
      "model_module": "@jupyter-widgets/controls",
      "model_module_version": "2.0.0",
      "model_name": "HTMLStyleModel",
      "state": {
       "description_width": "",
       "font_size": null,
       "text_color": null
      }
     },
     "00687b96457646969778d588fcfad023": {
      "model_module": "@jupyter-widgets/controls",
      "model_module_version": "2.0.0",
      "model_name": "HTMLModel",
      "state": {
       "layout": "IPY_MODEL_b7faa8b5d6c84ae0a0eb2567d4634daf",
       "style": "IPY_MODEL_102e702b2c46402dbabc07aa65662306",
       "value": "Epoch 14, Loss: 2.7069: 100%"
      }
     },
     "006b5ca9f2934f91b5dfd89a2affc118": {
      "model_module": "@jupyter-widgets/controls",
      "model_module_version": "2.0.0",
      "model_name": "HTMLStyleModel",
      "state": {
       "description_width": "",
       "font_size": null,
       "text_color": null
      }
     },
     "007766c2e9fb461c90f00e8fddfcf084": {
      "model_module": "@jupyter-widgets/controls",
      "model_module_version": "2.0.0",
      "model_name": "HTMLModel",
      "state": {
       "layout": "IPY_MODEL_4df7ef46f4294d37b3891f883a943753",
       "style": "IPY_MODEL_68d4745cfae24e41818a44e46c4922cd",
       "value": " 14/14 [00:01&lt;00:00, 10.43it/s]"
      }
     },
     "007b6ea3324143279a9553d3eafeccec": {
      "model_module": "@jupyter-widgets/controls",
      "model_module_version": "2.0.0",
      "model_name": "HTMLModel",
      "state": {
       "layout": "IPY_MODEL_7828ba08dbcf40d3849865abd1e1b918",
       "style": "IPY_MODEL_e7afa0e13ccd49f793177c0a865a6c19",
       "value": " 14/14 [00:01&lt;00:00,  8.73it/s]"
      }
     },
     "00b2f2b0c8814139b64cc30a9bd7d4b6": {
      "model_module": "@jupyter-widgets/base",
      "model_module_version": "2.0.0",
      "model_name": "LayoutModel",
      "state": {}
     },
     "00c448a1c8634e1a8be0461b81e05ce2": {
      "model_module": "@jupyter-widgets/controls",
      "model_module_version": "2.0.0",
      "model_name": "HTMLModel",
      "state": {
       "layout": "IPY_MODEL_e9a6f70746f64ba889f8f6a1daf2539e",
       "style": "IPY_MODEL_c9ce8bda1b7c4ac5941c03aa2fb96021",
       "value": "Epoch 16, Loss: 2.0866: 100%"
      }
     },
     "0116884e45474d0f9eccb805f5ae27cf": {
      "model_module": "@jupyter-widgets/base",
      "model_module_version": "2.0.0",
      "model_name": "LayoutModel",
      "state": {
       "visibility": "hidden"
      }
     },
     "013758bf6f2347a589f2e83b9c179541": {
      "model_module": "@jupyter-widgets/base",
      "model_module_version": "2.0.0",
      "model_name": "LayoutModel",
      "state": {}
     },
     "013dff69b6cb4348b285620e8e6ce876": {
      "model_module": "@jupyter-widgets/base",
      "model_module_version": "2.0.0",
      "model_name": "LayoutModel",
      "state": {}
     },
     "0153d969623445a39a1a1ab6de62fe94": {
      "model_module": "@jupyter-widgets/base",
      "model_module_version": "2.0.0",
      "model_name": "LayoutModel",
      "state": {}
     },
     "0193a1b0c9de499fa2a84410a5a3177e": {
      "model_module": "@jupyter-widgets/base",
      "model_module_version": "2.0.0",
      "model_name": "LayoutModel",
      "state": {}
     },
     "019a33f5889d491f8ce398d8c72a25b5": {
      "model_module": "@jupyter-widgets/controls",
      "model_module_version": "2.0.0",
      "model_name": "HTMLModel",
      "state": {
       "layout": "IPY_MODEL_d7ab876e2e504ca88dbef64ab05c5f27",
       "style": "IPY_MODEL_a6510669d5a14c3989e675b2d699b5f9",
       "value": " 13/14 [00:01&lt;00:00, 10.04it/s]"
      }
     },
     "01e0fc069ea947e9a07b29ed9d6a834d": {
      "model_module": "@jupyter-widgets/base",
      "model_module_version": "2.0.0",
      "model_name": "LayoutModel",
      "state": {}
     },
     "0200901594a24023b76ac56c040855bf": {
      "model_module": "@jupyter-widgets/controls",
      "model_module_version": "2.0.0",
      "model_name": "HTMLStyleModel",
      "state": {
       "description_width": "",
       "font_size": null,
       "text_color": null
      }
     },
     "02424de57bec4ff58c02ff388c01922e": {
      "model_module": "@jupyter-widgets/controls",
      "model_module_version": "2.0.0",
      "model_name": "HTMLStyleModel",
      "state": {
       "description_width": "",
       "font_size": null,
       "text_color": null
      }
     },
     "026bf9e32151467bbdf547c1e8be36dd": {
      "model_module": "@jupyter-widgets/base",
      "model_module_version": "2.0.0",
      "model_name": "LayoutModel",
      "state": {}
     },
     "026fad3c7c084b309951aebb27823dba": {
      "model_module": "@jupyter-widgets/controls",
      "model_module_version": "2.0.0",
      "model_name": "HTMLModel",
      "state": {
       "layout": "IPY_MODEL_3e93cae8bbd54dec83dafda6181b40ce",
       "style": "IPY_MODEL_f378b0650c234231b0fac8fd9f633ccb",
       "value": "Epoch 19, Loss: 2.3208: 100%"
      }
     },
     "0272d9195fba4bc48ee5040c15afdbfb": {
      "model_module": "@jupyter-widgets/controls",
      "model_module_version": "2.0.0",
      "model_name": "HTMLModel",
      "state": {
       "layout": "IPY_MODEL_bc941a15daec40d6a194fbb7d6a0459f",
       "style": "IPY_MODEL_f2c7f792148b462e9e6a82b56bc87005",
       "value": " 63/63 [00:19&lt;00:00,  3.36it/s]"
      }
     },
     "028e52f7fef44853a39b09c015218b36": {
      "model_module": "@jupyter-widgets/base",
      "model_module_version": "2.0.0",
      "model_name": "LayoutModel",
      "state": {}
     },
     "0293e99bead34664b32aa789da968fc6": {
      "model_module": "@jupyter-widgets/controls",
      "model_module_version": "2.0.0",
      "model_name": "FloatProgressModel",
      "state": {
       "layout": "IPY_MODEL_2cd77e90d0b24bf283f5b528f55d9e09",
       "max": 23,
       "style": "IPY_MODEL_7cbf9fa9053f4dc685be44e71e1ca51f",
       "value": 23
      }
     },
     "029cf89f2beb40fd9baa3c8ca15385c9": {
      "model_module": "@jupyter-widgets/base",
      "model_module_version": "2.0.0",
      "model_name": "LayoutModel",
      "state": {}
     },
     "02c570a8cf154e48aaac4ef42ca6d44f": {
      "model_module": "@jupyter-widgets/base",
      "model_module_version": "2.0.0",
      "model_name": "LayoutModel",
      "state": {}
     },
     "02c81ebac2a944b8bca23c4b1d85e8ea": {
      "model_module": "@jupyter-widgets/base",
      "model_module_version": "2.0.0",
      "model_name": "LayoutModel",
      "state": {
       "visibility": "hidden"
      }
     },
     "02c8965c29b64443bd93f5d0c54b1f03": {
      "model_module": "@jupyter-widgets/controls",
      "model_module_version": "2.0.0",
      "model_name": "HTMLStyleModel",
      "state": {
       "description_width": "",
       "font_size": null,
       "text_color": null
      }
     },
     "02d75b8bd42f4c7bb6960aa54a374708": {
      "model_module": "@jupyter-widgets/base",
      "model_module_version": "2.0.0",
      "model_name": "LayoutModel",
      "state": {
       "visibility": "hidden"
      }
     },
     "02db4bb280d24f458251fa1c93ea521f": {
      "model_module": "@jupyter-widgets/controls",
      "model_module_version": "2.0.0",
      "model_name": "HTMLStyleModel",
      "state": {
       "description_width": "",
       "font_size": null,
       "text_color": null
      }
     },
     "02fbea6120e64dfdbc1816e3d3baffdb": {
      "model_module": "@jupyter-widgets/controls",
      "model_module_version": "2.0.0",
      "model_name": "HTMLStyleModel",
      "state": {
       "description_width": "",
       "font_size": null,
       "text_color": null
      }
     },
     "031ae5acd96a403a8fe275cc2b42fdc8": {
      "model_module": "@jupyter-widgets/controls",
      "model_module_version": "2.0.0",
      "model_name": "ProgressStyleModel",
      "state": {
       "description_width": ""
      }
     },
     "03309785ffa4479a81d3f57e83073adc": {
      "model_module": "@jupyter-widgets/base",
      "model_module_version": "2.0.0",
      "model_name": "LayoutModel",
      "state": {}
     },
     "03439b6814594f4eaa73c4e56efb0d4d": {
      "model_module": "@jupyter-widgets/base",
      "model_module_version": "2.0.0",
      "model_name": "LayoutModel",
      "state": {}
     },
     "0353a0caaad5473dacf217c9119a6fb2": {
      "model_module": "@jupyter-widgets/controls",
      "model_module_version": "2.0.0",
      "model_name": "HTMLStyleModel",
      "state": {
       "description_width": "",
       "font_size": null,
       "text_color": null
      }
     },
     "035c6dabf8874181b2c9f40b62879794": {
      "model_module": "@jupyter-widgets/controls",
      "model_module_version": "2.0.0",
      "model_name": "HTMLModel",
      "state": {
       "layout": "IPY_MODEL_c96612e2811941959cd69c5ac9e80498",
       "style": "IPY_MODEL_d7bfa24b51634f3d93b676d9bca7ec37",
       "value": " 22/23 [00:01&lt;00:00, 19.36it/s]"
      }
     },
     "0364531f4b7f4be39ba732ba02f6b89b": {
      "model_module": "@jupyter-widgets/controls",
      "model_module_version": "2.0.0",
      "model_name": "HTMLStyleModel",
      "state": {
       "description_width": "",
       "font_size": null,
       "text_color": null
      }
     },
     "03753525137d47ca8f3af8a5530369ca": {
      "model_module": "@jupyter-widgets/controls",
      "model_module_version": "2.0.0",
      "model_name": "FloatProgressModel",
      "state": {
       "layout": "IPY_MODEL_39dcab2c60a749c2aed29d57ce14386a",
       "max": 77,
       "style": "IPY_MODEL_b230874d4db549098004ccec24ae14d0",
       "value": 77
      }
     },
     "038f3ca8818545a19b333692dc547ac6": {
      "model_module": "@jupyter-widgets/controls",
      "model_module_version": "2.0.0",
      "model_name": "HTMLStyleModel",
      "state": {
       "description_width": "",
       "font_size": null,
       "text_color": null
      }
     },
     "03ad631edf79449cbf3d577cbe527791": {
      "model_module": "@jupyter-widgets/base",
      "model_module_version": "2.0.0",
      "model_name": "LayoutModel",
      "state": {}
     },
     "03bfe4133a0d46179b5323bed8742d55": {
      "model_module": "@jupyter-widgets/controls",
      "model_module_version": "2.0.0",
      "model_name": "FloatProgressModel",
      "state": {
       "layout": "IPY_MODEL_df4a38e5fd154322b6e44872c159b097",
       "max": 32,
       "style": "IPY_MODEL_2def998d85354a878e4e9b99c6965303",
       "value": 32
      }
     },
     "03c92d1cb4ec4a35abb2a3c8a31db4cd": {
      "model_module": "@jupyter-widgets/base",
      "model_module_version": "2.0.0",
      "model_name": "LayoutModel",
      "state": {}
     },
     "03d330757c914b6aabad77ceadda1017": {
      "model_module": "@jupyter-widgets/base",
      "model_module_version": "2.0.0",
      "model_name": "LayoutModel",
      "state": {}
     },
     "03d96c89b70444c3a5a3d47e56619287": {
      "model_module": "@jupyter-widgets/base",
      "model_module_version": "2.0.0",
      "model_name": "LayoutModel",
      "state": {
       "visibility": "hidden"
      }
     },
     "03f5297805a94daf814c977d409aa6a2": {
      "model_module": "@jupyter-widgets/controls",
      "model_module_version": "2.0.0",
      "model_name": "HTMLModel",
      "state": {
       "layout": "IPY_MODEL_eeb79eea66a24ffb81c21d125fa0b8e7",
       "style": "IPY_MODEL_951460c51ea6408f9bb9cb37b5adadf9",
       "value": "Epoch 7, Loss: 2.9354: 100%"
      }
     },
     "03fd97f2f7c84652877837e35fa8a587": {
      "model_module": "@jupyter-widgets/base",
      "model_module_version": "2.0.0",
      "model_name": "LayoutModel",
      "state": {}
     },
     "041a5a9a378548aaaf71ef357a33821d": {
      "model_module": "@jupyter-widgets/controls",
      "model_module_version": "2.0.0",
      "model_name": "ProgressStyleModel",
      "state": {
       "description_width": ""
      }
     },
     "042b880aed3e428c8a37afa3df659882": {
      "model_module": "@jupyter-widgets/controls",
      "model_module_version": "2.0.0",
      "model_name": "HTMLModel",
      "state": {
       "layout": "IPY_MODEL_5d33f841a591439cb32694c406007507",
       "style": "IPY_MODEL_4189549ab3674a5b8cc77d6e733fa586",
       "value": " 14/14 [00:01&lt;00:00,  9.92it/s]"
      }
     },
     "043837416a3441c6be964a325d956c9e": {
      "model_module": "@jupyter-widgets/controls",
      "model_module_version": "2.0.0",
      "model_name": "FloatProgressModel",
      "state": {
       "layout": "IPY_MODEL_b78839120e4746b29070d708b6386d83",
       "max": 77,
       "style": "IPY_MODEL_c6b088a173e64fc88e308ad3f013d2ea",
       "value": 77
      }
     },
     "04430a7f0b51447495efe6bffaf7622e": {
      "model_module": "@jupyter-widgets/controls",
      "model_module_version": "2.0.0",
      "model_name": "HTMLModel",
      "state": {
       "layout": "IPY_MODEL_cae57eb3164441b5a5640f0acf45d739",
       "style": "IPY_MODEL_0e8c44ae329e4a638f01db14b933bb17",
       "value": "Epoch 13, Loss: 2.8314: 100%"
      }
     },
     "04547a89f527469ca3a0a03f3f56c035": {
      "model_module": "@jupyter-widgets/controls",
      "model_module_version": "2.0.0",
      "model_name": "FloatProgressModel",
      "state": {
       "layout": "IPY_MODEL_92ba5d0003264abd9f4de3c1e6332888",
       "max": 77,
       "style": "IPY_MODEL_1e9ed599acf046818eade252e8414bc5",
       "value": 77
      }
     },
     "045cce4ebe6c464db75c4a2ffd5f216a": {
      "model_module": "@jupyter-widgets/base",
      "model_module_version": "2.0.0",
      "model_name": "LayoutModel",
      "state": {}
     },
     "048b3c0b8f9c49c3afc35aa4d786da7b": {
      "model_module": "@jupyter-widgets/controls",
      "model_module_version": "2.0.0",
      "model_name": "HTMLModel",
      "state": {
       "layout": "IPY_MODEL_46b76f245fd44d8ea6aad2b6b4615769",
       "style": "IPY_MODEL_5b09abef20884bafb3a345ea7616a672",
       "value": "Epoch 13, Loss: 3.6462:  93%"
      }
     },
     "0494193f37f442f2937f05d00edb63e9": {
      "model_module": "@jupyter-widgets/controls",
      "model_module_version": "2.0.0",
      "model_name": "HTMLStyleModel",
      "state": {
       "description_width": "",
       "font_size": null,
       "text_color": null
      }
     },
     "049c683655d2411e9e924c0fe2cf9e2a": {
      "model_module": "@jupyter-widgets/controls",
      "model_module_version": "2.0.0",
      "model_name": "HTMLModel",
      "state": {
       "layout": "IPY_MODEL_363a1c00f06741979006c56a5164cd39",
       "style": "IPY_MODEL_5ed9efc8ad584404bd0f80f4d08bef62",
       "value": "Epoch 2, Loss: 2.8182: 100%"
      }
     },
     "04a1c39bacea4928b1bda0dc303f8cef": {
      "model_module": "@jupyter-widgets/controls",
      "model_module_version": "2.0.0",
      "model_name": "FloatProgressModel",
      "state": {
       "layout": "IPY_MODEL_dae566524e52477ba80408896260cb39",
       "max": 20,
       "style": "IPY_MODEL_0604e7cdf0fa47e691d746d25efc1daf",
       "value": 20
      }
     },
     "04b88be5047042c9a5b83a058ff0baf0": {
      "model_module": "@jupyter-widgets/controls",
      "model_module_version": "2.0.0",
      "model_name": "HTMLStyleModel",
      "state": {
       "description_width": "",
       "font_size": null,
       "text_color": null
      }
     },
     "04d5970a0f84435e9c00433226b049ee": {
      "model_module": "@jupyter-widgets/controls",
      "model_module_version": "2.0.0",
      "model_name": "HTMLModel",
      "state": {
       "layout": "IPY_MODEL_3c8388cc0ea44a9cbfc6e861ad69eb7f",
       "style": "IPY_MODEL_6e2ee98c18044eba8e67fd1719633a37",
       "value": " 13/14 [00:01&lt;00:00, 10.39it/s]"
      }
     },
     "04f9f7edec124a93866d94e04c5e7824": {
      "model_module": "@jupyter-widgets/base",
      "model_module_version": "2.0.0",
      "model_name": "LayoutModel",
      "state": {
       "visibility": "hidden"
      }
     },
     "050d463d20cc438ebfce98e2b634f132": {
      "model_module": "@jupyter-widgets/controls",
      "model_module_version": "2.0.0",
      "model_name": "HTMLStyleModel",
      "state": {
       "description_width": "",
       "font_size": null,
       "text_color": null
      }
     },
     "0516437c8d574b8bb233c018f31fad83": {
      "model_module": "@jupyter-widgets/base",
      "model_module_version": "2.0.0",
      "model_name": "LayoutModel",
      "state": {}
     },
     "05354c2edf0044508cbb5d1ac9ae8849": {
      "model_module": "@jupyter-widgets/base",
      "model_module_version": "2.0.0",
      "model_name": "LayoutModel",
      "state": {
       "visibility": "hidden"
      }
     },
     "0543d3e6c1b740429a1cf9b2d010b7ba": {
      "model_module": "@jupyter-widgets/controls",
      "model_module_version": "2.0.0",
      "model_name": "HTMLModel",
      "state": {
       "layout": "IPY_MODEL_95e3c83e3c824d19978ddb23076e61ab",
       "style": "IPY_MODEL_00670dcf8c5649828d1b0e397e279ab1",
       "value": "Epoch 19, Loss: 3.8110: 100%"
      }
     },
     "054781114b554dd9b240fe4f5402d3a3": {
      "model_module": "@jupyter-widgets/base",
      "model_module_version": "2.0.0",
      "model_name": "LayoutModel",
      "state": {}
     },
     "057d982311a24a01826d4c1de415871e": {
      "model_module": "@jupyter-widgets/controls",
      "model_module_version": "2.0.0",
      "model_name": "HTMLModel",
      "state": {
       "layout": "IPY_MODEL_3e9e262ba44041dc9e832c0d34563e50",
       "style": "IPY_MODEL_4d704cb7c43f4b068bfddb7c4781be11",
       "value": "Epoch 13, Loss: 3.0524:  93%"
      }
     },
     "05829c34a88a4dccb3f0e7282c102233": {
      "model_module": "@jupyter-widgets/base",
      "model_module_version": "2.0.0",
      "model_name": "LayoutModel",
      "state": {}
     },
     "059d58d80603494bae81a99d205ec0a4": {
      "model_module": "@jupyter-widgets/controls",
      "model_module_version": "2.0.0",
      "model_name": "HTMLModel",
      "state": {
       "layout": "IPY_MODEL_ad614d43f0ed4f99a43ce9b743286ae5",
       "style": "IPY_MODEL_d0c83d1b17ba4f80b57abe3a38680aab",
       "value": "Epoch 17, Loss: 4.2274: 100%"
      }
     },
     "05aa7dc25e5f40d4bc011a45f1115c41": {
      "model_module": "@jupyter-widgets/base",
      "model_module_version": "2.0.0",
      "model_name": "LayoutModel",
      "state": {}
     },
     "05acb9d59ea2445cb492cc75b7b52a2f": {
      "model_module": "@jupyter-widgets/controls",
      "model_module_version": "2.0.0",
      "model_name": "HTMLStyleModel",
      "state": {
       "description_width": "",
       "font_size": null,
       "text_color": null
      }
     },
     "05b8ca9cb30b479e9eec3c5dfe2c2d78": {
      "model_module": "@jupyter-widgets/base",
      "model_module_version": "2.0.0",
      "model_name": "LayoutModel",
      "state": {}
     },
     "05bbbc21a75c4396a5088962a5836405": {
      "model_module": "@jupyter-widgets/controls",
      "model_module_version": "2.0.0",
      "model_name": "HTMLModel",
      "state": {
       "layout": "IPY_MODEL_efbdf7226dc947e6a3c9d3fcfdde62f8",
       "style": "IPY_MODEL_748ebf9cf0e74529b4e1cee57c3a40e2",
       "value": " 77/77 [00:23&lt;00:00,  3.54it/s]"
      }
     },
     "05e67416536e4071ba4acc6eee170f28": {
      "model_module": "@jupyter-widgets/controls",
      "model_module_version": "2.0.0",
      "model_name": "HTMLModel",
      "state": {
       "layout": "IPY_MODEL_8327cdae9f054eba9ad8469287e55314",
       "style": "IPY_MODEL_0f7fa1cfaa944086a53343ff9b93752d",
       "value": "Epoch 10, Loss: 2.1000: 100%"
      }
     },
     "0604e7cdf0fa47e691d746d25efc1daf": {
      "model_module": "@jupyter-widgets/controls",
      "model_module_version": "2.0.0",
      "model_name": "ProgressStyleModel",
      "state": {
       "description_width": ""
      }
     },
     "061099bfa5b74a638f6c43c6f57ea1d6": {
      "model_module": "@jupyter-widgets/controls",
      "model_module_version": "2.0.0",
      "model_name": "HTMLStyleModel",
      "state": {
       "description_width": "",
       "font_size": null,
       "text_color": null
      }
     },
     "0615a0aff5e8405d8ca2c1456076d361": {
      "model_module": "@jupyter-widgets/controls",
      "model_module_version": "2.0.0",
      "model_name": "HTMLModel",
      "state": {
       "layout": "IPY_MODEL_7338b11bda1044cba643151c6ec24a17",
       "style": "IPY_MODEL_655d758220ed473e8cbc1b9178605c74",
       "value": "Epoch 18, Loss: 4.3324:  96%"
      }
     },
     "061e43f1349d49e68d7a1a53c1f091a7": {
      "model_module": "@jupyter-widgets/controls",
      "model_module_version": "2.0.0",
      "model_name": "HTMLStyleModel",
      "state": {
       "description_width": "",
       "font_size": null,
       "text_color": null
      }
     },
     "0653d197e77546c7a03d06c2e396db69": {
      "model_module": "@jupyter-widgets/base",
      "model_module_version": "2.0.0",
      "model_name": "LayoutModel",
      "state": {}
     },
     "067e585254c240f393cbb0d435a10e64": {
      "model_module": "@jupyter-widgets/controls",
      "model_module_version": "2.0.0",
      "model_name": "HTMLStyleModel",
      "state": {
       "description_width": "",
       "font_size": null,
       "text_color": null
      }
     },
     "067f8d78107c48b0a4f7dacd0e0e07e5": {
      "model_module": "@jupyter-widgets/controls",
      "model_module_version": "2.0.0",
      "model_name": "HTMLStyleModel",
      "state": {
       "description_width": "",
       "font_size": null,
       "text_color": null
      }
     },
     "0684a2094d8c4f91a85f442584983082": {
      "model_module": "@jupyter-widgets/controls",
      "model_module_version": "2.0.0",
      "model_name": "HTMLStyleModel",
      "state": {
       "description_width": "",
       "font_size": null,
       "text_color": null
      }
     },
     "068c3d8ded524b3d9928475828e2ba18": {
      "model_module": "@jupyter-widgets/base",
      "model_module_version": "2.0.0",
      "model_name": "LayoutModel",
      "state": {}
     },
     "068f08ad357043648657f248f1470880": {
      "model_module": "@jupyter-widgets/base",
      "model_module_version": "2.0.0",
      "model_name": "LayoutModel",
      "state": {}
     },
     "0692baf9f869433382d1c83e753a0dc3": {
      "model_module": "@jupyter-widgets/controls",
      "model_module_version": "2.0.0",
      "model_name": "HTMLModel",
      "state": {
       "layout": "IPY_MODEL_f2e035fd78064d108a0c9414a2f053e6",
       "style": "IPY_MODEL_af67aef2370c4cc4859af4b7a39e03ee",
       "value": "Epoch 20, Loss: 3.0085: 100%"
      }
     },
     "07035e470d2e4576904c21b90f8331b4": {
      "model_module": "@jupyter-widgets/controls",
      "model_module_version": "2.0.0",
      "model_name": "HTMLStyleModel",
      "state": {
       "description_width": "",
       "font_size": null,
       "text_color": null
      }
     },
     "0718d9ac3cef4798b904553d9c1ae413": {
      "model_module": "@jupyter-widgets/controls",
      "model_module_version": "2.0.0",
      "model_name": "HTMLModel",
      "state": {
       "layout": "IPY_MODEL_2d7ae316bcf7443b9e73983087f040a1",
       "style": "IPY_MODEL_e06f7ac106f443c6b666dc7843056897",
       "value": " 14/14 [00:01&lt;00:00, 10.28it/s]"
      }
     },
     "0720fd8520a842dbb8c06c3b78414396": {
      "model_module": "@jupyter-widgets/controls",
      "model_module_version": "2.0.0",
      "model_name": "HTMLModel",
      "state": {
       "layout": "IPY_MODEL_d77f60c8d29449728dbabf2a925aa020",
       "style": "IPY_MODEL_f66a2f3e69b94002920824233209a608",
       "value": "Epoch 11, Loss: 3.5440: 100%"
      }
     },
     "072458ddf6e14096b92d542f2847fabf": {
      "model_module": "@jupyter-widgets/base",
      "model_module_version": "2.0.0",
      "model_name": "LayoutModel",
      "state": {}
     },
     "072464b6a9a846b2b86a42d44b7a95a2": {
      "model_module": "@jupyter-widgets/base",
      "model_module_version": "2.0.0",
      "model_name": "LayoutModel",
      "state": {}
     },
     "07495df85e2a429db1087ee2f0aae4d7": {
      "model_module": "@jupyter-widgets/controls",
      "model_module_version": "2.0.0",
      "model_name": "ProgressStyleModel",
      "state": {
       "description_width": ""
      }
     },
     "075ad8571dc0448c94356c5f5c5e46d1": {
      "model_module": "@jupyter-widgets/base",
      "model_module_version": "2.0.0",
      "model_name": "LayoutModel",
      "state": {}
     },
     "0760a28b9fc74c68876ef589c17e4acc": {
      "model_module": "@jupyter-widgets/base",
      "model_module_version": "2.0.0",
      "model_name": "LayoutModel",
      "state": {
       "visibility": "hidden"
      }
     },
     "076358be69d24e7a99333b238860a40e": {
      "model_module": "@jupyter-widgets/controls",
      "model_module_version": "2.0.0",
      "model_name": "HTMLStyleModel",
      "state": {
       "description_width": "",
       "font_size": null,
       "text_color": null
      }
     },
     "0764c39fa0044e50adde7ea2470228db": {
      "model_module": "@jupyter-widgets/controls",
      "model_module_version": "2.0.0",
      "model_name": "HTMLModel",
      "state": {
       "layout": "IPY_MODEL_73b63ac888444be99ed90935706499bc",
       "style": "IPY_MODEL_ec1081ecadb547088df0239c34a74d87",
       "value": "Epoch 14, Loss: 3.3399: 100%"
      }
     },
     "07845cf21d0649eca4324683bee4a867": {
      "model_module": "@jupyter-widgets/base",
      "model_module_version": "2.0.0",
      "model_name": "LayoutModel",
      "state": {
       "visibility": "hidden"
      }
     },
     "0797b2316a924283b385832870a05c15": {
      "model_module": "@jupyter-widgets/controls",
      "model_module_version": "2.0.0",
      "model_name": "HTMLModel",
      "state": {
       "layout": "IPY_MODEL_6764ebd131eb4b228c2ef15fdedd8e7f",
       "style": "IPY_MODEL_8f02b683628f4f12abb39d2431e7278d",
       "value": "Epoch 4, Loss: 3.4546: 100%"
      }
     },
     "07b3b49ba88b4e0ca310cb3042bdaccf": {
      "model_module": "@jupyter-widgets/controls",
      "model_module_version": "2.0.0",
      "model_name": "ProgressStyleModel",
      "state": {
       "description_width": ""
      }
     },
     "07d529265c184bcdbd1c7c3d851d2f0d": {
      "model_module": "@jupyter-widgets/controls",
      "model_module_version": "2.0.0",
      "model_name": "HTMLModel",
      "state": {
       "layout": "IPY_MODEL_78e0b4452be44667b4bf5cd556fcd5c1",
       "style": "IPY_MODEL_20d2ae2e4d1643158f2978dc78ae94ae",
       "value": "Epoch 6, Loss: 2.8618: 100%"
      }
     },
     "07f2238735a84c4c863bb1083aa8e249": {
      "model_module": "@jupyter-widgets/base",
      "model_module_version": "2.0.0",
      "model_name": "LayoutModel",
      "state": {}
     },
     "081da3b69b1747739bc07876e3aa5b8f": {
      "model_module": "@jupyter-widgets/controls",
      "model_module_version": "2.0.0",
      "model_name": "HTMLStyleModel",
      "state": {
       "description_width": "",
       "font_size": null,
       "text_color": null
      }
     },
     "0822e44b020c41e48f75b3ff4c763154": {
      "model_module": "@jupyter-widgets/controls",
      "model_module_version": "2.0.0",
      "model_name": "HTMLStyleModel",
      "state": {
       "description_width": "",
       "font_size": null,
       "text_color": null
      }
     },
     "0851148fa02f429eb914b360acea91a4": {
      "model_module": "@jupyter-widgets/controls",
      "model_module_version": "2.0.0",
      "model_name": "HTMLStyleModel",
      "state": {
       "description_width": "",
       "font_size": null,
       "text_color": null
      }
     },
     "0869a1ce53134571b686dd229d191d05": {
      "model_module": "@jupyter-widgets/base",
      "model_module_version": "2.0.0",
      "model_name": "LayoutModel",
      "state": {}
     },
     "086ec3260b4d4a91bafbf4568be69ea4": {
      "model_module": "@jupyter-widgets/base",
      "model_module_version": "2.0.0",
      "model_name": "LayoutModel",
      "state": {}
     },
     "087e3b7bb026447ab708b9c91c66bac8": {
      "model_module": "@jupyter-widgets/base",
      "model_module_version": "2.0.0",
      "model_name": "LayoutModel",
      "state": {}
     },
     "08858f35047e4f69b1abe59c8f969fac": {
      "model_module": "@jupyter-widgets/controls",
      "model_module_version": "2.0.0",
      "model_name": "FloatProgressModel",
      "state": {
       "layout": "IPY_MODEL_2ac471102349436dbb12b1cc3e926ef4",
       "max": 32,
       "style": "IPY_MODEL_9c75d92f0dcc494c8a10d849b50ced34",
       "value": 32
      }
     },
     "08947d2dd43f4a1ebeed93c637cf6dda": {
      "model_module": "@jupyter-widgets/base",
      "model_module_version": "2.0.0",
      "model_name": "LayoutModel",
      "state": {}
     },
     "089de8d98a7c4febaa414cfadccedf37": {
      "model_module": "@jupyter-widgets/controls",
      "model_module_version": "2.0.0",
      "model_name": "FloatProgressModel",
      "state": {
       "layout": "IPY_MODEL_72f80f5f7dc340828d71ec1dbe01dc22",
       "max": 14,
       "style": "IPY_MODEL_326ffeeb9cd74d439c192eb50cb09ed4",
       "value": 14
      }
     },
     "0904a87b5f3740b09716418de63587b7": {
      "model_module": "@jupyter-widgets/controls",
      "model_module_version": "2.0.0",
      "model_name": "HTMLModel",
      "state": {
       "layout": "IPY_MODEL_9a77dd6bca8d44ce9307d047d2e3c6a4",
       "style": "IPY_MODEL_335ea7e0c6ee48d1b0c9cd6b8afc4e34",
       "value": " 32/32 [00:09&lt;00:00,  3.43it/s]"
      }
     },
     "095cccc5f2fb4a5898db39eb92198017": {
      "model_module": "@jupyter-widgets/controls",
      "model_module_version": "2.0.0",
      "model_name": "FloatProgressModel",
      "state": {
       "layout": "IPY_MODEL_98f9870eb2714681b530179e631bdea4",
       "max": 32,
       "style": "IPY_MODEL_632f73745a524ab2abc1ad69986e2028",
       "value": 32
      }
     },
     "096d379a005d4ac9acca5d897ec3d8c1": {
      "model_module": "@jupyter-widgets/base",
      "model_module_version": "2.0.0",
      "model_name": "LayoutModel",
      "state": {}
     },
     "0977bbcc7428435582f3c419836a2ca5": {
      "model_module": "@jupyter-widgets/base",
      "model_module_version": "2.0.0",
      "model_name": "LayoutModel",
      "state": {
       "visibility": "hidden"
      }
     },
     "098081ceb4e14549b386f76a1edea040": {
      "model_module": "@jupyter-widgets/base",
      "model_module_version": "2.0.0",
      "model_name": "LayoutModel",
      "state": {}
     },
     "09854a0a6f024aa59599ad0e0eb84559": {
      "model_module": "@jupyter-widgets/controls",
      "model_module_version": "2.0.0",
      "model_name": "HTMLStyleModel",
      "state": {
       "description_width": "",
       "font_size": null,
       "text_color": null
      }
     },
     "098cb60108314c39aaee070a76c6f377": {
      "model_module": "@jupyter-widgets/controls",
      "model_module_version": "2.0.0",
      "model_name": "HTMLModel",
      "state": {
       "layout": "IPY_MODEL_56c55f3c38084d84ba3bf62bedf94e17",
       "style": "IPY_MODEL_31237576f58344419fa1268e76722abc",
       "value": "Epoch 1995, Loss: -24.4653: 100%"
      }
     },
     "09c36e217caa40aa84ff98259e633948": {
      "model_module": "@jupyter-widgets/controls",
      "model_module_version": "2.0.0",
      "model_name": "FloatProgressModel",
      "state": {
       "layout": "IPY_MODEL_f0e3be65910945168eafa3ba6236a4e4",
       "max": 77,
       "style": "IPY_MODEL_401c9a8e40c14cfcafe1914af2393cf9",
       "value": 77
      }
     },
     "09cb76ed27974d91966ea5ee1bda150a": {
      "model_module": "@jupyter-widgets/base",
      "model_module_version": "2.0.0",
      "model_name": "LayoutModel",
      "state": {}
     },
     "09cd73c1edc44574a31ac6abb2b96528": {
      "model_module": "@jupyter-widgets/controls",
      "model_module_version": "2.0.0",
      "model_name": "ProgressStyleModel",
      "state": {
       "description_width": ""
      }
     },
     "09f17e4d90224f48af12478072707acb": {
      "model_module": "@jupyter-widgets/base",
      "model_module_version": "2.0.0",
      "model_name": "LayoutModel",
      "state": {}
     },
     "0a51d466569a4204b5b65d574101b1bd": {
      "model_module": "@jupyter-widgets/base",
      "model_module_version": "2.0.0",
      "model_name": "LayoutModel",
      "state": {}
     },
     "0a5929cecf0a4c1e9b0393e50d806825": {
      "model_module": "@jupyter-widgets/controls",
      "model_module_version": "2.0.0",
      "model_name": "HTMLStyleModel",
      "state": {
       "description_width": "",
       "font_size": null,
       "text_color": null
      }
     },
     "0a5c8164feda4747b2d23a345db90b58": {
      "model_module": "@jupyter-widgets/base",
      "model_module_version": "2.0.0",
      "model_name": "LayoutModel",
      "state": {}
     },
     "0a8c0be766284aee82994a68893b909d": {
      "model_module": "@jupyter-widgets/base",
      "model_module_version": "2.0.0",
      "model_name": "LayoutModel",
      "state": {}
     },
     "0ac49eb4f23546d282d63c5c77e0f8df": {
      "model_module": "@jupyter-widgets/controls",
      "model_module_version": "2.0.0",
      "model_name": "HTMLModel",
      "state": {
       "layout": "IPY_MODEL_e194003efdef444d98fa3ae28fc19a8f",
       "style": "IPY_MODEL_592bb3701d454997af50cf90ef7d8995",
       "value": "Epoch 7, Loss: 2.0975: 100%"
      }
     },
     "0aff7f02b5d445faae23a63c40335a22": {
      "model_module": "@jupyter-widgets/controls",
      "model_module_version": "2.0.0",
      "model_name": "HTMLModel",
      "state": {
       "layout": "IPY_MODEL_7dd1d00dfc324e0db2ea757af62a4961",
       "style": "IPY_MODEL_cfd76bf466414e849bbff4cf1abb268b",
       "value": " 77/77 [00:27&lt;00:00,  2.90it/s]"
      }
     },
     "0b07a9c88b1e4be09cabead77ac0d09c": {
      "model_module": "@jupyter-widgets/controls",
      "model_module_version": "2.0.0",
      "model_name": "FloatProgressModel",
      "state": {
       "layout": "IPY_MODEL_0516437c8d574b8bb233c018f31fad83",
       "max": 14,
       "style": "IPY_MODEL_161b013310d34d279d2aac84175207d7",
       "value": 14
      }
     },
     "0b0cdeb12f6d4c8c8f92d18b57148bd2": {
      "model_module": "@jupyter-widgets/base",
      "model_module_version": "2.0.0",
      "model_name": "LayoutModel",
      "state": {}
     },
     "0b19bd0bc4554996939ef04dd6d421f4": {
      "model_module": "@jupyter-widgets/controls",
      "model_module_version": "2.0.0",
      "model_name": "HTMLModel",
      "state": {
       "layout": "IPY_MODEL_1110576d4ef94506a225a443c179472d",
       "style": "IPY_MODEL_cc85208f7b6c4f29b31cb3f7a6e6e9a7",
       "value": "Epoch 16, Loss: 2.0492: 100%"
      }
     },
     "0b2d2febe86c46a28af8f42cb17149d3": {
      "model_module": "@jupyter-widgets/controls",
      "model_module_version": "2.0.0",
      "model_name": "HTMLModel",
      "state": {
       "layout": "IPY_MODEL_9d747fb447ec476a918f36760fdbf846",
       "style": "IPY_MODEL_4190fc6af5f94edf9ed74683fb08792a",
       "value": "Epoch 9, Loss: 3.3739:  96%"
      }
     },
     "0b4543061e3a41b4a9c3a9a320a6986c": {
      "model_module": "@jupyter-widgets/controls",
      "model_module_version": "2.0.0",
      "model_name": "FloatProgressModel",
      "state": {
       "layout": "IPY_MODEL_959ffda79d634d91b424b2cb08211575",
       "max": 23,
       "style": "IPY_MODEL_3b680833819440638488990b91c0c140",
       "value": 23
      }
     },
     "0b4abb0809f44c9aa4f53736c0ec8839": {
      "model_module": "@jupyter-widgets/base",
      "model_module_version": "2.0.0",
      "model_name": "LayoutModel",
      "state": {}
     },
     "0b5d6b576b674ba3a253c14510181a17": {
      "model_module": "@jupyter-widgets/base",
      "model_module_version": "2.0.0",
      "model_name": "LayoutModel",
      "state": {}
     },
     "0b60672fbd874cc6a1f741c1bf0f9141": {
      "model_module": "@jupyter-widgets/base",
      "model_module_version": "2.0.0",
      "model_name": "LayoutModel",
      "state": {
       "visibility": "hidden"
      }
     },
     "0b7a5f27d18e4c518e7b27951bbfd21a": {
      "model_module": "@jupyter-widgets/base",
      "model_module_version": "2.0.0",
      "model_name": "LayoutModel",
      "state": {}
     },
     "0b8a5d987bd54e13af786c5f82e4a62b": {
      "model_module": "@jupyter-widgets/base",
      "model_module_version": "2.0.0",
      "model_name": "LayoutModel",
      "state": {
       "visibility": "hidden"
      }
     },
     "0b931171929b4d9f94010081c4ef0fde": {
      "model_module": "@jupyter-widgets/controls",
      "model_module_version": "2.0.0",
      "model_name": "HTMLStyleModel",
      "state": {
       "description_width": "",
       "font_size": null,
       "text_color": null
      }
     },
     "0bc801899a52411596259e1b20e28088": {
      "model_module": "@jupyter-widgets/base",
      "model_module_version": "2.0.0",
      "model_name": "LayoutModel",
      "state": {}
     },
     "0bc974e4c6f74803b8215efda80f7131": {
      "model_module": "@jupyter-widgets/base",
      "model_module_version": "2.0.0",
      "model_name": "LayoutModel",
      "state": {
       "visibility": "hidden"
      }
     },
     "0bd55e65f00b440ca0711e5689f6ed99": {
      "model_module": "@jupyter-widgets/controls",
      "model_module_version": "2.0.0",
      "model_name": "HTMLModel",
      "state": {
       "layout": "IPY_MODEL_315eee766b044831ba051d165ea75d59",
       "style": "IPY_MODEL_629a62a7f6524c31b19481e456da99fa",
       "value": " 32/32 [00:09&lt;00:00,  3.48it/s]"
      }
     },
     "0bf75e1391f44ea4a57d7351f8f860cd": {
      "model_module": "@jupyter-widgets/controls",
      "model_module_version": "2.0.0",
      "model_name": "HTMLModel",
      "state": {
       "layout": "IPY_MODEL_c06a248cf0804ab49981b5efaa86f29c",
       "style": "IPY_MODEL_7ada8744fcf942609436b13c526e0465",
       "value": " 14/14 [00:01&lt;00:00,  9.95it/s]"
      }
     },
     "0c3093c37925421db7a64ef3174be5ce": {
      "model_module": "@jupyter-widgets/controls",
      "model_module_version": "2.0.0",
      "model_name": "FloatProgressModel",
      "state": {
       "layout": "IPY_MODEL_3c79260f520245a5a59fa40b00ff7249",
       "max": 14,
       "style": "IPY_MODEL_d81ee24150bc405dbd112cd332b49fb4",
       "value": 14
      }
     },
     "0c32dc78a1e84b6b96f7c956050e0db5": {
      "model_module": "@jupyter-widgets/base",
      "model_module_version": "2.0.0",
      "model_name": "LayoutModel",
      "state": {}
     },
     "0c62275b50d04f1c9c8ac2def88ddcb5": {
      "model_module": "@jupyter-widgets/controls",
      "model_module_version": "2.0.0",
      "model_name": "HTMLStyleModel",
      "state": {
       "description_width": "",
       "font_size": null,
       "text_color": null
      }
     },
     "0c7fd9b7a79e4a5cb7125539f940953e": {
      "model_module": "@jupyter-widgets/controls",
      "model_module_version": "2.0.0",
      "model_name": "HTMLModel",
      "state": {
       "layout": "IPY_MODEL_0a51d466569a4204b5b65d574101b1bd",
       "style": "IPY_MODEL_f0c415d50e26406e965d57b7d04f99fb",
       "value": "Epoch 14, Loss: 4.4518: 100%"
      }
     },
     "0c95cb3b227a4aef9e3a6d2864cc802c": {
      "model_module": "@jupyter-widgets/base",
      "model_module_version": "2.0.0",
      "model_name": "LayoutModel",
      "state": {
       "visibility": "hidden"
      }
     },
     "0c9cbafc58274d799a7de86f7e399792": {
      "model_module": "@jupyter-widgets/controls",
      "model_module_version": "2.0.0",
      "model_name": "HTMLModel",
      "state": {
       "layout": "IPY_MODEL_f995f4de09df477a9f7b7e02ca413b35",
       "style": "IPY_MODEL_60cd85dc40034d44901dd989314a365c",
       "value": "Epoch 6, Loss: 2.8868: 100%"
      }
     },
     "0ca8cb6e15074de993c3f837a156674b": {
      "model_module": "@jupyter-widgets/controls",
      "model_module_version": "2.0.0",
      "model_name": "HTMLStyleModel",
      "state": {
       "description_width": "",
       "font_size": null,
       "text_color": null
      }
     },
     "0cae38ef8c5e4284afcaf90dba1fef96": {
      "model_module": "@jupyter-widgets/controls",
      "model_module_version": "2.0.0",
      "model_name": "ProgressStyleModel",
      "state": {
       "description_width": ""
      }
     },
     "0cf7fcc71a104a5d924625058e4796fa": {
      "model_module": "@jupyter-widgets/base",
      "model_module_version": "2.0.0",
      "model_name": "LayoutModel",
      "state": {}
     },
     "0d1899765e2343cc8a5d298100c1c61b": {
      "model_module": "@jupyter-widgets/base",
      "model_module_version": "2.0.0",
      "model_name": "LayoutModel",
      "state": {}
     },
     "0d1a5cd41e1a4c87827c102627e47c0f": {
      "model_module": "@jupyter-widgets/controls",
      "model_module_version": "2.0.0",
      "model_name": "HTMLStyleModel",
      "state": {
       "description_width": "",
       "font_size": null,
       "text_color": null
      }
     },
     "0d289b537a8e4c20a9deb0d3cf795d88": {
      "model_module": "@jupyter-widgets/controls",
      "model_module_version": "2.0.0",
      "model_name": "HTMLStyleModel",
      "state": {
       "description_width": "",
       "font_size": null,
       "text_color": null
      }
     },
     "0d2e70e2ea42429f940df32166552718": {
      "model_module": "@jupyter-widgets/controls",
      "model_module_version": "2.0.0",
      "model_name": "HTMLModel",
      "state": {
       "layout": "IPY_MODEL_8b28adff057c4764baaa25460b0feb27",
       "style": "IPY_MODEL_c15b86286b1c43be96d701229f3ceed5",
       "value": "Epoch 14, Loss: 2.2630: 100%"
      }
     },
     "0d4a515334d24c809f4108303e93972e": {
      "model_module": "@jupyter-widgets/base",
      "model_module_version": "2.0.0",
      "model_name": "LayoutModel",
      "state": {
       "visibility": "hidden"
      }
     },
     "0d678fc425ad422884a445ba0cea424a": {
      "model_module": "@jupyter-widgets/controls",
      "model_module_version": "2.0.0",
      "model_name": "HTMLModel",
      "state": {
       "layout": "IPY_MODEL_8ab0523b72e5438ca9f90e10ad6a673e",
       "style": "IPY_MODEL_4546cee4936e46ed96558c8c093042c3",
       "value": " 13/14 [00:01&lt;00:00, 10.20it/s]"
      }
     },
     "0d7ceb13d5bb47ccb49aff1b2e5fe1e2": {
      "model_module": "@jupyter-widgets/controls",
      "model_module_version": "2.0.0",
      "model_name": "HTMLModel",
      "state": {
       "layout": "IPY_MODEL_65f39d8a82194fbea04ddc55fe426373",
       "style": "IPY_MODEL_7525aa8c6eff4d0eac601d866ce78a27",
       "value": " 14/14 [00:01&lt;00:00, 10.28it/s]"
      }
     },
     "0d9d5de3ebed409ca831a2c5b2e78811": {
      "model_module": "@jupyter-widgets/controls",
      "model_module_version": "2.0.0",
      "model_name": "HTMLStyleModel",
      "state": {
       "description_width": "",
       "font_size": null,
       "text_color": null
      }
     },
     "0dc500626f504b87836508aea98a4687": {
      "model_module": "@jupyter-widgets/base",
      "model_module_version": "2.0.0",
      "model_name": "LayoutModel",
      "state": {
       "visibility": "hidden"
      }
     },
     "0dc8c00276464c89bea0605af08449d4": {
      "model_module": "@jupyter-widgets/base",
      "model_module_version": "2.0.0",
      "model_name": "LayoutModel",
      "state": {
       "visibility": "hidden"
      }
     },
     "0def8dac16e5451aba4fde355a623d2a": {
      "model_module": "@jupyter-widgets/controls",
      "model_module_version": "2.0.0",
      "model_name": "HTMLModel",
      "state": {
       "layout": "IPY_MODEL_4e3a85eeb19e47a3a7cfed0b3f5c075f",
       "style": "IPY_MODEL_7a2856a8526d4735aea933df13352fb1",
       "value": " 32/32 [00:10&lt;00:00,  3.24it/s]"
      }
     },
     "0dfefa4ca9304048921b77413cd5bb28": {
      "model_module": "@jupyter-widgets/controls",
      "model_module_version": "2.0.0",
      "model_name": "HTMLStyleModel",
      "state": {
       "description_width": "",
       "font_size": null,
       "text_color": null
      }
     },
     "0e0a0f5794454c3d814ab0e5acfaf2cd": {
      "model_module": "@jupyter-widgets/controls",
      "model_module_version": "2.0.0",
      "model_name": "HTMLStyleModel",
      "state": {
       "description_width": "",
       "font_size": null,
       "text_color": null
      }
     },
     "0e2e9a06e4a84db6b776e0f96a1cac80": {
      "model_module": "@jupyter-widgets/base",
      "model_module_version": "2.0.0",
      "model_name": "LayoutModel",
      "state": {}
     },
     "0e580ccb7fce4811b302646fc8c1f8fe": {
      "model_module": "@jupyter-widgets/base",
      "model_module_version": "2.0.0",
      "model_name": "LayoutModel",
      "state": {
       "visibility": "hidden"
      }
     },
     "0e5c6d007d9c4edba6ca5715ec487d5f": {
      "model_module": "@jupyter-widgets/base",
      "model_module_version": "2.0.0",
      "model_name": "LayoutModel",
      "state": {
       "visibility": "hidden"
      }
     },
     "0e8c44ae329e4a638f01db14b933bb17": {
      "model_module": "@jupyter-widgets/controls",
      "model_module_version": "2.0.0",
      "model_name": "HTMLStyleModel",
      "state": {
       "description_width": "",
       "font_size": null,
       "text_color": null
      }
     },
     "0e94865c57a6441eaedba69c19782067": {
      "model_module": "@jupyter-widgets/controls",
      "model_module_version": "2.0.0",
      "model_name": "ProgressStyleModel",
      "state": {
       "description_width": ""
      }
     },
     "0eb4a653ec0a4f4588492a9f908b3241": {
      "model_module": "@jupyter-widgets/base",
      "model_module_version": "2.0.0",
      "model_name": "LayoutModel",
      "state": {}
     },
     "0ed0a7395187463380a4dd705c82906a": {
      "model_module": "@jupyter-widgets/controls",
      "model_module_version": "2.0.0",
      "model_name": "HTMLModel",
      "state": {
       "layout": "IPY_MODEL_2caee58a246c48c0829fdef97ad8aff9",
       "style": "IPY_MODEL_2f157f0cfad14ad18d0229df4a82a59f",
       "value": " 20/20 [04:04&lt;00:00, 11.87s/epoch]"
      }
     },
     "0ed5f6ada9374fec88bc6529b1205e8e": {
      "model_module": "@jupyter-widgets/base",
      "model_module_version": "2.0.0",
      "model_name": "LayoutModel",
      "state": {}
     },
     "0ede15e1bbfb40ea8e174915e4b1a081": {
      "model_module": "@jupyter-widgets/base",
      "model_module_version": "2.0.0",
      "model_name": "LayoutModel",
      "state": {
       "visibility": "hidden"
      }
     },
     "0ef7fbb16f42455c9179d70dea477cef": {
      "model_module": "@jupyter-widgets/controls",
      "model_module_version": "2.0.0",
      "model_name": "FloatProgressModel",
      "state": {
       "layout": "IPY_MODEL_281a74156c8441f6b4a12ba25f4b7031",
       "max": 63,
       "style": "IPY_MODEL_b8f698de93d54408a92c0c00b36d0b18",
       "value": 63
      }
     },
     "0f0ad192513f4688af4be746fab539cf": {
      "model_module": "@jupyter-widgets/controls",
      "model_module_version": "2.0.0",
      "model_name": "HTMLModel",
      "state": {
       "layout": "IPY_MODEL_386cc71a07914b57bc0765a44ddb1a34",
       "style": "IPY_MODEL_95f20e8e4c874c38b994c05d6fa0567e",
       "value": " 32/32 [00:10&lt;00:00,  3.15it/s]"
      }
     },
     "0f11e73439c4410893aabf00c3c4e9bd": {
      "model_module": "@jupyter-widgets/controls",
      "model_module_version": "2.0.0",
      "model_name": "HTMLModel",
      "state": {
       "layout": "IPY_MODEL_f0ff050a9b3a441cbcd6f44eb62f2bb3",
       "style": "IPY_MODEL_888c05c05b374ce5b60c815857e2871f",
       "value": " 77/77 [00:28&lt;00:00,  2.91it/s]"
      }
     },
     "0f26342c256f4526ac730092d2fdf755": {
      "model_module": "@jupyter-widgets/controls",
      "model_module_version": "2.0.0",
      "model_name": "HTMLModel",
      "state": {
       "layout": "IPY_MODEL_cb3ac282a53e4d279607db8ca899a90c",
       "style": "IPY_MODEL_14210cc09767469c9167890a39a2b73f",
       "value": " 32/32 [00:11&lt;00:00,  2.79it/s]"
      }
     },
     "0f318216d2a347319819e813c2d87d17": {
      "model_module": "@jupyter-widgets/controls",
      "model_module_version": "2.0.0",
      "model_name": "HTMLModel",
      "state": {
       "layout": "IPY_MODEL_725ba984cdee401e8ae185b525df7d25",
       "style": "IPY_MODEL_c8c3e926095f40b794b244d5e1283b90",
       "value": "Epoch 11, Loss: 2.1350: 100%"
      }
     },
     "0f46d318d7b0456bae7da092cfc3e060": {
      "model_module": "@jupyter-widgets/base",
      "model_module_version": "2.0.0",
      "model_name": "LayoutModel",
      "state": {}
     },
     "0f4923411534434da231806ef9f4a369": {
      "model_module": "@jupyter-widgets/controls",
      "model_module_version": "2.0.0",
      "model_name": "HTMLStyleModel",
      "state": {
       "description_width": "",
       "font_size": null,
       "text_color": null
      }
     },
     "0f60847565234b26b015346121b09c2e": {
      "model_module": "@jupyter-widgets/controls",
      "model_module_version": "2.0.0",
      "model_name": "HTMLModel",
      "state": {
       "layout": "IPY_MODEL_8c3b2f14bca047a986fbee85a9bebdbb",
       "style": "IPY_MODEL_86bc243dfd63488c88bf23ea17efd6fb",
       "value": " 14/14 [00:01&lt;00:00, 10.34it/s]"
      }
     },
     "0f61e8540973418fb626453c3167dc67": {
      "model_module": "@jupyter-widgets/controls",
      "model_module_version": "2.0.0",
      "model_name": "HTMLStyleModel",
      "state": {
       "description_width": "",
       "font_size": null,
       "text_color": null
      }
     },
     "0f7513dd32504171aa0a4937f2002b4c": {
      "model_module": "@jupyter-widgets/controls",
      "model_module_version": "2.0.0",
      "model_name": "HTMLModel",
      "state": {
       "layout": "IPY_MODEL_0653d197e77546c7a03d06c2e396db69",
       "style": "IPY_MODEL_42197ce051184ea290e36724f982be22",
       "value": "Epoch 19, Loss: 4.1993:  93%"
      }
     },
     "0f7fa1cfaa944086a53343ff9b93752d": {
      "model_module": "@jupyter-widgets/controls",
      "model_module_version": "2.0.0",
      "model_name": "HTMLStyleModel",
      "state": {
       "description_width": "",
       "font_size": null,
       "text_color": null
      }
     },
     "0f908658a28f4e49930620e2c78d2c0e": {
      "model_module": "@jupyter-widgets/base",
      "model_module_version": "2.0.0",
      "model_name": "LayoutModel",
      "state": {}
     },
     "0fa8d24d07ac4d4295ff72fc66c65448": {
      "model_module": "@jupyter-widgets/controls",
      "model_module_version": "2.0.0",
      "model_name": "FloatProgressModel",
      "state": {
       "layout": "IPY_MODEL_73173d132972442e8d7d5b33186d79f3",
       "max": 32,
       "style": "IPY_MODEL_7934cc7e8c6f4f43becfee8d93207398",
       "value": 32
      }
     },
     "0fd28c9e46634435b3b4523be3906019": {
      "model_module": "@jupyter-widgets/controls",
      "model_module_version": "2.0.0",
      "model_name": "HTMLStyleModel",
      "state": {
       "description_width": "",
       "font_size": null,
       "text_color": null
      }
     },
     "10055870be8a4be8b206f7e83384878d": {
      "model_module": "@jupyter-widgets/base",
      "model_module_version": "2.0.0",
      "model_name": "LayoutModel",
      "state": {}
     },
     "1018c354021448229eb18cc1884269ae": {
      "model_module": "@jupyter-widgets/base",
      "model_module_version": "2.0.0",
      "model_name": "LayoutModel",
      "state": {}
     },
     "102e702b2c46402dbabc07aa65662306": {
      "model_module": "@jupyter-widgets/controls",
      "model_module_version": "2.0.0",
      "model_name": "HTMLStyleModel",
      "state": {
       "description_width": "",
       "font_size": null,
       "text_color": null
      }
     },
     "109a8edc0d594c519fa6a2f3a350479a": {
      "model_module": "@jupyter-widgets/controls",
      "model_module_version": "2.0.0",
      "model_name": "FloatProgressModel",
      "state": {
       "layout": "IPY_MODEL_6995f2daf55a4e42b60989e378bba74f",
       "max": 63,
       "style": "IPY_MODEL_3df3c64839034917944198f8a04e9428",
       "value": 63
      }
     },
     "10a5d146e23848c4b0553c3bb9448d6a": {
      "model_module": "@jupyter-widgets/base",
      "model_module_version": "2.0.0",
      "model_name": "LayoutModel",
      "state": {
       "visibility": "hidden"
      }
     },
     "10dd853411664b41b2269a970b6be2ee": {
      "model_module": "@jupyter-widgets/controls",
      "model_module_version": "2.0.0",
      "model_name": "HTMLModel",
      "state": {
       "layout": "IPY_MODEL_5287104f228f4d529e3e86864397ebf3",
       "style": "IPY_MODEL_3c53c1c9be6147ea885b6be302a05072",
       "value": "Epoch 6, Loss: 3.5747: 100%"
      }
     },
     "1107d1fbf099457f83083539d83133ab": {
      "model_module": "@jupyter-widgets/base",
      "model_module_version": "2.0.0",
      "model_name": "LayoutModel",
      "state": {}
     },
     "1110576d4ef94506a225a443c179472d": {
      "model_module": "@jupyter-widgets/base",
      "model_module_version": "2.0.0",
      "model_name": "LayoutModel",
      "state": {}
     },
     "118c0c82ea69419cb13b5fc1f5aad3df": {
      "model_module": "@jupyter-widgets/base",
      "model_module_version": "2.0.0",
      "model_name": "LayoutModel",
      "state": {}
     },
     "11935c16828a43f89e4a9a1745c9fa41": {
      "model_module": "@jupyter-widgets/controls",
      "model_module_version": "2.0.0",
      "model_name": "FloatProgressModel",
      "state": {
       "layout": "IPY_MODEL_0b0cdeb12f6d4c8c8f92d18b57148bd2",
       "max": 14,
       "style": "IPY_MODEL_8a5f2e546d4e4f959a35a03bddb4f43c",
       "value": 14
      }
     },
     "1195a8252f2c42c3b2a106829a52b797": {
      "model_module": "@jupyter-widgets/controls",
      "model_module_version": "2.0.0",
      "model_name": "HTMLModel",
      "state": {
       "layout": "IPY_MODEL_7ef43a6011e4422a8a277a3600bfe3e0",
       "style": "IPY_MODEL_5350aec8fcb5412aa39ad2f87c9871bc",
       "value": " 77/77 [00:23&lt;00:00,  3.43it/s]"
      }
     },
     "11a6d4d488b740048f86eedfa69c4763": {
      "model_module": "@jupyter-widgets/controls",
      "model_module_version": "2.0.0",
      "model_name": "HTMLStyleModel",
      "state": {
       "description_width": "",
       "font_size": null,
       "text_color": null
      }
     },
     "11a75fd887184a01ade29d43e1c1de6b": {
      "model_module": "@jupyter-widgets/controls",
      "model_module_version": "2.0.0",
      "model_name": "ProgressStyleModel",
      "state": {
       "description_width": ""
      }
     },
     "11b092c721c644ae93f535f9e9221c0e": {
      "model_module": "@jupyter-widgets/controls",
      "model_module_version": "2.0.0",
      "model_name": "ProgressStyleModel",
      "state": {
       "description_width": ""
      }
     },
     "11b1c054ee074631b6cdfb5fac7d558e": {
      "model_module": "@jupyter-widgets/controls",
      "model_module_version": "2.0.0",
      "model_name": "HTMLStyleModel",
      "state": {
       "description_width": "",
       "font_size": null,
       "text_color": null
      }
     },
     "11bf4c7bb2fa48ea8f1003158c377c6f": {
      "model_module": "@jupyter-widgets/controls",
      "model_module_version": "2.0.0",
      "model_name": "HTMLModel",
      "state": {
       "layout": "IPY_MODEL_1d94e33b945142049dd9f14f928163aa",
       "style": "IPY_MODEL_2da50066823549678da425f7a1a4b34c",
       "value": " 13/14 [00:01&lt;00:00, 10.03it/s]"
      }
     },
     "11c8e27f7718420b8bef848aecfd2d1e": {
      "model_module": "@jupyter-widgets/base",
      "model_module_version": "2.0.0",
      "model_name": "LayoutModel",
      "state": {}
     },
     "11e6f2e5f8c9453d89a9f4542afae53f": {
      "model_module": "@jupyter-widgets/base",
      "model_module_version": "2.0.0",
      "model_name": "LayoutModel",
      "state": {
       "visibility": "hidden"
      }
     },
     "11e872fbd52b4e0dbe44aa4dfbc89b07": {
      "model_module": "@jupyter-widgets/base",
      "model_module_version": "2.0.0",
      "model_name": "LayoutModel",
      "state": {}
     },
     "11f89313c7724a49ab2a6003db678c84": {
      "model_module": "@jupyter-widgets/base",
      "model_module_version": "2.0.0",
      "model_name": "LayoutModel",
      "state": {}
     },
     "122cc49cba6e48f6aea62268c1a002f0": {
      "model_module": "@jupyter-widgets/base",
      "model_module_version": "2.0.0",
      "model_name": "LayoutModel",
      "state": {}
     },
     "122d50f54f97482888cef6618446d539": {
      "model_module": "@jupyter-widgets/controls",
      "model_module_version": "2.0.0",
      "model_name": "HTMLStyleModel",
      "state": {
       "description_width": "",
       "font_size": null,
       "text_color": null
      }
     },
     "123c7a493fe0459c8dd052d8c0ce441d": {
      "model_module": "@jupyter-widgets/controls",
      "model_module_version": "2.0.0",
      "model_name": "HTMLModel",
      "state": {
       "layout": "IPY_MODEL_9855b3522c444954999e164579a6a438",
       "style": "IPY_MODEL_172b310b01754d9f97667245c5aab4e2",
       "value": " 63/63 [00:20&lt;00:00,  3.25it/s]"
      }
     },
     "1242524b1de645aaaf4837e55e368e05": {
      "model_module": "@jupyter-widgets/controls",
      "model_module_version": "2.0.0",
      "model_name": "HTMLStyleModel",
      "state": {
       "description_width": "",
       "font_size": null,
       "text_color": null
      }
     },
     "1276fef8da91482c9323132a38cf243f": {
      "model_module": "@jupyter-widgets/base",
      "model_module_version": "2.0.0",
      "model_name": "LayoutModel",
      "state": {}
     },
     "1285d5c9a1954bda8da40543cace4b53": {
      "model_module": "@jupyter-widgets/controls",
      "model_module_version": "2.0.0",
      "model_name": "HTMLStyleModel",
      "state": {
       "description_width": "",
       "font_size": null,
       "text_color": null
      }
     },
     "128ae3507c534667bea5ee125b470f96": {
      "model_module": "@jupyter-widgets/controls",
      "model_module_version": "2.0.0",
      "model_name": "HTMLModel",
      "state": {
       "layout": "IPY_MODEL_132b0a2de654469ead2e2189224f1d47",
       "style": "IPY_MODEL_067e585254c240f393cbb0d435a10e64",
       "value": " 13/14 [00:01&lt;00:00,  9.72it/s]"
      }
     },
     "12af13457ed94acd9027616346e20184": {
      "model_module": "@jupyter-widgets/controls",
      "model_module_version": "2.0.0",
      "model_name": "FloatProgressModel",
      "state": {
       "layout": "IPY_MODEL_4f116a684561484c8db5b3760e7ec2ab",
       "max": 14,
       "style": "IPY_MODEL_eaea67fa681046a59107a85821cf892e",
       "value": 14
      }
     },
     "12d7284fa28640ed8ab2d53c22c4a6cf": {
      "model_module": "@jupyter-widgets/controls",
      "model_module_version": "2.0.0",
      "model_name": "HTMLModel",
      "state": {
       "layout": "IPY_MODEL_de79986111674d92a2d25c4e5d582f89",
       "style": "IPY_MODEL_eaba578360374c359e5a2b757182a0a5",
       "value": "Epoch 8, Loss: 2.8924: 100%"
      }
     },
     "13061886653041508198beff106ee979": {
      "model_module": "@jupyter-widgets/controls",
      "model_module_version": "2.0.0",
      "model_name": "FloatProgressModel",
      "state": {
       "layout": "IPY_MODEL_b8c020646e3d49d996781a638915295c",
       "max": 32,
       "style": "IPY_MODEL_15bac123afcc4c0e87fdae79431d2910",
       "value": 32
      }
     },
     "1327bc6716bf454e9d816d8587945954": {
      "model_module": "@jupyter-widgets/controls",
      "model_module_version": "2.0.0",
      "model_name": "HTMLModel",
      "state": {
       "layout": "IPY_MODEL_ed27074a90c140dab01962d02fda9def",
       "style": "IPY_MODEL_1cedf2115caf4951a2a4e7c61fc32bce",
       "value": " 77/77 [00:25&lt;00:00,  3.38it/s]"
      }
     },
     "132b0a2de654469ead2e2189224f1d47": {
      "model_module": "@jupyter-widgets/base",
      "model_module_version": "2.0.0",
      "model_name": "LayoutModel",
      "state": {}
     },
     "1348a89f44834d698c8baebe1375f1a0": {
      "model_module": "@jupyter-widgets/base",
      "model_module_version": "2.0.0",
      "model_name": "LayoutModel",
      "state": {}
     },
     "1349a18c2bb6465ea4c2275cdc1affe0": {
      "model_module": "@jupyter-widgets/controls",
      "model_module_version": "2.0.0",
      "model_name": "FloatProgressModel",
      "state": {
       "layout": "IPY_MODEL_50153652ad574d92b91b7d259e8c99e6",
       "max": 14,
       "style": "IPY_MODEL_e55358294439466394cd00cc7fe3f568",
       "value": 14
      }
     },
     "136a8653e41c4394b0d88aabf572b3f7": {
      "model_module": "@jupyter-widgets/controls",
      "model_module_version": "2.0.0",
      "model_name": "FloatProgressModel",
      "state": {
       "layout": "IPY_MODEL_522024a7437141a790632e89b3169cb1",
       "max": 14,
       "style": "IPY_MODEL_c32caed6fe6648808c1104d7fa31a937",
       "value": 14
      }
     },
     "136fbddf645548ddb1131759b4abc6cc": {
      "model_module": "@jupyter-widgets/controls",
      "model_module_version": "2.0.0",
      "model_name": "FloatProgressModel",
      "state": {
       "layout": "IPY_MODEL_41af118a036743eda645dce635372c46",
       "max": 14,
       "style": "IPY_MODEL_ddc82ace6e9241019abfd790eae82023",
       "value": 14
      }
     },
     "1374f2e974e744dfbc4e71257f743ef9": {
      "model_module": "@jupyter-widgets/controls",
      "model_module_version": "2.0.0",
      "model_name": "ProgressStyleModel",
      "state": {
       "description_width": ""
      }
     },
     "137e40bd5a73422ab8764f0f5c03bc9a": {
      "model_module": "@jupyter-widgets/controls",
      "model_module_version": "2.0.0",
      "model_name": "HTMLModel",
      "state": {
       "layout": "IPY_MODEL_99f1ceef84a647f990ebc5156f9bfd2b",
       "style": "IPY_MODEL_25ecca3d1b2e44ff8abda86b7da0075f",
       "value": " 63/63 [00:19&lt;00:00,  3.31it/s]"
      }
     },
     "137ef75a54f94e928c41fecb751986b1": {
      "model_module": "@jupyter-widgets/base",
      "model_module_version": "2.0.0",
      "model_name": "LayoutModel",
      "state": {}
     },
     "13c7d09e7bf64a8585820c105f284d77": {
      "model_module": "@jupyter-widgets/controls",
      "model_module_version": "2.0.0",
      "model_name": "HTMLModel",
      "state": {
       "layout": "IPY_MODEL_63be0b7a7048447b8f28e4206776a788",
       "style": "IPY_MODEL_bfc1fb0614b14cb7955b9f8832525b7b",
       "value": "Epoch 20,Train Loss: 2.8601,Eval Accuracy: 0.6067,Eval Loss: 3.6408: 100%"
      }
     },
     "13cac46159ed413cb9de3d0aa9face8e": {
      "model_module": "@jupyter-widgets/base",
      "model_module_version": "2.0.0",
      "model_name": "LayoutModel",
      "state": {
       "visibility": "hidden"
      }
     },
     "13d90b0028cb496992772bea6361e548": {
      "model_module": "@jupyter-widgets/controls",
      "model_module_version": "2.0.0",
      "model_name": "HTMLModel",
      "state": {
       "layout": "IPY_MODEL_64cf641c029d4d3a8fe884244c987cbd",
       "style": "IPY_MODEL_69954b960e3543f9989cd835cef2b832",
       "value": " 23/23 [00:01&lt;00:00, 16.29it/s]"
      }
     },
     "14210cc09767469c9167890a39a2b73f": {
      "model_module": "@jupyter-widgets/controls",
      "model_module_version": "2.0.0",
      "model_name": "HTMLStyleModel",
      "state": {
       "description_width": "",
       "font_size": null,
       "text_color": null
      }
     },
     "1427c6170b464ee8ae81dd92d25a3772": {
      "model_module": "@jupyter-widgets/controls",
      "model_module_version": "2.0.0",
      "model_name": "HTMLStyleModel",
      "state": {
       "description_width": "",
       "font_size": null,
       "text_color": null
      }
     },
     "146f6c0369f545aaa933bde365a13805": {
      "model_module": "@jupyter-widgets/base",
      "model_module_version": "2.0.0",
      "model_name": "LayoutModel",
      "state": {}
     },
     "14a8f5c5f66847bb970c768030477974": {
      "model_module": "@jupyter-widgets/base",
      "model_module_version": "2.0.0",
      "model_name": "LayoutModel",
      "state": {}
     },
     "14b6897b99784e3594b35fc8ab9cbc5f": {
      "model_module": "@jupyter-widgets/base",
      "model_module_version": "2.0.0",
      "model_name": "LayoutModel",
      "state": {}
     },
     "14d00b9dc9c14cb9be5ec421cd8b5aa0": {
      "model_module": "@jupyter-widgets/base",
      "model_module_version": "2.0.0",
      "model_name": "LayoutModel",
      "state": {
       "visibility": "hidden"
      }
     },
     "14d66643bd3b49478ecdf49bbff57349": {
      "model_module": "@jupyter-widgets/controls",
      "model_module_version": "2.0.0",
      "model_name": "HTMLStyleModel",
      "state": {
       "description_width": "",
       "font_size": null,
       "text_color": null
      }
     },
     "1518a8b5778d4d7883f1051ece695da0": {
      "model_module": "@jupyter-widgets/controls",
      "model_module_version": "2.0.0",
      "model_name": "HTMLStyleModel",
      "state": {
       "description_width": "",
       "font_size": null,
       "text_color": null
      }
     },
     "153dda46baf7423ba5ba4aa11c361b86": {
      "model_module": "@jupyter-widgets/controls",
      "model_module_version": "2.0.0",
      "model_name": "HTMLModel",
      "state": {
       "layout": "IPY_MODEL_0b4abb0809f44c9aa4f53736c0ec8839",
       "style": "IPY_MODEL_847eb81f56474665b745071173475b9b",
       "value": " 27/27 [00:03&lt;00:00,  9.85it/s]"
      }
     },
     "154b815bb2b2497fb3aed87fd98aa2b0": {
      "model_module": "@jupyter-widgets/controls",
      "model_module_version": "2.0.0",
      "model_name": "HTMLModel",
      "state": {
       "layout": "IPY_MODEL_3d803a19077c4738bf8c21f731b74f6a",
       "style": "IPY_MODEL_c86c1e64da8d4b83a22ac9024b03f028",
       "value": " 32/32 [00:10&lt;00:00,  3.44it/s]"
      }
     },
     "154c3a2120e143ca9f1281736cd02c4c": {
      "model_module": "@jupyter-widgets/controls",
      "model_module_version": "2.0.0",
      "model_name": "HTMLModel",
      "state": {
       "layout": "IPY_MODEL_d3b8402df900441483198f26524cf8b6",
       "style": "IPY_MODEL_02424de57bec4ff58c02ff388c01922e",
       "value": " 13/14 [00:01&lt;00:00, 10.65it/s]"
      }
     },
     "15770264b1114cc7a36c98ec508d1065": {
      "model_module": "@jupyter-widgets/controls",
      "model_module_version": "2.0.0",
      "model_name": "HTMLModel",
      "state": {
       "layout": "IPY_MODEL_2b65876b3a8e4e50b34e17d70a56bd4a",
       "style": "IPY_MODEL_943b2fc8173a408db7b50164057899de",
       "value": "Epoch 1, Loss: 3.1435: 100%"
      }
     },
     "15bac123afcc4c0e87fdae79431d2910": {
      "model_module": "@jupyter-widgets/controls",
      "model_module_version": "2.0.0",
      "model_name": "ProgressStyleModel",
      "state": {
       "description_width": ""
      }
     },
     "15c64e6a04444ca5acb7a54eafe82234": {
      "model_module": "@jupyter-widgets/base",
      "model_module_version": "2.0.0",
      "model_name": "LayoutModel",
      "state": {
       "visibility": "hidden"
      }
     },
     "1605198152314e64a838071b31cc95d6": {
      "model_module": "@jupyter-widgets/controls",
      "model_module_version": "2.0.0",
      "model_name": "HTMLModel",
      "state": {
       "layout": "IPY_MODEL_8c778d785df44a52bb0d6589c855db11",
       "style": "IPY_MODEL_0b931171929b4d9f94010081c4ef0fde",
       "value": " 14/14 [00:01&lt;00:00, 10.31it/s]"
      }
     },
     "161b013310d34d279d2aac84175207d7": {
      "model_module": "@jupyter-widgets/controls",
      "model_module_version": "2.0.0",
      "model_name": "ProgressStyleModel",
      "state": {
       "description_width": ""
      }
     },
     "163b5ac7340b47f9ad056cb053f30f4b": {
      "model_module": "@jupyter-widgets/controls",
      "model_module_version": "2.0.0",
      "model_name": "ProgressStyleModel",
      "state": {
       "description_width": ""
      }
     },
     "165685206b244c36b6d71ae2bd772f28": {
      "model_module": "@jupyter-widgets/controls",
      "model_module_version": "2.0.0",
      "model_name": "HTMLStyleModel",
      "state": {
       "description_width": "",
       "font_size": null,
       "text_color": null
      }
     },
     "165d51f8a8694d19a527bb36f8e836ce": {
      "model_module": "@jupyter-widgets/controls",
      "model_module_version": "2.0.0",
      "model_name": "HTMLStyleModel",
      "state": {
       "description_width": "",
       "font_size": null,
       "text_color": null
      }
     },
     "165e27aa399e40d1b4c6fc039143bf39": {
      "model_module": "@jupyter-widgets/controls",
      "model_module_version": "2.0.0",
      "model_name": "HTMLStyleModel",
      "state": {
       "description_width": "",
       "font_size": null,
       "text_color": null
      }
     },
     "1699021fac9244ffbca14e3b8d77dfdd": {
      "model_module": "@jupyter-widgets/controls",
      "model_module_version": "2.0.0",
      "model_name": "HTMLStyleModel",
      "state": {
       "description_width": "",
       "font_size": null,
       "text_color": null
      }
     },
     "16b442d93ef1484cbf2dfa40c3d9dfaa": {
      "model_module": "@jupyter-widgets/controls",
      "model_module_version": "2.0.0",
      "model_name": "HTMLModel",
      "state": {
       "layout": "IPY_MODEL_c92b216edb1448bcaaa19d8dca824a6a",
       "style": "IPY_MODEL_b31c56edf34f46de9d9e0e83a8c9360c",
       "value": " 13/14 [00:01&lt;00:00,  9.99it/s]"
      }
     },
     "16c198cc7e7f4f58928b7b1be579332a": {
      "model_module": "@jupyter-widgets/base",
      "model_module_version": "2.0.0",
      "model_name": "LayoutModel",
      "state": {}
     },
     "16c5f2cdb1e04301928e371e6eef48e1": {
      "model_module": "@jupyter-widgets/controls",
      "model_module_version": "2.0.0",
      "model_name": "FloatProgressModel",
      "state": {
       "layout": "IPY_MODEL_d8c9ffdd6fed4cb591a2094508a5acad",
       "max": 77,
       "style": "IPY_MODEL_041a5a9a378548aaaf71ef357a33821d",
       "value": 77
      }
     },
     "16d9d3d85618400bb2e6aab52fb9f279": {
      "model_module": "@jupyter-widgets/controls",
      "model_module_version": "2.0.0",
      "model_name": "HTMLStyleModel",
      "state": {
       "description_width": "",
       "font_size": null,
       "text_color": null
      }
     },
     "16ee584849e0491f91c0e3a3897c1bec": {
      "model_module": "@jupyter-widgets/controls",
      "model_module_version": "2.0.0",
      "model_name": "HTMLModel",
      "state": {
       "layout": "IPY_MODEL_d3a3573965c0440e84bf87808a8b8a2e",
       "style": "IPY_MODEL_9f811d6def6c48e2bcb79e43f1dd7102",
       "value": "Epoch 9, Loss: 3.2079:  93%"
      }
     },
     "1700104bebf943e4887f6f922f4042ac": {
      "model_module": "@jupyter-widgets/base",
      "model_module_version": "2.0.0",
      "model_name": "LayoutModel",
      "state": {
       "visibility": "hidden"
      }
     },
     "1705f24a7c59413a837019a705387eaf": {
      "model_module": "@jupyter-widgets/controls",
      "model_module_version": "2.0.0",
      "model_name": "HTMLStyleModel",
      "state": {
       "description_width": "",
       "font_size": null,
       "text_color": null
      }
     },
     "171b37bfefe447899c851030e122c9e3": {
      "model_module": "@jupyter-widgets/base",
      "model_module_version": "2.0.0",
      "model_name": "LayoutModel",
      "state": {}
     },
     "172b310b01754d9f97667245c5aab4e2": {
      "model_module": "@jupyter-widgets/controls",
      "model_module_version": "2.0.0",
      "model_name": "HTMLStyleModel",
      "state": {
       "description_width": "",
       "font_size": null,
       "text_color": null
      }
     },
     "173a6a592c354962a96f0238152ac577": {
      "model_module": "@jupyter-widgets/controls",
      "model_module_version": "2.0.0",
      "model_name": "HTMLStyleModel",
      "state": {
       "description_width": "",
       "font_size": null,
       "text_color": null
      }
     },
     "1741c90dbfba47fb8e385a3989ee3e56": {
      "model_module": "@jupyter-widgets/base",
      "model_module_version": "2.0.0",
      "model_name": "LayoutModel",
      "state": {
       "visibility": "hidden"
      }
     },
     "174f1f074f7a4130bf1561d299758ccc": {
      "model_module": "@jupyter-widgets/base",
      "model_module_version": "2.0.0",
      "model_name": "LayoutModel",
      "state": {}
     },
     "1752a794603642bea8025918dbf714a1": {
      "model_module": "@jupyter-widgets/controls",
      "model_module_version": "2.0.0",
      "model_name": "FloatProgressModel",
      "state": {
       "layout": "IPY_MODEL_e23f075d402249999fce27896164db4c",
       "max": 32,
       "style": "IPY_MODEL_efe90640186f4fb6b1c998bb7e9cd170",
       "value": 32
      }
     },
     "1767ac7a57404cef9339c8fffec1449f": {
      "model_module": "@jupyter-widgets/base",
      "model_module_version": "2.0.0",
      "model_name": "LayoutModel",
      "state": {}
     },
     "1782aba61c404890a540ba7642778d0a": {
      "model_module": "@jupyter-widgets/base",
      "model_module_version": "2.0.0",
      "model_name": "LayoutModel",
      "state": {}
     },
     "178b11b8d6e2495ab45510cf92b66ba1": {
      "model_module": "@jupyter-widgets/base",
      "model_module_version": "2.0.0",
      "model_name": "LayoutModel",
      "state": {}
     },
     "17a1a2d8b2d34b81a7b5f391a6863586": {
      "model_module": "@jupyter-widgets/controls",
      "model_module_version": "2.0.0",
      "model_name": "HTMLModel",
      "state": {
       "layout": "IPY_MODEL_cec1df018e1f42f5b492fa996016157d",
       "style": "IPY_MODEL_0f61e8540973418fb626453c3167dc67",
       "value": " 14/14 [00:01&lt;00:00, 10.28it/s]"
      }
     },
     "17a37ae4e53b44b197eba040ae750cda": {
      "model_module": "@jupyter-widgets/base",
      "model_module_version": "2.0.0",
      "model_name": "LayoutModel",
      "state": {}
     },
     "17fe1677d2f04c2dbf9fbd311293aeb1": {
      "model_module": "@jupyter-widgets/base",
      "model_module_version": "2.0.0",
      "model_name": "LayoutModel",
      "state": {}
     },
     "1802130e4a3644439a01f009d2cf9373": {
      "model_module": "@jupyter-widgets/base",
      "model_module_version": "2.0.0",
      "model_name": "LayoutModel",
      "state": {}
     },
     "1813c4ba1069492b9abff21de9521b08": {
      "model_module": "@jupyter-widgets/base",
      "model_module_version": "2.0.0",
      "model_name": "LayoutModel",
      "state": {}
     },
     "184a40b3222d47f48bff7e6f34b5895d": {
      "model_module": "@jupyter-widgets/base",
      "model_module_version": "2.0.0",
      "model_name": "LayoutModel",
      "state": {}
     },
     "184c51c2359d4c2a920732ab51717b24": {
      "model_module": "@jupyter-widgets/controls",
      "model_module_version": "2.0.0",
      "model_name": "HTMLStyleModel",
      "state": {
       "description_width": "",
       "font_size": null,
       "text_color": null
      }
     },
     "18547ba9617e48a8ad35a3851d1fa706": {
      "model_module": "@jupyter-widgets/base",
      "model_module_version": "2.0.0",
      "model_name": "LayoutModel",
      "state": {}
     },
     "188eb05c9e1b4ae09265e2410c7e4ae7": {
      "model_module": "@jupyter-widgets/base",
      "model_module_version": "2.0.0",
      "model_name": "LayoutModel",
      "state": {}
     },
     "189cd2e9c058448a873f8bd1141156a3": {
      "model_module": "@jupyter-widgets/base",
      "model_module_version": "2.0.0",
      "model_name": "LayoutModel",
      "state": {}
     },
     "18bf22d35a304918a664c88b04edb5e6": {
      "model_module": "@jupyter-widgets/controls",
      "model_module_version": "2.0.0",
      "model_name": "HTMLModel",
      "state": {
       "layout": "IPY_MODEL_d0bbb526f5c4413a83e06b931215141a",
       "style": "IPY_MODEL_8c7e7d43373b41e8ac4f193a796b4c65",
       "value": "Epoch 9, Loss: 2.0811: 100%"
      }
     },
     "18e2a394b4964479b7fe0bdebf29c6f9": {
      "model_module": "@jupyter-widgets/base",
      "model_module_version": "2.0.0",
      "model_name": "LayoutModel",
      "state": {}
     },
     "18ffeee91c8d4cceb4107d186edddf8d": {
      "model_module": "@jupyter-widgets/base",
      "model_module_version": "2.0.0",
      "model_name": "LayoutModel",
      "state": {}
     },
     "194f80b0264942ab87ce19fc3cf92a04": {
      "model_module": "@jupyter-widgets/base",
      "model_module_version": "2.0.0",
      "model_name": "LayoutModel",
      "state": {}
     },
     "1965ebb3c4ad4564931f66b15be8b546": {
      "model_module": "@jupyter-widgets/base",
      "model_module_version": "2.0.0",
      "model_name": "LayoutModel",
      "state": {}
     },
     "198322a78ae846878f8fd141622a453a": {
      "model_module": "@jupyter-widgets/controls",
      "model_module_version": "2.0.0",
      "model_name": "HTMLStyleModel",
      "state": {
       "description_width": "",
       "font_size": null,
       "text_color": null
      }
     },
     "198f29a9647041618d5bd00880af45cb": {
      "model_module": "@jupyter-widgets/base",
      "model_module_version": "2.0.0",
      "model_name": "LayoutModel",
      "state": {}
     },
     "1a040b2e58c24d27af279b56b236bcd6": {
      "model_module": "@jupyter-widgets/base",
      "model_module_version": "2.0.0",
      "model_name": "LayoutModel",
      "state": {}
     },
     "1a0bcefbe9dc4d9fbbbd7f9d023096a4": {
      "model_module": "@jupyter-widgets/base",
      "model_module_version": "2.0.0",
      "model_name": "LayoutModel",
      "state": {
       "visibility": "hidden"
      }
     },
     "1a30b7945dff4698b5180db230199b06": {
      "model_module": "@jupyter-widgets/controls",
      "model_module_version": "2.0.0",
      "model_name": "HTMLModel",
      "state": {
       "layout": "IPY_MODEL_9b0a6a32e473414f83fa5f757d0f77de",
       "style": "IPY_MODEL_3b5540c2814c4be79dedb6a2a1d0aaed",
       "value": "Epoch 14, Loss: 2.9271:  93%"
      }
     },
     "1a61db687a28409ba3149de1e34baf0c": {
      "model_module": "@jupyter-widgets/base",
      "model_module_version": "2.0.0",
      "model_name": "LayoutModel",
      "state": {}
     },
     "1a71f289cb78463e8e6d3283cd29c56b": {
      "model_module": "@jupyter-widgets/base",
      "model_module_version": "2.0.0",
      "model_name": "LayoutModel",
      "state": {}
     },
     "1a87425da97b470ba28e0dcedcb0bee6": {
      "model_module": "@jupyter-widgets/controls",
      "model_module_version": "2.0.0",
      "model_name": "ProgressStyleModel",
      "state": {
       "description_width": ""
      }
     },
     "1a98e05703164d02934640e2917d450b": {
      "model_module": "@jupyter-widgets/controls",
      "model_module_version": "2.0.0",
      "model_name": "HTMLStyleModel",
      "state": {
       "description_width": "",
       "font_size": null,
       "text_color": null
      }
     },
     "1aa1190f4bd14911b75133c568af69fd": {
      "model_module": "@jupyter-widgets/base",
      "model_module_version": "2.0.0",
      "model_name": "LayoutModel",
      "state": {}
     },
     "1ad0d71566864deca3b46a19732d53f4": {
      "model_module": "@jupyter-widgets/controls",
      "model_module_version": "2.0.0",
      "model_name": "HTMLStyleModel",
      "state": {
       "description_width": "",
       "font_size": null,
       "text_color": null
      }
     },
     "1ad26d164c7f4e75b63366cc21b81e3b": {
      "model_module": "@jupyter-widgets/controls",
      "model_module_version": "2.0.0",
      "model_name": "HTMLStyleModel",
      "state": {
       "description_width": "",
       "font_size": null,
       "text_color": null
      }
     },
     "1b148199b8dd4399a9130ea815884a4a": {
      "model_module": "@jupyter-widgets/base",
      "model_module_version": "2.0.0",
      "model_name": "LayoutModel",
      "state": {
       "visibility": "hidden"
      }
     },
     "1b467d67360843c8ac7d7ca9e2ea1b32": {
      "model_module": "@jupyter-widgets/base",
      "model_module_version": "2.0.0",
      "model_name": "LayoutModel",
      "state": {}
     },
     "1b5138a1a27b47ce8e52fa097a7c1dd2": {
      "model_module": "@jupyter-widgets/base",
      "model_module_version": "2.0.0",
      "model_name": "LayoutModel",
      "state": {}
     },
     "1b533a3fba1342a0b8974948b06ccd22": {
      "model_module": "@jupyter-widgets/controls",
      "model_module_version": "2.0.0",
      "model_name": "HTMLModel",
      "state": {
       "layout": "IPY_MODEL_97f8031a32ee48a6b97c423b84919734",
       "style": "IPY_MODEL_9ef59b05feb24b0f8357bc33d5d78392",
       "value": " 32/32 [00:09&lt;00:00,  3.39it/s]"
      }
     },
     "1b61f0fb8e744b7cbb5805786dc1323d": {
      "model_module": "@jupyter-widgets/controls",
      "model_module_version": "2.0.0",
      "model_name": "HTMLModel",
      "state": {
       "layout": "IPY_MODEL_dc8b6b99404242ab9588ffe2b23eee9b",
       "style": "IPY_MODEL_82b45a5f2c0b40e58107b98e479c4f91",
       "value": " 27/27 [00:03&lt;00:00, 11.02it/s]"
      }
     },
     "1b714a8bc1d4430f91c43af025252f98": {
      "model_module": "@jupyter-widgets/controls",
      "model_module_version": "2.0.0",
      "model_name": "HTMLModel",
      "state": {
       "layout": "IPY_MODEL_dd8b847666b74729919bf0de66783aaa",
       "style": "IPY_MODEL_2e03e6887a63419e93d93231f7840ac7",
       "value": "Epoch 5, Loss: 2.4003: 100%"
      }
     },
     "1b79812a96d449bca868da1f118c86d1": {
      "model_module": "@jupyter-widgets/controls",
      "model_module_version": "2.0.0",
      "model_name": "ProgressStyleModel",
      "state": {
       "description_width": ""
      }
     },
     "1b8082c2053a4188abcf10ff7167b35b": {
      "model_module": "@jupyter-widgets/controls",
      "model_module_version": "2.0.0",
      "model_name": "HTMLStyleModel",
      "state": {
       "description_width": "",
       "font_size": null,
       "text_color": null
      }
     },
     "1b816bc175194b08ba86a37bd0425d67": {
      "model_module": "@jupyter-widgets/base",
      "model_module_version": "2.0.0",
      "model_name": "LayoutModel",
      "state": {}
     },
     "1b9155c1f5654072906cba2f21cd963e": {
      "model_module": "@jupyter-widgets/base",
      "model_module_version": "2.0.0",
      "model_name": "LayoutModel",
      "state": {}
     },
     "1b931acf74d24344b8aa6ab2be74eb84": {
      "model_module": "@jupyter-widgets/controls",
      "model_module_version": "2.0.0",
      "model_name": "HTMLStyleModel",
      "state": {
       "description_width": "",
       "font_size": null,
       "text_color": null
      }
     },
     "1c218390e04d4e63a6ce69eb33c57980": {
      "model_module": "@jupyter-widgets/controls",
      "model_module_version": "2.0.0",
      "model_name": "HTMLModel",
      "state": {
       "layout": "IPY_MODEL_9778b081da404ab7a38cdb192d2ab276",
       "style": "IPY_MODEL_eedf1ee76dd44ea0a86173c3b0de96e5",
       "value": "Epoch 11, Loss: 2.1154: 100%"
      }
     },
     "1c5a0deefd9644e78d3a6ac665b5926c": {
      "model_module": "@jupyter-widgets/controls",
      "model_module_version": "2.0.0",
      "model_name": "HTMLModel",
      "state": {
       "layout": "IPY_MODEL_e4f21ac7dfd04b4e82f72a341509d8e3",
       "style": "IPY_MODEL_5a5a74ff7f9d408d8d97725cacd94a10",
       "value": "Epoch 1, Loss: 3.4575: 100%"
      }
     },
     "1c62906477e846fd92f041924c247bf5": {
      "model_module": "@jupyter-widgets/base",
      "model_module_version": "2.0.0",
      "model_name": "LayoutModel",
      "state": {}
     },
     "1c71a4acefc3403c9261896c75997ccf": {
      "model_module": "@jupyter-widgets/controls",
      "model_module_version": "2.0.0",
      "model_name": "HTMLStyleModel",
      "state": {
       "description_width": "",
       "font_size": null,
       "text_color": null
      }
     },
     "1c77620883d74dcd9524776b4d833fe4": {
      "model_module": "@jupyter-widgets/base",
      "model_module_version": "2.0.0",
      "model_name": "LayoutModel",
      "state": {}
     },
     "1c7e5f7dccb7469b8b48748c391451e9": {
      "model_module": "@jupyter-widgets/base",
      "model_module_version": "2.0.0",
      "model_name": "LayoutModel",
      "state": {
       "visibility": "hidden"
      }
     },
     "1c923cb38f22435089e5a10d10920bff": {
      "model_module": "@jupyter-widgets/controls",
      "model_module_version": "2.0.0",
      "model_name": "HTMLModel",
      "state": {
       "layout": "IPY_MODEL_6f71b3f9ca5c44c099e30498719700db",
       "style": "IPY_MODEL_ffbaf339d37248408b545f54faae4191",
       "value": "Epoch 12, Loss: 2.8358:  93%"
      }
     },
     "1cabe709a0b44f3ab66077d669e7cc1d": {
      "model_module": "@jupyter-widgets/base",
      "model_module_version": "2.0.0",
      "model_name": "LayoutModel",
      "state": {
       "visibility": "hidden"
      }
     },
     "1cc7e6b6056543a4b47c6b3249b65acd": {
      "model_module": "@jupyter-widgets/controls",
      "model_module_version": "2.0.0",
      "model_name": "HTMLStyleModel",
      "state": {
       "description_width": "",
       "font_size": null,
       "text_color": null
      }
     },
     "1cedf2115caf4951a2a4e7c61fc32bce": {
      "model_module": "@jupyter-widgets/controls",
      "model_module_version": "2.0.0",
      "model_name": "HTMLStyleModel",
      "state": {
       "description_width": "",
       "font_size": null,
       "text_color": null
      }
     },
     "1cf2aa4a37de4753a528fee11ceb7221": {
      "model_module": "@jupyter-widgets/base",
      "model_module_version": "2.0.0",
      "model_name": "LayoutModel",
      "state": {}
     },
     "1d1233cf469f42e88c7cf264df1e8be1": {
      "model_module": "@jupyter-widgets/base",
      "model_module_version": "2.0.0",
      "model_name": "LayoutModel",
      "state": {}
     },
     "1d25a76e65b648e09815901631baf8f9": {
      "model_module": "@jupyter-widgets/controls",
      "model_module_version": "2.0.0",
      "model_name": "HTMLModel",
      "state": {
       "layout": "IPY_MODEL_2a073d23643b4f68a64f0f6a73ba1acf",
       "style": "IPY_MODEL_7f16c7b1d4224a328720d086bc3048e1",
       "value": "Epoch 5, Loss: 3.4489: 100%"
      }
     },
     "1d739e9637144192bf7607e8546bf380": {
      "model_module": "@jupyter-widgets/controls",
      "model_module_version": "2.0.0",
      "model_name": "HTMLStyleModel",
      "state": {
       "description_width": "",
       "font_size": null,
       "text_color": null
      }
     },
     "1d862eef1bab4d6aa78e3d2ccdc108ae": {
      "model_module": "@jupyter-widgets/controls",
      "model_module_version": "2.0.0",
      "model_name": "ProgressStyleModel",
      "state": {
       "description_width": ""
      }
     },
     "1d8a53062de94978892e92c23bf4cb16": {
      "model_module": "@jupyter-widgets/controls",
      "model_module_version": "2.0.0",
      "model_name": "HTMLStyleModel",
      "state": {
       "description_width": "",
       "font_size": null,
       "text_color": null
      }
     },
     "1d94e33b945142049dd9f14f928163aa": {
      "model_module": "@jupyter-widgets/base",
      "model_module_version": "2.0.0",
      "model_name": "LayoutModel",
      "state": {}
     },
     "1dc7262a45ae4003a15af2ffa87b906d": {
      "model_module": "@jupyter-widgets/controls",
      "model_module_version": "2.0.0",
      "model_name": "FloatProgressModel",
      "state": {
       "layout": "IPY_MODEL_1276fef8da91482c9323132a38cf243f",
       "max": 77,
       "style": "IPY_MODEL_abd767cf5d104a4d9455379b2f452bb8",
       "value": 77
      }
     },
     "1dcdccbafc154e99bf98cbe1e7c6b1d1": {
      "model_module": "@jupyter-widgets/base",
      "model_module_version": "2.0.0",
      "model_name": "LayoutModel",
      "state": {
       "visibility": "hidden"
      }
     },
     "1dd26d4c4958461db4f4797871d29772": {
      "model_module": "@jupyter-widgets/controls",
      "model_module_version": "2.0.0",
      "model_name": "HTMLModel",
      "state": {
       "layout": "IPY_MODEL_544e8ec685284ee893b1cfefd8c5692f",
       "style": "IPY_MODEL_b07af7cc850b446298f94a9986340741",
       "value": " 23/23 [00:01&lt;00:00, 16.59it/s]"
      }
     },
     "1de912caf215401b93ef10c77e99d5ea": {
      "model_module": "@jupyter-widgets/controls",
      "model_module_version": "2.0.0",
      "model_name": "HTMLModel",
      "state": {
       "layout": "IPY_MODEL_cba9f4ff218949979519e5c6a0da2083",
       "style": "IPY_MODEL_b5a3ec72304446b1850ae0762ad8f9f2",
       "value": "Epoch 8, Loss: 2.3908: 100%"
      }
     },
     "1dfb380e8770454891876140db71a839": {
      "model_module": "@jupyter-widgets/base",
      "model_module_version": "2.0.0",
      "model_name": "LayoutModel",
      "state": {}
     },
     "1e04031c04de4b2890d97a973f9a92fc": {
      "model_module": "@jupyter-widgets/base",
      "model_module_version": "2.0.0",
      "model_name": "LayoutModel",
      "state": {}
     },
     "1e148ca9772d445183604ffe3f9bb54d": {
      "model_module": "@jupyter-widgets/controls",
      "model_module_version": "2.0.0",
      "model_name": "ProgressStyleModel",
      "state": {
       "description_width": ""
      }
     },
     "1e197e8560574d7a9513f521fc40288d": {
      "model_module": "@jupyter-widgets/controls",
      "model_module_version": "2.0.0",
      "model_name": "FloatProgressModel",
      "state": {
       "layout": "IPY_MODEL_39378aacaf154bcd945dc95327b25256",
       "max": 32,
       "style": "IPY_MODEL_38ed91b51f3748dba823a79092bff7d2",
       "value": 32
      }
     },
     "1e269454a3344e53ae7cc17dc6cc157d": {
      "model_module": "@jupyter-widgets/base",
      "model_module_version": "2.0.0",
      "model_name": "LayoutModel",
      "state": {
       "visibility": "hidden"
      }
     },
     "1e2c36c910584228b7772e47e13f5211": {
      "model_module": "@jupyter-widgets/base",
      "model_module_version": "2.0.0",
      "model_name": "LayoutModel",
      "state": {}
     },
     "1e2f02781d9f40a5b520c216ea88c86f": {
      "model_module": "@jupyter-widgets/controls",
      "model_module_version": "2.0.0",
      "model_name": "ProgressStyleModel",
      "state": {
       "description_width": ""
      }
     },
     "1e32c2550a994fcca6ec132798eac3ad": {
      "model_module": "@jupyter-widgets/base",
      "model_module_version": "2.0.0",
      "model_name": "LayoutModel",
      "state": {
       "visibility": "hidden"
      }
     },
     "1e36c2a9206c4160a25f8c87e5c88354": {
      "model_module": "@jupyter-widgets/base",
      "model_module_version": "2.0.0",
      "model_name": "LayoutModel",
      "state": {}
     },
     "1e37d0da81e44402a4dc6e46511cca03": {
      "model_module": "@jupyter-widgets/controls",
      "model_module_version": "2.0.0",
      "model_name": "HTMLStyleModel",
      "state": {
       "description_width": "",
       "font_size": null,
       "text_color": null
      }
     },
     "1e3a3667c6794cababf580f41f37a733": {
      "model_module": "@jupyter-widgets/base",
      "model_module_version": "2.0.0",
      "model_name": "LayoutModel",
      "state": {}
     },
     "1e505a8a29d049e78c96803786326c9d": {
      "model_module": "@jupyter-widgets/controls",
      "model_module_version": "2.0.0",
      "model_name": "ProgressStyleModel",
      "state": {
       "description_width": ""
      }
     },
     "1e791331eb0d43919e33b8b12fcae179": {
      "model_module": "@jupyter-widgets/controls",
      "model_module_version": "2.0.0",
      "model_name": "HTMLStyleModel",
      "state": {
       "description_width": "",
       "font_size": null,
       "text_color": null
      }
     },
     "1e80914119e3420bb9a498c4f5a5754e": {
      "model_module": "@jupyter-widgets/controls",
      "model_module_version": "2.0.0",
      "model_name": "HTMLStyleModel",
      "state": {
       "description_width": "",
       "font_size": null,
       "text_color": null
      }
     },
     "1e8a47ef78f840458549738a3783abc6": {
      "model_module": "@jupyter-widgets/controls",
      "model_module_version": "2.0.0",
      "model_name": "HTMLModel",
      "state": {
       "layout": "IPY_MODEL_7174ca3778444af68749b79deba8fd13",
       "style": "IPY_MODEL_776a42ec19f54851946c67e23f8f313d",
       "value": " 26/27 [00:03&lt;00:00, 10.98it/s]"
      }
     },
     "1e9ed599acf046818eade252e8414bc5": {
      "model_module": "@jupyter-widgets/controls",
      "model_module_version": "2.0.0",
      "model_name": "ProgressStyleModel",
      "state": {
       "description_width": ""
      }
     },
     "1eca33f17a70420eb53b39d39f6b98ac": {
      "model_module": "@jupyter-widgets/controls",
      "model_module_version": "2.0.0",
      "model_name": "HTMLStyleModel",
      "state": {
       "description_width": "",
       "font_size": null,
       "text_color": null
      }
     },
     "1edfd11bc81d498d85c7b82e109ca9fd": {
      "model_module": "@jupyter-widgets/controls",
      "model_module_version": "2.0.0",
      "model_name": "FloatProgressModel",
      "state": {
       "layout": "IPY_MODEL_8e9a7405def543d6827f0ed5ec0bde1f",
       "max": 14,
       "style": "IPY_MODEL_ae2da8520a64485d818712d02ce1f245",
       "value": 14
      }
     },
     "1f1aadf062724681800a9663e76ab1f4": {
      "model_module": "@jupyter-widgets/base",
      "model_module_version": "2.0.0",
      "model_name": "LayoutModel",
      "state": {}
     },
     "1f3a33cf38f54c1aa982933318f8e646": {
      "model_module": "@jupyter-widgets/base",
      "model_module_version": "2.0.0",
      "model_name": "LayoutModel",
      "state": {
       "visibility": "hidden"
      }
     },
     "1f688ce88e384971af30d0864723e679": {
      "model_module": "@jupyter-widgets/controls",
      "model_module_version": "2.0.0",
      "model_name": "HTMLModel",
      "state": {
       "layout": "IPY_MODEL_78774b0c6335473a9787a6418b53ec7c",
       "style": "IPY_MODEL_1b8082c2053a4188abcf10ff7167b35b",
       "value": " 13/14 [00:01&lt;00:00, 10.19it/s]"
      }
     },
     "1f6f52eddfb344deb3f4ccb7ec636d9b": {
      "model_module": "@jupyter-widgets/base",
      "model_module_version": "2.0.0",
      "model_name": "LayoutModel",
      "state": {}
     },
     "1f7f5076c77848d38e9f40c552ac3ac6": {
      "model_module": "@jupyter-widgets/controls",
      "model_module_version": "2.0.0",
      "model_name": "FloatProgressModel",
      "state": {
       "layout": "IPY_MODEL_bb0b614325dc4a708efa3326af9565e5",
       "max": 14,
       "style": "IPY_MODEL_c71e6fd3fbe9428eb297d343ff4d77a3",
       "value": 14
      }
     },
     "1f8d5099e2244b5fa5c5fdbf301bfe6d": {
      "model_module": "@jupyter-widgets/controls",
      "model_module_version": "2.0.0",
      "model_name": "FloatProgressModel",
      "state": {
       "layout": "IPY_MODEL_b6defa13908046bdb31af8b03acae9ee",
       "max": 32,
       "style": "IPY_MODEL_3555bc5d0c88408b8ce849f92e4e290a",
       "value": 32
      }
     },
     "1fb3b5e61b3a457d93120dcb460261f4": {
      "model_module": "@jupyter-widgets/controls",
      "model_module_version": "2.0.0",
      "model_name": "HTMLStyleModel",
      "state": {
       "description_width": "",
       "font_size": null,
       "text_color": null
      }
     },
     "1fc36db3bf6f4df780b9eba997e88176": {
      "model_module": "@jupyter-widgets/controls",
      "model_module_version": "2.0.0",
      "model_name": "ProgressStyleModel",
      "state": {
       "description_width": ""
      }
     },
     "1fcc34f92619400f85e27ec9b2137a93": {
      "model_module": "@jupyter-widgets/controls",
      "model_module_version": "2.0.0",
      "model_name": "HTMLModel",
      "state": {
       "layout": "IPY_MODEL_f5a981e5a7524c87a051d9a302a8aa9c",
       "style": "IPY_MODEL_37f2bac3129849edb44062b047aec114",
       "value": "Epoch 10, Loss: 3.2991: 100%"
      }
     },
     "1ff6d293ac9e4022ba595908d23c256a": {
      "model_module": "@jupyter-widgets/controls",
      "model_module_version": "2.0.0",
      "model_name": "FloatProgressModel",
      "state": {
       "layout": "IPY_MODEL_8d854ea074f6409f83e4ac143fee0cbd",
       "max": 14,
       "style": "IPY_MODEL_e4243421c2f14eedb049d5406174aa22",
       "value": 14
      }
     },
     "202059c66bd44089b9d97c312bce5e32": {
      "model_module": "@jupyter-widgets/controls",
      "model_module_version": "2.0.0",
      "model_name": "HTMLModel",
      "state": {
       "layout": "IPY_MODEL_9e337622e9c546f38a9951f0b4aae3a2",
       "style": "IPY_MODEL_dfd4bf5efca042bb9f107259e78e741d",
       "value": "Epoch 12, Loss: 3.1946:  93%"
      }
     },
     "203913fb644049dfb3afbe51ee58c60c": {
      "model_module": "@jupyter-widgets/base",
      "model_module_version": "2.0.0",
      "model_name": "LayoutModel",
      "state": {}
     },
     "206c1a0a7f9c4e3ebf4ddc604262c51b": {
      "model_module": "@jupyter-widgets/base",
      "model_module_version": "2.0.0",
      "model_name": "LayoutModel",
      "state": {
       "visibility": "hidden"
      }
     },
     "20710c1ff5e04da795d882e158124ce5": {
      "model_module": "@jupyter-widgets/controls",
      "model_module_version": "2.0.0",
      "model_name": "HTMLModel",
      "state": {
       "layout": "IPY_MODEL_8829e9c7b4d14f8fad809388cad4a108",
       "style": "IPY_MODEL_c2ac0a66f354429e91f4a40ba80d4235",
       "value": "Epoch 16, Loss: 4.3055: 100%"
      }
     },
     "2077c256c8d84407a5bb8f6d0afa6f62": {
      "model_module": "@jupyter-widgets/controls",
      "model_module_version": "2.0.0",
      "model_name": "HTMLModel",
      "state": {
       "layout": "IPY_MODEL_d92ff59bff7445dc9e146236a7042205",
       "style": "IPY_MODEL_fcb1efc79cd241e28e604634feb581ad",
       "value": "Epoch 11, Loss: 2.4903: 100%"
      }
     },
     "20940a8adc534e6d90a2e3eeb4f95ebc": {
      "model_module": "@jupyter-widgets/base",
      "model_module_version": "2.0.0",
      "model_name": "LayoutModel",
      "state": {}
     },
     "2094729878ca4a42bdceee3ebf5663ff": {
      "model_module": "@jupyter-widgets/controls",
      "model_module_version": "2.0.0",
      "model_name": "HTMLStyleModel",
      "state": {
       "description_width": "",
       "font_size": null,
       "text_color": null
      }
     },
     "2096ced2c46b4dc69e04546e0175ed2f": {
      "model_module": "@jupyter-widgets/base",
      "model_module_version": "2.0.0",
      "model_name": "LayoutModel",
      "state": {}
     },
     "20bf9b3fff844859bcda0c3dcd1bca6d": {
      "model_module": "@jupyter-widgets/base",
      "model_module_version": "2.0.0",
      "model_name": "LayoutModel",
      "state": {
       "visibility": "hidden"
      }
     },
     "20ca1412ba7b40b083e6ecab9a54e81f": {
      "model_module": "@jupyter-widgets/controls",
      "model_module_version": "2.0.0",
      "model_name": "HTMLStyleModel",
      "state": {
       "description_width": "",
       "font_size": null,
       "text_color": null
      }
     },
     "20d2ae2e4d1643158f2978dc78ae94ae": {
      "model_module": "@jupyter-widgets/controls",
      "model_module_version": "2.0.0",
      "model_name": "HTMLStyleModel",
      "state": {
       "description_width": "",
       "font_size": null,
       "text_color": null
      }
     },
     "20d9e4c24ed8400da6280f9af4f57a62": {
      "model_module": "@jupyter-widgets/controls",
      "model_module_version": "2.0.0",
      "model_name": "ProgressStyleModel",
      "state": {
       "description_width": ""
      }
     },
     "20f4bcc542594c2a94931095688b0bf4": {
      "model_module": "@jupyter-widgets/controls",
      "model_module_version": "2.0.0",
      "model_name": "FloatProgressModel",
      "state": {
       "layout": "IPY_MODEL_aa269f9450fe4841838eda2dd9684ff3",
       "max": 14,
       "style": "IPY_MODEL_2f96e257b6944f5794fefd3419b7531e",
       "value": 14
      }
     },
     "212ad34d8d3a4c16a9f35b4f9811c770": {
      "model_module": "@jupyter-widgets/controls",
      "model_module_version": "2.0.0",
      "model_name": "FloatProgressModel",
      "state": {
       "layout": "IPY_MODEL_8a3f50d83f6d453b9ebd98164defcb03",
       "max": 63,
       "style": "IPY_MODEL_e2464412482b49cda7e76da5fe742f6d",
       "value": 63
      }
     },
     "212adf53ca9e47449be9cb692442c0e2": {
      "model_module": "@jupyter-widgets/base",
      "model_module_version": "2.0.0",
      "model_name": "LayoutModel",
      "state": {}
     },
     "212ca92757214116a25f5656910bd158": {
      "model_module": "@jupyter-widgets/base",
      "model_module_version": "2.0.0",
      "model_name": "LayoutModel",
      "state": {}
     },
     "21342e727adb4a2498bbbf7f7ea51bc3": {
      "model_module": "@jupyter-widgets/controls",
      "model_module_version": "2.0.0",
      "model_name": "HTMLStyleModel",
      "state": {
       "description_width": "",
       "font_size": null,
       "text_color": null
      }
     },
     "216ed88862164f90a39e8607f3416b1c": {
      "model_module": "@jupyter-widgets/controls",
      "model_module_version": "2.0.0",
      "model_name": "HTMLModel",
      "state": {
       "layout": "IPY_MODEL_226edfc8693a44a4a90490d91f7c4f9d",
       "style": "IPY_MODEL_b70a0b195c2e47818e60d74fc35709b5",
       "value": "Epoch 15, Loss: 3.4481:  93%"
      }
     },
     "218c59451b07431c90bb9776389f3645": {
      "model_module": "@jupyter-widgets/base",
      "model_module_version": "2.0.0",
      "model_name": "LayoutModel",
      "state": {
       "visibility": "hidden"
      }
     },
     "21a1a67c3d954577b0992f92a91c1e56": {
      "model_module": "@jupyter-widgets/controls",
      "model_module_version": "2.0.0",
      "model_name": "ProgressStyleModel",
      "state": {
       "description_width": ""
      }
     },
     "21e3bbc0189040a6989ac70390a1a2f0": {
      "model_module": "@jupyter-widgets/base",
      "model_module_version": "2.0.0",
      "model_name": "LayoutModel",
      "state": {}
     },
     "21ed67bc858140d78dfe726dcb275684": {
      "model_module": "@jupyter-widgets/controls",
      "model_module_version": "2.0.0",
      "model_name": "HTMLStyleModel",
      "state": {
       "description_width": "",
       "font_size": null,
       "text_color": null
      }
     },
     "22373e51f62f4209907a320a567eed49": {
      "model_module": "@jupyter-widgets/controls",
      "model_module_version": "2.0.0",
      "model_name": "HTMLModel",
      "state": {
       "layout": "IPY_MODEL_6bf57af77b884c579d91b79c6c14636e",
       "style": "IPY_MODEL_3f384d476121495fbd53ce3d4345d02f",
       "value": "Epoch 18, Loss: 2.0772: 100%"
      }
     },
     "226edfc8693a44a4a90490d91f7c4f9d": {
      "model_module": "@jupyter-widgets/base",
      "model_module_version": "2.0.0",
      "model_name": "LayoutModel",
      "state": {}
     },
     "228624087fde4526ac448efce5567aa9": {
      "model_module": "@jupyter-widgets/controls",
      "model_module_version": "2.0.0",
      "model_name": "ProgressStyleModel",
      "state": {
       "description_width": ""
      }
     },
     "22b76c4d086e483392ffb352ed0944e3": {
      "model_module": "@jupyter-widgets/controls",
      "model_module_version": "2.0.0",
      "model_name": "FloatProgressModel",
      "state": {
       "layout": "IPY_MODEL_77cf75e5603d458e9f6b2f751e67ea14",
       "max": 14,
       "style": "IPY_MODEL_86511479a0d0476a84f1063ef2d4d5a0",
       "value": 14
      }
     },
     "22b8fe4d6c24475f8aa2ef32852b4003": {
      "model_module": "@jupyter-widgets/controls",
      "model_module_version": "2.0.0",
      "model_name": "HTMLModel",
      "state": {
       "layout": "IPY_MODEL_c3e88db46fc94941b396b2b6203978e3",
       "style": "IPY_MODEL_7eb66c7962b84898ad10ea6d02876dc5",
       "value": "Epoch 3, Loss: 3.0984:  93%"
      }
     },
     "22f114fe9a4441508d17f7f4dd205ddb": {
      "model_module": "@jupyter-widgets/controls",
      "model_module_version": "2.0.0",
      "model_name": "HTMLModel",
      "state": {
       "layout": "IPY_MODEL_f108f20820a84ecb82367726969bdeae",
       "style": "IPY_MODEL_ac3866709f2d41539d0a8667314cba8a",
       "value": "Epoch 3, Loss: 3.1564: 100%"
      }
     },
     "22f30db56b1b4a3b9d55cb3a16f498ed": {
      "model_module": "@jupyter-widgets/controls",
      "model_module_version": "2.0.0",
      "model_name": "HTMLStyleModel",
      "state": {
       "description_width": "",
       "font_size": null,
       "text_color": null
      }
     },
     "230264d1770e4ab09706d530d3d3a733": {
      "model_module": "@jupyter-widgets/controls",
      "model_module_version": "2.0.0",
      "model_name": "FloatProgressModel",
      "state": {
       "layout": "IPY_MODEL_1e3a3667c6794cababf580f41f37a733",
       "max": 27,
       "style": "IPY_MODEL_b7b25094b3b849a4b8a9774d3bf9b4ba",
       "value": 27
      }
     },
     "230c6128f70f4311b9d864b1629c550f": {
      "model_module": "@jupyter-widgets/base",
      "model_module_version": "2.0.0",
      "model_name": "LayoutModel",
      "state": {}
     },
     "2327edc021c546cfa9b1498c2757ed9b": {
      "model_module": "@jupyter-widgets/base",
      "model_module_version": "2.0.0",
      "model_name": "LayoutModel",
      "state": {
       "visibility": "hidden"
      }
     },
     "239eda6015b14dc98c9afc1ea96b7e55": {
      "model_module": "@jupyter-widgets/controls",
      "model_module_version": "2.0.0",
      "model_name": "ProgressStyleModel",
      "state": {
       "description_width": ""
      }
     },
     "23be7009346044019e6df1379131c6f5": {
      "model_module": "@jupyter-widgets/controls",
      "model_module_version": "2.0.0",
      "model_name": "HTMLStyleModel",
      "state": {
       "description_width": "",
       "font_size": null,
       "text_color": null
      }
     },
     "23e34f13175b4ef19e221d3d69713628": {
      "model_module": "@jupyter-widgets/controls",
      "model_module_version": "2.0.0",
      "model_name": "HTMLStyleModel",
      "state": {
       "description_width": "",
       "font_size": null,
       "text_color": null
      }
     },
     "23f26cff19f8478b8dbb65e8650b9ff4": {
      "model_module": "@jupyter-widgets/controls",
      "model_module_version": "2.0.0",
      "model_name": "HTMLModel",
      "state": {
       "layout": "IPY_MODEL_b8c33c84596a416f8ecc60a8c2235acd",
       "style": "IPY_MODEL_165e27aa399e40d1b4c6fc039143bf39",
       "value": " 77/77 [00:23&lt;00:00,  3.49it/s]"
      }
     },
     "23fc472a53c04a99a82e6a264cf28892": {
      "model_module": "@jupyter-widgets/controls",
      "model_module_version": "2.0.0",
      "model_name": "HTMLModel",
      "state": {
       "layout": "IPY_MODEL_e725e23514cb4ab7bb9c67e7c77930e1",
       "style": "IPY_MODEL_45c842dd3ebf4c10b8f94c05c746f0a9",
       "value": " 14/14 [00:01&lt;00:00, 10.53it/s]"
      }
     },
     "242b51cc75d14fc39ec0f1846cbe45ea": {
      "model_module": "@jupyter-widgets/base",
      "model_module_version": "2.0.0",
      "model_name": "LayoutModel",
      "state": {}
     },
     "24408f3b1e214a968e38220981e0f6af": {
      "model_module": "@jupyter-widgets/base",
      "model_module_version": "2.0.0",
      "model_name": "LayoutModel",
      "state": {}
     },
     "248ce9dc512542c8a24902cf0a96ac4a": {
      "model_module": "@jupyter-widgets/controls",
      "model_module_version": "2.0.0",
      "model_name": "HTMLStyleModel",
      "state": {
       "description_width": "",
       "font_size": null,
       "text_color": null
      }
     },
     "249c7b1efd654821a3e0b3b24c524c22": {
      "model_module": "@jupyter-widgets/controls",
      "model_module_version": "2.0.0",
      "model_name": "ProgressStyleModel",
      "state": {
       "description_width": ""
      }
     },
     "24e27c81253b439cbcbb35e8c2a8e502": {
      "model_module": "@jupyter-widgets/controls",
      "model_module_version": "2.0.0",
      "model_name": "ProgressStyleModel",
      "state": {
       "description_width": ""
      }
     },
     "251ecaf509824415ad31421010cf25e2": {
      "model_module": "@jupyter-widgets/base",
      "model_module_version": "2.0.0",
      "model_name": "LayoutModel",
      "state": {}
     },
     "25490a13aa4740f29d98903c9d6fd112": {
      "model_module": "@jupyter-widgets/base",
      "model_module_version": "2.0.0",
      "model_name": "LayoutModel",
      "state": {}
     },
     "2549b5eb123f47c9a546a0133cca9700": {
      "model_module": "@jupyter-widgets/controls",
      "model_module_version": "2.0.0",
      "model_name": "HTMLStyleModel",
      "state": {
       "description_width": "",
       "font_size": null,
       "text_color": null
      }
     },
     "256a1fd368694a3c8003f9bfb09889e8": {
      "model_module": "@jupyter-widgets/controls",
      "model_module_version": "2.0.0",
      "model_name": "HTMLModel",
      "state": {
       "layout": "IPY_MODEL_adc0550d03df49238e8d9167d1914267",
       "style": "IPY_MODEL_8d31bd217050436a8d24c7975b727402",
       "value": "Epoch 17, Loss: 3.0138: 100%"
      }
     },
     "2581768cb1c040b5ab6999c7d64fa93e": {
      "model_module": "@jupyter-widgets/controls",
      "model_module_version": "2.0.0",
      "model_name": "HTMLStyleModel",
      "state": {
       "description_width": "",
       "font_size": null,
       "text_color": null
      }
     },
     "25867f5fa30d4e978f1faee87d535b09": {
      "model_module": "@jupyter-widgets/controls",
      "model_module_version": "2.0.0",
      "model_name": "HTMLModel",
      "state": {
       "layout": "IPY_MODEL_0f46d318d7b0456bae7da092cfc3e060",
       "style": "IPY_MODEL_516dfcfd945141cab892796ba71c2bbc",
       "value": " 77/77 [00:24&lt;00:00,  3.37it/s]"
      }
     },
     "25a0f9711bc944739429207d8c280c65": {
      "model_module": "@jupyter-widgets/controls",
      "model_module_version": "2.0.0",
      "model_name": "HTMLModel",
      "state": {
       "layout": "IPY_MODEL_122cc49cba6e48f6aea62268c1a002f0",
       "style": "IPY_MODEL_3db91939ef6449c081ae39f4daf4dc3f",
       "value": "Epoch 18, Loss: 2.1816: 100%"
      }
     },
     "25b22d1da64f47c19c0059734e0b4689": {
      "model_module": "@jupyter-widgets/controls",
      "model_module_version": "2.0.0",
      "model_name": "HTMLModel",
      "state": {
       "layout": "IPY_MODEL_03c92d1cb4ec4a35abb2a3c8a31db4cd",
       "style": "IPY_MODEL_58886e925a174cf087cfa6b1f7085913",
       "value": " 27/27 [00:03&lt;00:00, 10.87it/s]"
      }
     },
     "25c7f36517294a3fa3309670e2526520": {
      "model_module": "@jupyter-widgets/controls",
      "model_module_version": "2.0.0",
      "model_name": "HTMLModel",
      "state": {
       "layout": "IPY_MODEL_87143dfb6bdf4abca8e984797d385e73",
       "style": "IPY_MODEL_f7cf3225cb22440b95ef4736152fd537",
       "value": " 13/14 [00:01&lt;00:00, 10.30it/s]"
      }
     },
     "25cd6f05fe404eb690aa918f7027cc25": {
      "model_module": "@jupyter-widgets/controls",
      "model_module_version": "2.0.0",
      "model_name": "HTMLModel",
      "state": {
       "layout": "IPY_MODEL_ade6b152ff764d67b50b035d284ae285",
       "style": "IPY_MODEL_af34c20f549843eca9d4356d1561bbaf",
       "value": " 77/77 [00:23&lt;00:00,  3.45it/s]"
      }
     },
     "25ecca3d1b2e44ff8abda86b7da0075f": {
      "model_module": "@jupyter-widgets/controls",
      "model_module_version": "2.0.0",
      "model_name": "HTMLStyleModel",
      "state": {
       "description_width": "",
       "font_size": null,
       "text_color": null
      }
     },
     "25f2dd13fa774f0eb832787a757317b2": {
      "model_module": "@jupyter-widgets/base",
      "model_module_version": "2.0.0",
      "model_name": "LayoutModel",
      "state": {}
     },
     "262764afcc5d44cfb807624f50bd2116": {
      "model_module": "@jupyter-widgets/base",
      "model_module_version": "2.0.0",
      "model_name": "LayoutModel",
      "state": {}
     },
     "2665059fb9764398ba5a2f44eba2a13c": {
      "model_module": "@jupyter-widgets/base",
      "model_module_version": "2.0.0",
      "model_name": "LayoutModel",
      "state": {}
     },
     "2676f3e6500244de901c750eba98822d": {
      "model_module": "@jupyter-widgets/controls",
      "model_module_version": "2.0.0",
      "model_name": "HTMLStyleModel",
      "state": {
       "description_width": "",
       "font_size": null,
       "text_color": null
      }
     },
     "26ac8145e4ad4499b2fb6fe4b9505325": {
      "model_module": "@jupyter-widgets/base",
      "model_module_version": "2.0.0",
      "model_name": "LayoutModel",
      "state": {}
     },
     "26b3489efa244ad594fefd7b922a4373": {
      "model_module": "@jupyter-widgets/base",
      "model_module_version": "2.0.0",
      "model_name": "LayoutModel",
      "state": {}
     },
     "26b805dae08c42a696e06775d69a7e2d": {
      "model_module": "@jupyter-widgets/controls",
      "model_module_version": "2.0.0",
      "model_name": "HTMLModel",
      "state": {
       "layout": "IPY_MODEL_6bac485e92574e9a9bc8f0389f3c966b",
       "style": "IPY_MODEL_87e5f3c3b882409d99c521818d31f910",
       "value": " 32/32 [00:09&lt;00:00,  3.47it/s]"
      }
     },
     "26bd4d42dc2c4cc389cad49666720cad": {
      "model_module": "@jupyter-widgets/base",
      "model_module_version": "2.0.0",
      "model_name": "LayoutModel",
      "state": {
       "visibility": "hidden"
      }
     },
     "2728185b581e4a4ca03c7862b48761a5": {
      "model_module": "@jupyter-widgets/controls",
      "model_module_version": "2.0.0",
      "model_name": "FloatProgressModel",
      "state": {
       "layout": "IPY_MODEL_ae16217c3df04a09972ff6255d3e5c1e",
       "max": 14,
       "style": "IPY_MODEL_24e27c81253b439cbcbb35e8c2a8e502",
       "value": 14
      }
     },
     "274d3ad669a74176aab7352a10913cea": {
      "model_module": "@jupyter-widgets/base",
      "model_module_version": "2.0.0",
      "model_name": "LayoutModel",
      "state": {}
     },
     "2801212eacc94ff4b40ba1be2f6023fe": {
      "model_module": "@jupyter-widgets/controls",
      "model_module_version": "2.0.0",
      "model_name": "HTMLModel",
      "state": {
       "layout": "IPY_MODEL_41f4862020374a2e9bbb8722ed28c481",
       "style": "IPY_MODEL_1427c6170b464ee8ae81dd92d25a3772",
       "value": " 27/27 [00:03&lt;00:00, 10.51it/s]"
      }
     },
     "28193c964c364a31bec5135a5b615fa7": {
      "model_module": "@jupyter-widgets/base",
      "model_module_version": "2.0.0",
      "model_name": "LayoutModel",
      "state": {
       "visibility": "hidden"
      }
     },
     "281a74156c8441f6b4a12ba25f4b7031": {
      "model_module": "@jupyter-widgets/base",
      "model_module_version": "2.0.0",
      "model_name": "LayoutModel",
      "state": {}
     },
     "282605b3aa9d4f49ae7dbd4fc3b5694d": {
      "model_module": "@jupyter-widgets/controls",
      "model_module_version": "2.0.0",
      "model_name": "HTMLModel",
      "state": {
       "layout": "IPY_MODEL_a37dee74a49a433aa2a947e0eb8d4ee1",
       "style": "IPY_MODEL_49d6c43e3b5e44b7894072527b84aea2",
       "value": "Epoch 13, Loss: 3.3260: 100%"
      }
     },
     "2854ad7297754e779217995abce72db2": {
      "model_module": "@jupyter-widgets/controls",
      "model_module_version": "2.0.0",
      "model_name": "HTMLModel",
      "state": {
       "layout": "IPY_MODEL_6481c1ef4f58420ea34e73f33d1c3442",
       "style": "IPY_MODEL_a197d5e9f7634e0f94dcffa4a959f200",
       "value": " 63/63 [00:18&lt;00:00,  3.50it/s]"
      }
     },
     "285f9190a26b4d4eaaefdb55594487bc": {
      "model_module": "@jupyter-widgets/controls",
      "model_module_version": "2.0.0",
      "model_name": "FloatProgressModel",
      "state": {
       "layout": "IPY_MODEL_fdb9e7b7ead7424fbc8f922779e4822b",
       "max": 14,
       "style": "IPY_MODEL_357b13c87916445c88d0a3b3066337c0",
       "value": 14
      }
     },
     "286e814c36db4107ab71d93af8e1c34a": {
      "model_module": "@jupyter-widgets/controls",
      "model_module_version": "2.0.0",
      "model_name": "HTMLModel",
      "state": {
       "layout": "IPY_MODEL_562e3602e12440f4b675c269c62d44c7",
       "style": "IPY_MODEL_e32de5ef95754065aeff05c146cbe699",
       "value": " 77/77 [00:23&lt;00:00,  3.53it/s]"
      }
     },
     "28d3e11d768f4669869b2f17bd738603": {
      "model_module": "@jupyter-widgets/base",
      "model_module_version": "2.0.0",
      "model_name": "LayoutModel",
      "state": {
       "visibility": "hidden"
      }
     },
     "28e3b958e94144ec9f3b9ba3b712e294": {
      "model_module": "@jupyter-widgets/base",
      "model_module_version": "2.0.0",
      "model_name": "LayoutModel",
      "state": {}
     },
     "28fd6a23c4174cfaac968c69eb47fe97": {
      "model_module": "@jupyter-widgets/base",
      "model_module_version": "2.0.0",
      "model_name": "LayoutModel",
      "state": {}
     },
     "2904e488bac04b108b1e28171ba90bdc": {
      "model_module": "@jupyter-widgets/base",
      "model_module_version": "2.0.0",
      "model_name": "LayoutModel",
      "state": {
       "visibility": "hidden"
      }
     },
     "29364688186144448403b8cf6da00173": {
      "model_module": "@jupyter-widgets/controls",
      "model_module_version": "2.0.0",
      "model_name": "FloatProgressModel",
      "state": {
       "layout": "IPY_MODEL_73f0db3c9b4e431d83397977dea07787",
       "max": 14,
       "style": "IPY_MODEL_779eff8b1a6f4bb4b82d85fc853d8296",
       "value": 14
      }
     },
     "2940390b3b974d82bd22cfd1ae664b07": {
      "model_module": "@jupyter-widgets/base",
      "model_module_version": "2.0.0",
      "model_name": "LayoutModel",
      "state": {}
     },
     "295fde6e61514f64a76410ce0392c081": {
      "model_module": "@jupyter-widgets/controls",
      "model_module_version": "2.0.0",
      "model_name": "HTMLModel",
      "state": {
       "layout": "IPY_MODEL_6f3ef86c65584750bbe4513e5e869492",
       "style": "IPY_MODEL_99538981b4e64aff808d862713550b5e",
       "value": " 13/14 [00:01&lt;00:00, 10.06it/s]"
      }
     },
     "2964ae580869457191592b57817b1f84": {
      "model_module": "@jupyter-widgets/base",
      "model_module_version": "2.0.0",
      "model_name": "LayoutModel",
      "state": {}
     },
     "2972f76ed33f4caa860ccd4cc7cf1428": {
      "model_module": "@jupyter-widgets/controls",
      "model_module_version": "2.0.0",
      "model_name": "HTMLModel",
      "state": {
       "layout": "IPY_MODEL_5488a4efcfe7445b804c680dd5df28ec",
       "style": "IPY_MODEL_0851148fa02f429eb914b360acea91a4",
       "value": " 32/32 [00:10&lt;00:00,  3.25it/s]"
      }
     },
     "29ab499d1e1b4829b5b2a44d804a677a": {
      "model_module": "@jupyter-widgets/controls",
      "model_module_version": "2.0.0",
      "model_name": "FloatProgressModel",
      "state": {
       "layout": "IPY_MODEL_c00d3d2d7b084fb0b3eacd75c404506e",
       "max": 14,
       "style": "IPY_MODEL_f7b34c764f154a6eb35a4af42786bc4d",
       "value": 14
      }
     },
     "29bbe7b52daf4d59ae603adac11bd035": {
      "model_module": "@jupyter-widgets/controls",
      "model_module_version": "2.0.0",
      "model_name": "FloatProgressModel",
      "state": {
       "layout": "IPY_MODEL_784794727dde453eaf852c48dadfba9c",
       "max": 32,
       "style": "IPY_MODEL_a4ef666456a24056a232765b015e5450",
       "value": 32
      }
     },
     "29eb8ecb97b44c9698c8525c9c110b72": {
      "model_module": "@jupyter-widgets/controls",
      "model_module_version": "2.0.0",
      "model_name": "HTMLModel",
      "state": {
       "layout": "IPY_MODEL_376c721c7a1346ec9d2fbd769fcecda4",
       "style": "IPY_MODEL_621c29901f124ceea8411942b8160693",
       "value": "Epoch 17, Loss: 4.7906:  96%"
      }
     },
     "2a02750204354121a900d4d689bd79de": {
      "model_module": "@jupyter-widgets/controls",
      "model_module_version": "2.0.0",
      "model_name": "HTMLModel",
      "state": {
       "layout": "IPY_MODEL_f71d37135b0046bf9c0186f2bb33db02",
       "style": "IPY_MODEL_a360b436fc784532a11b4f87fd2208dd",
       "value": " 14/14 [00:01&lt;00:00, 10.25it/s]"
      }
     },
     "2a073d23643b4f68a64f0f6a73ba1acf": {
      "model_module": "@jupyter-widgets/base",
      "model_module_version": "2.0.0",
      "model_name": "LayoutModel",
      "state": {}
     },
     "2a2c830805ca4440914f23de2c20f86e": {
      "model_module": "@jupyter-widgets/controls",
      "model_module_version": "2.0.0",
      "model_name": "HTMLStyleModel",
      "state": {
       "description_width": "",
       "font_size": null,
       "text_color": null
      }
     },
     "2a3c7f28fcac46b2baf35c0c56a047ff": {
      "model_module": "@jupyter-widgets/controls",
      "model_module_version": "2.0.0",
      "model_name": "FloatProgressModel",
      "state": {
       "layout": "IPY_MODEL_366b234127d345939d9ed03fd9468266",
       "max": 23,
       "style": "IPY_MODEL_4940db1c674043b7a767725a4f27ef82",
       "value": 23
      }
     },
     "2a77462d80ba45809ecbb6dce55c1452": {
      "model_module": "@jupyter-widgets/base",
      "model_module_version": "2.0.0",
      "model_name": "LayoutModel",
      "state": {
       "visibility": "hidden"
      }
     },
     "2a7eca220bae49c7aef58c34d15086ee": {
      "model_module": "@jupyter-widgets/base",
      "model_module_version": "2.0.0",
      "model_name": "LayoutModel",
      "state": {}
     },
     "2a8409b6745945fb9369911ef87ebfc4": {
      "model_module": "@jupyter-widgets/base",
      "model_module_version": "2.0.0",
      "model_name": "LayoutModel",
      "state": {}
     },
     "2a892c0b688048afb813f18a29775ab4": {
      "model_module": "@jupyter-widgets/controls",
      "model_module_version": "2.0.0",
      "model_name": "ProgressStyleModel",
      "state": {
       "description_width": ""
      }
     },
     "2aaa6beb0de546ab9f6f986f4f11fbc9": {
      "model_module": "@jupyter-widgets/controls",
      "model_module_version": "2.0.0",
      "model_name": "HTMLModel",
      "state": {
       "layout": "IPY_MODEL_4c34b5e3297c42cea067aa8659a04ff6",
       "style": "IPY_MODEL_789e14aae8c9432c96dadbe8354dfb8a",
       "value": " 13/14 [00:01&lt;00:00, 10.07it/s]"
      }
     },
     "2ac471102349436dbb12b1cc3e926ef4": {
      "model_module": "@jupyter-widgets/base",
      "model_module_version": "2.0.0",
      "model_name": "LayoutModel",
      "state": {}
     },
     "2ad416cf5bf14241806ad2afba55b800": {
      "model_module": "@jupyter-widgets/base",
      "model_module_version": "2.0.0",
      "model_name": "LayoutModel",
      "state": {}
     },
     "2b0ef6d973b7444f9774b269974831c6": {
      "model_module": "@jupyter-widgets/controls",
      "model_module_version": "2.0.0",
      "model_name": "HTMLStyleModel",
      "state": {
       "description_width": "",
       "font_size": null,
       "text_color": null
      }
     },
     "2b1b528581cd4134b7a78e513bf8e737": {
      "model_module": "@jupyter-widgets/controls",
      "model_module_version": "2.0.0",
      "model_name": "HTMLModel",
      "state": {
       "layout": "IPY_MODEL_8770fd50ca8648f09a1874e4cb1b0bdf",
       "style": "IPY_MODEL_dfd93e002540411c992f07fc56c2104f",
       "value": " 13/14 [00:01&lt;00:00, 10.29it/s]"
      }
     },
     "2b29f842541a4f5bb078dc32321ea915": {
      "model_module": "@jupyter-widgets/controls",
      "model_module_version": "2.0.0",
      "model_name": "ProgressStyleModel",
      "state": {
       "description_width": ""
      }
     },
     "2b4dd22fdb874348ace1f5a807f135a3": {
      "model_module": "@jupyter-widgets/controls",
      "model_module_version": "2.0.0",
      "model_name": "FloatProgressModel",
      "state": {
       "layout": "IPY_MODEL_afabca92fab84d48a6d566032439398f",
       "max": 77,
       "style": "IPY_MODEL_714ea427249d48f2972c167e04a2dd13",
       "value": 77
      }
     },
     "2b5f73ef2aa14f69b9df94b9a0b5546d": {
      "model_module": "@jupyter-widgets/base",
      "model_module_version": "2.0.0",
      "model_name": "LayoutModel",
      "state": {
       "visibility": "hidden"
      }
     },
     "2b65876b3a8e4e50b34e17d70a56bd4a": {
      "model_module": "@jupyter-widgets/base",
      "model_module_version": "2.0.0",
      "model_name": "LayoutModel",
      "state": {}
     },
     "2b6f36ae85b044969c9da8321ab34a50": {
      "model_module": "@jupyter-widgets/controls",
      "model_module_version": "2.0.0",
      "model_name": "HTMLModel",
      "state": {
       "layout": "IPY_MODEL_80b791ea030f40f1b7e53fcf6a19cc5f",
       "style": "IPY_MODEL_eb872178fe4d4c5d83f9b20b664194b2",
       "value": " 32/32 [00:10&lt;00:00,  3.11it/s]"
      }
     },
     "2b78bbe430a04f1baeefb1dc8e8e7c22": {
      "model_module": "@jupyter-widgets/base",
      "model_module_version": "2.0.0",
      "model_name": "LayoutModel",
      "state": {}
     },
     "2b9cd368c3b447598379ace3ea044d15": {
      "model_module": "@jupyter-widgets/base",
      "model_module_version": "2.0.0",
      "model_name": "LayoutModel",
      "state": {}
     },
     "2bad02babaa942ffbfda74e237a68c9e": {
      "model_module": "@jupyter-widgets/controls",
      "model_module_version": "2.0.0",
      "model_name": "HTMLStyleModel",
      "state": {
       "description_width": "",
       "font_size": null,
       "text_color": null
      }
     },
     "2bbf822cb182418093bc724d34712363": {
      "model_module": "@jupyter-widgets/base",
      "model_module_version": "2.0.0",
      "model_name": "LayoutModel",
      "state": {}
     },
     "2c0a1c44d7aa4595ae6df717900c12c5": {
      "model_module": "@jupyter-widgets/controls",
      "model_module_version": "2.0.0",
      "model_name": "HTMLModel",
      "state": {
       "layout": "IPY_MODEL_5def8b64e0164842bd467c1f3f3a5fbe",
       "style": "IPY_MODEL_68bc871cdf174c51943fd16b7f4f57b9",
       "value": " 32/32 [00:10&lt;00:00,  3.35it/s]"
      }
     },
     "2c187a7bd74b479e942f4321cece1385": {
      "model_module": "@jupyter-widgets/controls",
      "model_module_version": "2.0.0",
      "model_name": "FloatProgressModel",
      "state": {
       "layout": "IPY_MODEL_c28905a6b8c74f88aa9cb5e67f58ef2d",
       "max": 32,
       "style": "IPY_MODEL_66dc27920a2941c2b8346668f96b786a",
       "value": 32
      }
     },
     "2c22f261a72643118b7b4925f8823568": {
      "model_module": "@jupyter-widgets/controls",
      "model_module_version": "2.0.0",
      "model_name": "HTMLModel",
      "state": {
       "layout": "IPY_MODEL_26b3489efa244ad594fefd7b922a4373",
       "style": "IPY_MODEL_a01f67e5956340c2bf1e43d04c5d57bf",
       "value": " 32/32 [00:10&lt;00:00,  3.37it/s]"
      }
     },
     "2c54e860cc3945e2a34b455edc6d1df5": {
      "model_module": "@jupyter-widgets/base",
      "model_module_version": "2.0.0",
      "model_name": "LayoutModel",
      "state": {}
     },
     "2caee58a246c48c0829fdef97ad8aff9": {
      "model_module": "@jupyter-widgets/base",
      "model_module_version": "2.0.0",
      "model_name": "LayoutModel",
      "state": {}
     },
     "2ccadbeb84c24011b2af3f175ccf4307": {
      "model_module": "@jupyter-widgets/controls",
      "model_module_version": "2.0.0",
      "model_name": "FloatProgressModel",
      "state": {
       "layout": "IPY_MODEL_1e2c36c910584228b7772e47e13f5211",
       "max": 32,
       "style": "IPY_MODEL_7daa57ce9d284301aeb3247436b3033c",
       "value": 32
      }
     },
     "2cce14062a324376965705f367140822": {
      "model_module": "@jupyter-widgets/controls",
      "model_module_version": "2.0.0",
      "model_name": "HTMLStyleModel",
      "state": {
       "description_width": "",
       "font_size": null,
       "text_color": null
      }
     },
     "2cd77e90d0b24bf283f5b528f55d9e09": {
      "model_module": "@jupyter-widgets/base",
      "model_module_version": "2.0.0",
      "model_name": "LayoutModel",
      "state": {}
     },
     "2d0180e9ac404ccdbb9c3ff73a02431f": {
      "model_module": "@jupyter-widgets/base",
      "model_module_version": "2.0.0",
      "model_name": "LayoutModel",
      "state": {}
     },
     "2d19a5c432b34b9791f6457a57348aa7": {
      "model_module": "@jupyter-widgets/controls",
      "model_module_version": "2.0.0",
      "model_name": "FloatProgressModel",
      "state": {
       "layout": "IPY_MODEL_d99d8672f6ab4baeb5173cffeb09e759",
       "max": 14,
       "style": "IPY_MODEL_521fa62b5d514014b57e7f641e04fdb5",
       "value": 14
      }
     },
     "2d3e179c65e744f0966ae5f18fcc7db5": {
      "model_module": "@jupyter-widgets/controls",
      "model_module_version": "2.0.0",
      "model_name": "ProgressStyleModel",
      "state": {
       "description_width": ""
      }
     },
     "2d4e7cf98546441888b81002738bd826": {
      "model_module": "@jupyter-widgets/controls",
      "model_module_version": "2.0.0",
      "model_name": "HTMLStyleModel",
      "state": {
       "description_width": "",
       "font_size": null,
       "text_color": null
      }
     },
     "2d624e777f194c28aecfe3aa200dd931": {
      "model_module": "@jupyter-widgets/controls",
      "model_module_version": "2.0.0",
      "model_name": "HTMLModel",
      "state": {
       "layout": "IPY_MODEL_4b7e952a626046c5bd6980fa63b4aa24",
       "style": "IPY_MODEL_1e37d0da81e44402a4dc6e46511cca03",
       "value": " 63/63 [00:19&lt;00:00,  3.43it/s]"
      }
     },
     "2d75992240e84974a2d378dff9e8bb4d": {
      "model_module": "@jupyter-widgets/controls",
      "model_module_version": "2.0.0",
      "model_name": "ProgressStyleModel",
      "state": {
       "description_width": ""
      }
     },
     "2d7ae316bcf7443b9e73983087f040a1": {
      "model_module": "@jupyter-widgets/base",
      "model_module_version": "2.0.0",
      "model_name": "LayoutModel",
      "state": {}
     },
     "2d8e5daa5bf041568677c3f4558e3a3c": {
      "model_module": "@jupyter-widgets/base",
      "model_module_version": "2.0.0",
      "model_name": "LayoutModel",
      "state": {}
     },
     "2da50066823549678da425f7a1a4b34c": {
      "model_module": "@jupyter-widgets/controls",
      "model_module_version": "2.0.0",
      "model_name": "HTMLStyleModel",
      "state": {
       "description_width": "",
       "font_size": null,
       "text_color": null
      }
     },
     "2db15bfe184f480897751c780e473b1f": {
      "model_module": "@jupyter-widgets/base",
      "model_module_version": "2.0.0",
      "model_name": "LayoutModel",
      "state": {
       "visibility": "hidden"
      }
     },
     "2db70578801e4f6f94bbf7ccaa05b515": {
      "model_module": "@jupyter-widgets/controls",
      "model_module_version": "2.0.0",
      "model_name": "HTMLModel",
      "state": {
       "layout": "IPY_MODEL_bc5c2cc9337e4a768f0831ad9721c8d6",
       "style": "IPY_MODEL_4284dca7fb634d69b7084e39d7ed248a",
       "value": "Epoch 1, Loss: 2.9485: 100%"
      }
     },
     "2ded09a1e4dc4b92980f1753665e38ab": {
      "model_module": "@jupyter-widgets/controls",
      "model_module_version": "2.0.0",
      "model_name": "HTMLModel",
      "state": {
       "layout": "IPY_MODEL_c512bf3e2bd04ce59a854e3cd3c695d5",
       "style": "IPY_MODEL_826f593e1f0041b3931620a4ee0dadc3",
       "value": "Epoch 17, Loss: 3.1687:  93%"
      }
     },
     "2def998d85354a878e4e9b99c6965303": {
      "model_module": "@jupyter-widgets/controls",
      "model_module_version": "2.0.0",
      "model_name": "ProgressStyleModel",
      "state": {
       "description_width": ""
      }
     },
     "2e00a2330bba4bbdacef6356a59630f6": {
      "model_module": "@jupyter-widgets/controls",
      "model_module_version": "2.0.0",
      "model_name": "HTMLStyleModel",
      "state": {
       "description_width": "",
       "font_size": null,
       "text_color": null
      }
     },
     "2e03e6887a63419e93d93231f7840ac7": {
      "model_module": "@jupyter-widgets/controls",
      "model_module_version": "2.0.0",
      "model_name": "HTMLStyleModel",
      "state": {
       "description_width": "",
       "font_size": null,
       "text_color": null
      }
     },
     "2e1ef18d4d4c458e9c4dac726c2e1572": {
      "model_module": "@jupyter-widgets/controls",
      "model_module_version": "2.0.0",
      "model_name": "ProgressStyleModel",
      "state": {
       "description_width": ""
      }
     },
     "2e2bd95686594e9187f9aa65c108b65f": {
      "model_module": "@jupyter-widgets/base",
      "model_module_version": "2.0.0",
      "model_name": "LayoutModel",
      "state": {
       "visibility": "hidden"
      }
     },
     "2e388179a05c4cef986c64dd56c74ffc": {
      "model_module": "@jupyter-widgets/controls",
      "model_module_version": "2.0.0",
      "model_name": "HTMLModel",
      "state": {
       "layout": "IPY_MODEL_48c97185fc654cb9a4344d5adb319123",
       "style": "IPY_MODEL_422570183dc14239aa8d5392e4df3213",
       "value": " 23/23 [00:01&lt;00:00, 18.47it/s]"
      }
     },
     "2e54f47a213047af814fd1302aba41fe": {
      "model_module": "@jupyter-widgets/base",
      "model_module_version": "2.0.0",
      "model_name": "LayoutModel",
      "state": {
       "visibility": "hidden"
      }
     },
     "2e685cfb19e540a492714ed6698eda45": {
      "model_module": "@jupyter-widgets/base",
      "model_module_version": "2.0.0",
      "model_name": "LayoutModel",
      "state": {}
     },
     "2ea78ca88b2e44e7aa26b7fe19713758": {
      "model_module": "@jupyter-widgets/controls",
      "model_module_version": "2.0.0",
      "model_name": "HTMLStyleModel",
      "state": {
       "description_width": "",
       "font_size": null,
       "text_color": null
      }
     },
     "2ea9cc2eb2fd4925b10f15bb65c141d6": {
      "model_module": "@jupyter-widgets/controls",
      "model_module_version": "2.0.0",
      "model_name": "HTMLStyleModel",
      "state": {
       "description_width": "",
       "font_size": null,
       "text_color": null
      }
     },
     "2eb0c677e73a456a88f6ebabd741b9ff": {
      "model_module": "@jupyter-widgets/base",
      "model_module_version": "2.0.0",
      "model_name": "LayoutModel",
      "state": {}
     },
     "2ec00dc88c24446cb10aa459740a719a": {
      "model_module": "@jupyter-widgets/base",
      "model_module_version": "2.0.0",
      "model_name": "LayoutModel",
      "state": {}
     },
     "2ee2dd9b0ea34ca9ab4be4e9fe1b08f3": {
      "model_module": "@jupyter-widgets/controls",
      "model_module_version": "2.0.0",
      "model_name": "ProgressStyleModel",
      "state": {
       "description_width": ""
      }
     },
     "2f0dd6c260cc4e4885bbbe0f0a5428c8": {
      "model_module": "@jupyter-widgets/base",
      "model_module_version": "2.0.0",
      "model_name": "LayoutModel",
      "state": {}
     },
     "2f157f0cfad14ad18d0229df4a82a59f": {
      "model_module": "@jupyter-widgets/controls",
      "model_module_version": "2.0.0",
      "model_name": "HTMLStyleModel",
      "state": {
       "description_width": "",
       "font_size": null,
       "text_color": null
      }
     },
     "2f2932f131c84097bc7c00629e5ac000": {
      "model_module": "@jupyter-widgets/base",
      "model_module_version": "2.0.0",
      "model_name": "LayoutModel",
      "state": {
       "visibility": "hidden"
      }
     },
     "2f36ecfc1e8245d1b2954843a8f95305": {
      "model_module": "@jupyter-widgets/base",
      "model_module_version": "2.0.0",
      "model_name": "LayoutModel",
      "state": {
       "visibility": "hidden"
      }
     },
     "2f832596c0524260a1e112aa14285ea2": {
      "model_module": "@jupyter-widgets/controls",
      "model_module_version": "2.0.0",
      "model_name": "HTMLModel",
      "state": {
       "layout": "IPY_MODEL_075ad8571dc0448c94356c5f5c5e46d1",
       "style": "IPY_MODEL_c6236f02a3f444a28fded7bb35e2af1b",
       "value": " 23/23 [00:01&lt;00:00, 16.96it/s]"
      }
     },
     "2f96e257b6944f5794fefd3419b7531e": {
      "model_module": "@jupyter-widgets/controls",
      "model_module_version": "2.0.0",
      "model_name": "ProgressStyleModel",
      "state": {
       "description_width": ""
      }
     },
     "2f9c8c11473c4aa3b7c5b1e470a12d47": {
      "model_module": "@jupyter-widgets/controls",
      "model_module_version": "2.0.0",
      "model_name": "ProgressStyleModel",
      "state": {
       "description_width": ""
      }
     },
     "2fb82c5c20e6400aa6cca2f0e1775d19": {
      "model_module": "@jupyter-widgets/base",
      "model_module_version": "2.0.0",
      "model_name": "LayoutModel",
      "state": {}
     },
     "2fd6375cccff484eb1b384acdc0879cf": {
      "model_module": "@jupyter-widgets/base",
      "model_module_version": "2.0.0",
      "model_name": "LayoutModel",
      "state": {}
     },
     "2fd709b9dac84ac8bb0ea7ae3e816728": {
      "model_module": "@jupyter-widgets/controls",
      "model_module_version": "2.0.0",
      "model_name": "HTMLModel",
      "state": {
       "layout": "IPY_MODEL_a884146bee4347e5802de281afe3be1b",
       "style": "IPY_MODEL_b6f941821c454061967ad494d8932896",
       "value": " 26/27 [00:03&lt;00:00, 10.80it/s]"
      }
     },
     "2fff1e6e3085441bbc04b1be711dced8": {
      "model_module": "@jupyter-widgets/controls",
      "model_module_version": "2.0.0",
      "model_name": "ProgressStyleModel",
      "state": {
       "description_width": ""
      }
     },
     "3002c87ec45a4ffb917e82c993cc9a3f": {
      "model_module": "@jupyter-widgets/controls",
      "model_module_version": "2.0.0",
      "model_name": "HTMLStyleModel",
      "state": {
       "description_width": "",
       "font_size": null,
       "text_color": null
      }
     },
     "301b7cef6af5433caf8a4e2b410b21f2": {
      "model_module": "@jupyter-widgets/controls",
      "model_module_version": "2.0.0",
      "model_name": "HTMLStyleModel",
      "state": {
       "description_width": "",
       "font_size": null,
       "text_color": null
      }
     },
     "3042efa067324e0e92bd016a1051e26e": {
      "model_module": "@jupyter-widgets/controls",
      "model_module_version": "2.0.0",
      "model_name": "HTMLStyleModel",
      "state": {
       "description_width": "",
       "font_size": null,
       "text_color": null
      }
     },
     "305751f6d7af49339a05c1dd95d72a6a": {
      "model_module": "@jupyter-widgets/base",
      "model_module_version": "2.0.0",
      "model_name": "LayoutModel",
      "state": {}
     },
     "306d84edc01f463c815d45b925f0859f": {
      "model_module": "@jupyter-widgets/controls",
      "model_module_version": "2.0.0",
      "model_name": "HTMLModel",
      "state": {
       "layout": "IPY_MODEL_262764afcc5d44cfb807624f50bd2116",
       "style": "IPY_MODEL_820987ee0c914a939f33badd319aceb4",
       "value": " 13/14 [00:01&lt;00:00,  9.98it/s]"
      }
     },
     "30a1b501a9ba4d698e84aa6b01d61ad3": {
      "model_module": "@jupyter-widgets/controls",
      "model_module_version": "2.0.0",
      "model_name": "HTMLStyleModel",
      "state": {
       "description_width": "",
       "font_size": null,
       "text_color": null
      }
     },
     "30abea8a8f614bd79c661311d1c3dfd3": {
      "model_module": "@jupyter-widgets/controls",
      "model_module_version": "2.0.0",
      "model_name": "HTMLModel",
      "state": {
       "layout": "IPY_MODEL_194f80b0264942ab87ce19fc3cf92a04",
       "style": "IPY_MODEL_1699021fac9244ffbca14e3b8d77dfdd",
       "value": " 14/14 [00:01&lt;00:00, 10.47it/s]"
      }
     },
     "30b778cb3b0a4ec99c47b922e3038155": {
      "model_module": "@jupyter-widgets/controls",
      "model_module_version": "2.0.0",
      "model_name": "ProgressStyleModel",
      "state": {
       "description_width": ""
      }
     },
     "310ce046ca1240a69c6a559b98167770": {
      "model_module": "@jupyter-widgets/controls",
      "model_module_version": "2.0.0",
      "model_name": "HTMLStyleModel",
      "state": {
       "description_width": "",
       "font_size": null,
       "text_color": null
      }
     },
     "31237576f58344419fa1268e76722abc": {
      "model_module": "@jupyter-widgets/controls",
      "model_module_version": "2.0.0",
      "model_name": "HTMLStyleModel",
      "state": {
       "description_width": "",
       "font_size": null,
       "text_color": null
      }
     },
     "315eee766b044831ba051d165ea75d59": {
      "model_module": "@jupyter-widgets/base",
      "model_module_version": "2.0.0",
      "model_name": "LayoutModel",
      "state": {}
     },
     "31745f4403884e44a64e67ba77127db4": {
      "model_module": "@jupyter-widgets/controls",
      "model_module_version": "2.0.0",
      "model_name": "HTMLModel",
      "state": {
       "layout": "IPY_MODEL_25f2dd13fa774f0eb832787a757317b2",
       "style": "IPY_MODEL_8f723e1425f44eb3ae1de368cc551bd3",
       "value": "Epoch 11, Loss: 2.8015: 100%"
      }
     },
     "31d0788f872747518666b7ba7a95923e": {
      "model_module": "@jupyter-widgets/controls",
      "model_module_version": "2.0.0",
      "model_name": "FloatProgressModel",
      "state": {
       "layout": "IPY_MODEL_9d00dcff9f89469c8028a4c71ddbec7e",
       "max": 32,
       "style": "IPY_MODEL_ce0b88dabd9d412b9a3e2202c93b3b41",
       "value": 32
      }
     },
     "31dd0503f15d4c4195d075278b49a987": {
      "model_module": "@jupyter-widgets/base",
      "model_module_version": "2.0.0",
      "model_name": "LayoutModel",
      "state": {}
     },
     "31f84b5bf80f43e5b0799d2b5f7d8bb1": {
      "model_module": "@jupyter-widgets/controls",
      "model_module_version": "2.0.0",
      "model_name": "FloatProgressModel",
      "state": {
       "layout": "IPY_MODEL_aa5c03bfd77241adb517c593821e7c21",
       "max": 32,
       "style": "IPY_MODEL_80e8b79f518b4096a51d123fb202b273",
       "value": 32
      }
     },
     "323775045c544eaca3177714caa2bff0": {
      "model_module": "@jupyter-widgets/controls",
      "model_module_version": "2.0.0",
      "model_name": "HTMLStyleModel",
      "state": {
       "description_width": "",
       "font_size": null,
       "text_color": null
      }
     },
     "326ffeeb9cd74d439c192eb50cb09ed4": {
      "model_module": "@jupyter-widgets/controls",
      "model_module_version": "2.0.0",
      "model_name": "ProgressStyleModel",
      "state": {
       "description_width": ""
      }
     },
     "3288442dfe0d45d7bf8d202d5722979b": {
      "model_module": "@jupyter-widgets/controls",
      "model_module_version": "2.0.0",
      "model_name": "HTMLModel",
      "state": {
       "layout": "IPY_MODEL_7f829d5f742d40d09f5106cde6748209",
       "style": "IPY_MODEL_c0b4c3e8c5ac4a4b8add7637f7cc934d",
       "value": " 32/32 [00:09&lt;00:00,  3.53it/s]"
      }
     },
     "32a1485317e24e2caff4e0638e79aefa": {
      "model_module": "@jupyter-widgets/controls",
      "model_module_version": "2.0.0",
      "model_name": "FloatProgressModel",
      "state": {
       "layout": "IPY_MODEL_b48a638798b5448d96b10697904b376c",
       "max": 14,
       "style": "IPY_MODEL_0049a453fe164b15899d02b8244a40fe",
       "value": 14
      }
     },
     "32acefc36c474857aab76fd4e397fd5a": {
      "model_module": "@jupyter-widgets/controls",
      "model_module_version": "2.0.0",
      "model_name": "FloatProgressModel",
      "state": {
       "layout": "IPY_MODEL_7e3a09ea5acc41cc9baf0f0ecfb197e4",
       "max": 77,
       "style": "IPY_MODEL_35c8f10020fe453f8391b5e29c79d22a",
       "value": 77
      }
     },
     "32d2902aecd54e81afb9ed33bdad9173": {
      "model_module": "@jupyter-widgets/controls",
      "model_module_version": "2.0.0",
      "model_name": "HTMLStyleModel",
      "state": {
       "description_width": "",
       "font_size": null,
       "text_color": null
      }
     },
     "32e75d9719244a02964af44cb99203d6": {
      "model_module": "@jupyter-widgets/controls",
      "model_module_version": "2.0.0",
      "model_name": "HTMLStyleModel",
      "state": {
       "description_width": "",
       "font_size": null,
       "text_color": null
      }
     },
     "32ef65f8bd1d476f86ad59821f76b8ea": {
      "model_module": "@jupyter-widgets/base",
      "model_module_version": "2.0.0",
      "model_name": "LayoutModel",
      "state": {}
     },
     "33171c2e327d47d5a054b3eea008e717": {
      "model_module": "@jupyter-widgets/base",
      "model_module_version": "2.0.0",
      "model_name": "LayoutModel",
      "state": {}
     },
     "331b1f28e27b4da4af0346918baf8b9b": {
      "model_module": "@jupyter-widgets/controls",
      "model_module_version": "2.0.0",
      "model_name": "HTMLModel",
      "state": {
       "layout": "IPY_MODEL_f43d3a4b68b544339a7fdd8f4eccf3c9",
       "style": "IPY_MODEL_709fba59d613437bacb64fea91e03951",
       "value": " 13/14 [00:01&lt;00:00, 10.06it/s]"
      }
     },
     "33391c63123943adb0ab44c1b17b40af": {
      "model_module": "@jupyter-widgets/controls",
      "model_module_version": "2.0.0",
      "model_name": "ProgressStyleModel",
      "state": {
       "description_width": ""
      }
     },
     "33591cf15b30405894f120dfcdcbc1b5": {
      "model_module": "@jupyter-widgets/base",
      "model_module_version": "2.0.0",
      "model_name": "LayoutModel",
      "state": {
       "visibility": "hidden"
      }
     },
     "335ea7e0c6ee48d1b0c9cd6b8afc4e34": {
      "model_module": "@jupyter-widgets/controls",
      "model_module_version": "2.0.0",
      "model_name": "HTMLStyleModel",
      "state": {
       "description_width": "",
       "font_size": null,
       "text_color": null
      }
     },
     "33c325c610cf44298d1b76792e588760": {
      "model_module": "@jupyter-widgets/controls",
      "model_module_version": "2.0.0",
      "model_name": "HTMLModel",
      "state": {
       "layout": "IPY_MODEL_518713d461174e58b5db1a39c202a939",
       "style": "IPY_MODEL_1705f24a7c59413a837019a705387eaf",
       "value": " 32/32 [00:10&lt;00:00,  3.40it/s]"
      }
     },
     "33d9df0aa09e47808308f5197858a301": {
      "model_module": "@jupyter-widgets/base",
      "model_module_version": "2.0.0",
      "model_name": "LayoutModel",
      "state": {
       "visibility": "hidden"
      }
     },
     "33fe8b31e93845c0bf44c1ae6f3fd81c": {
      "model_module": "@jupyter-widgets/base",
      "model_module_version": "2.0.0",
      "model_name": "LayoutModel",
      "state": {
       "visibility": "hidden"
      }
     },
     "34084a1e778148cdb2d4be94a6e5082e": {
      "model_module": "@jupyter-widgets/base",
      "model_module_version": "2.0.0",
      "model_name": "LayoutModel",
      "state": {}
     },
     "3464d19f1bcb4eada61e0a94d488a9c3": {
      "model_module": "@jupyter-widgets/controls",
      "model_module_version": "2.0.0",
      "model_name": "HTMLModel",
      "state": {
       "layout": "IPY_MODEL_34db25a9465e47f593b3b5cefd520e5c",
       "style": "IPY_MODEL_ef01b17433a949a987ce2d9a156a1133",
       "value": " 77/77 [00:25&lt;00:00,  2.94it/s]"
      }
     },
     "34794a848a014c33a34e533d082afda4": {
      "model_module": "@jupyter-widgets/controls",
      "model_module_version": "2.0.0",
      "model_name": "HTMLModel",
      "state": {
       "layout": "IPY_MODEL_c71b7d6a505e4d868663a7c4502311fe",
       "style": "IPY_MODEL_d4ef0602d763402ca1befecb57f128d0",
       "value": "Epoch 2, Loss: 2.9410: 100%"
      }
     },
     "349b018444164c73916c77bb93b88360": {
      "model_module": "@jupyter-widgets/controls",
      "model_module_version": "2.0.0",
      "model_name": "HTMLModel",
      "state": {
       "layout": "IPY_MODEL_eebe6f0973f24e8eae5774cd4928abd7",
       "style": "IPY_MODEL_6f68fc5096254fee8bb69dcd95311551",
       "value": " 63/63 [00:19&lt;00:00,  3.22it/s]"
      }
     },
     "34db25a9465e47f593b3b5cefd520e5c": {
      "model_module": "@jupyter-widgets/base",
      "model_module_version": "2.0.0",
      "model_name": "LayoutModel",
      "state": {}
     },
     "34fe4b55900240189f92626312293bcd": {
      "model_module": "@jupyter-widgets/base",
      "model_module_version": "2.0.0",
      "model_name": "LayoutModel",
      "state": {}
     },
     "35088753ed004998bf10595fcf73218c": {
      "model_module": "@jupyter-widgets/base",
      "model_module_version": "2.0.0",
      "model_name": "LayoutModel",
      "state": {}
     },
     "351f7ebb71c54841848ab121397c08de": {
      "model_module": "@jupyter-widgets/controls",
      "model_module_version": "2.0.0",
      "model_name": "ProgressStyleModel",
      "state": {
       "description_width": ""
      }
     },
     "353ffa06c3864c7f89a33e1e82dbfff6": {
      "model_module": "@jupyter-widgets/controls",
      "model_module_version": "2.0.0",
      "model_name": "HTMLStyleModel",
      "state": {
       "description_width": "",
       "font_size": null,
       "text_color": null
      }
     },
     "35553dab87524ec08d0bcd98b02359c1": {
      "model_module": "@jupyter-widgets/base",
      "model_module_version": "2.0.0",
      "model_name": "LayoutModel",
      "state": {}
     },
     "3555bc5d0c88408b8ce849f92e4e290a": {
      "model_module": "@jupyter-widgets/controls",
      "model_module_version": "2.0.0",
      "model_name": "ProgressStyleModel",
      "state": {
       "description_width": ""
      }
     },
     "356d0aeae60c491db90502addb269080": {
      "model_module": "@jupyter-widgets/base",
      "model_module_version": "2.0.0",
      "model_name": "LayoutModel",
      "state": {}
     },
     "357b13c87916445c88d0a3b3066337c0": {
      "model_module": "@jupyter-widgets/controls",
      "model_module_version": "2.0.0",
      "model_name": "ProgressStyleModel",
      "state": {
       "description_width": ""
      }
     },
     "359b8998bb1a4de28961add473a244e6": {
      "model_module": "@jupyter-widgets/controls",
      "model_module_version": "2.0.0",
      "model_name": "HTMLModel",
      "state": {
       "layout": "IPY_MODEL_f8041220ae484324967a38ca81e93a9a",
       "style": "IPY_MODEL_4ef1bce8e78b4597a8bea5bcb9d1747e",
       "value": "Epoch 6, Loss: 2.2513: 100%"
      }
     },
     "35a26d830e3f4e4b80b449aed3923de4": {
      "model_module": "@jupyter-widgets/base",
      "model_module_version": "2.0.0",
      "model_name": "LayoutModel",
      "state": {}
     },
     "35af0b5bc30641e482ff0a93f105874b": {
      "model_module": "@jupyter-widgets/controls",
      "model_module_version": "2.0.0",
      "model_name": "HTMLStyleModel",
      "state": {
       "description_width": "",
       "font_size": null,
       "text_color": null
      }
     },
     "35ba9feef83645ad8138f76e5c19383a": {
      "model_module": "@jupyter-widgets/controls",
      "model_module_version": "2.0.0",
      "model_name": "HTMLStyleModel",
      "state": {
       "description_width": "",
       "font_size": null,
       "text_color": null
      }
     },
     "35c8f10020fe453f8391b5e29c79d22a": {
      "model_module": "@jupyter-widgets/controls",
      "model_module_version": "2.0.0",
      "model_name": "ProgressStyleModel",
      "state": {
       "description_width": ""
      }
     },
     "35e1288c838b49b3be0834e37f683ca3": {
      "model_module": "@jupyter-widgets/base",
      "model_module_version": "2.0.0",
      "model_name": "LayoutModel",
      "state": {}
     },
     "35e1804def974fd09868f10461a7e6a0": {
      "model_module": "@jupyter-widgets/controls",
      "model_module_version": "2.0.0",
      "model_name": "HTMLStyleModel",
      "state": {
       "description_width": "",
       "font_size": null,
       "text_color": null
      }
     },
     "3628cd085a5741afbb903ab86c8034e4": {
      "model_module": "@jupyter-widgets/controls",
      "model_module_version": "2.0.0",
      "model_name": "HTMLModel",
      "state": {
       "layout": "IPY_MODEL_70b10ac104f040aa87fe2c591cc4197f",
       "style": "IPY_MODEL_a0bf99e928244161a54485b4a74b7e09",
       "value": "Epoch 1994, Loss: -24.4419: 100%"
      }
     },
     "363a1c00f06741979006c56a5164cd39": {
      "model_module": "@jupyter-widgets/base",
      "model_module_version": "2.0.0",
      "model_name": "LayoutModel",
      "state": {}
     },
     "36556e807aad47e2bec3fd36b366dbf2": {
      "model_module": "@jupyter-widgets/controls",
      "model_module_version": "2.0.0",
      "model_name": "ProgressStyleModel",
      "state": {
       "description_width": ""
      }
     },
     "365689abb9d040a7add78d16dfb758e7": {
      "model_module": "@jupyter-widgets/base",
      "model_module_version": "2.0.0",
      "model_name": "LayoutModel",
      "state": {}
     },
     "366471517c984e5eb1b706bc288c5d13": {
      "model_module": "@jupyter-widgets/base",
      "model_module_version": "2.0.0",
      "model_name": "LayoutModel",
      "state": {
       "visibility": "hidden"
      }
     },
     "366b234127d345939d9ed03fd9468266": {
      "model_module": "@jupyter-widgets/base",
      "model_module_version": "2.0.0",
      "model_name": "LayoutModel",
      "state": {}
     },
     "36ccb4e95544488191d63f8b63e69d9c": {
      "model_module": "@jupyter-widgets/controls",
      "model_module_version": "2.0.0",
      "model_name": "HTMLStyleModel",
      "state": {
       "description_width": "",
       "font_size": null,
       "text_color": null
      }
     },
     "36fa9d0ce2294d76942bdbd35958d96a": {
      "model_module": "@jupyter-widgets/controls",
      "model_module_version": "2.0.0",
      "model_name": "FloatProgressModel",
      "state": {
       "layout": "IPY_MODEL_35088753ed004998bf10595fcf73218c",
       "max": 32,
       "style": "IPY_MODEL_3bd6083a0b524f91b91ab7f8dd632415",
       "value": 32
      }
     },
     "370ec00a07784f648993261227d0f80e": {
      "model_module": "@jupyter-widgets/base",
      "model_module_version": "2.0.0",
      "model_name": "LayoutModel",
      "state": {
       "visibility": "hidden"
      }
     },
     "371144d3b698470b86c7b157109e9a34": {
      "model_module": "@jupyter-widgets/controls",
      "model_module_version": "2.0.0",
      "model_name": "HTMLModel",
      "state": {
       "layout": "IPY_MODEL_75dd01265f3d43abb62d833c01581d66",
       "style": "IPY_MODEL_470f125008b34f6e91cf361251496d0d",
       "value": "Epoch 19, Loss: 3.2793: 100%"
      }
     },
     "37211101af574f4ea11ff7c50f98344c": {
      "model_module": "@jupyter-widgets/controls",
      "model_module_version": "2.0.0",
      "model_name": "ProgressStyleModel",
      "state": {
       "description_width": ""
      }
     },
     "37516c4049174c7e893f471266619955": {
      "model_module": "@jupyter-widgets/controls",
      "model_module_version": "2.0.0",
      "model_name": "HTMLModel",
      "state": {
       "layout": "IPY_MODEL_2ad416cf5bf14241806ad2afba55b800",
       "style": "IPY_MODEL_7b62d266d7094aa1b5937d943fba4175",
       "value": "Epoch 10, Loss: 4.0318: 100%"
      }
     },
     "376c721c7a1346ec9d2fbd769fcecda4": {
      "model_module": "@jupyter-widgets/base",
      "model_module_version": "2.0.0",
      "model_name": "LayoutModel",
      "state": {}
     },
     "379a2b37fc9a4ad0be495cbbe66503da": {
      "model_module": "@jupyter-widgets/controls",
      "model_module_version": "2.0.0",
      "model_name": "ProgressStyleModel",
      "state": {
       "description_width": ""
      }
     },
     "37f2bac3129849edb44062b047aec114": {
      "model_module": "@jupyter-widgets/controls",
      "model_module_version": "2.0.0",
      "model_name": "HTMLStyleModel",
      "state": {
       "description_width": "",
       "font_size": null,
       "text_color": null
      }
     },
     "3807851fd8f74b28840ae4d324e664b7": {
      "model_module": "@jupyter-widgets/base",
      "model_module_version": "2.0.0",
      "model_name": "LayoutModel",
      "state": {}
     },
     "382da64f83ed47a19279d3b5b2657917": {
      "model_module": "@jupyter-widgets/base",
      "model_module_version": "2.0.0",
      "model_name": "LayoutModel",
      "state": {
       "visibility": "hidden"
      }
     },
     "38360500a2164449bdf16cb74c184c58": {
      "model_module": "@jupyter-widgets/controls",
      "model_module_version": "2.0.0",
      "model_name": "HTMLStyleModel",
      "state": {
       "description_width": "",
       "font_size": null,
       "text_color": null
      }
     },
     "383b2a1a0b7d4220aebdc58a56babb41": {
      "model_module": "@jupyter-widgets/controls",
      "model_module_version": "2.0.0",
      "model_name": "HTMLModel",
      "state": {
       "layout": "IPY_MODEL_7db90218e9764b3ab0d8e818b0676b42",
       "style": "IPY_MODEL_a9089974e15b4eab9a6c09eeb767b617",
       "value": "Epoch 10, Loss: 2.6940: 100%"
      }
     },
     "384e97f43cc546fa9b0751ec3e88c9c7": {
      "model_module": "@jupyter-widgets/controls",
      "model_module_version": "2.0.0",
      "model_name": "ProgressStyleModel",
      "state": {
       "description_width": ""
      }
     },
     "385e9b55294347a5aff44f266417ab76": {
      "model_module": "@jupyter-widgets/base",
      "model_module_version": "2.0.0",
      "model_name": "LayoutModel",
      "state": {}
     },
     "386708caeba049108fbea2947aea3517": {
      "model_module": "@jupyter-widgets/base",
      "model_module_version": "2.0.0",
      "model_name": "LayoutModel",
      "state": {
       "visibility": "hidden"
      }
     },
     "386cc71a07914b57bc0765a44ddb1a34": {
      "model_module": "@jupyter-widgets/base",
      "model_module_version": "2.0.0",
      "model_name": "LayoutModel",
      "state": {}
     },
     "387c574339d340bd93bbfa3e427d64a7": {
      "model_module": "@jupyter-widgets/controls",
      "model_module_version": "2.0.0",
      "model_name": "HTMLModel",
      "state": {
       "layout": "IPY_MODEL_548ad66372ce4778a8ecfa2b6d0ab4a1",
       "style": "IPY_MODEL_756d84563ea54177af47db9d22a8ebe9",
       "value": " 32/32 [00:10&lt;00:00,  3.43it/s]"
      }
     },
     "3889801cc95b42b5bb2e1d1444d8e552": {
      "model_module": "@jupyter-widgets/controls",
      "model_module_version": "2.0.0",
      "model_name": "HTMLModel",
      "state": {
       "layout": "IPY_MODEL_8ea71906cc8940d3b7c5eaac1a3ffd29",
       "style": "IPY_MODEL_a7d54585fff8414b9c94d6ff677aa132",
       "value": "Epoch 20, Loss: 3.5644: 100%"
      }
     },
     "389634465ae54d718dc3ed7198a4e863": {
      "model_module": "@jupyter-widgets/controls",
      "model_module_version": "2.0.0",
      "model_name": "FloatProgressModel",
      "state": {
       "layout": "IPY_MODEL_cbd12f0e259343969eedb3215525fd3d",
       "max": 14,
       "style": "IPY_MODEL_c495ea1cecb04b21a64464ccf775ff89",
       "value": 14
      }
     },
     "389e16b938af4fab8a436dde3b11dec2": {
      "model_module": "@jupyter-widgets/base",
      "model_module_version": "2.0.0",
      "model_name": "LayoutModel",
      "state": {
       "visibility": "hidden"
      }
     },
     "38be38fa88044c569c4352f3c0de5799": {
      "model_module": "@jupyter-widgets/base",
      "model_module_version": "2.0.0",
      "model_name": "LayoutModel",
      "state": {}
     },
     "38ed91b51f3748dba823a79092bff7d2": {
      "model_module": "@jupyter-widgets/controls",
      "model_module_version": "2.0.0",
      "model_name": "ProgressStyleModel",
      "state": {
       "description_width": ""
      }
     },
     "39378aacaf154bcd945dc95327b25256": {
      "model_module": "@jupyter-widgets/base",
      "model_module_version": "2.0.0",
      "model_name": "LayoutModel",
      "state": {}
     },
     "393ca8a0799e4ff8b6469bab2154c6de": {
      "model_module": "@jupyter-widgets/controls",
      "model_module_version": "2.0.0",
      "model_name": "HTMLStyleModel",
      "state": {
       "description_width": "",
       "font_size": null,
       "text_color": null
      }
     },
     "39402d54449a4cd7a73d9256fc4e46d9": {
      "model_module": "@jupyter-widgets/controls",
      "model_module_version": "2.0.0",
      "model_name": "HTMLStyleModel",
      "state": {
       "description_width": "",
       "font_size": null,
       "text_color": null
      }
     },
     "394194937a0b49daabc0f12fcaa15cf6": {
      "model_module": "@jupyter-widgets/controls",
      "model_module_version": "2.0.0",
      "model_name": "HTMLModel",
      "state": {
       "layout": "IPY_MODEL_068c3d8ded524b3d9928475828e2ba18",
       "style": "IPY_MODEL_1e80914119e3420bb9a498c4f5a5754e",
       "value": "Epoch 3, Loss: 2.8630: 100%"
      }
     },
     "3955a55a45b94a0da12c92fccb4caaf4": {
      "model_module": "@jupyter-widgets/controls",
      "model_module_version": "2.0.0",
      "model_name": "FloatProgressModel",
      "state": {
       "layout": "IPY_MODEL_542f37719c8943efa1bd1eb8812915bd",
       "max": 14,
       "style": "IPY_MODEL_47dfc455851447a59bb22a7dbd7679cf",
       "value": 14
      }
     },
     "39dcab2c60a749c2aed29d57ce14386a": {
      "model_module": "@jupyter-widgets/base",
      "model_module_version": "2.0.0",
      "model_name": "LayoutModel",
      "state": {}
     },
     "39e95e8eb7ec4e67a085f073aaaef2da": {
      "model_module": "@jupyter-widgets/controls",
      "model_module_version": "2.0.0",
      "model_name": "HTMLStyleModel",
      "state": {
       "description_width": "",
       "font_size": null,
       "text_color": null
      }
     },
     "3a36d0c27b7d493fac477649832b2419": {
      "model_module": "@jupyter-widgets/controls",
      "model_module_version": "2.0.0",
      "model_name": "HTMLModel",
      "state": {
       "layout": "IPY_MODEL_6243f90cf44c42b3a28a5e8f894c0085",
       "style": "IPY_MODEL_2549b5eb123f47c9a546a0133cca9700",
       "value": "Epoch 5, Loss: 3.0516:  93%"
      }
     },
     "3a4217d4456c4ed791fa3ff2c250c814": {
      "model_module": "@jupyter-widgets/controls",
      "model_module_version": "2.0.0",
      "model_name": "HTMLStyleModel",
      "state": {
       "description_width": "",
       "font_size": null,
       "text_color": null
      }
     },
     "3a6a809df5254ad8828cc978d0e16651": {
      "model_module": "@jupyter-widgets/controls",
      "model_module_version": "2.0.0",
      "model_name": "HTMLModel",
      "state": {
       "layout": "IPY_MODEL_48c7e87163d44b9cb68db0c0effdec2a",
       "style": "IPY_MODEL_bb15a730d01c4856bfcb708a81b8e9b5",
       "value": " 14/14 [00:01&lt;00:00, 10.22it/s]"
      }
     },
     "3a7636bcab7549e4b3fc2873d93fe070": {
      "model_module": "@jupyter-widgets/base",
      "model_module_version": "2.0.0",
      "model_name": "LayoutModel",
      "state": {
       "visibility": "hidden"
      }
     },
     "3a89e3bd0e084cc5bd6faba03ecc9a93": {
      "model_module": "@jupyter-widgets/controls",
      "model_module_version": "2.0.0",
      "model_name": "HTMLModel",
      "state": {
       "layout": "IPY_MODEL_f72751867fee4f6b881f317d82193b81",
       "style": "IPY_MODEL_70bda9bf4bd746fdbd8244b6781464fb",
       "value": " 13/14 [00:01&lt;00:00, 10.18it/s]"
      }
     },
     "3a912a00bb09418d8dbaa66dd27b4559": {
      "model_module": "@jupyter-widgets/base",
      "model_module_version": "2.0.0",
      "model_name": "LayoutModel",
      "state": {}
     },
     "3aafe8bd72d34716a6f858a38e94271d": {
      "model_module": "@jupyter-widgets/base",
      "model_module_version": "2.0.0",
      "model_name": "LayoutModel",
      "state": {}
     },
     "3ac45e0b8c744f0098017bbbafc15ee7": {
      "model_module": "@jupyter-widgets/controls",
      "model_module_version": "2.0.0",
      "model_name": "HTMLModel",
      "state": {
       "layout": "IPY_MODEL_0153d969623445a39a1a1ab6de62fe94",
       "style": "IPY_MODEL_7ea0cfa76ec64baebbb0b4e5161affc8",
       "value": " 14/14 [00:01&lt;00:00, 10.42it/s]"
      }
     },
     "3b18baea0b9841b0931911c5233a7036": {
      "model_module": "@jupyter-widgets/controls",
      "model_module_version": "2.0.0",
      "model_name": "ProgressStyleModel",
      "state": {
       "description_width": ""
      }
     },
     "3b5540c2814c4be79dedb6a2a1d0aaed": {
      "model_module": "@jupyter-widgets/controls",
      "model_module_version": "2.0.0",
      "model_name": "HTMLStyleModel",
      "state": {
       "description_width": "",
       "font_size": null,
       "text_color": null
      }
     },
     "3b680833819440638488990b91c0c140": {
      "model_module": "@jupyter-widgets/controls",
      "model_module_version": "2.0.0",
      "model_name": "ProgressStyleModel",
      "state": {
       "description_width": ""
      }
     },
     "3b92635c4894435388fbefaab1828649": {
      "model_module": "@jupyter-widgets/base",
      "model_module_version": "2.0.0",
      "model_name": "LayoutModel",
      "state": {
       "visibility": "hidden"
      }
     },
     "3b9c141862fd4a65863576e84099b2da": {
      "model_module": "@jupyter-widgets/base",
      "model_module_version": "2.0.0",
      "model_name": "LayoutModel",
      "state": {
       "visibility": "hidden"
      }
     },
     "3ba4fecd12bb40f5a58062014fcb80c1": {
      "model_module": "@jupyter-widgets/base",
      "model_module_version": "2.0.0",
      "model_name": "LayoutModel",
      "state": {
       "visibility": "hidden"
      }
     },
     "3bae95b413c94b068e768f4b7078a17d": {
      "model_module": "@jupyter-widgets/controls",
      "model_module_version": "2.0.0",
      "model_name": "FloatProgressModel",
      "state": {
       "layout": "IPY_MODEL_fcfa234640a64d0085a23ee391fa3822",
       "max": 14,
       "style": "IPY_MODEL_fb556d0e6d234a28ade327786adae125",
       "value": 14
      }
     },
     "3bb05a636c354ab2a5eed50e5ec5ecef": {
      "model_module": "@jupyter-widgets/base",
      "model_module_version": "2.0.0",
      "model_name": "LayoutModel",
      "state": {}
     },
     "3bc917360f8343cba80322c1f16442c3": {
      "model_module": "@jupyter-widgets/controls",
      "model_module_version": "2.0.0",
      "model_name": "HTMLModel",
      "state": {
       "layout": "IPY_MODEL_e6fe9dc47b96426d9be5d67d28221ecc",
       "style": "IPY_MODEL_ba23a65d880a47b6998cc1d2736dc4f5",
       "value": " 32/32 [00:10&lt;00:00,  3.48it/s]"
      }
     },
     "3bd5051109254df6810f7e48c4e79ac3": {
      "model_module": "@jupyter-widgets/controls",
      "model_module_version": "2.0.0",
      "model_name": "ProgressStyleModel",
      "state": {
       "description_width": ""
      }
     },
     "3bd6083a0b524f91b91ab7f8dd632415": {
      "model_module": "@jupyter-widgets/controls",
      "model_module_version": "2.0.0",
      "model_name": "ProgressStyleModel",
      "state": {
       "description_width": ""
      }
     },
     "3bfffdbb08e04053a87c30dedba57769": {
      "model_module": "@jupyter-widgets/controls",
      "model_module_version": "2.0.0",
      "model_name": "HTMLModel",
      "state": {
       "layout": "IPY_MODEL_750a8f4fa0074529be5a4ffb248ffd9c",
       "style": "IPY_MODEL_b07bd6bce9ac438d9b9b18e57b1f8b62",
       "value": " 13/14 [00:01&lt;00:00, 10.14it/s]"
      }
     },
     "3c0a065e9abc4f9ea6d6f47e90992fdd": {
      "model_module": "@jupyter-widgets/base",
      "model_module_version": "2.0.0",
      "model_name": "LayoutModel",
      "state": {}
     },
     "3c0a48ec313d4ca9b501aa377ec7b45a": {
      "model_module": "@jupyter-widgets/controls",
      "model_module_version": "2.0.0",
      "model_name": "HTMLStyleModel",
      "state": {
       "description_width": "",
       "font_size": null,
       "text_color": null
      }
     },
     "3c26b682b1404dca827f794ccfa08e5b": {
      "model_module": "@jupyter-widgets/base",
      "model_module_version": "2.0.0",
      "model_name": "LayoutModel",
      "state": {
       "visibility": "hidden"
      }
     },
     "3c33481a02c447f78157a9f70740df4f": {
      "model_module": "@jupyter-widgets/base",
      "model_module_version": "2.0.0",
      "model_name": "LayoutModel",
      "state": {}
     },
     "3c3d3abdffb94cf3b1f9904279b7bdb3": {
      "model_module": "@jupyter-widgets/base",
      "model_module_version": "2.0.0",
      "model_name": "LayoutModel",
      "state": {
       "visibility": "hidden"
      }
     },
     "3c4a7dee35bc481bb4161c72cddbfeef": {
      "model_module": "@jupyter-widgets/controls",
      "model_module_version": "2.0.0",
      "model_name": "HTMLModel",
      "state": {
       "layout": "IPY_MODEL_e63409d8f4524c49b16ece968e112cc8",
       "style": "IPY_MODEL_df1e0a67e8f04fc9b3bafd408ac82d76",
       "value": "Epoch 18, Loss: 2.8508: 100%"
      }
     },
     "3c53c1c9be6147ea885b6be302a05072": {
      "model_module": "@jupyter-widgets/controls",
      "model_module_version": "2.0.0",
      "model_name": "HTMLStyleModel",
      "state": {
       "description_width": "",
       "font_size": null,
       "text_color": null
      }
     },
     "3c7762252ef349faac6428c10171be46": {
      "model_module": "@jupyter-widgets/controls",
      "model_module_version": "2.0.0",
      "model_name": "FloatProgressModel",
      "state": {
       "layout": "IPY_MODEL_31dd0503f15d4c4195d075278b49a987",
       "max": 32,
       "style": "IPY_MODEL_d8e0d0cd4ceb47c39069949f61a53e8b",
       "value": 32
      }
     },
     "3c79260f520245a5a59fa40b00ff7249": {
      "model_module": "@jupyter-widgets/base",
      "model_module_version": "2.0.0",
      "model_name": "LayoutModel",
      "state": {}
     },
     "3c8388cc0ea44a9cbfc6e861ad69eb7f": {
      "model_module": "@jupyter-widgets/base",
      "model_module_version": "2.0.0",
      "model_name": "LayoutModel",
      "state": {}
     },
     "3cac6d09b91e486b9f263582c1cefc95": {
      "model_module": "@jupyter-widgets/base",
      "model_module_version": "2.0.0",
      "model_name": "LayoutModel",
      "state": {}
     },
     "3cb769a360f342cd80da88b1d41f2775": {
      "model_module": "@jupyter-widgets/controls",
      "model_module_version": "2.0.0",
      "model_name": "HTMLModel",
      "state": {
       "layout": "IPY_MODEL_086ec3260b4d4a91bafbf4568be69ea4",
       "style": "IPY_MODEL_86043d80288248c98c658a4bdb42ad1e",
       "value": " 13/14 [00:01&lt;00:00,  9.95it/s]"
      }
     },
     "3cf3fa4a33474f0a99c2a66eb0bbed94": {
      "model_module": "@jupyter-widgets/base",
      "model_module_version": "2.0.0",
      "model_name": "LayoutModel",
      "state": {}
     },
     "3d35908d886246699b108105d52212d9": {
      "model_module": "@jupyter-widgets/controls",
      "model_module_version": "2.0.0",
      "model_name": "HTMLModel",
      "state": {
       "layout": "IPY_MODEL_c179bb42d9f8451b9a2a442de9d307b2",
       "style": "IPY_MODEL_a893753b53684482bfedd9a6d93ad4c7",
       "value": " 13/14 [00:01&lt;00:00,  9.75it/s]"
      }
     },
     "3d4992cec3f544a582c5fad40d8a80bd": {
      "model_module": "@jupyter-widgets/controls",
      "model_module_version": "2.0.0",
      "model_name": "HTMLModel",
      "state": {
       "layout": "IPY_MODEL_882329ddfe2a4a04b9b57496d76e6d13",
       "style": "IPY_MODEL_5fda2f5bcd4540be9f304ce0d4f5c8ac",
       "value": " 27/27 [00:03&lt;00:00, 10.96it/s]"
      }
     },
     "3d49faebdb314f8bb21dac4e02c3cebe": {
      "model_module": "@jupyter-widgets/controls",
      "model_module_version": "2.0.0",
      "model_name": "HTMLStyleModel",
      "state": {
       "description_width": "",
       "font_size": null,
       "text_color": null
      }
     },
     "3d6b6985656348969d04d55be775231b": {
      "model_module": "@jupyter-widgets/base",
      "model_module_version": "2.0.0",
      "model_name": "LayoutModel",
      "state": {}
     },
     "3d756ae61caf410faef888a515c637d2": {
      "model_module": "@jupyter-widgets/base",
      "model_module_version": "2.0.0",
      "model_name": "LayoutModel",
      "state": {}
     },
     "3d803a19077c4738bf8c21f731b74f6a": {
      "model_module": "@jupyter-widgets/base",
      "model_module_version": "2.0.0",
      "model_name": "LayoutModel",
      "state": {}
     },
     "3d94ba3ea9b5441fbe9f3bea44528dfc": {
      "model_module": "@jupyter-widgets/base",
      "model_module_version": "2.0.0",
      "model_name": "LayoutModel",
      "state": {
       "visibility": "hidden"
      }
     },
     "3d9c37c0e34d4fac8d4cb95fbe6c1d0f": {
      "model_module": "@jupyter-widgets/controls",
      "model_module_version": "2.0.0",
      "model_name": "HTMLStyleModel",
      "state": {
       "description_width": "",
       "font_size": null,
       "text_color": null
      }
     },
     "3da8f651778a45408e08106fbcfa5350": {
      "model_module": "@jupyter-widgets/controls",
      "model_module_version": "2.0.0",
      "model_name": "FloatProgressModel",
      "state": {
       "layout": "IPY_MODEL_ffc70e0428fc4bedbbec35af364db81a",
       "max": 14,
       "style": "IPY_MODEL_9a4ad72985ec489cb323ff2daa894aaa",
       "value": 14
      }
     },
     "3db91939ef6449c081ae39f4daf4dc3f": {
      "model_module": "@jupyter-widgets/controls",
      "model_module_version": "2.0.0",
      "model_name": "HTMLStyleModel",
      "state": {
       "description_width": "",
       "font_size": null,
       "text_color": null
      }
     },
     "3dcdf3100cc646289459d01408ca6506": {
      "model_module": "@jupyter-widgets/base",
      "model_module_version": "2.0.0",
      "model_name": "LayoutModel",
      "state": {
       "visibility": "hidden"
      }
     },
     "3dde76ec6193474595ec8129ee3ba534": {
      "model_module": "@jupyter-widgets/base",
      "model_module_version": "2.0.0",
      "model_name": "LayoutModel",
      "state": {
       "visibility": "hidden"
      }
     },
     "3ddfc62357be47f48f629e3bd35fe13d": {
      "model_module": "@jupyter-widgets/base",
      "model_module_version": "2.0.0",
      "model_name": "LayoutModel",
      "state": {}
     },
     "3df3c64839034917944198f8a04e9428": {
      "model_module": "@jupyter-widgets/controls",
      "model_module_version": "2.0.0",
      "model_name": "ProgressStyleModel",
      "state": {
       "description_width": ""
      }
     },
     "3e1ab0cfb72144c7bd6c11536eddd26c": {
      "model_module": "@jupyter-widgets/base",
      "model_module_version": "2.0.0",
      "model_name": "LayoutModel",
      "state": {}
     },
     "3e2267acdab4470883bc916dfedc1c93": {
      "model_module": "@jupyter-widgets/base",
      "model_module_version": "2.0.0",
      "model_name": "LayoutModel",
      "state": {}
     },
     "3e2c4aaaca9048baa639a116e3744766": {
      "model_module": "@jupyter-widgets/base",
      "model_module_version": "2.0.0",
      "model_name": "LayoutModel",
      "state": {}
     },
     "3e3079b78e7a44bc94c259790ee79ff6": {
      "model_module": "@jupyter-widgets/controls",
      "model_module_version": "2.0.0",
      "model_name": "FloatProgressModel",
      "state": {
       "layout": "IPY_MODEL_251ecaf509824415ad31421010cf25e2",
       "max": 14,
       "style": "IPY_MODEL_37211101af574f4ea11ff7c50f98344c",
       "value": 14
      }
     },
     "3e8e09e019a24d0ea6702b4f43879a2a": {
      "model_module": "@jupyter-widgets/base",
      "model_module_version": "2.0.0",
      "model_name": "LayoutModel",
      "state": {
       "visibility": "hidden"
      }
     },
     "3e93cae8bbd54dec83dafda6181b40ce": {
      "model_module": "@jupyter-widgets/base",
      "model_module_version": "2.0.0",
      "model_name": "LayoutModel",
      "state": {}
     },
     "3e9e262ba44041dc9e832c0d34563e50": {
      "model_module": "@jupyter-widgets/base",
      "model_module_version": "2.0.0",
      "model_name": "LayoutModel",
      "state": {}
     },
     "3ea2bf9040e3454da8a50145a42057d1": {
      "model_module": "@jupyter-widgets/base",
      "model_module_version": "2.0.0",
      "model_name": "LayoutModel",
      "state": {
       "visibility": "hidden"
      }
     },
     "3eaf1e21a6e5403f89c5aabf0c95165a": {
      "model_module": "@jupyter-widgets/base",
      "model_module_version": "2.0.0",
      "model_name": "LayoutModel",
      "state": {
       "visibility": "hidden"
      }
     },
     "3ec0993974f84a158effa6e79656ffca": {
      "model_module": "@jupyter-widgets/base",
      "model_module_version": "2.0.0",
      "model_name": "LayoutModel",
      "state": {
       "visibility": "hidden"
      }
     },
     "3ec0aea08c8e45729ffbe95fb6f99d39": {
      "model_module": "@jupyter-widgets/controls",
      "model_module_version": "2.0.0",
      "model_name": "HTMLStyleModel",
      "state": {
       "description_width": "",
       "font_size": null,
       "text_color": null
      }
     },
     "3ee85c691a8d4bdbb802165bf4f74f36": {
      "model_module": "@jupyter-widgets/controls",
      "model_module_version": "2.0.0",
      "model_name": "HTMLStyleModel",
      "state": {
       "description_width": "",
       "font_size": null,
       "text_color": null
      }
     },
     "3ee95ea7e0a44068b27ee9bd915d4f4e": {
      "model_module": "@jupyter-widgets/controls",
      "model_module_version": "2.0.0",
      "model_name": "HTMLStyleModel",
      "state": {
       "description_width": "",
       "font_size": null,
       "text_color": null
      }
     },
     "3f384d476121495fbd53ce3d4345d02f": {
      "model_module": "@jupyter-widgets/controls",
      "model_module_version": "2.0.0",
      "model_name": "HTMLStyleModel",
      "state": {
       "description_width": "",
       "font_size": null,
       "text_color": null
      }
     },
     "3f769089037f430eb41d080f8954293a": {
      "model_module": "@jupyter-widgets/controls",
      "model_module_version": "2.0.0",
      "model_name": "FloatProgressModel",
      "state": {
       "layout": "IPY_MODEL_d20412062ea44b16907a34fefa304280",
       "max": 14,
       "style": "IPY_MODEL_11b092c721c644ae93f535f9e9221c0e",
       "value": 14
      }
     },
     "3f7ca8f1236f4d5aa364347bb37cf3f0": {
      "model_module": "@jupyter-widgets/controls",
      "model_module_version": "2.0.0",
      "model_name": "FloatProgressModel",
      "state": {
       "layout": "IPY_MODEL_de717c789f144edd96dede40927e2814",
       "max": 77,
       "style": "IPY_MODEL_48861e38e5b04bbebbd231d606c583da",
       "value": 77
      }
     },
     "3ff4abdadaa2490da2427ca81d25a163": {
      "model_module": "@jupyter-widgets/controls",
      "model_module_version": "2.0.0",
      "model_name": "HTMLStyleModel",
      "state": {
       "description_width": "",
       "font_size": null,
       "text_color": null
      }
     },
     "3ff733868f5f43168fbfeba503e7666b": {
      "model_module": "@jupyter-widgets/base",
      "model_module_version": "2.0.0",
      "model_name": "LayoutModel",
      "state": {}
     },
     "3ff84f14c8c24a8aab25418a93f405bb": {
      "model_module": "@jupyter-widgets/controls",
      "model_module_version": "2.0.0",
      "model_name": "HTMLModel",
      "state": {
       "layout": "IPY_MODEL_67a2d4c3065d43a2944598d6d345e256",
       "style": "IPY_MODEL_21342e727adb4a2498bbbf7f7ea51bc3",
       "value": " 23/23 [00:01&lt;00:00, 16.80it/s]"
      }
     },
     "400bc74d86524c9995e615dc83b1ba42": {
      "model_module": "@jupyter-widgets/controls",
      "model_module_version": "2.0.0",
      "model_name": "HTMLStyleModel",
      "state": {
       "description_width": "",
       "font_size": null,
       "text_color": null
      }
     },
     "401b40d6300d4d3088355dba43850794": {
      "model_module": "@jupyter-widgets/controls",
      "model_module_version": "2.0.0",
      "model_name": "FloatProgressModel",
      "state": {
       "layout": "IPY_MODEL_405de24790cf4c74bc26778e474cdaaf",
       "max": 32,
       "style": "IPY_MODEL_1b79812a96d449bca868da1f118c86d1",
       "value": 32
      }
     },
     "401c9a8e40c14cfcafe1914af2393cf9": {
      "model_module": "@jupyter-widgets/controls",
      "model_module_version": "2.0.0",
      "model_name": "ProgressStyleModel",
      "state": {
       "description_width": ""
      }
     },
     "404f84c85b654a52aed33b1bcfae23f4": {
      "model_module": "@jupyter-widgets/controls",
      "model_module_version": "2.0.0",
      "model_name": "FloatProgressModel",
      "state": {
       "layout": "IPY_MODEL_a8642c082b844e93ab34134a35fa593f",
       "max": 14,
       "style": "IPY_MODEL_ce2d4296893848b081d9962d2c97051b",
       "value": 14
      }
     },
     "4057da84e8f943629d31ab6417ec1a47": {
      "model_module": "@jupyter-widgets/base",
      "model_module_version": "2.0.0",
      "model_name": "LayoutModel",
      "state": {
       "visibility": "hidden"
      }
     },
     "405de24790cf4c74bc26778e474cdaaf": {
      "model_module": "@jupyter-widgets/base",
      "model_module_version": "2.0.0",
      "model_name": "LayoutModel",
      "state": {}
     },
     "4077a7cc472546599d24969f8a3312fb": {
      "model_module": "@jupyter-widgets/controls",
      "model_module_version": "2.0.0",
      "model_name": "HTMLStyleModel",
      "state": {
       "description_width": "",
       "font_size": null,
       "text_color": null
      }
     },
     "407f2b9dacd747e6b1cd781bf3ba8304": {
      "model_module": "@jupyter-widgets/controls",
      "model_module_version": "2.0.0",
      "model_name": "HTMLModel",
      "state": {
       "layout": "IPY_MODEL_5b59f67ee17a45d3947c32bd267d4f8b",
       "style": "IPY_MODEL_11a6d4d488b740048f86eedfa69c4763",
       "value": "Epoch 5, Loss: 3.3290: 100%"
      }
     },
     "40983cf0616b481d96eb1473812844fe": {
      "model_module": "@jupyter-widgets/controls",
      "model_module_version": "2.0.0",
      "model_name": "FloatProgressModel",
      "state": {
       "layout": "IPY_MODEL_e2d99cb05d994b9ea0b47789d418eac7",
       "max": 27,
       "style": "IPY_MODEL_ee18a6c3469345f8a17d284f9b431a5a",
       "value": 27
      }
     },
     "40d0f9982bf4440b9eeaa79a094bf309": {
      "model_module": "@jupyter-widgets/base",
      "model_module_version": "2.0.0",
      "model_name": "LayoutModel",
      "state": {}
     },
     "40e8bcf46d2c4ca39cfb845033c8b5a9": {
      "model_module": "@jupyter-widgets/controls",
      "model_module_version": "2.0.0",
      "model_name": "HTMLStyleModel",
      "state": {
       "description_width": "",
       "font_size": null,
       "text_color": null
      }
     },
     "4111c49997ce43a487975bc78cbdbc3a": {
      "model_module": "@jupyter-widgets/base",
      "model_module_version": "2.0.0",
      "model_name": "LayoutModel",
      "state": {}
     },
     "41430d09d7114b979999038a354f6fb5": {
      "model_module": "@jupyter-widgets/base",
      "model_module_version": "2.0.0",
      "model_name": "LayoutModel",
      "state": {
       "visibility": "hidden"
      }
     },
     "4158cf3aaf944a5dbc3d67e4b10840fa": {
      "model_module": "@jupyter-widgets/base",
      "model_module_version": "2.0.0",
      "model_name": "LayoutModel",
      "state": {
       "visibility": "hidden"
      }
     },
     "416d0d0f55b24482a39f9e75b201c5aa": {
      "model_module": "@jupyter-widgets/controls",
      "model_module_version": "2.0.0",
      "model_name": "FloatProgressModel",
      "state": {
       "layout": "IPY_MODEL_2c54e860cc3945e2a34b455edc6d1df5",
       "max": 32,
       "style": "IPY_MODEL_c7bee8fbcb8a41de9e3a51c969f6d154",
       "value": 32
      }
     },
     "4189549ab3674a5b8cc77d6e733fa586": {
      "model_module": "@jupyter-widgets/controls",
      "model_module_version": "2.0.0",
      "model_name": "HTMLStyleModel",
      "state": {
       "description_width": "",
       "font_size": null,
       "text_color": null
      }
     },
     "4190fc6af5f94edf9ed74683fb08792a": {
      "model_module": "@jupyter-widgets/controls",
      "model_module_version": "2.0.0",
      "model_name": "HTMLStyleModel",
      "state": {
       "description_width": "",
       "font_size": null,
       "text_color": null
      }
     },
     "41af118a036743eda645dce635372c46": {
      "model_module": "@jupyter-widgets/base",
      "model_module_version": "2.0.0",
      "model_name": "LayoutModel",
      "state": {}
     },
     "41b09d686c85488fbe8b2a06bd9e4a76": {
      "model_module": "@jupyter-widgets/controls",
      "model_module_version": "2.0.0",
      "model_name": "ProgressStyleModel",
      "state": {
       "description_width": ""
      }
     },
     "41c220c4077e4ba8b56d986d154668a6": {
      "model_module": "@jupyter-widgets/base",
      "model_module_version": "2.0.0",
      "model_name": "LayoutModel",
      "state": {
       "visibility": "hidden"
      }
     },
     "41ec9bbf3f1c4cb2af0c5de3eddaff12": {
      "model_module": "@jupyter-widgets/base",
      "model_module_version": "2.0.0",
      "model_name": "LayoutModel",
      "state": {}
     },
     "41f329e2f55d44409425a33afbaf93b8": {
      "model_module": "@jupyter-widgets/controls",
      "model_module_version": "2.0.0",
      "model_name": "ProgressStyleModel",
      "state": {
       "description_width": ""
      }
     },
     "41f4862020374a2e9bbb8722ed28c481": {
      "model_module": "@jupyter-widgets/base",
      "model_module_version": "2.0.0",
      "model_name": "LayoutModel",
      "state": {}
     },
     "41f9b4d8330f42169fb043d951bf8204": {
      "model_module": "@jupyter-widgets/controls",
      "model_module_version": "2.0.0",
      "model_name": "HTMLModel",
      "state": {
       "layout": "IPY_MODEL_69ca47d25db548ddb2a699fabd0c298b",
       "style": "IPY_MODEL_1e791331eb0d43919e33b8b12fcae179",
       "value": "Epoch 8, Loss: 3.3319: 100%"
      }
     },
     "420a74cbd85946dcbb67c1187fe98d1c": {
      "model_module": "@jupyter-widgets/base",
      "model_module_version": "2.0.0",
      "model_name": "LayoutModel",
      "state": {}
     },
     "420fd1ddd7da4a04a96fae64705a0cce": {
      "model_module": "@jupyter-widgets/base",
      "model_module_version": "2.0.0",
      "model_name": "LayoutModel",
      "state": {}
     },
     "42197ce051184ea290e36724f982be22": {
      "model_module": "@jupyter-widgets/controls",
      "model_module_version": "2.0.0",
      "model_name": "HTMLStyleModel",
      "state": {
       "description_width": "",
       "font_size": null,
       "text_color": null
      }
     },
     "42231b537bc744f78804deb5e56b1f49": {
      "model_module": "@jupyter-widgets/controls",
      "model_module_version": "2.0.0",
      "model_name": "HTMLModel",
      "state": {
       "layout": "IPY_MODEL_2b9cd368c3b447598379ace3ea044d15",
       "style": "IPY_MODEL_82e5211d50384e348e05e056c996ec27",
       "value": "Epoch 17, Loss: 2.2215: 100%"
      }
     },
     "422570183dc14239aa8d5392e4df3213": {
      "model_module": "@jupyter-widgets/controls",
      "model_module_version": "2.0.0",
      "model_name": "HTMLStyleModel",
      "state": {
       "description_width": "",
       "font_size": null,
       "text_color": null
      }
     },
     "4232ee1637e54a8ca1a7263dcb4cda60": {
      "model_module": "@jupyter-widgets/controls",
      "model_module_version": "2.0.0",
      "model_name": "HTMLStyleModel",
      "state": {
       "description_width": "",
       "font_size": null,
       "text_color": null
      }
     },
     "4239d6cecdb6479788980c535037a435": {
      "model_module": "@jupyter-widgets/controls",
      "model_module_version": "2.0.0",
      "model_name": "HTMLStyleModel",
      "state": {
       "description_width": "",
       "font_size": null,
       "text_color": null
      }
     },
     "424af4f508904fe6814b0cfa4bb5297f": {
      "model_module": "@jupyter-widgets/controls",
      "model_module_version": "2.0.0",
      "model_name": "HTMLStyleModel",
      "state": {
       "description_width": "",
       "font_size": null,
       "text_color": null
      }
     },
     "4284dca7fb634d69b7084e39d7ed248a": {
      "model_module": "@jupyter-widgets/controls",
      "model_module_version": "2.0.0",
      "model_name": "HTMLStyleModel",
      "state": {
       "description_width": "",
       "font_size": null,
       "text_color": null
      }
     },
     "4287ad518e4f48639e34220fcd8066e0": {
      "model_module": "@jupyter-widgets/controls",
      "model_module_version": "2.0.0",
      "model_name": "ProgressStyleModel",
      "state": {
       "description_width": ""
      }
     },
     "42970bcf9f1a48c4bf4d9c50f7d5e54c": {
      "model_module": "@jupyter-widgets/controls",
      "model_module_version": "2.0.0",
      "model_name": "FloatProgressModel",
      "state": {
       "layout": "IPY_MODEL_5060321b9ee54aee80be7cfbebe01a1f",
       "max": 77,
       "style": "IPY_MODEL_92cead272e8c4e23a83ce9ec162b2b11",
       "value": 77
      }
     },
     "42b6db3066ce42c0bd42c2058f69142a": {
      "model_module": "@jupyter-widgets/controls",
      "model_module_version": "2.0.0",
      "model_name": "HTMLModel",
      "state": {
       "layout": "IPY_MODEL_69c30c4a308841009e875a244784b9ec",
       "style": "IPY_MODEL_cc84ac4c9fc94a35b9ecd9963d05ef14",
       "value": " 13/14 [00:01&lt;00:00,  9.94it/s]"
      }
     },
     "42f3225baa20499c8f3f39b633d850ee": {
      "model_module": "@jupyter-widgets/controls",
      "model_module_version": "2.0.0",
      "model_name": "HTMLModel",
      "state": {
       "layout": "IPY_MODEL_e522e455b496447f81a4d17a29681573",
       "style": "IPY_MODEL_dad9ead6131f479b854f3959db0dda9d",
       "value": "Epoch 12, Loss: 3.0501: 100%"
      }
     },
     "430747ccab924905ae3507dcb4ce753e": {
      "model_module": "@jupyter-widgets/base",
      "model_module_version": "2.0.0",
      "model_name": "LayoutModel",
      "state": {}
     },
     "430c208a4c24413883291a2b76075812": {
      "model_module": "@jupyter-widgets/base",
      "model_module_version": "2.0.0",
      "model_name": "LayoutModel",
      "state": {}
     },
     "4321b0050bfc4630b44385bfea12b35d": {
      "model_module": "@jupyter-widgets/controls",
      "model_module_version": "2.0.0",
      "model_name": "HTMLModel",
      "state": {
       "layout": "IPY_MODEL_01e0fc069ea947e9a07b29ed9d6a834d",
       "style": "IPY_MODEL_502f42adcbe448ac91341e65deffca55",
       "value": " 32/32 [00:09&lt;00:00,  3.40it/s]"
      }
     },
     "43444cfd59754b0d8c3e4c58c28a0067": {
      "model_module": "@jupyter-widgets/base",
      "model_module_version": "2.0.0",
      "model_name": "LayoutModel",
      "state": {}
     },
     "434f70023f934d32b3e5af8bae00aa1e": {
      "model_module": "@jupyter-widgets/controls",
      "model_module_version": "2.0.0",
      "model_name": "HTMLModel",
      "state": {
       "layout": "IPY_MODEL_1dfb380e8770454891876140db71a839",
       "style": "IPY_MODEL_1a98e05703164d02934640e2917d450b",
       "value": "Epoch 10, Loss: 2.0897: 100%"
      }
     },
     "43925b35b4634f959734807775f53ab9": {
      "model_module": "@jupyter-widgets/controls",
      "model_module_version": "2.0.0",
      "model_name": "HTMLModel",
      "state": {
       "layout": "IPY_MODEL_6de05a8877ae4b7684419d12de697e86",
       "style": "IPY_MODEL_198322a78ae846878f8fd141622a453a",
       "value": "Epoch 8, Loss: 2.9681: 100%"
      }
     },
     "43b196bc4bf842dd94b78179d5600c76": {
      "model_module": "@jupyter-widgets/controls",
      "model_module_version": "2.0.0",
      "model_name": "HTMLModel",
      "state": {
       "layout": "IPY_MODEL_3e2267acdab4470883bc916dfedc1c93",
       "style": "IPY_MODEL_b552ec7d582741828f9e7101ab385525",
       "value": "Epoch 3, Loss: 2.2970: 100%"
      }
     },
     "43b641b230f6452a89702d230c804dcf": {
      "model_module": "@jupyter-widgets/controls",
      "model_module_version": "2.0.0",
      "model_name": "HTMLModel",
      "state": {
       "layout": "IPY_MODEL_f6f8bdbc334d47458c5e27a2f66b2755",
       "style": "IPY_MODEL_e61a35a316ea401f8702675de66cc581",
       "value": "Epoch 1996, Loss: -24.4943: 100%"
      }
     },
     "43ccbd2fbf8d4396a3b9f7b438ad53cc": {
      "model_module": "@jupyter-widgets/controls",
      "model_module_version": "2.0.0",
      "model_name": "FloatProgressModel",
      "state": {
       "layout": "IPY_MODEL_1b467d67360843c8ac7d7ca9e2ea1b32",
       "max": 63,
       "style": "IPY_MODEL_c18a01753a51432b9b5041ffbdea5e45",
       "value": 63
      }
     },
     "43e95b7e9b134264aa6f3e9b7a376018": {
      "model_module": "@jupyter-widgets/controls",
      "model_module_version": "2.0.0",
      "model_name": "HTMLStyleModel",
      "state": {
       "description_width": "",
       "font_size": null,
       "text_color": null
      }
     },
     "441179f67eb8481b953c6bf56f64057f": {
      "model_module": "@jupyter-widgets/controls",
      "model_module_version": "2.0.0",
      "model_name": "FloatProgressModel",
      "state": {
       "layout": "IPY_MODEL_9489e0ec2e974a1395d349b78985366e",
       "max": 14,
       "style": "IPY_MODEL_45194758ea094c7a9a49a79563806c15",
       "value": 14
      }
     },
     "441d3fdab2774de3bee45122e655cf45": {
      "model_module": "@jupyter-widgets/base",
      "model_module_version": "2.0.0",
      "model_name": "LayoutModel",
      "state": {}
     },
     "4438e240e34449c8b2bf3fe6e118109b": {
      "model_module": "@jupyter-widgets/base",
      "model_module_version": "2.0.0",
      "model_name": "LayoutModel",
      "state": {}
     },
     "443ed7825e174ea5b28510a156557dee": {
      "model_module": "@jupyter-widgets/base",
      "model_module_version": "2.0.0",
      "model_name": "LayoutModel",
      "state": {}
     },
     "444b7b5e1b3944c790279ee919202052": {
      "model_module": "@jupyter-widgets/controls",
      "model_module_version": "2.0.0",
      "model_name": "FloatProgressModel",
      "state": {
       "layout": "IPY_MODEL_50b01d4733cf42e1a1f95989a3025fa6",
       "max": 32,
       "style": "IPY_MODEL_495a601b1dd946e4866283723a9f3004",
       "value": 32
      }
     },
     "44773cdb40aa435b856fbb8a84d8455c": {
      "model_module": "@jupyter-widgets/controls",
      "model_module_version": "2.0.0",
      "model_name": "FloatProgressModel",
      "state": {
       "layout": "IPY_MODEL_35553dab87524ec08d0bcd98b02359c1",
       "max": 14,
       "style": "IPY_MODEL_713bcf1b23ae4fe58e32eddf0f2e7632",
       "value": 14
      }
     },
     "447d0f8167a24b36b8a765d5ec06592c": {
      "model_module": "@jupyter-widgets/controls",
      "model_module_version": "2.0.0",
      "model_name": "FloatProgressModel",
      "state": {
       "layout": "IPY_MODEL_b2ba4d5ab68e4fbc8f932b436ebe6ac6",
       "max": 32,
       "style": "IPY_MODEL_36556e807aad47e2bec3fd36b366dbf2",
       "value": 32
      }
     },
     "4498cdbf8ac8432ab6273146094703ef": {
      "model_module": "@jupyter-widgets/base",
      "model_module_version": "2.0.0",
      "model_name": "LayoutModel",
      "state": {
       "visibility": "hidden"
      }
     },
     "44a22e0e805e41ea8eca622df766313c": {
      "model_module": "@jupyter-widgets/controls",
      "model_module_version": "2.0.0",
      "model_name": "HTMLStyleModel",
      "state": {
       "description_width": "",
       "font_size": null,
       "text_color": null
      }
     },
     "44a6fb42371c4d968ee9d21ded0ec538": {
      "model_module": "@jupyter-widgets/controls",
      "model_module_version": "2.0.0",
      "model_name": "HTMLModel",
      "state": {
       "layout": "IPY_MODEL_e5bc66494755420291e2ec52e0deb8e8",
       "style": "IPY_MODEL_21ed67bc858140d78dfe726dcb275684",
       "value": "Epoch 19, Loss: 4.6295: 100%"
      }
     },
     "44ebe0e25a814c88922f6eb9987c5942": {
      "model_module": "@jupyter-widgets/controls",
      "model_module_version": "2.0.0",
      "model_name": "FloatProgressModel",
      "state": {
       "layout": "IPY_MODEL_877f608e24a94d9880244083fff0d9db",
       "max": 77,
       "style": "IPY_MODEL_f47174dd247f4dcba0796f336a8a8bca",
       "value": 77
      }
     },
     "45088033e65b460ca20d1d67f65584ae": {
      "model_module": "@jupyter-widgets/controls",
      "model_module_version": "2.0.0",
      "model_name": "ProgressStyleModel",
      "state": {
       "description_width": ""
      }
     },
     "45101704ee204705b925addeb9090c50": {
      "model_module": "@jupyter-widgets/controls",
      "model_module_version": "2.0.0",
      "model_name": "HTMLModel",
      "state": {
       "layout": "IPY_MODEL_a3b6ac9522754fa1a0406db43a51cdad",
       "style": "IPY_MODEL_6597bda0c56d440aae222bbe91d8b1e6",
       "value": "Epoch 18, Loss: 2.0273: 100%"
      }
     },
     "4517f2b2210040d4a74ae473da62e70d": {
      "model_module": "@jupyter-widgets/base",
      "model_module_version": "2.0.0",
      "model_name": "LayoutModel",
      "state": {}
     },
     "45194758ea094c7a9a49a79563806c15": {
      "model_module": "@jupyter-widgets/controls",
      "model_module_version": "2.0.0",
      "model_name": "ProgressStyleModel",
      "state": {
       "description_width": ""
      }
     },
     "45215f3ee38f47d19b565fa812b7e873": {
      "model_module": "@jupyter-widgets/controls",
      "model_module_version": "2.0.0",
      "model_name": "FloatProgressModel",
      "state": {
       "layout": "IPY_MODEL_1f6f52eddfb344deb3f4ccb7ec636d9b",
       "max": 27,
       "style": "IPY_MODEL_ba7a416edc9b4399b846b854bc9c32c5",
       "value": 27
      }
     },
     "4526caad1c734881ae1f1e54a3e320da": {
      "model_module": "@jupyter-widgets/controls",
      "model_module_version": "2.0.0",
      "model_name": "HTMLStyleModel",
      "state": {
       "description_width": "",
       "font_size": null,
       "text_color": null
      }
     },
     "4546cee4936e46ed96558c8c093042c3": {
      "model_module": "@jupyter-widgets/controls",
      "model_module_version": "2.0.0",
      "model_name": "HTMLStyleModel",
      "state": {
       "description_width": "",
       "font_size": null,
       "text_color": null
      }
     },
     "4557d75a3c2346208bd782fed6e4b39e": {
      "model_module": "@jupyter-widgets/controls",
      "model_module_version": "2.0.0",
      "model_name": "ProgressStyleModel",
      "state": {
       "description_width": ""
      }
     },
     "457682a779304ba78536f5ab9de572d6": {
      "model_module": "@jupyter-widgets/base",
      "model_module_version": "2.0.0",
      "model_name": "LayoutModel",
      "state": {}
     },
     "458530b894c1441ba852f8d60e411631": {
      "model_module": "@jupyter-widgets/base",
      "model_module_version": "2.0.0",
      "model_name": "LayoutModel",
      "state": {}
     },
     "45c842dd3ebf4c10b8f94c05c746f0a9": {
      "model_module": "@jupyter-widgets/controls",
      "model_module_version": "2.0.0",
      "model_name": "HTMLStyleModel",
      "state": {
       "description_width": "",
       "font_size": null,
       "text_color": null
      }
     },
     "460614c5f8df48f4bc6f014896c4d7f8": {
      "model_module": "@jupyter-widgets/controls",
      "model_module_version": "2.0.0",
      "model_name": "HTMLModel",
      "state": {
       "layout": "IPY_MODEL_da9be591f0c949468748fecbaa8df8f8",
       "style": "IPY_MODEL_c5d7475632544f829a775990889d2fb8",
       "value": " 14/14 [00:01&lt;00:00,  8.77it/s]"
      }
     },
     "460e5c9753474a15bbbbf9cd2e0270d0": {
      "model_module": "@jupyter-widgets/base",
      "model_module_version": "2.0.0",
      "model_name": "LayoutModel",
      "state": {}
     },
     "463a3c3ca41340f292c5040f153b1aa0": {
      "model_module": "@jupyter-widgets/controls",
      "model_module_version": "2.0.0",
      "model_name": "HTMLModel",
      "state": {
       "layout": "IPY_MODEL_0bc801899a52411596259e1b20e28088",
       "style": "IPY_MODEL_b1fec8ac5761425e9d1d29f6f705d09d",
       "value": "Epoch 13, Loss: 3.8709: 100%"
      }
     },
     "463f96ca08124ce691b85a394d4b044c": {
      "model_module": "@jupyter-widgets/base",
      "model_module_version": "2.0.0",
      "model_name": "LayoutModel",
      "state": {}
     },
     "4662d0981fbc4048a83ab400b786b6d8": {
      "model_module": "@jupyter-widgets/controls",
      "model_module_version": "2.0.0",
      "model_name": "HTMLModel",
      "state": {
       "layout": "IPY_MODEL_c00177deed5b4160a4a489a6fc96bdc5",
       "style": "IPY_MODEL_549a26b08f8e4c02a593b947477d3f89",
       "value": " 13/14 [00:01&lt;00:00, 10.21it/s]"
      }
     },
     "4671aaf229464654ad211280c7ad4def": {
      "model_module": "@jupyter-widgets/controls",
      "model_module_version": "2.0.0",
      "model_name": "HTMLModel",
      "state": {
       "layout": "IPY_MODEL_b81f4aeab24d4ad6a9da6aeb5863a6cc",
       "style": "IPY_MODEL_f402b08fddd6473f9baf7400bcb3531d",
       "value": " 32/32 [00:09&lt;00:00,  3.48it/s]"
      }
     },
     "46b76f245fd44d8ea6aad2b6b4615769": {
      "model_module": "@jupyter-widgets/base",
      "model_module_version": "2.0.0",
      "model_name": "LayoutModel",
      "state": {}
     },
     "46bab1f625bd427a87aa62e270e58e87": {
      "model_module": "@jupyter-widgets/controls",
      "model_module_version": "2.0.0",
      "model_name": "HTMLModel",
      "state": {
       "layout": "IPY_MODEL_738c8c8409764ede9f253a595751e188",
       "style": "IPY_MODEL_a278db79668d4276b16134df2c03e59c",
       "value": " 32/32 [00:09&lt;00:00,  3.47it/s]"
      }
     },
     "46cfa6e8134e4027bf1ad9973101b615": {
      "model_module": "@jupyter-widgets/controls",
      "model_module_version": "2.0.0",
      "model_name": "HTMLStyleModel",
      "state": {
       "description_width": "",
       "font_size": null,
       "text_color": null
      }
     },
     "46d7e9dfe0144b779b6481a6898c3f0f": {
      "model_module": "@jupyter-widgets/controls",
      "model_module_version": "2.0.0",
      "model_name": "ProgressStyleModel",
      "state": {
       "description_width": ""
      }
     },
     "46fd6dc8670d4077bbd1a28648941fd5": {
      "model_module": "@jupyter-widgets/base",
      "model_module_version": "2.0.0",
      "model_name": "LayoutModel",
      "state": {
       "visibility": "hidden"
      }
     },
     "470ddd680dfb425f82fff87e925424c3": {
      "model_module": "@jupyter-widgets/base",
      "model_module_version": "2.0.0",
      "model_name": "LayoutModel",
      "state": {
       "visibility": "hidden"
      }
     },
     "470f125008b34f6e91cf361251496d0d": {
      "model_module": "@jupyter-widgets/controls",
      "model_module_version": "2.0.0",
      "model_name": "HTMLStyleModel",
      "state": {
       "description_width": "",
       "font_size": null,
       "text_color": null
      }
     },
     "4719187ecdca439d92c4fd6bcbe3d581": {
      "model_module": "@jupyter-widgets/controls",
      "model_module_version": "2.0.0",
      "model_name": "ProgressStyleModel",
      "state": {
       "description_width": ""
      }
     },
     "4751692cb90e454fb1b5fcf25e63b233": {
      "model_module": "@jupyter-widgets/base",
      "model_module_version": "2.0.0",
      "model_name": "LayoutModel",
      "state": {}
     },
     "4756f12e17274d109014f41ee0149d6b": {
      "model_module": "@jupyter-widgets/base",
      "model_module_version": "2.0.0",
      "model_name": "LayoutModel",
      "state": {
       "visibility": "hidden"
      }
     },
     "475b8355a1394f32b89437648d9c68f6": {
      "model_module": "@jupyter-widgets/controls",
      "model_module_version": "2.0.0",
      "model_name": "HTMLModel",
      "state": {
       "layout": "IPY_MODEL_4517f2b2210040d4a74ae473da62e70d",
       "style": "IPY_MODEL_310ce046ca1240a69c6a559b98167770",
       "value": " 23/23 [00:01&lt;00:00, 16.57it/s]"
      }
     },
     "47659648322041aa9d903d1e2d75d2bc": {
      "model_module": "@jupyter-widgets/controls",
      "model_module_version": "2.0.0",
      "model_name": "HTMLModel",
      "state": {
       "layout": "IPY_MODEL_28e3b958e94144ec9f3b9ba3b712e294",
       "style": "IPY_MODEL_f6bae7ebca7c4a46afaf92b58d20a1d1",
       "value": " 20/20 [09:08&lt;00:00, 25.91s/epoch]"
      }
     },
     "476b8c5d0c0447c6be8c89b30206e18a": {
      "model_module": "@jupyter-widgets/base",
      "model_module_version": "2.0.0",
      "model_name": "LayoutModel",
      "state": {
       "visibility": "hidden"
      }
     },
     "4788f0cd6b1b40e2a6082c2865f027d4": {
      "model_module": "@jupyter-widgets/controls",
      "model_module_version": "2.0.0",
      "model_name": "HTMLModel",
      "state": {
       "layout": "IPY_MODEL_7603df12093c414eb75e63771cf8f2d4",
       "style": "IPY_MODEL_5b7559bdc903442d96a925f0d9cf74c4",
       "value": "Epoch 1997, Loss: -24.5071: 100%"
      }
     },
     "479fa45b5b814c7f9555dd54037998cd": {
      "model_module": "@jupyter-widgets/controls",
      "model_module_version": "2.0.0",
      "model_name": "FloatProgressModel",
      "state": {
       "layout": "IPY_MODEL_811f286711604ab587c84803fc3a9732",
       "max": 14,
       "style": "IPY_MODEL_6baa0284b0b249dcaa3bde2029b81f5f",
       "value": 14
      }
     },
     "47bc0c56a018414eb4963391e29ae656": {
      "model_module": "@jupyter-widgets/base",
      "model_module_version": "2.0.0",
      "model_name": "LayoutModel",
      "state": {
       "visibility": "hidden"
      }
     },
     "47d121d0e84547c3b0a299a6250db1ba": {
      "model_module": "@jupyter-widgets/controls",
      "model_module_version": "2.0.0",
      "model_name": "HTMLStyleModel",
      "state": {
       "description_width": "",
       "font_size": null,
       "text_color": null
      }
     },
     "47d40810bf0149318d2fd561232c46ab": {
      "model_module": "@jupyter-widgets/controls",
      "model_module_version": "2.0.0",
      "model_name": "ProgressStyleModel",
      "state": {
       "description_width": ""
      }
     },
     "47dfc455851447a59bb22a7dbd7679cf": {
      "model_module": "@jupyter-widgets/controls",
      "model_module_version": "2.0.0",
      "model_name": "ProgressStyleModel",
      "state": {
       "description_width": ""
      }
     },
     "48064c2edf164c21b53c7ece771a1334": {
      "model_module": "@jupyter-widgets/base",
      "model_module_version": "2.0.0",
      "model_name": "LayoutModel",
      "state": {
       "visibility": "hidden"
      }
     },
     "480f1ac5a90a4ad4bcf0d532a5a607ee": {
      "model_module": "@jupyter-widgets/controls",
      "model_module_version": "2.0.0",
      "model_name": "HTMLModel",
      "state": {
       "layout": "IPY_MODEL_c6981d7f5ea144149fed4436570a11f1",
       "style": "IPY_MODEL_0822e44b020c41e48f75b3ff4c763154",
       "value": " 77/77 [00:24&lt;00:00,  3.40it/s]"
      }
     },
     "481b616086194746a739c88753250ec5": {
      "model_module": "@jupyter-widgets/controls",
      "model_module_version": "2.0.0",
      "model_name": "ProgressStyleModel",
      "state": {
       "description_width": ""
      }
     },
     "484925e233bd4c5bbf2028b4bbb9c3a9": {
      "model_module": "@jupyter-widgets/controls",
      "model_module_version": "2.0.0",
      "model_name": "HTMLStyleModel",
      "state": {
       "description_width": "",
       "font_size": null,
       "text_color": null
      }
     },
     "487a3cd4e97c4231a4db9998009243d3": {
      "model_module": "@jupyter-widgets/base",
      "model_module_version": "2.0.0",
      "model_name": "LayoutModel",
      "state": {}
     },
     "48861e38e5b04bbebbd231d606c583da": {
      "model_module": "@jupyter-widgets/controls",
      "model_module_version": "2.0.0",
      "model_name": "ProgressStyleModel",
      "state": {
       "description_width": ""
      }
     },
     "4890d702604b409ca6e967d76ca47f6a": {
      "model_module": "@jupyter-widgets/base",
      "model_module_version": "2.0.0",
      "model_name": "LayoutModel",
      "state": {}
     },
     "48a13b18dee94a4dbf30106af0fbce47": {
      "model_module": "@jupyter-widgets/base",
      "model_module_version": "2.0.0",
      "model_name": "LayoutModel",
      "state": {}
     },
     "48aaeb45f6644f14b57c521e830634d0": {
      "model_module": "@jupyter-widgets/base",
      "model_module_version": "2.0.0",
      "model_name": "LayoutModel",
      "state": {}
     },
     "48c7e87163d44b9cb68db0c0effdec2a": {
      "model_module": "@jupyter-widgets/base",
      "model_module_version": "2.0.0",
      "model_name": "LayoutModel",
      "state": {}
     },
     "48c97185fc654cb9a4344d5adb319123": {
      "model_module": "@jupyter-widgets/base",
      "model_module_version": "2.0.0",
      "model_name": "LayoutModel",
      "state": {}
     },
     "48dc94a1106f4bea8d91db5088b21b0e": {
      "model_module": "@jupyter-widgets/base",
      "model_module_version": "2.0.0",
      "model_name": "LayoutModel",
      "state": {}
     },
     "4903a810936c43e796bdd8aee0e33f3f": {
      "model_module": "@jupyter-widgets/controls",
      "model_module_version": "2.0.0",
      "model_name": "HTMLStyleModel",
      "state": {
       "description_width": "",
       "font_size": null,
       "text_color": null
      }
     },
     "4926d91e676245bb9050e5b9ecd65892": {
      "model_module": "@jupyter-widgets/controls",
      "model_module_version": "2.0.0",
      "model_name": "HTMLStyleModel",
      "state": {
       "description_width": "",
       "font_size": null,
       "text_color": null
      }
     },
     "493e3d3118ce402fb3c2d50f76ce1d0d": {
      "model_module": "@jupyter-widgets/base",
      "model_module_version": "2.0.0",
      "model_name": "LayoutModel",
      "state": {}
     },
     "4940db1c674043b7a767725a4f27ef82": {
      "model_module": "@jupyter-widgets/controls",
      "model_module_version": "2.0.0",
      "model_name": "ProgressStyleModel",
      "state": {
       "description_width": ""
      }
     },
     "494c3c507ac749cd93ece035fe8cba08": {
      "model_module": "@jupyter-widgets/controls",
      "model_module_version": "2.0.0",
      "model_name": "HTMLModel",
      "state": {
       "layout": "IPY_MODEL_66b9df27153f4b818ac7abfdaee8958b",
       "style": "IPY_MODEL_c74cc0aa0a644426af41233141c1cb62",
       "value": " 32/32 [00:09&lt;00:00,  3.42it/s]"
      }
     },
     "495a601b1dd946e4866283723a9f3004": {
      "model_module": "@jupyter-widgets/controls",
      "model_module_version": "2.0.0",
      "model_name": "ProgressStyleModel",
      "state": {
       "description_width": ""
      }
     },
     "4960f6625ceb4840bc70bad374427ae5": {
      "model_module": "@jupyter-widgets/controls",
      "model_module_version": "2.0.0",
      "model_name": "ProgressStyleModel",
      "state": {
       "description_width": ""
      }
     },
     "499a59d6f6ce4d72931a192558be3952": {
      "model_module": "@jupyter-widgets/controls",
      "model_module_version": "2.0.0",
      "model_name": "HTMLModel",
      "state": {
       "layout": "IPY_MODEL_e1c3760907bd4649b0bea255c6b3891b",
       "style": "IPY_MODEL_920bb379519e43fdbb631f5a44af7b18",
       "value": "Epoch 4, Loss: 2.1369: 100%"
      }
     },
     "49a23a1216b54821938c49f4a9af3478": {
      "model_module": "@jupyter-widgets/controls",
      "model_module_version": "2.0.0",
      "model_name": "HTMLModel",
      "state": {
       "layout": "IPY_MODEL_1a71f289cb78463e8e6d3283cd29c56b",
       "style": "IPY_MODEL_895ba53e528d4b528c84382aaea31dc7",
       "value": "Epoch 1989, Loss: -24.4841: 100%"
      }
     },
     "49aa033ab95743888ba624d575e6aad0": {
      "model_module": "@jupyter-widgets/controls",
      "model_module_version": "2.0.0",
      "model_name": "HTMLStyleModel",
      "state": {
       "description_width": "",
       "font_size": null,
       "text_color": null
      }
     },
     "49c481c841d24cf69ddb4c594f47bc65": {
      "model_module": "@jupyter-widgets/controls",
      "model_module_version": "2.0.0",
      "model_name": "FloatProgressModel",
      "state": {
       "layout": "IPY_MODEL_99c9f838e4214f648a07018c895d3d9d",
       "max": 32,
       "style": "IPY_MODEL_7aab08ba634048d9a031eb16f6b0c7a5",
       "value": 32
      }
     },
     "49d02476827a4deb99d34ecc658f16ed": {
      "model_module": "@jupyter-widgets/controls",
      "model_module_version": "2.0.0",
      "model_name": "HTMLModel",
      "state": {
       "layout": "IPY_MODEL_35e1288c838b49b3be0834e37f683ca3",
       "style": "IPY_MODEL_d160ea013f044ddea19207b174ac1fd9",
       "value": "Epoch 12, Loss: 3.2401: 100%"
      }
     },
     "49d6c43e3b5e44b7894072527b84aea2": {
      "model_module": "@jupyter-widgets/controls",
      "model_module_version": "2.0.0",
      "model_name": "HTMLStyleModel",
      "state": {
       "description_width": "",
       "font_size": null,
       "text_color": null
      }
     },
     "49e389ef09df448f976afa59697a499d": {
      "model_module": "@jupyter-widgets/base",
      "model_module_version": "2.0.0",
      "model_name": "LayoutModel",
      "state": {
       "visibility": "hidden"
      }
     },
     "4a012ea203684469b5232e006567c8d5": {
      "model_module": "@jupyter-widgets/base",
      "model_module_version": "2.0.0",
      "model_name": "LayoutModel",
      "state": {
       "visibility": "hidden"
      }
     },
     "4a9f0406418240fcae9c51fac2b1a42e": {
      "model_module": "@jupyter-widgets/base",
      "model_module_version": "2.0.0",
      "model_name": "LayoutModel",
      "state": {}
     },
     "4aba46985b4d47df95062f1b860ae607": {
      "model_module": "@jupyter-widgets/controls",
      "model_module_version": "2.0.0",
      "model_name": "HTMLStyleModel",
      "state": {
       "description_width": "",
       "font_size": null,
       "text_color": null
      }
     },
     "4ac4d048b052488594d54ec743d19baf": {
      "model_module": "@jupyter-widgets/base",
      "model_module_version": "2.0.0",
      "model_name": "LayoutModel",
      "state": {
       "visibility": "hidden"
      }
     },
     "4ae5f6c628ef44d39934bf052e435441": {
      "model_module": "@jupyter-widgets/controls",
      "model_module_version": "2.0.0",
      "model_name": "HTMLModel",
      "state": {
       "layout": "IPY_MODEL_f6db9ff91c1548fb88aea4020f55f50a",
       "style": "IPY_MODEL_700d78d9cf7640f699c9639dab7fa705",
       "value": " 14/14 [00:01&lt;00:00, 10.36it/s]"
      }
     },
     "4af61fe225ba4e4386f3603798679609": {
      "model_module": "@jupyter-widgets/controls",
      "model_module_version": "2.0.0",
      "model_name": "HTMLModel",
      "state": {
       "layout": "IPY_MODEL_a54a3faf637c48dd9bb0d183818f29e3",
       "style": "IPY_MODEL_4ffeed0219954d0d88dd97e2be5da7fc",
       "value": " 14/14 [00:01&lt;00:00, 10.26it/s]"
      }
     },
     "4afccfd25c504a3a9b8faedbca49f4fb": {
      "model_module": "@jupyter-widgets/base",
      "model_module_version": "2.0.0",
      "model_name": "LayoutModel",
      "state": {
       "visibility": "hidden"
      }
     },
     "4b0e0ca4947d4111bf0b6377d52031e6": {
      "model_module": "@jupyter-widgets/base",
      "model_module_version": "2.0.0",
      "model_name": "LayoutModel",
      "state": {}
     },
     "4b47b11b0d78409f855deefe60e5c93b": {
      "model_module": "@jupyter-widgets/controls",
      "model_module_version": "2.0.0",
      "model_name": "ProgressStyleModel",
      "state": {
       "description_width": ""
      }
     },
     "4b6b3afb025b4f1d9958c78b7ec8c234": {
      "model_module": "@jupyter-widgets/controls",
      "model_module_version": "2.0.0",
      "model_name": "HTMLStyleModel",
      "state": {
       "description_width": "",
       "font_size": null,
       "text_color": null
      }
     },
     "4b70f39f874b4c0a97e6a5ea30b0aedd": {
      "model_module": "@jupyter-widgets/controls",
      "model_module_version": "2.0.0",
      "model_name": "FloatProgressModel",
      "state": {
       "layout": "IPY_MODEL_1802130e4a3644439a01f009d2cf9373",
       "max": 77,
       "style": "IPY_MODEL_fc34c1361d744653a436dbb649c71c84",
       "value": 77
      }
     },
     "4b7e952a626046c5bd6980fa63b4aa24": {
      "model_module": "@jupyter-widgets/base",
      "model_module_version": "2.0.0",
      "model_name": "LayoutModel",
      "state": {}
     },
     "4b813670d32249189c6d47d73656664a": {
      "model_module": "@jupyter-widgets/controls",
      "model_module_version": "2.0.0",
      "model_name": "HTMLStyleModel",
      "state": {
       "description_width": "",
       "font_size": null,
       "text_color": null
      }
     },
     "4b8b638abf6e46c2b5bcdfa62b35f25c": {
      "model_module": "@jupyter-widgets/controls",
      "model_module_version": "2.0.0",
      "model_name": "ProgressStyleModel",
      "state": {
       "description_width": ""
      }
     },
     "4bad67d816dc47e38724571aed18142a": {
      "model_module": "@jupyter-widgets/base",
      "model_module_version": "2.0.0",
      "model_name": "LayoutModel",
      "state": {}
     },
     "4bbaa461ab7146919c9dc71a1166313b": {
      "model_module": "@jupyter-widgets/base",
      "model_module_version": "2.0.0",
      "model_name": "LayoutModel",
      "state": {}
     },
     "4bc81e78fcc542e68b712f9081b3003a": {
      "model_module": "@jupyter-widgets/controls",
      "model_module_version": "2.0.0",
      "model_name": "HTMLModel",
      "state": {
       "layout": "IPY_MODEL_f337b74a65164de2aebacb5d9b0310cf",
       "style": "IPY_MODEL_173a6a592c354962a96f0238152ac577",
       "value": "Epoch 2, Loss: 3.0890:  93%"
      }
     },
     "4be56a37ee024243bd583c50ab70f9a0": {
      "model_module": "@jupyter-widgets/controls",
      "model_module_version": "2.0.0",
      "model_name": "HTMLStyleModel",
      "state": {
       "description_width": "",
       "font_size": null,
       "text_color": null
      }
     },
     "4bf95f7712b7489986b3d7089f222de5": {
      "model_module": "@jupyter-widgets/base",
      "model_module_version": "2.0.0",
      "model_name": "LayoutModel",
      "state": {
       "visibility": "hidden"
      }
     },
     "4c03f71b3ef641debfbea895116cad13": {
      "model_module": "@jupyter-widgets/controls",
      "model_module_version": "2.0.0",
      "model_name": "HTMLModel",
      "state": {
       "layout": "IPY_MODEL_bb0f1033324e44248e1bdd4301894a3f",
       "style": "IPY_MODEL_0d9d5de3ebed409ca831a2c5b2e78811",
       "value": "Epoch 6, Loss: 2.7604: 100%"
      }
     },
     "4c1feeb0ee69403ca9992d1ef81e97a5": {
      "model_module": "@jupyter-widgets/controls",
      "model_module_version": "2.0.0",
      "model_name": "HTMLStyleModel",
      "state": {
       "description_width": "",
       "font_size": null,
       "text_color": null
      }
     },
     "4c34b5e3297c42cea067aa8659a04ff6": {
      "model_module": "@jupyter-widgets/base",
      "model_module_version": "2.0.0",
      "model_name": "LayoutModel",
      "state": {}
     },
     "4c50c52b1c7f4542b30700aa57296fe1": {
      "model_module": "@jupyter-widgets/controls",
      "model_module_version": "2.0.0",
      "model_name": "HTMLModel",
      "state": {
       "layout": "IPY_MODEL_bc9043e3482f48d2a0da668e3ae067a4",
       "style": "IPY_MODEL_cfa3dbc5ebd34a119c18dfa6508dde29",
       "value": "Epoch 8, Loss: 3.5767: 100%"
      }
     },
     "4c7f5c1a09d448d98b392a194ea1c14b": {
      "model_module": "@jupyter-widgets/controls",
      "model_module_version": "2.0.0",
      "model_name": "ProgressStyleModel",
      "state": {
       "description_width": ""
      }
     },
     "4cd90dd1116e41a688e6bb836f1b7aac": {
      "model_module": "@jupyter-widgets/base",
      "model_module_version": "2.0.0",
      "model_name": "LayoutModel",
      "state": {
       "visibility": "hidden"
      }
     },
     "4d02fdb0825c4261b7eb85e4d7c4b33b": {
      "model_module": "@jupyter-widgets/controls",
      "model_module_version": "2.0.0",
      "model_name": "HTMLModel",
      "state": {
       "layout": "IPY_MODEL_487a3cd4e97c4231a4db9998009243d3",
       "style": "IPY_MODEL_e672a92b12c347c8b1762b38d6bb3cef",
       "value": "Epoch 8, Loss: 3.7719: 100%"
      }
     },
     "4d0cd7dc656d4cb6a3585a3438dae2b0": {
      "model_module": "@jupyter-widgets/controls",
      "model_module_version": "2.0.0",
      "model_name": "HTMLStyleModel",
      "state": {
       "description_width": "",
       "font_size": null,
       "text_color": null
      }
     },
     "4d0ee937469f4d48a36166ee0721a2c9": {
      "model_module": "@jupyter-widgets/base",
      "model_module_version": "2.0.0",
      "model_name": "LayoutModel",
      "state": {
       "visibility": "hidden"
      }
     },
     "4d4fbe03784e44e598ef92a446b31a96": {
      "model_module": "@jupyter-widgets/base",
      "model_module_version": "2.0.0",
      "model_name": "LayoutModel",
      "state": {}
     },
     "4d704cb7c43f4b068bfddb7c4781be11": {
      "model_module": "@jupyter-widgets/controls",
      "model_module_version": "2.0.0",
      "model_name": "HTMLStyleModel",
      "state": {
       "description_width": "",
       "font_size": null,
       "text_color": null
      }
     },
     "4d76ad59a15844309983c73f8d1e6548": {
      "model_module": "@jupyter-widgets/controls",
      "model_module_version": "2.0.0",
      "model_name": "HTMLStyleModel",
      "state": {
       "description_width": "",
       "font_size": null,
       "text_color": null
      }
     },
     "4da27e9c6ca746eca217f3cde8d021f4": {
      "model_module": "@jupyter-widgets/base",
      "model_module_version": "2.0.0",
      "model_name": "LayoutModel",
      "state": {
       "visibility": "hidden"
      }
     },
     "4db7b3e8a3254d139c1c2c5a1cf74ae7": {
      "model_module": "@jupyter-widgets/controls",
      "model_module_version": "2.0.0",
      "model_name": "FloatProgressModel",
      "state": {
       "layout": "IPY_MODEL_1aa1190f4bd14911b75133c568af69fd",
       "max": 27,
       "style": "IPY_MODEL_a883022a0483400b9e55babe11bd0515",
       "value": 27
      }
     },
     "4dc9814b745d43e99cc9062db6be1b5e": {
      "model_module": "@jupyter-widgets/base",
      "model_module_version": "2.0.0",
      "model_name": "LayoutModel",
      "state": {}
     },
     "4df7ef46f4294d37b3891f883a943753": {
      "model_module": "@jupyter-widgets/base",
      "model_module_version": "2.0.0",
      "model_name": "LayoutModel",
      "state": {}
     },
     "4e0058d34da94ea2b38e3c3fe01b6a1e": {
      "model_module": "@jupyter-widgets/controls",
      "model_module_version": "2.0.0",
      "model_name": "HTMLModel",
      "state": {
       "layout": "IPY_MODEL_a0e7f995563e49f3a482d485bced3fbc",
       "style": "IPY_MODEL_165685206b244c36b6d71ae2bd772f28",
       "value": "Epoch 3, Loss: 3.3683:  96%"
      }
     },
     "4e108b39f8974899b5b52e3fba1bcc1f": {
      "model_module": "@jupyter-widgets/base",
      "model_module_version": "2.0.0",
      "model_name": "LayoutModel",
      "state": {}
     },
     "4e369078566642738b86e6474c8cf3e8": {
      "model_module": "@jupyter-widgets/controls",
      "model_module_version": "2.0.0",
      "model_name": "FloatProgressModel",
      "state": {
       "layout": "IPY_MODEL_a811eb038760433c887b309799110b9a",
       "max": 14,
       "style": "IPY_MODEL_a5820c7a392e44f1a79e77fb7b7bcdce",
       "value": 14
      }
     },
     "4e3a85eeb19e47a3a7cfed0b3f5c075f": {
      "model_module": "@jupyter-widgets/base",
      "model_module_version": "2.0.0",
      "model_name": "LayoutModel",
      "state": {}
     },
     "4e3d2368f13449009467e982d67b512f": {
      "model_module": "@jupyter-widgets/controls",
      "model_module_version": "2.0.0",
      "model_name": "FloatProgressModel",
      "state": {
       "layout": "IPY_MODEL_07f2238735a84c4c863bb1083aa8e249",
       "max": 14,
       "style": "IPY_MODEL_0e94865c57a6441eaedba69c19782067",
       "value": 14
      }
     },
     "4e474130b5714abd85ce2214c8c66a01": {
      "model_module": "@jupyter-widgets/controls",
      "model_module_version": "2.0.0",
      "model_name": "HTMLStyleModel",
      "state": {
       "description_width": "",
       "font_size": null,
       "text_color": null
      }
     },
     "4e4adfcf537e487ba5ca2d82a1b32da9": {
      "model_module": "@jupyter-widgets/base",
      "model_module_version": "2.0.0",
      "model_name": "LayoutModel",
      "state": {
       "visibility": "hidden"
      }
     },
     "4e4f167f560f4ddfa29ebb6453215ad1": {
      "model_module": "@jupyter-widgets/base",
      "model_module_version": "2.0.0",
      "model_name": "LayoutModel",
      "state": {
       "visibility": "hidden"
      }
     },
     "4e576599b93d435b8d0e46c53b72e17e": {
      "model_module": "@jupyter-widgets/controls",
      "model_module_version": "2.0.0",
      "model_name": "HTMLModel",
      "state": {
       "layout": "IPY_MODEL_6f52a875573541e189e70a0b2a9a3f4d",
       "style": "IPY_MODEL_efad4c6f84e34e3db86fe9ed218931c5",
       "value": "Epoch 8, Loss: 2.9956:  93%"
      }
     },
     "4e75bb73cd0a432aa7c5917777ea3a78": {
      "model_module": "@jupyter-widgets/base",
      "model_module_version": "2.0.0",
      "model_name": "LayoutModel",
      "state": {}
     },
     "4e7b2c3b75a94da7b559fd6a9835d45c": {
      "model_module": "@jupyter-widgets/base",
      "model_module_version": "2.0.0",
      "model_name": "LayoutModel",
      "state": {}
     },
     "4ee8013752444d099a1b68f77e3329d7": {
      "model_module": "@jupyter-widgets/base",
      "model_module_version": "2.0.0",
      "model_name": "LayoutModel",
      "state": {
       "visibility": "hidden"
      }
     },
     "4ef1bce8e78b4597a8bea5bcb9d1747e": {
      "model_module": "@jupyter-widgets/controls",
      "model_module_version": "2.0.0",
      "model_name": "HTMLStyleModel",
      "state": {
       "description_width": "",
       "font_size": null,
       "text_color": null
      }
     },
     "4f116a684561484c8db5b3760e7ec2ab": {
      "model_module": "@jupyter-widgets/base",
      "model_module_version": "2.0.0",
      "model_name": "LayoutModel",
      "state": {}
     },
     "4f48ad40b5f845f29d929aacf1bd09bf": {
      "model_module": "@jupyter-widgets/controls",
      "model_module_version": "2.0.0",
      "model_name": "HTMLModel",
      "state": {
       "layout": "IPY_MODEL_9788e36a080e4ecc87af2b9e96af7d67",
       "style": "IPY_MODEL_502c976fe3ff4adfbfdb0e1869783753",
       "value": "Epoch 16, Loss: 3.2970: 100%"
      }
     },
     "4f685eff289048f3979c38fae3b4286f": {
      "model_module": "@jupyter-widgets/base",
      "model_module_version": "2.0.0",
      "model_name": "LayoutModel",
      "state": {
       "visibility": "hidden"
      }
     },
     "4f72a6c62d4646709b1452926f670f3b": {
      "model_module": "@jupyter-widgets/controls",
      "model_module_version": "2.0.0",
      "model_name": "HTMLModel",
      "state": {
       "layout": "IPY_MODEL_d9ac7f75ed3f477188bc39a7e13f1b3e",
       "style": "IPY_MODEL_1d739e9637144192bf7607e8546bf380",
       "value": " 77/77 [00:28&lt;00:00,  2.74it/s]"
      }
     },
     "4f81922024ba456bad70a9ce00115908": {
      "model_module": "@jupyter-widgets/base",
      "model_module_version": "2.0.0",
      "model_name": "LayoutModel",
      "state": {}
     },
     "4f8c06203120456bab6bca0ba297a680": {
      "model_module": "@jupyter-widgets/controls",
      "model_module_version": "2.0.0",
      "model_name": "HTMLModel",
      "state": {
       "layout": "IPY_MODEL_9655e2ba1eca4c309bbe3baf81958ffe",
       "style": "IPY_MODEL_776acad3f49e43639f8e047ef9424d47",
       "value": " 32/32 [00:09&lt;00:00,  3.47it/s]"
      }
     },
     "4fae3b57f15b49378234523d93ed6fb7": {
      "model_module": "@jupyter-widgets/controls",
      "model_module_version": "2.0.0",
      "model_name": "FloatProgressModel",
      "state": {
       "layout": "IPY_MODEL_20940a8adc534e6d90a2e3eeb4f95ebc",
       "max": 14,
       "style": "IPY_MODEL_861b6d04ec304dc9b93b6b44a505d8cf",
       "value": 14
      }
     },
     "4fbe0ae014fc4244ba482b9b41bc22ce": {
      "model_module": "@jupyter-widgets/controls",
      "model_module_version": "2.0.0",
      "model_name": "ProgressStyleModel",
      "state": {
       "description_width": ""
      }
     },
     "4fcf0f0ddbac4167834fe335ac203299": {
      "model_module": "@jupyter-widgets/controls",
      "model_module_version": "2.0.0",
      "model_name": "ProgressStyleModel",
      "state": {
       "description_width": ""
      }
     },
     "4feebd8658d44b3abeb3078303645563": {
      "model_module": "@jupyter-widgets/base",
      "model_module_version": "2.0.0",
      "model_name": "LayoutModel",
      "state": {}
     },
     "4ff0129e869f44bca4973d2f393cb93c": {
      "model_module": "@jupyter-widgets/base",
      "model_module_version": "2.0.0",
      "model_name": "LayoutModel",
      "state": {}
     },
     "4ffeed0219954d0d88dd97e2be5da7fc": {
      "model_module": "@jupyter-widgets/controls",
      "model_module_version": "2.0.0",
      "model_name": "HTMLStyleModel",
      "state": {
       "description_width": "",
       "font_size": null,
       "text_color": null
      }
     },
     "50153652ad574d92b91b7d259e8c99e6": {
      "model_module": "@jupyter-widgets/base",
      "model_module_version": "2.0.0",
      "model_name": "LayoutModel",
      "state": {}
     },
     "502c976fe3ff4adfbfdb0e1869783753": {
      "model_module": "@jupyter-widgets/controls",
      "model_module_version": "2.0.0",
      "model_name": "HTMLStyleModel",
      "state": {
       "description_width": "",
       "font_size": null,
       "text_color": null
      }
     },
     "502f42adcbe448ac91341e65deffca55": {
      "model_module": "@jupyter-widgets/controls",
      "model_module_version": "2.0.0",
      "model_name": "HTMLStyleModel",
      "state": {
       "description_width": "",
       "font_size": null,
       "text_color": null
      }
     },
     "5060321b9ee54aee80be7cfbebe01a1f": {
      "model_module": "@jupyter-widgets/base",
      "model_module_version": "2.0.0",
      "model_name": "LayoutModel",
      "state": {}
     },
     "50604cf271e4498abdacb1f2b37191b6": {
      "model_module": "@jupyter-widgets/base",
      "model_module_version": "2.0.0",
      "model_name": "LayoutModel",
      "state": {}
     },
     "50697171fbb7481a9ca1bba6399b79a9": {
      "model_module": "@jupyter-widgets/controls",
      "model_module_version": "2.0.0",
      "model_name": "HTMLStyleModel",
      "state": {
       "description_width": "",
       "font_size": null,
       "text_color": null
      }
     },
     "5080854c261a47b88b150388ad764946": {
      "model_module": "@jupyter-widgets/controls",
      "model_module_version": "2.0.0",
      "model_name": "HTMLStyleModel",
      "state": {
       "description_width": "",
       "font_size": null,
       "text_color": null
      }
     },
     "50b01d4733cf42e1a1f95989a3025fa6": {
      "model_module": "@jupyter-widgets/base",
      "model_module_version": "2.0.0",
      "model_name": "LayoutModel",
      "state": {}
     },
     "50b0b2b55470421b918a69cd95d483d2": {
      "model_module": "@jupyter-widgets/controls",
      "model_module_version": "2.0.0",
      "model_name": "HTMLModel",
      "state": {
       "layout": "IPY_MODEL_e6d1555ccfd4442f8b29bc3718092676",
       "style": "IPY_MODEL_ecde1a3c2bc44ce292aa0b5907eb941b",
       "value": "Epoch 4, Loss: 2.8428: 100%"
      }
     },
     "50e0dd408e2f4ea5a6030d93dcdcbb02": {
      "model_module": "@jupyter-widgets/controls",
      "model_module_version": "2.0.0",
      "model_name": "FloatProgressModel",
      "state": {
       "layout": "IPY_MODEL_03fd97f2f7c84652877837e35fa8a587",
       "max": 27,
       "style": "IPY_MODEL_5f0382f81e114dfd9aee29d25e58bfc9",
       "value": 27
      }
     },
     "5108fa587fdc4ccd9a4948896b7344c0": {
      "model_module": "@jupyter-widgets/base",
      "model_module_version": "2.0.0",
      "model_name": "LayoutModel",
      "state": {}
     },
     "5117cadb53094d4c8a718c4ba1c1fffa": {
      "model_module": "@jupyter-widgets/base",
      "model_module_version": "2.0.0",
      "model_name": "LayoutModel",
      "state": {}
     },
     "511c6c51d303457aa23de50f41f98b31": {
      "model_module": "@jupyter-widgets/base",
      "model_module_version": "2.0.0",
      "model_name": "LayoutModel",
      "state": {
       "visibility": "hidden"
      }
     },
     "513602dca64940c3b1c3c70632e8644b": {
      "model_module": "@jupyter-widgets/controls",
      "model_module_version": "2.0.0",
      "model_name": "HTMLStyleModel",
      "state": {
       "description_width": "",
       "font_size": null,
       "text_color": null
      }
     },
     "5144b34e2a8f4b47aa4126c8206a4d37": {
      "model_module": "@jupyter-widgets/base",
      "model_module_version": "2.0.0",
      "model_name": "LayoutModel",
      "state": {
       "visibility": "hidden"
      }
     },
     "514d0b60502448baa7d26b0aaef3cc97": {
      "model_module": "@jupyter-widgets/controls",
      "model_module_version": "2.0.0",
      "model_name": "HTMLModel",
      "state": {
       "layout": "IPY_MODEL_613d86d5543740239bb0d0354f33b93a",
       "style": "IPY_MODEL_c804d6eed67e47d682282335b503cd85",
       "value": " 32/32 [00:10&lt;00:00,  3.27it/s]"
      }
     },
     "5155a4c0da4543888b216244f16589c9": {
      "model_module": "@jupyter-widgets/base",
      "model_module_version": "2.0.0",
      "model_name": "LayoutModel",
      "state": {
       "visibility": "hidden"
      }
     },
     "515de352f66a4bc0bd350d84133a0769": {
      "model_module": "@jupyter-widgets/controls",
      "model_module_version": "2.0.0",
      "model_name": "FloatProgressModel",
      "state": {
       "layout": "IPY_MODEL_a3ac6ecd0aad4e24b66e3045f7b10ea3",
       "max": 14,
       "style": "IPY_MODEL_cd303c76335047deb183d3bad2a12f4a",
       "value": 14
      }
     },
     "5164bd9808d7469d8f647097481257bf": {
      "model_module": "@jupyter-widgets/base",
      "model_module_version": "2.0.0",
      "model_name": "LayoutModel",
      "state": {}
     },
     "516dfcfd945141cab892796ba71c2bbc": {
      "model_module": "@jupyter-widgets/controls",
      "model_module_version": "2.0.0",
      "model_name": "HTMLStyleModel",
      "state": {
       "description_width": "",
       "font_size": null,
       "text_color": null
      }
     },
     "516ed9531df94a38950e75cfe6cace1c": {
      "model_module": "@jupyter-widgets/controls",
      "model_module_version": "2.0.0",
      "model_name": "HTMLStyleModel",
      "state": {
       "description_width": "",
       "font_size": null,
       "text_color": null
      }
     },
     "518713d461174e58b5db1a39c202a939": {
      "model_module": "@jupyter-widgets/base",
      "model_module_version": "2.0.0",
      "model_name": "LayoutModel",
      "state": {}
     },
     "51a2117295bb4f73a7048a1082aca5ec": {
      "model_module": "@jupyter-widgets/controls",
      "model_module_version": "2.0.0",
      "model_name": "FloatProgressModel",
      "state": {
       "layout": "IPY_MODEL_71efa8e4de1a4a80b92e5c118dd76568",
       "max": 23,
       "style": "IPY_MODEL_1a87425da97b470ba28e0dcedcb0bee6",
       "value": 23
      }
     },
     "51de6c3132044c0295a104d8ffadd0d6": {
      "model_module": "@jupyter-widgets/controls",
      "model_module_version": "2.0.0",
      "model_name": "HTMLModel",
      "state": {
       "layout": "IPY_MODEL_0e2e9a06e4a84db6b776e0f96a1cac80",
       "style": "IPY_MODEL_566af7de7e794f9a8f4a93327d32d67f",
       "value": "Epoch 12, Loss: 2.0865: 100%"
      }
     },
     "51e84af041f549ed853113ce224d74b7": {
      "model_module": "@jupyter-widgets/base",
      "model_module_version": "2.0.0",
      "model_name": "LayoutModel",
      "state": {}
     },
     "5208d262044f4fd4a52ee2e314720872": {
      "model_module": "@jupyter-widgets/base",
      "model_module_version": "2.0.0",
      "model_name": "LayoutModel",
      "state": {}
     },
     "521fa62b5d514014b57e7f641e04fdb5": {
      "model_module": "@jupyter-widgets/controls",
      "model_module_version": "2.0.0",
      "model_name": "ProgressStyleModel",
      "state": {
       "description_width": ""
      }
     },
     "522024a7437141a790632e89b3169cb1": {
      "model_module": "@jupyter-widgets/base",
      "model_module_version": "2.0.0",
      "model_name": "LayoutModel",
      "state": {}
     },
     "52558e5b02674484a36f8bff9d63b61e": {
      "model_module": "@jupyter-widgets/controls",
      "model_module_version": "2.0.0",
      "model_name": "HTMLModel",
      "state": {
       "layout": "IPY_MODEL_a252cdc81ce64403aaa8993e602fa8f8",
       "style": "IPY_MODEL_ea4c2a9be960427b864158b788b44b7e",
       "value": "Epoch 20, Loss: 3.9431:  93%"
      }
     },
     "525e4e34ed2e48289725c5d5dc29646e": {
      "model_module": "@jupyter-widgets/base",
      "model_module_version": "2.0.0",
      "model_name": "LayoutModel",
      "state": {
       "visibility": "hidden"
      }
     },
     "5287104f228f4d529e3e86864397ebf3": {
      "model_module": "@jupyter-widgets/base",
      "model_module_version": "2.0.0",
      "model_name": "LayoutModel",
      "state": {}
     },
     "52c6c303ad2f4922bc50fb25ec276bef": {
      "model_module": "@jupyter-widgets/controls",
      "model_module_version": "2.0.0",
      "model_name": "HTMLModel",
      "state": {
       "layout": "IPY_MODEL_cd19cb646d614300af69f6f7b9a36bcc",
       "style": "IPY_MODEL_59176a7a94894900a0520351df4b6901",
       "value": "Epoch 6, Loss: 2.1212: 100%"
      }
     },
     "52eb58808a154fbf89cbe419763d560e": {
      "model_module": "@jupyter-widgets/controls",
      "model_module_version": "2.0.0",
      "model_name": "HTMLModel",
      "state": {
       "layout": "IPY_MODEL_d56da82296f24a2aa933aa765f5f1274",
       "style": "IPY_MODEL_a5d24146cf424ce48f1c9bb093eaaa82",
       "value": "Epoch 19, Loss: 3.3151: 100%"
      }
     },
     "52f5cce33b6448d68d4939525426d47d": {
      "model_module": "@jupyter-widgets/base",
      "model_module_version": "2.0.0",
      "model_name": "LayoutModel",
      "state": {}
     },
     "52fb162f1bee426d8460aeb624259f61": {
      "model_module": "@jupyter-widgets/base",
      "model_module_version": "2.0.0",
      "model_name": "LayoutModel",
      "state": {}
     },
     "52fd6a66fd2f4b6488b32cded6aa4f37": {
      "model_module": "@jupyter-widgets/controls",
      "model_module_version": "2.0.0",
      "model_name": "HTMLModel",
      "state": {
       "layout": "IPY_MODEL_e0b5bf3ac97c4978a050406e5a19042a",
       "style": "IPY_MODEL_0dfefa4ca9304048921b77413cd5bb28",
       "value": " 32/32 [00:10&lt;00:00,  3.51it/s]"
      }
     },
     "53106cbb014e4b19931c7edaa6375c30": {
      "model_module": "@jupyter-widgets/base",
      "model_module_version": "2.0.0",
      "model_name": "LayoutModel",
      "state": {}
     },
     "532c1c647c9c427cb87c03cd0a0937ce": {
      "model_module": "@jupyter-widgets/base",
      "model_module_version": "2.0.0",
      "model_name": "LayoutModel",
      "state": {}
     },
     "5337ab5ae29a4fb1ab6ea1bdfed87889": {
      "model_module": "@jupyter-widgets/base",
      "model_module_version": "2.0.0",
      "model_name": "LayoutModel",
      "state": {
       "visibility": "hidden"
      }
     },
     "5350aec8fcb5412aa39ad2f87c9871bc": {
      "model_module": "@jupyter-widgets/controls",
      "model_module_version": "2.0.0",
      "model_name": "HTMLStyleModel",
      "state": {
       "description_width": "",
       "font_size": null,
       "text_color": null
      }
     },
     "5370c8834920415eb2ba8f040ba2756e": {
      "model_module": "@jupyter-widgets/controls",
      "model_module_version": "2.0.0",
      "model_name": "ProgressStyleModel",
      "state": {
       "description_width": ""
      }
     },
     "5389bcc2627d46ca8128417efe3675eb": {
      "model_module": "@jupyter-widgets/controls",
      "model_module_version": "2.0.0",
      "model_name": "FloatProgressModel",
      "state": {
       "layout": "IPY_MODEL_c582aec35c7945e7b73f2e997e9e7246",
       "max": 77,
       "style": "IPY_MODEL_30b778cb3b0a4ec99c47b922e3038155",
       "value": 77
      }
     },
     "53a0cca33f3845649645e7b23c8b2b96": {
      "model_module": "@jupyter-widgets/base",
      "model_module_version": "2.0.0",
      "model_name": "LayoutModel",
      "state": {}
     },
     "53a7c096b71b45939a072087d595c55a": {
      "model_module": "@jupyter-widgets/controls",
      "model_module_version": "2.0.0",
      "model_name": "HTMLModel",
      "state": {
       "layout": "IPY_MODEL_70cda4a752b241d28a023a00cd77cd94",
       "style": "IPY_MODEL_c95015db79e54139a7d866c34dce7833",
       "value": "Epoch 9, Loss: 3.3963: 100%"
      }
     },
     "53d35fc49973463db0c159bec14acc48": {
      "model_module": "@jupyter-widgets/base",
      "model_module_version": "2.0.0",
      "model_name": "LayoutModel",
      "state": {
       "visibility": "hidden"
      }
     },
     "53e0d315fb3040ada59b3bec4d024fd5": {
      "model_module": "@jupyter-widgets/controls",
      "model_module_version": "2.0.0",
      "model_name": "ProgressStyleModel",
      "state": {
       "description_width": ""
      }
     },
     "5404fb5cf4364d4685eaaca40ecf13b5": {
      "model_module": "@jupyter-widgets/controls",
      "model_module_version": "2.0.0",
      "model_name": "ProgressStyleModel",
      "state": {
       "description_width": ""
      }
     },
     "542f37719c8943efa1bd1eb8812915bd": {
      "model_module": "@jupyter-widgets/base",
      "model_module_version": "2.0.0",
      "model_name": "LayoutModel",
      "state": {}
     },
     "544e8ec685284ee893b1cfefd8c5692f": {
      "model_module": "@jupyter-widgets/base",
      "model_module_version": "2.0.0",
      "model_name": "LayoutModel",
      "state": {}
     },
     "5454c2e6600d4addba7551cd0df04d81": {
      "model_module": "@jupyter-widgets/controls",
      "model_module_version": "2.0.0",
      "model_name": "HTMLModel",
      "state": {
       "layout": "IPY_MODEL_f52a5896a9d4454e98fcc66a20248ec1",
       "style": "IPY_MODEL_9112d8151351421db60f70cdb645d442",
       "value": " 77/77 [00:24&lt;00:00,  3.38it/s]"
      }
     },
     "546fd61a56904d49a229c627e6fa9714": {
      "model_module": "@jupyter-widgets/controls",
      "model_module_version": "2.0.0",
      "model_name": "HTMLModel",
      "state": {
       "layout": "IPY_MODEL_db2eefe884b94a9695a0f4fc86402e22",
       "style": "IPY_MODEL_d37891d3f97e4b9ca17af48cd11b75f3",
       "value": "Epoch 20, Loss: 2.0232: 100%"
      }
     },
     "547178d6e45f42caa95d5179c07a9539": {
      "model_module": "@jupyter-widgets/controls",
      "model_module_version": "2.0.0",
      "model_name": "HTMLStyleModel",
      "state": {
       "description_width": "",
       "font_size": null,
       "text_color": null
      }
     },
     "5488a4efcfe7445b804c680dd5df28ec": {
      "model_module": "@jupyter-widgets/base",
      "model_module_version": "2.0.0",
      "model_name": "LayoutModel",
      "state": {}
     },
     "548ad66372ce4778a8ecfa2b6d0ab4a1": {
      "model_module": "@jupyter-widgets/base",
      "model_module_version": "2.0.0",
      "model_name": "LayoutModel",
      "state": {}
     },
     "549a26b08f8e4c02a593b947477d3f89": {
      "model_module": "@jupyter-widgets/controls",
      "model_module_version": "2.0.0",
      "model_name": "HTMLStyleModel",
      "state": {
       "description_width": "",
       "font_size": null,
       "text_color": null
      }
     },
     "54b6830feebc4263af298ae97f5b3803": {
      "model_module": "@jupyter-widgets/base",
      "model_module_version": "2.0.0",
      "model_name": "LayoutModel",
      "state": {}
     },
     "54ce58223648414a9f188b87492093aa": {
      "model_module": "@jupyter-widgets/base",
      "model_module_version": "2.0.0",
      "model_name": "LayoutModel",
      "state": {}
     },
     "54fbc9d99e2d4ce68218a20471e582eb": {
      "model_module": "@jupyter-widgets/controls",
      "model_module_version": "2.0.0",
      "model_name": "HTMLStyleModel",
      "state": {
       "description_width": "",
       "font_size": null,
       "text_color": null
      }
     },
     "5509e698c43c45399d2281e706bc7abd": {
      "model_module": "@jupyter-widgets/controls",
      "model_module_version": "2.0.0",
      "model_name": "HTMLStyleModel",
      "state": {
       "description_width": "",
       "font_size": null,
       "text_color": null
      }
     },
     "554bda2e998e4435b1bccd9dbf7476d7": {
      "model_module": "@jupyter-widgets/controls",
      "model_module_version": "2.0.0",
      "model_name": "FloatProgressModel",
      "state": {
       "layout": "IPY_MODEL_1e04031c04de4b2890d97a973f9a92fc",
       "max": 14,
       "style": "IPY_MODEL_dff65e733f1d434c8ae815b9bbb8dc75",
       "value": 14
      }
     },
     "5553c420b9554a85929f7d2c0b26492e": {
      "model_module": "@jupyter-widgets/controls",
      "model_module_version": "2.0.0",
      "model_name": "HTMLModel",
      "state": {
       "layout": "IPY_MODEL_5aa0ea02cbb64ff889fd054ebe619815",
       "style": "IPY_MODEL_c3d37a0ee05f4291ade1e3504dc6172d",
       "value": "Epoch 2000, Loss: -24.4592:  96%"
      }
     },
     "556adf3a3cea4cfaaeb124234190a469": {
      "model_module": "@jupyter-widgets/controls",
      "model_module_version": "2.0.0",
      "model_name": "HTMLModel",
      "state": {
       "layout": "IPY_MODEL_51e84af041f549ed853113ce224d74b7",
       "style": "IPY_MODEL_c3c34d8b47a74f04aad14001825dba7b",
       "value": "Epoch 10, Loss: 2.8850: 100%"
      }
     },
     "55715ef1d1004344ab44d9a76eaa323c": {
      "model_module": "@jupyter-widgets/controls",
      "model_module_version": "2.0.0",
      "model_name": "HTMLModel",
      "state": {
       "layout": "IPY_MODEL_fad5680d06ac4904acda7f40483721ae",
       "style": "IPY_MODEL_91c5f7a03dcd419b8c355aa03a83c820",
       "value": " 27/27 [00:03&lt;00:00, 10.93it/s]"
      }
     },
     "557355fdc7a144b9bae729a4c18965ef": {
      "model_module": "@jupyter-widgets/controls",
      "model_module_version": "2.0.0",
      "model_name": "HTMLStyleModel",
      "state": {
       "description_width": "",
       "font_size": null,
       "text_color": null
      }
     },
     "560461b8f58442eca7fd865a847acb15": {
      "model_module": "@jupyter-widgets/controls",
      "model_module_version": "2.0.0",
      "model_name": "HTMLModel",
      "state": {
       "layout": "IPY_MODEL_9938fccafcf94e8a940af412089aa1f9",
       "style": "IPY_MODEL_ac53f7d528a940afa718b5816cf16b9a",
       "value": " 14/14 [00:01&lt;00:00, 10.40it/s]"
      }
     },
     "5610e72feaa84146887c282e921a53a3": {
      "model_module": "@jupyter-widgets/controls",
      "model_module_version": "2.0.0",
      "model_name": "HTMLModel",
      "state": {
       "layout": "IPY_MODEL_b9bba48df1854840876ed1e0ff8ac941",
       "style": "IPY_MODEL_301b7cef6af5433caf8a4e2b410b21f2",
       "value": " 32/32 [00:09&lt;00:00,  3.37it/s]"
      }
     },
     "562e3602e12440f4b675c269c62d44c7": {
      "model_module": "@jupyter-widgets/base",
      "model_module_version": "2.0.0",
      "model_name": "LayoutModel",
      "state": {}
     },
     "56383ec6f42c4910937728be10bd40ed": {
      "model_module": "@jupyter-widgets/controls",
      "model_module_version": "2.0.0",
      "model_name": "HTMLStyleModel",
      "state": {
       "description_width": "",
       "font_size": null,
       "text_color": null
      }
     },
     "5651691082e54157bfd9e8b86e41917a": {
      "model_module": "@jupyter-widgets/controls",
      "model_module_version": "2.0.0",
      "model_name": "HTMLStyleModel",
      "state": {
       "description_width": "",
       "font_size": null,
       "text_color": null
      }
     },
     "5668bd2348ff46d4b4d8400c23ced9f6": {
      "model_module": "@jupyter-widgets/controls",
      "model_module_version": "2.0.0",
      "model_name": "HTMLStyleModel",
      "state": {
       "description_width": "",
       "font_size": null,
       "text_color": null
      }
     },
     "566af7de7e794f9a8f4a93327d32d67f": {
      "model_module": "@jupyter-widgets/controls",
      "model_module_version": "2.0.0",
      "model_name": "HTMLStyleModel",
      "state": {
       "description_width": "",
       "font_size": null,
       "text_color": null
      }
     },
     "5677bee06d5946a181510438a5aa9160": {
      "model_module": "@jupyter-widgets/controls",
      "model_module_version": "2.0.0",
      "model_name": "HTMLModel",
      "state": {
       "layout": "IPY_MODEL_7d6e87b1deb44ab5b75f57e23e607fae",
       "style": "IPY_MODEL_5fbcd86dfde344fc94e1c52985b3a3b3",
       "value": "Epoch 3, Loss: 2.7733: 100%"
      }
     },
     "568cf90618334f8f85e9d3871222f861": {
      "model_module": "@jupyter-widgets/base",
      "model_module_version": "2.0.0",
      "model_name": "LayoutModel",
      "state": {}
     },
     "569077671fa54333bd3c86d57a88a607": {
      "model_module": "@jupyter-widgets/controls",
      "model_module_version": "2.0.0",
      "model_name": "HTMLModel",
      "state": {
       "layout": "IPY_MODEL_3c0a065e9abc4f9ea6d6f47e90992fdd",
       "style": "IPY_MODEL_35af0b5bc30641e482ff0a93f105874b",
       "value": "Epoch 3, Loss: 2.6942: 100%"
      }
     },
     "56bb638b0bd14c1bb9681c9fb92bc2d0": {
      "model_module": "@jupyter-widgets/base",
      "model_module_version": "2.0.0",
      "model_name": "LayoutModel",
      "state": {
       "visibility": "hidden"
      }
     },
     "56c55f3c38084d84ba3bf62bedf94e17": {
      "model_module": "@jupyter-widgets/base",
      "model_module_version": "2.0.0",
      "model_name": "LayoutModel",
      "state": {}
     },
     "56dd30cf92b34ccabe23fc8f04ba16be": {
      "model_module": "@jupyter-widgets/controls",
      "model_module_version": "2.0.0",
      "model_name": "ProgressStyleModel",
      "state": {
       "description_width": ""
      }
     },
     "56ffa25acc184617a43941d0a7d4bba9": {
      "model_module": "@jupyter-widgets/controls",
      "model_module_version": "2.0.0",
      "model_name": "ProgressStyleModel",
      "state": {
       "description_width": ""
      }
     },
     "57547b1664874c6d90d3e86ab57075d0": {
      "model_module": "@jupyter-widgets/controls",
      "model_module_version": "2.0.0",
      "model_name": "FloatProgressModel",
      "state": {
       "layout": "IPY_MODEL_68a71a63ceb84baeb9bfde9ade83c1d6",
       "max": 14,
       "style": "IPY_MODEL_d4aec7bce503494cbd08ce8ff024b992",
       "value": 14
      }
     },
     "575fa6d5d11c4da59d3a9b2f63ba7fb5": {
      "model_module": "@jupyter-widgets/controls",
      "model_module_version": "2.0.0",
      "model_name": "ProgressStyleModel",
      "state": {
       "description_width": ""
      }
     },
     "57637bcc87d8466d83b80ab226a65ab7": {
      "model_module": "@jupyter-widgets/base",
      "model_module_version": "2.0.0",
      "model_name": "LayoutModel",
      "state": {
       "visibility": "hidden"
      }
     },
     "576c8d893dec47f1af5945ae556e35e5": {
      "model_module": "@jupyter-widgets/base",
      "model_module_version": "2.0.0",
      "model_name": "LayoutModel",
      "state": {}
     },
     "5774ffc1fa114b33826ccded04821990": {
      "model_module": "@jupyter-widgets/controls",
      "model_module_version": "2.0.0",
      "model_name": "HTMLStyleModel",
      "state": {
       "description_width": "",
       "font_size": null,
       "text_color": null
      }
     },
     "5798752e15de468c94a223d86dbb15a3": {
      "model_module": "@jupyter-widgets/controls",
      "model_module_version": "2.0.0",
      "model_name": "HTMLStyleModel",
      "state": {
       "description_width": "",
       "font_size": null,
       "text_color": null
      }
     },
     "57a7e508932d497b920fcbfe7b7a27a4": {
      "model_module": "@jupyter-widgets/controls",
      "model_module_version": "2.0.0",
      "model_name": "HTMLModel",
      "state": {
       "layout": "IPY_MODEL_9646960ffbe442e2a9405da55548d263",
       "style": "IPY_MODEL_f9b389892e574908b3ecb19c7dff6586",
       "value": "Epoch 1998, Loss: -24.4870: 100%"
      }
     },
     "57b2406b33a14d15809a620911ebc0b9": {
      "model_module": "@jupyter-widgets/base",
      "model_module_version": "2.0.0",
      "model_name": "LayoutModel",
      "state": {}
     },
     "57c82d5cc1f44eff9cd696e6ada40414": {
      "model_module": "@jupyter-widgets/controls",
      "model_module_version": "2.0.0",
      "model_name": "HTMLModel",
      "state": {
       "layout": "IPY_MODEL_8d9f07f17b6e4fda920b63d144b92bb2",
       "style": "IPY_MODEL_7aa5144a65b14b75b9ff63d2ff54b4ed",
       "value": "Epoch 2, Loss: 2.9607:  93%"
      }
     },
     "57cacb3590e2444bb347835d0e98b1fc": {
      "model_module": "@jupyter-widgets/controls",
      "model_module_version": "2.0.0",
      "model_name": "ProgressStyleModel",
      "state": {
       "description_width": ""
      }
     },
     "5809ec82ff464ce59c49c07a9a3959d5": {
      "model_module": "@jupyter-widgets/controls",
      "model_module_version": "2.0.0",
      "model_name": "HTMLModel",
      "state": {
       "layout": "IPY_MODEL_ba9c284ed3344b9c99b37c0716d8e4a0",
       "style": "IPY_MODEL_122d50f54f97482888cef6618446d539",
       "value": "Epoch 3, Loss: 3.1234:  93%"
      }
     },
     "5815e28e242c4a499f788264941c56b7": {
      "model_module": "@jupyter-widgets/base",
      "model_module_version": "2.0.0",
      "model_name": "LayoutModel",
      "state": {
       "visibility": "hidden"
      }
     },
     "583179e430a14674b3eeee8ee6a21ef9": {
      "model_module": "@jupyter-widgets/base",
      "model_module_version": "2.0.0",
      "model_name": "LayoutModel",
      "state": {}
     },
     "5833e49a3a17420aa60427617bcffacd": {
      "model_module": "@jupyter-widgets/base",
      "model_module_version": "2.0.0",
      "model_name": "LayoutModel",
      "state": {
       "visibility": "hidden"
      }
     },
     "58369b3a11e14d6ea2e0d5a0c66028f0": {
      "model_module": "@jupyter-widgets/controls",
      "model_module_version": "2.0.0",
      "model_name": "ProgressStyleModel",
      "state": {
       "description_width": ""
      }
     },
     "584efd44837845e2af96ad0eb8d3e0b1": {
      "model_module": "@jupyter-widgets/controls",
      "model_module_version": "2.0.0",
      "model_name": "FloatProgressModel",
      "state": {
       "layout": "IPY_MODEL_24408f3b1e214a968e38220981e0f6af",
       "max": 14,
       "style": "IPY_MODEL_95e29a61db334bc7994f2364476f5b79",
       "value": 14
      }
     },
     "58886e925a174cf087cfa6b1f7085913": {
      "model_module": "@jupyter-widgets/controls",
      "model_module_version": "2.0.0",
      "model_name": "HTMLStyleModel",
      "state": {
       "description_width": "",
       "font_size": null,
       "text_color": null
      }
     },
     "58a5f7c20a15449cb2199f52f77c0bd0": {
      "model_module": "@jupyter-widgets/controls",
      "model_module_version": "2.0.0",
      "model_name": "HTMLModel",
      "state": {
       "layout": "IPY_MODEL_188eb05c9e1b4ae09265e2410c7e4ae7",
       "style": "IPY_MODEL_c034e9f441e04426b0aed25f0a756df7",
       "value": "Epoch 11, Loss: 2.0208: 100%"
      }
     },
     "58bce6e9609c4b5aa65d515427df19f0": {
      "model_module": "@jupyter-widgets/controls",
      "model_module_version": "2.0.0",
      "model_name": "FloatProgressModel",
      "state": {
       "layout": "IPY_MODEL_81c03c2255ed4f3ca7a421243865e7f3",
       "max": 77,
       "style": "IPY_MODEL_4960f6625ceb4840bc70bad374427ae5",
       "value": 77
      }
     },
     "58c6a5c9454749cdbcf8ec2246a1e94f": {
      "model_module": "@jupyter-widgets/controls",
      "model_module_version": "2.0.0",
      "model_name": "HTMLModel",
      "state": {
       "layout": "IPY_MODEL_bad9ff0fa6304ff1a9a5735130a59a6c",
       "style": "IPY_MODEL_b1ce2c18f17742598cde74acba41c5cc",
       "value": " 13/14 [00:01&lt;00:00,  9.86it/s]"
      }
     },
     "59176a7a94894900a0520351df4b6901": {
      "model_module": "@jupyter-widgets/controls",
      "model_module_version": "2.0.0",
      "model_name": "HTMLStyleModel",
      "state": {
       "description_width": "",
       "font_size": null,
       "text_color": null
      }
     },
     "592bb3701d454997af50cf90ef7d8995": {
      "model_module": "@jupyter-widgets/controls",
      "model_module_version": "2.0.0",
      "model_name": "HTMLStyleModel",
      "state": {
       "description_width": "",
       "font_size": null,
       "text_color": null
      }
     },
     "593a03c799bb4fd39941506e2ef33562": {
      "model_module": "@jupyter-widgets/controls",
      "model_module_version": "2.0.0",
      "model_name": "HTMLStyleModel",
      "state": {
       "description_width": "",
       "font_size": null,
       "text_color": null
      }
     },
     "594b6956c2c74a4cacdc4a6d3872ceda": {
      "model_module": "@jupyter-widgets/controls",
      "model_module_version": "2.0.0",
      "model_name": "FloatProgressModel",
      "state": {
       "layout": "IPY_MODEL_072458ddf6e14096b92d542f2847fabf",
       "max": 14,
       "style": "IPY_MODEL_81d36cfd2991417d95bc68c60cd15670",
       "value": 14
      }
     },
     "59fde988b40647fa81ef64861c27c31a": {
      "model_module": "@jupyter-widgets/base",
      "model_module_version": "2.0.0",
      "model_name": "LayoutModel",
      "state": {
       "visibility": "hidden"
      }
     },
     "5a0c5295d9be4436b845b1383c4b420e": {
      "model_module": "@jupyter-widgets/base",
      "model_module_version": "2.0.0",
      "model_name": "LayoutModel",
      "state": {
       "visibility": "hidden"
      }
     },
     "5a2457e58a07445fa2cc27256e752dc3": {
      "model_module": "@jupyter-widgets/controls",
      "model_module_version": "2.0.0",
      "model_name": "FloatProgressModel",
      "state": {
       "layout": "IPY_MODEL_ca45cc822aa74a09afeee27221356340",
       "max": 32,
       "style": "IPY_MODEL_1e2f02781d9f40a5b520c216ea88c86f",
       "value": 32
      }
     },
     "5a43b10b3df84de389c0d6f46efb77ee": {
      "model_module": "@jupyter-widgets/controls",
      "model_module_version": "2.0.0",
      "model_name": "ProgressStyleModel",
      "state": {
       "description_width": ""
      }
     },
     "5a5a74ff7f9d408d8d97725cacd94a10": {
      "model_module": "@jupyter-widgets/controls",
      "model_module_version": "2.0.0",
      "model_name": "HTMLStyleModel",
      "state": {
       "description_width": "",
       "font_size": null,
       "text_color": null
      }
     },
     "5a7499b9b2f94388864b5bae1a454c0b": {
      "model_module": "@jupyter-widgets/controls",
      "model_module_version": "2.0.0",
      "model_name": "HTMLModel",
      "state": {
       "layout": "IPY_MODEL_08947d2dd43f4a1ebeed93c637cf6dda",
       "style": "IPY_MODEL_bdecded56cc64a0a9ebd38f0eb808902",
       "value": " 27/27 [00:03&lt;00:00, 11.05it/s]"
      }
     },
     "5a9c963c7c19402aabe813e6471bf01a": {
      "model_module": "@jupyter-widgets/controls",
      "model_module_version": "2.0.0",
      "model_name": "HTMLModel",
      "state": {
       "layout": "IPY_MODEL_5108fa587fdc4ccd9a4948896b7344c0",
       "style": "IPY_MODEL_35ba9feef83645ad8138f76e5c19383a",
       "value": " 63/63 [00:19&lt;00:00,  3.27it/s]"
      }
     },
     "5aa0ea02cbb64ff889fd054ebe619815": {
      "model_module": "@jupyter-widgets/base",
      "model_module_version": "2.0.0",
      "model_name": "LayoutModel",
      "state": {}
     },
     "5ac3392e0bcc4c4db20cb43ce795f5aa": {
      "model_module": "@jupyter-widgets/base",
      "model_module_version": "2.0.0",
      "model_name": "LayoutModel",
      "state": {}
     },
     "5ac81440b00645f9a77202370a466a96": {
      "model_module": "@jupyter-widgets/controls",
      "model_module_version": "2.0.0",
      "model_name": "HTMLModel",
      "state": {
       "layout": "IPY_MODEL_8b49e49a5e504dfaa419dcbacf54f6b0",
       "style": "IPY_MODEL_248ce9dc512542c8a24902cf0a96ac4a",
       "value": " 77/77 [00:23&lt;00:00,  3.40it/s]"
      }
     },
     "5b09abef20884bafb3a345ea7616a672": {
      "model_module": "@jupyter-widgets/controls",
      "model_module_version": "2.0.0",
      "model_name": "HTMLStyleModel",
      "state": {
       "description_width": "",
       "font_size": null,
       "text_color": null
      }
     },
     "5b2064aaf561422988aed406ae12cfeb": {
      "model_module": "@jupyter-widgets/controls",
      "model_module_version": "2.0.0",
      "model_name": "ProgressStyleModel",
      "state": {
       "description_width": ""
      }
     },
     "5b4960159834429aad0a588f5abcd250": {
      "model_module": "@jupyter-widgets/controls",
      "model_module_version": "2.0.0",
      "model_name": "HTMLModel",
      "state": {
       "layout": "IPY_MODEL_8331090b192b4d17a397fb47f646145d",
       "style": "IPY_MODEL_c83280635d8a45af87d0176d34f30d31",
       "value": " 23/23 [00:01&lt;00:00, 17.10it/s]"
      }
     },
     "5b4c2bafab034ffe86062d123f2b0b5e": {
      "model_module": "@jupyter-widgets/controls",
      "model_module_version": "2.0.0",
      "model_name": "HTMLModel",
      "state": {
       "layout": "IPY_MODEL_045cce4ebe6c464db75c4a2ffd5f216a",
       "style": "IPY_MODEL_db41b59a68d045a884eb337a2aa2a372",
       "value": " 32/32 [00:10&lt;00:00,  3.47it/s]"
      }
     },
     "5b59f67ee17a45d3947c32bd267d4f8b": {
      "model_module": "@jupyter-widgets/base",
      "model_module_version": "2.0.0",
      "model_name": "LayoutModel",
      "state": {}
     },
     "5b6d4f6d22a640c78578124591898162": {
      "model_module": "@jupyter-widgets/controls",
      "model_module_version": "2.0.0",
      "model_name": "HTMLModel",
      "state": {
       "layout": "IPY_MODEL_ac8edcacc55841408ec02d1086bb5614",
       "style": "IPY_MODEL_719ff0842f514b84906e987ec73e168e",
       "value": "Epoch 7, Loss: 4.1043:  96%"
      }
     },
     "5b7375257fcf411680c0f4ac513ac89c": {
      "model_module": "@jupyter-widgets/controls",
      "model_module_version": "2.0.0",
      "model_name": "ProgressStyleModel",
      "state": {
       "description_width": ""
      }
     },
     "5b7559bdc903442d96a925f0d9cf74c4": {
      "model_module": "@jupyter-widgets/controls",
      "model_module_version": "2.0.0",
      "model_name": "HTMLStyleModel",
      "state": {
       "description_width": "",
       "font_size": null,
       "text_color": null
      }
     },
     "5bae1e749ef14e718e90ba35ad080f4f": {
      "model_module": "@jupyter-widgets/controls",
      "model_module_version": "2.0.0",
      "model_name": "HTMLStyleModel",
      "state": {
       "description_width": "",
       "font_size": null,
       "text_color": null
      }
     },
     "5bc798dfb35741fbb432f6aee87a0444": {
      "model_module": "@jupyter-widgets/controls",
      "model_module_version": "2.0.0",
      "model_name": "HTMLModel",
      "state": {
       "layout": "IPY_MODEL_6964657ee2be42aba23ef0d590f6b130",
       "style": "IPY_MODEL_c757df07b13c4c5ea4b70150c311ee47",
       "value": "Epoch 5, Loss: 2.0692: 100%"
      }
     },
     "5c1396f993f04379a3e6f09ffeee3925": {
      "model_module": "@jupyter-widgets/base",
      "model_module_version": "2.0.0",
      "model_name": "LayoutModel",
      "state": {
       "visibility": "hidden"
      }
     },
     "5c6037a0ffff446e9f874ec05cadf75f": {
      "model_module": "@jupyter-widgets/controls",
      "model_module_version": "2.0.0",
      "model_name": "HTMLModel",
      "state": {
       "layout": "IPY_MODEL_ad38adde65fe437c8af6dc2adbbc38bf",
       "style": "IPY_MODEL_934d132a29b94a339cec20f5436b9009",
       "value": " 27/27 [00:03&lt;00:00, 11.09it/s]"
      }
     },
     "5c98219593614bca815afaa4bd39fb59": {
      "model_module": "@jupyter-widgets/controls",
      "model_module_version": "2.0.0",
      "model_name": "FloatProgressModel",
      "state": {
       "layout": "IPY_MODEL_1813c4ba1069492b9abff21de9521b08",
       "max": 32,
       "style": "IPY_MODEL_45088033e65b460ca20d1d67f65584ae",
       "value": 32
      }
     },
     "5c9e1ba8a534409884267722dbe85e6a": {
      "model_module": "@jupyter-widgets/controls",
      "model_module_version": "2.0.0",
      "model_name": "HTMLModel",
      "state": {
       "layout": "IPY_MODEL_d1cd306ee1074c6abbdf9327d3dfcb0e",
       "style": "IPY_MODEL_cfb163b178b6458c8aa1154e28d071d2",
       "value": "Epoch 5, Loss: 2.8427: 100%"
      }
     },
     "5cb6c6b250504d1e8713aca6198cd3ce": {
      "model_module": "@jupyter-widgets/controls",
      "model_module_version": "2.0.0",
      "model_name": "HTMLStyleModel",
      "state": {
       "description_width": "",
       "font_size": null,
       "text_color": null
      }
     },
     "5cdfdd30492c470cb7e2fa830e222db8": {
      "model_module": "@jupyter-widgets/controls",
      "model_module_version": "2.0.0",
      "model_name": "FloatProgressModel",
      "state": {
       "layout": "IPY_MODEL_1cf2aa4a37de4753a528fee11ceb7221",
       "max": 32,
       "style": "IPY_MODEL_afc37014ae5f4d46b8a36229974beda8",
       "value": 32
      }
     },
     "5d05e140ecb645d3b66b9ac8603c629c": {
      "model_module": "@jupyter-widgets/controls",
      "model_module_version": "2.0.0",
      "model_name": "HTMLModel",
      "state": {
       "layout": "IPY_MODEL_0869a1ce53134571b686dd229d191d05",
       "style": "IPY_MODEL_02c8965c29b64443bd93f5d0c54b1f03",
       "value": "Epoch 9, Loss: 2.0732: 100%"
      }
     },
     "5d08eb33a810455684219678edff78b5": {
      "model_module": "@jupyter-widgets/controls",
      "model_module_version": "2.0.0",
      "model_name": "FloatProgressModel",
      "state": {
       "layout": "IPY_MODEL_1a61db687a28409ba3149de1e34baf0c",
       "max": 20,
       "style": "IPY_MODEL_07495df85e2a429db1087ee2f0aae4d7",
       "value": 20
      }
     },
     "5d0a7241aec3462ca83aac09d69f4327": {
      "model_module": "@jupyter-widgets/controls",
      "model_module_version": "2.0.0",
      "model_name": "FloatProgressModel",
      "state": {
       "layout": "IPY_MODEL_8716e1d3b8bb44cf86538416068b4dd5",
       "max": 63,
       "style": "IPY_MODEL_6e5fd0f5f32446b093730f884400567d",
       "value": 63
      }
     },
     "5d0d4aad65d34da69f1b950fcac0b803": {
      "model_module": "@jupyter-widgets/controls",
      "model_module_version": "2.0.0",
      "model_name": "ProgressStyleModel",
      "state": {
       "description_width": ""
      }
     },
     "5d223bf8d475462d81876250642118a3": {
      "model_module": "@jupyter-widgets/base",
      "model_module_version": "2.0.0",
      "model_name": "LayoutModel",
      "state": {
       "visibility": "hidden"
      }
     },
     "5d33f841a591439cb32694c406007507": {
      "model_module": "@jupyter-widgets/base",
      "model_module_version": "2.0.0",
      "model_name": "LayoutModel",
      "state": {}
     },
     "5d5d9f1a21d9464294664d679edf66d2": {
      "model_module": "@jupyter-widgets/base",
      "model_module_version": "2.0.0",
      "model_name": "LayoutModel",
      "state": {
       "visibility": "hidden"
      }
     },
     "5d881dd8eab74fb6baeca152434740ef": {
      "model_module": "@jupyter-widgets/controls",
      "model_module_version": "2.0.0",
      "model_name": "FloatProgressModel",
      "state": {
       "layout": "IPY_MODEL_4bbaa461ab7146919c9dc71a1166313b",
       "max": 27,
       "style": "IPY_MODEL_031ae5acd96a403a8fe275cc2b42fdc8",
       "value": 27
      }
     },
     "5dd5f87501d047f0a5883eb6fe013be9": {
      "model_module": "@jupyter-widgets/controls",
      "model_module_version": "2.0.0",
      "model_name": "HTMLStyleModel",
      "state": {
       "description_width": "",
       "font_size": null,
       "text_color": null
      }
     },
     "5dd822441aef45f491b36b20a2f91bbf": {
      "model_module": "@jupyter-widgets/base",
      "model_module_version": "2.0.0",
      "model_name": "LayoutModel",
      "state": {
       "visibility": "hidden"
      }
     },
     "5def8b64e0164842bd467c1f3f3a5fbe": {
      "model_module": "@jupyter-widgets/base",
      "model_module_version": "2.0.0",
      "model_name": "LayoutModel",
      "state": {}
     },
     "5e00688692784e53a4c78d24c1d3f7ab": {
      "model_module": "@jupyter-widgets/controls",
      "model_module_version": "2.0.0",
      "model_name": "HTMLModel",
      "state": {
       "layout": "IPY_MODEL_2fd6375cccff484eb1b384acdc0879cf",
       "style": "IPY_MODEL_3042efa067324e0e92bd016a1051e26e",
       "value": "Epoch 19, Loss: 3.6785:  93%"
      }
     },
     "5e1769e19bee4dab8356d80cf45dc00b": {
      "model_module": "@jupyter-widgets/controls",
      "model_module_version": "2.0.0",
      "model_name": "ProgressStyleModel",
      "state": {
       "description_width": ""
      }
     },
     "5e1a23c481814106975d0d97238d35c2": {
      "model_module": "@jupyter-widgets/controls",
      "model_module_version": "2.0.0",
      "model_name": "HTMLStyleModel",
      "state": {
       "description_width": "",
       "font_size": null,
       "text_color": null
      }
     },
     "5e2acd5f499849edbf47e924212354b8": {
      "model_module": "@jupyter-widgets/base",
      "model_module_version": "2.0.0",
      "model_name": "LayoutModel",
      "state": {}
     },
     "5e76f3a7aa4b41778f8a1758b0ed423e": {
      "model_module": "@jupyter-widgets/controls",
      "model_module_version": "2.0.0",
      "model_name": "HTMLModel",
      "state": {
       "layout": "IPY_MODEL_18e2a394b4964479b7fe0bdebf29c6f9",
       "style": "IPY_MODEL_50697171fbb7481a9ca1bba6399b79a9",
       "value": " 14/14 [00:01&lt;00:00, 10.35it/s]"
      }
     },
     "5eb7b4398a0a4f78a319bab99cd58b69": {
      "model_module": "@jupyter-widgets/controls",
      "model_module_version": "2.0.0",
      "model_name": "HTMLModel",
      "state": {
       "layout": "IPY_MODEL_afba9acba70b4c72a4ffcd1937d2460f",
       "style": "IPY_MODEL_781f4a532a7547d3985f7d3721f8d269",
       "value": " 14/14 [00:01&lt;00:00, 10.14it/s]"
      }
     },
     "5ec6ccba1dbd4e5aaae58aa9813f8214": {
      "model_module": "@jupyter-widgets/base",
      "model_module_version": "2.0.0",
      "model_name": "LayoutModel",
      "state": {
       "visibility": "hidden"
      }
     },
     "5ed9efc8ad584404bd0f80f4d08bef62": {
      "model_module": "@jupyter-widgets/controls",
      "model_module_version": "2.0.0",
      "model_name": "HTMLStyleModel",
      "state": {
       "description_width": "",
       "font_size": null,
       "text_color": null
      }
     },
     "5f0286a695b3440ea0898a6dc2e6cf50": {
      "model_module": "@jupyter-widgets/controls",
      "model_module_version": "2.0.0",
      "model_name": "HTMLModel",
      "state": {
       "layout": "IPY_MODEL_e9cf63d24aa74c0fa5787576aa92957e",
       "style": "IPY_MODEL_a879edc311624093b2c1198908f72c00",
       "value": " 32/32 [00:10&lt;00:00,  3.43it/s]"
      }
     },
     "5f0382f81e114dfd9aee29d25e58bfc9": {
      "model_module": "@jupyter-widgets/controls",
      "model_module_version": "2.0.0",
      "model_name": "ProgressStyleModel",
      "state": {
       "description_width": ""
      }
     },
     "5f22451b4b004a2c9a315e93ea09d755": {
      "model_module": "@jupyter-widgets/base",
      "model_module_version": "2.0.0",
      "model_name": "LayoutModel",
      "state": {}
     },
     "5f98da7e29c6417190793d08fbdb92e1": {
      "model_module": "@jupyter-widgets/base",
      "model_module_version": "2.0.0",
      "model_name": "LayoutModel",
      "state": {}
     },
     "5fa9b26b42ee4e0a9eb5f02bf209a2a2": {
      "model_module": "@jupyter-widgets/controls",
      "model_module_version": "2.0.0",
      "model_name": "HTMLStyleModel",
      "state": {
       "description_width": "",
       "font_size": null,
       "text_color": null
      }
     },
     "5fbcd86dfde344fc94e1c52985b3a3b3": {
      "model_module": "@jupyter-widgets/controls",
      "model_module_version": "2.0.0",
      "model_name": "HTMLStyleModel",
      "state": {
       "description_width": "",
       "font_size": null,
       "text_color": null
      }
     },
     "5fda2f5bcd4540be9f304ce0d4f5c8ac": {
      "model_module": "@jupyter-widgets/controls",
      "model_module_version": "2.0.0",
      "model_name": "HTMLStyleModel",
      "state": {
       "description_width": "",
       "font_size": null,
       "text_color": null
      }
     },
     "5ffbf83976f347de814557c67901ccf3": {
      "model_module": "@jupyter-widgets/base",
      "model_module_version": "2.0.0",
      "model_name": "LayoutModel",
      "state": {}
     },
     "6011d422334148bf87b6876d1bc719af": {
      "model_module": "@jupyter-widgets/controls",
      "model_module_version": "2.0.0",
      "model_name": "HTMLModel",
      "state": {
       "layout": "IPY_MODEL_85626e2760ac4f10aaf0e5a0abbc0554",
       "style": "IPY_MODEL_725a9cbea01941f8a5db5e46a28ffde5",
       "value": "Epoch 16, Loss: 3.1402:  93%"
      }
     },
     "6017c58c93ab4a4482e5f14db9da49ad": {
      "model_module": "@jupyter-widgets/controls",
      "model_module_version": "2.0.0",
      "model_name": "FloatProgressModel",
      "state": {
       "layout": "IPY_MODEL_f068f8e7c9e141cda8a07a0f221dacfd",
       "max": 32,
       "style": "IPY_MODEL_7fdf537f70ae4455bb0eaff4a7702e42",
       "value": 32
      }
     },
     "601926893360441e8b294ce1142fdffe": {
      "model_module": "@jupyter-widgets/controls",
      "model_module_version": "2.0.0",
      "model_name": "HTMLModel",
      "state": {
       "layout": "IPY_MODEL_77adc582187b42fdadfde2f1154096a2",
       "style": "IPY_MODEL_ff730d3eecd54bffaaab513bc4a5c52b",
       "value": " 77/77 [00:23&lt;00:00,  3.46it/s]"
      }
     },
     "6034df4e5803415bb6f158a172685f3b": {
      "model_module": "@jupyter-widgets/controls",
      "model_module_version": "2.0.0",
      "model_name": "FloatProgressModel",
      "state": {
       "layout": "IPY_MODEL_c1677f6b22074e9b85ecd0a30833e862",
       "max": 77,
       "style": "IPY_MODEL_b70bdba768af44669c1c150542349ffa",
       "value": 77
      }
     },
     "603e8f8332c04686ac329970cb8aa497": {
      "model_module": "@jupyter-widgets/controls",
      "model_module_version": "2.0.0",
      "model_name": "FloatProgressModel",
      "state": {
       "layout": "IPY_MODEL_ad414014eea64ce1a60040bfb3c7cf0d",
       "max": 32,
       "style": "IPY_MODEL_a037a43c7a4245888482f046e942e3d0",
       "value": 32
      }
     },
     "6097927eefd64897aa4052b80b538cf4": {
      "model_module": "@jupyter-widgets/base",
      "model_module_version": "2.0.0",
      "model_name": "LayoutModel",
      "state": {}
     },
     "60a688400ae04ef9920801d7f97492c2": {
      "model_module": "@jupyter-widgets/base",
      "model_module_version": "2.0.0",
      "model_name": "LayoutModel",
      "state": {
       "visibility": "hidden"
      }
     },
     "60b0dd8f1bb54ddcaadfb05b4491519a": {
      "model_module": "@jupyter-widgets/base",
      "model_module_version": "2.0.0",
      "model_name": "LayoutModel",
      "state": {
       "visibility": "hidden"
      }
     },
     "60ccdb8e98414d7db85bbe7cbf62648c": {
      "model_module": "@jupyter-widgets/controls",
      "model_module_version": "2.0.0",
      "model_name": "HTMLStyleModel",
      "state": {
       "description_width": "",
       "font_size": null,
       "text_color": null
      }
     },
     "60cd85dc40034d44901dd989314a365c": {
      "model_module": "@jupyter-widgets/controls",
      "model_module_version": "2.0.0",
      "model_name": "HTMLStyleModel",
      "state": {
       "description_width": "",
       "font_size": null,
       "text_color": null
      }
     },
     "60d75ab12ce74079a31196d07c46773e": {
      "model_module": "@jupyter-widgets/base",
      "model_module_version": "2.0.0",
      "model_name": "LayoutModel",
      "state": {}
     },
     "60f29acc3ec74c1c8d9d33b7ec77cf50": {
      "model_module": "@jupyter-widgets/controls",
      "model_module_version": "2.0.0",
      "model_name": "HTMLStyleModel",
      "state": {
       "description_width": "",
       "font_size": null,
       "text_color": null
      }
     },
     "60f2eb2ef10b4ba5871fd555efb2f6ea": {
      "model_module": "@jupyter-widgets/controls",
      "model_module_version": "2.0.0",
      "model_name": "HTMLStyleModel",
      "state": {
       "description_width": "",
       "font_size": null,
       "text_color": null
      }
     },
     "60f60fe84fc3449098886c638d494171": {
      "model_module": "@jupyter-widgets/controls",
      "model_module_version": "2.0.0",
      "model_name": "HTMLStyleModel",
      "state": {
       "description_width": "",
       "font_size": null,
       "text_color": null
      }
     },
     "613d86d5543740239bb0d0354f33b93a": {
      "model_module": "@jupyter-widgets/base",
      "model_module_version": "2.0.0",
      "model_name": "LayoutModel",
      "state": {}
     },
     "614e0657a5f942089f9fbb85f1021de5": {
      "model_module": "@jupyter-widgets/controls",
      "model_module_version": "2.0.0",
      "model_name": "FloatProgressModel",
      "state": {
       "layout": "IPY_MODEL_068f08ad357043648657f248f1470880",
       "max": 32,
       "style": "IPY_MODEL_9dfc1bbfb04a46588aec78be73d625e9",
       "value": 32
      }
     },
     "61fdcd4cb5d7407ea7e5e4ccb231c9d9": {
      "model_module": "@jupyter-widgets/controls",
      "model_module_version": "2.0.0",
      "model_name": "HTMLModel",
      "state": {
       "layout": "IPY_MODEL_c6acff5917c4426799b494352b9bdbf4",
       "style": "IPY_MODEL_4903a810936c43e796bdd8aee0e33f3f",
       "value": "Epoch 19, Loss: 2.0667: 100%"
      }
     },
     "61fe69eb324841299bb895088ca6355a": {
      "model_module": "@jupyter-widgets/base",
      "model_module_version": "2.0.0",
      "model_name": "LayoutModel",
      "state": {
       "visibility": "hidden"
      }
     },
     "62105a78ed7d4cb2bf88af0c849c4bcb": {
      "model_module": "@jupyter-widgets/controls",
      "model_module_version": "2.0.0",
      "model_name": "HTMLStyleModel",
      "state": {
       "description_width": "",
       "font_size": null,
       "text_color": null
      }
     },
     "621403298e374ed4a801a65a1b1ef1c2": {
      "model_module": "@jupyter-widgets/base",
      "model_module_version": "2.0.0",
      "model_name": "LayoutModel",
      "state": {}
     },
     "621c29901f124ceea8411942b8160693": {
      "model_module": "@jupyter-widgets/controls",
      "model_module_version": "2.0.0",
      "model_name": "HTMLStyleModel",
      "state": {
       "description_width": "",
       "font_size": null,
       "text_color": null
      }
     },
     "623af8afa7a3416ea6df2cda898513cf": {
      "model_module": "@jupyter-widgets/base",
      "model_module_version": "2.0.0",
      "model_name": "LayoutModel",
      "state": {}
     },
     "6243f90cf44c42b3a28a5e8f894c0085": {
      "model_module": "@jupyter-widgets/base",
      "model_module_version": "2.0.0",
      "model_name": "LayoutModel",
      "state": {}
     },
     "628b6dab139c4ce49830cf8de755da04": {
      "model_module": "@jupyter-widgets/controls",
      "model_module_version": "2.0.0",
      "model_name": "ProgressStyleModel",
      "state": {
       "description_width": ""
      }
     },
     "628c5500463f44b78d1aaf61e78d5655": {
      "model_module": "@jupyter-widgets/controls",
      "model_module_version": "2.0.0",
      "model_name": "HTMLModel",
      "state": {
       "layout": "IPY_MODEL_c4d53fff3acd42a4b8d0bb61e48abb99",
       "style": "IPY_MODEL_bf6bcaef30154eebbd007d3ceef583bf",
       "value": " 23/23 [00:01&lt;00:00, 16.75it/s]"
      }
     },
     "629a62a7f6524c31b19481e456da99fa": {
      "model_module": "@jupyter-widgets/controls",
      "model_module_version": "2.0.0",
      "model_name": "HTMLStyleModel",
      "state": {
       "description_width": "",
       "font_size": null,
       "text_color": null
      }
     },
     "62adc6dcd1a6485bac21f097cb6d58f3": {
      "model_module": "@jupyter-widgets/controls",
      "model_module_version": "2.0.0",
      "model_name": "HTMLModel",
      "state": {
       "layout": "IPY_MODEL_05829c34a88a4dccb3f0e7282c102233",
       "style": "IPY_MODEL_e7cb784ded0541d69b7592812f15c0c6",
       "value": " 77/77 [00:24&lt;00:00,  2.91it/s]"
      }
     },
     "62c86674dcab4351b2e4ea84a6877da3": {
      "model_module": "@jupyter-widgets/base",
      "model_module_version": "2.0.0",
      "model_name": "LayoutModel",
      "state": {}
     },
     "62cd9ae18e2d4658ab10ad48685c22f2": {
      "model_module": "@jupyter-widgets/base",
      "model_module_version": "2.0.0",
      "model_name": "LayoutModel",
      "state": {
       "visibility": "hidden"
      }
     },
     "62f36d48ccdc44cbb211216139a09687": {
      "model_module": "@jupyter-widgets/base",
      "model_module_version": "2.0.0",
      "model_name": "LayoutModel",
      "state": {}
     },
     "632f73745a524ab2abc1ad69986e2028": {
      "model_module": "@jupyter-widgets/controls",
      "model_module_version": "2.0.0",
      "model_name": "ProgressStyleModel",
      "state": {
       "description_width": ""
      }
     },
     "63bc8a9036f14ab88cabcb81f941793c": {
      "model_module": "@jupyter-widgets/base",
      "model_module_version": "2.0.0",
      "model_name": "LayoutModel",
      "state": {}
     },
     "63be0b7a7048447b8f28e4206776a788": {
      "model_module": "@jupyter-widgets/base",
      "model_module_version": "2.0.0",
      "model_name": "LayoutModel",
      "state": {}
     },
     "63dc5e196fa84853835c781ba993e3d0": {
      "model_module": "@jupyter-widgets/controls",
      "model_module_version": "2.0.0",
      "model_name": "HTMLModel",
      "state": {
       "layout": "IPY_MODEL_9815454a4e584ede8a66fea09ec18b44",
       "style": "IPY_MODEL_3002c87ec45a4ffb917e82c993cc9a3f",
       "value": "Epoch 20, Loss: 2.1329: 100%"
      }
     },
     "63f41b5d7cd54c06a6c243e8a99922d9": {
      "model_module": "@jupyter-widgets/controls",
      "model_module_version": "2.0.0",
      "model_name": "FloatProgressModel",
      "state": {
       "layout": "IPY_MODEL_40d0f9982bf4440b9eeaa79a094bf309",
       "max": 14,
       "style": "IPY_MODEL_5b2064aaf561422988aed406ae12cfeb",
       "value": 14
      }
     },
     "640401c79c4745bd863458527982bee2": {
      "model_module": "@jupyter-widgets/controls",
      "model_module_version": "2.0.0",
      "model_name": "HTMLModel",
      "state": {
       "layout": "IPY_MODEL_9d663e257d614c53a937b6ef7700bfee",
       "style": "IPY_MODEL_393ca8a0799e4ff8b6469bab2154c6de",
       "value": " 77/77 [00:23&lt;00:00,  3.44it/s]"
      }
     },
     "643b3dabcf7142ef8b261a7e440e1510": {
      "model_module": "@jupyter-widgets/base",
      "model_module_version": "2.0.0",
      "model_name": "LayoutModel",
      "state": {
       "visibility": "hidden"
      }
     },
     "647b29ff48594bd098ef25d4b1b77770": {
      "model_module": "@jupyter-widgets/controls",
      "model_module_version": "2.0.0",
      "model_name": "ProgressStyleModel",
      "state": {
       "description_width": ""
      }
     },
     "6481c1ef4f58420ea34e73f33d1c3442": {
      "model_module": "@jupyter-widgets/base",
      "model_module_version": "2.0.0",
      "model_name": "LayoutModel",
      "state": {}
     },
     "64cf641c029d4d3a8fe884244c987cbd": {
      "model_module": "@jupyter-widgets/base",
      "model_module_version": "2.0.0",
      "model_name": "LayoutModel",
      "state": {}
     },
     "64e688c758804e6780b8e047733b5d7d": {
      "model_module": "@jupyter-widgets/controls",
      "model_module_version": "2.0.0",
      "model_name": "HTMLModel",
      "state": {
       "layout": "IPY_MODEL_a59bf54f4c8e40d0ac3e1c64d3e7b8ba",
       "style": "IPY_MODEL_44a22e0e805e41ea8eca622df766313c",
       "value": " 14/14 [00:01&lt;00:00, 10.46it/s]"
      }
     },
     "650dbe1f9187418193d9b7a51514c734": {
      "model_module": "@jupyter-widgets/controls",
      "model_module_version": "2.0.0",
      "model_name": "HTMLModel",
      "state": {
       "layout": "IPY_MODEL_a9819137467b469dbfb2258d2fcce6dc",
       "style": "IPY_MODEL_5080854c261a47b88b150388ad764946",
       "value": " 14/14 [00:02&lt;00:00,  9.35it/s]"
      }
     },
     "653acc9527cf483d8453bbfc3c32c3e8": {
      "model_module": "@jupyter-widgets/controls",
      "model_module_version": "2.0.0",
      "model_name": "FloatProgressModel",
      "state": {
       "layout": "IPY_MODEL_dcbb3d5fb9024372887046b938fea6c7",
       "max": 14,
       "style": "IPY_MODEL_c47a1c37d23948f29301cea29b084aa8",
       "value": 14
      }
     },
     "653ea511b06c45e68194a2ec0a5eb1c2": {
      "model_module": "@jupyter-widgets/controls",
      "model_module_version": "2.0.0",
      "model_name": "HTMLStyleModel",
      "state": {
       "description_width": "",
       "font_size": null,
       "text_color": null
      }
     },
     "655d758220ed473e8cbc1b9178605c74": {
      "model_module": "@jupyter-widgets/controls",
      "model_module_version": "2.0.0",
      "model_name": "HTMLStyleModel",
      "state": {
       "description_width": "",
       "font_size": null,
       "text_color": null
      }
     },
     "6565b96d5c44460494ca4363043a4d9c": {
      "model_module": "@jupyter-widgets/controls",
      "model_module_version": "2.0.0",
      "model_name": "HTMLModel",
      "state": {
       "layout": "IPY_MODEL_d569ea851a1343a79383743208c5ada4",
       "style": "IPY_MODEL_a55a1d513e9f4afe90a0e8da4a973c01",
       "value": " 77/77 [00:23&lt;00:00,  3.39it/s]"
      }
     },
     "658a4758b5804b7c9dddf90755ba382d": {
      "model_module": "@jupyter-widgets/controls",
      "model_module_version": "2.0.0",
      "model_name": "HTMLModel",
      "state": {
       "layout": "IPY_MODEL_749e0510cc9442f092d5c4487f037222",
       "style": "IPY_MODEL_323775045c544eaca3177714caa2bff0",
       "value": "Epoch 20,Train Loss: 2.7598,Eval Accuracy: 0.4494,Eval Loss: 4.7401: 100%"
      }
     },
     "6597bda0c56d440aae222bbe91d8b1e6": {
      "model_module": "@jupyter-widgets/controls",
      "model_module_version": "2.0.0",
      "model_name": "HTMLStyleModel",
      "state": {
       "description_width": "",
       "font_size": null,
       "text_color": null
      }
     },
     "65d4d0ecd5ff4377ba8e49f5566eaf5e": {
      "model_module": "@jupyter-widgets/base",
      "model_module_version": "2.0.0",
      "model_name": "LayoutModel",
      "state": {}
     },
     "65f39d8a82194fbea04ddc55fe426373": {
      "model_module": "@jupyter-widgets/base",
      "model_module_version": "2.0.0",
      "model_name": "LayoutModel",
      "state": {}
     },
     "661cd3a51839494cb95a84609cde667e": {
      "model_module": "@jupyter-widgets/controls",
      "model_module_version": "2.0.0",
      "model_name": "HTMLModel",
      "state": {
       "layout": "IPY_MODEL_e19fe8d251ac40c2b785358268eaf0ee",
       "style": "IPY_MODEL_fe35654297554deda63c80528cb0b3f9",
       "value": " 14/14 [00:02&lt;00:00,  8.68it/s]"
      }
     },
     "6628b03636724322a2c85707cb5fc2fa": {
      "model_module": "@jupyter-widgets/controls",
      "model_module_version": "2.0.0",
      "model_name": "HTMLModel",
      "state": {
       "layout": "IPY_MODEL_ec9a32003f164a3d807cb48fbcc404fc",
       "style": "IPY_MODEL_de9599057a3549b5b34ef23ead810a5f",
       "value": " 32/32 [00:09&lt;00:00,  3.39it/s]"
      }
     },
     "663d8663e8d84ebdac1ffb4fc1d45adb": {
      "model_module": "@jupyter-widgets/controls",
      "model_module_version": "2.0.0",
      "model_name": "ProgressStyleModel",
      "state": {
       "description_width": ""
      }
     },
     "66673b0d984f4b868bdf2567ff0f7fc6": {
      "model_module": "@jupyter-widgets/controls",
      "model_module_version": "2.0.0",
      "model_name": "HTMLModel",
      "state": {
       "layout": "IPY_MODEL_97522c4311ff4deb99ce74933a42dfd9",
       "style": "IPY_MODEL_a9a73829f01b40c18136225682a0a2fe",
       "value": "Epoch 5, Loss: 2.7324: 100%"
      }
     },
     "666d937d429547b4a7588cce0b03219a": {
      "model_module": "@jupyter-widgets/controls",
      "model_module_version": "2.0.0",
      "model_name": "HTMLStyleModel",
      "state": {
       "description_width": "",
       "font_size": null,
       "text_color": null
      }
     },
     "66a4a123153d43c5abd9659f0531d745": {
      "model_module": "@jupyter-widgets/base",
      "model_module_version": "2.0.0",
      "model_name": "LayoutModel",
      "state": {}
     },
     "66b9df27153f4b818ac7abfdaee8958b": {
      "model_module": "@jupyter-widgets/base",
      "model_module_version": "2.0.0",
      "model_name": "LayoutModel",
      "state": {}
     },
     "66bd9de0343b42b5acf549205e96113f": {
      "model_module": "@jupyter-widgets/base",
      "model_module_version": "2.0.0",
      "model_name": "LayoutModel",
      "state": {
       "visibility": "hidden"
      }
     },
     "66dc27920a2941c2b8346668f96b786a": {
      "model_module": "@jupyter-widgets/controls",
      "model_module_version": "2.0.0",
      "model_name": "ProgressStyleModel",
      "state": {
       "description_width": ""
      }
     },
     "672b9497505f49fcb0d09e7a53a42b76": {
      "model_module": "@jupyter-widgets/base",
      "model_module_version": "2.0.0",
      "model_name": "LayoutModel",
      "state": {
       "visibility": "hidden"
      }
     },
     "673f377219f149babaae5de82a2e51f1": {
      "model_module": "@jupyter-widgets/base",
      "model_module_version": "2.0.0",
      "model_name": "LayoutModel",
      "state": {}
     },
     "67428452e090412b950aaff885cbc21e": {
      "model_module": "@jupyter-widgets/base",
      "model_module_version": "2.0.0",
      "model_name": "LayoutModel",
      "state": {}
     },
     "6764ac8fb32a494aafad5169e9e59b77": {
      "model_module": "@jupyter-widgets/controls",
      "model_module_version": "2.0.0",
      "model_name": "HTMLStyleModel",
      "state": {
       "description_width": "",
       "font_size": null,
       "text_color": null
      }
     },
     "6764ebd131eb4b228c2ef15fdedd8e7f": {
      "model_module": "@jupyter-widgets/base",
      "model_module_version": "2.0.0",
      "model_name": "LayoutModel",
      "state": {}
     },
     "6785fa46592b492ba7c7652e4fc6d849": {
      "model_module": "@jupyter-widgets/controls",
      "model_module_version": "2.0.0",
      "model_name": "HTMLStyleModel",
      "state": {
       "description_width": "",
       "font_size": null,
       "text_color": null
      }
     },
     "6795f70533d640fa9e9dd955e75d4a01": {
      "model_module": "@jupyter-widgets/controls",
      "model_module_version": "2.0.0",
      "model_name": "FloatProgressModel",
      "state": {
       "layout": "IPY_MODEL_493e3d3118ce402fb3c2d50f76ce1d0d",
       "max": 14,
       "style": "IPY_MODEL_9e74046f747049c48e686d23872e45cb",
       "value": 14
      }
     },
     "67a2d4c3065d43a2944598d6d345e256": {
      "model_module": "@jupyter-widgets/base",
      "model_module_version": "2.0.0",
      "model_name": "LayoutModel",
      "state": {}
     },
     "67a6a4d37906438689930d7d6cdaf95d": {
      "model_module": "@jupyter-widgets/controls",
      "model_module_version": "2.0.0",
      "model_name": "FloatProgressModel",
      "state": {
       "layout": "IPY_MODEL_5ac3392e0bcc4c4db20cb43ce795f5aa",
       "max": 14,
       "style": "IPY_MODEL_bced938f687949af8377b547c3181dcb",
       "value": 14
      }
     },
     "67b237c6b7354a59937fa3c01b2d58f4": {
      "model_module": "@jupyter-widgets/controls",
      "model_module_version": "2.0.0",
      "model_name": "FloatProgressModel",
      "state": {
       "layout": "IPY_MODEL_004aea5c5bfd4a1dbef46fce70e58d0d",
       "max": 63,
       "style": "IPY_MODEL_f6e789276ae54f39959886e7dabfd9c8",
       "value": 63
      }
     },
     "67b34b499c854d06acd3015cb63701ad": {
      "model_module": "@jupyter-widgets/base",
      "model_module_version": "2.0.0",
      "model_name": "LayoutModel",
      "state": {}
     },
     "67b5c677ae6b45f18384c1d94da39b84": {
      "model_module": "@jupyter-widgets/base",
      "model_module_version": "2.0.0",
      "model_name": "LayoutModel",
      "state": {
       "visibility": "hidden"
      }
     },
     "67f5ee44cd514c99ac82ce01db9219de": {
      "model_module": "@jupyter-widgets/controls",
      "model_module_version": "2.0.0",
      "model_name": "FloatProgressModel",
      "state": {
       "layout": "IPY_MODEL_60d75ab12ce74079a31196d07c46773e",
       "max": 14,
       "style": "IPY_MODEL_09cd73c1edc44574a31ac6abb2b96528",
       "value": 14
      }
     },
     "681e4245134d48d99b9f7e14ea401c41": {
      "model_module": "@jupyter-widgets/controls",
      "model_module_version": "2.0.0",
      "model_name": "FloatProgressModel",
      "state": {
       "layout": "IPY_MODEL_458530b894c1441ba852f8d60e411631",
       "max": 14,
       "style": "IPY_MODEL_d14970871de24273b04b62e440e9ae18",
       "value": 14
      }
     },
     "684a09c3884e4c00b22b47dc83e99383": {
      "model_module": "@jupyter-widgets/base",
      "model_module_version": "2.0.0",
      "model_name": "LayoutModel",
      "state": {
       "visibility": "hidden"
      }
     },
     "68842bfc2c824ab695b0a1c1fae2b35f": {
      "model_module": "@jupyter-widgets/controls",
      "model_module_version": "2.0.0",
      "model_name": "HTMLModel",
      "state": {
       "layout": "IPY_MODEL_1d1233cf469f42e88c7cf264df1e8be1",
       "style": "IPY_MODEL_5dd5f87501d047f0a5883eb6fe013be9",
       "value": "Epoch 18, Loss: 3.5009: 100%"
      }
     },
     "688c709633704322927348d5e02c5274": {
      "model_module": "@jupyter-widgets/controls",
      "model_module_version": "2.0.0",
      "model_name": "FloatProgressModel",
      "state": {
       "layout": "IPY_MODEL_a68a281ca1ac4ea8848bed4feddf037e",
       "max": 14,
       "style": "IPY_MODEL_7b24623f6c3747b09259c998be1d1ae5",
       "value": 14
      }
     },
     "6894563c646e42bbb23cd9f1db4bfab3": {
      "model_module": "@jupyter-widgets/controls",
      "model_module_version": "2.0.0",
      "model_name": "HTMLModel",
      "state": {
       "layout": "IPY_MODEL_a3c531d7fe3441eca0c7d3e83f565e7c",
       "style": "IPY_MODEL_850e16aba6524df999f2a064fb70d94a",
       "value": "Epoch 15, Loss: 3.6099:  93%"
      }
     },
     "6898c35fb03a4201bdbeff47d3be6233": {
      "model_module": "@jupyter-widgets/controls",
      "model_module_version": "2.0.0",
      "model_name": "HTMLStyleModel",
      "state": {
       "description_width": "",
       "font_size": null,
       "text_color": null
      }
     },
     "68a71a63ceb84baeb9bfde9ade83c1d6": {
      "model_module": "@jupyter-widgets/base",
      "model_module_version": "2.0.0",
      "model_name": "LayoutModel",
      "state": {}
     },
     "68bc871cdf174c51943fd16b7f4f57b9": {
      "model_module": "@jupyter-widgets/controls",
      "model_module_version": "2.0.0",
      "model_name": "HTMLStyleModel",
      "state": {
       "description_width": "",
       "font_size": null,
       "text_color": null
      }
     },
     "68be39e093894f6b9f39599ef563019a": {
      "model_module": "@jupyter-widgets/controls",
      "model_module_version": "2.0.0",
      "model_name": "HTMLStyleModel",
      "state": {
       "description_width": "",
       "font_size": null,
       "text_color": null
      }
     },
     "68c26c242ffd43079abf86245253e3e9": {
      "model_module": "@jupyter-widgets/controls",
      "model_module_version": "2.0.0",
      "model_name": "FloatProgressModel",
      "state": {
       "layout": "IPY_MODEL_a6273022bcf44a93a808db73762c9f8c",
       "max": 14,
       "style": "IPY_MODEL_85b082941bc542b7a8d063188cdaeb76",
       "value": 14
      }
     },
     "68d4745cfae24e41818a44e46c4922cd": {
      "model_module": "@jupyter-widgets/controls",
      "model_module_version": "2.0.0",
      "model_name": "HTMLStyleModel",
      "state": {
       "description_width": "",
       "font_size": null,
       "text_color": null
      }
     },
     "6926609e17d742c1a9de6e8bad42bdcd": {
      "model_module": "@jupyter-widgets/base",
      "model_module_version": "2.0.0",
      "model_name": "LayoutModel",
      "state": {}
     },
     "6941fff41f4846f3850e208dbe973463": {
      "model_module": "@jupyter-widgets/controls",
      "model_module_version": "2.0.0",
      "model_name": "FloatProgressModel",
      "state": {
       "layout": "IPY_MODEL_7b4f17c9c05c4a9caf9072b783264d49",
       "max": 63,
       "style": "IPY_MODEL_6ab071420e014f98840c2e093a13ff29",
       "value": 63
      }
     },
     "694e244e2dcc4714b53d6d429f6aa867": {
      "model_module": "@jupyter-widgets/base",
      "model_module_version": "2.0.0",
      "model_name": "LayoutModel",
      "state": {}
     },
     "6956498e053b4fb294aadd12e29c5779": {
      "model_module": "@jupyter-widgets/base",
      "model_module_version": "2.0.0",
      "model_name": "LayoutModel",
      "state": {
       "visibility": "hidden"
      }
     },
     "6964657ee2be42aba23ef0d590f6b130": {
      "model_module": "@jupyter-widgets/base",
      "model_module_version": "2.0.0",
      "model_name": "LayoutModel",
      "state": {}
     },
     "697e461283b74aa382008227276c1893": {
      "model_module": "@jupyter-widgets/controls",
      "model_module_version": "2.0.0",
      "model_name": "HTMLStyleModel",
      "state": {
       "description_width": "",
       "font_size": null,
       "text_color": null
      }
     },
     "698f9cff833d4860a9e4f1d788b3c6eb": {
      "model_module": "@jupyter-widgets/controls",
      "model_module_version": "2.0.0",
      "model_name": "FloatProgressModel",
      "state": {
       "layout": "IPY_MODEL_8bc8e38818824c53850d5b5de9842031",
       "max": 63,
       "style": "IPY_MODEL_cacb5b36098b4b42bb34e064aeaec164",
       "value": 63
      }
     },
     "69954b960e3543f9989cd835cef2b832": {
      "model_module": "@jupyter-widgets/controls",
      "model_module_version": "2.0.0",
      "model_name": "HTMLStyleModel",
      "state": {
       "description_width": "",
       "font_size": null,
       "text_color": null
      }
     },
     "6995f2daf55a4e42b60989e378bba74f": {
      "model_module": "@jupyter-widgets/base",
      "model_module_version": "2.0.0",
      "model_name": "LayoutModel",
      "state": {}
     },
     "69c30c4a308841009e875a244784b9ec": {
      "model_module": "@jupyter-widgets/base",
      "model_module_version": "2.0.0",
      "model_name": "LayoutModel",
      "state": {}
     },
     "69ca47d25db548ddb2a699fabd0c298b": {
      "model_module": "@jupyter-widgets/base",
      "model_module_version": "2.0.0",
      "model_name": "LayoutModel",
      "state": {}
     },
     "69e35faf53db40a69bb281be4e3fcd69": {
      "model_module": "@jupyter-widgets/controls",
      "model_module_version": "2.0.0",
      "model_name": "HTMLStyleModel",
      "state": {
       "description_width": "",
       "font_size": null,
       "text_color": null
      }
     },
     "6a26ff899d5146d98774c58fdedf3d30": {
      "model_module": "@jupyter-widgets/controls",
      "model_module_version": "2.0.0",
      "model_name": "FloatProgressModel",
      "state": {
       "layout": "IPY_MODEL_e9276e3cadfa47ce8b274d9b4a593fc2",
       "max": 77,
       "style": "IPY_MODEL_41b09d686c85488fbe8b2a06bd9e4a76",
       "value": 77
      }
     },
     "6a4f37c2e3eb498fb011d52c2013c3c5": {
      "model_module": "@jupyter-widgets/controls",
      "model_module_version": "2.0.0",
      "model_name": "HTMLModel",
      "state": {
       "layout": "IPY_MODEL_5208d262044f4fd4a52ee2e314720872",
       "style": "IPY_MODEL_f4babed4999442dea4bcebab38517af5",
       "value": "Epoch 18, Loss: 2.0884: 100%"
      }
     },
     "6a7fa10859184e838b8807d39856cc79": {
      "model_module": "@jupyter-widgets/controls",
      "model_module_version": "2.0.0",
      "model_name": "HTMLModel",
      "state": {
       "layout": "IPY_MODEL_365689abb9d040a7add78d16dfb758e7",
       "style": "IPY_MODEL_a5d0e2bad41946e6a29effa5ff324069",
       "value": "Epoch 13, Loss: 2.0856: 100%"
      }
     },
     "6a8766b3533f43ca90e161fef708a886": {
      "model_module": "@jupyter-widgets/controls",
      "model_module_version": "2.0.0",
      "model_name": "FloatProgressModel",
      "state": {
       "layout": "IPY_MODEL_d91bfada1b8946eda16e0e4797f99d49",
       "max": 27,
       "style": "IPY_MODEL_379a2b37fc9a4ad0be495cbbe66503da",
       "value": 27
      }
     },
     "6a969b74990c463c90a1a9863e727ec2": {
      "model_module": "@jupyter-widgets/controls",
      "model_module_version": "2.0.0",
      "model_name": "FloatProgressModel",
      "state": {
       "layout": "IPY_MODEL_f2af3fb2bb7e4a3eafa6a29f95c8afda",
       "max": 23,
       "style": "IPY_MODEL_d96914da280b4f34b77dfb0d5ce4d236",
       "value": 23
      }
     },
     "6ab071420e014f98840c2e093a13ff29": {
      "model_module": "@jupyter-widgets/controls",
      "model_module_version": "2.0.0",
      "model_name": "ProgressStyleModel",
      "state": {
       "description_width": ""
      }
     },
     "6ada3ffe055c482d95c0e8edcd02946d": {
      "model_module": "@jupyter-widgets/controls",
      "model_module_version": "2.0.0",
      "model_name": "HTMLStyleModel",
      "state": {
       "description_width": "",
       "font_size": null,
       "text_color": null
      }
     },
     "6b1002302ae14bd49de81c4f8c974291": {
      "model_module": "@jupyter-widgets/base",
      "model_module_version": "2.0.0",
      "model_name": "LayoutModel",
      "state": {}
     },
     "6b25533f7a764b8fadc97baf7ffd1ee6": {
      "model_module": "@jupyter-widgets/base",
      "model_module_version": "2.0.0",
      "model_name": "LayoutModel",
      "state": {}
     },
     "6b267f430f414a509215aa5fd4fa5533": {
      "model_module": "@jupyter-widgets/controls",
      "model_module_version": "2.0.0",
      "model_name": "FloatProgressModel",
      "state": {
       "layout": "IPY_MODEL_eddea4518ee847e8ba5b6ac4900590e7",
       "max": 27,
       "style": "IPY_MODEL_7fba8d85caa9478687d1c79d2d740db7",
       "value": 27
      }
     },
     "6b418bebb7aa480d977eede9170f12cf": {
      "model_module": "@jupyter-widgets/base",
      "model_module_version": "2.0.0",
      "model_name": "LayoutModel",
      "state": {}
     },
     "6b4d7921ac4743b493c825d80878819c": {
      "model_module": "@jupyter-widgets/controls",
      "model_module_version": "2.0.0",
      "model_name": "HTMLStyleModel",
      "state": {
       "description_width": "",
       "font_size": null,
       "text_color": null
      }
     },
     "6b70f5952d8f46db96bae11700f1fcd0": {
      "model_module": "@jupyter-widgets/base",
      "model_module_version": "2.0.0",
      "model_name": "LayoutModel",
      "state": {}
     },
     "6b73399b481d4192a68fec7b8b1c5faf": {
      "model_module": "@jupyter-widgets/controls",
      "model_module_version": "2.0.0",
      "model_name": "FloatProgressModel",
      "state": {
       "layout": "IPY_MODEL_532c1c647c9c427cb87c03cd0a0937ce",
       "max": 14,
       "style": "IPY_MODEL_2f9c8c11473c4aa3b7c5b1e470a12d47",
       "value": 14
      }
     },
     "6b9c849ace714fd499d17e62402586dd": {
      "model_module": "@jupyter-widgets/base",
      "model_module_version": "2.0.0",
      "model_name": "LayoutModel",
      "state": {}
     },
     "6ba1056bd95f4c6ab7ac39918d784714": {
      "model_module": "@jupyter-widgets/controls",
      "model_module_version": "2.0.0",
      "model_name": "FloatProgressModel",
      "state": {
       "layout": "IPY_MODEL_14b6897b99784e3594b35fc8ab9cbc5f",
       "max": 14,
       "style": "IPY_MODEL_e803adf7e7b246f38de06f804210a704",
       "value": 14
      }
     },
     "6baa0284b0b249dcaa3bde2029b81f5f": {
      "model_module": "@jupyter-widgets/controls",
      "model_module_version": "2.0.0",
      "model_name": "ProgressStyleModel",
      "state": {
       "description_width": ""
      }
     },
     "6bab5a5980784726bababc27e5550a9e": {
      "model_module": "@jupyter-widgets/controls",
      "model_module_version": "2.0.0",
      "model_name": "ProgressStyleModel",
      "state": {
       "description_width": ""
      }
     },
     "6bac485e92574e9a9bc8f0389f3c966b": {
      "model_module": "@jupyter-widgets/base",
      "model_module_version": "2.0.0",
      "model_name": "LayoutModel",
      "state": {}
     },
     "6be73c6f1d4348949bceaac87205040f": {
      "model_module": "@jupyter-widgets/controls",
      "model_module_version": "2.0.0",
      "model_name": "HTMLStyleModel",
      "state": {
       "description_width": "",
       "font_size": null,
       "text_color": null
      }
     },
     "6bee15ac3d57438e8316d80acebb2b1f": {
      "model_module": "@jupyter-widgets/base",
      "model_module_version": "2.0.0",
      "model_name": "LayoutModel",
      "state": {}
     },
     "6bf57af77b884c579d91b79c6c14636e": {
      "model_module": "@jupyter-widgets/base",
      "model_module_version": "2.0.0",
      "model_name": "LayoutModel",
      "state": {}
     },
     "6c2d33e46dbb477d9d6c131319075e2d": {
      "model_module": "@jupyter-widgets/base",
      "model_module_version": "2.0.0",
      "model_name": "LayoutModel",
      "state": {
       "visibility": "hidden"
      }
     },
     "6c33bee3544e47709c8ebec42b7d6165": {
      "model_module": "@jupyter-widgets/base",
      "model_module_version": "2.0.0",
      "model_name": "LayoutModel",
      "state": {}
     },
     "6c54ba9f843a46a781da1f1159013409": {
      "model_module": "@jupyter-widgets/base",
      "model_module_version": "2.0.0",
      "model_name": "LayoutModel",
      "state": {
       "visibility": "hidden"
      }
     },
     "6c58e61ba8ed4e3abe06492efc1434ef": {
      "model_module": "@jupyter-widgets/controls",
      "model_module_version": "2.0.0",
      "model_name": "ProgressStyleModel",
      "state": {
       "description_width": ""
      }
     },
     "6c8769e34c594b6599d29f611350ab63": {
      "model_module": "@jupyter-widgets/controls",
      "model_module_version": "2.0.0",
      "model_name": "ProgressStyleModel",
      "state": {
       "description_width": ""
      }
     },
     "6c9716c0d3254e19a25b1557b84cf07c": {
      "model_module": "@jupyter-widgets/base",
      "model_module_version": "2.0.0",
      "model_name": "LayoutModel",
      "state": {}
     },
     "6cb12cc5a1374de8ae9ab447d071daab": {
      "model_module": "@jupyter-widgets/controls",
      "model_module_version": "2.0.0",
      "model_name": "HTMLStyleModel",
      "state": {
       "description_width": "",
       "font_size": null,
       "text_color": null
      }
     },
     "6cb218beb8ac408b9da298dd81756327": {
      "model_module": "@jupyter-widgets/base",
      "model_module_version": "2.0.0",
      "model_name": "LayoutModel",
      "state": {}
     },
     "6cbdc19a31334a8290bd3d3984806427": {
      "model_module": "@jupyter-widgets/controls",
      "model_module_version": "2.0.0",
      "model_name": "FloatProgressModel",
      "state": {
       "layout": "IPY_MODEL_d6a38d83e8c54d6aa4c502faa05f9845",
       "max": 27,
       "style": "IPY_MODEL_5b7375257fcf411680c0f4ac513ac89c",
       "value": 27
      }
     },
     "6d37bf4e14ec433b885e90f38fbe62cc": {
      "model_module": "@jupyter-widgets/controls",
      "model_module_version": "2.0.0",
      "model_name": "HTMLModel",
      "state": {
       "layout": "IPY_MODEL_ee11141dddc9402b8ad0174809e43032",
       "style": "IPY_MODEL_793f79fff4044d34947ad9caf0e017e7",
       "value": " 77/77 [00:23&lt;00:00,  3.44it/s]"
      }
     },
     "6d5f70186b2d4b3092ac37c1f1b8f28f": {
      "model_module": "@jupyter-widgets/base",
      "model_module_version": "2.0.0",
      "model_name": "LayoutModel",
      "state": {}
     },
     "6d85ff363a9c42f2a9e2a5072bd400eb": {
      "model_module": "@jupyter-widgets/controls",
      "model_module_version": "2.0.0",
      "model_name": "HTMLModel",
      "state": {
       "layout": "IPY_MODEL_026bf9e32151467bbdf547c1e8be36dd",
       "style": "IPY_MODEL_7f2f5e3607cb4c539d686ad6244c3975",
       "value": "Epoch 20, Loss: 2.6929: 100%"
      }
     },
     "6d92e1bf4c034a469e7b8ecfbbd4a993": {
      "model_module": "@jupyter-widgets/controls",
      "model_module_version": "2.0.0",
      "model_name": "HTMLStyleModel",
      "state": {
       "description_width": "",
       "font_size": null,
       "text_color": null
      }
     },
     "6da67dbdf26c420697cda987cf13371a": {
      "model_module": "@jupyter-widgets/base",
      "model_module_version": "2.0.0",
      "model_name": "LayoutModel",
      "state": {}
     },
     "6ddae391df2c4e90be164176063ee476": {
      "model_module": "@jupyter-widgets/controls",
      "model_module_version": "2.0.0",
      "model_name": "HTMLStyleModel",
      "state": {
       "description_width": "",
       "font_size": null,
       "text_color": null
      }
     },
     "6de05a8877ae4b7684419d12de697e86": {
      "model_module": "@jupyter-widgets/base",
      "model_module_version": "2.0.0",
      "model_name": "LayoutModel",
      "state": {}
     },
     "6dfbaefce4b440be8b7fa85af1d41c4d": {
      "model_module": "@jupyter-widgets/controls",
      "model_module_version": "2.0.0",
      "model_name": "FloatProgressModel",
      "state": {
       "layout": "IPY_MODEL_11f89313c7724a49ab2a6003db678c84",
       "max": 63,
       "style": "IPY_MODEL_dadea320fb284a9fa77f1e62b339e236",
       "value": 63
      }
     },
     "6e1a76e737e946ae9e793491a999ce6a": {
      "model_module": "@jupyter-widgets/base",
      "model_module_version": "2.0.0",
      "model_name": "LayoutModel",
      "state": {}
     },
     "6e2ee98c18044eba8e67fd1719633a37": {
      "model_module": "@jupyter-widgets/controls",
      "model_module_version": "2.0.0",
      "model_name": "HTMLStyleModel",
      "state": {
       "description_width": "",
       "font_size": null,
       "text_color": null
      }
     },
     "6e3500ace25348c09618314c1f9cb044": {
      "model_module": "@jupyter-widgets/controls",
      "model_module_version": "2.0.0",
      "model_name": "HTMLStyleModel",
      "state": {
       "description_width": "",
       "font_size": null,
       "text_color": null
      }
     },
     "6e356b4ad858446991501e9e77f9d2ce": {
      "model_module": "@jupyter-widgets/controls",
      "model_module_version": "2.0.0",
      "model_name": "HTMLModel",
      "state": {
       "layout": "IPY_MODEL_bcd0206d940a44d59768db4dde8dfdc4",
       "style": "IPY_MODEL_2a2c830805ca4440914f23de2c20f86e",
       "value": "Epoch 20, Loss: 2.5309: 100%"
      }
     },
     "6e5787f423f3432d978d783da3a23543": {
      "model_module": "@jupyter-widgets/controls",
      "model_module_version": "2.0.0",
      "model_name": "FloatProgressModel",
      "state": {
       "layout": "IPY_MODEL_6097927eefd64897aa4052b80b538cf4",
       "max": 14,
       "style": "IPY_MODEL_5d0d4aad65d34da69f1b950fcac0b803",
       "value": 14
      }
     },
     "6e5fd0f5f32446b093730f884400567d": {
      "model_module": "@jupyter-widgets/controls",
      "model_module_version": "2.0.0",
      "model_name": "ProgressStyleModel",
      "state": {
       "description_width": ""
      }
     },
     "6e61f08ebf474bb29d22495776c1187c": {
      "model_module": "@jupyter-widgets/controls",
      "model_module_version": "2.0.0",
      "model_name": "HTMLStyleModel",
      "state": {
       "description_width": "",
       "font_size": null,
       "text_color": null
      }
     },
     "6f00f8501cbb40a58e3785b22a4dd235": {
      "model_module": "@jupyter-widgets/controls",
      "model_module_version": "2.0.0",
      "model_name": "HTMLModel",
      "state": {
       "layout": "IPY_MODEL_c62cfe3853b14206be87747a7da06372",
       "style": "IPY_MODEL_0353a0caaad5473dacf217c9119a6fb2",
       "value": "Epoch 10, Loss: 2.0894: 100%"
      }
     },
     "6f02b5d9669b482a8f06fa32a13e771a": {
      "model_module": "@jupyter-widgets/controls",
      "model_module_version": "2.0.0",
      "model_name": "HTMLModel",
      "state": {
       "layout": "IPY_MODEL_a714a99cf2a14aa8b0a55863a76269c2",
       "style": "IPY_MODEL_ed049b2a0bf348edab9c81a3169f8fb8",
       "value": " 63/63 [00:19&lt;00:00,  3.45it/s]"
      }
     },
     "6f346571d1964e1c8c1f626c19288af6": {
      "model_module": "@jupyter-widgets/controls",
      "model_module_version": "2.0.0",
      "model_name": "FloatProgressModel",
      "state": {
       "layout": "IPY_MODEL_b4801e11ad41435e80bbebd27fdde771",
       "max": 14,
       "style": "IPY_MODEL_b7832dbfd64b48bdb31deaeae205890a",
       "value": 14
      }
     },
     "6f3ef86c65584750bbe4513e5e869492": {
      "model_module": "@jupyter-widgets/base",
      "model_module_version": "2.0.0",
      "model_name": "LayoutModel",
      "state": {}
     },
     "6f52a875573541e189e70a0b2a9a3f4d": {
      "model_module": "@jupyter-widgets/base",
      "model_module_version": "2.0.0",
      "model_name": "LayoutModel",
      "state": {}
     },
     "6f68fc5096254fee8bb69dcd95311551": {
      "model_module": "@jupyter-widgets/controls",
      "model_module_version": "2.0.0",
      "model_name": "HTMLStyleModel",
      "state": {
       "description_width": "",
       "font_size": null,
       "text_color": null
      }
     },
     "6f693f10410e475d9d7f95ec44cadede": {
      "model_module": "@jupyter-widgets/controls",
      "model_module_version": "2.0.0",
      "model_name": "FloatProgressModel",
      "state": {
       "layout": "IPY_MODEL_c9df8adc408a4fb2a7c44a3e8aed3052",
       "max": 32,
       "style": "IPY_MODEL_1374f2e974e744dfbc4e71257f743ef9",
       "value": 32
      }
     },
     "6f6f51fbeab641cca11f0296a2994edd": {
      "model_module": "@jupyter-widgets/base",
      "model_module_version": "2.0.0",
      "model_name": "LayoutModel",
      "state": {}
     },
     "6f71b3f9ca5c44c099e30498719700db": {
      "model_module": "@jupyter-widgets/base",
      "model_module_version": "2.0.0",
      "model_name": "LayoutModel",
      "state": {}
     },
     "6f8a1f97ec6c4103951d99de5742ac69": {
      "model_module": "@jupyter-widgets/base",
      "model_module_version": "2.0.0",
      "model_name": "LayoutModel",
      "state": {}
     },
     "6f95bd4a864040f8923cf927bc4502cf": {
      "model_module": "@jupyter-widgets/controls",
      "model_module_version": "2.0.0",
      "model_name": "HTMLModel",
      "state": {
       "layout": "IPY_MODEL_54b6830feebc4263af298ae97f5b3803",
       "style": "IPY_MODEL_2b0ef6d973b7444f9774b269974831c6",
       "value": " 32/32 [00:10&lt;00:00,  3.12it/s]"
      }
     },
     "6fd1790e2d3249f7ae3ab0adc23433f6": {
      "model_module": "@jupyter-widgets/base",
      "model_module_version": "2.0.0",
      "model_name": "LayoutModel",
      "state": {}
     },
     "700a2230a0024555868ba3d6bf6a683c": {
      "model_module": "@jupyter-widgets/controls",
      "model_module_version": "2.0.0",
      "model_name": "FloatProgressModel",
      "state": {
       "layout": "IPY_MODEL_57b2406b33a14d15809a620911ebc0b9",
       "max": 77,
       "style": "IPY_MODEL_7c0416f6b4f14757b4cab26c98407afe",
       "value": 77
      }
     },
     "700d78d9cf7640f699c9639dab7fa705": {
      "model_module": "@jupyter-widgets/controls",
      "model_module_version": "2.0.0",
      "model_name": "HTMLStyleModel",
      "state": {
       "description_width": "",
       "font_size": null,
       "text_color": null
      }
     },
     "705933b3f2404d7b99964614c1d553ac": {
      "model_module": "@jupyter-widgets/controls",
      "model_module_version": "2.0.0",
      "model_name": "HTMLModel",
      "state": {
       "layout": "IPY_MODEL_926a025acad14bb2898c8a14b63d968e",
       "style": "IPY_MODEL_76a49d9e754746f98f165fa5411745f0",
       "value": " 14/14 [00:01&lt;00:00, 10.43it/s]"
      }
     },
     "70758322658b4559863d02648bfa42fb": {
      "model_module": "@jupyter-widgets/base",
      "model_module_version": "2.0.0",
      "model_name": "LayoutModel",
      "state": {
       "visibility": "hidden"
      }
     },
     "70825f2f10fc4c759af726d884ffd1ef": {
      "model_module": "@jupyter-widgets/controls",
      "model_module_version": "2.0.0",
      "model_name": "HTMLStyleModel",
      "state": {
       "description_width": "",
       "font_size": null,
       "text_color": null
      }
     },
     "70838e6cb8354afbb4f15e7fc510a9b4": {
      "model_module": "@jupyter-widgets/controls",
      "model_module_version": "2.0.0",
      "model_name": "HTMLStyleModel",
      "state": {
       "description_width": "",
       "font_size": null,
       "text_color": null
      }
     },
     "708433d3e3a245caab23ef560b7b1401": {
      "model_module": "@jupyter-widgets/base",
      "model_module_version": "2.0.0",
      "model_name": "LayoutModel",
      "state": {}
     },
     "709d9ab6af90406984393f2d3f98ca9f": {
      "model_module": "@jupyter-widgets/controls",
      "model_module_version": "2.0.0",
      "model_name": "HTMLModel",
      "state": {
       "layout": "IPY_MODEL_53106cbb014e4b19931c7edaa6375c30",
       "style": "IPY_MODEL_e43bf26f722d49e4b85025f9f09478b9",
       "value": " 32/32 [00:10&lt;00:00,  3.42it/s]"
      }
     },
     "709fba59d613437bacb64fea91e03951": {
      "model_module": "@jupyter-widgets/controls",
      "model_module_version": "2.0.0",
      "model_name": "HTMLStyleModel",
      "state": {
       "description_width": "",
       "font_size": null,
       "text_color": null
      }
     },
     "70acbaa70a41499ca75bb127374bd186": {
      "model_module": "@jupyter-widgets/base",
      "model_module_version": "2.0.0",
      "model_name": "LayoutModel",
      "state": {}
     },
     "70b0fc54ef0e4f74b00e6f8bee615172": {
      "model_module": "@jupyter-widgets/base",
      "model_module_version": "2.0.0",
      "model_name": "LayoutModel",
      "state": {}
     },
     "70b10ac104f040aa87fe2c591cc4197f": {
      "model_module": "@jupyter-widgets/base",
      "model_module_version": "2.0.0",
      "model_name": "LayoutModel",
      "state": {}
     },
     "70b2a6d7229e4b4fa21a212198873c98": {
      "model_module": "@jupyter-widgets/controls",
      "model_module_version": "2.0.0",
      "model_name": "HTMLModel",
      "state": {
       "layout": "IPY_MODEL_8e090093d4054381b8a81e9cccd9eb2d",
       "style": "IPY_MODEL_f5e1c78ab0964a4e9bd0d9671cb1ed89",
       "value": "Epoch 17, Loss: 3.0132: 100%"
      }
     },
     "70b3e96ced024e138eaa994f8afd3d95": {
      "model_module": "@jupyter-widgets/controls",
      "model_module_version": "2.0.0",
      "model_name": "FloatProgressModel",
      "state": {
       "layout": "IPY_MODEL_33171c2e327d47d5a054b3eea008e717",
       "max": 20,
       "style": "IPY_MODEL_2d3e179c65e744f0966ae5f18fcc7db5",
       "value": 20
      }
     },
     "70bda9bf4bd746fdbd8244b6781464fb": {
      "model_module": "@jupyter-widgets/controls",
      "model_module_version": "2.0.0",
      "model_name": "HTMLStyleModel",
      "state": {
       "description_width": "",
       "font_size": null,
       "text_color": null
      }
     },
     "70cda4a752b241d28a023a00cd77cd94": {
      "model_module": "@jupyter-widgets/base",
      "model_module_version": "2.0.0",
      "model_name": "LayoutModel",
      "state": {}
     },
     "70dd0be974474df8b314bca22eccb6a4": {
      "model_module": "@jupyter-widgets/controls",
      "model_module_version": "2.0.0",
      "model_name": "HTMLModel",
      "state": {
       "layout": "IPY_MODEL_35a26d830e3f4e4b80b449aed3923de4",
       "style": "IPY_MODEL_593a03c799bb4fd39941506e2ef33562",
       "value": " 32/32 [00:10&lt;00:00,  3.45it/s]"
      }
     },
     "70f1989b2b1d4d9182121317beaf8838": {
      "model_module": "@jupyter-widgets/base",
      "model_module_version": "2.0.0",
      "model_name": "LayoutModel",
      "state": {}
     },
     "7118f186fcd5415aabd27ed854aa2ab3": {
      "model_module": "@jupyter-widgets/base",
      "model_module_version": "2.0.0",
      "model_name": "LayoutModel",
      "state": {}
     },
     "712812691b394d26b5722bf4c6ecc09e": {
      "model_module": "@jupyter-widgets/base",
      "model_module_version": "2.0.0",
      "model_name": "LayoutModel",
      "state": {
       "visibility": "hidden"
      }
     },
     "71317f613ec94ffc8c2b8c1effc06503": {
      "model_module": "@jupyter-widgets/base",
      "model_module_version": "2.0.0",
      "model_name": "LayoutModel",
      "state": {}
     },
     "713bcf1b23ae4fe58e32eddf0f2e7632": {
      "model_module": "@jupyter-widgets/controls",
      "model_module_version": "2.0.0",
      "model_name": "ProgressStyleModel",
      "state": {
       "description_width": ""
      }
     },
     "714ea427249d48f2972c167e04a2dd13": {
      "model_module": "@jupyter-widgets/controls",
      "model_module_version": "2.0.0",
      "model_name": "ProgressStyleModel",
      "state": {
       "description_width": ""
      }
     },
     "716562e8a9ce4653844d61f58337d55e": {
      "model_module": "@jupyter-widgets/controls",
      "model_module_version": "2.0.0",
      "model_name": "ProgressStyleModel",
      "state": {
       "description_width": ""
      }
     },
     "7174ca3778444af68749b79deba8fd13": {
      "model_module": "@jupyter-widgets/base",
      "model_module_version": "2.0.0",
      "model_name": "LayoutModel",
      "state": {}
     },
     "71935c4ecc994344a5bda5421184e615": {
      "model_module": "@jupyter-widgets/controls",
      "model_module_version": "2.0.0",
      "model_name": "HTMLModel",
      "state": {
       "layout": "IPY_MODEL_d4fe949c4c4f44a089f8ee728a4b7eb3",
       "style": "IPY_MODEL_02fbea6120e64dfdbc1816e3d3baffdb",
       "value": " 26/27 [00:03&lt;00:00, 10.55it/s]"
      }
     },
     "71995bfad05744969cbcf2d91a0b05d4": {
      "model_module": "@jupyter-widgets/base",
      "model_module_version": "2.0.0",
      "model_name": "LayoutModel",
      "state": {}
     },
     "719ff0842f514b84906e987ec73e168e": {
      "model_module": "@jupyter-widgets/controls",
      "model_module_version": "2.0.0",
      "model_name": "HTMLStyleModel",
      "state": {
       "description_width": "",
       "font_size": null,
       "text_color": null
      }
     },
     "71ab974dbdb346beb1fd8cdc5fb081b3": {
      "model_module": "@jupyter-widgets/base",
      "model_module_version": "2.0.0",
      "model_name": "LayoutModel",
      "state": {}
     },
     "71efa8e4de1a4a80b92e5c118dd76568": {
      "model_module": "@jupyter-widgets/base",
      "model_module_version": "2.0.0",
      "model_name": "LayoutModel",
      "state": {}
     },
     "71efc14037cf47c4851110aa27d3f66f": {
      "model_module": "@jupyter-widgets/controls",
      "model_module_version": "2.0.0",
      "model_name": "HTMLModel",
      "state": {
       "layout": "IPY_MODEL_a76a789f095b4642a118e10597d2fb8f",
       "style": "IPY_MODEL_40e8bcf46d2c4ca39cfb845033c8b5a9",
       "value": " 14/14 [00:02&lt;00:00,  8.82it/s]"
      }
     },
     "723e4578c1744acb856fc49a2e6a4f2d": {
      "model_module": "@jupyter-widgets/base",
      "model_module_version": "2.0.0",
      "model_name": "LayoutModel",
      "state": {
       "visibility": "hidden"
      }
     },
     "725a9cbea01941f8a5db5e46a28ffde5": {
      "model_module": "@jupyter-widgets/controls",
      "model_module_version": "2.0.0",
      "model_name": "HTMLStyleModel",
      "state": {
       "description_width": "",
       "font_size": null,
       "text_color": null
      }
     },
     "725ba984cdee401e8ae185b525df7d25": {
      "model_module": "@jupyter-widgets/base",
      "model_module_version": "2.0.0",
      "model_name": "LayoutModel",
      "state": {}
     },
     "72cb8e0f316247d599e2b910b2393f0f": {
      "model_module": "@jupyter-widgets/base",
      "model_module_version": "2.0.0",
      "model_name": "LayoutModel",
      "state": {}
     },
     "72cfc581e11240e89d3ff302afc9c995": {
      "model_module": "@jupyter-widgets/controls",
      "model_module_version": "2.0.0",
      "model_name": "HTMLModel",
      "state": {
       "layout": "IPY_MODEL_e1f730b7df7f474eb933d38002a6392c",
       "style": "IPY_MODEL_f7aef27c0ba14fe891c77ebc9779fb62",
       "value": "Epoch 20, Loss: 4.3731:  96%"
      }
     },
     "72d0de31fa8d4a7e8990709dc140f8b9": {
      "model_module": "@jupyter-widgets/base",
      "model_module_version": "2.0.0",
      "model_name": "LayoutModel",
      "state": {
       "visibility": "hidden"
      }
     },
     "72e7af9d02a045abb8277ef1c7979959": {
      "model_module": "@jupyter-widgets/base",
      "model_module_version": "2.0.0",
      "model_name": "LayoutModel",
      "state": {}
     },
     "72ec8c51044f484f9bc1f4a872f4c784": {
      "model_module": "@jupyter-widgets/controls",
      "model_module_version": "2.0.0",
      "model_name": "HTMLStyleModel",
      "state": {
       "description_width": "",
       "font_size": null,
       "text_color": null
      }
     },
     "72f80f5f7dc340828d71ec1dbe01dc22": {
      "model_module": "@jupyter-widgets/base",
      "model_module_version": "2.0.0",
      "model_name": "LayoutModel",
      "state": {}
     },
     "73173d132972442e8d7d5b33186d79f3": {
      "model_module": "@jupyter-widgets/base",
      "model_module_version": "2.0.0",
      "model_name": "LayoutModel",
      "state": {}
     },
     "731fc434ece544209e5c80f9bd092cb7": {
      "model_module": "@jupyter-widgets/controls",
      "model_module_version": "2.0.0",
      "model_name": "HTMLStyleModel",
      "state": {
       "description_width": "",
       "font_size": null,
       "text_color": null
      }
     },
     "73201d5d59f744eaba0b9a84d82d116e": {
      "model_module": "@jupyter-widgets/controls",
      "model_module_version": "2.0.0",
      "model_name": "HTMLStyleModel",
      "state": {
       "description_width": "",
       "font_size": null,
       "text_color": null
      }
     },
     "7328ebaf4d124826adf0f646dc3d92c1": {
      "model_module": "@jupyter-widgets/controls",
      "model_module_version": "2.0.0",
      "model_name": "FloatProgressModel",
      "state": {
       "layout": "IPY_MODEL_05b8ca9cb30b479e9eec3c5dfe2c2d78",
       "max": 27,
       "style": "IPY_MODEL_cc67035cba084ee59331813c2ed06c2b",
       "value": 27
      }
     },
     "7338b11bda1044cba643151c6ec24a17": {
      "model_module": "@jupyter-widgets/base",
      "model_module_version": "2.0.0",
      "model_name": "LayoutModel",
      "state": {}
     },
     "7383969557a8421290b00c3dbc48745c": {
      "model_module": "@jupyter-widgets/base",
      "model_module_version": "2.0.0",
      "model_name": "LayoutModel",
      "state": {}
     },
     "738c8c8409764ede9f253a595751e188": {
      "model_module": "@jupyter-widgets/base",
      "model_module_version": "2.0.0",
      "model_name": "LayoutModel",
      "state": {}
     },
     "73a5a88fea9b4837a87a94a9bee91675": {
      "model_module": "@jupyter-widgets/controls",
      "model_module_version": "2.0.0",
      "model_name": "HTMLStyleModel",
      "state": {
       "description_width": "",
       "font_size": null,
       "text_color": null
      }
     },
     "73b63ac888444be99ed90935706499bc": {
      "model_module": "@jupyter-widgets/base",
      "model_module_version": "2.0.0",
      "model_name": "LayoutModel",
      "state": {}
     },
     "73df3a5dd3874ab299946d87e01d8ce2": {
      "model_module": "@jupyter-widgets/controls",
      "model_module_version": "2.0.0",
      "model_name": "HTMLStyleModel",
      "state": {
       "description_width": "",
       "font_size": null,
       "text_color": null
      }
     },
     "73f0db3c9b4e431d83397977dea07787": {
      "model_module": "@jupyter-widgets/base",
      "model_module_version": "2.0.0",
      "model_name": "LayoutModel",
      "state": {}
     },
     "744a3714f19b44478f8984886e6ba49f": {
      "model_module": "@jupyter-widgets/controls",
      "model_module_version": "2.0.0",
      "model_name": "ProgressStyleModel",
      "state": {
       "description_width": ""
      }
     },
     "7463725abbc7410cb6873cb70b9cd4fe": {
      "model_module": "@jupyter-widgets/base",
      "model_module_version": "2.0.0",
      "model_name": "LayoutModel",
      "state": {
       "visibility": "hidden"
      }
     },
     "746dd14b2a6e4610a668aaf920947993": {
      "model_module": "@jupyter-widgets/controls",
      "model_module_version": "2.0.0",
      "model_name": "ProgressStyleModel",
      "state": {
       "description_width": ""
      }
     },
     "7477d890492242038c01185210e4de8b": {
      "model_module": "@jupyter-widgets/base",
      "model_module_version": "2.0.0",
      "model_name": "LayoutModel",
      "state": {
       "visibility": "hidden"
      }
     },
     "748ebf9cf0e74529b4e1cee57c3a40e2": {
      "model_module": "@jupyter-widgets/controls",
      "model_module_version": "2.0.0",
      "model_name": "HTMLStyleModel",
      "state": {
       "description_width": "",
       "font_size": null,
       "text_color": null
      }
     },
     "749e0510cc9442f092d5c4487f037222": {
      "model_module": "@jupyter-widgets/base",
      "model_module_version": "2.0.0",
      "model_name": "LayoutModel",
      "state": {}
     },
     "74a1d8dea426466988dcad1d817c71ad": {
      "model_module": "@jupyter-widgets/base",
      "model_module_version": "2.0.0",
      "model_name": "LayoutModel",
      "state": {
       "visibility": "hidden"
      }
     },
     "74ba9e1b845c45929d61b4932e7e6a6f": {
      "model_module": "@jupyter-widgets/controls",
      "model_module_version": "2.0.0",
      "model_name": "ProgressStyleModel",
      "state": {
       "description_width": ""
      }
     },
     "74ff17b7c9da4c96afa880f9fbf3975b": {
      "model_module": "@jupyter-widgets/controls",
      "model_module_version": "2.0.0",
      "model_name": "FloatProgressModel",
      "state": {
       "layout": "IPY_MODEL_1782aba61c404890a540ba7642778d0a",
       "max": 14,
       "style": "IPY_MODEL_bcf7ceabd55641e59bbb1fc745d091b9",
       "value": 14
      }
     },
     "750a8f4fa0074529be5a4ffb248ffd9c": {
      "model_module": "@jupyter-widgets/base",
      "model_module_version": "2.0.0",
      "model_name": "LayoutModel",
      "state": {}
     },
     "751d2a9d1fe2419eb94b8f78b675b850": {
      "model_module": "@jupyter-widgets/base",
      "model_module_version": "2.0.0",
      "model_name": "LayoutModel",
      "state": {
       "visibility": "hidden"
      }
     },
     "7525aa8c6eff4d0eac601d866ce78a27": {
      "model_module": "@jupyter-widgets/controls",
      "model_module_version": "2.0.0",
      "model_name": "HTMLStyleModel",
      "state": {
       "description_width": "",
       "font_size": null,
       "text_color": null
      }
     },
     "755b5785517f4171a1944b686b284893": {
      "model_module": "@jupyter-widgets/controls",
      "model_module_version": "2.0.0",
      "model_name": "FloatProgressModel",
      "state": {
       "layout": "IPY_MODEL_03d330757c914b6aabad77ceadda1017",
       "max": 77,
       "style": "IPY_MODEL_7ecdb02218d9424185e990cd21b69752",
       "value": 77
      }
     },
     "756a92f44ad2422a842b229ceaf23d91": {
      "model_module": "@jupyter-widgets/base",
      "model_module_version": "2.0.0",
      "model_name": "LayoutModel",
      "state": {}
     },
     "756d84563ea54177af47db9d22a8ebe9": {
      "model_module": "@jupyter-widgets/controls",
      "model_module_version": "2.0.0",
      "model_name": "HTMLStyleModel",
      "state": {
       "description_width": "",
       "font_size": null,
       "text_color": null
      }
     },
     "759f59ca37d74a91b35010c69b9fcf1e": {
      "model_module": "@jupyter-widgets/controls",
      "model_module_version": "2.0.0",
      "model_name": "FloatProgressModel",
      "state": {
       "layout": "IPY_MODEL_95471cb64b2e443dba49976ab7e51e74",
       "max": 32,
       "style": "IPY_MODEL_c36d1b8f54344b5083206e8b91a9e761",
       "value": 32
      }
     },
     "75dd01265f3d43abb62d833c01581d66": {
      "model_module": "@jupyter-widgets/base",
      "model_module_version": "2.0.0",
      "model_name": "LayoutModel",
      "state": {}
     },
     "7603df12093c414eb75e63771cf8f2d4": {
      "model_module": "@jupyter-widgets/base",
      "model_module_version": "2.0.0",
      "model_name": "LayoutModel",
      "state": {}
     },
     "760e0763fcbe48c2b8946e8edc9395ca": {
      "model_module": "@jupyter-widgets/controls",
      "model_module_version": "2.0.0",
      "model_name": "FloatProgressModel",
      "state": {
       "layout": "IPY_MODEL_dc72eaea90ec40b2b80ebf011b31e148",
       "max": 14,
       "style": "IPY_MODEL_000446d47db846cb8542c9ef809e277d",
       "value": 14
      }
     },
     "761db2560a0a4900b8f01a6f8534d2aa": {
      "model_module": "@jupyter-widgets/controls",
      "model_module_version": "2.0.0",
      "model_name": "HTMLModel",
      "state": {
       "layout": "IPY_MODEL_10055870be8a4be8b206f7e83384878d",
       "style": "IPY_MODEL_4d76ad59a15844309983c73f8d1e6548",
       "value": "Epoch 13, Loss: 4.0776: 100%"
      }
     },
     "7638a73b288f403d81d0dcf4989ebbae": {
      "model_module": "@jupyter-widgets/base",
      "model_module_version": "2.0.0",
      "model_name": "LayoutModel",
      "state": {}
     },
     "765f362a814144bba7bc008e76f3f9a5": {
      "model_module": "@jupyter-widgets/controls",
      "model_module_version": "2.0.0",
      "model_name": "ProgressStyleModel",
      "state": {
       "description_width": ""
      }
     },
     "7672b2ad0623469997cc344289d68660": {
      "model_module": "@jupyter-widgets/controls",
      "model_module_version": "2.0.0",
      "model_name": "HTMLModel",
      "state": {
       "layout": "IPY_MODEL_1b5138a1a27b47ce8e52fa097a7c1dd2",
       "style": "IPY_MODEL_07035e470d2e4576904c21b90f8331b4",
       "value": " 63/63 [00:21&lt;00:00,  3.21it/s]"
      }
     },
     "767af4b1e71f413da5167527c757e640": {
      "model_module": "@jupyter-widgets/base",
      "model_module_version": "2.0.0",
      "model_name": "LayoutModel",
      "state": {}
     },
     "767cf07d715f45f1b0f4247ab9b40037": {
      "model_module": "@jupyter-widgets/controls",
      "model_module_version": "2.0.0",
      "model_name": "HTMLModel",
      "state": {
       "layout": "IPY_MODEL_708433d3e3a245caab23ef560b7b1401",
       "style": "IPY_MODEL_5bae1e749ef14e718e90ba35ad080f4f",
       "value": "Epoch 15, Loss: 2.6285: 100%"
      }
     },
     "767f65d186cf43ec8f11a93de4b7a78e": {
      "model_module": "@jupyter-widgets/base",
      "model_module_version": "2.0.0",
      "model_name": "LayoutModel",
      "state": {}
     },
     "768dcec9064b463199aae1f8dbb81247": {
      "model_module": "@jupyter-widgets/controls",
      "model_module_version": "2.0.0",
      "model_name": "HTMLModel",
      "state": {
       "layout": "IPY_MODEL_52fb162f1bee426d8460aeb624259f61",
       "style": "IPY_MODEL_184c51c2359d4c2a920732ab51717b24",
       "value": "Epoch 7, Loss: 2.9259: 100%"
      }
     },
     "76a49d9e754746f98f165fa5411745f0": {
      "model_module": "@jupyter-widgets/controls",
      "model_module_version": "2.0.0",
      "model_name": "HTMLStyleModel",
      "state": {
       "description_width": "",
       "font_size": null,
       "text_color": null
      }
     },
     "76b500a97b4341c7819d4fb61c365ff1": {
      "model_module": "@jupyter-widgets/controls",
      "model_module_version": "2.0.0",
      "model_name": "HTMLStyleModel",
      "state": {
       "description_width": "",
       "font_size": null,
       "text_color": null
      }
     },
     "76e6e4e68c824f9994e3b09afd315e10": {
      "model_module": "@jupyter-widgets/base",
      "model_module_version": "2.0.0",
      "model_name": "LayoutModel",
      "state": {}
     },
     "76f81a3218244fa8b717e06a5d89818e": {
      "model_module": "@jupyter-widgets/base",
      "model_module_version": "2.0.0",
      "model_name": "LayoutModel",
      "state": {
       "visibility": "hidden"
      }
     },
     "7709d25fa82942bebcb188abcac926d8": {
      "model_module": "@jupyter-widgets/controls",
      "model_module_version": "2.0.0",
      "model_name": "HTMLModel",
      "state": {
       "layout": "IPY_MODEL_dfaaf0cf8dc742b6b7de30bb96365bce",
       "style": "IPY_MODEL_e728bfd1f1a345b7a0f7d6ce95b246f6",
       "value": " 14/14 [00:01&lt;00:00, 10.23it/s]"
      }
     },
     "772ce485b50e47b7afeffbd53b6ad559": {
      "model_module": "@jupyter-widgets/controls",
      "model_module_version": "2.0.0",
      "model_name": "HTMLStyleModel",
      "state": {
       "description_width": "",
       "font_size": null,
       "text_color": null
      }
     },
     "7734edbb28554c159bf3db1eadcb606f": {
      "model_module": "@jupyter-widgets/controls",
      "model_module_version": "2.0.0",
      "model_name": "FloatProgressModel",
      "state": {
       "layout": "IPY_MODEL_00b2f2b0c8814139b64cc30a9bd7d4b6",
       "max": 27,
       "style": "IPY_MODEL_8a199bbc5bf0410ea50f0372812f56c6",
       "value": 27
      }
     },
     "77472225f83d4aa78a84b762cc20c5f0": {
      "model_module": "@jupyter-widgets/controls",
      "model_module_version": "2.0.0",
      "model_name": "ProgressStyleModel",
      "state": {
       "description_width": ""
      }
     },
     "77573f66774a4c81887411c7459bafdd": {
      "model_module": "@jupyter-widgets/controls",
      "model_module_version": "2.0.0",
      "model_name": "HTMLStyleModel",
      "state": {
       "description_width": "",
       "font_size": null,
       "text_color": null
      }
     },
     "77661737e9904dfb8d5216157a6a3046": {
      "model_module": "@jupyter-widgets/controls",
      "model_module_version": "2.0.0",
      "model_name": "HTMLModel",
      "state": {
       "layout": "IPY_MODEL_03309785ffa4479a81d3f57e83073adc",
       "style": "IPY_MODEL_46cfa6e8134e4027bf1ad9973101b615",
       "value": " 14/14 [00:01&lt;00:00, 10.14it/s]"
      }
     },
     "7768d2b3660d44c5967b7021c25b11ad": {
      "model_module": "@jupyter-widgets/base",
      "model_module_version": "2.0.0",
      "model_name": "LayoutModel",
      "state": {}
     },
     "776a42ec19f54851946c67e23f8f313d": {
      "model_module": "@jupyter-widgets/controls",
      "model_module_version": "2.0.0",
      "model_name": "HTMLStyleModel",
      "state": {
       "description_width": "",
       "font_size": null,
       "text_color": null
      }
     },
     "776acad3f49e43639f8e047ef9424d47": {
      "model_module": "@jupyter-widgets/controls",
      "model_module_version": "2.0.0",
      "model_name": "HTMLStyleModel",
      "state": {
       "description_width": "",
       "font_size": null,
       "text_color": null
      }
     },
     "779eff8b1a6f4bb4b82d85fc853d8296": {
      "model_module": "@jupyter-widgets/controls",
      "model_module_version": "2.0.0",
      "model_name": "ProgressStyleModel",
      "state": {
       "description_width": ""
      }
     },
     "77adc582187b42fdadfde2f1154096a2": {
      "model_module": "@jupyter-widgets/base",
      "model_module_version": "2.0.0",
      "model_name": "LayoutModel",
      "state": {}
     },
     "77bbff59bbbf48c28bfa86505294ad7e": {
      "model_module": "@jupyter-widgets/controls",
      "model_module_version": "2.0.0",
      "model_name": "HTMLModel",
      "state": {
       "layout": "IPY_MODEL_d6c09b9e8b334f4f804c1fa8ea383249",
       "style": "IPY_MODEL_f2ffcc62dea54546a61d2a470760f156",
       "value": " 20/20 [07:45&lt;00:00, 23.30s/epoch]"
      }
     },
     "77cf75e5603d458e9f6b2f751e67ea14": {
      "model_module": "@jupyter-widgets/base",
      "model_module_version": "2.0.0",
      "model_name": "LayoutModel",
      "state": {}
     },
     "77da468ee6e2454f9f3b5aec404d4bb8": {
      "model_module": "@jupyter-widgets/controls",
      "model_module_version": "2.0.0",
      "model_name": "HTMLModel",
      "state": {
       "layout": "IPY_MODEL_d6394a73c0794e1790f21e927591a42f",
       "style": "IPY_MODEL_b35ae357e3c94002bb4478e65a243737",
       "value": "Epoch 3, Loss: 2.1267: 100%"
      }
     },
     "77fa6c33404d4d0cbac1c17f683db819": {
      "model_module": "@jupyter-widgets/controls",
      "model_module_version": "2.0.0",
      "model_name": "FloatProgressModel",
      "state": {
       "layout": "IPY_MODEL_178b11b8d6e2495ab45510cf92b66ba1",
       "max": 32,
       "style": "IPY_MODEL_384e97f43cc546fa9b0751ec3e88c9c7",
       "value": 32
      }
     },
     "781f4a532a7547d3985f7d3721f8d269": {
      "model_module": "@jupyter-widgets/controls",
      "model_module_version": "2.0.0",
      "model_name": "HTMLStyleModel",
      "state": {
       "description_width": "",
       "font_size": null,
       "text_color": null
      }
     },
     "7828ba08dbcf40d3849865abd1e1b918": {
      "model_module": "@jupyter-widgets/base",
      "model_module_version": "2.0.0",
      "model_name": "LayoutModel",
      "state": {}
     },
     "782c0ae1a3c54ffc970197bab3736b31": {
      "model_module": "@jupyter-widgets/base",
      "model_module_version": "2.0.0",
      "model_name": "LayoutModel",
      "state": {}
     },
     "782ff298a12b48f8b2939e79e4c1a7df": {
      "model_module": "@jupyter-widgets/controls",
      "model_module_version": "2.0.0",
      "model_name": "HTMLModel",
      "state": {
       "layout": "IPY_MODEL_a7305cee58c64c969a1c371ca5b97c75",
       "style": "IPY_MODEL_fe26c4a907464252b2ff8323d6b3c2f8",
       "value": "Epoch 20, Loss: 3.4194: 100%"
      }
     },
     "784794727dde453eaf852c48dadfba9c": {
      "model_module": "@jupyter-widgets/base",
      "model_module_version": "2.0.0",
      "model_name": "LayoutModel",
      "state": {}
     },
     "7876293ea3b84ebcac20d565d872e67c": {
      "model_module": "@jupyter-widgets/base",
      "model_module_version": "2.0.0",
      "model_name": "LayoutModel",
      "state": {}
     },
     "78774b0c6335473a9787a6418b53ec7c": {
      "model_module": "@jupyter-widgets/base",
      "model_module_version": "2.0.0",
      "model_name": "LayoutModel",
      "state": {}
     },
     "789e14aae8c9432c96dadbe8354dfb8a": {
      "model_module": "@jupyter-widgets/controls",
      "model_module_version": "2.0.0",
      "model_name": "HTMLStyleModel",
      "state": {
       "description_width": "",
       "font_size": null,
       "text_color": null
      }
     },
     "78afbc8c223a47998dd917eaa958ccc6": {
      "model_module": "@jupyter-widgets/controls",
      "model_module_version": "2.0.0",
      "model_name": "FloatProgressModel",
      "state": {
       "layout": "IPY_MODEL_305751f6d7af49339a05c1dd95d72a6a",
       "max": 32,
       "style": "IPY_MODEL_5a43b10b3df84de389c0d6f46efb77ee",
       "value": 32
      }
     },
     "78c311cb23194b7780aa005e3edf67e7": {
      "model_module": "@jupyter-widgets/base",
      "model_module_version": "2.0.0",
      "model_name": "LayoutModel",
      "state": {
       "visibility": "hidden"
      }
     },
     "78c90f1637e545be8e0d06d6432310c3": {
      "model_module": "@jupyter-widgets/controls",
      "model_module_version": "2.0.0",
      "model_name": "FloatProgressModel",
      "state": {
       "layout": "IPY_MODEL_71ab974dbdb346beb1fd8cdc5fb081b3",
       "max": 32,
       "style": "IPY_MODEL_b98fff72417548f5a5d9bfa6f18b0d06",
       "value": 32
      }
     },
     "78d889418fdd4bb0a6dfd83dd6245623": {
      "model_module": "@jupyter-widgets/controls",
      "model_module_version": "2.0.0",
      "model_name": "HTMLModel",
      "state": {
       "layout": "IPY_MODEL_7ab37b370c7d4d01aebfbbfc540aed1d",
       "style": "IPY_MODEL_d6ba662e73874cc7adba2f5419d7eeb8",
       "value": "Epoch 12, Loss: 2.7825: 100%"
      }
     },
     "78e0b4452be44667b4bf5cd556fcd5c1": {
      "model_module": "@jupyter-widgets/base",
      "model_module_version": "2.0.0",
      "model_name": "LayoutModel",
      "state": {}
     },
     "7934cc7e8c6f4f43becfee8d93207398": {
      "model_module": "@jupyter-widgets/controls",
      "model_module_version": "2.0.0",
      "model_name": "ProgressStyleModel",
      "state": {
       "description_width": ""
      }
     },
     "793f79fff4044d34947ad9caf0e017e7": {
      "model_module": "@jupyter-widgets/controls",
      "model_module_version": "2.0.0",
      "model_name": "HTMLStyleModel",
      "state": {
       "description_width": "",
       "font_size": null,
       "text_color": null
      }
     },
     "7969102bc0a340389ca2c742d8edf054": {
      "model_module": "@jupyter-widgets/base",
      "model_module_version": "2.0.0",
      "model_name": "LayoutModel",
      "state": {
       "visibility": "hidden"
      }
     },
     "797fecca972941ef8ddfb030ff938cc4": {
      "model_module": "@jupyter-widgets/base",
      "model_module_version": "2.0.0",
      "model_name": "LayoutModel",
      "state": {
       "visibility": "hidden"
      }
     },
     "79d364b7de0c4cddb6b6ffd0e3a4855e": {
      "model_module": "@jupyter-widgets/base",
      "model_module_version": "2.0.0",
      "model_name": "LayoutModel",
      "state": {
       "visibility": "hidden"
      }
     },
     "79edfd6815fb46da87626424198e7a59": {
      "model_module": "@jupyter-widgets/base",
      "model_module_version": "2.0.0",
      "model_name": "LayoutModel",
      "state": {}
     },
     "79ee714698174749804b557ef3d5bf05": {
      "model_module": "@jupyter-widgets/base",
      "model_module_version": "2.0.0",
      "model_name": "LayoutModel",
      "state": {}
     },
     "79ffa35105044be8b0514a02e69bafef": {
      "model_module": "@jupyter-widgets/controls",
      "model_module_version": "2.0.0",
      "model_name": "FloatProgressModel",
      "state": {
       "layout": "IPY_MODEL_1f1aadf062724681800a9663e76ab1f4",
       "max": 14,
       "style": "IPY_MODEL_dc53f9d7675649f382baf08209f3f1ad",
       "value": 14
      }
     },
     "7a007e25c2bc41b9991cd4bd1dfc940f": {
      "model_module": "@jupyter-widgets/controls",
      "model_module_version": "2.0.0",
      "model_name": "HTMLModel",
      "state": {
       "layout": "IPY_MODEL_d15702a248624683bdea8c5a65b7f102",
       "style": "IPY_MODEL_1fb3b5e61b3a457d93120dcb460261f4",
       "value": "Epoch 20, Loss: 2.2172: 100%"
      }
     },
     "7a079ded63514d009be856616854455e": {
      "model_module": "@jupyter-widgets/base",
      "model_module_version": "2.0.0",
      "model_name": "LayoutModel",
      "state": {}
     },
     "7a10917ac706483d9c648b1838328673": {
      "model_module": "@jupyter-widgets/base",
      "model_module_version": "2.0.0",
      "model_name": "LayoutModel",
      "state": {}
     },
     "7a1829befd6540aa868b48eef0b37c71": {
      "model_module": "@jupyter-widgets/controls",
      "model_module_version": "2.0.0",
      "model_name": "FloatProgressModel",
      "state": {
       "layout": "IPY_MODEL_2f0dd6c260cc4e4885bbbe0f0a5428c8",
       "max": 32,
       "style": "IPY_MODEL_cfe0bad3eab94b04acead9096375fd37",
       "value": 32
      }
     },
     "7a2856a8526d4735aea933df13352fb1": {
      "model_module": "@jupyter-widgets/controls",
      "model_module_version": "2.0.0",
      "model_name": "HTMLStyleModel",
      "state": {
       "description_width": "",
       "font_size": null,
       "text_color": null
      }
     },
     "7a3ff1794f8f46939df45352c786d36b": {
      "model_module": "@jupyter-widgets/base",
      "model_module_version": "2.0.0",
      "model_name": "LayoutModel",
      "state": {
       "visibility": "hidden"
      }
     },
     "7a65b4cf64394021b2edc500419d34fa": {
      "model_module": "@jupyter-widgets/controls",
      "model_module_version": "2.0.0",
      "model_name": "HTMLModel",
      "state": {
       "layout": "IPY_MODEL_7dfeded42fdd479ba70ea7b509b934bb",
       "style": "IPY_MODEL_f830941338b1444781e9f11e40b419aa",
       "value": "Epoch 13, Loss: 2.2698: 100%"
      }
     },
     "7a7d47322eb648d18227483b6d5178b0": {
      "model_module": "@jupyter-widgets/base",
      "model_module_version": "2.0.0",
      "model_name": "LayoutModel",
      "state": {
       "visibility": "hidden"
      }
     },
     "7a881d94cf0d41b09f25188b6e677333": {
      "model_module": "@jupyter-widgets/controls",
      "model_module_version": "2.0.0",
      "model_name": "HTMLStyleModel",
      "state": {
       "description_width": "",
       "font_size": null,
       "text_color": null
      }
     },
     "7aa5144a65b14b75b9ff63d2ff54b4ed": {
      "model_module": "@jupyter-widgets/controls",
      "model_module_version": "2.0.0",
      "model_name": "HTMLStyleModel",
      "state": {
       "description_width": "",
       "font_size": null,
       "text_color": null
      }
     },
     "7aab08ba634048d9a031eb16f6b0c7a5": {
      "model_module": "@jupyter-widgets/controls",
      "model_module_version": "2.0.0",
      "model_name": "ProgressStyleModel",
      "state": {
       "description_width": ""
      }
     },
     "7ab37b370c7d4d01aebfbbfc540aed1d": {
      "model_module": "@jupyter-widgets/base",
      "model_module_version": "2.0.0",
      "model_name": "LayoutModel",
      "state": {}
     },
     "7aba4a80238846d09682056676df5e64": {
      "model_module": "@jupyter-widgets/base",
      "model_module_version": "2.0.0",
      "model_name": "LayoutModel",
      "state": {}
     },
     "7ada8744fcf942609436b13c526e0465": {
      "model_module": "@jupyter-widgets/controls",
      "model_module_version": "2.0.0",
      "model_name": "HTMLStyleModel",
      "state": {
       "description_width": "",
       "font_size": null,
       "text_color": null
      }
     },
     "7ae3445ff7fa484f88a03c51227f5c4b": {
      "model_module": "@jupyter-widgets/controls",
      "model_module_version": "2.0.0",
      "model_name": "FloatProgressModel",
      "state": {
       "layout": "IPY_MODEL_7c1e417e6fdb4e4a98e1eb7cdbeceee1",
       "max": 77,
       "style": "IPY_MODEL_e99b2d1c3c4f4914a0229a0e7894a111",
       "value": 77
      }
     },
     "7b24623f6c3747b09259c998be1d1ae5": {
      "model_module": "@jupyter-widgets/controls",
      "model_module_version": "2.0.0",
      "model_name": "ProgressStyleModel",
      "state": {
       "description_width": ""
      }
     },
     "7b31a398fbfa4da593e51bf6c410d42f": {
      "model_module": "@jupyter-widgets/base",
      "model_module_version": "2.0.0",
      "model_name": "LayoutModel",
      "state": {}
     },
     "7b4f17c9c05c4a9caf9072b783264d49": {
      "model_module": "@jupyter-widgets/base",
      "model_module_version": "2.0.0",
      "model_name": "LayoutModel",
      "state": {}
     },
     "7b57990da05942109567890aa824b6a7": {
      "model_module": "@jupyter-widgets/controls",
      "model_module_version": "2.0.0",
      "model_name": "HTMLModel",
      "state": {
       "layout": "IPY_MODEL_2fb82c5c20e6400aa6cca2f0e1775d19",
       "style": "IPY_MODEL_56383ec6f42c4910937728be10bd40ed",
       "value": " 63/63 [00:19&lt;00:00,  3.39it/s]"
      }
     },
     "7b612455470248e79f8a60a3aca83315": {
      "model_module": "@jupyter-widgets/base",
      "model_module_version": "2.0.0",
      "model_name": "LayoutModel",
      "state": {}
     },
     "7b62d266d7094aa1b5937d943fba4175": {
      "model_module": "@jupyter-widgets/controls",
      "model_module_version": "2.0.0",
      "model_name": "HTMLStyleModel",
      "state": {
       "description_width": "",
       "font_size": null,
       "text_color": null
      }
     },
     "7c0416f6b4f14757b4cab26c98407afe": {
      "model_module": "@jupyter-widgets/controls",
      "model_module_version": "2.0.0",
      "model_name": "ProgressStyleModel",
      "state": {
       "description_width": ""
      }
     },
     "7c0fb4ae3d3f4f25af3c71f9d3359088": {
      "model_module": "@jupyter-widgets/base",
      "model_module_version": "2.0.0",
      "model_name": "LayoutModel",
      "state": {}
     },
     "7c193d1a18644ab0a89b479ebacc45f9": {
      "model_module": "@jupyter-widgets/base",
      "model_module_version": "2.0.0",
      "model_name": "LayoutModel",
      "state": {}
     },
     "7c1e417e6fdb4e4a98e1eb7cdbeceee1": {
      "model_module": "@jupyter-widgets/base",
      "model_module_version": "2.0.0",
      "model_name": "LayoutModel",
      "state": {}
     },
     "7c28f46728b748df9f86b13e42d3abfd": {
      "model_module": "@jupyter-widgets/controls",
      "model_module_version": "2.0.0",
      "model_name": "HTMLStyleModel",
      "state": {
       "description_width": "",
       "font_size": null,
       "text_color": null
      }
     },
     "7c377209be7846679309827de0607e44": {
      "model_module": "@jupyter-widgets/controls",
      "model_module_version": "2.0.0",
      "model_name": "HTMLModel",
      "state": {
       "layout": "IPY_MODEL_50604cf271e4498abdacb1f2b37191b6",
       "style": "IPY_MODEL_5774ffc1fa114b33826ccded04821990",
       "value": "Epoch 3, Loss: 3.3419: 100%"
      }
     },
     "7c3cec2d42f54c408ced9bfa952c24cd": {
      "model_module": "@jupyter-widgets/base",
      "model_module_version": "2.0.0",
      "model_name": "LayoutModel",
      "state": {}
     },
     "7c42de8ea24a4cbd836d1e22a07e6672": {
      "model_module": "@jupyter-widgets/controls",
      "model_module_version": "2.0.0",
      "model_name": "HTMLModel",
      "state": {
       "layout": "IPY_MODEL_4a9f0406418240fcae9c51fac2b1a42e",
       "style": "IPY_MODEL_5cb6c6b250504d1e8713aca6198cd3ce",
       "value": " 27/27 [00:03&lt;00:00, 10.79it/s]"
      }
     },
     "7c4828406a42494c93f73d89de5fc7f8": {
      "model_module": "@jupyter-widgets/controls",
      "model_module_version": "2.0.0",
      "model_name": "HTMLModel",
      "state": {
       "layout": "IPY_MODEL_ca928cd01e094122bbafa8d82bc8b5b1",
       "style": "IPY_MODEL_a44c261417694153964be18f8666e248",
       "value": " 32/32 [00:09&lt;00:00,  3.44it/s]"
      }
     },
     "7cbf9fa9053f4dc685be44e71e1ca51f": {
      "model_module": "@jupyter-widgets/controls",
      "model_module_version": "2.0.0",
      "model_name": "ProgressStyleModel",
      "state": {
       "description_width": ""
      }
     },
     "7cd06b32cb0346e2898b6dcfe1f85c88": {
      "model_module": "@jupyter-widgets/base",
      "model_module_version": "2.0.0",
      "model_name": "LayoutModel",
      "state": {
       "visibility": "hidden"
      }
     },
     "7cdcecb5ed054648bdeba9b8869ed6e6": {
      "model_module": "@jupyter-widgets/controls",
      "model_module_version": "2.0.0",
      "model_name": "HTMLStyleModel",
      "state": {
       "description_width": "",
       "font_size": null,
       "text_color": null
      }
     },
     "7d23e41b9a154138807e2e3314c9ca4e": {
      "model_module": "@jupyter-widgets/controls",
      "model_module_version": "2.0.0",
      "model_name": "ProgressStyleModel",
      "state": {
       "description_width": ""
      }
     },
     "7d6e87b1deb44ab5b75f57e23e607fae": {
      "model_module": "@jupyter-widgets/base",
      "model_module_version": "2.0.0",
      "model_name": "LayoutModel",
      "state": {}
     },
     "7d920c17a4f24c2d9d68955198f3d81a": {
      "model_module": "@jupyter-widgets/controls",
      "model_module_version": "2.0.0",
      "model_name": "HTMLModel",
      "state": {
       "layout": "IPY_MODEL_f1509e8dd65a40598f0a90e9fc897b9b",
       "style": "IPY_MODEL_85940af51f284e509076c3646c8eb378",
       "value": "Epoch 16, Loss: 2.0861: 100%"
      }
     },
     "7daa57ce9d284301aeb3247436b3033c": {
      "model_module": "@jupyter-widgets/controls",
      "model_module_version": "2.0.0",
      "model_name": "ProgressStyleModel",
      "state": {
       "description_width": ""
      }
     },
     "7db90218e9764b3ab0d8e818b0676b42": {
      "model_module": "@jupyter-widgets/base",
      "model_module_version": "2.0.0",
      "model_name": "LayoutModel",
      "state": {}
     },
     "7dcb5ce2254f43429b78bb8a8775ea8f": {
      "model_module": "@jupyter-widgets/controls",
      "model_module_version": "2.0.0",
      "model_name": "HTMLModel",
      "state": {
       "layout": "IPY_MODEL_0b5d6b576b674ba3a253c14510181a17",
       "style": "IPY_MODEL_8a10a6b77aa4418b86c7c52200447137",
       "value": "Epoch 19, Loss: 2.1658: 100%"
      }
     },
     "7dd1d00dfc324e0db2ea757af62a4961": {
      "model_module": "@jupyter-widgets/base",
      "model_module_version": "2.0.0",
      "model_name": "LayoutModel",
      "state": {}
     },
     "7dd544d2a53c43a49bb800238c020471": {
      "model_module": "@jupyter-widgets/controls",
      "model_module_version": "2.0.0",
      "model_name": "HTMLModel",
      "state": {
       "layout": "IPY_MODEL_14a8f5c5f66847bb970c768030477974",
       "style": "IPY_MODEL_80a7a11cd0f741ac86758038022adcf7",
       "value": "Epoch 1999, Loss: -24.4200: 100%"
      }
     },
     "7dfeded42fdd479ba70ea7b509b934bb": {
      "model_module": "@jupyter-widgets/base",
      "model_module_version": "2.0.0",
      "model_name": "LayoutModel",
      "state": {}
     },
     "7e273b89a21542c5b8f233405680ddc5": {
      "model_module": "@jupyter-widgets/controls",
      "model_module_version": "2.0.0",
      "model_name": "FloatProgressModel",
      "state": {
       "layout": "IPY_MODEL_212adf53ca9e47449be9cb692442c0e2",
       "max": 23,
       "style": "IPY_MODEL_c172317c6ede4bd5adffdc62897e047d",
       "value": 23
      }
     },
     "7e3a09ea5acc41cc9baf0f0ecfb197e4": {
      "model_module": "@jupyter-widgets/base",
      "model_module_version": "2.0.0",
      "model_name": "LayoutModel",
      "state": {}
     },
     "7e3d35db976d4ce18c59a1fe0e618859": {
      "model_module": "@jupyter-widgets/controls",
      "model_module_version": "2.0.0",
      "model_name": "HTMLModel",
      "state": {
       "layout": "IPY_MODEL_f8c5b001bd144c9b89d65a30e283094d",
       "style": "IPY_MODEL_c4fc462b85f44cb4a338b36763a648e8",
       "value": "Epoch 1990, Loss: -24.4725: 100%"
      }
     },
     "7e428e7b3ab7487ab2f0e57ff7b8d1b5": {
      "model_module": "@jupyter-widgets/controls",
      "model_module_version": "2.0.0",
      "model_name": "FloatProgressModel",
      "state": {
       "layout": "IPY_MODEL_242b51cc75d14fc39ec0f1846cbe45ea",
       "max": 32,
       "style": "IPY_MODEL_acf745da79134c1cab830614105b0520",
       "value": 32
      }
     },
     "7e71dea8cc5b4376b52666d1c8a5bc13": {
      "model_module": "@jupyter-widgets/controls",
      "model_module_version": "2.0.0",
      "model_name": "HTMLStyleModel",
      "state": {
       "description_width": "",
       "font_size": null,
       "text_color": null
      }
     },
     "7e95b748263e482589f1529e1a36dcd4": {
      "model_module": "@jupyter-widgets/controls",
      "model_module_version": "2.0.0",
      "model_name": "HTMLModel",
      "state": {
       "layout": "IPY_MODEL_18ffeee91c8d4cceb4107d186edddf8d",
       "style": "IPY_MODEL_11b1c054ee074631b6cdfb5fac7d558e",
       "value": " 32/32 [00:10&lt;00:00,  3.37it/s]"
      }
     },
     "7ea0cfa76ec64baebbb0b4e5161affc8": {
      "model_module": "@jupyter-widgets/controls",
      "model_module_version": "2.0.0",
      "model_name": "HTMLStyleModel",
      "state": {
       "description_width": "",
       "font_size": null,
       "text_color": null
      }
     },
     "7ea22b630f2f4371842120e326494e62": {
      "model_module": "@jupyter-widgets/base",
      "model_module_version": "2.0.0",
      "model_name": "LayoutModel",
      "state": {
       "visibility": "hidden"
      }
     },
     "7ea77b8a597f4cb68e1e3b2150178fc2": {
      "model_module": "@jupyter-widgets/controls",
      "model_module_version": "2.0.0",
      "model_name": "HTMLModel",
      "state": {
       "layout": "IPY_MODEL_230c6128f70f4311b9d864b1629c550f",
       "style": "IPY_MODEL_8914270e7dda4f27a98c764f1723003c",
       "value": "Epoch 5, Loss: 2.7893: 100%"
      }
     },
     "7eb66c7962b84898ad10ea6d02876dc5": {
      "model_module": "@jupyter-widgets/controls",
      "model_module_version": "2.0.0",
      "model_name": "HTMLStyleModel",
      "state": {
       "description_width": "",
       "font_size": null,
       "text_color": null
      }
     },
     "7ecdb02218d9424185e990cd21b69752": {
      "model_module": "@jupyter-widgets/controls",
      "model_module_version": "2.0.0",
      "model_name": "ProgressStyleModel",
      "state": {
       "description_width": ""
      }
     },
     "7ece5ac8b83e4a408cbdaf82c81660ca": {
      "model_module": "@jupyter-widgets/base",
      "model_module_version": "2.0.0",
      "model_name": "LayoutModel",
      "state": {}
     },
     "7ee96d1eabd14d9db44072117b887500": {
      "model_module": "@jupyter-widgets/controls",
      "model_module_version": "2.0.0",
      "model_name": "HTMLModel",
      "state": {
       "layout": "IPY_MODEL_da70cf25d1f34ac096351a470801c8cd",
       "style": "IPY_MODEL_0fd28c9e46634435b3b4523be3906019",
       "value": "Epoch 1988, Loss: -24.4325: 100%"
      }
     },
     "7eea0183fae042eab9c3c2202649d6ff": {
      "model_module": "@jupyter-widgets/base",
      "model_module_version": "2.0.0",
      "model_name": "LayoutModel",
      "state": {
       "visibility": "hidden"
      }
     },
     "7ef43a6011e4422a8a277a3600bfe3e0": {
      "model_module": "@jupyter-widgets/base",
      "model_module_version": "2.0.0",
      "model_name": "LayoutModel",
      "state": {}
     },
     "7f05025fab794116a695c0c4a5d737a4": {
      "model_module": "@jupyter-widgets/controls",
      "model_module_version": "2.0.0",
      "model_name": "HTMLModel",
      "state": {
       "layout": "IPY_MODEL_e7f778cf8bb244babf0f8152e5ab02bd",
       "style": "IPY_MODEL_513602dca64940c3b1c3c70632e8644b",
       "value": "Epoch 12, Loss: 4.1415: 100%"
      }
     },
     "7f16c7b1d4224a328720d086bc3048e1": {
      "model_module": "@jupyter-widgets/controls",
      "model_module_version": "2.0.0",
      "model_name": "HTMLStyleModel",
      "state": {
       "description_width": "",
       "font_size": null,
       "text_color": null
      }
     },
     "7f2f5e3607cb4c539d686ad6244c3975": {
      "model_module": "@jupyter-widgets/controls",
      "model_module_version": "2.0.0",
      "model_name": "HTMLStyleModel",
      "state": {
       "description_width": "",
       "font_size": null,
       "text_color": null
      }
     },
     "7f3cefb98db84734abb3497fb8a7c8f2": {
      "model_module": "@jupyter-widgets/controls",
      "model_module_version": "2.0.0",
      "model_name": "HTMLStyleModel",
      "state": {
       "description_width": "",
       "font_size": null,
       "text_color": null
      }
     },
     "7f624d67e1024aec98a04ba41a214bf0": {
      "model_module": "@jupyter-widgets/controls",
      "model_module_version": "2.0.0",
      "model_name": "HTMLModel",
      "state": {
       "layout": "IPY_MODEL_cef0587d1980452aa21b0bde0293ec10",
       "style": "IPY_MODEL_c862ab0c1e474bcbbb0293e832480170",
       "value": "Epoch 20,Train Loss: 2.5209,Eval Accuracy: 0.5266,Eval Loss: 4.8206: 100%"
      }
     },
     "7f829d5f742d40d09f5106cde6748209": {
      "model_module": "@jupyter-widgets/base",
      "model_module_version": "2.0.0",
      "model_name": "LayoutModel",
      "state": {}
     },
     "7f9486b3e66c414bb706c05234268266": {
      "model_module": "@jupyter-widgets/controls",
      "model_module_version": "2.0.0",
      "model_name": "HTMLStyleModel",
      "state": {
       "description_width": "",
       "font_size": null,
       "text_color": null
      }
     },
     "7fb366c9933d495282e12e93c93c3455": {
      "model_module": "@jupyter-widgets/base",
      "model_module_version": "2.0.0",
      "model_name": "LayoutModel",
      "state": {}
     },
     "7fba8d85caa9478687d1c79d2d740db7": {
      "model_module": "@jupyter-widgets/controls",
      "model_module_version": "2.0.0",
      "model_name": "ProgressStyleModel",
      "state": {
       "description_width": ""
      }
     },
     "7fdf537f70ae4455bb0eaff4a7702e42": {
      "model_module": "@jupyter-widgets/controls",
      "model_module_version": "2.0.0",
      "model_name": "ProgressStyleModel",
      "state": {
       "description_width": ""
      }
     },
     "7fea5331ff864c9e8dcc514a38c9b3f7": {
      "model_module": "@jupyter-widgets/base",
      "model_module_version": "2.0.0",
      "model_name": "LayoutModel",
      "state": {}
     },
     "7fea8a46f57e4c65b4b91fca367950ba": {
      "model_module": "@jupyter-widgets/controls",
      "model_module_version": "2.0.0",
      "model_name": "ProgressStyleModel",
      "state": {
       "description_width": ""
      }
     },
     "8045b8e4877b40f3bac5cc507a37eecd": {
      "model_module": "@jupyter-widgets/base",
      "model_module_version": "2.0.0",
      "model_name": "LayoutModel",
      "state": {}
     },
     "80a0b8100ced4628b8c265ec8223aca4": {
      "model_module": "@jupyter-widgets/controls",
      "model_module_version": "2.0.0",
      "model_name": "HTMLModel",
      "state": {
       "layout": "IPY_MODEL_d4044b1d3ab240f28394c84076d81c0c",
       "style": "IPY_MODEL_484925e233bd4c5bbf2028b4bbb9c3a9",
       "value": "Epoch 2, Loss: 2.9958: 100%"
      }
     },
     "80a7a11cd0f741ac86758038022adcf7": {
      "model_module": "@jupyter-widgets/controls",
      "model_module_version": "2.0.0",
      "model_name": "HTMLStyleModel",
      "state": {
       "description_width": "",
       "font_size": null,
       "text_color": null
      }
     },
     "80adfb8619544ebab139f2a4953da17d": {
      "model_module": "@jupyter-widgets/controls",
      "model_module_version": "2.0.0",
      "model_name": "FloatProgressModel",
      "state": {
       "layout": "IPY_MODEL_d93aa314688444629d1ed071f06d2dc7",
       "max": 27,
       "style": "IPY_MODEL_e8cfca260a074494989abce4113f4c80",
       "value": 27
      }
     },
     "80b791ea030f40f1b7e53fcf6a19cc5f": {
      "model_module": "@jupyter-widgets/base",
      "model_module_version": "2.0.0",
      "model_name": "LayoutModel",
      "state": {}
     },
     "80ce1a6a5e784eeba7736c11d29a631f": {
      "model_module": "@jupyter-widgets/base",
      "model_module_version": "2.0.0",
      "model_name": "LayoutModel",
      "state": {}
     },
     "80d3d7bb86114a398ccf8490c324dc3b": {
      "model_module": "@jupyter-widgets/controls",
      "model_module_version": "2.0.0",
      "model_name": "HTMLModel",
      "state": {
       "layout": "IPY_MODEL_4890d702604b409ca6e967d76ca47f6a",
       "style": "IPY_MODEL_bc839efa276c4fbe950f9d6b1097127d",
       "value": "Epoch 17, Loss: 3.6669:  93%"
      }
     },
     "80e8b79f518b4096a51d123fb202b273": {
      "model_module": "@jupyter-widgets/controls",
      "model_module_version": "2.0.0",
      "model_name": "ProgressStyleModel",
      "state": {
       "description_width": ""
      }
     },
     "81112df3fc7c473d86b3a0714d1132e3": {
      "model_module": "@jupyter-widgets/controls",
      "model_module_version": "2.0.0",
      "model_name": "HTMLStyleModel",
      "state": {
       "description_width": "",
       "font_size": null,
       "text_color": null
      }
     },
     "811f286711604ab587c84803fc3a9732": {
      "model_module": "@jupyter-widgets/base",
      "model_module_version": "2.0.0",
      "model_name": "LayoutModel",
      "state": {}
     },
     "81407df10ac54219a92c6ae66a57d0e0": {
      "model_module": "@jupyter-widgets/controls",
      "model_module_version": "2.0.0",
      "model_name": "HTMLModel",
      "state": {
       "layout": "IPY_MODEL_4111c49997ce43a487975bc78cbdbc3a",
       "style": "IPY_MODEL_7a881d94cf0d41b09f25188b6e677333",
       "value": " 13/14 [00:01&lt;00:00, 10.14it/s]"
      }
     },
     "816d1de8724a41a0934a460c63055bae": {
      "model_module": "@jupyter-widgets/controls",
      "model_module_version": "2.0.0",
      "model_name": "FloatProgressModel",
      "state": {
       "layout": "IPY_MODEL_d7cb69df8cc0499bb1becb76b09bc21d",
       "max": 14,
       "style": "IPY_MODEL_ef9cf220c6db4f1fbf04814e2fc56949",
       "value": 14
      }
     },
     "81c03c2255ed4f3ca7a421243865e7f3": {
      "model_module": "@jupyter-widgets/base",
      "model_module_version": "2.0.0",
      "model_name": "LayoutModel",
      "state": {}
     },
     "81cacb70a70e4766af0a9bc317c40b28": {
      "model_module": "@jupyter-widgets/controls",
      "model_module_version": "2.0.0",
      "model_name": "FloatProgressModel",
      "state": {
       "layout": "IPY_MODEL_4b0e0ca4947d4111bf0b6377d52031e6",
       "max": 27,
       "style": "IPY_MODEL_351f7ebb71c54841848ab121397c08de",
       "value": 27
      }
     },
     "81d36cfd2991417d95bc68c60cd15670": {
      "model_module": "@jupyter-widgets/controls",
      "model_module_version": "2.0.0",
      "model_name": "ProgressStyleModel",
      "state": {
       "description_width": ""
      }
     },
     "820987ee0c914a939f33badd319aceb4": {
      "model_module": "@jupyter-widgets/controls",
      "model_module_version": "2.0.0",
      "model_name": "HTMLStyleModel",
      "state": {
       "description_width": "",
       "font_size": null,
       "text_color": null
      }
     },
     "823702485557464a9463621650aed02e": {
      "model_module": "@jupyter-widgets/base",
      "model_module_version": "2.0.0",
      "model_name": "LayoutModel",
      "state": {
       "visibility": "hidden"
      }
     },
     "82569e44db76442a8b0162220b8e155c": {
      "model_module": "@jupyter-widgets/controls",
      "model_module_version": "2.0.0",
      "model_name": "FloatProgressModel",
      "state": {
       "layout": "IPY_MODEL_d98ae21213164196be6d7794d3f66d3b",
       "max": 14,
       "style": "IPY_MODEL_c03a515a2e55420fa3a54ae1463a78c2",
       "value": 14
      }
     },
     "826f593e1f0041b3931620a4ee0dadc3": {
      "model_module": "@jupyter-widgets/controls",
      "model_module_version": "2.0.0",
      "model_name": "HTMLStyleModel",
      "state": {
       "description_width": "",
       "font_size": null,
       "text_color": null
      }
     },
     "82959165326f4b82bd9d7d9c1642078b": {
      "model_module": "@jupyter-widgets/controls",
      "model_module_version": "2.0.0",
      "model_name": "HTMLModel",
      "state": {
       "layout": "IPY_MODEL_95f717326ec645dea6a6aa10a9b5451f",
       "style": "IPY_MODEL_e26bf710f5934264a526d64fc915df10",
       "value": "Epoch 1992, Loss: -24.4872: 100%"
      }
     },
     "82b45a5f2c0b40e58107b98e479c4f91": {
      "model_module": "@jupyter-widgets/controls",
      "model_module_version": "2.0.0",
      "model_name": "HTMLStyleModel",
      "state": {
       "description_width": "",
       "font_size": null,
       "text_color": null
      }
     },
     "82ca00724d8f4525831ab1efbc7a3218": {
      "model_module": "@jupyter-widgets/base",
      "model_module_version": "2.0.0",
      "model_name": "LayoutModel",
      "state": {
       "visibility": "hidden"
      }
     },
     "82d2f98c99f24410ab875fe267c6cd83": {
      "model_module": "@jupyter-widgets/controls",
      "model_module_version": "2.0.0",
      "model_name": "ProgressStyleModel",
      "state": {
       "description_width": ""
      }
     },
     "82e5211d50384e348e05e056c996ec27": {
      "model_module": "@jupyter-widgets/controls",
      "model_module_version": "2.0.0",
      "model_name": "HTMLStyleModel",
      "state": {
       "description_width": "",
       "font_size": null,
       "text_color": null
      }
     },
     "82eb4914191941d0a28ce4e2e5982808": {
      "model_module": "@jupyter-widgets/controls",
      "model_module_version": "2.0.0",
      "model_name": "HTMLModel",
      "state": {
       "layout": "IPY_MODEL_c44d25bece41425f878850ee6787d5a0",
       "style": "IPY_MODEL_1c71a4acefc3403c9261896c75997ccf",
       "value": "Epoch 5, Loss: 3.0147: 100%"
      }
     },
     "82f9961cc6c24b71bdfae37beb362d74": {
      "model_module": "@jupyter-widgets/base",
      "model_module_version": "2.0.0",
      "model_name": "LayoutModel",
      "state": {
       "visibility": "hidden"
      }
     },
     "8327cdae9f054eba9ad8469287e55314": {
      "model_module": "@jupyter-widgets/base",
      "model_module_version": "2.0.0",
      "model_name": "LayoutModel",
      "state": {}
     },
     "8331090b192b4d17a397fb47f646145d": {
      "model_module": "@jupyter-widgets/base",
      "model_module_version": "2.0.0",
      "model_name": "LayoutModel",
      "state": {}
     },
     "83646cd4220c414b83846d498d39d6ae": {
      "model_module": "@jupyter-widgets/controls",
      "model_module_version": "2.0.0",
      "model_name": "FloatProgressModel",
      "state": {
       "layout": "IPY_MODEL_460e5c9753474a15bbbbf9cd2e0270d0",
       "max": 14,
       "style": "IPY_MODEL_74ba9e1b845c45929d61b4932e7e6a6f",
       "value": 14
      }
     },
     "8374ac01d0084a9f9b8e0ff13a4c8af9": {
      "model_module": "@jupyter-widgets/controls",
      "model_module_version": "2.0.0",
      "model_name": "HTMLModel",
      "state": {
       "layout": "IPY_MODEL_a367c824f4a84122b934660426c13a8f",
       "style": "IPY_MODEL_9e4b7f41cc8a4545b38ab6ba43a8cf8a",
       "value": "Epoch 8, Loss: 3.2175: 100%"
      }
     },
     "838cc69a93da4354bd154833f3a4362f": {
      "model_module": "@jupyter-widgets/controls",
      "model_module_version": "2.0.0",
      "model_name": "FloatProgressModel",
      "state": {
       "layout": "IPY_MODEL_0a8c0be766284aee82994a68893b909d",
       "max": 14,
       "style": "IPY_MODEL_b2c5c26748534631a4c8b8ae6e3a3a51",
       "value": 14
      }
     },
     "83a9aaeb7ccb4d43aedd14e13b1b8f89": {
      "model_module": "@jupyter-widgets/controls",
      "model_module_version": "2.0.0",
      "model_name": "FloatProgressModel",
      "state": {
       "layout": "IPY_MODEL_dc36dd3ad7084146b7270410358a8d2e",
       "max": 32,
       "style": "IPY_MODEL_e03a2304903e499d84423626dd112c0c",
       "value": 32
      }
     },
     "83b546d670ff4275bdf100ba3b46a6cd": {
      "model_module": "@jupyter-widgets/base",
      "model_module_version": "2.0.0",
      "model_name": "LayoutModel",
      "state": {
       "visibility": "hidden"
      }
     },
     "83b79efcd4794d7b8b6c1b3149b09211": {
      "model_module": "@jupyter-widgets/base",
      "model_module_version": "2.0.0",
      "model_name": "LayoutModel",
      "state": {}
     },
     "83f187245c7140d6bf9fb2b9351e5c9a": {
      "model_module": "@jupyter-widgets/controls",
      "model_module_version": "2.0.0",
      "model_name": "ProgressStyleModel",
      "state": {
       "description_width": ""
      }
     },
     "8412308e56b7482ca036907b01fbda28": {
      "model_module": "@jupyter-widgets/controls",
      "model_module_version": "2.0.0",
      "model_name": "HTMLModel",
      "state": {
       "layout": "IPY_MODEL_457682a779304ba78536f5ab9de572d6",
       "style": "IPY_MODEL_f2eb99391e8e48bb8d3f2fa8fcc232d0",
       "value": "Epoch 20,Train Loss: 2.6333,Eval Accuracy: 0.5870,Eval Loss: 4.0353: 100%"
      }
     },
     "843520bec3784fd2886b47d55c3c4866": {
      "model_module": "@jupyter-widgets/controls",
      "model_module_version": "2.0.0",
      "model_name": "HTMLModel",
      "state": {
       "layout": "IPY_MODEL_2a8409b6745945fb9369911ef87ebfc4",
       "style": "IPY_MODEL_3a4217d4456c4ed791fa3ff2c250c814",
       "value": " 13/14 [00:01&lt;00:00, 10.34it/s]"
      }
     },
     "84396c38dbcf4fb3af1877349c869bb1": {
      "model_module": "@jupyter-widgets/base",
      "model_module_version": "2.0.0",
      "model_name": "LayoutModel",
      "state": {
       "visibility": "hidden"
      }
     },
     "84437b30c3744b7c8f5485201fb036fb": {
      "model_module": "@jupyter-widgets/controls",
      "model_module_version": "2.0.0",
      "model_name": "HTMLModel",
      "state": {
       "layout": "IPY_MODEL_d43c19f7f08741c8ae0e99f0c43530f6",
       "style": "IPY_MODEL_35e1804def974fd09868f10461a7e6a0",
       "value": " 32/32 [00:10&lt;00:00,  2.93it/s]"
      }
     },
     "84446630bcca4374b98e724cd72e4b22": {
      "model_module": "@jupyter-widgets/controls",
      "model_module_version": "2.0.0",
      "model_name": "ProgressStyleModel",
      "state": {
       "description_width": ""
      }
     },
     "845d0d0366ef48ab84d529622d1fc5bf": {
      "model_module": "@jupyter-widgets/controls",
      "model_module_version": "2.0.0",
      "model_name": "HTMLModel",
      "state": {
       "layout": "IPY_MODEL_441d3fdab2774de3bee45122e655cf45",
       "style": "IPY_MODEL_e8524e8142084c3093ea3fb4ef3ba5e1",
       "value": "Epoch 20, Loss: 2.1052: 100%"
      }
     },
     "846043ba7cf34172909fd83be36d87aa": {
      "model_module": "@jupyter-widgets/controls",
      "model_module_version": "2.0.0",
      "model_name": "HTMLStyleModel",
      "state": {
       "description_width": "",
       "font_size": null,
       "text_color": null
      }
     },
     "847eb81f56474665b745071173475b9b": {
      "model_module": "@jupyter-widgets/controls",
      "model_module_version": "2.0.0",
      "model_name": "HTMLStyleModel",
      "state": {
       "description_width": "",
       "font_size": null,
       "text_color": null
      }
     },
     "84c7f075e2574dc7bb1d9c2d5e8ad60e": {
      "model_module": "@jupyter-widgets/base",
      "model_module_version": "2.0.0",
      "model_name": "LayoutModel",
      "state": {
       "visibility": "hidden"
      }
     },
     "84e9d63c834d48e0a3bc46186f5eaf85": {
      "model_module": "@jupyter-widgets/controls",
      "model_module_version": "2.0.0",
      "model_name": "HTMLModel",
      "state": {
       "layout": "IPY_MODEL_71995bfad05744969cbcf2d91a0b05d4",
       "style": "IPY_MODEL_c165c7e7d1db4a3288e81006d79158b1",
       "value": "Epoch 10, Loss: 3.1454: 100%"
      }
     },
     "84f26393370d4101852e6624c8a98b6d": {
      "model_module": "@jupyter-widgets/controls",
      "model_module_version": "2.0.0",
      "model_name": "HTMLModel",
      "state": {
       "layout": "IPY_MODEL_7638a73b288f403d81d0dcf4989ebbae",
       "style": "IPY_MODEL_1242524b1de645aaaf4837e55e368e05",
       "value": "Epoch 1993, Loss: -24.4639: 100%"
      }
     },
     "8502cb25f1484fceb16b4ab7d854241c": {
      "model_module": "@jupyter-widgets/controls",
      "model_module_version": "2.0.0",
      "model_name": "HTMLModel",
      "state": {
       "layout": "IPY_MODEL_3ff733868f5f43168fbfeba503e7666b",
       "style": "IPY_MODEL_9aebbd313d2e434b9a370f8a8f53aca0",
       "value": "Epoch 14, Loss: 3.0405: 100%"
      }
     },
     "850e16aba6524df999f2a064fb70d94a": {
      "model_module": "@jupyter-widgets/controls",
      "model_module_version": "2.0.0",
      "model_name": "HTMLStyleModel",
      "state": {
       "description_width": "",
       "font_size": null,
       "text_color": null
      }
     },
     "8515f399a9804a0c96351ad5baff4d63": {
      "model_module": "@jupyter-widgets/controls",
      "model_module_version": "2.0.0",
      "model_name": "HTMLStyleModel",
      "state": {
       "description_width": "",
       "font_size": null,
       "text_color": null
      }
     },
     "85171b2d1d85451bbe21e064d29a320d": {
      "model_module": "@jupyter-widgets/controls",
      "model_module_version": "2.0.0",
      "model_name": "HTMLStyleModel",
      "state": {
       "description_width": "",
       "font_size": null,
       "text_color": null
      }
     },
     "851c5d69462846fba0adc1757c32ff79": {
      "model_module": "@jupyter-widgets/base",
      "model_module_version": "2.0.0",
      "model_name": "LayoutModel",
      "state": {
       "visibility": "hidden"
      }
     },
     "8521851857d04b38b14cfebd6eac6e50": {
      "model_module": "@jupyter-widgets/base",
      "model_module_version": "2.0.0",
      "model_name": "LayoutModel",
      "state": {}
     },
     "8529813f48ab4b9a9e1a64426660a4ab": {
      "model_module": "@jupyter-widgets/controls",
      "model_module_version": "2.0.0",
      "model_name": "ProgressStyleModel",
      "state": {
       "description_width": ""
      }
     },
     "85626e2760ac4f10aaf0e5a0abbc0554": {
      "model_module": "@jupyter-widgets/base",
      "model_module_version": "2.0.0",
      "model_name": "LayoutModel",
      "state": {}
     },
     "856926b4cb9c4b54920ecee8345255d2": {
      "model_module": "@jupyter-widgets/controls",
      "model_module_version": "2.0.0",
      "model_name": "HTMLModel",
      "state": {
       "layout": "IPY_MODEL_9294cd46a4c34e129d84ad7223ad4d55",
       "style": "IPY_MODEL_c95c80835a29410e8117906c51d56fb3",
       "value": " 77/77 [00:53&lt;00:00,  2.76it/s]"
      }
     },
     "856d03fba0864e9caa52558a4dd3a687": {
      "model_module": "@jupyter-widgets/controls",
      "model_module_version": "2.0.0",
      "model_name": "HTMLStyleModel",
      "state": {
       "description_width": "",
       "font_size": null,
       "text_color": null
      }
     },
     "858c6f9d70584e90be2f97ad7ae7ab69": {
      "model_module": "@jupyter-widgets/controls",
      "model_module_version": "2.0.0",
      "model_name": "HTMLModel",
      "state": {
       "layout": "IPY_MODEL_9a6e15d110324798b246d146ec497284",
       "style": "IPY_MODEL_d74df44f30754ba3ab2379a4c75eb2d2",
       "value": " 14/14 [00:01&lt;00:00, 10.48it/s]"
      }
     },
     "85940af51f284e509076c3646c8eb378": {
      "model_module": "@jupyter-widgets/controls",
      "model_module_version": "2.0.0",
      "model_name": "HTMLStyleModel",
      "state": {
       "description_width": "",
       "font_size": null,
       "text_color": null
      }
     },
     "85986b1e8ee4416e8ebbb734517b2f9f": {
      "model_module": "@jupyter-widgets/controls",
      "model_module_version": "2.0.0",
      "model_name": "FloatProgressModel",
      "state": {
       "layout": "IPY_MODEL_2d8e5daa5bf041568677c3f4558e3a3c",
       "max": 32,
       "style": "IPY_MODEL_a9a3aa196f414b69adb778a28a07e8e4",
       "value": 32
      }
     },
     "85b082941bc542b7a8d063188cdaeb76": {
      "model_module": "@jupyter-widgets/controls",
      "model_module_version": "2.0.0",
      "model_name": "ProgressStyleModel",
      "state": {
       "description_width": ""
      }
     },
     "85bdad2085f64f7e8e41ffb59c2429be": {
      "model_module": "@jupyter-widgets/controls",
      "model_module_version": "2.0.0",
      "model_name": "FloatProgressModel",
      "state": {
       "layout": "IPY_MODEL_fd825b5b38274369862fb7f75f40669c",
       "max": 27,
       "style": "IPY_MODEL_1e148ca9772d445183604ffe3f9bb54d",
       "value": 27
      }
     },
     "85c507c45ec2417f99fdce14824b0547": {
      "model_module": "@jupyter-widgets/controls",
      "model_module_version": "2.0.0",
      "model_name": "FloatProgressModel",
      "state": {
       "layout": "IPY_MODEL_df0720b6cae94c3a8a123f95221622c0",
       "max": 77,
       "style": "IPY_MODEL_b7c72ba6321a4ecdbcdf3dd792e462d6",
       "value": 77
      }
     },
     "85e9adb71a1e4eba88b338ab4561fadd": {
      "model_module": "@jupyter-widgets/controls",
      "model_module_version": "2.0.0",
      "model_name": "FloatProgressModel",
      "state": {
       "layout": "IPY_MODEL_bbf45dfe6c454d5b99048827433c8581",
       "max": 14,
       "style": "IPY_MODEL_6c8769e34c594b6599d29f611350ab63",
       "value": 14
      }
     },
     "86043d80288248c98c658a4bdb42ad1e": {
      "model_module": "@jupyter-widgets/controls",
      "model_module_version": "2.0.0",
      "model_name": "HTMLStyleModel",
      "state": {
       "description_width": "",
       "font_size": null,
       "text_color": null
      }
     },
     "861b6d04ec304dc9b93b6b44a505d8cf": {
      "model_module": "@jupyter-widgets/controls",
      "model_module_version": "2.0.0",
      "model_name": "ProgressStyleModel",
      "state": {
       "description_width": ""
      }
     },
     "8629e0b2859a45319765bd1608ba5ec2": {
      "model_module": "@jupyter-widgets/controls",
      "model_module_version": "2.0.0",
      "model_name": "HTMLModel",
      "state": {
       "layout": "IPY_MODEL_f3c80886644a4e33b20cbe9927b543ec",
       "style": "IPY_MODEL_8e887c763604465b98b442e8d14f666c",
       "value": " 32/32 [00:10&lt;00:00,  3.44it/s]"
      }
     },
     "86511479a0d0476a84f1063ef2d4d5a0": {
      "model_module": "@jupyter-widgets/controls",
      "model_module_version": "2.0.0",
      "model_name": "ProgressStyleModel",
      "state": {
       "description_width": ""
      }
     },
     "865c7f88ecf440d79161d4cbd5d252c2": {
      "model_module": "@jupyter-widgets/controls",
      "model_module_version": "2.0.0",
      "model_name": "HTMLModel",
      "state": {
       "layout": "IPY_MODEL_3a912a00bb09418d8dbaa66dd27b4559",
       "style": "IPY_MODEL_86b375599ae5412a8c71e753c86bbad7",
       "value": "Epoch 16, Loss: 4.3908: 100%"
      }
     },
     "86844033dc3643b0a2cb9c2e19d41307": {
      "model_module": "@jupyter-widgets/controls",
      "model_module_version": "2.0.0",
      "model_name": "HTMLModel",
      "state": {
       "layout": "IPY_MODEL_3807851fd8f74b28840ae4d324e664b7",
       "style": "IPY_MODEL_3ee85c691a8d4bdbb802165bf4f74f36",
       "value": " 23/23 [00:01&lt;00:00, 18.18it/s]"
      }
     },
     "86aa993d008e458dbb532c6cb1fc619c": {
      "model_module": "@jupyter-widgets/base",
      "model_module_version": "2.0.0",
      "model_name": "LayoutModel",
      "state": {}
     },
     "86b375599ae5412a8c71e753c86bbad7": {
      "model_module": "@jupyter-widgets/controls",
      "model_module_version": "2.0.0",
      "model_name": "HTMLStyleModel",
      "state": {
       "description_width": "",
       "font_size": null,
       "text_color": null
      }
     },
     "86b6152e281945a69e00f458211d36e0": {
      "model_module": "@jupyter-widgets/base",
      "model_module_version": "2.0.0",
      "model_name": "LayoutModel",
      "state": {}
     },
     "86bc243dfd63488c88bf23ea17efd6fb": {
      "model_module": "@jupyter-widgets/controls",
      "model_module_version": "2.0.0",
      "model_name": "HTMLStyleModel",
      "state": {
       "description_width": "",
       "font_size": null,
       "text_color": null
      }
     },
     "86d3102b97aa4d12ba180d15111caca1": {
      "model_module": "@jupyter-widgets/controls",
      "model_module_version": "2.0.0",
      "model_name": "HTMLModel",
      "state": {
       "layout": "IPY_MODEL_c8336be7eea84712acf9bbdca5e1f0e3",
       "style": "IPY_MODEL_9715a7c35e7640a6ac64b36437bd6b47",
       "value": " 13/14 [00:01&lt;00:00, 10.03it/s]"
      }
     },
     "86e09eae1a7b45deac2400085817b486": {
      "model_module": "@jupyter-widgets/controls",
      "model_module_version": "2.0.0",
      "model_name": "HTMLModel",
      "state": {
       "layout": "IPY_MODEL_dd7536f1ffe6492fba86a5484177cf77",
       "style": "IPY_MODEL_c7dd6948e19a4198a059ada22e2e5ff9",
       "value": "Epoch 3, Loss: 2.9394: 100%"
      }
     },
     "86e1520e32914969ac65a6f1309f669c": {
      "model_module": "@jupyter-widgets/controls",
      "model_module_version": "2.0.0",
      "model_name": "FloatProgressModel",
      "state": {
       "layout": "IPY_MODEL_cde7931ae4304273aebfbaf77d8b3134",
       "max": 32,
       "style": "IPY_MODEL_a4f6f8c9d0de4301bb3ccf6db28dc6d4",
       "value": 32
      }
     },
     "86f8c72ca2e14aed9302de8c8aa36920": {
      "model_module": "@jupyter-widgets/base",
      "model_module_version": "2.0.0",
      "model_name": "LayoutModel",
      "state": {}
     },
     "87143dfb6bdf4abca8e984797d385e73": {
      "model_module": "@jupyter-widgets/base",
      "model_module_version": "2.0.0",
      "model_name": "LayoutModel",
      "state": {}
     },
     "8716e1d3b8bb44cf86538416068b4dd5": {
      "model_module": "@jupyter-widgets/base",
      "model_module_version": "2.0.0",
      "model_name": "LayoutModel",
      "state": {}
     },
     "87171788e360438bb9b86b5df1e34fcc": {
      "model_module": "@jupyter-widgets/base",
      "model_module_version": "2.0.0",
      "model_name": "LayoutModel",
      "state": {
       "visibility": "hidden"
      }
     },
     "875cc5d65d69415684d25d776037b10b": {
      "model_module": "@jupyter-widgets/controls",
      "model_module_version": "2.0.0",
      "model_name": "HTMLModel",
      "state": {
       "layout": "IPY_MODEL_098081ceb4e14549b386f76a1edea040",
       "style": "IPY_MODEL_9bbdd9b985d0476fb15a7f8874239a8d",
       "value": "Epoch 11, Loss: 3.1626:  93%"
      }
     },
     "8770fd50ca8648f09a1874e4cb1b0bdf": {
      "model_module": "@jupyter-widgets/base",
      "model_module_version": "2.0.0",
      "model_name": "LayoutModel",
      "state": {}
     },
     "877aa63fc47b4c6192f8390daa603111": {
      "model_module": "@jupyter-widgets/base",
      "model_module_version": "2.0.0",
      "model_name": "LayoutModel",
      "state": {}
     },
     "877c2bce046b49cd86a14eff16ace6cf": {
      "model_module": "@jupyter-widgets/controls",
      "model_module_version": "2.0.0",
      "model_name": "FloatProgressModel",
      "state": {
       "layout": "IPY_MODEL_e5aa9cf895424d9b8806c76969d93cc2",
       "max": 14,
       "style": "IPY_MODEL_d4ae119395b74d7b9da267bab9aed572",
       "value": 14
      }
     },
     "877f608e24a94d9880244083fff0d9db": {
      "model_module": "@jupyter-widgets/base",
      "model_module_version": "2.0.0",
      "model_name": "LayoutModel",
      "state": {}
     },
     "8781d57769ea4850ae344ca167643f1d": {
      "model_module": "@jupyter-widgets/base",
      "model_module_version": "2.0.0",
      "model_name": "LayoutModel",
      "state": {}
     },
     "8798b4ca8cc640b79db9a12af8b5faa5": {
      "model_module": "@jupyter-widgets/controls",
      "model_module_version": "2.0.0",
      "model_name": "ProgressStyleModel",
      "state": {
       "description_width": ""
      }
     },
     "87dad7a1bb6f4bfcb3c4d057402cb133": {
      "model_module": "@jupyter-widgets/controls",
      "model_module_version": "2.0.0",
      "model_name": "ProgressStyleModel",
      "state": {
       "description_width": ""
      }
     },
     "87dc3c337eec4ec9ad842d78d56b98bb": {
      "model_module": "@jupyter-widgets/controls",
      "model_module_version": "2.0.0",
      "model_name": "HTMLStyleModel",
      "state": {
       "description_width": "",
       "font_size": null,
       "text_color": null
      }
     },
     "87e5f3c3b882409d99c521818d31f910": {
      "model_module": "@jupyter-widgets/controls",
      "model_module_version": "2.0.0",
      "model_name": "HTMLStyleModel",
      "state": {
       "description_width": "",
       "font_size": null,
       "text_color": null
      }
     },
     "87e74625dbfa40bc894183e5152f6c13": {
      "model_module": "@jupyter-widgets/controls",
      "model_module_version": "2.0.0",
      "model_name": "ProgressStyleModel",
      "state": {
       "description_width": ""
      }
     },
     "882180c092ce447e8243b0827a275377": {
      "model_module": "@jupyter-widgets/base",
      "model_module_version": "2.0.0",
      "model_name": "LayoutModel",
      "state": {
       "visibility": "hidden"
      }
     },
     "882329ddfe2a4a04b9b57496d76e6d13": {
      "model_module": "@jupyter-widgets/base",
      "model_module_version": "2.0.0",
      "model_name": "LayoutModel",
      "state": {}
     },
     "8829e9c7b4d14f8fad809388cad4a108": {
      "model_module": "@jupyter-widgets/base",
      "model_module_version": "2.0.0",
      "model_name": "LayoutModel",
      "state": {}
     },
     "88867a39cfad485b8282870726513b66": {
      "model_module": "@jupyter-widgets/controls",
      "model_module_version": "2.0.0",
      "model_name": "HTMLModel",
      "state": {
       "layout": "IPY_MODEL_9dd547d50c844ef3810791a234f67d43",
       "style": "IPY_MODEL_1ad0d71566864deca3b46a19732d53f4",
       "value": " 77/77 [00:24&lt;00:00,  3.12it/s]"
      }
     },
     "888c05c05b374ce5b60c815857e2871f": {
      "model_module": "@jupyter-widgets/controls",
      "model_module_version": "2.0.0",
      "model_name": "HTMLStyleModel",
      "state": {
       "description_width": "",
       "font_size": null,
       "text_color": null
      }
     },
     "88b78331a48a4a0da7738ad92acb76d4": {
      "model_module": "@jupyter-widgets/controls",
      "model_module_version": "2.0.0",
      "model_name": "ProgressStyleModel",
      "state": {
       "description_width": ""
      }
     },
     "88c39b891b76489bb5e0b39841a35e7d": {
      "model_module": "@jupyter-widgets/base",
      "model_module_version": "2.0.0",
      "model_name": "LayoutModel",
      "state": {
       "visibility": "hidden"
      }
     },
     "88cf84ab1a514d9189ea8de08c6e2b90": {
      "model_module": "@jupyter-widgets/base",
      "model_module_version": "2.0.0",
      "model_name": "LayoutModel",
      "state": {
       "visibility": "hidden"
      }
     },
     "88f69a730f1741ab9be5643d2dbc34dc": {
      "model_module": "@jupyter-widgets/controls",
      "model_module_version": "2.0.0",
      "model_name": "HTMLModel",
      "state": {
       "layout": "IPY_MODEL_6b418bebb7aa480d977eede9170f12cf",
       "style": "IPY_MODEL_353ffa06c3864c7f89a33e1e82dbfff6",
       "value": " 77/77 [00:23&lt;00:00,  3.43it/s]"
      }
     },
     "8914270e7dda4f27a98c764f1723003c": {
      "model_module": "@jupyter-widgets/controls",
      "model_module_version": "2.0.0",
      "model_name": "HTMLStyleModel",
      "state": {
       "description_width": "",
       "font_size": null,
       "text_color": null
      }
     },
     "89314ef6719e4492a02bcd3a41126520": {
      "model_module": "@jupyter-widgets/base",
      "model_module_version": "2.0.0",
      "model_name": "LayoutModel",
      "state": {
       "visibility": "hidden"
      }
     },
     "894c75b5a5434139b83491042902496d": {
      "model_module": "@jupyter-widgets/base",
      "model_module_version": "2.0.0",
      "model_name": "LayoutModel",
      "state": {}
     },
     "894fda41627445be830e116826d01a8c": {
      "model_module": "@jupyter-widgets/controls",
      "model_module_version": "2.0.0",
      "model_name": "HTMLStyleModel",
      "state": {
       "description_width": "",
       "font_size": null,
       "text_color": null
      }
     },
     "89549d59528246cabcebe094a72a3b01": {
      "model_module": "@jupyter-widgets/controls",
      "model_module_version": "2.0.0",
      "model_name": "HTMLStyleModel",
      "state": {
       "description_width": "",
       "font_size": null,
       "text_color": null
      }
     },
     "895ba53e528d4b528c84382aaea31dc7": {
      "model_module": "@jupyter-widgets/controls",
      "model_module_version": "2.0.0",
      "model_name": "HTMLStyleModel",
      "state": {
       "description_width": "",
       "font_size": null,
       "text_color": null
      }
     },
     "895bb8a6c96b4e50a43c14aa82390aae": {
      "model_module": "@jupyter-widgets/controls",
      "model_module_version": "2.0.0",
      "model_name": "HTMLModel",
      "state": {
       "layout": "IPY_MODEL_b06facf3db12492c950e5940f34eb0a7",
       "style": "IPY_MODEL_dcdf0b978ab840f4b573aa420ee03c84",
       "value": "Epoch 18, Loss: 3.1656: 100%"
      }
     },
     "89864df2b0ee4437b65484cb0bcb0ca9": {
      "model_module": "@jupyter-widgets/controls",
      "model_module_version": "2.0.0",
      "model_name": "HTMLModel",
      "state": {
       "layout": "IPY_MODEL_3d6b6985656348969d04d55be775231b",
       "style": "IPY_MODEL_90128518c10b47428ca9b7609171f7bc",
       "value": " 77/77 [00:23&lt;00:00,  3.49it/s]"
      }
     },
     "89f86650b3864e7db4da03e6e150231e": {
      "model_module": "@jupyter-widgets/controls",
      "model_module_version": "2.0.0",
      "model_name": "HTMLStyleModel",
      "state": {
       "description_width": "",
       "font_size": null,
       "text_color": null
      }
     },
     "8a10a6b77aa4418b86c7c52200447137": {
      "model_module": "@jupyter-widgets/controls",
      "model_module_version": "2.0.0",
      "model_name": "HTMLStyleModel",
      "state": {
       "description_width": "",
       "font_size": null,
       "text_color": null
      }
     },
     "8a11002a707b4fbf9bdecd6756188da7": {
      "model_module": "@jupyter-widgets/controls",
      "model_module_version": "2.0.0",
      "model_name": "HTMLModel",
      "state": {
       "layout": "IPY_MODEL_f863e98966f54566b0c392ccfae38cbd",
       "style": "IPY_MODEL_4c1feeb0ee69403ca9992d1ef81e97a5",
       "value": "Epoch 5, Loss: 2.1779: 100%"
      }
     },
     "8a17df81bdad4bdbb694502cf11ecb73": {
      "model_module": "@jupyter-widgets/controls",
      "model_module_version": "2.0.0",
      "model_name": "ProgressStyleModel",
      "state": {
       "description_width": ""
      }
     },
     "8a199bbc5bf0410ea50f0372812f56c6": {
      "model_module": "@jupyter-widgets/controls",
      "model_module_version": "2.0.0",
      "model_name": "ProgressStyleModel",
      "state": {
       "description_width": ""
      }
     },
     "8a315bc8af1f4db89479185332c55681": {
      "model_module": "@jupyter-widgets/controls",
      "model_module_version": "2.0.0",
      "model_name": "FloatProgressModel",
      "state": {
       "layout": "IPY_MODEL_e0025a70f9e142eea30b0176475ccc56",
       "max": 23,
       "style": "IPY_MODEL_4719187ecdca439d92c4fd6bcbe3d581",
       "value": 23
      }
     },
     "8a3f50d83f6d453b9ebd98164defcb03": {
      "model_module": "@jupyter-widgets/base",
      "model_module_version": "2.0.0",
      "model_name": "LayoutModel",
      "state": {}
     },
     "8a5cbfa2d73840e489b0628df94a8cf1": {
      "model_module": "@jupyter-widgets/controls",
      "model_module_version": "2.0.0",
      "model_name": "HTMLModel",
      "state": {
       "layout": "IPY_MODEL_e4dcccf2e0f2447fbef71e9ec9666f81",
       "style": "IPY_MODEL_de67e0e637364b2c84bb88a1ac5d14d5",
       "value": " 13/14 [00:01&lt;00:00, 10.12it/s]"
      }
     },
     "8a5f2e546d4e4f959a35a03bddb4f43c": {
      "model_module": "@jupyter-widgets/controls",
      "model_module_version": "2.0.0",
      "model_name": "ProgressStyleModel",
      "state": {
       "description_width": ""
      }
     },
     "8a815588042c48fa9075402beae77bdd": {
      "model_module": "@jupyter-widgets/controls",
      "model_module_version": "2.0.0",
      "model_name": "HTMLModel",
      "state": {
       "layout": "IPY_MODEL_53a0cca33f3845649645e7b23c8b2b96",
       "style": "IPY_MODEL_a0a81963fc894c92b54aed1edbf37159",
       "value": "Epoch 2, Loss: 2.1896: 100%"
      }
     },
     "8a8b00ecb1214dd58fd17150f60564fe": {
      "model_module": "@jupyter-widgets/controls",
      "model_module_version": "2.0.0",
      "model_name": "HTMLModel",
      "state": {
       "layout": "IPY_MODEL_fec3aa009cb449ce81305bdc3497ce3f",
       "style": "IPY_MODEL_c418861e747b449998a5a5cf5552f5a5",
       "value": " 23/23 [00:01&lt;00:00, 16.74it/s]"
      }
     },
     "8a90b1e0802e4a73b58da0c660cc9dc8": {
      "model_module": "@jupyter-widgets/controls",
      "model_module_version": "2.0.0",
      "model_name": "HTMLModel",
      "state": {
       "layout": "IPY_MODEL_3c33481a02c447f78157a9f70740df4f",
       "style": "IPY_MODEL_067f8d78107c48b0a4f7dacd0e0e07e5",
       "value": " 32/32 [00:10&lt;00:00,  3.28it/s]"
      }
     },
     "8ab0523b72e5438ca9f90e10ad6a673e": {
      "model_module": "@jupyter-widgets/base",
      "model_module_version": "2.0.0",
      "model_name": "LayoutModel",
      "state": {}
     },
     "8ad9fe22ea2745369ad6eb9a70598c3c": {
      "model_module": "@jupyter-widgets/base",
      "model_module_version": "2.0.0",
      "model_name": "LayoutModel",
      "state": {
       "visibility": "hidden"
      }
     },
     "8ae5829bf8c743ba90b48571e21de6e8": {
      "model_module": "@jupyter-widgets/controls",
      "model_module_version": "2.0.0",
      "model_name": "HTMLModel",
      "state": {
       "layout": "IPY_MODEL_7c193d1a18644ab0a89b479ebacc45f9",
       "style": "IPY_MODEL_9194b0bc27c5439684d45872db707b73",
       "value": "Epoch 6, Loss: 2.2274: 100%"
      }
     },
     "8b14885cf67741fb85bc4dbeda2ed006": {
      "model_module": "@jupyter-widgets/base",
      "model_module_version": "2.0.0",
      "model_name": "LayoutModel",
      "state": {}
     },
     "8b28adff057c4764baaa25460b0feb27": {
      "model_module": "@jupyter-widgets/base",
      "model_module_version": "2.0.0",
      "model_name": "LayoutModel",
      "state": {}
     },
     "8b49e49a5e504dfaa419dcbacf54f6b0": {
      "model_module": "@jupyter-widgets/base",
      "model_module_version": "2.0.0",
      "model_name": "LayoutModel",
      "state": {}
     },
     "8b5fd13f8b9c46c8ae3a7f5e1cace000": {
      "model_module": "@jupyter-widgets/controls",
      "model_module_version": "2.0.0",
      "model_name": "FloatProgressModel",
      "state": {
       "layout": "IPY_MODEL_e9c56804788d4d799b505100accf9187",
       "max": 77,
       "style": "IPY_MODEL_8a17df81bdad4bdbb694502cf11ecb73",
       "value": 77
      }
     },
     "8b61beb130d0456982df58454d4c32dd": {
      "model_module": "@jupyter-widgets/controls",
      "model_module_version": "2.0.0",
      "model_name": "ProgressStyleModel",
      "state": {
       "description_width": ""
      }
     },
     "8bc8e38818824c53850d5b5de9842031": {
      "model_module": "@jupyter-widgets/base",
      "model_module_version": "2.0.0",
      "model_name": "LayoutModel",
      "state": {}
     },
     "8bcf44cf34a641c590df6d5bad977ddd": {
      "model_module": "@jupyter-widgets/controls",
      "model_module_version": "2.0.0",
      "model_name": "HTMLModel",
      "state": {
       "layout": "IPY_MODEL_bcd545d3199d4cc1b23df0368e95b2c9",
       "style": "IPY_MODEL_1d8a53062de94978892e92c23bf4cb16",
       "value": " 14/14 [00:01&lt;00:00,  9.92it/s]"
      }
     },
     "8c01070561ec4c61b3b6898d1851cbf1": {
      "model_module": "@jupyter-widgets/controls",
      "model_module_version": "2.0.0",
      "model_name": "HTMLStyleModel",
      "state": {
       "description_width": "",
       "font_size": null,
       "text_color": null
      }
     },
     "8c2141c82cf74a34b27ab2c0b3a5d034": {
      "model_module": "@jupyter-widgets/controls",
      "model_module_version": "2.0.0",
      "model_name": "HTMLModel",
      "state": {
       "layout": "IPY_MODEL_174f1f074f7a4130bf1561d299758ccc",
       "style": "IPY_MODEL_aa131f84da3f4d0a9fb3bbba194f0899",
       "value": "Epoch 2, Loss: 2.9143: 100%"
      }
     },
     "8c3b2f14bca047a986fbee85a9bebdbb": {
      "model_module": "@jupyter-widgets/base",
      "model_module_version": "2.0.0",
      "model_name": "LayoutModel",
      "state": {}
     },
     "8c3d53615152423bb130935ece3e6cfd": {
      "model_module": "@jupyter-widgets/base",
      "model_module_version": "2.0.0",
      "model_name": "LayoutModel",
      "state": {}
     },
     "8c778d785df44a52bb0d6589c855db11": {
      "model_module": "@jupyter-widgets/base",
      "model_module_version": "2.0.0",
      "model_name": "LayoutModel",
      "state": {}
     },
     "8c7e7d43373b41e8ac4f193a796b4c65": {
      "model_module": "@jupyter-widgets/controls",
      "model_module_version": "2.0.0",
      "model_name": "HTMLStyleModel",
      "state": {
       "description_width": "",
       "font_size": null,
       "text_color": null
      }
     },
     "8c885a716ac84ff693f2a20b258d8bae": {
      "model_module": "@jupyter-widgets/controls",
      "model_module_version": "2.0.0",
      "model_name": "HTMLModel",
      "state": {
       "layout": "IPY_MODEL_9ca6faeb170a491497d6e49d7fd23a8c",
       "style": "IPY_MODEL_0364531f4b7f4be39ba732ba02f6b89b",
       "value": "Epoch 1, Loss: 2.4910: 100%"
      }
     },
     "8c980fd7a57049eea2fbe767d23cf6bd": {
      "model_module": "@jupyter-widgets/base",
      "model_module_version": "2.0.0",
      "model_name": "LayoutModel",
      "state": {
       "visibility": "hidden"
      }
     },
     "8cc4a1f92c674123b2f64cb2c1716c2d": {
      "model_module": "@jupyter-widgets/base",
      "model_module_version": "2.0.0",
      "model_name": "LayoutModel",
      "state": {}
     },
     "8cde808090bf4ce4a5bcf885d3f88e8f": {
      "model_module": "@jupyter-widgets/controls",
      "model_module_version": "2.0.0",
      "model_name": "HTMLModel",
      "state": {
       "layout": "IPY_MODEL_d4329dafdbc648b0b80155b012511f8e",
       "style": "IPY_MODEL_0e0a0f5794454c3d814ab0e5acfaf2cd",
       "value": "Epoch 13, Loss: 2.1299: 100%"
      }
     },
     "8d25cd31917b473b93d11ab5e79dff4a": {
      "model_module": "@jupyter-widgets/controls",
      "model_module_version": "2.0.0",
      "model_name": "FloatProgressModel",
      "state": {
       "layout": "IPY_MODEL_38be38fa88044c569c4352f3c0de5799",
       "max": 14,
       "style": "IPY_MODEL_d50c950a5cbc4fd4ba19938a38eb62d8",
       "value": 14
      }
     },
     "8d31bd217050436a8d24c7975b727402": {
      "model_module": "@jupyter-widgets/controls",
      "model_module_version": "2.0.0",
      "model_name": "HTMLStyleModel",
      "state": {
       "description_width": "",
       "font_size": null,
       "text_color": null
      }
     },
     "8d44868405654bbebb57a5e71744f065": {
      "model_module": "@jupyter-widgets/controls",
      "model_module_version": "2.0.0",
      "model_name": "HTMLModel",
      "state": {
       "layout": "IPY_MODEL_eaba754a6ebb48559973e89cb451e62d",
       "style": "IPY_MODEL_4aba46985b4d47df95062f1b860ae607",
       "value": "Epoch 4, Loss: 2.8764: 100%"
      }
     },
     "8d48f667ec254357ade5041067f0d80f": {
      "model_module": "@jupyter-widgets/controls",
      "model_module_version": "2.0.0",
      "model_name": "HTMLModel",
      "state": {
       "layout": "IPY_MODEL_65d4d0ecd5ff4377ba8e49f5566eaf5e",
       "style": "IPY_MODEL_05acb9d59ea2445cb492cc75b7b52a2f",
       "value": " 13/14 [00:01&lt;00:00,  9.81it/s]"
      }
     },
     "8d854ea074f6409f83e4ac143fee0cbd": {
      "model_module": "@jupyter-widgets/base",
      "model_module_version": "2.0.0",
      "model_name": "LayoutModel",
      "state": {}
     },
     "8d9f07f17b6e4fda920b63d144b92bb2": {
      "model_module": "@jupyter-widgets/base",
      "model_module_version": "2.0.0",
      "model_name": "LayoutModel",
      "state": {}
     },
     "8dbd9c9566f74ec2aa7fae3011b3ded5": {
      "model_module": "@jupyter-widgets/controls",
      "model_module_version": "2.0.0",
      "model_name": "FloatProgressModel",
      "state": {
       "layout": "IPY_MODEL_0cf7fcc71a104a5d924625058e4796fa",
       "max": 32,
       "style": "IPY_MODEL_21a1a67c3d954577b0992f92a91c1e56",
       "value": 32
      }
     },
     "8df78b1a085148de88cb03fcdf4666b1": {
      "model_module": "@jupyter-widgets/base",
      "model_module_version": "2.0.0",
      "model_name": "LayoutModel",
      "state": {}
     },
     "8e0040b99f2a454aa157797814a391ef": {
      "model_module": "@jupyter-widgets/base",
      "model_module_version": "2.0.0",
      "model_name": "LayoutModel",
      "state": {}
     },
     "8e090093d4054381b8a81e9cccd9eb2d": {
      "model_module": "@jupyter-widgets/base",
      "model_module_version": "2.0.0",
      "model_name": "LayoutModel",
      "state": {}
     },
     "8e2bdd54d3334913890b2ebdd0b32383": {
      "model_module": "@jupyter-widgets/controls",
      "model_module_version": "2.0.0",
      "model_name": "FloatProgressModel",
      "state": {
       "layout": "IPY_MODEL_6c9716c0d3254e19a25b1557b84cf07c",
       "max": 77,
       "style": "IPY_MODEL_228624087fde4526ac448efce5567aa9",
       "value": 77
      }
     },
     "8e83b9a1aca04062bba187cfde799490": {
      "model_module": "@jupyter-widgets/base",
      "model_module_version": "2.0.0",
      "model_name": "LayoutModel",
      "state": {}
     },
     "8e887c763604465b98b442e8d14f666c": {
      "model_module": "@jupyter-widgets/controls",
      "model_module_version": "2.0.0",
      "model_name": "HTMLStyleModel",
      "state": {
       "description_width": "",
       "font_size": null,
       "text_color": null
      }
     },
     "8e9a7405def543d6827f0ed5ec0bde1f": {
      "model_module": "@jupyter-widgets/base",
      "model_module_version": "2.0.0",
      "model_name": "LayoutModel",
      "state": {}
     },
     "8ea71906cc8940d3b7c5eaac1a3ffd29": {
      "model_module": "@jupyter-widgets/base",
      "model_module_version": "2.0.0",
      "model_name": "LayoutModel",
      "state": {}
     },
     "8ee7835748c9434d9d687a28b3f6b483": {
      "model_module": "@jupyter-widgets/controls",
      "model_module_version": "2.0.0",
      "model_name": "FloatProgressModel",
      "state": {
       "layout": "IPY_MODEL_420a74cbd85946dcbb67c1187fe98d1c",
       "max": 77,
       "style": "IPY_MODEL_f543d32d843f4955878b778cb81a964d",
       "value": 77
      }
     },
     "8ef599299eb0423793c4f912d3edd5ca": {
      "model_module": "@jupyter-widgets/controls",
      "model_module_version": "2.0.0",
      "model_name": "HTMLStyleModel",
      "state": {
       "description_width": "",
       "font_size": null,
       "text_color": null
      }
     },
     "8ef6558c422f4959a8b099c78ea7d382": {
      "model_module": "@jupyter-widgets/base",
      "model_module_version": "2.0.0",
      "model_name": "LayoutModel",
      "state": {
       "visibility": "hidden"
      }
     },
     "8f02b683628f4f12abb39d2431e7278d": {
      "model_module": "@jupyter-widgets/controls",
      "model_module_version": "2.0.0",
      "model_name": "HTMLStyleModel",
      "state": {
       "description_width": "",
       "font_size": null,
       "text_color": null
      }
     },
     "8f1996f770a24c068d97af5b8d83f98c": {
      "model_module": "@jupyter-widgets/base",
      "model_module_version": "2.0.0",
      "model_name": "LayoutModel",
      "state": {}
     },
     "8f2bc389db8741be99ae8993512b8314": {
      "model_module": "@jupyter-widgets/controls",
      "model_module_version": "2.0.0",
      "model_name": "FloatProgressModel",
      "state": {
       "layout": "IPY_MODEL_ec131934007d46d583ed907eb28bab5e",
       "max": 14,
       "style": "IPY_MODEL_765f362a814144bba7bc008e76f3f9a5",
       "value": 14
      }
     },
     "8f3d4757eb434f45a565e08e69693af1": {
      "model_module": "@jupyter-widgets/controls",
      "model_module_version": "2.0.0",
      "model_name": "HTMLModel",
      "state": {
       "layout": "IPY_MODEL_e51b5cd6454346f1b6642206d9dc1f1c",
       "style": "IPY_MODEL_2d4e7cf98546441888b81002738bd826",
       "value": " 32/32 [00:10&lt;00:00,  3.47it/s]"
      }
     },
     "8f4405bbe7ec4976893448da07339653": {
      "model_module": "@jupyter-widgets/base",
      "model_module_version": "2.0.0",
      "model_name": "LayoutModel",
      "state": {
       "visibility": "hidden"
      }
     },
     "8f4a139776254246b21407ddfdadf37b": {
      "model_module": "@jupyter-widgets/controls",
      "model_module_version": "2.0.0",
      "model_name": "ProgressStyleModel",
      "state": {
       "description_width": ""
      }
     },
     "8f723e1425f44eb3ae1de368cc551bd3": {
      "model_module": "@jupyter-widgets/controls",
      "model_module_version": "2.0.0",
      "model_name": "HTMLStyleModel",
      "state": {
       "description_width": "",
       "font_size": null,
       "text_color": null
      }
     },
     "8f7a56b2d09a4971b03fada4f1ea4c28": {
      "model_module": "@jupyter-widgets/controls",
      "model_module_version": "2.0.0",
      "model_name": "HTMLStyleModel",
      "state": {
       "description_width": "",
       "font_size": null,
       "text_color": null
      }
     },
     "8fca71e2add64346b6539f9685380336": {
      "model_module": "@jupyter-widgets/controls",
      "model_module_version": "2.0.0",
      "model_name": "HTMLModel",
      "state": {
       "layout": "IPY_MODEL_6c33bee3544e47709c8ebec42b7d6165",
       "style": "IPY_MODEL_39e95e8eb7ec4e67a085f073aaaef2da",
       "value": "Epoch 10, Loss: 3.0610:  93%"
      }
     },
     "90128518c10b47428ca9b7609171f7bc": {
      "model_module": "@jupyter-widgets/controls",
      "model_module_version": "2.0.0",
      "model_name": "HTMLStyleModel",
      "state": {
       "description_width": "",
       "font_size": null,
       "text_color": null
      }
     },
     "9014d067eb404de995428ab8daa76b60": {
      "model_module": "@jupyter-widgets/controls",
      "model_module_version": "2.0.0",
      "model_name": "HTMLModel",
      "state": {
       "layout": "IPY_MODEL_a3eebe7043ef4c7ab6d81367c664b636",
       "style": "IPY_MODEL_62105a78ed7d4cb2bf88af0c849c4bcb",
       "value": "Epoch 8, Loss: 2.0978: 100%"
      }
     },
     "90176949921e4cc288ee8b0ac78505f9": {
      "model_module": "@jupyter-widgets/controls",
      "model_module_version": "2.0.0",
      "model_name": "FloatProgressModel",
      "state": {
       "layout": "IPY_MODEL_7c0fb4ae3d3f4f25af3c71f9d3359088",
       "max": 77,
       "style": "IPY_MODEL_41f329e2f55d44409425a33afbaf93b8",
       "value": 77
      }
     },
     "907349f8bc994ecf980a6928aec43cd5": {
      "model_module": "@jupyter-widgets/controls",
      "model_module_version": "2.0.0",
      "model_name": "FloatProgressModel",
      "state": {
       "layout": "IPY_MODEL_6bee15ac3d57438e8316d80acebb2b1f",
       "max": 77,
       "style": "IPY_MODEL_744a3714f19b44478f8984886e6ba49f",
       "value": 77
      }
     },
     "907a803287ae4125be9638d9a0c0fddd": {
      "model_module": "@jupyter-widgets/controls",
      "model_module_version": "2.0.0",
      "model_name": "HTMLModel",
      "state": {
       "layout": "IPY_MODEL_fa7920e7bbbf491996a4dc64ad6615a4",
       "style": "IPY_MODEL_6b4d7921ac4743b493c825d80878819c",
       "value": " 27/27 [00:03&lt;00:00, 11.21it/s]"
      }
     },
     "909974b49fe34e4893548b43c34f5937": {
      "model_module": "@jupyter-widgets/controls",
      "model_module_version": "2.0.0",
      "model_name": "HTMLModel",
      "state": {
       "layout": "IPY_MODEL_f64bcd6aa5dc4041819010f06346154d",
       "style": "IPY_MODEL_4526caad1c734881ae1f1e54a3e320da",
       "value": "Epoch 1, Loss: 3.4560: 100%"
      }
     },
     "9099e801614242069c535dae4a4811b7": {
      "model_module": "@jupyter-widgets/controls",
      "model_module_version": "2.0.0",
      "model_name": "FloatProgressModel",
      "state": {
       "layout": "IPY_MODEL_abfcaf3580b441649add28e8bbe84847",
       "max": 77,
       "style": "IPY_MODEL_07b3b49ba88b4e0ca310cb3042bdaccf",
       "value": 77
      }
     },
     "90aeb3c504fe4432be2ca81ca9a1ff21": {
      "model_module": "@jupyter-widgets/base",
      "model_module_version": "2.0.0",
      "model_name": "LayoutModel",
      "state": {
       "visibility": "hidden"
      }
     },
     "90b34e2684a14e58a9bd023606b251c5": {
      "model_module": "@jupyter-widgets/controls",
      "model_module_version": "2.0.0",
      "model_name": "HTMLModel",
      "state": {
       "layout": "IPY_MODEL_4e75bb73cd0a432aa7c5917777ea3a78",
       "style": "IPY_MODEL_ea495a037eab49df892fb9e36f841061",
       "value": "Epoch 12, Loss: 3.9550: 100%"
      }
     },
     "90cfec5fbcbf4a6ca92662f750b01214": {
      "model_module": "@jupyter-widgets/controls",
      "model_module_version": "2.0.0",
      "model_name": "ProgressStyleModel",
      "state": {
       "description_width": ""
      }
     },
     "90dd7f350ff34b9abdededf37292d826": {
      "model_module": "@jupyter-widgets/controls",
      "model_module_version": "2.0.0",
      "model_name": "HTMLStyleModel",
      "state": {
       "description_width": "",
       "font_size": null,
       "text_color": null
      }
     },
     "9112d8151351421db60f70cdb645d442": {
      "model_module": "@jupyter-widgets/controls",
      "model_module_version": "2.0.0",
      "model_name": "HTMLStyleModel",
      "state": {
       "description_width": "",
       "font_size": null,
       "text_color": null
      }
     },
     "912a47ee676e4bd7b28299039e24489d": {
      "model_module": "@jupyter-widgets/base",
      "model_module_version": "2.0.0",
      "model_name": "LayoutModel",
      "state": {
       "visibility": "hidden"
      }
     },
     "916c984422e94a1299e0e2cc617764f2": {
      "model_module": "@jupyter-widgets/controls",
      "model_module_version": "2.0.0",
      "model_name": "HTMLModel",
      "state": {
       "layout": "IPY_MODEL_94d72011c85644fbb73aa0d918e88a53",
       "style": "IPY_MODEL_cec7a46d64c94edba033c80d62e99256",
       "value": " 13/14 [00:01&lt;00:00, 10.10it/s]"
      }
     },
     "917932af7c3544788946ad548b88ad84": {
      "model_module": "@jupyter-widgets/controls",
      "model_module_version": "2.0.0",
      "model_name": "HTMLModel",
      "state": {
       "layout": "IPY_MODEL_0f908658a28f4e49930620e2c78d2c0e",
       "style": "IPY_MODEL_4077a7cc472546599d24969f8a3312fb",
       "value": " 27/27 [00:03&lt;00:00, 10.76it/s]"
      }
     },
     "9194b0bc27c5439684d45872db707b73": {
      "model_module": "@jupyter-widgets/controls",
      "model_module_version": "2.0.0",
      "model_name": "HTMLStyleModel",
      "state": {
       "description_width": "",
       "font_size": null,
       "text_color": null
      }
     },
     "91c5f7a03dcd419b8c355aa03a83c820": {
      "model_module": "@jupyter-widgets/controls",
      "model_module_version": "2.0.0",
      "model_name": "HTMLStyleModel",
      "state": {
       "description_width": "",
       "font_size": null,
       "text_color": null
      }
     },
     "91c807192b62424f9879706e3d07a3c2": {
      "model_module": "@jupyter-widgets/controls",
      "model_module_version": "2.0.0",
      "model_name": "HTMLStyleModel",
      "state": {
       "description_width": "",
       "font_size": null,
       "text_color": null
      }
     },
     "91c8313043a9482d9c2b465c81f038e7": {
      "model_module": "@jupyter-widgets/controls",
      "model_module_version": "2.0.0",
      "model_name": "FloatProgressModel",
      "state": {
       "layout": "IPY_MODEL_18547ba9617e48a8ad35a3851d1fa706",
       "max": 14,
       "style": "IPY_MODEL_bad13c9aae6d4794bb3028789f997a9a",
       "value": 14
      }
     },
     "91d851a9b50f482795c598d8a2e88b25": {
      "model_module": "@jupyter-widgets/controls",
      "model_module_version": "2.0.0",
      "model_name": "FloatProgressModel",
      "state": {
       "layout": "IPY_MODEL_356d0aeae60c491db90502addb269080",
       "max": 14,
       "style": "IPY_MODEL_88b78331a48a4a0da7738ad92acb76d4",
       "value": 14
      }
     },
     "920bb379519e43fdbb631f5a44af7b18": {
      "model_module": "@jupyter-widgets/controls",
      "model_module_version": "2.0.0",
      "model_name": "HTMLStyleModel",
      "state": {
       "description_width": "",
       "font_size": null,
       "text_color": null
      }
     },
     "926a025acad14bb2898c8a14b63d968e": {
      "model_module": "@jupyter-widgets/base",
      "model_module_version": "2.0.0",
      "model_name": "LayoutModel",
      "state": {}
     },
     "926ba82db37641cab582e224f0ac4a2a": {
      "model_module": "@jupyter-widgets/base",
      "model_module_version": "2.0.0",
      "model_name": "LayoutModel",
      "state": {}
     },
     "9294cd46a4c34e129d84ad7223ad4d55": {
      "model_module": "@jupyter-widgets/base",
      "model_module_version": "2.0.0",
      "model_name": "LayoutModel",
      "state": {}
     },
     "92953c014da5480ab8a3673047651d31": {
      "model_module": "@jupyter-widgets/controls",
      "model_module_version": "2.0.0",
      "model_name": "FloatProgressModel",
      "state": {
       "layout": "IPY_MODEL_b986e8f7ba754fa9ae886576b5b7f20e",
       "max": 23,
       "style": "IPY_MODEL_575fa6d5d11c4da59d3a9b2f63ba7fb5",
       "value": 23
      }
     },
     "929e25e06dc448718c43bd455aa3dd25": {
      "model_module": "@jupyter-widgets/controls",
      "model_module_version": "2.0.0",
      "model_name": "FloatProgressModel",
      "state": {
       "layout": "IPY_MODEL_6da67dbdf26c420697cda987cf13371a",
       "max": 32,
       "style": "IPY_MODEL_2b29f842541a4f5bb078dc32321ea915",
       "value": 32
      }
     },
     "92ba5d0003264abd9f4de3c1e6332888": {
      "model_module": "@jupyter-widgets/base",
      "model_module_version": "2.0.0",
      "model_name": "LayoutModel",
      "state": {}
     },
     "92bb98e0428548e7bb945a5c68265ded": {
      "model_module": "@jupyter-widgets/base",
      "model_module_version": "2.0.0",
      "model_name": "LayoutModel",
      "state": {
       "visibility": "hidden"
      }
     },
     "92cead272e8c4e23a83ce9ec162b2b11": {
      "model_module": "@jupyter-widgets/controls",
      "model_module_version": "2.0.0",
      "model_name": "ProgressStyleModel",
      "state": {
       "description_width": ""
      }
     },
     "92e4740642554327b652ee80052c6af5": {
      "model_module": "@jupyter-widgets/base",
      "model_module_version": "2.0.0",
      "model_name": "LayoutModel",
      "state": {}
     },
     "9304cbc67e0e458c8b9d4029777555c8": {
      "model_module": "@jupyter-widgets/controls",
      "model_module_version": "2.0.0",
      "model_name": "HTMLModel",
      "state": {
       "layout": "IPY_MODEL_0c32dc78a1e84b6b96f7c956050e0db5",
       "style": "IPY_MODEL_0d289b537a8e4c20a9deb0d3cf795d88",
       "value": " 32/32 [00:11&lt;00:00,  3.03it/s]"
      }
     },
     "932c2fc438214a11bd43520a54c227d2": {
      "model_module": "@jupyter-widgets/base",
      "model_module_version": "2.0.0",
      "model_name": "LayoutModel",
      "state": {
       "visibility": "hidden"
      }
     },
     "934d132a29b94a339cec20f5436b9009": {
      "model_module": "@jupyter-widgets/controls",
      "model_module_version": "2.0.0",
      "model_name": "HTMLStyleModel",
      "state": {
       "description_width": "",
       "font_size": null,
       "text_color": null
      }
     },
     "9385b3a4b22c4a30a37dc0539d816b94": {
      "model_module": "@jupyter-widgets/controls",
      "model_module_version": "2.0.0",
      "model_name": "HTMLModel",
      "state": {
       "layout": "IPY_MODEL_e8abec34c4a7413e859455aab5deda80",
       "style": "IPY_MODEL_7e71dea8cc5b4376b52666d1c8a5bc13",
       "value": " 32/32 [00:11&lt;00:00,  3.12it/s]"
      }
     },
     "93d4ec75694f4af4bf106359d5a975b5": {
      "model_module": "@jupyter-widgets/controls",
      "model_module_version": "2.0.0",
      "model_name": "FloatProgressModel",
      "state": {
       "layout": "IPY_MODEL_bfb18b3dd16e4b898ba827f92e81cbee",
       "max": 77,
       "style": "IPY_MODEL_ddf4060dd2ed4e5db3a7b0831490c1c5",
       "value": 77
      }
     },
     "93eae018703044bdbc8bcf412eeb06cb": {
      "model_module": "@jupyter-widgets/controls",
      "model_module_version": "2.0.0",
      "model_name": "HTMLModel",
      "state": {
       "layout": "IPY_MODEL_4bad67d816dc47e38724571aed18142a",
       "style": "IPY_MODEL_0a5929cecf0a4c1e9b0393e50d806825",
       "value": " 26/27 [00:03&lt;00:00, 11.10it/s]"
      }
     },
     "94094457effa4dad9f9d7f21b13dd74d": {
      "model_module": "@jupyter-widgets/controls",
      "model_module_version": "2.0.0",
      "model_name": "FloatProgressModel",
      "state": {
       "layout": "IPY_MODEL_4feebd8658d44b3abeb3078303645563",
       "max": 14,
       "style": "IPY_MODEL_56ffa25acc184617a43941d0a7d4bba9",
       "value": 14
      }
     },
     "943b2fc8173a408db7b50164057899de": {
      "model_module": "@jupyter-widgets/controls",
      "model_module_version": "2.0.0",
      "model_name": "HTMLStyleModel",
      "state": {
       "description_width": "",
       "font_size": null,
       "text_color": null
      }
     },
     "9489e0ec2e974a1395d349b78985366e": {
      "model_module": "@jupyter-widgets/base",
      "model_module_version": "2.0.0",
      "model_name": "LayoutModel",
      "state": {}
     },
     "94a1266025644143ae8032ea777dafdb": {
      "model_module": "@jupyter-widgets/controls",
      "model_module_version": "2.0.0",
      "model_name": "FloatProgressModel",
      "state": {
       "layout": "IPY_MODEL_6cb218beb8ac408b9da298dd81756327",
       "max": 77,
       "style": "IPY_MODEL_d2b88fb1612d461988f30a6605a0e5e7",
       "value": 77
      }
     },
     "94bd4b4523194d08bb7a9db1d51bd8c9": {
      "model_module": "@jupyter-widgets/base",
      "model_module_version": "2.0.0",
      "model_name": "LayoutModel",
      "state": {
       "visibility": "hidden"
      }
     },
     "94d72011c85644fbb73aa0d918e88a53": {
      "model_module": "@jupyter-widgets/base",
      "model_module_version": "2.0.0",
      "model_name": "LayoutModel",
      "state": {}
     },
     "94e6a29f7f3143669617806f285b8f01": {
      "model_module": "@jupyter-widgets/controls",
      "model_module_version": "2.0.0",
      "model_name": "ProgressStyleModel",
      "state": {
       "description_width": ""
      }
     },
     "951460c51ea6408f9bb9cb37b5adadf9": {
      "model_module": "@jupyter-widgets/controls",
      "model_module_version": "2.0.0",
      "model_name": "HTMLStyleModel",
      "state": {
       "description_width": "",
       "font_size": null,
       "text_color": null
      }
     },
     "951b9c7ed0c44755901a822381f76501": {
      "model_module": "@jupyter-widgets/controls",
      "model_module_version": "2.0.0",
      "model_name": "HTMLStyleModel",
      "state": {
       "description_width": "",
       "font_size": null,
       "text_color": null
      }
     },
     "95471cb64b2e443dba49976ab7e51e74": {
      "model_module": "@jupyter-widgets/base",
      "model_module_version": "2.0.0",
      "model_name": "LayoutModel",
      "state": {}
     },
     "959ffda79d634d91b424b2cb08211575": {
      "model_module": "@jupyter-widgets/base",
      "model_module_version": "2.0.0",
      "model_name": "LayoutModel",
      "state": {}
     },
     "95be029e2beb466b99bde20c6430da74": {
      "model_module": "@jupyter-widgets/controls",
      "model_module_version": "2.0.0",
      "model_name": "HTMLModel",
      "state": {
       "layout": "IPY_MODEL_05aa7dc25e5f40d4bc011a45f1115c41",
       "style": "IPY_MODEL_f67838f2d323410286ddec0ed59be862",
       "value": " 26/27 [00:02&lt;00:00, 10.71it/s]"
      }
     },
     "95e29a61db334bc7994f2364476f5b79": {
      "model_module": "@jupyter-widgets/controls",
      "model_module_version": "2.0.0",
      "model_name": "ProgressStyleModel",
      "state": {
       "description_width": ""
      }
     },
     "95e3c83e3c824d19978ddb23076e61ab": {
      "model_module": "@jupyter-widgets/base",
      "model_module_version": "2.0.0",
      "model_name": "LayoutModel",
      "state": {}
     },
     "95f20e8e4c874c38b994c05d6fa0567e": {
      "model_module": "@jupyter-widgets/controls",
      "model_module_version": "2.0.0",
      "model_name": "HTMLStyleModel",
      "state": {
       "description_width": "",
       "font_size": null,
       "text_color": null
      }
     },
     "95f717326ec645dea6a6aa10a9b5451f": {
      "model_module": "@jupyter-widgets/base",
      "model_module_version": "2.0.0",
      "model_name": "LayoutModel",
      "state": {}
     },
     "9626b75624f34e2a9d611ba6c4b21d2e": {
      "model_module": "@jupyter-widgets/base",
      "model_module_version": "2.0.0",
      "model_name": "LayoutModel",
      "state": {}
     },
     "9646960ffbe442e2a9405da55548d263": {
      "model_module": "@jupyter-widgets/base",
      "model_module_version": "2.0.0",
      "model_name": "LayoutModel",
      "state": {}
     },
     "965001f8ca5042b6870e2d154cd81144": {
      "model_module": "@jupyter-widgets/controls",
      "model_module_version": "2.0.0",
      "model_name": "ProgressStyleModel",
      "state": {
       "description_width": ""
      }
     },
     "9655e2ba1eca4c309bbe3baf81958ffe": {
      "model_module": "@jupyter-widgets/base",
      "model_module_version": "2.0.0",
      "model_name": "LayoutModel",
      "state": {}
     },
     "9659262849ff436483fdd13dd2d12355": {
      "model_module": "@jupyter-widgets/base",
      "model_module_version": "2.0.0",
      "model_name": "LayoutModel",
      "state": {
       "visibility": "hidden"
      }
     },
     "9663b970e3dc4885bdd16424eafe02cd": {
      "model_module": "@jupyter-widgets/controls",
      "model_module_version": "2.0.0",
      "model_name": "ProgressStyleModel",
      "state": {
       "description_width": ""
      }
     },
     "9664a629ca2644faaa15ae1da29339d8": {
      "model_module": "@jupyter-widgets/controls",
      "model_module_version": "2.0.0",
      "model_name": "HTMLStyleModel",
      "state": {
       "description_width": "",
       "font_size": null,
       "text_color": null
      }
     },
     "969ef47cd3ce43b1b229a33dca927515": {
      "model_module": "@jupyter-widgets/controls",
      "model_module_version": "2.0.0",
      "model_name": "HTMLModel",
      "state": {
       "layout": "IPY_MODEL_52f5cce33b6448d68d4939525426d47d",
       "style": "IPY_MODEL_5fa9b26b42ee4e0a9eb5f02bf209a2a2",
       "value": " 77/77 [00:49&lt;00:00,  3.46it/s]"
      }
     },
     "96b2fc2f058344e3abd9c21609e4e44d": {
      "model_module": "@jupyter-widgets/controls",
      "model_module_version": "2.0.0",
      "model_name": "FloatProgressModel",
      "state": {
       "layout": "IPY_MODEL_67428452e090412b950aaff885cbc21e",
       "max": 14,
       "style": "IPY_MODEL_9a6412445626424cb3d37fe435c7bfe6",
       "value": 14
      }
     },
     "96c4ee12d5cd4794a1c3168faab73273": {
      "model_module": "@jupyter-widgets/controls",
      "model_module_version": "2.0.0",
      "model_name": "ProgressStyleModel",
      "state": {
       "description_width": ""
      }
     },
     "96ca1edb91884adfab009ebce4ec9b87": {
      "model_module": "@jupyter-widgets/controls",
      "model_module_version": "2.0.0",
      "model_name": "HTMLModel",
      "state": {
       "layout": "IPY_MODEL_1c62906477e846fd92f041924c247bf5",
       "style": "IPY_MODEL_bae7252eb41d4b928f9daac7f7bf7938",
       "value": "Epoch 4, Loss: 3.4501: 100%"
      }
     },
     "96dd22469a744e9c9233062a2c29cd9f": {
      "model_module": "@jupyter-widgets/controls",
      "model_module_version": "2.0.0",
      "model_name": "HTMLStyleModel",
      "state": {
       "description_width": "",
       "font_size": null,
       "text_color": null
      }
     },
     "9702f30936f543b5ad6ab0c12064b9f2": {
      "model_module": "@jupyter-widgets/controls",
      "model_module_version": "2.0.0",
      "model_name": "HTMLModel",
      "state": {
       "layout": "IPY_MODEL_a5aba2bdd1664bf0826a02b132473e98",
       "style": "IPY_MODEL_d26fef41858f42248d04e0cbff0b2a38",
       "value": " 63/63 [00:19&lt;00:00,  3.37it/s]"
      }
     },
     "9715a7c35e7640a6ac64b36437bd6b47": {
      "model_module": "@jupyter-widgets/controls",
      "model_module_version": "2.0.0",
      "model_name": "HTMLStyleModel",
      "state": {
       "description_width": "",
       "font_size": null,
       "text_color": null
      }
     },
     "9751454a20934e53a33a3773f74ce489": {
      "model_module": "@jupyter-widgets/controls",
      "model_module_version": "2.0.0",
      "model_name": "ProgressStyleModel",
      "state": {
       "description_width": ""
      }
     },
     "97522c4311ff4deb99ce74933a42dfd9": {
      "model_module": "@jupyter-widgets/base",
      "model_module_version": "2.0.0",
      "model_name": "LayoutModel",
      "state": {}
     },
     "975cfc3e6f7544ddbfc64a3c08b019f8": {
      "model_module": "@jupyter-widgets/controls",
      "model_module_version": "2.0.0",
      "model_name": "FloatProgressModel",
      "state": {
       "layout": "IPY_MODEL_430c208a4c24413883291a2b76075812",
       "max": 77,
       "style": "IPY_MODEL_afe924bc91614adf86d384c2b6c05f7a",
       "value": 77
      }
     },
     "975e507309dd4ee7b87620bf5303f59d": {
      "model_module": "@jupyter-widgets/controls",
      "model_module_version": "2.0.0",
      "model_name": "HTMLModel",
      "state": {
       "layout": "IPY_MODEL_efdbfc71d70a4e22a0c31d9a182ef5a6",
       "style": "IPY_MODEL_038f3ca8818545a19b333692dc547ac6",
       "value": "Epoch 10, Loss: 3.6558: 100%"
      }
     },
     "9778b081da404ab7a38cdb192d2ab276": {
      "model_module": "@jupyter-widgets/base",
      "model_module_version": "2.0.0",
      "model_name": "LayoutModel",
      "state": {}
     },
     "9788e36a080e4ecc87af2b9e96af7d67": {
      "model_module": "@jupyter-widgets/base",
      "model_module_version": "2.0.0",
      "model_name": "LayoutModel",
      "state": {}
     },
     "97a357be146849498113a5a79a238371": {
      "model_module": "@jupyter-widgets/controls",
      "model_module_version": "2.0.0",
      "model_name": "HTMLModel",
      "state": {
       "layout": "IPY_MODEL_ab84c3d8697a4a78851b3496f776e09a",
       "style": "IPY_MODEL_96dd22469a744e9c9233062a2c29cd9f",
       "value": " 14/14 [00:01&lt;00:00, 10.52it/s]"
      }
     },
     "97df2dfdb410496d92120ec68d02df9a": {
      "model_module": "@jupyter-widgets/base",
      "model_module_version": "2.0.0",
      "model_name": "LayoutModel",
      "state": {}
     },
     "97f4a3f71e7641b3a52f7cceb0f12443": {
      "model_module": "@jupyter-widgets/controls",
      "model_module_version": "2.0.0",
      "model_name": "FloatProgressModel",
      "state": {
       "layout": "IPY_MODEL_7ece5ac8b83e4a408cbdaf82c81660ca",
       "max": 14,
       "style": "IPY_MODEL_4c7f5c1a09d448d98b392a194ea1c14b",
       "value": 14
      }
     },
     "97f8031a32ee48a6b97c423b84919734": {
      "model_module": "@jupyter-widgets/base",
      "model_module_version": "2.0.0",
      "model_name": "LayoutModel",
      "state": {}
     },
     "9815454a4e584ede8a66fea09ec18b44": {
      "model_module": "@jupyter-widgets/base",
      "model_module_version": "2.0.0",
      "model_name": "LayoutModel",
      "state": {}
     },
     "9838c9a1f1024f20860db42e22651539": {
      "model_module": "@jupyter-widgets/controls",
      "model_module_version": "2.0.0",
      "model_name": "FloatProgressModel",
      "state": {
       "layout": "IPY_MODEL_8521851857d04b38b14cfebd6eac6e50",
       "max": 14,
       "style": "IPY_MODEL_de45596254204a88bc01f982085ec8e3",
       "value": 14
      }
     },
     "9843cbba4f2f42dd854d7f40c3a12a18": {
      "model_module": "@jupyter-widgets/controls",
      "model_module_version": "2.0.0",
      "model_name": "HTMLStyleModel",
      "state": {
       "description_width": "",
       "font_size": null,
       "text_color": null
      }
     },
     "9855b3522c444954999e164579a6a438": {
      "model_module": "@jupyter-widgets/base",
      "model_module_version": "2.0.0",
      "model_name": "LayoutModel",
      "state": {}
     },
     "989960d3892c41f9b95ba41717fc4d17": {
      "model_module": "@jupyter-widgets/base",
      "model_module_version": "2.0.0",
      "model_name": "LayoutModel",
      "state": {
       "visibility": "hidden"
      }
     },
     "989c064bb47544669894376ec09659b8": {
      "model_module": "@jupyter-widgets/controls",
      "model_module_version": "2.0.0",
      "model_name": "HTMLModel",
      "state": {
       "layout": "IPY_MODEL_e892a3195e89408dbad2bcc3ab63e071",
       "style": "IPY_MODEL_9edfec0d57084c20be13edb277103726",
       "value": " 77/77 [00:26&lt;00:00,  3.31it/s]"
      }
     },
     "98dfc2b353894cd2a9a1d4f573004830": {
      "model_module": "@jupyter-widgets/controls",
      "model_module_version": "2.0.0",
      "model_name": "ProgressStyleModel",
      "state": {
       "description_width": ""
      }
     },
     "98f9870eb2714681b530179e631bdea4": {
      "model_module": "@jupyter-widgets/base",
      "model_module_version": "2.0.0",
      "model_name": "LayoutModel",
      "state": {}
     },
     "9906fc312fce4443bafa68fcd834d990": {
      "model_module": "@jupyter-widgets/controls",
      "model_module_version": "2.0.0",
      "model_name": "HTMLModel",
      "state": {
       "layout": "IPY_MODEL_a7675f53b224452394cd011ad749e6bd",
       "style": "IPY_MODEL_e4d220f22b4840078ebae579e2357355",
       "value": " 32/32 [00:09&lt;00:00,  3.51it/s]"
      }
     },
     "99123f34efde4df3aa5a82d8800ffa1e": {
      "model_module": "@jupyter-widgets/controls",
      "model_module_version": "2.0.0",
      "model_name": "HTMLStyleModel",
      "state": {
       "description_width": "",
       "font_size": null,
       "text_color": null
      }
     },
     "992c608e813f4fa996cc33ca20f08165": {
      "model_module": "@jupyter-widgets/controls",
      "model_module_version": "2.0.0",
      "model_name": "ProgressStyleModel",
      "state": {
       "description_width": ""
      }
     },
     "9938fccafcf94e8a940af412089aa1f9": {
      "model_module": "@jupyter-widgets/base",
      "model_module_version": "2.0.0",
      "model_name": "LayoutModel",
      "state": {}
     },
     "99463a7d3f7b4de48424652382eb16c4": {
      "model_module": "@jupyter-widgets/controls",
      "model_module_version": "2.0.0",
      "model_name": "FloatProgressModel",
      "state": {
       "layout": "IPY_MODEL_cc9690147eba4d5390a8b40a6fdfffd7",
       "max": 63,
       "style": "IPY_MODEL_58369b3a11e14d6ea2e0d5a0c66028f0",
       "value": 63
      }
     },
     "994c7c3105ab40e58a704331b20b7324": {
      "model_module": "@jupyter-widgets/controls",
      "model_module_version": "2.0.0",
      "model_name": "FloatProgressModel",
      "state": {
       "layout": "IPY_MODEL_054781114b554dd9b240fe4f5402d3a3",
       "max": 77,
       "style": "IPY_MODEL_b80a2b18b30a416d9d2190c2632d532c",
       "value": 77
      }
     },
     "99538981b4e64aff808d862713550b5e": {
      "model_module": "@jupyter-widgets/controls",
      "model_module_version": "2.0.0",
      "model_name": "HTMLStyleModel",
      "state": {
       "description_width": "",
       "font_size": null,
       "text_color": null
      }
     },
     "9973027451354f7f856fe641d304fc6f": {
      "model_module": "@jupyter-widgets/base",
      "model_module_version": "2.0.0",
      "model_name": "LayoutModel",
      "state": {}
     },
     "99c9f838e4214f648a07018c895d3d9d": {
      "model_module": "@jupyter-widgets/base",
      "model_module_version": "2.0.0",
      "model_name": "LayoutModel",
      "state": {}
     },
     "99f1ceef84a647f990ebc5156f9bfd2b": {
      "model_module": "@jupyter-widgets/base",
      "model_module_version": "2.0.0",
      "model_name": "LayoutModel",
      "state": {}
     },
     "9a2624ee49f5491ab97b7ce9dcabc7cf": {
      "model_module": "@jupyter-widgets/controls",
      "model_module_version": "2.0.0",
      "model_name": "HTMLStyleModel",
      "state": {
       "description_width": "",
       "font_size": null,
       "text_color": null
      }
     },
     "9a4ad72985ec489cb323ff2daa894aaa": {
      "model_module": "@jupyter-widgets/controls",
      "model_module_version": "2.0.0",
      "model_name": "ProgressStyleModel",
      "state": {
       "description_width": ""
      }
     },
     "9a6412445626424cb3d37fe435c7bfe6": {
      "model_module": "@jupyter-widgets/controls",
      "model_module_version": "2.0.0",
      "model_name": "ProgressStyleModel",
      "state": {
       "description_width": ""
      }
     },
     "9a6d00ea0ed54e5a80e2ab416674c1e6": {
      "model_module": "@jupyter-widgets/base",
      "model_module_version": "2.0.0",
      "model_name": "LayoutModel",
      "state": {
       "visibility": "hidden"
      }
     },
     "9a6e15d110324798b246d146ec497284": {
      "model_module": "@jupyter-widgets/base",
      "model_module_version": "2.0.0",
      "model_name": "LayoutModel",
      "state": {}
     },
     "9a77798fe5c24717b7514b246a64d435": {
      "model_module": "@jupyter-widgets/base",
      "model_module_version": "2.0.0",
      "model_name": "LayoutModel",
      "state": {}
     },
     "9a77dd6bca8d44ce9307d047d2e3c6a4": {
      "model_module": "@jupyter-widgets/base",
      "model_module_version": "2.0.0",
      "model_name": "LayoutModel",
      "state": {}
     },
     "9acf6c735faf4089b9818dfb9bc98506": {
      "model_module": "@jupyter-widgets/controls",
      "model_module_version": "2.0.0",
      "model_name": "ProgressStyleModel",
      "state": {
       "description_width": ""
      }
     },
     "9ae65b30962d4b3a9601c73422916fb1": {
      "model_module": "@jupyter-widgets/controls",
      "model_module_version": "2.0.0",
      "model_name": "HTMLModel",
      "state": {
       "layout": "IPY_MODEL_afcc7a115d7e486fbf7c6e63ecd02d33",
       "style": "IPY_MODEL_7cdcecb5ed054648bdeba9b8869ed6e6",
       "value": "Epoch 2, Loss: 3.4916: 100%"
      }
     },
     "9aebbd313d2e434b9a370f8a8f53aca0": {
      "model_module": "@jupyter-widgets/controls",
      "model_module_version": "2.0.0",
      "model_name": "HTMLStyleModel",
      "state": {
       "description_width": "",
       "font_size": null,
       "text_color": null
      }
     },
     "9affea5c389e4bc9840b9ed92a634f64": {
      "model_module": "@jupyter-widgets/base",
      "model_module_version": "2.0.0",
      "model_name": "LayoutModel",
      "state": {}
     },
     "9b06e66764464be78b179eb1a7d07fef": {
      "model_module": "@jupyter-widgets/controls",
      "model_module_version": "2.0.0",
      "model_name": "HTMLStyleModel",
      "state": {
       "description_width": "",
       "font_size": null,
       "text_color": null
      }
     },
     "9b0a6a32e473414f83fa5f757d0f77de": {
      "model_module": "@jupyter-widgets/base",
      "model_module_version": "2.0.0",
      "model_name": "LayoutModel",
      "state": {}
     },
     "9b1c7525b0de4451aa7af29d89eebc99": {
      "model_module": "@jupyter-widgets/controls",
      "model_module_version": "2.0.0",
      "model_name": "HTMLModel",
      "state": {
       "layout": "IPY_MODEL_ead40d62008c45a98452513bae53a812",
       "style": "IPY_MODEL_6d92e1bf4c034a469e7b8ecfbbd4a993",
       "value": "Epoch 4, Loss: 2.9446: 100%"
      }
     },
     "9b4f2fb82ea24befa988d6e2e5803dd6": {
      "model_module": "@jupyter-widgets/base",
      "model_module_version": "2.0.0",
      "model_name": "LayoutModel",
      "state": {}
     },
     "9b658d67a95a45fc9dd43fc9c195ea73": {
      "model_module": "@jupyter-widgets/controls",
      "model_module_version": "2.0.0",
      "model_name": "HTMLModel",
      "state": {
       "layout": "IPY_MODEL_d3914bab4c2243bcbb69292c0890b1e9",
       "style": "IPY_MODEL_20ca1412ba7b40b083e6ecab9a54e81f",
       "value": " 13/14 [00:01&lt;00:00, 10.33it/s]"
      }
     },
     "9b92e403785e4cf6bc83c74e34dc4c5b": {
      "model_module": "@jupyter-widgets/base",
      "model_module_version": "2.0.0",
      "model_name": "LayoutModel",
      "state": {
       "visibility": "hidden"
      }
     },
     "9ba5f66fda6d4faf81f47d92db0df110": {
      "model_module": "@jupyter-widgets/controls",
      "model_module_version": "2.0.0",
      "model_name": "HTMLModel",
      "state": {
       "layout": "IPY_MODEL_25490a13aa4740f29d98903c9d6fd112",
       "style": "IPY_MODEL_73a5a88fea9b4837a87a94a9bee91675",
       "value": "Epoch 4, Loss: 3.2502: 100%"
      }
     },
     "9bbdd9b985d0476fb15a7f8874239a8d": {
      "model_module": "@jupyter-widgets/controls",
      "model_module_version": "2.0.0",
      "model_name": "HTMLStyleModel",
      "state": {
       "description_width": "",
       "font_size": null,
       "text_color": null
      }
     },
     "9c16ad91bb664c25b48ba1531421e87b": {
      "model_module": "@jupyter-widgets/controls",
      "model_module_version": "2.0.0",
      "model_name": "ProgressStyleModel",
      "state": {
       "description_width": ""
      }
     },
     "9c2924bb67e749fab0bd11460caebbef": {
      "model_module": "@jupyter-widgets/controls",
      "model_module_version": "2.0.0",
      "model_name": "HTMLModel",
      "state": {
       "layout": "IPY_MODEL_5e2acd5f499849edbf47e924212354b8",
       "style": "IPY_MODEL_09854a0a6f024aa59599ad0e0eb84559",
       "value": "Epoch 4, Loss: 3.7271: 100%"
      }
     },
     "9c5263e88318400fa00af52459160fab": {
      "model_module": "@jupyter-widgets/controls",
      "model_module_version": "2.0.0",
      "model_name": "HTMLModel",
      "state": {
       "layout": "IPY_MODEL_ca8a9f6ee90549b98dc037e3d4eb9599",
       "style": "IPY_MODEL_e9aa259be0564d9386d5076099db3059",
       "value": " 63/63 [00:19&lt;00:00,  3.57it/s]"
      }
     },
     "9c75d92f0dcc494c8a10d849b50ced34": {
      "model_module": "@jupyter-widgets/controls",
      "model_module_version": "2.0.0",
      "model_name": "ProgressStyleModel",
      "state": {
       "description_width": ""
      }
     },
     "9ca6faeb170a491497d6e49d7fd23a8c": {
      "model_module": "@jupyter-widgets/base",
      "model_module_version": "2.0.0",
      "model_name": "LayoutModel",
      "state": {}
     },
     "9cdd788130e44891bb581a18faa2ed9e": {
      "model_module": "@jupyter-widgets/controls",
      "model_module_version": "2.0.0",
      "model_name": "HTMLModel",
      "state": {
       "layout": "IPY_MODEL_d6b513e527fc422b9061fcaa52c67de2",
       "style": "IPY_MODEL_f1eb601523524719bcfd7aad8ed2fdad",
       "value": " 14/14 [00:01&lt;00:00, 10.23it/s]"
      }
     },
     "9d00dcff9f89469c8028a4c71ddbec7e": {
      "model_module": "@jupyter-widgets/base",
      "model_module_version": "2.0.0",
      "model_name": "LayoutModel",
      "state": {}
     },
     "9d04677b939d4d6598563b54160b3208": {
      "model_module": "@jupyter-widgets/controls",
      "model_module_version": "2.0.0",
      "model_name": "HTMLModel",
      "state": {
       "layout": "IPY_MODEL_2a7eca220bae49c7aef58c34d15086ee",
       "style": "IPY_MODEL_4926d91e676245bb9050e5b9ecd65892",
       "value": "Epoch 9, Loss: 4.1453:  93%"
      }
     },
     "9d0f4b634a0b43f2b57b3b5229b2cac8": {
      "model_module": "@jupyter-widgets/base",
      "model_module_version": "2.0.0",
      "model_name": "LayoutModel",
      "state": {}
     },
     "9d1c80a5ecc24b9cbc68ad1fd95eb9a1": {
      "model_module": "@jupyter-widgets/controls",
      "model_module_version": "2.0.0",
      "model_name": "HTMLStyleModel",
      "state": {
       "description_width": "",
       "font_size": null,
       "text_color": null
      }
     },
     "9d2a6dc6871940349f6680514cb8f1f1": {
      "model_module": "@jupyter-widgets/base",
      "model_module_version": "2.0.0",
      "model_name": "LayoutModel",
      "state": {}
     },
     "9d3e0935ea2648b4bd1c34a91d353229": {
      "model_module": "@jupyter-widgets/controls",
      "model_module_version": "2.0.0",
      "model_name": "ProgressStyleModel",
      "state": {
       "description_width": ""
      }
     },
     "9d663e257d614c53a937b6ef7700bfee": {
      "model_module": "@jupyter-widgets/base",
      "model_module_version": "2.0.0",
      "model_name": "LayoutModel",
      "state": {}
     },
     "9d747fb447ec476a918f36760fdbf846": {
      "model_module": "@jupyter-widgets/base",
      "model_module_version": "2.0.0",
      "model_name": "LayoutModel",
      "state": {}
     },
     "9dd547d50c844ef3810791a234f67d43": {
      "model_module": "@jupyter-widgets/base",
      "model_module_version": "2.0.0",
      "model_name": "LayoutModel",
      "state": {}
     },
     "9de3995f5cee49e6b0e67418aaaf5c0a": {
      "model_module": "@jupyter-widgets/controls",
      "model_module_version": "2.0.0",
      "model_name": "FloatProgressModel",
      "state": {
       "layout": "IPY_MODEL_67b34b499c854d06acd3015cb63701ad",
       "max": 20,
       "style": "IPY_MODEL_5e1769e19bee4dab8356d80cf45dc00b",
       "value": 20
      }
     },
     "9df0a4b457c244d5838b7573f32adf10": {
      "model_module": "@jupyter-widgets/controls",
      "model_module_version": "2.0.0",
      "model_name": "ProgressStyleModel",
      "state": {
       "description_width": ""
      }
     },
     "9df57e0122a942358aaedc586dd4ee62": {
      "model_module": "@jupyter-widgets/controls",
      "model_module_version": "2.0.0",
      "model_name": "FloatProgressModel",
      "state": {
       "layout": "IPY_MODEL_087e3b7bb026447ab708b9c91c66bac8",
       "max": 14,
       "style": "IPY_MODEL_cf7114f9083f4a17937ce5317aac4cba",
       "value": 14
      }
     },
     "9df85a2e153d4811ab20614c74399a79": {
      "model_module": "@jupyter-widgets/base",
      "model_module_version": "2.0.0",
      "model_name": "LayoutModel",
      "state": {
       "visibility": "hidden"
      }
     },
     "9dfc1bbfb04a46588aec78be73d625e9": {
      "model_module": "@jupyter-widgets/controls",
      "model_module_version": "2.0.0",
      "model_name": "ProgressStyleModel",
      "state": {
       "description_width": ""
      }
     },
     "9e1f166a60ca4962af0b7faa0ed5b281": {
      "model_module": "@jupyter-widgets/base",
      "model_module_version": "2.0.0",
      "model_name": "LayoutModel",
      "state": {
       "visibility": "hidden"
      }
     },
     "9e337622e9c546f38a9951f0b4aae3a2": {
      "model_module": "@jupyter-widgets/base",
      "model_module_version": "2.0.0",
      "model_name": "LayoutModel",
      "state": {}
     },
     "9e3a5a690a8a4215b4a8ed8ae836236e": {
      "model_module": "@jupyter-widgets/base",
      "model_module_version": "2.0.0",
      "model_name": "LayoutModel",
      "state": {}
     },
     "9e42da5be2b64bf484919fee3da1af90": {
      "model_module": "@jupyter-widgets/base",
      "model_module_version": "2.0.0",
      "model_name": "LayoutModel",
      "state": {}
     },
     "9e4b7f41cc8a4545b38ab6ba43a8cf8a": {
      "model_module": "@jupyter-widgets/controls",
      "model_module_version": "2.0.0",
      "model_name": "HTMLStyleModel",
      "state": {
       "description_width": "",
       "font_size": null,
       "text_color": null
      }
     },
     "9e6c11ed9fed4673a5bd8eb65ea0d228": {
      "model_module": "@jupyter-widgets/controls",
      "model_module_version": "2.0.0",
      "model_name": "HTMLStyleModel",
      "state": {
       "description_width": "",
       "font_size": null,
       "text_color": null
      }
     },
     "9e6eb971e80c4b61b23487ed4994d901": {
      "model_module": "@jupyter-widgets/controls",
      "model_module_version": "2.0.0",
      "model_name": "HTMLModel",
      "state": {
       "layout": "IPY_MODEL_028e52f7fef44853a39b09c015218b36",
       "style": "IPY_MODEL_0494193f37f442f2937f05d00edb63e9",
       "value": "Epoch 15, Loss: 3.1677: 100%"
      }
     },
     "9e74046f747049c48e686d23872e45cb": {
      "model_module": "@jupyter-widgets/controls",
      "model_module_version": "2.0.0",
      "model_name": "ProgressStyleModel",
      "state": {
       "description_width": ""
      }
     },
     "9e8e3d3ede75415488f3e39973727507": {
      "model_module": "@jupyter-widgets/base",
      "model_module_version": "2.0.0",
      "model_name": "LayoutModel",
      "state": {}
     },
     "9edfec0d57084c20be13edb277103726": {
      "model_module": "@jupyter-widgets/controls",
      "model_module_version": "2.0.0",
      "model_name": "HTMLStyleModel",
      "state": {
       "description_width": "",
       "font_size": null,
       "text_color": null
      }
     },
     "9ef59b05feb24b0f8357bc33d5d78392": {
      "model_module": "@jupyter-widgets/controls",
      "model_module_version": "2.0.0",
      "model_name": "HTMLStyleModel",
      "state": {
       "description_width": "",
       "font_size": null,
       "text_color": null
      }
     },
     "9f052dea51d54e5588821581d9805fc3": {
      "model_module": "@jupyter-widgets/controls",
      "model_module_version": "2.0.0",
      "model_name": "HTMLModel",
      "state": {
       "layout": "IPY_MODEL_2964ae580869457191592b57817b1f84",
       "style": "IPY_MODEL_dd54e621263643d2a32f7d7ad38a48b8",
       "value": "Epoch 7, Loss: 3.4495: 100%"
      }
     },
     "9f0abcd8a8a04bbf8386848c1f83afc5": {
      "model_module": "@jupyter-widgets/base",
      "model_module_version": "2.0.0",
      "model_name": "LayoutModel",
      "state": {
       "visibility": "hidden"
      }
     },
     "9f143184d36f4beaa52e0c550b92c812": {
      "model_module": "@jupyter-widgets/controls",
      "model_module_version": "2.0.0",
      "model_name": "FloatProgressModel",
      "state": {
       "layout": "IPY_MODEL_ba7bd6e58561400c97e2a940fd188e4b",
       "max": 32,
       "style": "IPY_MODEL_1fc36db3bf6f4df780b9eba997e88176",
       "value": 32
      }
     },
     "9f2d87a565844e328d329eb1c9a00a9f": {
      "model_module": "@jupyter-widgets/controls",
      "model_module_version": "2.0.0",
      "model_name": "HTMLModel",
      "state": {
       "layout": "IPY_MODEL_41ec9bbf3f1c4cb2af0c5de3eddaff12",
       "style": "IPY_MODEL_400bc74d86524c9995e615dc83b1ba42",
       "value": " 32/32 [00:11&lt;00:00,  3.13it/s]"
      }
     },
     "9f545af650464710bd307ef8c0fd4fd1": {
      "model_module": "@jupyter-widgets/base",
      "model_module_version": "2.0.0",
      "model_name": "LayoutModel",
      "state": {}
     },
     "9f811d6def6c48e2bcb79e43f1dd7102": {
      "model_module": "@jupyter-widgets/controls",
      "model_module_version": "2.0.0",
      "model_name": "HTMLStyleModel",
      "state": {
       "description_width": "",
       "font_size": null,
       "text_color": null
      }
     },
     "9f83adea43af4dfba87db5783f0155d0": {
      "model_module": "@jupyter-widgets/controls",
      "model_module_version": "2.0.0",
      "model_name": "ProgressStyleModel",
      "state": {
       "description_width": ""
      }
     },
     "9fa2466894cc4f7fb86850b83df962f7": {
      "model_module": "@jupyter-widgets/controls",
      "model_module_version": "2.0.0",
      "model_name": "HTMLModel",
      "state": {
       "layout": "IPY_MODEL_6b25533f7a764b8fadc97baf7ffd1ee6",
       "style": "IPY_MODEL_16d9d3d85618400bb2e6aab52fb9f279",
       "value": " 32/32 [00:10&lt;00:00,  3.30it/s]"
      }
     },
     "9ff6d2cddf834bf4a129e72a0fe5919b": {
      "model_module": "@jupyter-widgets/base",
      "model_module_version": "2.0.0",
      "model_name": "LayoutModel",
      "state": {}
     },
     "a010870f108e464b8b90a8cee8b507fa": {
      "model_module": "@jupyter-widgets/controls",
      "model_module_version": "2.0.0",
      "model_name": "HTMLModel",
      "state": {
       "layout": "IPY_MODEL_02c570a8cf154e48aaac4ef42ca6d44f",
       "style": "IPY_MODEL_0d1a5cd41e1a4c87827c102627e47c0f",
       "value": "Epoch 1, Loss: 2.8433: 100%"
      }
     },
     "a01f67e5956340c2bf1e43d04c5d57bf": {
      "model_module": "@jupyter-widgets/controls",
      "model_module_version": "2.0.0",
      "model_name": "HTMLStyleModel",
      "state": {
       "description_width": "",
       "font_size": null,
       "text_color": null
      }
     },
     "a0203acae1d744ae9525df99949bf747": {
      "model_module": "@jupyter-widgets/controls",
      "model_module_version": "2.0.0",
      "model_name": "HTMLStyleModel",
      "state": {
       "description_width": "",
       "font_size": null,
       "text_color": null
      }
     },
     "a021eb17d6794fdda769a8b41296c199": {
      "model_module": "@jupyter-widgets/controls",
      "model_module_version": "2.0.0",
      "model_name": "HTMLModel",
      "state": {
       "layout": "IPY_MODEL_48dc94a1106f4bea8d91db5088b21b0e",
       "style": "IPY_MODEL_006b5ca9f2934f91b5dfd89a2affc118",
       "value": "Epoch 6, Loss: 2.8861: 100%"
      }
     },
     "a037a43c7a4245888482f046e942e3d0": {
      "model_module": "@jupyter-widgets/controls",
      "model_module_version": "2.0.0",
      "model_name": "ProgressStyleModel",
      "state": {
       "description_width": ""
      }
     },
     "a061ac9386e4456cb60a0435ee3ba1b6": {
      "model_module": "@jupyter-widgets/controls",
      "model_module_version": "2.0.0",
      "model_name": "HTMLModel",
      "state": {
       "layout": "IPY_MODEL_9973027451354f7f856fe641d304fc6f",
       "style": "IPY_MODEL_54fbc9d99e2d4ce68218a20471e582eb",
       "value": "Epoch 17, Loss: 2.0845: 100%"
      }
     },
     "a07bc569978046b6b0e9a98772090b32": {
      "model_module": "@jupyter-widgets/base",
      "model_module_version": "2.0.0",
      "model_name": "LayoutModel",
      "state": {
       "visibility": "hidden"
      }
     },
     "a0a81963fc894c92b54aed1edbf37159": {
      "model_module": "@jupyter-widgets/controls",
      "model_module_version": "2.0.0",
      "model_name": "HTMLStyleModel",
      "state": {
       "description_width": "",
       "font_size": null,
       "text_color": null
      }
     },
     "a0bf99e928244161a54485b4a74b7e09": {
      "model_module": "@jupyter-widgets/controls",
      "model_module_version": "2.0.0",
      "model_name": "HTMLStyleModel",
      "state": {
       "description_width": "",
       "font_size": null,
       "text_color": null
      }
     },
     "a0e7f995563e49f3a482d485bced3fbc": {
      "model_module": "@jupyter-widgets/base",
      "model_module_version": "2.0.0",
      "model_name": "LayoutModel",
      "state": {}
     },
     "a0fbcfe61305466b9a3cdcd291d867be": {
      "model_module": "@jupyter-widgets/controls",
      "model_module_version": "2.0.0",
      "model_name": "ProgressStyleModel",
      "state": {
       "description_width": ""
      }
     },
     "a15fcbba11ab4ae09aef83aa7c563134": {
      "model_module": "@jupyter-widgets/controls",
      "model_module_version": "2.0.0",
      "model_name": "FloatProgressModel",
      "state": {
       "layout": "IPY_MODEL_54ce58223648414a9f188b87492093aa",
       "max": 14,
       "style": "IPY_MODEL_fe09273d3c934fd3922368ded66b7dbc",
       "value": 14
      }
     },
     "a18e65aac31f4c9ba3270e3ccb5bd397": {
      "model_module": "@jupyter-widgets/controls",
      "model_module_version": "2.0.0",
      "model_name": "FloatProgressModel",
      "state": {
       "layout": "IPY_MODEL_86aa993d008e458dbb532c6cb1fc619c",
       "max": 77,
       "style": "IPY_MODEL_2e1ef18d4d4c458e9c4dac726c2e1572",
       "value": 77
      }
     },
     "a197d5e9f7634e0f94dcffa4a959f200": {
      "model_module": "@jupyter-widgets/controls",
      "model_module_version": "2.0.0",
      "model_name": "HTMLStyleModel",
      "state": {
       "description_width": "",
       "font_size": null,
       "text_color": null
      }
     },
     "a1c04dc36dba495aa3dc5f06de794319": {
      "model_module": "@jupyter-widgets/controls",
      "model_module_version": "2.0.0",
      "model_name": "FloatProgressModel",
      "state": {
       "layout": "IPY_MODEL_6926609e17d742c1a9de6e8bad42bdcd",
       "max": 32,
       "style": "IPY_MODEL_1d862eef1bab4d6aa78e3d2ccdc108ae",
       "value": 32
      }
     },
     "a22a86796b8949ffbbde0dd8e5b48f59": {
      "model_module": "@jupyter-widgets/controls",
      "model_module_version": "2.0.0",
      "model_name": "HTMLModel",
      "state": {
       "layout": "IPY_MODEL_fb55bf730c774104ae9bfbd74155e1d5",
       "style": "IPY_MODEL_f087935a122743b3a01104c385c539e6",
       "value": "Epoch 14, Loss: 2.2160: 100%"
      }
     },
     "a233677100d54d4f9dd6ab17a7585b62": {
      "model_module": "@jupyter-widgets/base",
      "model_module_version": "2.0.0",
      "model_name": "LayoutModel",
      "state": {}
     },
     "a2503012197f45d89d59c6c47cf47a62": {
      "model_module": "@jupyter-widgets/controls",
      "model_module_version": "2.0.0",
      "model_name": "ProgressStyleModel",
      "state": {
       "description_width": ""
      }
     },
     "a252cdc81ce64403aaa8993e602fa8f8": {
      "model_module": "@jupyter-widgets/base",
      "model_module_version": "2.0.0",
      "model_name": "LayoutModel",
      "state": {}
     },
     "a263f5a1a6f341edac52476e3e5cc805": {
      "model_module": "@jupyter-widgets/controls",
      "model_module_version": "2.0.0",
      "model_name": "HTMLModel",
      "state": {
       "layout": "IPY_MODEL_013758bf6f2347a589f2e83b9c179541",
       "style": "IPY_MODEL_36ccb4e95544488191d63f8b63e69d9c",
       "value": " 77/77 [00:23&lt;00:00,  3.54it/s]"
      }
     },
     "a26a28f13fd7474bb5a2ea00e30ebed1": {
      "model_module": "@jupyter-widgets/controls",
      "model_module_version": "2.0.0",
      "model_name": "HTMLModel",
      "state": {
       "layout": "IPY_MODEL_4f81922024ba456bad70a9ce00115908",
       "style": "IPY_MODEL_1eca33f17a70420eb53b39d39f6b98ac",
       "value": "Epoch 1, Loss: 3.0033: 100%"
      }
     },
     "a278db79668d4276b16134df2c03e59c": {
      "model_module": "@jupyter-widgets/controls",
      "model_module_version": "2.0.0",
      "model_name": "HTMLStyleModel",
      "state": {
       "description_width": "",
       "font_size": null,
       "text_color": null
      }
     },
     "a2bb0f90b5e2469d8bab6c9c46453869": {
      "model_module": "@jupyter-widgets/controls",
      "model_module_version": "2.0.0",
      "model_name": "ProgressStyleModel",
      "state": {
       "description_width": ""
      }
     },
     "a2ff4eda7b57414fb8e6dfa119e56652": {
      "model_module": "@jupyter-widgets/controls",
      "model_module_version": "2.0.0",
      "model_name": "HTMLModel",
      "state": {
       "layout": "IPY_MODEL_2d0180e9ac404ccdbb9c3ff73a02431f",
       "style": "IPY_MODEL_9b06e66764464be78b179eb1a7d07fef",
       "value": " 32/32 [00:09&lt;00:00,  3.38it/s]"
      }
     },
     "a30188e86e4e4ac0ae6e693b9076ee3f": {
      "model_module": "@jupyter-widgets/base",
      "model_module_version": "2.0.0",
      "model_name": "LayoutModel",
      "state": {
       "visibility": "hidden"
      }
     },
     "a32e42fb3d054c21946c31710cd0dc92": {
      "model_module": "@jupyter-widgets/controls",
      "model_module_version": "2.0.0",
      "model_name": "FloatProgressModel",
      "state": {
       "layout": "IPY_MODEL_0017a93588be4f19a862f7a7c8d48b37",
       "max": 27,
       "style": "IPY_MODEL_33391c63123943adb0ab44c1b17b40af",
       "value": 27
      }
     },
     "a34c59c033a243c9a4e2bf5af7b1065d": {
      "model_module": "@jupyter-widgets/controls",
      "model_module_version": "2.0.0",
      "model_name": "FloatProgressModel",
      "state": {
       "layout": "IPY_MODEL_7768d2b3660d44c5967b7021c25b11ad",
       "max": 77,
       "style": "IPY_MODEL_9751454a20934e53a33a3773f74ce489",
       "value": 77
      }
     },
     "a360b436fc784532a11b4f87fd2208dd": {
      "model_module": "@jupyter-widgets/controls",
      "model_module_version": "2.0.0",
      "model_name": "HTMLStyleModel",
      "state": {
       "description_width": "",
       "font_size": null,
       "text_color": null
      }
     },
     "a367c824f4a84122b934660426c13a8f": {
      "model_module": "@jupyter-widgets/base",
      "model_module_version": "2.0.0",
      "model_name": "LayoutModel",
      "state": {}
     },
     "a37dee74a49a433aa2a947e0eb8d4ee1": {
      "model_module": "@jupyter-widgets/base",
      "model_module_version": "2.0.0",
      "model_name": "LayoutModel",
      "state": {}
     },
     "a3ac6ecd0aad4e24b66e3045f7b10ea3": {
      "model_module": "@jupyter-widgets/base",
      "model_module_version": "2.0.0",
      "model_name": "LayoutModel",
      "state": {}
     },
     "a3b6ac9522754fa1a0406db43a51cdad": {
      "model_module": "@jupyter-widgets/base",
      "model_module_version": "2.0.0",
      "model_name": "LayoutModel",
      "state": {}
     },
     "a3c531d7fe3441eca0c7d3e83f565e7c": {
      "model_module": "@jupyter-widgets/base",
      "model_module_version": "2.0.0",
      "model_name": "LayoutModel",
      "state": {}
     },
     "a3eebe7043ef4c7ab6d81367c664b636": {
      "model_module": "@jupyter-widgets/base",
      "model_module_version": "2.0.0",
      "model_name": "LayoutModel",
      "state": {}
     },
     "a3f52d2742714fae99b61cdbd9c25af7": {
      "model_module": "@jupyter-widgets/controls",
      "model_module_version": "2.0.0",
      "model_name": "HTMLModel",
      "state": {
       "layout": "IPY_MODEL_184a40b3222d47f48bff7e6f34b5895d",
       "style": "IPY_MODEL_b5cfbe88ba4e4b47b9317ade94bd8776",
       "value": "Epoch 5, Loss: 3.5026:  96%"
      }
     },
     "a40c38d110c5405fa12cec96e7557ab8": {
      "model_module": "@jupyter-widgets/controls",
      "model_module_version": "2.0.0",
      "model_name": "FloatProgressModel",
      "state": {
       "layout": "IPY_MODEL_430747ccab924905ae3507dcb4ce753e",
       "max": 32,
       "style": "IPY_MODEL_4b47b11b0d78409f855deefe60e5c93b",
       "value": 32
      }
     },
     "a4263c946b5944c1b94a213a562a825d": {
      "model_module": "@jupyter-widgets/base",
      "model_module_version": "2.0.0",
      "model_name": "LayoutModel",
      "state": {}
     },
     "a4293fd2447343b9b9121d2504c46df0": {
      "model_module": "@jupyter-widgets/controls",
      "model_module_version": "2.0.0",
      "model_name": "HTMLModel",
      "state": {
       "layout": "IPY_MODEL_6f8a1f97ec6c4103951d99de5742ac69",
       "style": "IPY_MODEL_d829faa744304d7c9136e71ae4470226",
       "value": "Epoch 19, Loss: 2.0131: 100%"
      }
     },
     "a44c261417694153964be18f8666e248": {
      "model_module": "@jupyter-widgets/controls",
      "model_module_version": "2.0.0",
      "model_name": "HTMLStyleModel",
      "state": {
       "description_width": "",
       "font_size": null,
       "text_color": null
      }
     },
     "a464a33508e148138444d2c48daeca6c": {
      "model_module": "@jupyter-widgets/base",
      "model_module_version": "2.0.0",
      "model_name": "LayoutModel",
      "state": {}
     },
     "a46680de93964a6e8332436c92c0b6e9": {
      "model_module": "@jupyter-widgets/controls",
      "model_module_version": "2.0.0",
      "model_name": "HTMLStyleModel",
      "state": {
       "description_width": "",
       "font_size": null,
       "text_color": null
      }
     },
     "a467811a102e40abac2f96e10e209020": {
      "model_module": "@jupyter-widgets/controls",
      "model_module_version": "2.0.0",
      "model_name": "HTMLModel",
      "state": {
       "layout": "IPY_MODEL_4ff0129e869f44bca4973d2f393cb93c",
       "style": "IPY_MODEL_6be73c6f1d4348949bceaac87205040f",
       "value": " 32/32 [00:09&lt;00:00,  3.45it/s]"
      }
     },
     "a47629e4f03549f4991b8b031008f9db": {
      "model_module": "@jupyter-widgets/controls",
      "model_module_version": "2.0.0",
      "model_name": "FloatProgressModel",
      "state": {
       "layout": "IPY_MODEL_e822216b747143dd9739cf8380fc6883",
       "max": 20,
       "style": "IPY_MODEL_0cae38ef8c5e4284afcaf90dba1fef96",
       "value": 20
      }
     },
     "a48e25ae75e24a0b9aa60329ee389db5": {
      "model_module": "@jupyter-widgets/controls",
      "model_module_version": "2.0.0",
      "model_name": "HTMLModel",
      "state": {
       "layout": "IPY_MODEL_b68e464be3cb4156bd8b5fba6143fb78",
       "style": "IPY_MODEL_081da3b69b1747739bc07876e3aa5b8f",
       "value": " 63/63 [00:21&lt;00:00,  3.17it/s]"
      }
     },
     "a4990a181c6e4dfebf89b10d64bfb588": {
      "model_module": "@jupyter-widgets/controls",
      "model_module_version": "2.0.0",
      "model_name": "HTMLModel",
      "state": {
       "layout": "IPY_MODEL_1018c354021448229eb18cc1884269ae",
       "style": "IPY_MODEL_697e461283b74aa382008227276c1893",
       "value": "Epoch 7, Loss: 3.0597:  93%"
      }
     },
     "a4b9accdb63043318a7ff2d4638c5d0c": {
      "model_module": "@jupyter-widgets/controls",
      "model_module_version": "2.0.0",
      "model_name": "HTMLStyleModel",
      "state": {
       "description_width": "",
       "font_size": null,
       "text_color": null
      }
     },
     "a4e000be742b4a2a8373519fa752a43b": {
      "model_module": "@jupyter-widgets/controls",
      "model_module_version": "2.0.0",
      "model_name": "HTMLModel",
      "state": {
       "layout": "IPY_MODEL_9d2a6dc6871940349f6680514cb8f1f1",
       "style": "IPY_MODEL_4e474130b5714abd85ce2214c8c66a01",
       "value": "Epoch 7, Loss: 2.1690: 100%"
      }
     },
     "a4ef666456a24056a232765b015e5450": {
      "model_module": "@jupyter-widgets/controls",
      "model_module_version": "2.0.0",
      "model_name": "ProgressStyleModel",
      "state": {
       "description_width": ""
      }
     },
     "a4f6f8c9d0de4301bb3ccf6db28dc6d4": {
      "model_module": "@jupyter-widgets/controls",
      "model_module_version": "2.0.0",
      "model_name": "ProgressStyleModel",
      "state": {
       "description_width": ""
      }
     },
     "a50bb6c1a87545a5b144462c39dada11": {
      "model_module": "@jupyter-widgets/controls",
      "model_module_version": "2.0.0",
      "model_name": "FloatProgressModel",
      "state": {
       "layout": "IPY_MODEL_83b79efcd4794d7b8b6c1b3149b09211",
       "max": 32,
       "style": "IPY_MODEL_cc8e187b0cbb4150900ccfb92cf48c82",
       "value": 32
      }
     },
     "a520ef2ef61a428481fdcbfb35b70076": {
      "model_module": "@jupyter-widgets/controls",
      "model_module_version": "2.0.0",
      "model_name": "HTMLModel",
      "state": {
       "layout": "IPY_MODEL_e22980b773cd4b3dba31d63a72ba1a00",
       "style": "IPY_MODEL_b59fc6b5ce824d759884d179fd2bd86c",
       "value": " 14/14 [00:01&lt;00:00, 10.56it/s]"
      }
     },
     "a53aca61d4b54da1894e0a7fa810c305": {
      "model_module": "@jupyter-widgets/controls",
      "model_module_version": "2.0.0",
      "model_name": "HTMLStyleModel",
      "state": {
       "description_width": "",
       "font_size": null,
       "text_color": null
      }
     },
     "a54380965f8b432db13c6722980fa65b": {
      "model_module": "@jupyter-widgets/base",
      "model_module_version": "2.0.0",
      "model_name": "LayoutModel",
      "state": {}
     },
     "a54a3faf637c48dd9bb0d183818f29e3": {
      "model_module": "@jupyter-widgets/base",
      "model_module_version": "2.0.0",
      "model_name": "LayoutModel",
      "state": {}
     },
     "a54b256f2c5b400986d2a85bcd00c946": {
      "model_module": "@jupyter-widgets/base",
      "model_module_version": "2.0.0",
      "model_name": "LayoutModel",
      "state": {
       "visibility": "hidden"
      }
     },
     "a5519c48093e455db659bc2ced9f0bcb": {
      "model_module": "@jupyter-widgets/controls",
      "model_module_version": "2.0.0",
      "model_name": "HTMLStyleModel",
      "state": {
       "description_width": "",
       "font_size": null,
       "text_color": null
      }
     },
     "a55a1d513e9f4afe90a0e8da4a973c01": {
      "model_module": "@jupyter-widgets/controls",
      "model_module_version": "2.0.0",
      "model_name": "HTMLStyleModel",
      "state": {
       "description_width": "",
       "font_size": null,
       "text_color": null
      }
     },
     "a5820c7a392e44f1a79e77fb7b7bcdce": {
      "model_module": "@jupyter-widgets/controls",
      "model_module_version": "2.0.0",
      "model_name": "ProgressStyleModel",
      "state": {
       "description_width": ""
      }
     },
     "a59bf54f4c8e40d0ac3e1c64d3e7b8ba": {
      "model_module": "@jupyter-widgets/base",
      "model_module_version": "2.0.0",
      "model_name": "LayoutModel",
      "state": {}
     },
     "a5aba2bdd1664bf0826a02b132473e98": {
      "model_module": "@jupyter-widgets/base",
      "model_module_version": "2.0.0",
      "model_name": "LayoutModel",
      "state": {}
     },
     "a5d0e2bad41946e6a29effa5ff324069": {
      "model_module": "@jupyter-widgets/controls",
      "model_module_version": "2.0.0",
      "model_name": "HTMLStyleModel",
      "state": {
       "description_width": "",
       "font_size": null,
       "text_color": null
      }
     },
     "a5d24146cf424ce48f1c9bb093eaaa82": {
      "model_module": "@jupyter-widgets/controls",
      "model_module_version": "2.0.0",
      "model_name": "HTMLStyleModel",
      "state": {
       "description_width": "",
       "font_size": null,
       "text_color": null
      }
     },
     "a5d29ad0fbcf401087f5b682923f4eac": {
      "model_module": "@jupyter-widgets/controls",
      "model_module_version": "2.0.0",
      "model_name": "HTMLStyleModel",
      "state": {
       "description_width": "",
       "font_size": null,
       "text_color": null
      }
     },
     "a5e9dc7b11ce4411917815c84423e436": {
      "model_module": "@jupyter-widgets/controls",
      "model_module_version": "2.0.0",
      "model_name": "HTMLModel",
      "state": {
       "layout": "IPY_MODEL_f188c706dac8490cb93fa557fb7347c4",
       "style": "IPY_MODEL_061e43f1349d49e68d7a1a53c1f091a7",
       "value": "Epoch 14, Loss: 4.0088: 100%"
      }
     },
     "a6273022bcf44a93a808db73762c9f8c": {
      "model_module": "@jupyter-widgets/base",
      "model_module_version": "2.0.0",
      "model_name": "LayoutModel",
      "state": {}
     },
     "a62ebd95d12d40dfbe5be8762350f146": {
      "model_module": "@jupyter-widgets/base",
      "model_module_version": "2.0.0",
      "model_name": "LayoutModel",
      "state": {}
     },
     "a6510669d5a14c3989e675b2d699b5f9": {
      "model_module": "@jupyter-widgets/controls",
      "model_module_version": "2.0.0",
      "model_name": "HTMLStyleModel",
      "state": {
       "description_width": "",
       "font_size": null,
       "text_color": null
      }
     },
     "a65dd03511d74506859be694a1d29117": {
      "model_module": "@jupyter-widgets/controls",
      "model_module_version": "2.0.0",
      "model_name": "ProgressStyleModel",
      "state": {
       "description_width": ""
      }
     },
     "a6809c2f05e142cca7441374471be8ec": {
      "model_module": "@jupyter-widgets/base",
      "model_module_version": "2.0.0",
      "model_name": "LayoutModel",
      "state": {}
     },
     "a68a281ca1ac4ea8848bed4feddf037e": {
      "model_module": "@jupyter-widgets/base",
      "model_module_version": "2.0.0",
      "model_name": "LayoutModel",
      "state": {}
     },
     "a68aafc6dc5840ba9cea084152dde04d": {
      "model_module": "@jupyter-widgets/controls",
      "model_module_version": "2.0.0",
      "model_name": "ProgressStyleModel",
      "state": {
       "description_width": ""
      }
     },
     "a693fb2f211c4cd6b3dcc01b1094862a": {
      "model_module": "@jupyter-widgets/controls",
      "model_module_version": "2.0.0",
      "model_name": "HTMLStyleModel",
      "state": {
       "description_width": "",
       "font_size": null,
       "text_color": null
      }
     },
     "a6cc4d3786a249c69946bc9b1bcc1fe9": {
      "model_module": "@jupyter-widgets/base",
      "model_module_version": "2.0.0",
      "model_name": "LayoutModel",
      "state": {}
     },
     "a6dba47351324a8fb9648423260248db": {
      "model_module": "@jupyter-widgets/base",
      "model_module_version": "2.0.0",
      "model_name": "LayoutModel",
      "state": {}
     },
     "a714a99cf2a14aa8b0a55863a76269c2": {
      "model_module": "@jupyter-widgets/base",
      "model_module_version": "2.0.0",
      "model_name": "LayoutModel",
      "state": {}
     },
     "a715bc7e9a334ff9b3d0f9e35220dc30": {
      "model_module": "@jupyter-widgets/base",
      "model_module_version": "2.0.0",
      "model_name": "LayoutModel",
      "state": {
       "visibility": "hidden"
      }
     },
     "a720901620014a29aa90a3b26ffc474c": {
      "model_module": "@jupyter-widgets/base",
      "model_module_version": "2.0.0",
      "model_name": "LayoutModel",
      "state": {}
     },
     "a7305cee58c64c969a1c371ca5b97c75": {
      "model_module": "@jupyter-widgets/base",
      "model_module_version": "2.0.0",
      "model_name": "LayoutModel",
      "state": {}
     },
     "a7675f53b224452394cd011ad749e6bd": {
      "model_module": "@jupyter-widgets/base",
      "model_module_version": "2.0.0",
      "model_name": "LayoutModel",
      "state": {}
     },
     "a76a789f095b4642a118e10597d2fb8f": {
      "model_module": "@jupyter-widgets/base",
      "model_module_version": "2.0.0",
      "model_name": "LayoutModel",
      "state": {}
     },
     "a78bfa0bef214f8f99b06d9d81df771c": {
      "model_module": "@jupyter-widgets/controls",
      "model_module_version": "2.0.0",
      "model_name": "HTMLModel",
      "state": {
       "layout": "IPY_MODEL_63bc8a9036f14ab88cabcb81f941793c",
       "style": "IPY_MODEL_a0203acae1d744ae9525df99949bf747",
       "value": " 32/32 [00:09&lt;00:00,  3.52it/s]"
      }
     },
     "a7d54585fff8414b9c94d6ff677aa132": {
      "model_module": "@jupyter-widgets/controls",
      "model_module_version": "2.0.0",
      "model_name": "HTMLStyleModel",
      "state": {
       "description_width": "",
       "font_size": null,
       "text_color": null
      }
     },
     "a7dd6afc67d04298827dae9fb228c8f8": {
      "model_module": "@jupyter-widgets/controls",
      "model_module_version": "2.0.0",
      "model_name": "HTMLStyleModel",
      "state": {
       "description_width": "",
       "font_size": null,
       "text_color": null
      }
     },
     "a7e7abee0f4e46fe90e842fa578f057c": {
      "model_module": "@jupyter-widgets/controls",
      "model_module_version": "2.0.0",
      "model_name": "HTMLModel",
      "state": {
       "layout": "IPY_MODEL_a4263c946b5944c1b94a213a562a825d",
       "style": "IPY_MODEL_fde65eaefe5f447392c44babf5c9bd90",
       "value": " 77/77 [00:24&lt;00:00,  3.48it/s]"
      }
     },
     "a807ffd9da1843fea02f877187c80223": {
      "model_module": "@jupyter-widgets/controls",
      "model_module_version": "2.0.0",
      "model_name": "HTMLModel",
      "state": {
       "layout": "IPY_MODEL_7fea5331ff864c9e8dcc514a38c9b3f7",
       "style": "IPY_MODEL_2ea78ca88b2e44e7aa26b7fe19713758",
       "value": " 14/14 [00:01&lt;00:00, 10.48it/s]"
      }
     },
     "a811eb038760433c887b309799110b9a": {
      "model_module": "@jupyter-widgets/base",
      "model_module_version": "2.0.0",
      "model_name": "LayoutModel",
      "state": {}
     },
     "a8642c082b844e93ab34134a35fa593f": {
      "model_module": "@jupyter-widgets/base",
      "model_module_version": "2.0.0",
      "model_name": "LayoutModel",
      "state": {}
     },
     "a879edc311624093b2c1198908f72c00": {
      "model_module": "@jupyter-widgets/controls",
      "model_module_version": "2.0.0",
      "model_name": "HTMLStyleModel",
      "state": {
       "description_width": "",
       "font_size": null,
       "text_color": null
      }
     },
     "a883022a0483400b9e55babe11bd0515": {
      "model_module": "@jupyter-widgets/controls",
      "model_module_version": "2.0.0",
      "model_name": "ProgressStyleModel",
      "state": {
       "description_width": ""
      }
     },
     "a884146bee4347e5802de281afe3be1b": {
      "model_module": "@jupyter-widgets/base",
      "model_module_version": "2.0.0",
      "model_name": "LayoutModel",
      "state": {}
     },
     "a893753b53684482bfedd9a6d93ad4c7": {
      "model_module": "@jupyter-widgets/controls",
      "model_module_version": "2.0.0",
      "model_name": "HTMLStyleModel",
      "state": {
       "description_width": "",
       "font_size": null,
       "text_color": null
      }
     },
     "a8973a93df2646e5946eda92a85d04d8": {
      "model_module": "@jupyter-widgets/controls",
      "model_module_version": "2.0.0",
      "model_name": "HTMLModel",
      "state": {
       "layout": "IPY_MODEL_b9407eddc51644b79d8ae26b75779a67",
       "style": "IPY_MODEL_81112df3fc7c473d86b3a0714d1132e3",
       "value": "Epoch 16, Loss: 2.2226: 100%"
      }
     },
     "a8d0196154b5423ab686e06aeed6f1c4": {
      "model_module": "@jupyter-widgets/controls",
      "model_module_version": "2.0.0",
      "model_name": "HTMLModel",
      "state": {
       "layout": "IPY_MODEL_fba7d4be7e2249e9a8ef9959e80a7698",
       "style": "IPY_MODEL_87dc3c337eec4ec9ad842d78d56b98bb",
       "value": " 14/14 [00:01&lt;00:00, 10.27it/s]"
      }
     },
     "a9089974e15b4eab9a6c09eeb767b617": {
      "model_module": "@jupyter-widgets/controls",
      "model_module_version": "2.0.0",
      "model_name": "HTMLStyleModel",
      "state": {
       "description_width": "",
       "font_size": null,
       "text_color": null
      }
     },
     "a92098a0feae42b1a61a355d99bd2d9c": {
      "model_module": "@jupyter-widgets/base",
      "model_module_version": "2.0.0",
      "model_name": "LayoutModel",
      "state": {
       "visibility": "hidden"
      }
     },
     "a9530faabe8c46acb593269934e6d700": {
      "model_module": "@jupyter-widgets/base",
      "model_module_version": "2.0.0",
      "model_name": "LayoutModel",
      "state": {}
     },
     "a95b3f7e7dbd432b90908067b3ae0265": {
      "model_module": "@jupyter-widgets/base",
      "model_module_version": "2.0.0",
      "model_name": "LayoutModel",
      "state": {
       "visibility": "hidden"
      }
     },
     "a96a0619716f47a4a777aa3071198a81": {
      "model_module": "@jupyter-widgets/controls",
      "model_module_version": "2.0.0",
      "model_name": "FloatProgressModel",
      "state": {
       "layout": "IPY_MODEL_5117cadb53094d4c8a718c4ba1c1fffa",
       "max": 63,
       "style": "IPY_MODEL_dd84acce22084056994c3409f21d256c",
       "value": 63
      }
     },
     "a9775aa695f94ff8b291745a9f078c95": {
      "model_module": "@jupyter-widgets/controls",
      "model_module_version": "2.0.0",
      "model_name": "HTMLModel",
      "state": {
       "layout": "IPY_MODEL_cde5e10fb6a6406ea8311becc0250784",
       "style": "IPY_MODEL_f6cfa5d5daf84d7987f86bcfc37dbe86",
       "value": " 32/32 [00:10&lt;00:00,  3.34it/s]"
      }
     },
     "a9819137467b469dbfb2258d2fcce6dc": {
      "model_module": "@jupyter-widgets/base",
      "model_module_version": "2.0.0",
      "model_name": "LayoutModel",
      "state": {}
     },
     "a9a3aa196f414b69adb778a28a07e8e4": {
      "model_module": "@jupyter-widgets/controls",
      "model_module_version": "2.0.0",
      "model_name": "ProgressStyleModel",
      "state": {
       "description_width": ""
      }
     },
     "a9a73829f01b40c18136225682a0a2fe": {
      "model_module": "@jupyter-widgets/controls",
      "model_module_version": "2.0.0",
      "model_name": "HTMLStyleModel",
      "state": {
       "description_width": "",
       "font_size": null,
       "text_color": null
      }
     },
     "a9ba36c8563e49df9f1ecda51436b57d": {
      "model_module": "@jupyter-widgets/controls",
      "model_module_version": "2.0.0",
      "model_name": "FloatProgressModel",
      "state": {
       "layout": "IPY_MODEL_146f6c0369f545aaa933bde365a13805",
       "max": 27,
       "style": "IPY_MODEL_c07b8a81f8324c35841f0af92773d40c",
       "value": 27
      }
     },
     "a9c806bfc76641d3bc5e20e965f8a70c": {
      "model_module": "@jupyter-widgets/controls",
      "model_module_version": "2.0.0",
      "model_name": "FloatProgressModel",
      "state": {
       "layout": "IPY_MODEL_118c0c82ea69419cb13b5fc1f5aad3df",
       "max": 63,
       "style": "IPY_MODEL_d350e110694e41359788454d5174fd3a",
       "value": 63
      }
     },
     "a9c92759c5244eb68d99367aa3cf5c7f": {
      "model_module": "@jupyter-widgets/controls",
      "model_module_version": "2.0.0",
      "model_name": "FloatProgressModel",
      "state": {
       "layout": "IPY_MODEL_7aba4a80238846d09682056676df5e64",
       "max": 77,
       "style": "IPY_MODEL_98dfc2b353894cd2a9a1d4f573004830",
       "value": 77
      }
     },
     "aa131f84da3f4d0a9fb3bbba194f0899": {
      "model_module": "@jupyter-widgets/controls",
      "model_module_version": "2.0.0",
      "model_name": "HTMLStyleModel",
      "state": {
       "description_width": "",
       "font_size": null,
       "text_color": null
      }
     },
     "aa1920ceffe84a06a0c691fd3aee7e80": {
      "model_module": "@jupyter-widgets/base",
      "model_module_version": "2.0.0",
      "model_name": "LayoutModel",
      "state": {}
     },
     "aa269f9450fe4841838eda2dd9684ff3": {
      "model_module": "@jupyter-widgets/base",
      "model_module_version": "2.0.0",
      "model_name": "LayoutModel",
      "state": {}
     },
     "aa4f9fe3b96d49a591cc29b8aca21d5f": {
      "model_module": "@jupyter-widgets/base",
      "model_module_version": "2.0.0",
      "model_name": "LayoutModel",
      "state": {}
     },
     "aa5c03bfd77241adb517c593821e7c21": {
      "model_module": "@jupyter-widgets/base",
      "model_module_version": "2.0.0",
      "model_name": "LayoutModel",
      "state": {}
     },
     "aa6a84c810d64c339b42aa8b1f6258cd": {
      "model_module": "@jupyter-widgets/base",
      "model_module_version": "2.0.0",
      "model_name": "LayoutModel",
      "state": {}
     },
     "aa9dd28e6a594ce387b5cd235099b8a3": {
      "model_module": "@jupyter-widgets/base",
      "model_module_version": "2.0.0",
      "model_name": "LayoutModel",
      "state": {}
     },
     "ab1a3f65239040afaa186b805017182a": {
      "model_module": "@jupyter-widgets/controls",
      "model_module_version": "2.0.0",
      "model_name": "HTMLModel",
      "state": {
       "layout": "IPY_MODEL_cd3ebe5c39a341efb378cc1f98da9694",
       "style": "IPY_MODEL_69e35faf53db40a69bb281be4e3fcd69",
       "value": "Epoch 11, Loss: 2.8241: 100%"
      }
     },
     "ab589a098f6a4d889621069f556c40d6": {
      "model_module": "@jupyter-widgets/base",
      "model_module_version": "2.0.0",
      "model_name": "LayoutModel",
      "state": {
       "visibility": "hidden"
      }
     },
     "ab5c1d0a881a457ab3d64670a99bb4f0": {
      "model_module": "@jupyter-widgets/controls",
      "model_module_version": "2.0.0",
      "model_name": "HTMLModel",
      "state": {
       "layout": "IPY_MODEL_b8fa4ed8d1e14384b3d68b388cb96942",
       "style": "IPY_MODEL_14d66643bd3b49478ecdf49bbff57349",
       "value": " 20/20 [04:00&lt;00:00, 11.97s/epoch]"
      }
     },
     "ab6e13f987ff4c0fb2d80c0c60ca1362": {
      "model_module": "@jupyter-widgets/controls",
      "model_module_version": "2.0.0",
      "model_name": "HTMLStyleModel",
      "state": {
       "description_width": "",
       "font_size": null,
       "text_color": null
      }
     },
     "ab84c3d8697a4a78851b3496f776e09a": {
      "model_module": "@jupyter-widgets/base",
      "model_module_version": "2.0.0",
      "model_name": "LayoutModel",
      "state": {}
     },
     "aba14b0b385a49cd96b4dd767e7630d6": {
      "model_module": "@jupyter-widgets/base",
      "model_module_version": "2.0.0",
      "model_name": "LayoutModel",
      "state": {}
     },
     "abafb3e49c2849f9ae28eb94a65b4052": {
      "model_module": "@jupyter-widgets/controls",
      "model_module_version": "2.0.0",
      "model_name": "HTMLStyleModel",
      "state": {
       "description_width": "",
       "font_size": null,
       "text_color": null
      }
     },
     "abd767cf5d104a4d9455379b2f452bb8": {
      "model_module": "@jupyter-widgets/controls",
      "model_module_version": "2.0.0",
      "model_name": "ProgressStyleModel",
      "state": {
       "description_width": ""
      }
     },
     "abfcaf3580b441649add28e8bbe84847": {
      "model_module": "@jupyter-widgets/base",
      "model_module_version": "2.0.0",
      "model_name": "LayoutModel",
      "state": {}
     },
     "ac3866709f2d41539d0a8667314cba8a": {
      "model_module": "@jupyter-widgets/controls",
      "model_module_version": "2.0.0",
      "model_name": "HTMLStyleModel",
      "state": {
       "description_width": "",
       "font_size": null,
       "text_color": null
      }
     },
     "ac48e24fdadd4993b928913e59ec8995": {
      "model_module": "@jupyter-widgets/controls",
      "model_module_version": "2.0.0",
      "model_name": "HTMLModel",
      "state": {
       "layout": "IPY_MODEL_de719ecc3b2848878c130253fb659ee5",
       "style": "IPY_MODEL_e37f164e1b904ebe9849ab7a2a819f4b",
       "value": " 63/63 [00:20&lt;00:00,  3.28it/s]"
      }
     },
     "ac53f7d528a940afa718b5816cf16b9a": {
      "model_module": "@jupyter-widgets/controls",
      "model_module_version": "2.0.0",
      "model_name": "HTMLStyleModel",
      "state": {
       "description_width": "",
       "font_size": null,
       "text_color": null
      }
     },
     "ac71dc1d7a3140138bb58380fb5b8724": {
      "model_module": "@jupyter-widgets/controls",
      "model_module_version": "2.0.0",
      "model_name": "HTMLModel",
      "state": {
       "layout": "IPY_MODEL_096d379a005d4ac9acca5d897ec3d8c1",
       "style": "IPY_MODEL_c801ee0a1b93450e9aa8de350f9529b2",
       "value": " 14/14 [00:01&lt;00:00, 10.17it/s]"
      }
     },
     "ac8edcacc55841408ec02d1086bb5614": {
      "model_module": "@jupyter-widgets/base",
      "model_module_version": "2.0.0",
      "model_name": "LayoutModel",
      "state": {}
     },
     "acbde9675d9a4e3fb93d155aba9a8e39": {
      "model_module": "@jupyter-widgets/controls",
      "model_module_version": "2.0.0",
      "model_name": "HTMLModel",
      "state": {
       "layout": "IPY_MODEL_894c75b5a5434139b83491042902496d",
       "style": "IPY_MODEL_da8a7d13946b4ee8927a955403df370a",
       "value": "Epoch 2, Loss: 3.3591: 100%"
      }
     },
     "acf745da79134c1cab830614105b0520": {
      "model_module": "@jupyter-widgets/controls",
      "model_module_version": "2.0.0",
      "model_name": "ProgressStyleModel",
      "state": {
       "description_width": ""
      }
     },
     "ad025dfec49b4cd1a45028f560ce1ff2": {
      "model_module": "@jupyter-widgets/controls",
      "model_module_version": "2.0.0",
      "model_name": "HTMLModel",
      "state": {
       "layout": "IPY_MODEL_ff04813360034d1783aae5685f88d7b0",
       "style": "IPY_MODEL_dbd3bcfff6274e64839e21358b4c4219",
       "value": " 13/14 [00:01&lt;00:00, 10.17it/s]"
      }
     },
     "ad38adde65fe437c8af6dc2adbbc38bf": {
      "model_module": "@jupyter-widgets/base",
      "model_module_version": "2.0.0",
      "model_name": "LayoutModel",
      "state": {}
     },
     "ad414014eea64ce1a60040bfb3c7cf0d": {
      "model_module": "@jupyter-widgets/base",
      "model_module_version": "2.0.0",
      "model_name": "LayoutModel",
      "state": {}
     },
     "ad582b604c084502b5ea042c1ac8a542": {
      "model_module": "@jupyter-widgets/base",
      "model_module_version": "2.0.0",
      "model_name": "LayoutModel",
      "state": {
       "visibility": "hidden"
      }
     },
     "ad614d43f0ed4f99a43ce9b743286ae5": {
      "model_module": "@jupyter-widgets/base",
      "model_module_version": "2.0.0",
      "model_name": "LayoutModel",
      "state": {}
     },
     "ad6dca0567a74b299d89483739a7887c": {
      "model_module": "@jupyter-widgets/base",
      "model_module_version": "2.0.0",
      "model_name": "LayoutModel",
      "state": {}
     },
     "ad7cd371aed9446caf35abd54a7b9b0d": {
      "model_module": "@jupyter-widgets/controls",
      "model_module_version": "2.0.0",
      "model_name": "HTMLModel",
      "state": {
       "layout": "IPY_MODEL_3cf3fa4a33474f0a99c2a66eb0bbed94",
       "style": "IPY_MODEL_c1c02654f06c4e52afc19a4bc44ad743",
       "value": "Epoch 4, Loss: 2.4336: 100%"
      }
     },
     "ad8e7954091e4ddc94b8d00044748cc8": {
      "model_module": "@jupyter-widgets/controls",
      "model_module_version": "2.0.0",
      "model_name": "FloatProgressModel",
      "state": {
       "layout": "IPY_MODEL_bc6bb117b23742ec8e398e863dc79942",
       "max": 32,
       "style": "IPY_MODEL_2ee2dd9b0ea34ca9ab4be4e9fe1b08f3",
       "value": 32
      }
     },
     "adaa940a9f4940ffb4fd82529e17f570": {
      "model_module": "@jupyter-widgets/controls",
      "model_module_version": "2.0.0",
      "model_name": "HTMLModel",
      "state": {
       "layout": "IPY_MODEL_e58b36e4df6e4b41bd153b04559080ac",
       "style": "IPY_MODEL_6898c35fb03a4201bdbeff47d3be6233",
       "value": "Epoch 15, Loss: 2.0626: 100%"
      }
     },
     "adab49b8cfdb4c1e808e03e0db88cca0": {
      "model_module": "@jupyter-widgets/controls",
      "model_module_version": "2.0.0",
      "model_name": "FloatProgressModel",
      "state": {
       "layout": "IPY_MODEL_673f377219f149babaae5de82a2e51f1",
       "max": 32,
       "style": "IPY_MODEL_4fcf0f0ddbac4167834fe335ac203299",
       "value": 32
      }
     },
     "adc0550d03df49238e8d9167d1914267": {
      "model_module": "@jupyter-widgets/base",
      "model_module_version": "2.0.0",
      "model_name": "LayoutModel",
      "state": {}
     },
     "ade6b152ff764d67b50b035d284ae285": {
      "model_module": "@jupyter-widgets/base",
      "model_module_version": "2.0.0",
      "model_name": "LayoutModel",
      "state": {}
     },
     "ae16217c3df04a09972ff6255d3e5c1e": {
      "model_module": "@jupyter-widgets/base",
      "model_module_version": "2.0.0",
      "model_name": "LayoutModel",
      "state": {}
     },
     "ae1853adc52445a8ba996ea64bb24875": {
      "model_module": "@jupyter-widgets/controls",
      "model_module_version": "2.0.0",
      "model_name": "HTMLModel",
      "state": {
       "layout": "IPY_MODEL_7c3cec2d42f54c408ced9bfa952c24cd",
       "style": "IPY_MODEL_3d49faebdb314f8bb21dac4e02c3cebe",
       "value": " 63/63 [00:19&lt;00:00,  3.41it/s]"
      }
     },
     "ae2da8520a64485d818712d02ce1f245": {
      "model_module": "@jupyter-widgets/controls",
      "model_module_version": "2.0.0",
      "model_name": "ProgressStyleModel",
      "state": {
       "description_width": ""
      }
     },
     "ae35f251250e41ee869548f8abf23843": {
      "model_module": "@jupyter-widgets/base",
      "model_module_version": "2.0.0",
      "model_name": "LayoutModel",
      "state": {}
     },
     "ae4a1173991d402d8dff62e42cbacb45": {
      "model_module": "@jupyter-widgets/base",
      "model_module_version": "2.0.0",
      "model_name": "LayoutModel",
      "state": {
       "visibility": "hidden"
      }
     },
     "ae58e61ab91d497e949a8615c53c758b": {
      "model_module": "@jupyter-widgets/base",
      "model_module_version": "2.0.0",
      "model_name": "LayoutModel",
      "state": {
       "visibility": "hidden"
      }
     },
     "ae6782f1b05b40088cd1288a3b4c7470": {
      "model_module": "@jupyter-widgets/controls",
      "model_module_version": "2.0.0",
      "model_name": "FloatProgressModel",
      "state": {
       "layout": "IPY_MODEL_80ce1a6a5e784eeba7736c11d29a631f",
       "max": 32,
       "style": "IPY_MODEL_47d40810bf0149318d2fd561232c46ab",
       "value": 32
      }
     },
     "aec395f83be54fe8a753c41eba7a4b71": {
      "model_module": "@jupyter-widgets/base",
      "model_module_version": "2.0.0",
      "model_name": "LayoutModel",
      "state": {}
     },
     "aef1498bde06428683eaf1c4162bf4d8": {
      "model_module": "@jupyter-widgets/controls",
      "model_module_version": "2.0.0",
      "model_name": "HTMLStyleModel",
      "state": {
       "description_width": "",
       "font_size": null,
       "text_color": null
      }
     },
     "af1a2c3ddb194e4a9c503a0480a816de": {
      "model_module": "@jupyter-widgets/controls",
      "model_module_version": "2.0.0",
      "model_name": "HTMLModel",
      "state": {
       "layout": "IPY_MODEL_4dc9814b745d43e99cc9062db6be1b5e",
       "style": "IPY_MODEL_8c01070561ec4c61b3b6898d1851cbf1",
       "value": "Epoch 15, Loss: 2.0393: 100%"
      }
     },
     "af2d3895930c41e994e37c1416d4e053": {
      "model_module": "@jupyter-widgets/controls",
      "model_module_version": "2.0.0",
      "model_name": "HTMLModel",
      "state": {
       "layout": "IPY_MODEL_cd94cc89b1c241e89b9247abad181abc",
       "style": "IPY_MODEL_90dd7f350ff34b9abdededf37292d826",
       "value": "Epoch 15, Loss: 3.9478: 100%"
      }
     },
     "af34c20f549843eca9d4356d1561bbaf": {
      "model_module": "@jupyter-widgets/controls",
      "model_module_version": "2.0.0",
      "model_name": "HTMLStyleModel",
      "state": {
       "description_width": "",
       "font_size": null,
       "text_color": null
      }
     },
     "af67aef2370c4cc4859af4b7a39e03ee": {
      "model_module": "@jupyter-widgets/controls",
      "model_module_version": "2.0.0",
      "model_name": "HTMLStyleModel",
      "state": {
       "description_width": "",
       "font_size": null,
       "text_color": null
      }
     },
     "af769bef64a74fbe9d16506aeae9d24f": {
      "model_module": "@jupyter-widgets/controls",
      "model_module_version": "2.0.0",
      "model_name": "HTMLModel",
      "state": {
       "layout": "IPY_MODEL_21e3bbc0189040a6989ac70390a1a2f0",
       "style": "IPY_MODEL_d989cb4836de4bfa91a8b3894c569f2e",
       "value": " 77/77 [00:28&lt;00:00,  2.87it/s]"
      }
     },
     "afa76539bcb045ef8cb4edff6f21cfc6": {
      "model_module": "@jupyter-widgets/base",
      "model_module_version": "2.0.0",
      "model_name": "LayoutModel",
      "state": {
       "visibility": "hidden"
      }
     },
     "afabca92fab84d48a6d566032439398f": {
      "model_module": "@jupyter-widgets/base",
      "model_module_version": "2.0.0",
      "model_name": "LayoutModel",
      "state": {}
     },
     "afba9acba70b4c72a4ffcd1937d2460f": {
      "model_module": "@jupyter-widgets/base",
      "model_module_version": "2.0.0",
      "model_name": "LayoutModel",
      "state": {}
     },
     "afc37014ae5f4d46b8a36229974beda8": {
      "model_module": "@jupyter-widgets/controls",
      "model_module_version": "2.0.0",
      "model_name": "ProgressStyleModel",
      "state": {
       "description_width": ""
      }
     },
     "afcc7a115d7e486fbf7c6e63ecd02d33": {
      "model_module": "@jupyter-widgets/base",
      "model_module_version": "2.0.0",
      "model_name": "LayoutModel",
      "state": {}
     },
     "afe924bc91614adf86d384c2b6c05f7a": {
      "model_module": "@jupyter-widgets/controls",
      "model_module_version": "2.0.0",
      "model_name": "ProgressStyleModel",
      "state": {
       "description_width": ""
      }
     },
     "b03d984702114518a4253d59d1be1f4b": {
      "model_module": "@jupyter-widgets/base",
      "model_module_version": "2.0.0",
      "model_name": "LayoutModel",
      "state": {}
     },
     "b04c3812316441ee93f473a71e327701": {
      "model_module": "@jupyter-widgets/base",
      "model_module_version": "2.0.0",
      "model_name": "LayoutModel",
      "state": {
       "visibility": "hidden"
      }
     },
     "b05d8ce46a7444be9cb1bf8bdd8c6c49": {
      "model_module": "@jupyter-widgets/controls",
      "model_module_version": "2.0.0",
      "model_name": "HTMLModel",
      "state": {
       "layout": "IPY_MODEL_274d3ad669a74176aab7352a10913cea",
       "style": "IPY_MODEL_39402d54449a4cd7a73d9256fc4e46d9",
       "value": " 13/14 [00:01&lt;00:00, 10.20it/s]"
      }
     },
     "b06facf3db12492c950e5940f34eb0a7": {
      "model_module": "@jupyter-widgets/base",
      "model_module_version": "2.0.0",
      "model_name": "LayoutModel",
      "state": {}
     },
     "b07af7cc850b446298f94a9986340741": {
      "model_module": "@jupyter-widgets/controls",
      "model_module_version": "2.0.0",
      "model_name": "HTMLStyleModel",
      "state": {
       "description_width": "",
       "font_size": null,
       "text_color": null
      }
     },
     "b07bd6bce9ac438d9b9b18e57b1f8b62": {
      "model_module": "@jupyter-widgets/controls",
      "model_module_version": "2.0.0",
      "model_name": "HTMLStyleModel",
      "state": {
       "description_width": "",
       "font_size": null,
       "text_color": null
      }
     },
     "b0e22f5ac560493ba2d8a5f31e16e3d5": {
      "model_module": "@jupyter-widgets/base",
      "model_module_version": "2.0.0",
      "model_name": "LayoutModel",
      "state": {}
     },
     "b0ee14390e2d475f9ee8470d001a75c3": {
      "model_module": "@jupyter-widgets/base",
      "model_module_version": "2.0.0",
      "model_name": "LayoutModel",
      "state": {
       "visibility": "hidden"
      }
     },
     "b13d43ad449649cb84de595b6f458458": {
      "model_module": "@jupyter-widgets/controls",
      "model_module_version": "2.0.0",
      "model_name": "FloatProgressModel",
      "state": {
       "layout": "IPY_MODEL_1e36c2a9206c4160a25f8c87e5c88354",
       "max": 23,
       "style": "IPY_MODEL_746dd14b2a6e4610a668aaf920947993",
       "value": 23
      }
     },
     "b13e6938a9e9497a8f31dcb31b1a731f": {
      "model_module": "@jupyter-widgets/controls",
      "model_module_version": "2.0.0",
      "model_name": "FloatProgressModel",
      "state": {
       "layout": "IPY_MODEL_a6809c2f05e142cca7441374471be8ec",
       "max": 14,
       "style": "IPY_MODEL_5404fb5cf4364d4685eaaca40ecf13b5",
       "value": 14
      }
     },
     "b1c1f5a55fc94734a3da4fe72bcd929d": {
      "model_module": "@jupyter-widgets/controls",
      "model_module_version": "2.0.0",
      "model_name": "FloatProgressModel",
      "state": {
       "layout": "IPY_MODEL_f85845d5e58847f2975adafc76af8a7c",
       "max": 77,
       "style": "IPY_MODEL_d85291f4416f4689a07c80b2c46a2b4c",
       "value": 77
      }
     },
     "b1c2138cf19c4434837db1ee5dc768b4": {
      "model_module": "@jupyter-widgets/controls",
      "model_module_version": "2.0.0",
      "model_name": "FloatProgressModel",
      "state": {
       "layout": "IPY_MODEL_2eb0c677e73a456a88f6ebabd741b9ff",
       "max": 32,
       "style": "IPY_MODEL_53e0d315fb3040ada59b3bec4d024fd5",
       "value": 32
      }
     },
     "b1ce2c18f17742598cde74acba41c5cc": {
      "model_module": "@jupyter-widgets/controls",
      "model_module_version": "2.0.0",
      "model_name": "HTMLStyleModel",
      "state": {
       "description_width": "",
       "font_size": null,
       "text_color": null
      }
     },
     "b1f5125d0a804aa19850917fb8c7e8f0": {
      "model_module": "@jupyter-widgets/controls",
      "model_module_version": "2.0.0",
      "model_name": "HTMLModel",
      "state": {
       "layout": "IPY_MODEL_5f98da7e29c6417190793d08fbdb92e1",
       "style": "IPY_MODEL_8515f399a9804a0c96351ad5baff4d63",
       "value": "Epoch 14, Loss: 3.2434:  93%"
      }
     },
     "b1fc7f4cad094f6cb2f009fe93aafa4e": {
      "model_module": "@jupyter-widgets/controls",
      "model_module_version": "2.0.0",
      "model_name": "HTMLModel",
      "state": {
       "layout": "IPY_MODEL_72e7af9d02a045abb8277ef1c7979959",
       "style": "IPY_MODEL_df97464a5474445cafcd4bbde500ac2f",
       "value": "Epoch 1, Loss: 3.0205: 100%"
      }
     },
     "b1fec8ac5761425e9d1d29f6f705d09d": {
      "model_module": "@jupyter-widgets/controls",
      "model_module_version": "2.0.0",
      "model_name": "HTMLStyleModel",
      "state": {
       "description_width": "",
       "font_size": null,
       "text_color": null
      }
     },
     "b23060790ac34ca3827aa33c6585e7b2": {
      "model_module": "@jupyter-widgets/controls",
      "model_module_version": "2.0.0",
      "model_name": "HTMLModel",
      "state": {
       "layout": "IPY_MODEL_c36b70a5dfd848bc85a16d23b2bf0ec4",
       "style": "IPY_MODEL_061099bfa5b74a638f6c43c6f57ea1d6",
       "value": "Epoch 4, Loss: 2.0859: 100%"
      }
     },
     "b230874d4db549098004ccec24ae14d0": {
      "model_module": "@jupyter-widgets/controls",
      "model_module_version": "2.0.0",
      "model_name": "ProgressStyleModel",
      "state": {
       "description_width": ""
      }
     },
     "b28657418d9b45eca71587120a2693ee": {
      "model_module": "@jupyter-widgets/controls",
      "model_module_version": "2.0.0",
      "model_name": "HTMLModel",
      "state": {
       "layout": "IPY_MODEL_70f1989b2b1d4d9182121317beaf8838",
       "style": "IPY_MODEL_0c62275b50d04f1c9c8ac2def88ddcb5",
       "value": " 13/14 [00:01&lt;00:00, 10.32it/s]"
      }
     },
     "b2ba4d5ab68e4fbc8f932b436ebe6ac6": {
      "model_module": "@jupyter-widgets/base",
      "model_module_version": "2.0.0",
      "model_name": "LayoutModel",
      "state": {}
     },
     "b2c5c26748534631a4c8b8ae6e3a3a51": {
      "model_module": "@jupyter-widgets/controls",
      "model_module_version": "2.0.0",
      "model_name": "ProgressStyleModel",
      "state": {
       "description_width": ""
      }
     },
     "b31c56edf34f46de9d9e0e83a8c9360c": {
      "model_module": "@jupyter-widgets/controls",
      "model_module_version": "2.0.0",
      "model_name": "HTMLStyleModel",
      "state": {
       "description_width": "",
       "font_size": null,
       "text_color": null
      }
     },
     "b35ae357e3c94002bb4478e65a243737": {
      "model_module": "@jupyter-widgets/controls",
      "model_module_version": "2.0.0",
      "model_name": "HTMLStyleModel",
      "state": {
       "description_width": "",
       "font_size": null,
       "text_color": null
      }
     },
     "b37d27327f414332b36df837fdc92030": {
      "model_module": "@jupyter-widgets/base",
      "model_module_version": "2.0.0",
      "model_name": "LayoutModel",
      "state": {}
     },
     "b3a2cf0d67884739a1e4ec06caa0e338": {
      "model_module": "@jupyter-widgets/controls",
      "model_module_version": "2.0.0",
      "model_name": "HTMLModel",
      "state": {
       "layout": "IPY_MODEL_6e1a76e737e946ae9e793491a999ce6a",
       "style": "IPY_MODEL_4b6b3afb025b4f1d9958c78b7ec8c234",
       "value": " 13/14 [00:01&lt;00:00, 10.19it/s]"
      }
     },
     "b3d2b31e6ff64ebe817913358b579b74": {
      "model_module": "@jupyter-widgets/base",
      "model_module_version": "2.0.0",
      "model_name": "LayoutModel",
      "state": {}
     },
     "b40295bce28940dba603f39b7b6decb6": {
      "model_module": "@jupyter-widgets/controls",
      "model_module_version": "2.0.0",
      "model_name": "HTMLModel",
      "state": {
       "layout": "IPY_MODEL_ff2d7815f6584b24a8cec812c4d36a06",
       "style": "IPY_MODEL_c0ee8092fe45420a9a5dc27c9dbd5768",
       "value": "Epoch 20, Loss: 3.7420: 100%"
      }
     },
     "b424717a44824a5680370633e9ed2a57": {
      "model_module": "@jupyter-widgets/base",
      "model_module_version": "2.0.0",
      "model_name": "LayoutModel",
      "state": {
       "visibility": "hidden"
      }
     },
     "b4801e11ad41435e80bbebd27fdde771": {
      "model_module": "@jupyter-widgets/base",
      "model_module_version": "2.0.0",
      "model_name": "LayoutModel",
      "state": {}
     },
     "b48a638798b5448d96b10697904b376c": {
      "model_module": "@jupyter-widgets/base",
      "model_module_version": "2.0.0",
      "model_name": "LayoutModel",
      "state": {}
     },
     "b48c39b9141e4bb78316ce16276d1229": {
      "model_module": "@jupyter-widgets/controls",
      "model_module_version": "2.0.0",
      "model_name": "HTMLModel",
      "state": {
       "layout": "IPY_MODEL_8e83b9a1aca04062bba187cfde799490",
       "style": "IPY_MODEL_0f4923411534434da231806ef9f4a369",
       "value": " 13/14 [00:01&lt;00:00,  9.89it/s]"
      }
     },
     "b491b632ed1144108b73c3a64b13c587": {
      "model_module": "@jupyter-widgets/base",
      "model_module_version": "2.0.0",
      "model_name": "LayoutModel",
      "state": {}
     },
     "b4c40df7c62e4ca1951103125ec304d3": {
      "model_module": "@jupyter-widgets/controls",
      "model_module_version": "2.0.0",
      "model_name": "ProgressStyleModel",
      "state": {
       "description_width": ""
      }
     },
     "b4d4d3ccd6a345a98aa5f143eb6a85de": {
      "model_module": "@jupyter-widgets/base",
      "model_module_version": "2.0.0",
      "model_name": "LayoutModel",
      "state": {
       "visibility": "hidden"
      }
     },
     "b527023609084254b58bf88964453073": {
      "model_module": "@jupyter-widgets/controls",
      "model_module_version": "2.0.0",
      "model_name": "HTMLModel",
      "state": {
       "layout": "IPY_MODEL_e1d860ab8b3645b28790f7a0d1efb0f6",
       "style": "IPY_MODEL_9664a629ca2644faaa15ae1da29339d8",
       "value": "Epoch 13, Loss: 2.2914: 100%"
      }
     },
     "b5488e3ccdef4ba6885fdda81051989d": {
      "model_module": "@jupyter-widgets/controls",
      "model_module_version": "2.0.0",
      "model_name": "HTMLModel",
      "state": {
       "layout": "IPY_MODEL_a464a33508e148138444d2c48daeca6c",
       "style": "IPY_MODEL_c0d83de01c8142d586f94e46039fd032",
       "value": "Epoch 9, Loss: 2.8341:  93%"
      }
     },
     "b552ec7d582741828f9e7101ab385525": {
      "model_module": "@jupyter-widgets/controls",
      "model_module_version": "2.0.0",
      "model_name": "HTMLStyleModel",
      "state": {
       "description_width": "",
       "font_size": null,
       "text_color": null
      }
     },
     "b56e12a089594c3eb8db208be2f2ef3a": {
      "model_module": "@jupyter-widgets/controls",
      "model_module_version": "2.0.0",
      "model_name": "HTMLModel",
      "state": {
       "layout": "IPY_MODEL_d235bf340344457ba709242cf05b991a",
       "style": "IPY_MODEL_5e1a23c481814106975d0d97238d35c2",
       "value": " 32/32 [00:10&lt;00:00,  3.44it/s]"
      }
     },
     "b595dffb55a94708bfa9909992e5dc50": {
      "model_module": "@jupyter-widgets/base",
      "model_module_version": "2.0.0",
      "model_name": "LayoutModel",
      "state": {
       "visibility": "hidden"
      }
     },
     "b59fc6b5ce824d759884d179fd2bd86c": {
      "model_module": "@jupyter-widgets/controls",
      "model_module_version": "2.0.0",
      "model_name": "HTMLStyleModel",
      "state": {
       "description_width": "",
       "font_size": null,
       "text_color": null
      }
     },
     "b5a3ec72304446b1850ae0762ad8f9f2": {
      "model_module": "@jupyter-widgets/controls",
      "model_module_version": "2.0.0",
      "model_name": "HTMLStyleModel",
      "state": {
       "description_width": "",
       "font_size": null,
       "text_color": null
      }
     },
     "b5c7dc25543044e2abce2a3bb7d4cac7": {
      "model_module": "@jupyter-widgets/controls",
      "model_module_version": "2.0.0",
      "model_name": "FloatProgressModel",
      "state": {
       "layout": "IPY_MODEL_66a4a123153d43c5abd9659f0531d745",
       "max": 14,
       "style": "IPY_MODEL_7d23e41b9a154138807e2e3314c9ca4e",
       "value": 14
      }
     },
     "b5cfbe88ba4e4b47b9317ade94bd8776": {
      "model_module": "@jupyter-widgets/controls",
      "model_module_version": "2.0.0",
      "model_name": "HTMLStyleModel",
      "state": {
       "description_width": "",
       "font_size": null,
       "text_color": null
      }
     },
     "b6307e4d07454b8c80bb6d53038bf398": {
      "model_module": "@jupyter-widgets/controls",
      "model_module_version": "2.0.0",
      "model_name": "HTMLModel",
      "state": {
       "layout": "IPY_MODEL_d3d2c4c0cf014aac8c752d7c334c0e9e",
       "style": "IPY_MODEL_2e00a2330bba4bbdacef6356a59630f6",
       "value": "Epoch 1, Loss: 2.7628:  93%"
      }
     },
     "b659c93c236b4f87a4bcd3b4fcff2d5c": {
      "model_module": "@jupyter-widgets/base",
      "model_module_version": "2.0.0",
      "model_name": "LayoutModel",
      "state": {
       "visibility": "hidden"
      }
     },
     "b673c5b972cc4613b8ba5974fc94e790": {
      "model_module": "@jupyter-widgets/controls",
      "model_module_version": "2.0.0",
      "model_name": "FloatProgressModel",
      "state": {
       "layout": "IPY_MODEL_b37d27327f414332b36df837fdc92030",
       "max": 63,
       "style": "IPY_MODEL_20d9e4c24ed8400da6280f9af4f57a62",
       "value": 63
      }
     },
     "b68e464be3cb4156bd8b5fba6143fb78": {
      "model_module": "@jupyter-widgets/base",
      "model_module_version": "2.0.0",
      "model_name": "LayoutModel",
      "state": {}
     },
     "b69d2a9b7b764549a44f447451fb0bb4": {
      "model_module": "@jupyter-widgets/controls",
      "model_module_version": "2.0.0",
      "model_name": "ProgressStyleModel",
      "state": {
       "description_width": ""
      }
     },
     "b6b48c8bab084224b46ff2904556ed06": {
      "model_module": "@jupyter-widgets/base",
      "model_module_version": "2.0.0",
      "model_name": "LayoutModel",
      "state": {
       "visibility": "hidden"
      }
     },
     "b6ca1154c3764be2b798a9c943e5175e": {
      "model_module": "@jupyter-widgets/controls",
      "model_module_version": "2.0.0",
      "model_name": "HTMLModel",
      "state": {
       "layout": "IPY_MODEL_171b37bfefe447899c851030e122c9e3",
       "style": "IPY_MODEL_72ec8c51044f484f9bc1f4a872f4c784",
       "value": "Epoch 14, Loss: 3.1542:  93%"
      }
     },
     "b6defa13908046bdb31af8b03acae9ee": {
      "model_module": "@jupyter-widgets/base",
      "model_module_version": "2.0.0",
      "model_name": "LayoutModel",
      "state": {}
     },
     "b6ef9fcce69d4dae94423bf830488c49": {
      "model_module": "@jupyter-widgets/controls",
      "model_module_version": "2.0.0",
      "model_name": "HTMLStyleModel",
      "state": {
       "description_width": "",
       "font_size": null,
       "text_color": null
      }
     },
     "b6f941821c454061967ad494d8932896": {
      "model_module": "@jupyter-widgets/controls",
      "model_module_version": "2.0.0",
      "model_name": "HTMLStyleModel",
      "state": {
       "description_width": "",
       "font_size": null,
       "text_color": null
      }
     },
     "b70a0b195c2e47818e60d74fc35709b5": {
      "model_module": "@jupyter-widgets/controls",
      "model_module_version": "2.0.0",
      "model_name": "HTMLStyleModel",
      "state": {
       "description_width": "",
       "font_size": null,
       "text_color": null
      }
     },
     "b70bdba768af44669c1c150542349ffa": {
      "model_module": "@jupyter-widgets/controls",
      "model_module_version": "2.0.0",
      "model_name": "ProgressStyleModel",
      "state": {
       "description_width": ""
      }
     },
     "b738c5f9f6f14faa83a8276031d04f0b": {
      "model_module": "@jupyter-widgets/controls",
      "model_module_version": "2.0.0",
      "model_name": "HTMLModel",
      "state": {
       "layout": "IPY_MODEL_11c8e27f7718420b8bef848aecfd2d1e",
       "style": "IPY_MODEL_73df3a5dd3874ab299946d87e01d8ce2",
       "value": " 32/32 [00:11&lt;00:00,  3.18it/s]"
      }
     },
     "b7832dbfd64b48bdb31deaeae205890a": {
      "model_module": "@jupyter-widgets/controls",
      "model_module_version": "2.0.0",
      "model_name": "ProgressStyleModel",
      "state": {
       "description_width": ""
      }
     },
     "b78839120e4746b29070d708b6386d83": {
      "model_module": "@jupyter-widgets/base",
      "model_module_version": "2.0.0",
      "model_name": "LayoutModel",
      "state": {}
     },
     "b7adb3b6fb3f41afaf7d09302f51b176": {
      "model_module": "@jupyter-widgets/base",
      "model_module_version": "2.0.0",
      "model_name": "LayoutModel",
      "state": {}
     },
     "b7b25094b3b849a4b8a9774d3bf9b4ba": {
      "model_module": "@jupyter-widgets/controls",
      "model_module_version": "2.0.0",
      "model_name": "ProgressStyleModel",
      "state": {
       "description_width": ""
      }
     },
     "b7c72ba6321a4ecdbcdf3dd792e462d6": {
      "model_module": "@jupyter-widgets/controls",
      "model_module_version": "2.0.0",
      "model_name": "ProgressStyleModel",
      "state": {
       "description_width": ""
      }
     },
     "b7cb61d038cd48988b1378c80706691a": {
      "model_module": "@jupyter-widgets/base",
      "model_module_version": "2.0.0",
      "model_name": "LayoutModel",
      "state": {}
     },
     "b7d9887a39524c1fa1187dd5a153194d": {
      "model_module": "@jupyter-widgets/controls",
      "model_module_version": "2.0.0",
      "model_name": "HTMLModel",
      "state": {
       "layout": "IPY_MODEL_c05f6906154e44c0907ae0eeb1be6021",
       "style": "IPY_MODEL_8f7a56b2d09a4971b03fada4f1ea4c28",
       "value": "Epoch 6, Loss: 4.2990: 100%"
      }
     },
     "b7faa8b5d6c84ae0a0eb2567d4634daf": {
      "model_module": "@jupyter-widgets/base",
      "model_module_version": "2.0.0",
      "model_name": "LayoutModel",
      "state": {}
     },
     "b80a2b18b30a416d9d2190c2632d532c": {
      "model_module": "@jupyter-widgets/controls",
      "model_module_version": "2.0.0",
      "model_name": "ProgressStyleModel",
      "state": {
       "description_width": ""
      }
     },
     "b811b020c77b44bfa51fec57e219fc55": {
      "model_module": "@jupyter-widgets/controls",
      "model_module_version": "2.0.0",
      "model_name": "HTMLModel",
      "state": {
       "layout": "IPY_MODEL_7118f186fcd5415aabd27ed854aa2ab3",
       "style": "IPY_MODEL_5651691082e54157bfd9e8b86e41917a",
       "value": " 77/77 [00:28&lt;00:00,  2.89it/s]"
      }
     },
     "b81f4aeab24d4ad6a9da6aeb5863a6cc": {
      "model_module": "@jupyter-widgets/base",
      "model_module_version": "2.0.0",
      "model_name": "LayoutModel",
      "state": {}
     },
     "b830aa1f947d4ff291a6b9b9334d651c": {
      "model_module": "@jupyter-widgets/controls",
      "model_module_version": "2.0.0",
      "model_name": "FloatProgressModel",
      "state": {
       "layout": "IPY_MODEL_62f36d48ccdc44cbb211216139a09687",
       "max": 32,
       "style": "IPY_MODEL_bbc6f4b1fa5640339d814d9ee19476da",
       "value": 32
      }
     },
     "b832bd38a46c41e29276af49f481d570": {
      "model_module": "@jupyter-widgets/controls",
      "model_module_version": "2.0.0",
      "model_name": "HTMLModel",
      "state": {
       "layout": "IPY_MODEL_203913fb644049dfb3afbe51ee58c60c",
       "style": "IPY_MODEL_3ff4abdadaa2490da2427ca81d25a163",
       "value": " 13/14 [00:01&lt;00:00, 10.16it/s]"
      }
     },
     "b84d59ed2da2442c8fd06f9810f698a4": {
      "model_module": "@jupyter-widgets/controls",
      "model_module_version": "2.0.0",
      "model_name": "HTMLStyleModel",
      "state": {
       "description_width": "",
       "font_size": null,
       "text_color": null
      }
     },
     "b86f009d9e414f60be9e99febd97c7b7": {
      "model_module": "@jupyter-widgets/controls",
      "model_module_version": "2.0.0",
      "model_name": "HTMLStyleModel",
      "state": {
       "description_width": "",
       "font_size": null,
       "text_color": null
      }
     },
     "b89e73593714450ba06635d47253e15d": {
      "model_module": "@jupyter-widgets/controls",
      "model_module_version": "2.0.0",
      "model_name": "FloatProgressModel",
      "state": {
       "layout": "IPY_MODEL_c8f4be1a300d47bea1f0b5c0c67f4e29",
       "max": 14,
       "style": "IPY_MODEL_94e6a29f7f3143669617806f285b8f01",
       "value": 14
      }
     },
     "b8c020646e3d49d996781a638915295c": {
      "model_module": "@jupyter-widgets/base",
      "model_module_version": "2.0.0",
      "model_name": "LayoutModel",
      "state": {}
     },
     "b8c33c84596a416f8ecc60a8c2235acd": {
      "model_module": "@jupyter-widgets/base",
      "model_module_version": "2.0.0",
      "model_name": "LayoutModel",
      "state": {}
     },
     "b8ddaf0234c44d71b5a046f4be5218dd": {
      "model_module": "@jupyter-widgets/base",
      "model_module_version": "2.0.0",
      "model_name": "LayoutModel",
      "state": {
       "visibility": "hidden"
      }
     },
     "b8f698de93d54408a92c0c00b36d0b18": {
      "model_module": "@jupyter-widgets/controls",
      "model_module_version": "2.0.0",
      "model_name": "ProgressStyleModel",
      "state": {
       "description_width": ""
      }
     },
     "b8fa4ed8d1e14384b3d68b388cb96942": {
      "model_module": "@jupyter-widgets/base",
      "model_module_version": "2.0.0",
      "model_name": "LayoutModel",
      "state": {}
     },
     "b93e7357a2894b12888efb5e14b74874": {
      "model_module": "@jupyter-widgets/controls",
      "model_module_version": "2.0.0",
      "model_name": "HTMLModel",
      "state": {
       "layout": "IPY_MODEL_5ffbf83976f347de814557c67901ccf3",
       "style": "IPY_MODEL_60ccdb8e98414d7db85bbe7cbf62648c",
       "value": "Epoch 13, Loss: 3.0092:  93%"
      }
     },
     "b9407eddc51644b79d8ae26b75779a67": {
      "model_module": "@jupyter-widgets/base",
      "model_module_version": "2.0.0",
      "model_name": "LayoutModel",
      "state": {}
     },
     "b94cf6f2142f4a99ae296288db802e9a": {
      "model_module": "@jupyter-widgets/controls",
      "model_module_version": "2.0.0",
      "model_name": "HTMLModel",
      "state": {
       "layout": "IPY_MODEL_f8e03cc4772341f49f98ff076226426d",
       "style": "IPY_MODEL_43e95b7e9b134264aa6f3e9b7a376018",
       "value": "Epoch 19, Loss: 2.4694: 100%"
      }
     },
     "b956b5c1c01747d4b991199af0b127b3": {
      "model_module": "@jupyter-widgets/controls",
      "model_module_version": "2.0.0",
      "model_name": "HTMLModel",
      "state": {
       "layout": "IPY_MODEL_b7cb61d038cd48988b1378c80706691a",
       "style": "IPY_MODEL_846043ba7cf34172909fd83be36d87aa",
       "value": "Epoch 3, Loss: 2.9408: 100%"
      }
     },
     "b961c93920d84d858bdeb97419dedb1d": {
      "model_module": "@jupyter-widgets/controls",
      "model_module_version": "2.0.0",
      "model_name": "HTMLModel",
      "state": {
       "layout": "IPY_MODEL_d0129bc5156c49e49d519abb51a66e41",
       "style": "IPY_MODEL_32e75d9719244a02964af44cb99203d6",
       "value": " 14/14 [00:02&lt;00:00, 10.02it/s]"
      }
     },
     "b986e8f7ba754fa9ae886576b5b7f20e": {
      "model_module": "@jupyter-widgets/base",
      "model_module_version": "2.0.0",
      "model_name": "LayoutModel",
      "state": {}
     },
     "b98fff72417548f5a5d9bfa6f18b0d06": {
      "model_module": "@jupyter-widgets/controls",
      "model_module_version": "2.0.0",
      "model_name": "ProgressStyleModel",
      "state": {
       "description_width": ""
      }
     },
     "b9bba48df1854840876ed1e0ff8ac941": {
      "model_module": "@jupyter-widgets/base",
      "model_module_version": "2.0.0",
      "model_name": "LayoutModel",
      "state": {}
     },
     "b9c0faa491dc4990b2a53602dd65ecfb": {
      "model_module": "@jupyter-widgets/controls",
      "model_module_version": "2.0.0",
      "model_name": "FloatProgressModel",
      "state": {
       "layout": "IPY_MODEL_7b31a398fbfa4da593e51bf6c410d42f",
       "max": 32,
       "style": "IPY_MODEL_a2bb0f90b5e2469d8bab6c9c46453869",
       "value": 32
      }
     },
     "b9f46e3ec46c4bffa70c81086ac2862c": {
      "model_module": "@jupyter-widgets/controls",
      "model_module_version": "2.0.0",
      "model_name": "HTMLModel",
      "state": {
       "layout": "IPY_MODEL_ff06d61649ce481286dbbf701d97c814",
       "style": "IPY_MODEL_f71392a4d8524b91b0dcdcc99a49d399",
       "value": "Epoch 2, Loss: 2.7982: 100%"
      }
     },
     "ba23a65d880a47b6998cc1d2736dc4f5": {
      "model_module": "@jupyter-widgets/controls",
      "model_module_version": "2.0.0",
      "model_name": "HTMLStyleModel",
      "state": {
       "description_width": "",
       "font_size": null,
       "text_color": null
      }
     },
     "ba7a416edc9b4399b846b854bc9c32c5": {
      "model_module": "@jupyter-widgets/controls",
      "model_module_version": "2.0.0",
      "model_name": "ProgressStyleModel",
      "state": {
       "description_width": ""
      }
     },
     "ba7bd6e58561400c97e2a940fd188e4b": {
      "model_module": "@jupyter-widgets/base",
      "model_module_version": "2.0.0",
      "model_name": "LayoutModel",
      "state": {}
     },
     "ba9c284ed3344b9c99b37c0716d8e4a0": {
      "model_module": "@jupyter-widgets/base",
      "model_module_version": "2.0.0",
      "model_name": "LayoutModel",
      "state": {}
     },
     "bad13c9aae6d4794bb3028789f997a9a": {
      "model_module": "@jupyter-widgets/controls",
      "model_module_version": "2.0.0",
      "model_name": "ProgressStyleModel",
      "state": {
       "description_width": ""
      }
     },
     "bad9ff0fa6304ff1a9a5735130a59a6c": {
      "model_module": "@jupyter-widgets/base",
      "model_module_version": "2.0.0",
      "model_name": "LayoutModel",
      "state": {}
     },
     "bae10305b23e4eb2908a9ec79a1709d3": {
      "model_module": "@jupyter-widgets/controls",
      "model_module_version": "2.0.0",
      "model_name": "HTMLModel",
      "state": {
       "layout": "IPY_MODEL_6d5f70186b2d4b3092ac37c1f1b8f28f",
       "style": "IPY_MODEL_f3d851e85bc6403daf0cb8d11f3f45eb",
       "value": "Epoch 18, Loss: 3.2235:  93%"
      }
     },
     "bae7252eb41d4b928f9daac7f7bf7938": {
      "model_module": "@jupyter-widgets/controls",
      "model_module_version": "2.0.0",
      "model_name": "HTMLStyleModel",
      "state": {
       "description_width": "",
       "font_size": null,
       "text_color": null
      }
     },
     "bb0b614325dc4a708efa3326af9565e5": {
      "model_module": "@jupyter-widgets/base",
      "model_module_version": "2.0.0",
      "model_name": "LayoutModel",
      "state": {}
     },
     "bb0f1033324e44248e1bdd4301894a3f": {
      "model_module": "@jupyter-widgets/base",
      "model_module_version": "2.0.0",
      "model_name": "LayoutModel",
      "state": {}
     },
     "bb12147a8143420ab2efec39b7803953": {
      "model_module": "@jupyter-widgets/controls",
      "model_module_version": "2.0.0",
      "model_name": "FloatProgressModel",
      "state": {
       "layout": "IPY_MODEL_7876293ea3b84ebcac20d565d872e67c",
       "max": 32,
       "style": "IPY_MODEL_163b5ac7340b47f9ad056cb053f30f4b",
       "value": 32
      }
     },
     "bb15a730d01c4856bfcb708a81b8e9b5": {
      "model_module": "@jupyter-widgets/controls",
      "model_module_version": "2.0.0",
      "model_name": "HTMLStyleModel",
      "state": {
       "description_width": "",
       "font_size": null,
       "text_color": null
      }
     },
     "bbc6f4b1fa5640339d814d9ee19476da": {
      "model_module": "@jupyter-widgets/controls",
      "model_module_version": "2.0.0",
      "model_name": "ProgressStyleModel",
      "state": {
       "description_width": ""
      }
     },
     "bbd46672c1e44a26bc88b0e3a221f7fe": {
      "model_module": "@jupyter-widgets/base",
      "model_module_version": "2.0.0",
      "model_name": "LayoutModel",
      "state": {
       "visibility": "hidden"
      }
     },
     "bbf45dfe6c454d5b99048827433c8581": {
      "model_module": "@jupyter-widgets/base",
      "model_module_version": "2.0.0",
      "model_name": "LayoutModel",
      "state": {}
     },
     "bc35943a482743d18fd86e42110a65a9": {
      "model_module": "@jupyter-widgets/base",
      "model_module_version": "2.0.0",
      "model_name": "LayoutModel",
      "state": {
       "visibility": "hidden"
      }
     },
     "bc56518f9b6848fdab5d2cb368a9fa3f": {
      "model_module": "@jupyter-widgets/base",
      "model_module_version": "2.0.0",
      "model_name": "LayoutModel",
      "state": {}
     },
     "bc5c2cc9337e4a768f0831ad9721c8d6": {
      "model_module": "@jupyter-widgets/base",
      "model_module_version": "2.0.0",
      "model_name": "LayoutModel",
      "state": {}
     },
     "bc6bb117b23742ec8e398e863dc79942": {
      "model_module": "@jupyter-widgets/base",
      "model_module_version": "2.0.0",
      "model_name": "LayoutModel",
      "state": {}
     },
     "bc839efa276c4fbe950f9d6b1097127d": {
      "model_module": "@jupyter-widgets/controls",
      "model_module_version": "2.0.0",
      "model_name": "HTMLStyleModel",
      "state": {
       "description_width": "",
       "font_size": null,
       "text_color": null
      }
     },
     "bc8fe35d4cfc4c158fc6ca94352e64dc": {
      "model_module": "@jupyter-widgets/controls",
      "model_module_version": "2.0.0",
      "model_name": "HTMLStyleModel",
      "state": {
       "description_width": "",
       "font_size": null,
       "text_color": null
      }
     },
     "bc9043e3482f48d2a0da668e3ae067a4": {
      "model_module": "@jupyter-widgets/base",
      "model_module_version": "2.0.0",
      "model_name": "LayoutModel",
      "state": {}
     },
     "bc941a15daec40d6a194fbb7d6a0459f": {
      "model_module": "@jupyter-widgets/base",
      "model_module_version": "2.0.0",
      "model_name": "LayoutModel",
      "state": {}
     },
     "bcd0206d940a44d59768db4dde8dfdc4": {
      "model_module": "@jupyter-widgets/base",
      "model_module_version": "2.0.0",
      "model_name": "LayoutModel",
      "state": {}
     },
     "bcd545d3199d4cc1b23df0368e95b2c9": {
      "model_module": "@jupyter-widgets/base",
      "model_module_version": "2.0.0",
      "model_name": "LayoutModel",
      "state": {}
     },
     "bced938f687949af8377b547c3181dcb": {
      "model_module": "@jupyter-widgets/controls",
      "model_module_version": "2.0.0",
      "model_name": "ProgressStyleModel",
      "state": {
       "description_width": ""
      }
     },
     "bcf7ceabd55641e59bbb1fc745d091b9": {
      "model_module": "@jupyter-widgets/controls",
      "model_module_version": "2.0.0",
      "model_name": "ProgressStyleModel",
      "state": {
       "description_width": ""
      }
     },
     "bd0281ecf2c241438b168c12e0ae76dd": {
      "model_module": "@jupyter-widgets/controls",
      "model_module_version": "2.0.0",
      "model_name": "ProgressStyleModel",
      "state": {
       "description_width": ""
      }
     },
     "bd03b6068ff14047950bd9e19998f60f": {
      "model_module": "@jupyter-widgets/controls",
      "model_module_version": "2.0.0",
      "model_name": "HTMLModel",
      "state": {
       "layout": "IPY_MODEL_b3d2b31e6ff64ebe817913358b579b74",
       "style": "IPY_MODEL_d47d2b6ecca1457fb7ffcf3c8aeba441",
       "value": "Epoch 9, Loss: 3.2689: 100%"
      }
     },
     "bd1d253478164d7cb04557eb8646fc02": {
      "model_module": "@jupyter-widgets/controls",
      "model_module_version": "2.0.0",
      "model_name": "HTMLStyleModel",
      "state": {
       "description_width": "",
       "font_size": null,
       "text_color": null
      }
     },
     "bd63cf8c50c944bb8168fe8587738f5b": {
      "model_module": "@jupyter-widgets/controls",
      "model_module_version": "2.0.0",
      "model_name": "HTMLStyleModel",
      "state": {
       "description_width": "",
       "font_size": null,
       "text_color": null
      }
     },
     "bd6d89116c384b489b3a5d72b1767adf": {
      "model_module": "@jupyter-widgets/controls",
      "model_module_version": "2.0.0",
      "model_name": "HTMLStyleModel",
      "state": {
       "description_width": "",
       "font_size": null,
       "text_color": null
      }
     },
     "bd715f1e48ba4b66b08e74e33d247024": {
      "model_module": "@jupyter-widgets/controls",
      "model_module_version": "2.0.0",
      "model_name": "FloatProgressModel",
      "state": {
       "layout": "IPY_MODEL_e1d9d197a840426792c46d68d9af2259",
       "max": 63,
       "style": "IPY_MODEL_9acf6c735faf4089b9818dfb9bc98506",
       "value": 63
      }
     },
     "bd7763118bd24ae283494fa9a34cfceb": {
      "model_module": "@jupyter-widgets/controls",
      "model_module_version": "2.0.0",
      "model_name": "HTMLModel",
      "state": {
       "layout": "IPY_MODEL_fa05ecb5b78b41868c444c51821a963d",
       "style": "IPY_MODEL_ef4eafb2c6fe40ed9a22d679d5418897",
       "value": "Epoch 18, Loss: 4.0517:  93%"
      }
     },
     "bdecded56cc64a0a9ebd38f0eb808902": {
      "model_module": "@jupyter-widgets/controls",
      "model_module_version": "2.0.0",
      "model_name": "HTMLStyleModel",
      "state": {
       "description_width": "",
       "font_size": null,
       "text_color": null
      }
     },
     "be18ed440eb4459694862a89add307d2": {
      "model_module": "@jupyter-widgets/controls",
      "model_module_version": "2.0.0",
      "model_name": "HTMLModel",
      "state": {
       "layout": "IPY_MODEL_bea0217edd1349439ed7094117d713a4",
       "style": "IPY_MODEL_516ed9531df94a38950e75cfe6cace1c",
       "value": " 23/23 [00:01&lt;00:00, 16.41it/s]"
      }
     },
     "be9dccb7a6904104a11282d1659ad87d": {
      "model_module": "@jupyter-widgets/base",
      "model_module_version": "2.0.0",
      "model_name": "LayoutModel",
      "state": {}
     },
     "bea0217edd1349439ed7094117d713a4": {
      "model_module": "@jupyter-widgets/base",
      "model_module_version": "2.0.0",
      "model_name": "LayoutModel",
      "state": {}
     },
     "bec798c6697e40c5a2ccb1d2e3a4a28b": {
      "model_module": "@jupyter-widgets/base",
      "model_module_version": "2.0.0",
      "model_name": "LayoutModel",
      "state": {
       "visibility": "hidden"
      }
     },
     "bf1b86bce1ff49a49ad82d8df469f430": {
      "model_module": "@jupyter-widgets/base",
      "model_module_version": "2.0.0",
      "model_name": "LayoutModel",
      "state": {}
     },
     "bf6bcaef30154eebbd007d3ceef583bf": {
      "model_module": "@jupyter-widgets/controls",
      "model_module_version": "2.0.0",
      "model_name": "HTMLStyleModel",
      "state": {
       "description_width": "",
       "font_size": null,
       "text_color": null
      }
     },
     "bf88248e26a145faa33a4124c8d18bda": {
      "model_module": "@jupyter-widgets/controls",
      "model_module_version": "2.0.0",
      "model_name": "FloatProgressModel",
      "state": {
       "layout": "IPY_MODEL_568cf90618334f8f85e9d3871222f861",
       "max": 77,
       "style": "IPY_MODEL_82d2f98c99f24410ab875fe267c6cd83",
       "value": 77
      }
     },
     "bfb18b3dd16e4b898ba827f92e81cbee": {
      "model_module": "@jupyter-widgets/base",
      "model_module_version": "2.0.0",
      "model_name": "LayoutModel",
      "state": {}
     },
     "bfc1fb0614b14cb7955b9f8832525b7b": {
      "model_module": "@jupyter-widgets/controls",
      "model_module_version": "2.0.0",
      "model_name": "HTMLStyleModel",
      "state": {
       "description_width": "",
       "font_size": null,
       "text_color": null
      }
     },
     "bfe9c13cb6ce41419e49a246b2d2c66b": {
      "model_module": "@jupyter-widgets/controls",
      "model_module_version": "2.0.0",
      "model_name": "HTMLModel",
      "state": {
       "layout": "IPY_MODEL_be9dccb7a6904104a11282d1659ad87d",
       "style": "IPY_MODEL_c20a4aea0ac94b63ae604d1e4dce2463",
       "value": " 32/32 [00:09&lt;00:00,  3.42it/s]"
      }
     },
     "c00177deed5b4160a4a489a6fc96bdc5": {
      "model_module": "@jupyter-widgets/base",
      "model_module_version": "2.0.0",
      "model_name": "LayoutModel",
      "state": {}
     },
     "c00d3d2d7b084fb0b3eacd75c404506e": {
      "model_module": "@jupyter-widgets/base",
      "model_module_version": "2.0.0",
      "model_name": "LayoutModel",
      "state": {}
     },
     "c034e9f441e04426b0aed25f0a756df7": {
      "model_module": "@jupyter-widgets/controls",
      "model_module_version": "2.0.0",
      "model_name": "HTMLStyleModel",
      "state": {
       "description_width": "",
       "font_size": null,
       "text_color": null
      }
     },
     "c03a515a2e55420fa3a54ae1463a78c2": {
      "model_module": "@jupyter-widgets/controls",
      "model_module_version": "2.0.0",
      "model_name": "ProgressStyleModel",
      "state": {
       "description_width": ""
      }
     },
     "c056a4ec7c9640d78e149494f5d6ce0c": {
      "model_module": "@jupyter-widgets/controls",
      "model_module_version": "2.0.0",
      "model_name": "FloatProgressModel",
      "state": {
       "layout": "IPY_MODEL_9ff6d2cddf834bf4a129e72a0fe5919b",
       "max": 14,
       "style": "IPY_MODEL_9663b970e3dc4885bdd16424eafe02cd",
       "value": 14
      }
     },
     "c05f6906154e44c0907ae0eeb1be6021": {
      "model_module": "@jupyter-widgets/base",
      "model_module_version": "2.0.0",
      "model_name": "LayoutModel",
      "state": {}
     },
     "c06a248cf0804ab49981b5efaa86f29c": {
      "model_module": "@jupyter-widgets/base",
      "model_module_version": "2.0.0",
      "model_name": "LayoutModel",
      "state": {}
     },
     "c07b8a81f8324c35841f0af92773d40c": {
      "model_module": "@jupyter-widgets/controls",
      "model_module_version": "2.0.0",
      "model_name": "ProgressStyleModel",
      "state": {
       "description_width": ""
      }
     },
     "c07bd230446e488098f30ef0c5669f78": {
      "model_module": "@jupyter-widgets/controls",
      "model_module_version": "2.0.0",
      "model_name": "FloatProgressModel",
      "state": {
       "layout": "IPY_MODEL_c0b7b5fc41fc43a68727c4982ca2d3af",
       "max": 63,
       "style": "IPY_MODEL_965001f8ca5042b6870e2d154cd81144",
       "value": 63
      }
     },
     "c086dfaae9d74d4eb035458126a0b7e9": {
      "model_module": "@jupyter-widgets/base",
      "model_module_version": "2.0.0",
      "model_name": "LayoutModel",
      "state": {
       "visibility": "hidden"
      }
     },
     "c0a7294f88254c269600eb02f213855d": {
      "model_module": "@jupyter-widgets/controls",
      "model_module_version": "2.0.0",
      "model_name": "HTMLStyleModel",
      "state": {
       "description_width": "",
       "font_size": null,
       "text_color": null
      }
     },
     "c0aaf23d27794bf1b82e2f1837d2af16": {
      "model_module": "@jupyter-widgets/controls",
      "model_module_version": "2.0.0",
      "model_name": "HTMLModel",
      "state": {
       "layout": "IPY_MODEL_a6dba47351324a8fb9648423260248db",
       "style": "IPY_MODEL_0200901594a24023b76ac56c040855bf",
       "value": "Epoch 1, Loss: 3.0429: 100%"
      }
     },
     "c0b4c3e8c5ac4a4b8add7637f7cc934d": {
      "model_module": "@jupyter-widgets/controls",
      "model_module_version": "2.0.0",
      "model_name": "HTMLStyleModel",
      "state": {
       "description_width": "",
       "font_size": null,
       "text_color": null
      }
     },
     "c0b7b5fc41fc43a68727c4982ca2d3af": {
      "model_module": "@jupyter-widgets/base",
      "model_module_version": "2.0.0",
      "model_name": "LayoutModel",
      "state": {}
     },
     "c0c35296b75a45d19ca38440697fc9eb": {
      "model_module": "@jupyter-widgets/base",
      "model_module_version": "2.0.0",
      "model_name": "LayoutModel",
      "state": {}
     },
     "c0d83de01c8142d586f94e46039fd032": {
      "model_module": "@jupyter-widgets/controls",
      "model_module_version": "2.0.0",
      "model_name": "HTMLStyleModel",
      "state": {
       "description_width": "",
       "font_size": null,
       "text_color": null
      }
     },
     "c0ee8092fe45420a9a5dc27c9dbd5768": {
      "model_module": "@jupyter-widgets/controls",
      "model_module_version": "2.0.0",
      "model_name": "HTMLStyleModel",
      "state": {
       "description_width": "",
       "font_size": null,
       "text_color": null
      }
     },
     "c0f3ab94cca148ae923f3b5ea2757902": {
      "model_module": "@jupyter-widgets/base",
      "model_module_version": "2.0.0",
      "model_name": "LayoutModel",
      "state": {}
     },
     "c123f467cc2041af9b7a6104d5494fec": {
      "model_module": "@jupyter-widgets/controls",
      "model_module_version": "2.0.0",
      "model_name": "HTMLModel",
      "state": {
       "layout": "IPY_MODEL_3e1ab0cfb72144c7bd6c11536eddd26c",
       "style": "IPY_MODEL_d015354d20fc4cf9b357026f4e324cd9",
       "value": " 77/77 [00:23&lt;00:00,  3.49it/s]"
      }
     },
     "c15b86286b1c43be96d701229f3ceed5": {
      "model_module": "@jupyter-widgets/controls",
      "model_module_version": "2.0.0",
      "model_name": "HTMLStyleModel",
      "state": {
       "description_width": "",
       "font_size": null,
       "text_color": null
      }
     },
     "c165c7e7d1db4a3288e81006d79158b1": {
      "model_module": "@jupyter-widgets/controls",
      "model_module_version": "2.0.0",
      "model_name": "HTMLStyleModel",
      "state": {
       "description_width": "",
       "font_size": null,
       "text_color": null
      }
     },
     "c1677f6b22074e9b85ecd0a30833e862": {
      "model_module": "@jupyter-widgets/base",
      "model_module_version": "2.0.0",
      "model_name": "LayoutModel",
      "state": {}
     },
     "c172317c6ede4bd5adffdc62897e047d": {
      "model_module": "@jupyter-widgets/controls",
      "model_module_version": "2.0.0",
      "model_name": "ProgressStyleModel",
      "state": {
       "description_width": ""
      }
     },
     "c1792fff40b74d52a63498bf8d17f7e5": {
      "model_module": "@jupyter-widgets/controls",
      "model_module_version": "2.0.0",
      "model_name": "HTMLStyleModel",
      "state": {
       "description_width": "",
       "font_size": null,
       "text_color": null
      }
     },
     "c179bb42d9f8451b9a2a442de9d307b2": {
      "model_module": "@jupyter-widgets/base",
      "model_module_version": "2.0.0",
      "model_name": "LayoutModel",
      "state": {}
     },
     "c17eeca06f7046b3839131b8f2972eb4": {
      "model_module": "@jupyter-widgets/base",
      "model_module_version": "2.0.0",
      "model_name": "LayoutModel",
      "state": {}
     },
     "c18a01753a51432b9b5041ffbdea5e45": {
      "model_module": "@jupyter-widgets/controls",
      "model_module_version": "2.0.0",
      "model_name": "ProgressStyleModel",
      "state": {
       "description_width": ""
      }
     },
     "c18f689b23664d439bc29237e641cfc4": {
      "model_module": "@jupyter-widgets/controls",
      "model_module_version": "2.0.0",
      "model_name": "HTMLStyleModel",
      "state": {
       "description_width": "",
       "font_size": null,
       "text_color": null
      }
     },
     "c1c02654f06c4e52afc19a4bc44ad743": {
      "model_module": "@jupyter-widgets/controls",
      "model_module_version": "2.0.0",
      "model_name": "HTMLStyleModel",
      "state": {
       "description_width": "",
       "font_size": null,
       "text_color": null
      }
     },
     "c1c1088215404f2e8c42a068e5ddf7b8": {
      "model_module": "@jupyter-widgets/controls",
      "model_module_version": "2.0.0",
      "model_name": "HTMLModel",
      "state": {
       "layout": "IPY_MODEL_f83b7dd50dc8457f98234d7f1221bcfe",
       "style": "IPY_MODEL_9d1c80a5ecc24b9cbc68ad1fd95eb9a1",
       "value": "Epoch 16, Loss: 3.7618:  93%"
      }
     },
     "c20a4aea0ac94b63ae604d1e4dce2463": {
      "model_module": "@jupyter-widgets/controls",
      "model_module_version": "2.0.0",
      "model_name": "HTMLStyleModel",
      "state": {
       "description_width": "",
       "font_size": null,
       "text_color": null
      }
     },
     "c20d2344621a4b9186a38bdee6a28026": {
      "model_module": "@jupyter-widgets/base",
      "model_module_version": "2.0.0",
      "model_name": "LayoutModel",
      "state": {}
     },
     "c212c77c59274bddb885673abb85fe4b": {
      "model_module": "@jupyter-widgets/controls",
      "model_module_version": "2.0.0",
      "model_name": "HTMLModel",
      "state": {
       "layout": "IPY_MODEL_8f1996f770a24c068d97af5b8d83f98c",
       "style": "IPY_MODEL_f38656eaf8e343e3aa6958e798db09f1",
       "value": "Epoch 15, Loss: 3.4491:  93%"
      }
     },
     "c258921ebe2b464c8174352471c692df": {
      "model_module": "@jupyter-widgets/base",
      "model_module_version": "2.0.0",
      "model_name": "LayoutModel",
      "state": {}
     },
     "c25bdba362a749279f86c7de20677083": {
      "model_module": "@jupyter-widgets/controls",
      "model_module_version": "2.0.0",
      "model_name": "FloatProgressModel",
      "state": {
       "layout": "IPY_MODEL_8781d57769ea4850ae344ca167643f1d",
       "max": 32,
       "style": "IPY_MODEL_fe2de565960045ef86ef9b494884e27a",
       "value": 32
      }
     },
     "c27354ea90384a3aa72be094a976d0fa": {
      "model_module": "@jupyter-widgets/controls",
      "model_module_version": "2.0.0",
      "model_name": "HTMLStyleModel",
      "state": {
       "description_width": "",
       "font_size": null,
       "text_color": null
      }
     },
     "c28905a6b8c74f88aa9cb5e67f58ef2d": {
      "model_module": "@jupyter-widgets/base",
      "model_module_version": "2.0.0",
      "model_name": "LayoutModel",
      "state": {}
     },
     "c2a1e9e6fff3430b8ec9fd6ebf0b5ad9": {
      "model_module": "@jupyter-widgets/controls",
      "model_module_version": "2.0.0",
      "model_name": "HTMLModel",
      "state": {
       "layout": "IPY_MODEL_1348a89f44834d698c8baebe1375f1a0",
       "style": "IPY_MODEL_70838e6cb8354afbb4f15e7fc510a9b4",
       "value": "Epoch 11, Loss: 3.0604:  93%"
      }
     },
     "c2ac0a66f354429e91f4a40ba80d4235": {
      "model_module": "@jupyter-widgets/controls",
      "model_module_version": "2.0.0",
      "model_name": "HTMLStyleModel",
      "state": {
       "description_width": "",
       "font_size": null,
       "text_color": null
      }
     },
     "c300daad7d0f454bbd54b5f858d26e2f": {
      "model_module": "@jupyter-widgets/controls",
      "model_module_version": "2.0.0",
      "model_name": "ProgressStyleModel",
      "state": {
       "description_width": ""
      }
     },
     "c32caed6fe6648808c1104d7fa31a937": {
      "model_module": "@jupyter-widgets/controls",
      "model_module_version": "2.0.0",
      "model_name": "ProgressStyleModel",
      "state": {
       "description_width": ""
      }
     },
     "c32ce999187d411b93e8462cc99a78f5": {
      "model_module": "@jupyter-widgets/controls",
      "model_module_version": "2.0.0",
      "model_name": "HTMLModel",
      "state": {
       "layout": "IPY_MODEL_3aafe8bd72d34716a6f858a38e94271d",
       "style": "IPY_MODEL_de839d4489134174bbf113abc6c8eb7b",
       "value": "Epoch 1, Loss: 2.4856: 100%"
      }
     },
     "c36b70a5dfd848bc85a16d23b2bf0ec4": {
      "model_module": "@jupyter-widgets/base",
      "model_module_version": "2.0.0",
      "model_name": "LayoutModel",
      "state": {}
     },
     "c36d1b8f54344b5083206e8b91a9e761": {
      "model_module": "@jupyter-widgets/controls",
      "model_module_version": "2.0.0",
      "model_name": "ProgressStyleModel",
      "state": {
       "description_width": ""
      }
     },
     "c3c34d8b47a74f04aad14001825dba7b": {
      "model_module": "@jupyter-widgets/controls",
      "model_module_version": "2.0.0",
      "model_name": "HTMLStyleModel",
      "state": {
       "description_width": "",
       "font_size": null,
       "text_color": null
      }
     },
     "c3d37a0ee05f4291ade1e3504dc6172d": {
      "model_module": "@jupyter-widgets/controls",
      "model_module_version": "2.0.0",
      "model_name": "HTMLStyleModel",
      "state": {
       "description_width": "",
       "font_size": null,
       "text_color": null
      }
     },
     "c3e88db46fc94941b396b2b6203978e3": {
      "model_module": "@jupyter-widgets/base",
      "model_module_version": "2.0.0",
      "model_name": "LayoutModel",
      "state": {}
     },
     "c418861e747b449998a5a5cf5552f5a5": {
      "model_module": "@jupyter-widgets/controls",
      "model_module_version": "2.0.0",
      "model_name": "HTMLStyleModel",
      "state": {
       "description_width": "",
       "font_size": null,
       "text_color": null
      }
     },
     "c436582f96164c33aefc9a606737e806": {
      "model_module": "@jupyter-widgets/base",
      "model_module_version": "2.0.0",
      "model_name": "LayoutModel",
      "state": {}
     },
     "c44970cc286240ce8ec7de9f976a6876": {
      "model_module": "@jupyter-widgets/base",
      "model_module_version": "2.0.0",
      "model_name": "LayoutModel",
      "state": {
       "visibility": "hidden"
      }
     },
     "c44d25bece41425f878850ee6787d5a0": {
      "model_module": "@jupyter-widgets/base",
      "model_module_version": "2.0.0",
      "model_name": "LayoutModel",
      "state": {}
     },
     "c47a1c37d23948f29301cea29b084aa8": {
      "model_module": "@jupyter-widgets/controls",
      "model_module_version": "2.0.0",
      "model_name": "ProgressStyleModel",
      "state": {
       "description_width": ""
      }
     },
     "c495ea1cecb04b21a64464ccf775ff89": {
      "model_module": "@jupyter-widgets/controls",
      "model_module_version": "2.0.0",
      "model_name": "ProgressStyleModel",
      "state": {
       "description_width": ""
      }
     },
     "c4b308c5e4a347fe926424d2038f3a61": {
      "model_module": "@jupyter-widgets/controls",
      "model_module_version": "2.0.0",
      "model_name": "HTMLModel",
      "state": {
       "layout": "IPY_MODEL_1b816bc175194b08ba86a37bd0425d67",
       "style": "IPY_MODEL_d485c03b23794569bf001832dafd6e6f",
       "value": " 32/32 [00:10&lt;00:00,  3.06it/s]"
      }
     },
     "c4d2a261b5ed46d9af2f4317d900c731": {
      "model_module": "@jupyter-widgets/controls",
      "model_module_version": "2.0.0",
      "model_name": "HTMLModel",
      "state": {
       "layout": "IPY_MODEL_621403298e374ed4a801a65a1b1ef1c2",
       "style": "IPY_MODEL_23be7009346044019e6df1379131c6f5",
       "value": " 32/32 [00:10&lt;00:00,  3.27it/s]"
      }
     },
     "c4d53fff3acd42a4b8d0bb61e48abb99": {
      "model_module": "@jupyter-widgets/base",
      "model_module_version": "2.0.0",
      "model_name": "LayoutModel",
      "state": {}
     },
     "c4fc462b85f44cb4a338b36763a648e8": {
      "model_module": "@jupyter-widgets/controls",
      "model_module_version": "2.0.0",
      "model_name": "HTMLStyleModel",
      "state": {
       "description_width": "",
       "font_size": null,
       "text_color": null
      }
     },
     "c512bf3e2bd04ce59a854e3cd3c695d5": {
      "model_module": "@jupyter-widgets/base",
      "model_module_version": "2.0.0",
      "model_name": "LayoutModel",
      "state": {}
     },
     "c51884349ac143e9ab7d4d14a17472e6": {
      "model_module": "@jupyter-widgets/controls",
      "model_module_version": "2.0.0",
      "model_name": "HTMLModel",
      "state": {
       "layout": "IPY_MODEL_1965ebb3c4ad4564931f66b15be8b546",
       "style": "IPY_MODEL_5668bd2348ff46d4b4d8400c23ced9f6",
       "value": "Epoch 8, Loss: 2.9103: 100%"
      }
     },
     "c538a237fe064cd79216302218651cef": {
      "model_module": "@jupyter-widgets/controls",
      "model_module_version": "2.0.0",
      "model_name": "ProgressStyleModel",
      "state": {
       "description_width": ""
      }
     },
     "c582aec35c7945e7b73f2e997e9e7246": {
      "model_module": "@jupyter-widgets/base",
      "model_module_version": "2.0.0",
      "model_name": "LayoutModel",
      "state": {}
     },
     "c58d25df6d2b41eab0c561e5e3fa456f": {
      "model_module": "@jupyter-widgets/base",
      "model_module_version": "2.0.0",
      "model_name": "LayoutModel",
      "state": {
       "visibility": "hidden"
      }
     },
     "c5a8a5269d8a47968e701169f14f3ec9": {
      "model_module": "@jupyter-widgets/controls",
      "model_module_version": "2.0.0",
      "model_name": "FloatProgressModel",
      "state": {
       "layout": "IPY_MODEL_7b612455470248e79f8a60a3aca83315",
       "max": 32,
       "style": "IPY_MODEL_8f4a139776254246b21407ddfdadf37b",
       "value": 32
      }
     },
     "c5c8e434aee7493cab2c86b62032e342": {
      "model_module": "@jupyter-widgets/controls",
      "model_module_version": "2.0.0",
      "model_name": "HTMLStyleModel",
      "state": {
       "description_width": "",
       "font_size": null,
       "text_color": null
      }
     },
     "c5d7475632544f829a775990889d2fb8": {
      "model_module": "@jupyter-widgets/controls",
      "model_module_version": "2.0.0",
      "model_name": "HTMLStyleModel",
      "state": {
       "description_width": "",
       "font_size": null,
       "text_color": null
      }
     },
     "c5e6b81676ce46228722ca39efefe1cf": {
      "model_module": "@jupyter-widgets/controls",
      "model_module_version": "2.0.0",
      "model_name": "HTMLModel",
      "state": {
       "layout": "IPY_MODEL_f2c3aa499ebc492bba4cfa395814d9f4",
       "style": "IPY_MODEL_1ad26d164c7f4e75b63366cc21b81e3b",
       "value": " 14/14 [00:02&lt;00:00,  8.68it/s]"
      }
     },
     "c6236f02a3f444a28fded7bb35e2af1b": {
      "model_module": "@jupyter-widgets/controls",
      "model_module_version": "2.0.0",
      "model_name": "HTMLStyleModel",
      "state": {
       "description_width": "",
       "font_size": null,
       "text_color": null
      }
     },
     "c62cfe3853b14206be87747a7da06372": {
      "model_module": "@jupyter-widgets/base",
      "model_module_version": "2.0.0",
      "model_name": "LayoutModel",
      "state": {}
     },
     "c6648d0519b441989e11ef450f93f0a1": {
      "model_module": "@jupyter-widgets/controls",
      "model_module_version": "2.0.0",
      "model_name": "HTMLModel",
      "state": {
       "layout": "IPY_MODEL_a720901620014a29aa90a3b26ffc474c",
       "style": "IPY_MODEL_9e6c11ed9fed4673a5bd8eb65ea0d228",
       "value": " 32/32 [00:11&lt;00:00,  3.27it/s]"
      }
     },
     "c6871117319e435080ec5564b99b2fe2": {
      "model_module": "@jupyter-widgets/controls",
      "model_module_version": "2.0.0",
      "model_name": "FloatProgressModel",
      "state": {
       "layout": "IPY_MODEL_79ee714698174749804b557ef3d5bf05",
       "max": 63,
       "style": "IPY_MODEL_7fea8a46f57e4c65b4b91fca367950ba",
       "value": 63
      }
     },
     "c6981d7f5ea144149fed4436570a11f1": {
      "model_module": "@jupyter-widgets/base",
      "model_module_version": "2.0.0",
      "model_name": "LayoutModel",
      "state": {}
     },
     "c6acff5917c4426799b494352b9bdbf4": {
      "model_module": "@jupyter-widgets/base",
      "model_module_version": "2.0.0",
      "model_name": "LayoutModel",
      "state": {}
     },
     "c6b088a173e64fc88e308ad3f013d2ea": {
      "model_module": "@jupyter-widgets/controls",
      "model_module_version": "2.0.0",
      "model_name": "ProgressStyleModel",
      "state": {
       "description_width": ""
      }
     },
     "c71b7d6a505e4d868663a7c4502311fe": {
      "model_module": "@jupyter-widgets/base",
      "model_module_version": "2.0.0",
      "model_name": "LayoutModel",
      "state": {}
     },
     "c71e6fd3fbe9428eb297d343ff4d77a3": {
      "model_module": "@jupyter-widgets/controls",
      "model_module_version": "2.0.0",
      "model_name": "ProgressStyleModel",
      "state": {
       "description_width": ""
      }
     },
     "c7289d73272f4b739f4604d7b1b46da5": {
      "model_module": "@jupyter-widgets/base",
      "model_module_version": "2.0.0",
      "model_name": "LayoutModel",
      "state": {
       "visibility": "hidden"
      }
     },
     "c74cc0aa0a644426af41233141c1cb62": {
      "model_module": "@jupyter-widgets/controls",
      "model_module_version": "2.0.0",
      "model_name": "HTMLStyleModel",
      "state": {
       "description_width": "",
       "font_size": null,
       "text_color": null
      }
     },
     "c757df07b13c4c5ea4b70150c311ee47": {
      "model_module": "@jupyter-widgets/controls",
      "model_module_version": "2.0.0",
      "model_name": "HTMLStyleModel",
      "state": {
       "description_width": "",
       "font_size": null,
       "text_color": null
      }
     },
     "c78e890838714ec0be14880818073d95": {
      "model_module": "@jupyter-widgets/controls",
      "model_module_version": "2.0.0",
      "model_name": "HTMLModel",
      "state": {
       "layout": "IPY_MODEL_9f545af650464710bd307ef8c0fd4fd1",
       "style": "IPY_MODEL_5798752e15de468c94a223d86dbb15a3",
       "value": "Epoch 15, Loss: 2.8944: 100%"
      }
     },
     "c793d9e80e2a40fdad56c12c3b84905f": {
      "model_module": "@jupyter-widgets/controls",
      "model_module_version": "2.0.0",
      "model_name": "FloatProgressModel",
      "state": {
       "layout": "IPY_MODEL_5f22451b4b004a2c9a315e93ea09d755",
       "max": 32,
       "style": "IPY_MODEL_83f187245c7140d6bf9fb2b9351e5c9a",
       "value": 32
      }
     },
     "c799db153f644db5bd450d93ccb4bbcf": {
      "model_module": "@jupyter-widgets/controls",
      "model_module_version": "2.0.0",
      "model_name": "FloatProgressModel",
      "state": {
       "layout": "IPY_MODEL_28fd6a23c4174cfaac968c69eb47fe97",
       "max": 14,
       "style": "IPY_MODEL_239eda6015b14dc98c9afc1ea96b7e55",
       "value": 14
      }
     },
     "c7a70040ece0478c861b61817e565f75": {
      "model_module": "@jupyter-widgets/controls",
      "model_module_version": "2.0.0",
      "model_name": "HTMLStyleModel",
      "state": {
       "description_width": "",
       "font_size": null,
       "text_color": null
      }
     },
     "c7b2fb7255a04e2ba0eaa37ffeac4fe1": {
      "model_module": "@jupyter-widgets/base",
      "model_module_version": "2.0.0",
      "model_name": "LayoutModel",
      "state": {}
     },
     "c7bee8fbcb8a41de9e3a51c969f6d154": {
      "model_module": "@jupyter-widgets/controls",
      "model_module_version": "2.0.0",
      "model_name": "ProgressStyleModel",
      "state": {
       "description_width": ""
      }
     },
     "c7ca6cd438cc432393d5e61386b74c15": {
      "model_module": "@jupyter-widgets/controls",
      "model_module_version": "2.0.0",
      "model_name": "FloatProgressModel",
      "state": {
       "layout": "IPY_MODEL_b03d984702114518a4253d59d1be1f4b",
       "max": 14,
       "style": "IPY_MODEL_b69d2a9b7b764549a44f447451fb0bb4",
       "value": 14
      }
     },
     "c7d56950275e4677a5eafc995be32d52": {
      "model_module": "@jupyter-widgets/base",
      "model_module_version": "2.0.0",
      "model_name": "LayoutModel",
      "state": {
       "visibility": "hidden"
      }
     },
     "c7dd6948e19a4198a059ada22e2e5ff9": {
      "model_module": "@jupyter-widgets/controls",
      "model_module_version": "2.0.0",
      "model_name": "HTMLStyleModel",
      "state": {
       "description_width": "",
       "font_size": null,
       "text_color": null
      }
     },
     "c7fb21c65f4c4d00aa0b69100c57b4f3": {
      "model_module": "@jupyter-widgets/controls",
      "model_module_version": "2.0.0",
      "model_name": "HTMLModel",
      "state": {
       "layout": "IPY_MODEL_9e8e3d3ede75415488f3e39973727507",
       "style": "IPY_MODEL_a5519c48093e455db659bc2ced9f0bcb",
       "value": " 14/14 [00:01&lt;00:00,  9.86it/s]"
      }
     },
     "c801ee0a1b93450e9aa8de350f9529b2": {
      "model_module": "@jupyter-widgets/controls",
      "model_module_version": "2.0.0",
      "model_name": "HTMLStyleModel",
      "state": {
       "description_width": "",
       "font_size": null,
       "text_color": null
      }
     },
     "c8029778d67641b3873168232c7f9f8e": {
      "model_module": "@jupyter-widgets/controls",
      "model_module_version": "2.0.0",
      "model_name": "HTMLModel",
      "state": {
       "layout": "IPY_MODEL_4e108b39f8974899b5b52e3fba1bcc1f",
       "style": "IPY_MODEL_2676f3e6500244de901c750eba98822d",
       "value": "Epoch 6, Loss: 2.8439:  93%"
      }
     },
     "c804d6eed67e47d682282335b503cd85": {
      "model_module": "@jupyter-widgets/controls",
      "model_module_version": "2.0.0",
      "model_name": "HTMLStyleModel",
      "state": {
       "description_width": "",
       "font_size": null,
       "text_color": null
      }
     },
     "c810b1dd747c412b880b419539783991": {
      "model_module": "@jupyter-widgets/controls",
      "model_module_version": "2.0.0",
      "model_name": "HTMLModel",
      "state": {
       "layout": "IPY_MODEL_4e7b2c3b75a94da7b559fd6a9835d45c",
       "style": "IPY_MODEL_4232ee1637e54a8ca1a7263dcb4cda60",
       "value": " 14/14 [00:01&lt;00:00, 10.34it/s]"
      }
     },
     "c82667255f7c437db6c6ed91324753b4": {
      "model_module": "@jupyter-widgets/base",
      "model_module_version": "2.0.0",
      "model_name": "LayoutModel",
      "state": {}
     },
     "c82a09b7c0a249c0887a3083206fedb9": {
      "model_module": "@jupyter-widgets/controls",
      "model_module_version": "2.0.0",
      "model_name": "HTMLModel",
      "state": {
       "layout": "IPY_MODEL_eeb8630b2e6042bcb01e6fa2899eb82c",
       "style": "IPY_MODEL_38360500a2164449bdf16cb74c184c58",
       "value": "Epoch 7, Loss: 3.7398: 100%"
      }
     },
     "c82e34cbbadd4dadb2274f67ae005287": {
      "model_module": "@jupyter-widgets/controls",
      "model_module_version": "2.0.0",
      "model_name": "HTMLModel",
      "state": {
       "layout": "IPY_MODEL_d06e7bb8250341a899c2529325b87a8a",
       "style": "IPY_MODEL_bc8fe35d4cfc4c158fc6ca94352e64dc",
       "value": "Epoch 16, Loss: 3.7694:  93%"
      }
     },
     "c83280635d8a45af87d0176d34f30d31": {
      "model_module": "@jupyter-widgets/controls",
      "model_module_version": "2.0.0",
      "model_name": "HTMLStyleModel",
      "state": {
       "description_width": "",
       "font_size": null,
       "text_color": null
      }
     },
     "c8336be7eea84712acf9bbdca5e1f0e3": {
      "model_module": "@jupyter-widgets/base",
      "model_module_version": "2.0.0",
      "model_name": "LayoutModel",
      "state": {}
     },
     "c84c3c1a3e0249199a0c5a11bec81629": {
      "model_module": "@jupyter-widgets/base",
      "model_module_version": "2.0.0",
      "model_name": "LayoutModel",
      "state": {}
     },
     "c862ab0c1e474bcbbb0293e832480170": {
      "model_module": "@jupyter-widgets/controls",
      "model_module_version": "2.0.0",
      "model_name": "HTMLStyleModel",
      "state": {
       "description_width": "",
       "font_size": null,
       "text_color": null
      }
     },
     "c86c1e64da8d4b83a22ac9024b03f028": {
      "model_module": "@jupyter-widgets/controls",
      "model_module_version": "2.0.0",
      "model_name": "HTMLStyleModel",
      "state": {
       "description_width": "",
       "font_size": null,
       "text_color": null
      }
     },
     "c897c8e913c4482fa312e22e2a52e00c": {
      "model_module": "@jupyter-widgets/controls",
      "model_module_version": "2.0.0",
      "model_name": "HTMLModel",
      "state": {
       "layout": "IPY_MODEL_3ddfc62357be47f48f629e3bd35fe13d",
       "style": "IPY_MODEL_89549d59528246cabcebe094a72a3b01",
       "value": " 13/14 [00:01&lt;00:00, 10.08it/s]"
      }
     },
     "c8c15fe514fe49639aa010344903718d": {
      "model_module": "@jupyter-widgets/controls",
      "model_module_version": "2.0.0",
      "model_name": "HTMLModel",
      "state": {
       "layout": "IPY_MODEL_f16ea09be90c44db8bcd67fa631d2bad",
       "style": "IPY_MODEL_aef1498bde06428683eaf1c4162bf4d8",
       "value": "Epoch 20,Train Loss: 2.5315,Eval Accuracy: 0.6350,Eval Loss: 3.9918: 100%"
      }
     },
     "c8c3e926095f40b794b244d5e1283b90": {
      "model_module": "@jupyter-widgets/controls",
      "model_module_version": "2.0.0",
      "model_name": "HTMLStyleModel",
      "state": {
       "description_width": "",
       "font_size": null,
       "text_color": null
      }
     },
     "c8f4be1a300d47bea1f0b5c0c67f4e29": {
      "model_module": "@jupyter-widgets/base",
      "model_module_version": "2.0.0",
      "model_name": "LayoutModel",
      "state": {}
     },
     "c8f9ee7243f4478aaf07a45bfcc4ca87": {
      "model_module": "@jupyter-widgets/controls",
      "model_module_version": "2.0.0",
      "model_name": "FloatProgressModel",
      "state": {
       "layout": "IPY_MODEL_c436582f96164c33aefc9a606737e806",
       "max": 14,
       "style": "IPY_MODEL_2d75992240e84974a2d378dff9e8bb4d",
       "value": 14
      }
     },
     "c92b216edb1448bcaaa19d8dca824a6a": {
      "model_module": "@jupyter-widgets/base",
      "model_module_version": "2.0.0",
      "model_name": "LayoutModel",
      "state": {}
     },
     "c946507f9a7146b4aebdf6b00ce400e8": {
      "model_module": "@jupyter-widgets/controls",
      "model_module_version": "2.0.0",
      "model_name": "FloatProgressModel",
      "state": {
       "layout": "IPY_MODEL_2096ced2c46b4dc69e04546e0175ed2f",
       "max": 63,
       "style": "IPY_MODEL_11a75fd887184a01ade29d43e1c1de6b",
       "value": 63
      }
     },
     "c95015db79e54139a7d866c34dce7833": {
      "model_module": "@jupyter-widgets/controls",
      "model_module_version": "2.0.0",
      "model_name": "HTMLStyleModel",
      "state": {
       "description_width": "",
       "font_size": null,
       "text_color": null
      }
     },
     "c95c80835a29410e8117906c51d56fb3": {
      "model_module": "@jupyter-widgets/controls",
      "model_module_version": "2.0.0",
      "model_name": "HTMLStyleModel",
      "state": {
       "description_width": "",
       "font_size": null,
       "text_color": null
      }
     },
     "c96612e2811941959cd69c5ac9e80498": {
      "model_module": "@jupyter-widgets/base",
      "model_module_version": "2.0.0",
      "model_name": "LayoutModel",
      "state": {}
     },
     "c9723a82c2e14acca22246222a046c28": {
      "model_module": "@jupyter-widgets/base",
      "model_module_version": "2.0.0",
      "model_name": "LayoutModel",
      "state": {
       "visibility": "hidden"
      }
     },
     "c979ef365ac744f0bf29f60e7fcc46d6": {
      "model_module": "@jupyter-widgets/base",
      "model_module_version": "2.0.0",
      "model_name": "LayoutModel",
      "state": {}
     },
     "c9808dc71d7e4d268045b4e98b1e70c4": {
      "model_module": "@jupyter-widgets/controls",
      "model_module_version": "2.0.0",
      "model_name": "HTMLModel",
      "state": {
       "layout": "IPY_MODEL_79edfd6815fb46da87626424198e7a59",
       "style": "IPY_MODEL_3c0a48ec313d4ca9b501aa377ec7b45a",
       "value": " 77/77 [00:24&lt;00:00,  3.36it/s]"
      }
     },
     "c9a8f3002b4647959c29bb9dbd8eec61": {
      "model_module": "@jupyter-widgets/controls",
      "model_module_version": "2.0.0",
      "model_name": "ProgressStyleModel",
      "state": {
       "description_width": ""
      }
     },
     "c9b86d4337d94f01adb0a3eac9cbc83d": {
      "model_module": "@jupyter-widgets/base",
      "model_module_version": "2.0.0",
      "model_name": "LayoutModel",
      "state": {
       "visibility": "hidden"
      }
     },
     "c9ce8bda1b7c4ac5941c03aa2fb96021": {
      "model_module": "@jupyter-widgets/controls",
      "model_module_version": "2.0.0",
      "model_name": "HTMLStyleModel",
      "state": {
       "description_width": "",
       "font_size": null,
       "text_color": null
      }
     },
     "c9df8adc408a4fb2a7c44a3e8aed3052": {
      "model_module": "@jupyter-widgets/base",
      "model_module_version": "2.0.0",
      "model_name": "LayoutModel",
      "state": {}
     },
     "c9eb096abdf74713b53501801aa1c28b": {
      "model_module": "@jupyter-widgets/base",
      "model_module_version": "2.0.0",
      "model_name": "LayoutModel",
      "state": {
       "visibility": "hidden"
      }
     },
     "ca0b9602c9f14800a9026b65afcb5d8d": {
      "model_module": "@jupyter-widgets/controls",
      "model_module_version": "2.0.0",
      "model_name": "FloatProgressModel",
      "state": {
       "layout": "IPY_MODEL_aec395f83be54fe8a753c41eba7a4b71",
       "max": 14,
       "style": "IPY_MODEL_e8694d5201914dc9b935639604dae8f3",
       "value": 14
      }
     },
     "ca189db41cad472494cc1657533f8e9c": {
      "model_module": "@jupyter-widgets/base",
      "model_module_version": "2.0.0",
      "model_name": "LayoutModel",
      "state": {}
     },
     "ca3868b2da3f4df98bfcfc3f5e7e6a6f": {
      "model_module": "@jupyter-widgets/base",
      "model_module_version": "2.0.0",
      "model_name": "LayoutModel",
      "state": {
       "visibility": "hidden"
      }
     },
     "ca45cc822aa74a09afeee27221356340": {
      "model_module": "@jupyter-widgets/base",
      "model_module_version": "2.0.0",
      "model_name": "LayoutModel",
      "state": {}
     },
     "ca4c83a1f6d0414295b85dd5deb17e3c": {
      "model_module": "@jupyter-widgets/base",
      "model_module_version": "2.0.0",
      "model_name": "LayoutModel",
      "state": {
       "visibility": "hidden"
      }
     },
     "ca8a9f6ee90549b98dc037e3d4eb9599": {
      "model_module": "@jupyter-widgets/base",
      "model_module_version": "2.0.0",
      "model_name": "LayoutModel",
      "state": {}
     },
     "ca928cd01e094122bbafa8d82bc8b5b1": {
      "model_module": "@jupyter-widgets/base",
      "model_module_version": "2.0.0",
      "model_name": "LayoutModel",
      "state": {}
     },
     "cab04531de484fffb1491a5fd3a39dd8": {
      "model_module": "@jupyter-widgets/base",
      "model_module_version": "2.0.0",
      "model_name": "LayoutModel",
      "state": {
       "visibility": "hidden"
      }
     },
     "cacb5b36098b4b42bb34e064aeaec164": {
      "model_module": "@jupyter-widgets/controls",
      "model_module_version": "2.0.0",
      "model_name": "ProgressStyleModel",
      "state": {
       "description_width": ""
      }
     },
     "cae57eb3164441b5a5640f0acf45d739": {
      "model_module": "@jupyter-widgets/base",
      "model_module_version": "2.0.0",
      "model_name": "LayoutModel",
      "state": {}
     },
     "cafdd7ad7af84d9e97379a8be750d974": {
      "model_module": "@jupyter-widgets/controls",
      "model_module_version": "2.0.0",
      "model_name": "FloatProgressModel",
      "state": {
       "layout": "IPY_MODEL_385e9b55294347a5aff44f266417ab76",
       "max": 32,
       "style": "IPY_MODEL_57cacb3590e2444bb347835d0e98b1fc",
       "value": 32
      }
     },
     "cafebbbb2f3b4392956f336f50037ae4": {
      "model_module": "@jupyter-widgets/controls",
      "model_module_version": "2.0.0",
      "model_name": "HTMLModel",
      "state": {
       "layout": "IPY_MODEL_a54380965f8b432db13c6722980fa65b",
       "style": "IPY_MODEL_77573f66774a4c81887411c7459bafdd",
       "value": " 14/14 [00:01&lt;00:00, 10.14it/s]"
      }
     },
     "cb3746d422424a77988ac57a483c98d3": {
      "model_module": "@jupyter-widgets/controls",
      "model_module_version": "2.0.0",
      "model_name": "FloatProgressModel",
      "state": {
       "layout": "IPY_MODEL_3e2c4aaaca9048baa639a116e3744766",
       "max": 77,
       "style": "IPY_MODEL_9d3e0935ea2648b4bd1c34a91d353229",
       "value": 77
      }
     },
     "cb3ac282a53e4d279607db8ca899a90c": {
      "model_module": "@jupyter-widgets/base",
      "model_module_version": "2.0.0",
      "model_name": "LayoutModel",
      "state": {}
     },
     "cb49716f862943068237685124597ed5": {
      "model_module": "@jupyter-widgets/controls",
      "model_module_version": "2.0.0",
      "model_name": "HTMLModel",
      "state": {
       "layout": "IPY_MODEL_3cac6d09b91e486b9f263582c1cefc95",
       "style": "IPY_MODEL_9843cbba4f2f42dd854d7f40c3a12a18",
       "value": "Epoch 17, Loss: 2.4942: 100%"
      }
     },
     "cb549c70cca14bcebd9b5d838dba7b2d": {
      "model_module": "@jupyter-widgets/controls",
      "model_module_version": "2.0.0",
      "model_name": "HTMLModel",
      "state": {
       "layout": "IPY_MODEL_72cb8e0f316247d599e2b910b2393f0f",
       "style": "IPY_MODEL_68be39e093894f6b9f39599ef563019a",
       "value": " 14/14 [00:01&lt;00:00, 10.43it/s]"
      }
     },
     "cb9bd94147f7410fbb7d6850fb96defd": {
      "model_module": "@jupyter-widgets/base",
      "model_module_version": "2.0.0",
      "model_name": "LayoutModel",
      "state": {
       "visibility": "hidden"
      }
     },
     "cba9f4ff218949979519e5c6a0da2083": {
      "model_module": "@jupyter-widgets/base",
      "model_module_version": "2.0.0",
      "model_name": "LayoutModel",
      "state": {}
     },
     "cbbc67cc7d504e97bac7f04667567551": {
      "model_module": "@jupyter-widgets/controls",
      "model_module_version": "2.0.0",
      "model_name": "HTMLModel",
      "state": {
       "layout": "IPY_MODEL_0193a1b0c9de499fa2a84410a5a3177e",
       "style": "IPY_MODEL_2bad02babaa942ffbfda74e237a68c9e",
       "value": "Epoch 11, Loss: 3.6031: 100%"
      }
     },
     "cbbf87d7c796445786b043bb71e9d071": {
      "model_module": "@jupyter-widgets/controls",
      "model_module_version": "2.0.0",
      "model_name": "FloatProgressModel",
      "state": {
       "layout": "IPY_MODEL_c84c3c1a3e0249199a0c5a11bec81629",
       "max": 23,
       "style": "IPY_MODEL_8b61beb130d0456982df58454d4c32dd",
       "value": 23
      }
     },
     "cbd12f0e259343969eedb3215525fd3d": {
      "model_module": "@jupyter-widgets/base",
      "model_module_version": "2.0.0",
      "model_name": "LayoutModel",
      "state": {}
     },
     "cc0f8f9ba82e4ce9a7ddd601425650d2": {
      "model_module": "@jupyter-widgets/controls",
      "model_module_version": "2.0.0",
      "model_name": "HTMLModel",
      "state": {
       "layout": "IPY_MODEL_16c198cc7e7f4f58928b7b1be579332a",
       "style": "IPY_MODEL_30a1b501a9ba4d698e84aa6b01d61ad3",
       "value": " 13/14 [00:02&lt;00:00,  9.54it/s]"
      }
     },
     "cc3fae8a3a184083a661c5f1b3ad428b": {
      "model_module": "@jupyter-widgets/controls",
      "model_module_version": "2.0.0",
      "model_name": "HTMLModel",
      "state": {
       "layout": "IPY_MODEL_d363ada5ec6d43cc87673222320c86f7",
       "style": "IPY_MODEL_76b500a97b4341c7819d4fb61c365ff1",
       "value": " 32/32 [00:10&lt;00:00,  3.48it/s]"
      }
     },
     "cc481e03a2734db3a81d42c7d07320aa": {
      "model_module": "@jupyter-widgets/base",
      "model_module_version": "2.0.0",
      "model_name": "LayoutModel",
      "state": {}
     },
     "cc5dfc2052724251aabbea5181b58570": {
      "model_module": "@jupyter-widgets/controls",
      "model_module_version": "2.0.0",
      "model_name": "HTMLModel",
      "state": {
       "layout": "IPY_MODEL_877aa63fc47b4c6192f8390daa603111",
       "style": "IPY_MODEL_22f30db56b1b4a3b9d55cb3a16f498ed",
       "value": "Epoch 15, Loss: 2.3727: 100%"
      }
     },
     "cc67035cba084ee59331813c2ed06c2b": {
      "model_module": "@jupyter-widgets/controls",
      "model_module_version": "2.0.0",
      "model_name": "ProgressStyleModel",
      "state": {
       "description_width": ""
      }
     },
     "cc84ac4c9fc94a35b9ecd9963d05ef14": {
      "model_module": "@jupyter-widgets/controls",
      "model_module_version": "2.0.0",
      "model_name": "HTMLStyleModel",
      "state": {
       "description_width": "",
       "font_size": null,
       "text_color": null
      }
     },
     "cc85208f7b6c4f29b31cb3f7a6e6e9a7": {
      "model_module": "@jupyter-widgets/controls",
      "model_module_version": "2.0.0",
      "model_name": "HTMLStyleModel",
      "state": {
       "description_width": "",
       "font_size": null,
       "text_color": null
      }
     },
     "cc8e187b0cbb4150900ccfb92cf48c82": {
      "model_module": "@jupyter-widgets/controls",
      "model_module_version": "2.0.0",
      "model_name": "ProgressStyleModel",
      "state": {
       "description_width": ""
      }
     },
     "cc8ed1b78e424654960855e392df4061": {
      "model_module": "@jupyter-widgets/base",
      "model_module_version": "2.0.0",
      "model_name": "LayoutModel",
      "state": {}
     },
     "cc9690147eba4d5390a8b40a6fdfffd7": {
      "model_module": "@jupyter-widgets/base",
      "model_module_version": "2.0.0",
      "model_name": "LayoutModel",
      "state": {}
     },
     "cc997eb5dd5041af844e4921024fb337": {
      "model_module": "@jupyter-widgets/base",
      "model_module_version": "2.0.0",
      "model_name": "LayoutModel",
      "state": {
       "visibility": "hidden"
      }
     },
     "ccfd4a06d06743a8ab5ebeb780ad31be": {
      "model_module": "@jupyter-widgets/controls",
      "model_module_version": "2.0.0",
      "model_name": "HTMLModel",
      "state": {
       "layout": "IPY_MODEL_9affea5c389e4bc9840b9ed92a634f64",
       "style": "IPY_MODEL_6785fa46592b492ba7c7652e4fc6d849",
       "value": " 77/77 [00:24&lt;00:00,  3.34it/s]"
      }
     },
     "cd19cb646d614300af69f6f7b9a36bcc": {
      "model_module": "@jupyter-widgets/base",
      "model_module_version": "2.0.0",
      "model_name": "LayoutModel",
      "state": {}
     },
     "cd303c76335047deb183d3bad2a12f4a": {
      "model_module": "@jupyter-widgets/controls",
      "model_module_version": "2.0.0",
      "model_name": "ProgressStyleModel",
      "state": {
       "description_width": ""
      }
     },
     "cd3ebe5c39a341efb378cc1f98da9694": {
      "model_module": "@jupyter-widgets/base",
      "model_module_version": "2.0.0",
      "model_name": "LayoutModel",
      "state": {}
     },
     "cd72dbc8419e4f0e91448aa27f8d5cbc": {
      "model_module": "@jupyter-widgets/controls",
      "model_module_version": "2.0.0",
      "model_name": "HTMLModel",
      "state": {
       "layout": "IPY_MODEL_d3620cdc92264a788856f2f8c9cb230e",
       "style": "IPY_MODEL_0684a2094d8c4f91a85f442584983082",
       "value": " 13/14 [00:01&lt;00:00, 10.04it/s]"
      }
     },
     "cd86c9b5aeb84518aa00a10a5a647e8a": {
      "model_module": "@jupyter-widgets/controls",
      "model_module_version": "2.0.0",
      "model_name": "HTMLModel",
      "state": {
       "layout": "IPY_MODEL_92e4740642554327b652ee80052c6af5",
       "style": "IPY_MODEL_f3afdeb6ec0d47d0bd31fda4f4d62cc4",
       "value": " 23/23 [00:01&lt;00:00, 16.78it/s]"
      }
     },
     "cd94cc89b1c241e89b9247abad181abc": {
      "model_module": "@jupyter-widgets/base",
      "model_module_version": "2.0.0",
      "model_name": "LayoutModel",
      "state": {}
     },
     "cdb6d9af87a44e2bb718794ac2c749d2": {
      "model_module": "@jupyter-widgets/base",
      "model_module_version": "2.0.0",
      "model_name": "LayoutModel",
      "state": {
       "visibility": "hidden"
      }
     },
     "cdc3e12590574891b262380c1ae5786a": {
      "model_module": "@jupyter-widgets/controls",
      "model_module_version": "2.0.0",
      "model_name": "FloatProgressModel",
      "state": {
       "layout": "IPY_MODEL_756a92f44ad2422a842b229ceaf23d91",
       "max": 77,
       "style": "IPY_MODEL_6c58e61ba8ed4e3abe06492efc1434ef",
       "value": 77
      }
     },
     "cdc488d1870e434e90b8c27a6a2c9ee5": {
      "model_module": "@jupyter-widgets/controls",
      "model_module_version": "2.0.0",
      "model_name": "HTMLModel",
      "state": {
       "layout": "IPY_MODEL_97df2dfdb410496d92120ec68d02df9a",
       "style": "IPY_MODEL_f1cd48d6fbff44fa8bb97b86e0dba0bd",
       "value": " 27/27 [00:03&lt;00:00, 10.71it/s]"
      }
     },
     "cdd6970b3f89412db45f5bd5ae829250": {
      "model_module": "@jupyter-widgets/base",
      "model_module_version": "2.0.0",
      "model_name": "LayoutModel",
      "state": {
       "visibility": "hidden"
      }
     },
     "cde5e10fb6a6406ea8311becc0250784": {
      "model_module": "@jupyter-widgets/base",
      "model_module_version": "2.0.0",
      "model_name": "LayoutModel",
      "state": {}
     },
     "cde7931ae4304273aebfbaf77d8b3134": {
      "model_module": "@jupyter-widgets/base",
      "model_module_version": "2.0.0",
      "model_name": "LayoutModel",
      "state": {}
     },
     "ce0b88dabd9d412b9a3e2202c93b3b41": {
      "model_module": "@jupyter-widgets/controls",
      "model_module_version": "2.0.0",
      "model_name": "ProgressStyleModel",
      "state": {
       "description_width": ""
      }
     },
     "ce2d4296893848b081d9962d2c97051b": {
      "model_module": "@jupyter-widgets/controls",
      "model_module_version": "2.0.0",
      "model_name": "ProgressStyleModel",
      "state": {
       "description_width": ""
      }
     },
     "ce6c176e171d4187bc1487f5a1006c5f": {
      "model_module": "@jupyter-widgets/base",
      "model_module_version": "2.0.0",
      "model_name": "LayoutModel",
      "state": {
       "visibility": "hidden"
      }
     },
     "ce8ce66b7a38454d93fe2f649ddea674": {
      "model_module": "@jupyter-widgets/base",
      "model_module_version": "2.0.0",
      "model_name": "LayoutModel",
      "state": {
       "visibility": "hidden"
      }
     },
     "ceb934d0b404484086568bb20a24344b": {
      "model_module": "@jupyter-widgets/base",
      "model_module_version": "2.0.0",
      "model_name": "LayoutModel",
      "state": {}
     },
     "cec1df018e1f42f5b492fa996016157d": {
      "model_module": "@jupyter-widgets/base",
      "model_module_version": "2.0.0",
      "model_name": "LayoutModel",
      "state": {}
     },
     "cec7a46d64c94edba033c80d62e99256": {
      "model_module": "@jupyter-widgets/controls",
      "model_module_version": "2.0.0",
      "model_name": "HTMLStyleModel",
      "state": {
       "description_width": "",
       "font_size": null,
       "text_color": null
      }
     },
     "cee8916dcc894d559003ed0d2f20cd75": {
      "model_module": "@jupyter-widgets/base",
      "model_module_version": "2.0.0",
      "model_name": "LayoutModel",
      "state": {
       "visibility": "hidden"
      }
     },
     "cef0587d1980452aa21b0bde0293ec10": {
      "model_module": "@jupyter-widgets/base",
      "model_module_version": "2.0.0",
      "model_name": "LayoutModel",
      "state": {}
     },
     "cf649d90ba764875b440936a8b397806": {
      "model_module": "@jupyter-widgets/controls",
      "model_module_version": "2.0.0",
      "model_name": "HTMLModel",
      "state": {
       "layout": "IPY_MODEL_6b70f5952d8f46db96bae11700f1fcd0",
       "style": "IPY_MODEL_4239d6cecdb6479788980c535037a435",
       "value": " 14/14 [00:01&lt;00:00, 10.09it/s]"
      }
     },
     "cf7114f9083f4a17937ce5317aac4cba": {
      "model_module": "@jupyter-widgets/controls",
      "model_module_version": "2.0.0",
      "model_name": "ProgressStyleModel",
      "state": {
       "description_width": ""
      }
     },
     "cf72c73ed9d74f33b50ae64e0dfadb15": {
      "model_module": "@jupyter-widgets/base",
      "model_module_version": "2.0.0",
      "model_name": "LayoutModel",
      "state": {
       "visibility": "hidden"
      }
     },
     "cf88e224310444dba15ac6e225ef9aef": {
      "model_module": "@jupyter-widgets/controls",
      "model_module_version": "2.0.0",
      "model_name": "HTMLModel",
      "state": {
       "layout": "IPY_MODEL_2b78bbe430a04f1baeefb1dc8e8e7c22",
       "style": "IPY_MODEL_f5c8d2bc4eb94957a857c9e4335822fb",
       "value": " 14/14 [00:01&lt;00:00, 10.21it/s]"
      }
     },
     "cf9465decf11489d8718de6ccf7cbe06": {
      "model_module": "@jupyter-widgets/controls",
      "model_module_version": "2.0.0",
      "model_name": "HTMLModel",
      "state": {
       "layout": "IPY_MODEL_9b4f2fb82ea24befa988d6e2e5803dd6",
       "style": "IPY_MODEL_653ea511b06c45e68194a2ec0a5eb1c2",
       "value": "Epoch 18, Loss: 2.4989: 100%"
      }
     },
     "cfa3dbc5ebd34a119c18dfa6508dde29": {
      "model_module": "@jupyter-widgets/controls",
      "model_module_version": "2.0.0",
      "model_name": "HTMLStyleModel",
      "state": {
       "description_width": "",
       "font_size": null,
       "text_color": null
      }
     },
     "cfb163b178b6458c8aa1154e28d071d2": {
      "model_module": "@jupyter-widgets/controls",
      "model_module_version": "2.0.0",
      "model_name": "HTMLStyleModel",
      "state": {
       "description_width": "",
       "font_size": null,
       "text_color": null
      }
     },
     "cfcf7305248b49cd84a60d0320947bac": {
      "model_module": "@jupyter-widgets/controls",
      "model_module_version": "2.0.0",
      "model_name": "HTMLModel",
      "state": {
       "layout": "IPY_MODEL_eb91891aaf634cf294214070a08f7c25",
       "style": "IPY_MODEL_70825f2f10fc4c759af726d884ffd1ef",
       "value": "Epoch 7, Loss: 3.2833: 100%"
      }
     },
     "cfd3dcab82aa4da4a640b55ca9986f37": {
      "model_module": "@jupyter-widgets/base",
      "model_module_version": "2.0.0",
      "model_name": "LayoutModel",
      "state": {
       "visibility": "hidden"
      }
     },
     "cfd76bf466414e849bbff4cf1abb268b": {
      "model_module": "@jupyter-widgets/controls",
      "model_module_version": "2.0.0",
      "model_name": "HTMLStyleModel",
      "state": {
       "description_width": "",
       "font_size": null,
       "text_color": null
      }
     },
     "cfe0bad3eab94b04acead9096375fd37": {
      "model_module": "@jupyter-widgets/controls",
      "model_module_version": "2.0.0",
      "model_name": "ProgressStyleModel",
      "state": {
       "description_width": ""
      }
     },
     "d0129bc5156c49e49d519abb51a66e41": {
      "model_module": "@jupyter-widgets/base",
      "model_module_version": "2.0.0",
      "model_name": "LayoutModel",
      "state": {}
     },
     "d015354d20fc4cf9b357026f4e324cd9": {
      "model_module": "@jupyter-widgets/controls",
      "model_module_version": "2.0.0",
      "model_name": "HTMLStyleModel",
      "state": {
       "description_width": "",
       "font_size": null,
       "text_color": null
      }
     },
     "d060764442a0486c88e8adea81b75c2f": {
      "model_module": "@jupyter-widgets/controls",
      "model_module_version": "2.0.0",
      "model_name": "HTMLModel",
      "state": {
       "layout": "IPY_MODEL_fc919fd142c141b9a08016c4d7e108ee",
       "style": "IPY_MODEL_60f29acc3ec74c1c8d9d33b7ec77cf50",
       "value": "Epoch 10, Loss: 2.8406: 100%"
      }
     },
     "d06e7bb8250341a899c2529325b87a8a": {
      "model_module": "@jupyter-widgets/base",
      "model_module_version": "2.0.0",
      "model_name": "LayoutModel",
      "state": {}
     },
     "d0798fee3cb947e084544e9567e69acb": {
      "model_module": "@jupyter-widgets/controls",
      "model_module_version": "2.0.0",
      "model_name": "FloatProgressModel",
      "state": {
       "layout": "IPY_MODEL_420fd1ddd7da4a04a96fae64705a0cce",
       "max": 14,
       "style": "IPY_MODEL_3bd5051109254df6810f7e48c4e79ac3",
       "value": 14
      }
     },
     "d08efdf5ff1e47d0a0060de027a99ed4": {
      "model_module": "@jupyter-widgets/base",
      "model_module_version": "2.0.0",
      "model_name": "LayoutModel",
      "state": {
       "visibility": "hidden"
      }
     },
     "d09e8e217b8a428ab5ee9bf80cc34427": {
      "model_module": "@jupyter-widgets/controls",
      "model_module_version": "2.0.0",
      "model_name": "HTMLModel",
      "state": {
       "layout": "IPY_MODEL_9626b75624f34e2a9d611ba6c4b21d2e",
       "style": "IPY_MODEL_3d9c37c0e34d4fac8d4cb95fbe6c1d0f",
       "value": " 14/14 [00:01&lt;00:00,  8.85it/s]"
      }
     },
     "d0bbb526f5c4413a83e06b931215141a": {
      "model_module": "@jupyter-widgets/base",
      "model_module_version": "2.0.0",
      "model_name": "LayoutModel",
      "state": {}
     },
     "d0c0a61a42df4887a4774969df5b7fec": {
      "model_module": "@jupyter-widgets/controls",
      "model_module_version": "2.0.0",
      "model_name": "HTMLModel",
      "state": {
       "layout": "IPY_MODEL_bf1b86bce1ff49a49ad82d8df469f430",
       "style": "IPY_MODEL_bd1d253478164d7cb04557eb8646fc02",
       "value": " 26/27 [00:03&lt;00:00, 10.94it/s]"
      }
     },
     "d0c83d1b17ba4f80b57abe3a38680aab": {
      "model_module": "@jupyter-widgets/controls",
      "model_module_version": "2.0.0",
      "model_name": "HTMLStyleModel",
      "state": {
       "description_width": "",
       "font_size": null,
       "text_color": null
      }
     },
     "d1139feed0fc4b258c11b39b19c6fe8e": {
      "model_module": "@jupyter-widgets/base",
      "model_module_version": "2.0.0",
      "model_name": "LayoutModel",
      "state": {
       "visibility": "hidden"
      }
     },
     "d1158831f29f4d77bb6c89368ba2f540": {
      "model_module": "@jupyter-widgets/controls",
      "model_module_version": "2.0.0",
      "model_name": "FloatProgressModel",
      "state": {
       "layout": "IPY_MODEL_072464b6a9a846b2b86a42d44b7a95a2",
       "max": 32,
       "style": "IPY_MODEL_e21630c4032e4effa8d15b9a9dbff951",
       "value": 32
      }
     },
     "d12069ea502746a09a369476ed511dd5": {
      "model_module": "@jupyter-widgets/controls",
      "model_module_version": "2.0.0",
      "model_name": "HTMLModel",
      "state": {
       "layout": "IPY_MODEL_2ec00dc88c24446cb10aa459740a719a",
       "style": "IPY_MODEL_3ec0aea08c8e45729ffbe95fb6f99d39",
       "value": " 32/32 [00:10&lt;00:00,  3.10it/s]"
      }
     },
     "d12630a881f64f2dbc4a23410bdd4522": {
      "model_module": "@jupyter-widgets/base",
      "model_module_version": "2.0.0",
      "model_name": "LayoutModel",
      "state": {}
     },
     "d14970871de24273b04b62e440e9ae18": {
      "model_module": "@jupyter-widgets/controls",
      "model_module_version": "2.0.0",
      "model_name": "ProgressStyleModel",
      "state": {
       "description_width": ""
      }
     },
     "d15702a248624683bdea8c5a65b7f102": {
      "model_module": "@jupyter-widgets/base",
      "model_module_version": "2.0.0",
      "model_name": "LayoutModel",
      "state": {}
     },
     "d160ea013f044ddea19207b174ac1fd9": {
      "model_module": "@jupyter-widgets/controls",
      "model_module_version": "2.0.0",
      "model_name": "HTMLStyleModel",
      "state": {
       "description_width": "",
       "font_size": null,
       "text_color": null
      }
     },
     "d1cd306ee1074c6abbdf9327d3dfcb0e": {
      "model_module": "@jupyter-widgets/base",
      "model_module_version": "2.0.0",
      "model_name": "LayoutModel",
      "state": {}
     },
     "d1d9ae4736d24199898c1bf20e2b2518": {
      "model_module": "@jupyter-widgets/base",
      "model_module_version": "2.0.0",
      "model_name": "LayoutModel",
      "state": {
       "visibility": "hidden"
      }
     },
     "d20412062ea44b16907a34fefa304280": {
      "model_module": "@jupyter-widgets/base",
      "model_module_version": "2.0.0",
      "model_name": "LayoutModel",
      "state": {}
     },
     "d2137bc947a14d9c998b091f07b30419": {
      "model_module": "@jupyter-widgets/controls",
      "model_module_version": "2.0.0",
      "model_name": "FloatProgressModel",
      "state": {
       "layout": "IPY_MODEL_dc54f9afe13f44f79443015198f1ea2c",
       "max": 14,
       "style": "IPY_MODEL_647b29ff48594bd098ef25d4b1b77770",
       "value": 14
      }
     },
     "d235bf340344457ba709242cf05b991a": {
      "model_module": "@jupyter-widgets/base",
      "model_module_version": "2.0.0",
      "model_name": "LayoutModel",
      "state": {}
     },
     "d2428360d6164ac786647f27143bc570": {
      "model_module": "@jupyter-widgets/controls",
      "model_module_version": "2.0.0",
      "model_name": "FloatProgressModel",
      "state": {
       "layout": "IPY_MODEL_ceb934d0b404484086568bb20a24344b",
       "max": 14,
       "style": "IPY_MODEL_c300daad7d0f454bbd54b5f858d26e2f",
       "value": 14
      }
     },
     "d26fef41858f42248d04e0cbff0b2a38": {
      "model_module": "@jupyter-widgets/controls",
      "model_module_version": "2.0.0",
      "model_name": "HTMLStyleModel",
      "state": {
       "description_width": "",
       "font_size": null,
       "text_color": null
      }
     },
     "d276d3bca9c54459bf5362dd074126a7": {
      "model_module": "@jupyter-widgets/base",
      "model_module_version": "2.0.0",
      "model_name": "LayoutModel",
      "state": {}
     },
     "d28039aa78da4e00853e73eee7658bf9": {
      "model_module": "@jupyter-widgets/controls",
      "model_module_version": "2.0.0",
      "model_name": "HTMLModel",
      "state": {
       "layout": "IPY_MODEL_cc8ed1b78e424654960855e392df4061",
       "style": "IPY_MODEL_eacdea31c89f4332b0b8b4d9395263ff",
       "value": " 14/14 [00:01&lt;00:00, 10.45it/s]"
      }
     },
     "d2b88fb1612d461988f30a6605a0e5e7": {
      "model_module": "@jupyter-widgets/controls",
      "model_module_version": "2.0.0",
      "model_name": "ProgressStyleModel",
      "state": {
       "description_width": ""
      }
     },
     "d30346cd65344c91b3c69a06c0c98cd2": {
      "model_module": "@jupyter-widgets/base",
      "model_module_version": "2.0.0",
      "model_name": "LayoutModel",
      "state": {
       "visibility": "hidden"
      }
     },
     "d342612572974ac2beb27b12a6bcf1e2": {
      "model_module": "@jupyter-widgets/controls",
      "model_module_version": "2.0.0",
      "model_name": "HTMLModel",
      "state": {
       "layout": "IPY_MODEL_fb7f75f7b3084146b38be60f91c129d9",
       "style": "IPY_MODEL_557355fdc7a144b9bae729a4c18965ef",
       "value": "Epoch 17, Loss: 2.0752: 100%"
      }
     },
     "d350e110694e41359788454d5174fd3a": {
      "model_module": "@jupyter-widgets/controls",
      "model_module_version": "2.0.0",
      "model_name": "ProgressStyleModel",
      "state": {
       "description_width": ""
      }
     },
     "d35787d1d3e542b5b1b92f42b2c6e673": {
      "model_module": "@jupyter-widgets/base",
      "model_module_version": "2.0.0",
      "model_name": "LayoutModel",
      "state": {
       "visibility": "hidden"
      }
     },
     "d3620cdc92264a788856f2f8c9cb230e": {
      "model_module": "@jupyter-widgets/base",
      "model_module_version": "2.0.0",
      "model_name": "LayoutModel",
      "state": {}
     },
     "d363ada5ec6d43cc87673222320c86f7": {
      "model_module": "@jupyter-widgets/base",
      "model_module_version": "2.0.0",
      "model_name": "LayoutModel",
      "state": {}
     },
     "d374c503b64a4124b49b086fb087f9b3": {
      "model_module": "@jupyter-widgets/controls",
      "model_module_version": "2.0.0",
      "model_name": "HTMLModel",
      "state": {
       "layout": "IPY_MODEL_9e3a5a690a8a4215b4a8ed8ae836236e",
       "style": "IPY_MODEL_a693fb2f211c4cd6b3dcc01b1094862a",
       "value": "Epoch 1991, Loss: -24.4760: 100%"
      }
     },
     "d37891d3f97e4b9ca17af48cd11b75f3": {
      "model_module": "@jupyter-widgets/controls",
      "model_module_version": "2.0.0",
      "model_name": "HTMLStyleModel",
      "state": {
       "description_width": "",
       "font_size": null,
       "text_color": null
      }
     },
     "d3914bab4c2243bcbb69292c0890b1e9": {
      "model_module": "@jupyter-widgets/base",
      "model_module_version": "2.0.0",
      "model_name": "LayoutModel",
      "state": {}
     },
     "d3a3573965c0440e84bf87808a8b8a2e": {
      "model_module": "@jupyter-widgets/base",
      "model_module_version": "2.0.0",
      "model_name": "LayoutModel",
      "state": {}
     },
     "d3b8402df900441483198f26524cf8b6": {
      "model_module": "@jupyter-widgets/base",
      "model_module_version": "2.0.0",
      "model_name": "LayoutModel",
      "state": {}
     },
     "d3bb34ea4cdc4879a19aec2587adc637": {
      "model_module": "@jupyter-widgets/controls",
      "model_module_version": "2.0.0",
      "model_name": "HTMLModel",
      "state": {
       "layout": "IPY_MODEL_e5b314e185de4b4ca179c465945b9e57",
       "style": "IPY_MODEL_1285d5c9a1954bda8da40543cace4b53",
       "value": "Epoch 15, Loss: 2.1910: 100%"
      }
     },
     "d3d2c4c0cf014aac8c752d7c334c0e9e": {
      "model_module": "@jupyter-widgets/base",
      "model_module_version": "2.0.0",
      "model_name": "LayoutModel",
      "state": {}
     },
     "d3ef302ef7134b6cb396972a924c41ee": {
      "model_module": "@jupyter-widgets/controls",
      "model_module_version": "2.0.0",
      "model_name": "HTMLModel",
      "state": {
       "layout": "IPY_MODEL_e0489e5d191b44c5bca8c615bb36ef15",
       "style": "IPY_MODEL_fde3130889aa47a2a3e98daed0e7b97b",
       "value": " 14/14 [00:01&lt;00:00, 10.25it/s]"
      }
     },
     "d3f27ee162f54ee9823e650729edda13": {
      "model_module": "@jupyter-widgets/controls",
      "model_module_version": "2.0.0",
      "model_name": "HTMLModel",
      "state": {
       "layout": "IPY_MODEL_ae35f251250e41ee869548f8abf23843",
       "style": "IPY_MODEL_076358be69d24e7a99333b238860a40e",
       "value": "Epoch 8, Loss: 2.7872: 100%"
      }
     },
     "d3f7cdb816944c738e2106c838c339fd": {
      "model_module": "@jupyter-widgets/controls",
      "model_module_version": "2.0.0",
      "model_name": "FloatProgressModel",
      "state": {
       "layout": "IPY_MODEL_03439b6814594f4eaa73c4e56efb0d4d",
       "max": 27,
       "style": "IPY_MODEL_249c7b1efd654821a3e0b3b24c524c22",
       "value": 27
      }
     },
     "d4044b1d3ab240f28394c84076d81c0c": {
      "model_module": "@jupyter-widgets/base",
      "model_module_version": "2.0.0",
      "model_name": "LayoutModel",
      "state": {}
     },
     "d40ab8e6d92f4b1d926237acabb49561": {
      "model_module": "@jupyter-widgets/controls",
      "model_module_version": "2.0.0",
      "model_name": "HTMLStyleModel",
      "state": {
       "description_width": "",
       "font_size": null,
       "text_color": null
      }
     },
     "d4329dafdbc648b0b80155b012511f8e": {
      "model_module": "@jupyter-widgets/base",
      "model_module_version": "2.0.0",
      "model_name": "LayoutModel",
      "state": {}
     },
     "d43c19f7f08741c8ae0e99f0c43530f6": {
      "model_module": "@jupyter-widgets/base",
      "model_module_version": "2.0.0",
      "model_name": "LayoutModel",
      "state": {}
     },
     "d47d2b6ecca1457fb7ffcf3c8aeba441": {
      "model_module": "@jupyter-widgets/controls",
      "model_module_version": "2.0.0",
      "model_name": "HTMLStyleModel",
      "state": {
       "description_width": "",
       "font_size": null,
       "text_color": null
      }
     },
     "d485c03b23794569bf001832dafd6e6f": {
      "model_module": "@jupyter-widgets/controls",
      "model_module_version": "2.0.0",
      "model_name": "HTMLStyleModel",
      "state": {
       "description_width": "",
       "font_size": null,
       "text_color": null
      }
     },
     "d489813239ce47f69b25b70ab0b3fd61": {
      "model_module": "@jupyter-widgets/base",
      "model_module_version": "2.0.0",
      "model_name": "LayoutModel",
      "state": {}
     },
     "d48d075a8ac84b849fe618248cee9f57": {
      "model_module": "@jupyter-widgets/controls",
      "model_module_version": "2.0.0",
      "model_name": "FloatProgressModel",
      "state": {
       "layout": "IPY_MODEL_0d1899765e2343cc8a5d298100c1c61b",
       "max": 14,
       "style": "IPY_MODEL_a2503012197f45d89d59c6c47cf47a62",
       "value": 14
      }
     },
     "d497dd2cfafb4076a7167dedf821cdc7": {
      "model_module": "@jupyter-widgets/base",
      "model_module_version": "2.0.0",
      "model_name": "LayoutModel",
      "state": {
       "visibility": "hidden"
      }
     },
     "d4ae119395b74d7b9da267bab9aed572": {
      "model_module": "@jupyter-widgets/controls",
      "model_module_version": "2.0.0",
      "model_name": "ProgressStyleModel",
      "state": {
       "description_width": ""
      }
     },
     "d4aec7bce503494cbd08ce8ff024b992": {
      "model_module": "@jupyter-widgets/controls",
      "model_module_version": "2.0.0",
      "model_name": "ProgressStyleModel",
      "state": {
       "description_width": ""
      }
     },
     "d4ef0602d763402ca1befecb57f128d0": {
      "model_module": "@jupyter-widgets/controls",
      "model_module_version": "2.0.0",
      "model_name": "HTMLStyleModel",
      "state": {
       "description_width": "",
       "font_size": null,
       "text_color": null
      }
     },
     "d4fe949c4c4f44a089f8ee728a4b7eb3": {
      "model_module": "@jupyter-widgets/base",
      "model_module_version": "2.0.0",
      "model_name": "LayoutModel",
      "state": {}
     },
     "d50c950a5cbc4fd4ba19938a38eb62d8": {
      "model_module": "@jupyter-widgets/controls",
      "model_module_version": "2.0.0",
      "model_name": "ProgressStyleModel",
      "state": {
       "description_width": ""
      }
     },
     "d536f29dbfc94802a8e2c360e507bb56": {
      "model_module": "@jupyter-widgets/controls",
      "model_module_version": "2.0.0",
      "model_name": "FloatProgressModel",
      "state": {
       "layout": "IPY_MODEL_1a040b2e58c24d27af279b56b236bcd6",
       "max": 32,
       "style": "IPY_MODEL_f07648a110f1402b88fc08e29016520c",
       "value": 32
      }
     },
     "d54104c304bb4b799eaedb5765791ca1": {
      "model_module": "@jupyter-widgets/base",
      "model_module_version": "2.0.0",
      "model_name": "LayoutModel",
      "state": {
       "visibility": "hidden"
      }
     },
     "d55fc720929845c7bfd4cbdba79d3c31": {
      "model_module": "@jupyter-widgets/controls",
      "model_module_version": "2.0.0",
      "model_name": "HTMLModel",
      "state": {
       "layout": "IPY_MODEL_8c3d53615152423bb130935ece3e6cfd",
       "style": "IPY_MODEL_547178d6e45f42caa95d5179c07a9539",
       "value": " 32/32 [00:09&lt;00:00,  3.45it/s]"
      }
     },
     "d569ea851a1343a79383743208c5ada4": {
      "model_module": "@jupyter-widgets/base",
      "model_module_version": "2.0.0",
      "model_name": "LayoutModel",
      "state": {}
     },
     "d56da82296f24a2aa933aa765f5f1274": {
      "model_module": "@jupyter-widgets/base",
      "model_module_version": "2.0.0",
      "model_name": "LayoutModel",
      "state": {}
     },
     "d57532374b0a4856b2af48e252dce89a": {
      "model_module": "@jupyter-widgets/controls",
      "model_module_version": "2.0.0",
      "model_name": "HTMLStyleModel",
      "state": {
       "description_width": "",
       "font_size": null,
       "text_color": null
      }
     },
     "d59573ec7d5d4834ad4af4ad886c4c1c": {
      "model_module": "@jupyter-widgets/controls",
      "model_module_version": "2.0.0",
      "model_name": "HTMLModel",
      "state": {
       "layout": "IPY_MODEL_3d756ae61caf410faef888a515c637d2",
       "style": "IPY_MODEL_60f60fe84fc3449098886c638d494171",
       "value": " 77/77 [00:28&lt;00:00,  2.92it/s]"
      }
     },
     "d59c28cf56e248f7b4f335bb07751ec8": {
      "model_module": "@jupyter-widgets/controls",
      "model_module_version": "2.0.0",
      "model_name": "HTMLModel",
      "state": {
       "layout": "IPY_MODEL_443ed7825e174ea5b28510a156557dee",
       "style": "IPY_MODEL_ded11fa2d8e9406d9fc8cff5ec32ff5b",
       "value": "Epoch 8, Loss: 2.2172: 100%"
      }
     },
     "d5ee222809e5454cb53a8525ae9dc896": {
      "model_module": "@jupyter-widgets/controls",
      "model_module_version": "2.0.0",
      "model_name": "HTMLModel",
      "state": {
       "layout": "IPY_MODEL_eafc509103304bd1bc6a69a9144b1c8e",
       "style": "IPY_MODEL_b86f009d9e414f60be9e99febd97c7b7",
       "value": " 14/14 [00:01&lt;00:00, 10.34it/s]"
      }
     },
     "d6394a73c0794e1790f21e927591a42f": {
      "model_module": "@jupyter-widgets/base",
      "model_module_version": "2.0.0",
      "model_name": "LayoutModel",
      "state": {}
     },
     "d6840ffc9a814b32acd73635d7c2f148": {
      "model_module": "@jupyter-widgets/controls",
      "model_module_version": "2.0.0",
      "model_name": "HTMLModel",
      "state": {
       "layout": "IPY_MODEL_c20d2344621a4b9186a38bdee6a28026",
       "style": "IPY_MODEL_a7dd6afc67d04298827dae9fb228c8f8",
       "value": "Epoch 15, Loss: 3.1239:  93%"
      }
     },
     "d6a38d83e8c54d6aa4c502faa05f9845": {
      "model_module": "@jupyter-widgets/base",
      "model_module_version": "2.0.0",
      "model_name": "LayoutModel",
      "state": {}
     },
     "d6b1c9d4a4de4ca491e17bb51468e6f5": {
      "model_module": "@jupyter-widgets/base",
      "model_module_version": "2.0.0",
      "model_name": "LayoutModel",
      "state": {
       "visibility": "hidden"
      }
     },
     "d6b513e527fc422b9061fcaa52c67de2": {
      "model_module": "@jupyter-widgets/base",
      "model_module_version": "2.0.0",
      "model_name": "LayoutModel",
      "state": {}
     },
     "d6ba662e73874cc7adba2f5419d7eeb8": {
      "model_module": "@jupyter-widgets/controls",
      "model_module_version": "2.0.0",
      "model_name": "HTMLStyleModel",
      "state": {
       "description_width": "",
       "font_size": null,
       "text_color": null
      }
     },
     "d6c09b9e8b334f4f804c1fa8ea383249": {
      "model_module": "@jupyter-widgets/base",
      "model_module_version": "2.0.0",
      "model_name": "LayoutModel",
      "state": {}
     },
     "d6ef657c5f924e4e99b8d83ef4d8a056": {
      "model_module": "@jupyter-widgets/controls",
      "model_module_version": "2.0.0",
      "model_name": "HTMLModel",
      "state": {
       "layout": "IPY_MODEL_a233677100d54d4f9dd6ab17a7585b62",
       "style": "IPY_MODEL_7f9486b3e66c414bb706c05234268266",
       "value": " 77/77 [00:23&lt;00:00,  3.42it/s]"
      }
     },
     "d738e96bf741459e90983058c141b2e2": {
      "model_module": "@jupyter-widgets/controls",
      "model_module_version": "2.0.0",
      "model_name": "HTMLModel",
      "state": {
       "layout": "IPY_MODEL_2665059fb9764398ba5a2f44eba2a13c",
       "style": "IPY_MODEL_772ce485b50e47b7afeffbd53b6ad559",
       "value": "Epoch 12, Loss: 2.1274: 100%"
      }
     },
     "d74df44f30754ba3ab2379a4c75eb2d2": {
      "model_module": "@jupyter-widgets/controls",
      "model_module_version": "2.0.0",
      "model_name": "HTMLStyleModel",
      "state": {
       "description_width": "",
       "font_size": null,
       "text_color": null
      }
     },
     "d77c0dabdf4a4b02b6602209de895e84": {
      "model_module": "@jupyter-widgets/controls",
      "model_module_version": "2.0.0",
      "model_name": "HTMLModel",
      "state": {
       "layout": "IPY_MODEL_0ed5f6ada9374fec88bc6529b1205e8e",
       "style": "IPY_MODEL_23e34f13175b4ef19e221d3d69713628",
       "value": " 32/32 [00:09&lt;00:00,  3.39it/s]"
      }
     },
     "d77f60c8d29449728dbabf2a925aa020": {
      "model_module": "@jupyter-widgets/base",
      "model_module_version": "2.0.0",
      "model_name": "LayoutModel",
      "state": {}
     },
     "d7ab876e2e504ca88dbef64ab05c5f27": {
      "model_module": "@jupyter-widgets/base",
      "model_module_version": "2.0.0",
      "model_name": "LayoutModel",
      "state": {}
     },
     "d7bfa24b51634f3d93b676d9bca7ec37": {
      "model_module": "@jupyter-widgets/controls",
      "model_module_version": "2.0.0",
      "model_name": "HTMLStyleModel",
      "state": {
       "description_width": "",
       "font_size": null,
       "text_color": null
      }
     },
     "d7cb69df8cc0499bb1becb76b09bc21d": {
      "model_module": "@jupyter-widgets/base",
      "model_module_version": "2.0.0",
      "model_name": "LayoutModel",
      "state": {}
     },
     "d81ee24150bc405dbd112cd332b49fb4": {
      "model_module": "@jupyter-widgets/controls",
      "model_module_version": "2.0.0",
      "model_name": "ProgressStyleModel",
      "state": {
       "description_width": ""
      }
     },
     "d829faa744304d7c9136e71ae4470226": {
      "model_module": "@jupyter-widgets/controls",
      "model_module_version": "2.0.0",
      "model_name": "HTMLStyleModel",
      "state": {
       "description_width": "",
       "font_size": null,
       "text_color": null
      }
     },
     "d85291f4416f4689a07c80b2c46a2b4c": {
      "model_module": "@jupyter-widgets/controls",
      "model_module_version": "2.0.0",
      "model_name": "ProgressStyleModel",
      "state": {
       "description_width": ""
      }
     },
     "d8719620611e45ed92184c6f6f320465": {
      "model_module": "@jupyter-widgets/controls",
      "model_module_version": "2.0.0",
      "model_name": "HTMLModel",
      "state": {
       "layout": "IPY_MODEL_4d4fbe03784e44e598ef92a446b31a96",
       "style": "IPY_MODEL_b6ef9fcce69d4dae94423bf830488c49",
       "value": "Epoch 11, Loss: 3.0510: 100%"
      }
     },
     "d880f77f36d8458888c1c3ca063197ae": {
      "model_module": "@jupyter-widgets/base",
      "model_module_version": "2.0.0",
      "model_name": "LayoutModel",
      "state": {
       "visibility": "hidden"
      }
     },
     "d889b31d31e742fa9417f89e37b1d8a3": {
      "model_module": "@jupyter-widgets/controls",
      "model_module_version": "2.0.0",
      "model_name": "FloatProgressModel",
      "state": {
       "layout": "IPY_MODEL_c17eeca06f7046b3839131b8f2972eb4",
       "max": 77,
       "style": "IPY_MODEL_6bab5a5980784726bababc27e5550a9e",
       "value": 77
      }
     },
     "d8c9ffdd6fed4cb591a2094508a5acad": {
      "model_module": "@jupyter-widgets/base",
      "model_module_version": "2.0.0",
      "model_name": "LayoutModel",
      "state": {}
     },
     "d8e0d0cd4ceb47c39069949f61a53e8b": {
      "model_module": "@jupyter-widgets/controls",
      "model_module_version": "2.0.0",
      "model_name": "ProgressStyleModel",
      "state": {
       "description_width": ""
      }
     },
     "d902d8f7988f4a09ac243f1285581481": {
      "model_module": "@jupyter-widgets/base",
      "model_module_version": "2.0.0",
      "model_name": "LayoutModel",
      "state": {
       "visibility": "hidden"
      }
     },
     "d91bfada1b8946eda16e0e4797f99d49": {
      "model_module": "@jupyter-widgets/base",
      "model_module_version": "2.0.0",
      "model_name": "LayoutModel",
      "state": {}
     },
     "d92ff59bff7445dc9e146236a7042205": {
      "model_module": "@jupyter-widgets/base",
      "model_module_version": "2.0.0",
      "model_name": "LayoutModel",
      "state": {}
     },
     "d93aa314688444629d1ed071f06d2dc7": {
      "model_module": "@jupyter-widgets/base",
      "model_module_version": "2.0.0",
      "model_name": "LayoutModel",
      "state": {}
     },
     "d96914da280b4f34b77dfb0d5ce4d236": {
      "model_module": "@jupyter-widgets/controls",
      "model_module_version": "2.0.0",
      "model_name": "ProgressStyleModel",
      "state": {
       "description_width": ""
      }
     },
     "d989cb4836de4bfa91a8b3894c569f2e": {
      "model_module": "@jupyter-widgets/controls",
      "model_module_version": "2.0.0",
      "model_name": "HTMLStyleModel",
      "state": {
       "description_width": "",
       "font_size": null,
       "text_color": null
      }
     },
     "d98ae21213164196be6d7794d3f66d3b": {
      "model_module": "@jupyter-widgets/base",
      "model_module_version": "2.0.0",
      "model_name": "LayoutModel",
      "state": {}
     },
     "d99d8672f6ab4baeb5173cffeb09e759": {
      "model_module": "@jupyter-widgets/base",
      "model_module_version": "2.0.0",
      "model_name": "LayoutModel",
      "state": {}
     },
     "d9ac7f75ed3f477188bc39a7e13f1b3e": {
      "model_module": "@jupyter-widgets/base",
      "model_module_version": "2.0.0",
      "model_name": "LayoutModel",
      "state": {}
     },
     "da095b8aae1549378c5b3f0959694c01": {
      "model_module": "@jupyter-widgets/controls",
      "model_module_version": "2.0.0",
      "model_name": "FloatProgressModel",
      "state": {
       "layout": "IPY_MODEL_0a5c8164feda4747b2d23a345db90b58",
       "max": 32,
       "style": "IPY_MODEL_a68aafc6dc5840ba9cea084152dde04d",
       "value": 32
      }
     },
     "da70cf25d1f34ac096351a470801c8cd": {
      "model_module": "@jupyter-widgets/base",
      "model_module_version": "2.0.0",
      "model_name": "LayoutModel",
      "state": {}
     },
     "da8a7d13946b4ee8927a955403df370a": {
      "model_module": "@jupyter-widgets/controls",
      "model_module_version": "2.0.0",
      "model_name": "HTMLStyleModel",
      "state": {
       "description_width": "",
       "font_size": null,
       "text_color": null
      }
     },
     "da9be591f0c949468748fecbaa8df8f8": {
      "model_module": "@jupyter-widgets/base",
      "model_module_version": "2.0.0",
      "model_name": "LayoutModel",
      "state": {}
     },
     "dab949a24a5a4282a040e5a815cd0695": {
      "model_module": "@jupyter-widgets/controls",
      "model_module_version": "2.0.0",
      "model_name": "HTMLModel",
      "state": {
       "layout": "IPY_MODEL_09f17e4d90224f48af12478072707acb",
       "style": "IPY_MODEL_f3875ad9f0bf459099cbd18518d1d4df",
       "value": " 32/32 [00:09&lt;00:00,  3.49it/s]"
      }
     },
     "dac04bcb43ca451695291457dfdc43f2": {
      "model_module": "@jupyter-widgets/base",
      "model_module_version": "2.0.0",
      "model_name": "LayoutModel",
      "state": {
       "visibility": "hidden"
      }
     },
     "dac85dc6807e4fff9698556e9fee59d5": {
      "model_module": "@jupyter-widgets/controls",
      "model_module_version": "2.0.0",
      "model_name": "HTMLModel",
      "state": {
       "layout": "IPY_MODEL_2e685cfb19e540a492714ed6698eda45",
       "style": "IPY_MODEL_d40ab8e6d92f4b1d926237acabb49561",
       "value": " 13/14 [00:01&lt;00:00, 10.43it/s]"
      }
     },
     "dad9ead6131f479b854f3959db0dda9d": {
      "model_module": "@jupyter-widgets/controls",
      "model_module_version": "2.0.0",
      "model_name": "HTMLStyleModel",
      "state": {
       "description_width": "",
       "font_size": null,
       "text_color": null
      }
     },
     "dadea320fb284a9fa77f1e62b339e236": {
      "model_module": "@jupyter-widgets/controls",
      "model_module_version": "2.0.0",
      "model_name": "ProgressStyleModel",
      "state": {
       "description_width": ""
      }
     },
     "dae566524e52477ba80408896260cb39": {
      "model_module": "@jupyter-widgets/base",
      "model_module_version": "2.0.0",
      "model_name": "LayoutModel",
      "state": {}
     },
     "db017e3824984214bf063ba119ae9bf6": {
      "model_module": "@jupyter-widgets/controls",
      "model_module_version": "2.0.0",
      "model_name": "HTMLModel",
      "state": {
       "layout": "IPY_MODEL_e1c232f413e749e18ef9bd96c32d56e8",
       "style": "IPY_MODEL_c27354ea90384a3aa72be094a976d0fa",
       "value": " 13/14 [00:01&lt;00:00, 10.46it/s]"
      }
     },
     "db0d512f59b543c7b38c018e4e6dca36": {
      "model_module": "@jupyter-widgets/base",
      "model_module_version": "2.0.0",
      "model_name": "LayoutModel",
      "state": {
       "visibility": "hidden"
      }
     },
     "db2eefe884b94a9695a0f4fc86402e22": {
      "model_module": "@jupyter-widgets/base",
      "model_module_version": "2.0.0",
      "model_name": "LayoutModel",
      "state": {}
     },
     "db2effdc6e904d9ea3c4203a0f753c29": {
      "model_module": "@jupyter-widgets/controls",
      "model_module_version": "2.0.0",
      "model_name": "HTMLModel",
      "state": {
       "layout": "IPY_MODEL_7fb366c9933d495282e12e93c93c3455",
       "style": "IPY_MODEL_d57532374b0a4856b2af48e252dce89a",
       "value": "Epoch 9, Loss: 2.5927: 100%"
      }
     },
     "db41b59a68d045a884eb337a2aa2a372": {
      "model_module": "@jupyter-widgets/controls",
      "model_module_version": "2.0.0",
      "model_name": "HTMLStyleModel",
      "state": {
       "description_width": "",
       "font_size": null,
       "text_color": null
      }
     },
     "db490a911bbb460199dbc505069ae696": {
      "model_module": "@jupyter-widgets/controls",
      "model_module_version": "2.0.0",
      "model_name": "HTMLModel",
      "state": {
       "layout": "IPY_MODEL_1767ac7a57404cef9339c8fffec1449f",
       "style": "IPY_MODEL_7f3cefb98db84734abb3497fb8a7c8f2",
       "value": " 63/63 [00:19&lt;00:00,  3.50it/s]"
      }
     },
     "db4d55233482488d89036155650a800d": {
      "model_module": "@jupyter-widgets/controls",
      "model_module_version": "2.0.0",
      "model_name": "FloatProgressModel",
      "state": {
       "layout": "IPY_MODEL_b0e22f5ac560493ba2d8a5f31e16e3d5",
       "max": 14,
       "style": "IPY_MODEL_f5c1099f58694a458f09234778574a17",
       "value": 14
      }
     },
     "db78ac499f1743b5badaf8f83759fb1e": {
      "model_module": "@jupyter-widgets/base",
      "model_module_version": "2.0.0",
      "model_name": "LayoutModel",
      "state": {
       "visibility": "hidden"
      }
     },
     "dba523a27d2947d5a400e233228ca048": {
      "model_module": "@jupyter-widgets/base",
      "model_module_version": "2.0.0",
      "model_name": "LayoutModel",
      "state": {}
     },
     "dbd3bcfff6274e64839e21358b4c4219": {
      "model_module": "@jupyter-widgets/controls",
      "model_module_version": "2.0.0",
      "model_name": "HTMLStyleModel",
      "state": {
       "description_width": "",
       "font_size": null,
       "text_color": null
      }
     },
     "dc11ae1ea25f4a46b81c2d76e06b5f63": {
      "model_module": "@jupyter-widgets/controls",
      "model_module_version": "2.0.0",
      "model_name": "FloatProgressModel",
      "state": {
       "layout": "IPY_MODEL_212ca92757214116a25f5656910bd158",
       "max": 23,
       "style": "IPY_MODEL_87dad7a1bb6f4bfcb3c4d057402cb133",
       "value": 23
      }
     },
     "dc22583484b94171abc9826319fa385e": {
      "model_module": "@jupyter-widgets/base",
      "model_module_version": "2.0.0",
      "model_name": "LayoutModel",
      "state": {}
     },
     "dc28b28d4be04f78a51e2da2d745a887": {
      "model_module": "@jupyter-widgets/controls",
      "model_module_version": "2.0.0",
      "model_name": "HTMLModel",
      "state": {
       "layout": "IPY_MODEL_e8fe147f55ab436e8029f074cad2eebb",
       "style": "IPY_MODEL_6ddae391df2c4e90be164176063ee476",
       "value": " 77/77 [00:23&lt;00:00,  3.42it/s]"
      }
     },
     "dc34a17d521d4b0188872611f99372d6": {
      "model_module": "@jupyter-widgets/controls",
      "model_module_version": "2.0.0",
      "model_name": "HTMLModel",
      "state": {
       "layout": "IPY_MODEL_c0f3ab94cca148ae923f3b5ea2757902",
       "style": "IPY_MODEL_f7f3baf858ef4d7ba2edfbdc65939aeb",
       "value": " 13/14 [00:01&lt;00:00, 10.32it/s]"
      }
     },
     "dc36dd3ad7084146b7270410358a8d2e": {
      "model_module": "@jupyter-widgets/base",
      "model_module_version": "2.0.0",
      "model_name": "LayoutModel",
      "state": {}
     },
     "dc53f9d7675649f382baf08209f3f1ad": {
      "model_module": "@jupyter-widgets/controls",
      "model_module_version": "2.0.0",
      "model_name": "ProgressStyleModel",
      "state": {
       "description_width": ""
      }
     },
     "dc54f9afe13f44f79443015198f1ea2c": {
      "model_module": "@jupyter-widgets/base",
      "model_module_version": "2.0.0",
      "model_name": "LayoutModel",
      "state": {}
     },
     "dc72eaea90ec40b2b80ebf011b31e148": {
      "model_module": "@jupyter-widgets/base",
      "model_module_version": "2.0.0",
      "model_name": "LayoutModel",
      "state": {}
     },
     "dc8b6b99404242ab9588ffe2b23eee9b": {
      "model_module": "@jupyter-widgets/base",
      "model_module_version": "2.0.0",
      "model_name": "LayoutModel",
      "state": {}
     },
     "dca4e2c196c44f0b90674c4fc07ce7fa": {
      "model_module": "@jupyter-widgets/base",
      "model_module_version": "2.0.0",
      "model_name": "LayoutModel",
      "state": {
       "visibility": "hidden"
      }
     },
     "dca613d70d69455785f45c200e6cba82": {
      "model_module": "@jupyter-widgets/base",
      "model_module_version": "2.0.0",
      "model_name": "LayoutModel",
      "state": {
       "visibility": "hidden"
      }
     },
     "dcb6dff031aa45b6b524c17b5fa63eb7": {
      "model_module": "@jupyter-widgets/controls",
      "model_module_version": "2.0.0",
      "model_name": "HTMLModel",
      "state": {
       "layout": "IPY_MODEL_aba14b0b385a49cd96b4dd767e7630d6",
       "style": "IPY_MODEL_6ada3ffe055c482d95c0e8edcd02946d",
       "value": " 77/77 [00:24&lt;00:00,  3.35it/s]"
      }
     },
     "dcbb3d5fb9024372887046b938fea6c7": {
      "model_module": "@jupyter-widgets/base",
      "model_module_version": "2.0.0",
      "model_name": "LayoutModel",
      "state": {}
     },
     "dcdf0b978ab840f4b573aa420ee03c84": {
      "model_module": "@jupyter-widgets/controls",
      "model_module_version": "2.0.0",
      "model_name": "HTMLStyleModel",
      "state": {
       "description_width": "",
       "font_size": null,
       "text_color": null
      }
     },
     "dd54a474671344eab9681fc9525b7b36": {
      "model_module": "@jupyter-widgets/controls",
      "model_module_version": "2.0.0",
      "model_name": "HTMLModel",
      "state": {
       "layout": "IPY_MODEL_137ef75a54f94e928c41fecb751986b1",
       "style": "IPY_MODEL_47d121d0e84547c3b0a299a6250db1ba",
       "value": " 13/14 [00:01&lt;00:00, 10.33it/s]"
      }
     },
     "dd54e621263643d2a32f7d7ad38a48b8": {
      "model_module": "@jupyter-widgets/controls",
      "model_module_version": "2.0.0",
      "model_name": "HTMLStyleModel",
      "state": {
       "description_width": "",
       "font_size": null,
       "text_color": null
      }
     },
     "dd598bf242c64639bedcb7be64e1b7ff": {
      "model_module": "@jupyter-widgets/controls",
      "model_module_version": "2.0.0",
      "model_name": "HTMLModel",
      "state": {
       "layout": "IPY_MODEL_ca189db41cad472494cc1657533f8e9c",
       "style": "IPY_MODEL_a5d29ad0fbcf401087f5b682923f4eac",
       "value": "Epoch 2, Loss: 2.3903: 100%"
      }
     },
     "dd7536f1ffe6492fba86a5484177cf77": {
      "model_module": "@jupyter-widgets/base",
      "model_module_version": "2.0.0",
      "model_name": "LayoutModel",
      "state": {}
     },
     "dd84acce22084056994c3409f21d256c": {
      "model_module": "@jupyter-widgets/controls",
      "model_module_version": "2.0.0",
      "model_name": "ProgressStyleModel",
      "state": {
       "description_width": ""
      }
     },
     "dd8b847666b74729919bf0de66783aaa": {
      "model_module": "@jupyter-widgets/base",
      "model_module_version": "2.0.0",
      "model_name": "LayoutModel",
      "state": {}
     },
     "ddc82ace6e9241019abfd790eae82023": {
      "model_module": "@jupyter-widgets/controls",
      "model_module_version": "2.0.0",
      "model_name": "ProgressStyleModel",
      "state": {
       "description_width": ""
      }
     },
     "dde3a92ff70a4ea8ac1ef78134e054f5": {
      "model_module": "@jupyter-widgets/controls",
      "model_module_version": "2.0.0",
      "model_name": "HTMLModel",
      "state": {
       "layout": "IPY_MODEL_17fe1677d2f04c2dbf9fbd311293aeb1",
       "style": "IPY_MODEL_f17d8975c2f244d5a255545e0e5b6002",
       "value": "Epoch 12, Loss: 2.4243: 100%"
      }
     },
     "ddeac19dc36d4c20bc1c4726b7ae1b8b": {
      "model_module": "@jupyter-widgets/controls",
      "model_module_version": "2.0.0",
      "model_name": "HTMLModel",
      "state": {
       "layout": "IPY_MODEL_694e244e2dcc4714b53d6d429f6aa867",
       "style": "IPY_MODEL_0ca8cb6e15074de993c3f837a156674b",
       "value": "Epoch 17, Loss: 3.4671:  93%"
      }
     },
     "ddf4060dd2ed4e5db3a7b0831490c1c5": {
      "model_module": "@jupyter-widgets/controls",
      "model_module_version": "2.0.0",
      "model_name": "ProgressStyleModel",
      "state": {
       "description_width": ""
      }
     },
     "de2b5a1e9486430892c38e20ed09dbd2": {
      "model_module": "@jupyter-widgets/controls",
      "model_module_version": "2.0.0",
      "model_name": "HTMLModel",
      "state": {
       "layout": "IPY_MODEL_34fe4b55900240189f92626312293bcd",
       "style": "IPY_MODEL_60f2eb2ef10b4ba5871fd555efb2f6ea",
       "value": " 14/14 [00:01&lt;00:00, 10.43it/s]"
      }
     },
     "de45596254204a88bc01f982085ec8e3": {
      "model_module": "@jupyter-widgets/controls",
      "model_module_version": "2.0.0",
      "model_name": "ProgressStyleModel",
      "state": {
       "description_width": ""
      }
     },
     "de67e0e637364b2c84bb88a1ac5d14d5": {
      "model_module": "@jupyter-widgets/controls",
      "model_module_version": "2.0.0",
      "model_name": "HTMLStyleModel",
      "state": {
       "description_width": "",
       "font_size": null,
       "text_color": null
      }
     },
     "de717c789f144edd96dede40927e2814": {
      "model_module": "@jupyter-widgets/base",
      "model_module_version": "2.0.0",
      "model_name": "LayoutModel",
      "state": {}
     },
     "de717f3b313c410cbbf6ce3f22e1ffdc": {
      "model_module": "@jupyter-widgets/controls",
      "model_module_version": "2.0.0",
      "model_name": "FloatProgressModel",
      "state": {
       "layout": "IPY_MODEL_76e6e4e68c824f9994e3b09afd315e10",
       "max": 14,
       "style": "IPY_MODEL_96c4ee12d5cd4794a1c3168faab73273",
       "value": 14
      }
     },
     "de719ecc3b2848878c130253fb659ee5": {
      "model_module": "@jupyter-widgets/base",
      "model_module_version": "2.0.0",
      "model_name": "LayoutModel",
      "state": {}
     },
     "de79986111674d92a2d25c4e5d582f89": {
      "model_module": "@jupyter-widgets/base",
      "model_module_version": "2.0.0",
      "model_name": "LayoutModel",
      "state": {}
     },
     "de7dfc2b9f71488ba5fbd9daaed6cfef": {
      "model_module": "@jupyter-widgets/controls",
      "model_module_version": "2.0.0",
      "model_name": "HTMLModel",
      "state": {
       "layout": "IPY_MODEL_6b9c849ace714fd499d17e62402586dd",
       "style": "IPY_MODEL_7c28f46728b748df9f86b13e42d3abfd",
       "value": " 13/14 [00:01&lt;00:00,  9.79it/s]"
      }
     },
     "de839d4489134174bbf113abc6c8eb7b": {
      "model_module": "@jupyter-widgets/controls",
      "model_module_version": "2.0.0",
      "model_name": "HTMLStyleModel",
      "state": {
       "description_width": "",
       "font_size": null,
       "text_color": null
      }
     },
     "de9599057a3549b5b34ef23ead810a5f": {
      "model_module": "@jupyter-widgets/controls",
      "model_module_version": "2.0.0",
      "model_name": "HTMLStyleModel",
      "state": {
       "description_width": "",
       "font_size": null,
       "text_color": null
      }
     },
     "debb205d6be74c40a1555dc4002e334b": {
      "model_module": "@jupyter-widgets/controls",
      "model_module_version": "2.0.0",
      "model_name": "HTMLModel",
      "state": {
       "layout": "IPY_MODEL_6fd1790e2d3249f7ae3ab0adc23433f6",
       "style": "IPY_MODEL_85171b2d1d85451bbe21e064d29a320d",
       "value": "Epoch 9, Loss: 2.8962: 100%"
      }
     },
     "dec49458d4e24029a2ad7d7dbf7a00c0": {
      "model_module": "@jupyter-widgets/controls",
      "model_module_version": "2.0.0",
      "model_name": "FloatProgressModel",
      "state": {
       "layout": "IPY_MODEL_11e872fbd52b4e0dbe44aa4dfbc89b07",
       "max": 63,
       "style": "IPY_MODEL_46d7e9dfe0144b779b6481a6898c3f0f",
       "value": 63
      }
     },
     "ded11fa2d8e9406d9fc8cff5ec32ff5b": {
      "model_module": "@jupyter-widgets/controls",
      "model_module_version": "2.0.0",
      "model_name": "HTMLStyleModel",
      "state": {
       "description_width": "",
       "font_size": null,
       "text_color": null
      }
     },
     "df0720b6cae94c3a8a123f95221622c0": {
      "model_module": "@jupyter-widgets/base",
      "model_module_version": "2.0.0",
      "model_name": "LayoutModel",
      "state": {}
     },
     "df15ba8ca0214db08e1a09a35f1a43eb": {
      "model_module": "@jupyter-widgets/controls",
      "model_module_version": "2.0.0",
      "model_name": "FloatProgressModel",
      "state": {
       "layout": "IPY_MODEL_e08e94e8588a41dcb9d687a881215657",
       "max": 23,
       "style": "IPY_MODEL_bd0281ecf2c241438b168c12e0ae76dd",
       "value": 23
      }
     },
     "df1e0a67e8f04fc9b3bafd408ac82d76": {
      "model_module": "@jupyter-widgets/controls",
      "model_module_version": "2.0.0",
      "model_name": "HTMLStyleModel",
      "state": {
       "description_width": "",
       "font_size": null,
       "text_color": null
      }
     },
     "df4a38e5fd154322b6e44872c159b097": {
      "model_module": "@jupyter-widgets/base",
      "model_module_version": "2.0.0",
      "model_name": "LayoutModel",
      "state": {}
     },
     "df6c61f6cd024f4aad66cbaad324a233": {
      "model_module": "@jupyter-widgets/controls",
      "model_module_version": "2.0.0",
      "model_name": "HTMLModel",
      "state": {
       "layout": "IPY_MODEL_62c86674dcab4351b2e4ea84a6877da3",
       "style": "IPY_MODEL_eadb27bf9fba49beb3ec20c9e6fd1693",
       "value": " 13/14 [00:01&lt;00:00,  9.84it/s]"
      }
     },
     "df8e55206dce4e4c8e1ed6c4aea05aeb": {
      "model_module": "@jupyter-widgets/controls",
      "model_module_version": "2.0.0",
      "model_name": "FloatProgressModel",
      "state": {
       "layout": "IPY_MODEL_2940390b3b974d82bd22cfd1ae664b07",
       "max": 77,
       "style": "IPY_MODEL_9f83adea43af4dfba87db5783f0155d0",
       "value": 77
      }
     },
     "df97464a5474445cafcd4bbde500ac2f": {
      "model_module": "@jupyter-widgets/controls",
      "model_module_version": "2.0.0",
      "model_name": "HTMLStyleModel",
      "state": {
       "description_width": "",
       "font_size": null,
       "text_color": null
      }
     },
     "dfaaf0cf8dc742b6b7de30bb96365bce": {
      "model_module": "@jupyter-widgets/base",
      "model_module_version": "2.0.0",
      "model_name": "LayoutModel",
      "state": {}
     },
     "dfc9c76147334795accee428d2770250": {
      "model_module": "@jupyter-widgets/controls",
      "model_module_version": "2.0.0",
      "model_name": "FloatProgressModel",
      "state": {
       "layout": "IPY_MODEL_17a37ae4e53b44b197eba040ae750cda",
       "max": 20,
       "style": "IPY_MODEL_90cfec5fbcbf4a6ca92662f750b01214",
       "value": 20
      }
     },
     "dfce94f5810e4177ab2dfbb2b27473e9": {
      "model_module": "@jupyter-widgets/controls",
      "model_module_version": "2.0.0",
      "model_name": "HTMLModel",
      "state": {
       "layout": "IPY_MODEL_86f8c72ca2e14aed9302de8c8aa36920",
       "style": "IPY_MODEL_731fc434ece544209e5c80f9bd092cb7",
       "value": "Epoch 19, Loss: 2.8915: 100%"
      }
     },
     "dfd4bf5efca042bb9f107259e78e741d": {
      "model_module": "@jupyter-widgets/controls",
      "model_module_version": "2.0.0",
      "model_name": "HTMLStyleModel",
      "state": {
       "description_width": "",
       "font_size": null,
       "text_color": null
      }
     },
     "dfd93e002540411c992f07fc56c2104f": {
      "model_module": "@jupyter-widgets/controls",
      "model_module_version": "2.0.0",
      "model_name": "HTMLStyleModel",
      "state": {
       "description_width": "",
       "font_size": null,
       "text_color": null
      }
     },
     "dff65e733f1d434c8ae815b9bbb8dc75": {
      "model_module": "@jupyter-widgets/controls",
      "model_module_version": "2.0.0",
      "model_name": "ProgressStyleModel",
      "state": {
       "description_width": ""
      }
     },
     "e0025a70f9e142eea30b0176475ccc56": {
      "model_module": "@jupyter-widgets/base",
      "model_module_version": "2.0.0",
      "model_name": "LayoutModel",
      "state": {}
     },
     "e017c70f7793419bb10ed3a2efe35170": {
      "model_module": "@jupyter-widgets/controls",
      "model_module_version": "2.0.0",
      "model_name": "HTMLStyleModel",
      "state": {
       "description_width": "",
       "font_size": null,
       "text_color": null
      }
     },
     "e03a2304903e499d84423626dd112c0c": {
      "model_module": "@jupyter-widgets/controls",
      "model_module_version": "2.0.0",
      "model_name": "ProgressStyleModel",
      "state": {
       "description_width": ""
      }
     },
     "e0489e5d191b44c5bca8c615bb36ef15": {
      "model_module": "@jupyter-widgets/base",
      "model_module_version": "2.0.0",
      "model_name": "LayoutModel",
      "state": {}
     },
     "e064eac406534178b82b1447e8bb0219": {
      "model_module": "@jupyter-widgets/base",
      "model_module_version": "2.0.0",
      "model_name": "LayoutModel",
      "state": {
       "visibility": "hidden"
      }
     },
     "e06f7ac106f443c6b666dc7843056897": {
      "model_module": "@jupyter-widgets/controls",
      "model_module_version": "2.0.0",
      "model_name": "HTMLStyleModel",
      "state": {
       "description_width": "",
       "font_size": null,
       "text_color": null
      }
     },
     "e07c7edead4746fba912803f59ecb1ab": {
      "model_module": "@jupyter-widgets/controls",
      "model_module_version": "2.0.0",
      "model_name": "FloatProgressModel",
      "state": {
       "layout": "IPY_MODEL_dba523a27d2947d5a400e233228ca048",
       "max": 14,
       "style": "IPY_MODEL_e953ac6842b3461ab8e7bd63f6780d44",
       "value": 14
      }
     },
     "e08e94e8588a41dcb9d687a881215657": {
      "model_module": "@jupyter-widgets/base",
      "model_module_version": "2.0.0",
      "model_name": "LayoutModel",
      "state": {}
     },
     "e0b5bf3ac97c4978a050406e5a19042a": {
      "model_module": "@jupyter-widgets/base",
      "model_module_version": "2.0.0",
      "model_name": "LayoutModel",
      "state": {}
     },
     "e0c64a426c5648ea99a1fe4c01a57f49": {
      "model_module": "@jupyter-widgets/controls",
      "model_module_version": "2.0.0",
      "model_name": "FloatProgressModel",
      "state": {
       "layout": "IPY_MODEL_e5e6adf055b94c31b368edd16e172a45",
       "max": 32,
       "style": "IPY_MODEL_a0fbcfe61305466b9a3cdcd291d867be",
       "value": 32
      }
     },
     "e0d75e1b250c4075aa90e67a28080ece": {
      "model_module": "@jupyter-widgets/controls",
      "model_module_version": "2.0.0",
      "model_name": "HTMLModel",
      "state": {
       "layout": "IPY_MODEL_5164bd9808d7469d8f647097481257bf",
       "style": "IPY_MODEL_6cb12cc5a1374de8ae9ab447d071daab",
       "value": "Epoch 18, Loss: 3.7232:  93%"
      }
     },
     "e0e154a8d65c4fc3bcd0c2bf94c50b6a": {
      "model_module": "@jupyter-widgets/controls",
      "model_module_version": "2.0.0",
      "model_name": "HTMLModel",
      "state": {
       "layout": "IPY_MODEL_ed3adac7361349e696261fd200885aa9",
       "style": "IPY_MODEL_f20994d074944d298a8784a239424165",
       "value": "Epoch 11, Loss: 5.1336: 100%"
      }
     },
     "e0eee5b2de524848a5fed78ff0dc0886": {
      "model_module": "@jupyter-widgets/controls",
      "model_module_version": "2.0.0",
      "model_name": "HTMLModel",
      "state": {
       "layout": "IPY_MODEL_b491b632ed1144108b73c3a64b13c587",
       "style": "IPY_MODEL_4be56a37ee024243bd583c50ab70f9a0",
       "value": " 14/14 [00:01&lt;00:00, 10.64it/s]"
      }
     },
     "e12a20b646e14271a73b76a53fb51575": {
      "model_module": "@jupyter-widgets/controls",
      "model_module_version": "2.0.0",
      "model_name": "HTMLModel",
      "state": {
       "layout": "IPY_MODEL_782c0ae1a3c54ffc970197bab3736b31",
       "style": "IPY_MODEL_4d0cd7dc656d4cb6a3585a3438dae2b0",
       "value": "Epoch 7, Loss: 2.1944: 100%"
      }
     },
     "e135e7e081fd470aa4145e8460ebb5a3": {
      "model_module": "@jupyter-widgets/controls",
      "model_module_version": "2.0.0",
      "model_name": "HTMLModel",
      "state": {
       "layout": "IPY_MODEL_767af4b1e71f413da5167527c757e640",
       "style": "IPY_MODEL_2094729878ca4a42bdceee3ebf5663ff",
       "value": " 32/32 [00:09&lt;00:00,  3.47it/s]"
      }
     },
     "e14fcb0df910438cb4a149a41487a7d1": {
      "model_module": "@jupyter-widgets/controls",
      "model_module_version": "2.0.0",
      "model_name": "HTMLModel",
      "state": {
       "layout": "IPY_MODEL_26ac8145e4ad4499b2fb6fe4b9505325",
       "style": "IPY_MODEL_bd6d89116c384b489b3a5d72b1767adf",
       "value": " 27/27 [00:03&lt;00:00, 10.23it/s]"
      }
     },
     "e17621a3ed794439906a2f707f619074": {
      "model_module": "@jupyter-widgets/controls",
      "model_module_version": "2.0.0",
      "model_name": "HTMLModel",
      "state": {
       "layout": "IPY_MODEL_09cb76ed27974d91966ea5ee1bda150a",
       "style": "IPY_MODEL_2cce14062a324376965705f367140822",
       "value": "Epoch 4, Loss: 2.8146:  93%"
      }
     },
     "e187736d73204ea28f784aa5c620b670": {
      "model_module": "@jupyter-widgets/controls",
      "model_module_version": "2.0.0",
      "model_name": "FloatProgressModel",
      "state": {
       "layout": "IPY_MODEL_86b6152e281945a69e00f458211d36e0",
       "max": 14,
       "style": "IPY_MODEL_c538a237fe064cd79216302218651cef",
       "value": 14
      }
     },
     "e194003efdef444d98fa3ae28fc19a8f": {
      "model_module": "@jupyter-widgets/base",
      "model_module_version": "2.0.0",
      "model_name": "LayoutModel",
      "state": {}
     },
     "e196f8b759da43f58d6fec36764a3c4d": {
      "model_module": "@jupyter-widgets/base",
      "model_module_version": "2.0.0",
      "model_name": "LayoutModel",
      "state": {
       "visibility": "hidden"
      }
     },
     "e19fe8d251ac40c2b785358268eaf0ee": {
      "model_module": "@jupyter-widgets/base",
      "model_module_version": "2.0.0",
      "model_name": "LayoutModel",
      "state": {}
     },
     "e1c232f413e749e18ef9bd96c32d56e8": {
      "model_module": "@jupyter-widgets/base",
      "model_module_version": "2.0.0",
      "model_name": "LayoutModel",
      "state": {}
     },
     "e1c3760907bd4649b0bea255c6b3891b": {
      "model_module": "@jupyter-widgets/base",
      "model_module_version": "2.0.0",
      "model_name": "LayoutModel",
      "state": {}
     },
     "e1d860ab8b3645b28790f7a0d1efb0f6": {
      "model_module": "@jupyter-widgets/base",
      "model_module_version": "2.0.0",
      "model_name": "LayoutModel",
      "state": {}
     },
     "e1d9d197a840426792c46d68d9af2259": {
      "model_module": "@jupyter-widgets/base",
      "model_module_version": "2.0.0",
      "model_name": "LayoutModel",
      "state": {}
     },
     "e1f730b7df7f474eb933d38002a6392c": {
      "model_module": "@jupyter-widgets/base",
      "model_module_version": "2.0.0",
      "model_name": "LayoutModel",
      "state": {}
     },
     "e21630c4032e4effa8d15b9a9dbff951": {
      "model_module": "@jupyter-widgets/controls",
      "model_module_version": "2.0.0",
      "model_name": "ProgressStyleModel",
      "state": {
       "description_width": ""
      }
     },
     "e22980b773cd4b3dba31d63a72ba1a00": {
      "model_module": "@jupyter-widgets/base",
      "model_module_version": "2.0.0",
      "model_name": "LayoutModel",
      "state": {}
     },
     "e23f075d402249999fce27896164db4c": {
      "model_module": "@jupyter-widgets/base",
      "model_module_version": "2.0.0",
      "model_name": "LayoutModel",
      "state": {}
     },
     "e2464412482b49cda7e76da5fe742f6d": {
      "model_module": "@jupyter-widgets/controls",
      "model_module_version": "2.0.0",
      "model_name": "ProgressStyleModel",
      "state": {
       "description_width": ""
      }
     },
     "e24b561bfe7742a7a3e21b4c9e080e02": {
      "model_module": "@jupyter-widgets/base",
      "model_module_version": "2.0.0",
      "model_name": "LayoutModel",
      "state": {
       "visibility": "hidden"
      }
     },
     "e2570c4939974ddb884486df661dddcc": {
      "model_module": "@jupyter-widgets/controls",
      "model_module_version": "2.0.0",
      "model_name": "HTMLModel",
      "state": {
       "layout": "IPY_MODEL_43444cfd59754b0d8c3e4c58c28a0067",
       "style": "IPY_MODEL_73201d5d59f744eaba0b9a84d82d116e",
       "value": "Epoch 14, Loss: 2.0464: 100%"
      }
     },
     "e26768122da3439b84bb9dfbde8ff07a": {
      "model_module": "@jupyter-widgets/controls",
      "model_module_version": "2.0.0",
      "model_name": "FloatProgressModel",
      "state": {
       "layout": "IPY_MODEL_189cd2e9c058448a873f8bd1141156a3",
       "max": 63,
       "style": "IPY_MODEL_2a892c0b688048afb813f18a29775ab4",
       "value": 63
      }
     },
     "e26bf710f5934264a526d64fc915df10": {
      "model_module": "@jupyter-widgets/controls",
      "model_module_version": "2.0.0",
      "model_name": "HTMLStyleModel",
      "state": {
       "description_width": "",
       "font_size": null,
       "text_color": null
      }
     },
     "e27abb2de24a4052a5239ca565b2f233": {
      "model_module": "@jupyter-widgets/base",
      "model_module_version": "2.0.0",
      "model_name": "LayoutModel",
      "state": {}
     },
     "e29da6db088e4c05a720fbaf1e227661": {
      "model_module": "@jupyter-widgets/controls",
      "model_module_version": "2.0.0",
      "model_name": "HTMLModel",
      "state": {
       "layout": "IPY_MODEL_029cf89f2beb40fd9baa3c8ca15385c9",
       "style": "IPY_MODEL_91c807192b62424f9879706e3d07a3c2",
       "value": "Epoch 14, Loss: 2.1005: 100%"
      }
     },
     "e2d99cb05d994b9ea0b47789d418eac7": {
      "model_module": "@jupyter-widgets/base",
      "model_module_version": "2.0.0",
      "model_name": "LayoutModel",
      "state": {}
     },
     "e2dda1b621d5467fbcb994c9dc5c5044": {
      "model_module": "@jupyter-widgets/controls",
      "model_module_version": "2.0.0",
      "model_name": "FloatProgressModel",
      "state": {
       "layout": "IPY_MODEL_1b9155c1f5654072906cba2f21cd963e",
       "max": 14,
       "style": "IPY_MODEL_84446630bcca4374b98e724cd72e4b22",
       "value": 14
      }
     },
     "e30b9d78eb294735b6df8c0e1cd01ee1": {
      "model_module": "@jupyter-widgets/base",
      "model_module_version": "2.0.0",
      "model_name": "LayoutModel",
      "state": {
       "visibility": "hidden"
      }
     },
     "e32de5ef95754065aeff05c146cbe699": {
      "model_module": "@jupyter-widgets/controls",
      "model_module_version": "2.0.0",
      "model_name": "HTMLStyleModel",
      "state": {
       "description_width": "",
       "font_size": null,
       "text_color": null
      }
     },
     "e32e85052cdf424cb12835c6159d4198": {
      "model_module": "@jupyter-widgets/base",
      "model_module_version": "2.0.0",
      "model_name": "LayoutModel",
      "state": {
       "visibility": "hidden"
      }
     },
     "e37f164e1b904ebe9849ab7a2a819f4b": {
      "model_module": "@jupyter-widgets/controls",
      "model_module_version": "2.0.0",
      "model_name": "HTMLStyleModel",
      "state": {
       "description_width": "",
       "font_size": null,
       "text_color": null
      }
     },
     "e3cf7cef381f4c0fac0f3aa5cdd83361": {
      "model_module": "@jupyter-widgets/base",
      "model_module_version": "2.0.0",
      "model_name": "LayoutModel",
      "state": {
       "visibility": "hidden"
      }
     },
     "e400e9442d0148338f6f2c86cb82d3eb": {
      "model_module": "@jupyter-widgets/controls",
      "model_module_version": "2.0.0",
      "model_name": "FloatProgressModel",
      "state": {
       "layout": "IPY_MODEL_a62ebd95d12d40dfbe5be8762350f146",
       "max": 14,
       "style": "IPY_MODEL_8529813f48ab4b9a9e1a64426660a4ab",
       "value": 14
      }
     },
     "e406451c6c8f45dda4428cbfa0d835da": {
      "model_module": "@jupyter-widgets/base",
      "model_module_version": "2.0.0",
      "model_name": "LayoutModel",
      "state": {
       "visibility": "hidden"
      }
     },
     "e4243421c2f14eedb049d5406174aa22": {
      "model_module": "@jupyter-widgets/controls",
      "model_module_version": "2.0.0",
      "model_name": "ProgressStyleModel",
      "state": {
       "description_width": ""
      }
     },
     "e43bf26f722d49e4b85025f9f09478b9": {
      "model_module": "@jupyter-widgets/controls",
      "model_module_version": "2.0.0",
      "model_name": "HTMLStyleModel",
      "state": {
       "description_width": "",
       "font_size": null,
       "text_color": null
      }
     },
     "e4d220f22b4840078ebae579e2357355": {
      "model_module": "@jupyter-widgets/controls",
      "model_module_version": "2.0.0",
      "model_name": "HTMLStyleModel",
      "state": {
       "description_width": "",
       "font_size": null,
       "text_color": null
      }
     },
     "e4dcccf2e0f2447fbef71e9ec9666f81": {
      "model_module": "@jupyter-widgets/base",
      "model_module_version": "2.0.0",
      "model_name": "LayoutModel",
      "state": {}
     },
     "e4f21ac7dfd04b4e82f72a341509d8e3": {
      "model_module": "@jupyter-widgets/base",
      "model_module_version": "2.0.0",
      "model_name": "LayoutModel",
      "state": {}
     },
     "e51b5cd6454346f1b6642206d9dc1f1c": {
      "model_module": "@jupyter-widgets/base",
      "model_module_version": "2.0.0",
      "model_name": "LayoutModel",
      "state": {}
     },
     "e522e455b496447f81a4d17a29681573": {
      "model_module": "@jupyter-widgets/base",
      "model_module_version": "2.0.0",
      "model_name": "LayoutModel",
      "state": {}
     },
     "e529232e868c4cfab1c7c58f73ec3135": {
      "model_module": "@jupyter-widgets/controls",
      "model_module_version": "2.0.0",
      "model_name": "FloatProgressModel",
      "state": {
       "layout": "IPY_MODEL_d489813239ce47f69b25b70ab0b3fd61",
       "max": 14,
       "style": "IPY_MODEL_4b8b638abf6e46c2b5bcdfa62b35f25c",
       "value": 14
      }
     },
     "e5455e2dc2a5443cb344ca90b6e16c28": {
      "model_module": "@jupyter-widgets/base",
      "model_module_version": "2.0.0",
      "model_name": "LayoutModel",
      "state": {
       "visibility": "hidden"
      }
     },
     "e55358294439466394cd00cc7fe3f568": {
      "model_module": "@jupyter-widgets/controls",
      "model_module_version": "2.0.0",
      "model_name": "ProgressStyleModel",
      "state": {
       "description_width": ""
      }
     },
     "e58b36e4df6e4b41bd153b04559080ac": {
      "model_module": "@jupyter-widgets/base",
      "model_module_version": "2.0.0",
      "model_name": "LayoutModel",
      "state": {}
     },
     "e5a80ee4cf464f5db8d421de908dd62a": {
      "model_module": "@jupyter-widgets/base",
      "model_module_version": "2.0.0",
      "model_name": "LayoutModel",
      "state": {}
     },
     "e5aa9cf895424d9b8806c76969d93cc2": {
      "model_module": "@jupyter-widgets/base",
      "model_module_version": "2.0.0",
      "model_name": "LayoutModel",
      "state": {}
     },
     "e5b314e185de4b4ca179c465945b9e57": {
      "model_module": "@jupyter-widgets/base",
      "model_module_version": "2.0.0",
      "model_name": "LayoutModel",
      "state": {}
     },
     "e5bc66494755420291e2ec52e0deb8e8": {
      "model_module": "@jupyter-widgets/base",
      "model_module_version": "2.0.0",
      "model_name": "LayoutModel",
      "state": {}
     },
     "e5bcc1f6aa2145788064305e01cc2b3b": {
      "model_module": "@jupyter-widgets/base",
      "model_module_version": "2.0.0",
      "model_name": "LayoutModel",
      "state": {
       "visibility": "hidden"
      }
     },
     "e5c40d7a8b1c4a78a1e26536527657b3": {
      "model_module": "@jupyter-widgets/controls",
      "model_module_version": "2.0.0",
      "model_name": "HTMLModel",
      "state": {
       "layout": "IPY_MODEL_cc481e03a2734db3a81d42c7d07320aa",
       "style": "IPY_MODEL_050d463d20cc438ebfce98e2b634f132",
       "value": " 77/77 [00:23&lt;00:00,  3.47it/s]"
      }
     },
     "e5cdb714e93d43eabfba750b642b2cef": {
      "model_module": "@jupyter-widgets/controls",
      "model_module_version": "2.0.0",
      "model_name": "HTMLStyleModel",
      "state": {
       "description_width": "",
       "font_size": null,
       "text_color": null
      }
     },
     "e5e6adf055b94c31b368edd16e172a45": {
      "model_module": "@jupyter-widgets/base",
      "model_module_version": "2.0.0",
      "model_name": "LayoutModel",
      "state": {}
     },
     "e61a35a316ea401f8702675de66cc581": {
      "model_module": "@jupyter-widgets/controls",
      "model_module_version": "2.0.0",
      "model_name": "HTMLStyleModel",
      "state": {
       "description_width": "",
       "font_size": null,
       "text_color": null
      }
     },
     "e62a53d059be4ac39e1fe142f66fb3dc": {
      "model_module": "@jupyter-widgets/controls",
      "model_module_version": "2.0.0",
      "model_name": "HTMLModel",
      "state": {
       "layout": "IPY_MODEL_aa6a84c810d64c339b42aa8b1f6258cd",
       "style": "IPY_MODEL_165d51f8a8694d19a527bb36f8e836ce",
       "value": " 63/63 [00:19&lt;00:00,  3.31it/s]"
      }
     },
     "e63409d8f4524c49b16ece968e112cc8": {
      "model_module": "@jupyter-widgets/base",
      "model_module_version": "2.0.0",
      "model_name": "LayoutModel",
      "state": {}
     },
     "e63cbec89844415090f94e4c5e2be675": {
      "model_module": "@jupyter-widgets/controls",
      "model_module_version": "2.0.0",
      "model_name": "FloatProgressModel",
      "state": {
       "layout": "IPY_MODEL_f680169347a3432e9af91b2cb38d06f1",
       "max": 14,
       "style": "IPY_MODEL_b4c40df7c62e4ca1951103125ec304d3",
       "value": 14
      }
     },
     "e663bafffcad480aaf9f9be3a62c976f": {
      "model_module": "@jupyter-widgets/controls",
      "model_module_version": "2.0.0",
      "model_name": "FloatProgressModel",
      "state": {
       "layout": "IPY_MODEL_32ef65f8bd1d476f86ad59821f76b8ea",
       "max": 14,
       "style": "IPY_MODEL_77472225f83d4aa78a84b762cc20c5f0",
       "value": 14
      }
     },
     "e672a92b12c347c8b1762b38d6bb3cef": {
      "model_module": "@jupyter-widgets/controls",
      "model_module_version": "2.0.0",
      "model_name": "HTMLStyleModel",
      "state": {
       "description_width": "",
       "font_size": null,
       "text_color": null
      }
     },
     "e6d1555ccfd4442f8b29bc3718092676": {
      "model_module": "@jupyter-widgets/base",
      "model_module_version": "2.0.0",
      "model_name": "LayoutModel",
      "state": {}
     },
     "e6e8df6c672a4addbc649ff2b19a21e1": {
      "model_module": "@jupyter-widgets/controls",
      "model_module_version": "2.0.0",
      "model_name": "HTMLModel",
      "state": {
       "layout": "IPY_MODEL_1c77620883d74dcd9524776b4d833fe4",
       "style": "IPY_MODEL_1518a8b5778d4d7883f1051ece695da0",
       "value": " 32/32 [00:09&lt;00:00,  3.48it/s]"
      }
     },
     "e6fe9dc47b96426d9be5d67d28221ecc": {
      "model_module": "@jupyter-widgets/base",
      "model_module_version": "2.0.0",
      "model_name": "LayoutModel",
      "state": {}
     },
     "e725e23514cb4ab7bb9c67e7c77930e1": {
      "model_module": "@jupyter-widgets/base",
      "model_module_version": "2.0.0",
      "model_name": "LayoutModel",
      "state": {}
     },
     "e728bfd1f1a345b7a0f7d6ce95b246f6": {
      "model_module": "@jupyter-widgets/controls",
      "model_module_version": "2.0.0",
      "model_name": "HTMLStyleModel",
      "state": {
       "description_width": "",
       "font_size": null,
       "text_color": null
      }
     },
     "e72979b723204e9b8978243586976e7e": {
      "model_module": "@jupyter-widgets/base",
      "model_module_version": "2.0.0",
      "model_name": "LayoutModel",
      "state": {
       "visibility": "hidden"
      }
     },
     "e75770d8a55c47409c0aa635be540fc8": {
      "model_module": "@jupyter-widgets/controls",
      "model_module_version": "2.0.0",
      "model_name": "FloatProgressModel",
      "state": {
       "layout": "IPY_MODEL_623af8afa7a3416ea6df2cda898513cf",
       "max": 14,
       "style": "IPY_MODEL_56dd30cf92b34ccabe23fc8f04ba16be",
       "value": 14
      }
     },
     "e767d8df08fb4341b91a9123d0b03201": {
      "model_module": "@jupyter-widgets/controls",
      "model_module_version": "2.0.0",
      "model_name": "HTMLModel",
      "state": {
       "layout": "IPY_MODEL_7a079ded63514d009be856616854455e",
       "style": "IPY_MODEL_04b88be5047042c9a5b83a058ff0baf0",
       "value": "Epoch 4, Loss: 3.4660:  93%"
      }
     },
     "e799a373a21b43d0a060039f1bf78c1a": {
      "model_module": "@jupyter-widgets/base",
      "model_module_version": "2.0.0",
      "model_name": "LayoutModel",
      "state": {
       "visibility": "hidden"
      }
     },
     "e7a87932502c4769b12a06950e1caf07": {
      "model_module": "@jupyter-widgets/base",
      "model_module_version": "2.0.0",
      "model_name": "LayoutModel",
      "state": {
       "visibility": "hidden"
      }
     },
     "e7afa0e13ccd49f793177c0a865a6c19": {
      "model_module": "@jupyter-widgets/controls",
      "model_module_version": "2.0.0",
      "model_name": "HTMLStyleModel",
      "state": {
       "description_width": "",
       "font_size": null,
       "text_color": null
      }
     },
     "e7c886cc33cc423cb56e2b82736bf163": {
      "model_module": "@jupyter-widgets/controls",
      "model_module_version": "2.0.0",
      "model_name": "HTMLModel",
      "state": {
       "layout": "IPY_MODEL_dc22583484b94171abc9826319fa385e",
       "style": "IPY_MODEL_2581768cb1c040b5ab6999c7d64fa93e",
       "value": "Epoch 16, Loss: 2.3989: 100%"
      }
     },
     "e7cb784ded0541d69b7592812f15c0c6": {
      "model_module": "@jupyter-widgets/controls",
      "model_module_version": "2.0.0",
      "model_name": "HTMLStyleModel",
      "state": {
       "description_width": "",
       "font_size": null,
       "text_color": null
      }
     },
     "e7f42297ccad43e9877484d3cb785835": {
      "model_module": "@jupyter-widgets/base",
      "model_module_version": "2.0.0",
      "model_name": "LayoutModel",
      "state": {
       "visibility": "hidden"
      }
     },
     "e7f778cf8bb244babf0f8152e5ab02bd": {
      "model_module": "@jupyter-widgets/base",
      "model_module_version": "2.0.0",
      "model_name": "LayoutModel",
      "state": {}
     },
     "e80319da0732475aa19eb826dc57fb5d": {
      "model_module": "@jupyter-widgets/base",
      "model_module_version": "2.0.0",
      "model_name": "LayoutModel",
      "state": {
       "visibility": "hidden"
      }
     },
     "e803adf7e7b246f38de06f804210a704": {
      "model_module": "@jupyter-widgets/controls",
      "model_module_version": "2.0.0",
      "model_name": "ProgressStyleModel",
      "state": {
       "description_width": ""
      }
     },
     "e822216b747143dd9739cf8380fc6883": {
      "model_module": "@jupyter-widgets/base",
      "model_module_version": "2.0.0",
      "model_name": "LayoutModel",
      "state": {}
     },
     "e8225f2b704e457382488ec31891b33f": {
      "model_module": "@jupyter-widgets/controls",
      "model_module_version": "2.0.0",
      "model_name": "HTMLModel",
      "state": {
       "layout": "IPY_MODEL_a9530faabe8c46acb593269934e6d700",
       "style": "IPY_MODEL_a46680de93964a6e8332436c92c0b6e9",
       "value": "Epoch 2, Loss: 2.8023: 100%"
      }
     },
     "e833b696c9fb4997bead67638a4dd977": {
      "model_module": "@jupyter-widgets/controls",
      "model_module_version": "2.0.0",
      "model_name": "HTMLModel",
      "state": {
       "layout": "IPY_MODEL_70b0fc54ef0e4f74b00e6f8bee615172",
       "style": "IPY_MODEL_e017c70f7793419bb10ed3a2efe35170",
       "value": " 77/77 [00:23&lt;00:00,  3.53it/s]"
      }
     },
     "e8524e8142084c3093ea3fb4ef3ba5e1": {
      "model_module": "@jupyter-widgets/controls",
      "model_module_version": "2.0.0",
      "model_name": "HTMLStyleModel",
      "state": {
       "description_width": "",
       "font_size": null,
       "text_color": null
      }
     },
     "e8694d5201914dc9b935639604dae8f3": {
      "model_module": "@jupyter-widgets/controls",
      "model_module_version": "2.0.0",
      "model_name": "ProgressStyleModel",
      "state": {
       "description_width": ""
      }
     },
     "e87adebb0df044cf82db263b9347b3dd": {
      "model_module": "@jupyter-widgets/controls",
      "model_module_version": "2.0.0",
      "model_name": "HTMLModel",
      "state": {
       "layout": "IPY_MODEL_48aaeb45f6644f14b57c521e830634d0",
       "style": "IPY_MODEL_abafb3e49c2849f9ae28eb94a65b4052",
       "value": "Epoch 1, Loss: 2.8095:  93%"
      }
     },
     "e88f94daf16447668092c9cda182a308": {
      "model_module": "@jupyter-widgets/base",
      "model_module_version": "2.0.0",
      "model_name": "LayoutModel",
      "state": {
       "visibility": "hidden"
      }
     },
     "e892a3195e89408dbad2bcc3ab63e071": {
      "model_module": "@jupyter-widgets/base",
      "model_module_version": "2.0.0",
      "model_name": "LayoutModel",
      "state": {}
     },
     "e8abec34c4a7413e859455aab5deda80": {
      "model_module": "@jupyter-widgets/base",
      "model_module_version": "2.0.0",
      "model_name": "LayoutModel",
      "state": {}
     },
     "e8cfca260a074494989abce4113f4c80": {
      "model_module": "@jupyter-widgets/controls",
      "model_module_version": "2.0.0",
      "model_name": "ProgressStyleModel",
      "state": {
       "description_width": ""
      }
     },
     "e8ecbe15cd8f482c94d3c1f7cab9ce7e": {
      "model_module": "@jupyter-widgets/controls",
      "model_module_version": "2.0.0",
      "model_name": "HTMLModel",
      "state": {
       "layout": "IPY_MODEL_0eb4a653ec0a4f4588492a9f908b3241",
       "style": "IPY_MODEL_ab6e13f987ff4c0fb2d80c0c60ca1362",
       "value": " 14/14 [00:01&lt;00:00, 10.45it/s]"
      }
     },
     "e8fb61cc874b46e588357d568bbf7a6c": {
      "model_module": "@jupyter-widgets/base",
      "model_module_version": "2.0.0",
      "model_name": "LayoutModel",
      "state": {
       "visibility": "hidden"
      }
     },
     "e8fe147f55ab436e8029f074cad2eebb": {
      "model_module": "@jupyter-widgets/base",
      "model_module_version": "2.0.0",
      "model_name": "LayoutModel",
      "state": {}
     },
     "e9122fb3c33140c69fc37cd9922759da": {
      "model_module": "@jupyter-widgets/controls",
      "model_module_version": "2.0.0",
      "model_name": "HTMLModel",
      "state": {
       "layout": "IPY_MODEL_583179e430a14674b3eeee8ee6a21ef9",
       "style": "IPY_MODEL_c5c8e434aee7493cab2c86b62032e342",
       "value": "Epoch 6, Loss: 3.2940: 100%"
      }
     },
     "e9276e3cadfa47ce8b274d9b4a593fc2": {
      "model_module": "@jupyter-widgets/base",
      "model_module_version": "2.0.0",
      "model_name": "LayoutModel",
      "state": {}
     },
     "e949ec51816e4e0b9e338fad05bb8cec": {
      "model_module": "@jupyter-widgets/controls",
      "model_module_version": "2.0.0",
      "model_name": "HTMLModel",
      "state": {
       "layout": "IPY_MODEL_b7adb3b6fb3f41afaf7d09302f51b176",
       "style": "IPY_MODEL_a53aca61d4b54da1894e0a7fa810c305",
       "value": " 14/14 [00:01&lt;00:00, 10.38it/s]"
      }
     },
     "e953ac6842b3461ab8e7bd63f6780d44": {
      "model_module": "@jupyter-widgets/controls",
      "model_module_version": "2.0.0",
      "model_name": "ProgressStyleModel",
      "state": {
       "description_width": ""
      }
     },
     "e96166594c8b49cfa45b00122049ca46": {
      "model_module": "@jupyter-widgets/base",
      "model_module_version": "2.0.0",
      "model_name": "LayoutModel",
      "state": {
       "visibility": "hidden"
      }
     },
     "e99b2d1c3c4f4914a0229a0e7894a111": {
      "model_module": "@jupyter-widgets/controls",
      "model_module_version": "2.0.0",
      "model_name": "ProgressStyleModel",
      "state": {
       "description_width": ""
      }
     },
     "e9a6f70746f64ba889f8f6a1daf2539e": {
      "model_module": "@jupyter-widgets/base",
      "model_module_version": "2.0.0",
      "model_name": "LayoutModel",
      "state": {}
     },
     "e9aa259be0564d9386d5076099db3059": {
      "model_module": "@jupyter-widgets/controls",
      "model_module_version": "2.0.0",
      "model_name": "HTMLStyleModel",
      "state": {
       "description_width": "",
       "font_size": null,
       "text_color": null
      }
     },
     "e9adba328b054c1f909e530eadf283a4": {
      "model_module": "@jupyter-widgets/controls",
      "model_module_version": "2.0.0",
      "model_name": "HTMLModel",
      "state": {
       "layout": "IPY_MODEL_c82667255f7c437db6c6ed91324753b4",
       "style": "IPY_MODEL_89f86650b3864e7db4da03e6e150231e",
       "value": " 23/23 [00:01&lt;00:00, 16.95it/s]"
      }
     },
     "e9adf92bc0b24366b4bbb6ab48ccba80": {
      "model_module": "@jupyter-widgets/controls",
      "model_module_version": "2.0.0",
      "model_name": "HTMLModel",
      "state": {
       "layout": "IPY_MODEL_f6b0024d411149c6b0d90970963d69e3",
       "style": "IPY_MODEL_2ea9cc2eb2fd4925b10f15bb65c141d6",
       "value": " 26/27 [00:03&lt;00:00, 10.77it/s]"
      }
     },
     "e9c56804788d4d799b505100accf9187": {
      "model_module": "@jupyter-widgets/base",
      "model_module_version": "2.0.0",
      "model_name": "LayoutModel",
      "state": {}
     },
     "e9cf63d24aa74c0fa5787576aa92957e": {
      "model_module": "@jupyter-widgets/base",
      "model_module_version": "2.0.0",
      "model_name": "LayoutModel",
      "state": {}
     },
     "ea0d8ea81ea1471da49d2d2c51e4fe4b": {
      "model_module": "@jupyter-widgets/controls",
      "model_module_version": "2.0.0",
      "model_name": "HTMLModel",
      "state": {
       "layout": "IPY_MODEL_aa9dd28e6a594ce387b5cd235099b8a3",
       "style": "IPY_MODEL_a4b9accdb63043318a7ff2d4638c5d0c",
       "value": " 14/14 [00:01&lt;00:00,  8.73it/s]"
      }
     },
     "ea495a037eab49df892fb9e36f841061": {
      "model_module": "@jupyter-widgets/controls",
      "model_module_version": "2.0.0",
      "model_name": "HTMLStyleModel",
      "state": {
       "description_width": "",
       "font_size": null,
       "text_color": null
      }
     },
     "ea4c2a9be960427b864158b788b44b7e": {
      "model_module": "@jupyter-widgets/controls",
      "model_module_version": "2.0.0",
      "model_name": "HTMLStyleModel",
      "state": {
       "description_width": "",
       "font_size": null,
       "text_color": null
      }
     },
     "ea552d69c660461682d5f484e95a67d5": {
      "model_module": "@jupyter-widgets/controls",
      "model_module_version": "2.0.0",
      "model_name": "FloatProgressModel",
      "state": {
       "layout": "IPY_MODEL_6b1002302ae14bd49de81c4f8c974291",
       "max": 14,
       "style": "IPY_MODEL_1e505a8a29d049e78c96803786326c9d",
       "value": 14
      }
     },
     "ea8ecb6c21964f9e9a3f66fa9f0a0e70": {
      "model_module": "@jupyter-widgets/base",
      "model_module_version": "2.0.0",
      "model_name": "LayoutModel",
      "state": {}
     },
     "ea95faee2e454d40b26a290e735f02f4": {
      "model_module": "@jupyter-widgets/controls",
      "model_module_version": "2.0.0",
      "model_name": "HTMLModel",
      "state": {
       "layout": "IPY_MODEL_9d0f4b634a0b43f2b57b3b5229b2cac8",
       "style": "IPY_MODEL_6764ac8fb32a494aafad5169e9e59b77",
       "value": "Epoch 10, Loss: 3.2661:  93%"
      }
     },
     "eaba578360374c359e5a2b757182a0a5": {
      "model_module": "@jupyter-widgets/controls",
      "model_module_version": "2.0.0",
      "model_name": "HTMLStyleModel",
      "state": {
       "description_width": "",
       "font_size": null,
       "text_color": null
      }
     },
     "eaba754a6ebb48559973e89cb451e62d": {
      "model_module": "@jupyter-widgets/base",
      "model_module_version": "2.0.0",
      "model_name": "LayoutModel",
      "state": {}
     },
     "eacdea31c89f4332b0b8b4d9395263ff": {
      "model_module": "@jupyter-widgets/controls",
      "model_module_version": "2.0.0",
      "model_name": "HTMLStyleModel",
      "state": {
       "description_width": "",
       "font_size": null,
       "text_color": null
      }
     },
     "ead40d62008c45a98452513bae53a812": {
      "model_module": "@jupyter-widgets/base",
      "model_module_version": "2.0.0",
      "model_name": "LayoutModel",
      "state": {}
     },
     "eadb27bf9fba49beb3ec20c9e6fd1693": {
      "model_module": "@jupyter-widgets/controls",
      "model_module_version": "2.0.0",
      "model_name": "HTMLStyleModel",
      "state": {
       "description_width": "",
       "font_size": null,
       "text_color": null
      }
     },
     "eaea67fa681046a59107a85821cf892e": {
      "model_module": "@jupyter-widgets/controls",
      "model_module_version": "2.0.0",
      "model_name": "ProgressStyleModel",
      "state": {
       "description_width": ""
      }
     },
     "eafc509103304bd1bc6a69a9144b1c8e": {
      "model_module": "@jupyter-widgets/base",
      "model_module_version": "2.0.0",
      "model_name": "LayoutModel",
      "state": {}
     },
     "eb335b138a274ec49bddefc8a98f31e5": {
      "model_module": "@jupyter-widgets/base",
      "model_module_version": "2.0.0",
      "model_name": "LayoutModel",
      "state": {
       "visibility": "hidden"
      }
     },
     "eb3767fffeaa4f39a10fe13ca73d4bff": {
      "model_module": "@jupyter-widgets/controls",
      "model_module_version": "2.0.0",
      "model_name": "FloatProgressModel",
      "state": {
       "layout": "IPY_MODEL_4438e240e34449c8b2bf3fe6e118109b",
       "max": 14,
       "style": "IPY_MODEL_716562e8a9ce4653844d61f58337d55e",
       "value": 14
      }
     },
     "eb3b4da59ce240cb86e718f92e2acdc2": {
      "model_module": "@jupyter-widgets/controls",
      "model_module_version": "2.0.0",
      "model_name": "FloatProgressModel",
      "state": {
       "layout": "IPY_MODEL_03ad631edf79449cbf3d577cbe527791",
       "max": 27,
       "style": "IPY_MODEL_992c608e813f4fa996cc33ca20f08165",
       "value": 27
      }
     },
     "eb872178fe4d4c5d83f9b20b664194b2": {
      "model_module": "@jupyter-widgets/controls",
      "model_module_version": "2.0.0",
      "model_name": "HTMLStyleModel",
      "state": {
       "description_width": "",
       "font_size": null,
       "text_color": null
      }
     },
     "eb91891aaf634cf294214070a08f7c25": {
      "model_module": "@jupyter-widgets/base",
      "model_module_version": "2.0.0",
      "model_name": "LayoutModel",
      "state": {}
     },
     "eb9bab3b423f42ada62cc06819f83195": {
      "model_module": "@jupyter-widgets/controls",
      "model_module_version": "2.0.0",
      "model_name": "HTMLModel",
      "state": {
       "layout": "IPY_MODEL_3bb05a636c354ab2a5eed50e5ec5ecef",
       "style": "IPY_MODEL_3ee95ea7e0a44068b27ee9bd915d4f4e",
       "value": " 32/32 [00:10&lt;00:00,  3.35it/s]"
      }
     },
     "eba49926811a4dd78df04489471e5f03": {
      "model_module": "@jupyter-widgets/base",
      "model_module_version": "2.0.0",
      "model_name": "LayoutModel",
      "state": {
       "visibility": "hidden"
      }
     },
     "ec1081ecadb547088df0239c34a74d87": {
      "model_module": "@jupyter-widgets/controls",
      "model_module_version": "2.0.0",
      "model_name": "HTMLStyleModel",
      "state": {
       "description_width": "",
       "font_size": null,
       "text_color": null
      }
     },
     "ec131934007d46d583ed907eb28bab5e": {
      "model_module": "@jupyter-widgets/base",
      "model_module_version": "2.0.0",
      "model_name": "LayoutModel",
      "state": {}
     },
     "ec320353644d42ef8a0cb7d5db4e1632": {
      "model_module": "@jupyter-widgets/controls",
      "model_module_version": "2.0.0",
      "model_name": "FloatProgressModel",
      "state": {
       "layout": "IPY_MODEL_926ba82db37641cab582e224f0ac4a2a",
       "max": 14,
       "style": "IPY_MODEL_5370c8834920415eb2ba8f040ba2756e",
       "value": 14
      }
     },
     "ec5ec9fe80cf44c3b242ffe30216eae4": {
      "model_module": "@jupyter-widgets/controls",
      "model_module_version": "2.0.0",
      "model_name": "FloatProgressModel",
      "state": {
       "layout": "IPY_MODEL_aa4f9fe3b96d49a591cc29b8aca21d5f",
       "max": 23,
       "style": "IPY_MODEL_9c16ad91bb664c25b48ba1531421e87b",
       "value": 23
      }
     },
     "ec682f739b04418cbcd7e05c2f93bb9a": {
      "model_module": "@jupyter-widgets/controls",
      "model_module_version": "2.0.0",
      "model_name": "FloatProgressModel",
      "state": {
       "layout": "IPY_MODEL_8cc4a1f92c674123b2f64cb2c1716c2d",
       "max": 23,
       "style": "IPY_MODEL_628b6dab139c4ce49830cf8de755da04",
       "value": 23
      }
     },
     "ec79b003b2a9449fa83a8a9798a870ce": {
      "model_module": "@jupyter-widgets/controls",
      "model_module_version": "2.0.0",
      "model_name": "HTMLModel",
      "state": {
       "layout": "IPY_MODEL_4751692cb90e454fb1b5fcf25e63b233",
       "style": "IPY_MODEL_894fda41627445be830e116826d01a8c",
       "value": " 14/14 [00:01&lt;00:00, 10.24it/s]"
      }
     },
     "ec9a32003f164a3d807cb48fbcc404fc": {
      "model_module": "@jupyter-widgets/base",
      "model_module_version": "2.0.0",
      "model_name": "LayoutModel",
      "state": {}
     },
     "ecd0d0e3a3184c2cb6e2eeda4e61fd8c": {
      "model_module": "@jupyter-widgets/base",
      "model_module_version": "2.0.0",
      "model_name": "LayoutModel",
      "state": {
       "visibility": "hidden"
      }
     },
     "ecde1a3c2bc44ce292aa0b5907eb941b": {
      "model_module": "@jupyter-widgets/controls",
      "model_module_version": "2.0.0",
      "model_name": "HTMLStyleModel",
      "state": {
       "description_width": "",
       "font_size": null,
       "text_color": null
      }
     },
     "ed049b2a0bf348edab9c81a3169f8fb8": {
      "model_module": "@jupyter-widgets/controls",
      "model_module_version": "2.0.0",
      "model_name": "HTMLStyleModel",
      "state": {
       "description_width": "",
       "font_size": null,
       "text_color": null
      }
     },
     "ed27074a90c140dab01962d02fda9def": {
      "model_module": "@jupyter-widgets/base",
      "model_module_version": "2.0.0",
      "model_name": "LayoutModel",
      "state": {}
     },
     "ed3adac7361349e696261fd200885aa9": {
      "model_module": "@jupyter-widgets/base",
      "model_module_version": "2.0.0",
      "model_name": "LayoutModel",
      "state": {}
     },
     "ed835776a47b49da8cd70c56433b0910": {
      "model_module": "@jupyter-widgets/controls",
      "model_module_version": "2.0.0",
      "model_name": "FloatProgressModel",
      "state": {
       "layout": "IPY_MODEL_9e42da5be2b64bf484919fee3da1af90",
       "max": 32,
       "style": "IPY_MODEL_4557d75a3c2346208bd782fed6e4b39e",
       "value": 32
      }
     },
     "ed88829dfb064daf9543450c88a5e00f": {
      "model_module": "@jupyter-widgets/controls",
      "model_module_version": "2.0.0",
      "model_name": "FloatProgressModel",
      "state": {
       "layout": "IPY_MODEL_48a13b18dee94a4dbf30106af0fbce47",
       "max": 14,
       "style": "IPY_MODEL_4fbe0ae014fc4244ba482b9b41bc22ce",
       "value": 14
      }
     },
     "eddea4518ee847e8ba5b6ac4900590e7": {
      "model_module": "@jupyter-widgets/base",
      "model_module_version": "2.0.0",
      "model_name": "LayoutModel",
      "state": {}
     },
     "ede8fa868718496d972e5f6d872b1498": {
      "model_module": "@jupyter-widgets/controls",
      "model_module_version": "2.0.0",
      "model_name": "HTMLModel",
      "state": {
       "layout": "IPY_MODEL_c7b2fb7255a04e2ba0eaa37ffeac4fe1",
       "style": "IPY_MODEL_4b813670d32249189c6d47d73656664a",
       "value": "Epoch 6, Loss: 3.2546: 100%"
      }
     },
     "ee11141dddc9402b8ad0174809e43032": {
      "model_module": "@jupyter-widgets/base",
      "model_module_version": "2.0.0",
      "model_name": "LayoutModel",
      "state": {}
     },
     "ee18a6c3469345f8a17d284f9b431a5a": {
      "model_module": "@jupyter-widgets/controls",
      "model_module_version": "2.0.0",
      "model_name": "ProgressStyleModel",
      "state": {
       "description_width": ""
      }
     },
     "ee333be8d185482494d903e256e67ffa": {
      "model_module": "@jupyter-widgets/controls",
      "model_module_version": "2.0.0",
      "model_name": "FloatProgressModel",
      "state": {
       "layout": "IPY_MODEL_aa1920ceffe84a06a0c691fd3aee7e80",
       "max": 14,
       "style": "IPY_MODEL_481b616086194746a739c88753250ec5",
       "value": 14
      }
     },
     "ee4acd5bceae4dd4a1155c5a16909cb0": {
      "model_module": "@jupyter-widgets/base",
      "model_module_version": "2.0.0",
      "model_name": "LayoutModel",
      "state": {
       "visibility": "hidden"
      }
     },
     "ee7dae9d463f4bcd844c65ad103533c9": {
      "model_module": "@jupyter-widgets/controls",
      "model_module_version": "2.0.0",
      "model_name": "HTMLModel",
      "state": {
       "layout": "IPY_MODEL_e5a80ee4cf464f5db8d421de908dd62a",
       "style": "IPY_MODEL_9a2624ee49f5491ab97b7ce9dcabc7cf",
       "value": "Epoch 12, Loss: 3.5338: 100%"
      }
     },
     "eeb79eea66a24ffb81c21d125fa0b8e7": {
      "model_module": "@jupyter-widgets/base",
      "model_module_version": "2.0.0",
      "model_name": "LayoutModel",
      "state": {}
     },
     "eeb8630b2e6042bcb01e6fa2899eb82c": {
      "model_module": "@jupyter-widgets/base",
      "model_module_version": "2.0.0",
      "model_name": "LayoutModel",
      "state": {}
     },
     "eebe6f0973f24e8eae5774cd4928abd7": {
      "model_module": "@jupyter-widgets/base",
      "model_module_version": "2.0.0",
      "model_name": "LayoutModel",
      "state": {}
     },
     "eedf1ee76dd44ea0a86173c3b0de96e5": {
      "model_module": "@jupyter-widgets/controls",
      "model_module_version": "2.0.0",
      "model_name": "HTMLStyleModel",
      "state": {
       "description_width": "",
       "font_size": null,
       "text_color": null
      }
     },
     "eeee5edfc6d848f2bac854a6f970e2b1": {
      "model_module": "@jupyter-widgets/base",
      "model_module_version": "2.0.0",
      "model_name": "LayoutModel",
      "state": {
       "visibility": "hidden"
      }
     },
     "ef01b17433a949a987ce2d9a156a1133": {
      "model_module": "@jupyter-widgets/controls",
      "model_module_version": "2.0.0",
      "model_name": "HTMLStyleModel",
      "state": {
       "description_width": "",
       "font_size": null,
       "text_color": null
      }
     },
     "ef09cd2eacea4b359027da2ac2211744": {
      "model_module": "@jupyter-widgets/controls",
      "model_module_version": "2.0.0",
      "model_name": "HTMLModel",
      "state": {
       "layout": "IPY_MODEL_71317f613ec94ffc8c2b8c1effc06503",
       "style": "IPY_MODEL_1b931acf74d24344b8aa6ab2be74eb84",
       "value": " 14/14 [00:01&lt;00:00, 10.48it/s]"
      }
     },
     "ef0b09439b194db5ab4629e457d244fc": {
      "model_module": "@jupyter-widgets/controls",
      "model_module_version": "2.0.0",
      "model_name": "FloatProgressModel",
      "state": {
       "layout": "IPY_MODEL_f058fe4c6a8c4005b5e9d0449491020a",
       "max": 77,
       "style": "IPY_MODEL_a65dd03511d74506859be694a1d29117",
       "value": 77
      }
     },
     "ef45c0a1ef2e4a5f874523174d40989b": {
      "model_module": "@jupyter-widgets/controls",
      "model_module_version": "2.0.0",
      "model_name": "FloatProgressModel",
      "state": {
       "layout": "IPY_MODEL_7a10917ac706483d9c648b1838328673",
       "max": 14,
       "style": "IPY_MODEL_663d8663e8d84ebdac1ffb4fc1d45adb",
       "value": 14
      }
     },
     "ef4eafb2c6fe40ed9a22d679d5418897": {
      "model_module": "@jupyter-widgets/controls",
      "model_module_version": "2.0.0",
      "model_name": "HTMLStyleModel",
      "state": {
       "description_width": "",
       "font_size": null,
       "text_color": null
      }
     },
     "ef6a9f0560a941bca20e8af9e6b1cd49": {
      "model_module": "@jupyter-widgets/controls",
      "model_module_version": "2.0.0",
      "model_name": "HTMLModel",
      "state": {
       "layout": "IPY_MODEL_d276d3bca9c54459bf5362dd074126a7",
       "style": "IPY_MODEL_c7a70040ece0478c861b61817e565f75",
       "value": "Epoch 9, Loss: 2.1386: 100%"
      }
     },
     "ef7f7b602f1648648e1ce99018b0b158": {
      "model_module": "@jupyter-widgets/controls",
      "model_module_version": "2.0.0",
      "model_name": "HTMLModel",
      "state": {
       "layout": "IPY_MODEL_9a77798fe5c24717b7514b246a64d435",
       "style": "IPY_MODEL_666d937d429547b4a7588cce0b03219a",
       "value": " 20/20 [09:34&lt;00:00, 26.14s/epoch]"
      }
     },
     "ef9cf220c6db4f1fbf04814e2fc56949": {
      "model_module": "@jupyter-widgets/controls",
      "model_module_version": "2.0.0",
      "model_name": "ProgressStyleModel",
      "state": {
       "description_width": ""
      }
     },
     "efaa5cc9133246c5a87a0d28f284f2e0": {
      "model_module": "@jupyter-widgets/controls",
      "model_module_version": "2.0.0",
      "model_name": "ProgressStyleModel",
      "state": {
       "description_width": ""
      }
     },
     "efad4c6f84e34e3db86fe9ed218931c5": {
      "model_module": "@jupyter-widgets/controls",
      "model_module_version": "2.0.0",
      "model_name": "HTMLStyleModel",
      "state": {
       "description_width": "",
       "font_size": null,
       "text_color": null
      }
     },
     "efbdf7226dc947e6a3c9d3fcfdde62f8": {
      "model_module": "@jupyter-widgets/base",
      "model_module_version": "2.0.0",
      "model_name": "LayoutModel",
      "state": {}
     },
     "efdbfc71d70a4e22a0c31d9a182ef5a6": {
      "model_module": "@jupyter-widgets/base",
      "model_module_version": "2.0.0",
      "model_name": "LayoutModel",
      "state": {}
     },
     "efe90640186f4fb6b1c998bb7e9cd170": {
      "model_module": "@jupyter-widgets/controls",
      "model_module_version": "2.0.0",
      "model_name": "ProgressStyleModel",
      "state": {
       "description_width": ""
      }
     },
     "f00711416f2f49a39bcde6a4fdd57dd8": {
      "model_module": "@jupyter-widgets/controls",
      "model_module_version": "2.0.0",
      "model_name": "HTMLModel",
      "state": {
       "layout": "IPY_MODEL_0b7a5f27d18e4c518e7b27951bbfd21a",
       "style": "IPY_MODEL_b84d59ed2da2442c8fd06f9810f698a4",
       "value": " 20/20 [04:05&lt;00:00, 12.68s/epoch]"
      }
     },
     "f058fe4c6a8c4005b5e9d0449491020a": {
      "model_module": "@jupyter-widgets/base",
      "model_module_version": "2.0.0",
      "model_name": "LayoutModel",
      "state": {}
     },
     "f065f5566a3946fe91d26cf21a371d46": {
      "model_module": "@jupyter-widgets/controls",
      "model_module_version": "2.0.0",
      "model_name": "FloatProgressModel",
      "state": {
       "layout": "IPY_MODEL_8e0040b99f2a454aa157797814a391ef",
       "max": 27,
       "style": "IPY_MODEL_f2a0a18f094a4408b297e237de8c0b1e",
       "value": 27
      }
     },
     "f068f8e7c9e141cda8a07a0f221dacfd": {
      "model_module": "@jupyter-widgets/base",
      "model_module_version": "2.0.0",
      "model_name": "LayoutModel",
      "state": {}
     },
     "f07648a110f1402b88fc08e29016520c": {
      "model_module": "@jupyter-widgets/controls",
      "model_module_version": "2.0.0",
      "model_name": "ProgressStyleModel",
      "state": {
       "description_width": ""
      }
     },
     "f07a64c5c33c47de8eae7bd9ae17db90": {
      "model_module": "@jupyter-widgets/controls",
      "model_module_version": "2.0.0",
      "model_name": "HTMLModel",
      "state": {
       "layout": "IPY_MODEL_70acbaa70a41499ca75bb127374bd186",
       "style": "IPY_MODEL_6e61f08ebf474bb29d22495776c1187c",
       "value": "Epoch 9, Loss: 2.7921: 100%"
      }
     },
     "f087935a122743b3a01104c385c539e6": {
      "model_module": "@jupyter-widgets/controls",
      "model_module_version": "2.0.0",
      "model_name": "HTMLStyleModel",
      "state": {
       "description_width": "",
       "font_size": null,
       "text_color": null
      }
     },
     "f0c415d50e26406e965d57b7d04f99fb": {
      "model_module": "@jupyter-widgets/controls",
      "model_module_version": "2.0.0",
      "model_name": "HTMLStyleModel",
      "state": {
       "description_width": "",
       "font_size": null,
       "text_color": null
      }
     },
     "f0e3be65910945168eafa3ba6236a4e4": {
      "model_module": "@jupyter-widgets/base",
      "model_module_version": "2.0.0",
      "model_name": "LayoutModel",
      "state": {}
     },
     "f0ff050a9b3a441cbcd6f44eb62f2bb3": {
      "model_module": "@jupyter-widgets/base",
      "model_module_version": "2.0.0",
      "model_name": "LayoutModel",
      "state": {}
     },
     "f108f20820a84ecb82367726969bdeae": {
      "model_module": "@jupyter-widgets/base",
      "model_module_version": "2.0.0",
      "model_name": "LayoutModel",
      "state": {}
     },
     "f1509e8dd65a40598f0a90e9fc897b9b": {
      "model_module": "@jupyter-widgets/base",
      "model_module_version": "2.0.0",
      "model_name": "LayoutModel",
      "state": {}
     },
     "f16ea09be90c44db8bcd67fa631d2bad": {
      "model_module": "@jupyter-widgets/base",
      "model_module_version": "2.0.0",
      "model_name": "LayoutModel",
      "state": {}
     },
     "f17d8975c2f244d5a255545e0e5b6002": {
      "model_module": "@jupyter-widgets/controls",
      "model_module_version": "2.0.0",
      "model_name": "HTMLStyleModel",
      "state": {
       "description_width": "",
       "font_size": null,
       "text_color": null
      }
     },
     "f1884dd525d940f992b8a1c37869eb8a": {
      "model_module": "@jupyter-widgets/controls",
      "model_module_version": "2.0.0",
      "model_name": "HTMLModel",
      "state": {
       "layout": "IPY_MODEL_576c8d893dec47f1af5945ae556e35e5",
       "style": "IPY_MODEL_e5cdb714e93d43eabfba750b642b2cef",
       "value": "Epoch 20,Train Loss: 2.4652,Eval Accuracy: 0.6003,Eval Loss: 4.3688: 100%"
      }
     },
     "f188c706dac8490cb93fa557fb7347c4": {
      "model_module": "@jupyter-widgets/base",
      "model_module_version": "2.0.0",
      "model_name": "LayoutModel",
      "state": {}
     },
     "f1cd48d6fbff44fa8bb97b86e0dba0bd": {
      "model_module": "@jupyter-widgets/controls",
      "model_module_version": "2.0.0",
      "model_name": "HTMLStyleModel",
      "state": {
       "description_width": "",
       "font_size": null,
       "text_color": null
      }
     },
     "f1eb601523524719bcfd7aad8ed2fdad": {
      "model_module": "@jupyter-widgets/controls",
      "model_module_version": "2.0.0",
      "model_name": "HTMLStyleModel",
      "state": {
       "description_width": "",
       "font_size": null,
       "text_color": null
      }
     },
     "f20994d074944d298a8784a239424165": {
      "model_module": "@jupyter-widgets/controls",
      "model_module_version": "2.0.0",
      "model_name": "HTMLStyleModel",
      "state": {
       "description_width": "",
       "font_size": null,
       "text_color": null
      }
     },
     "f24e9955eec14b88a84cc72ad64c517a": {
      "model_module": "@jupyter-widgets/base",
      "model_module_version": "2.0.0",
      "model_name": "LayoutModel",
      "state": {
       "visibility": "hidden"
      }
     },
     "f28bb2bfdd874524a4a3c6e81750df29": {
      "model_module": "@jupyter-widgets/controls",
      "model_module_version": "2.0.0",
      "model_name": "HTMLModel",
      "state": {
       "layout": "IPY_MODEL_8df78b1a085148de88cb03fcdf4666b1",
       "style": "IPY_MODEL_32d2902aecd54e81afb9ed33bdad9173",
       "value": " 77/77 [00:24&lt;00:00,  3.36it/s]"
      }
     },
     "f2a0a18f094a4408b297e237de8c0b1e": {
      "model_module": "@jupyter-widgets/controls",
      "model_module_version": "2.0.0",
      "model_name": "ProgressStyleModel",
      "state": {
       "description_width": ""
      }
     },
     "f2af3fb2bb7e4a3eafa6a29f95c8afda": {
      "model_module": "@jupyter-widgets/base",
      "model_module_version": "2.0.0",
      "model_name": "LayoutModel",
      "state": {}
     },
     "f2c3aa499ebc492bba4cfa395814d9f4": {
      "model_module": "@jupyter-widgets/base",
      "model_module_version": "2.0.0",
      "model_name": "LayoutModel",
      "state": {}
     },
     "f2c7f792148b462e9e6a82b56bc87005": {
      "model_module": "@jupyter-widgets/controls",
      "model_module_version": "2.0.0",
      "model_name": "HTMLStyleModel",
      "state": {
       "description_width": "",
       "font_size": null,
       "text_color": null
      }
     },
     "f2e035fd78064d108a0c9414a2f053e6": {
      "model_module": "@jupyter-widgets/base",
      "model_module_version": "2.0.0",
      "model_name": "LayoutModel",
      "state": {}
     },
     "f2eb99391e8e48bb8d3f2fa8fcc232d0": {
      "model_module": "@jupyter-widgets/controls",
      "model_module_version": "2.0.0",
      "model_name": "HTMLStyleModel",
      "state": {
       "description_width": "",
       "font_size": null,
       "text_color": null
      }
     },
     "f2ffcc62dea54546a61d2a470760f156": {
      "model_module": "@jupyter-widgets/controls",
      "model_module_version": "2.0.0",
      "model_name": "HTMLStyleModel",
      "state": {
       "description_width": "",
       "font_size": null,
       "text_color": null
      }
     },
     "f337b74a65164de2aebacb5d9b0310cf": {
      "model_module": "@jupyter-widgets/base",
      "model_module_version": "2.0.0",
      "model_name": "LayoutModel",
      "state": {}
     },
     "f33eb546dc6d4ed5af0fae87621e2ae9": {
      "model_module": "@jupyter-widgets/base",
      "model_module_version": "2.0.0",
      "model_name": "LayoutModel",
      "state": {}
     },
     "f341d86e853c433eabddf652a4c2e728": {
      "model_module": "@jupyter-widgets/base",
      "model_module_version": "2.0.0",
      "model_name": "LayoutModel",
      "state": {
       "visibility": "hidden"
      }
     },
     "f378b0650c234231b0fac8fd9f633ccb": {
      "model_module": "@jupyter-widgets/controls",
      "model_module_version": "2.0.0",
      "model_name": "HTMLStyleModel",
      "state": {
       "description_width": "",
       "font_size": null,
       "text_color": null
      }
     },
     "f38656eaf8e343e3aa6958e798db09f1": {
      "model_module": "@jupyter-widgets/controls",
      "model_module_version": "2.0.0",
      "model_name": "HTMLStyleModel",
      "state": {
       "description_width": "",
       "font_size": null,
       "text_color": null
      }
     },
     "f3875ad9f0bf459099cbd18518d1d4df": {
      "model_module": "@jupyter-widgets/controls",
      "model_module_version": "2.0.0",
      "model_name": "HTMLStyleModel",
      "state": {
       "description_width": "",
       "font_size": null,
       "text_color": null
      }
     },
     "f3afdeb6ec0d47d0bd31fda4f4d62cc4": {
      "model_module": "@jupyter-widgets/controls",
      "model_module_version": "2.0.0",
      "model_name": "HTMLStyleModel",
      "state": {
       "description_width": "",
       "font_size": null,
       "text_color": null
      }
     },
     "f3c80886644a4e33b20cbe9927b543ec": {
      "model_module": "@jupyter-widgets/base",
      "model_module_version": "2.0.0",
      "model_name": "LayoutModel",
      "state": {}
     },
     "f3d851e85bc6403daf0cb8d11f3f45eb": {
      "model_module": "@jupyter-widgets/controls",
      "model_module_version": "2.0.0",
      "model_name": "HTMLStyleModel",
      "state": {
       "description_width": "",
       "font_size": null,
       "text_color": null
      }
     },
     "f3ee20d2693345b485fa1519e4178cb1": {
      "model_module": "@jupyter-widgets/controls",
      "model_module_version": "2.0.0",
      "model_name": "HTMLModel",
      "state": {
       "layout": "IPY_MODEL_ea8ecb6c21964f9e9a3f66fa9f0a0e70",
       "style": "IPY_MODEL_951b9c7ed0c44755901a822381f76501",
       "value": " 63/63 [00:19&lt;00:00,  3.36it/s]"
      }
     },
     "f402b08fddd6473f9baf7400bcb3531d": {
      "model_module": "@jupyter-widgets/controls",
      "model_module_version": "2.0.0",
      "model_name": "HTMLStyleModel",
      "state": {
       "description_width": "",
       "font_size": null,
       "text_color": null
      }
     },
     "f41afbe428634ec19c5ed0a4107c3a67": {
      "model_module": "@jupyter-widgets/controls",
      "model_module_version": "2.0.0",
      "model_name": "FloatProgressModel",
      "state": {
       "layout": "IPY_MODEL_bc56518f9b6848fdab5d2cb368a9fa3f",
       "max": 32,
       "style": "IPY_MODEL_8798b4ca8cc640b79db9a12af8b5faa5",
       "value": 32
      }
     },
     "f43d3a4b68b544339a7fdd8f4eccf3c9": {
      "model_module": "@jupyter-widgets/base",
      "model_module_version": "2.0.0",
      "model_name": "LayoutModel",
      "state": {}
     },
     "f46653a59ec9427fa472e905942e5fcc": {
      "model_module": "@jupyter-widgets/controls",
      "model_module_version": "2.0.0",
      "model_name": "HTMLModel",
      "state": {
       "layout": "IPY_MODEL_c979ef365ac744f0bf29f60e7fcc46d6",
       "style": "IPY_MODEL_02db4bb280d24f458251fa1c93ea521f",
       "value": "Epoch 13, Loss: 3.0366: 100%"
      }
     },
     "f47174dd247f4dcba0796f336a8a8bca": {
      "model_module": "@jupyter-widgets/controls",
      "model_module_version": "2.0.0",
      "model_name": "ProgressStyleModel",
      "state": {
       "description_width": ""
      }
     },
     "f48a180e958c4e799e2d8cd185f1842c": {
      "model_module": "@jupyter-widgets/controls",
      "model_module_version": "2.0.0",
      "model_name": "HTMLModel",
      "state": {
       "layout": "IPY_MODEL_e27abb2de24a4052a5239ca565b2f233",
       "style": "IPY_MODEL_1cc7e6b6056543a4b47c6b3249b65acd",
       "value": "Epoch 16, Loss: 2.9600: 100%"
      }
     },
     "f49786736256469aa4b66f6f38399620": {
      "model_module": "@jupyter-widgets/controls",
      "model_module_version": "2.0.0",
      "model_name": "HTMLModel",
      "state": {
       "layout": "IPY_MODEL_2bbf822cb182418093bc724d34712363",
       "style": "IPY_MODEL_bd63cf8c50c944bb8168fe8587738f5b",
       "value": " 14/14 [00:01&lt;00:00, 10.30it/s]"
      }
     },
     "f4babed4999442dea4bcebab38517af5": {
      "model_module": "@jupyter-widgets/controls",
      "model_module_version": "2.0.0",
      "model_name": "HTMLStyleModel",
      "state": {
       "description_width": "",
       "font_size": null,
       "text_color": null
      }
     },
     "f4e265075d93470fbcde8603bec85148": {
      "model_module": "@jupyter-widgets/controls",
      "model_module_version": "2.0.0",
      "model_name": "FloatProgressModel",
      "state": {
       "layout": "IPY_MODEL_767f65d186cf43ec8f11a93de4b7a78e",
       "max": 14,
       "style": "IPY_MODEL_4287ad518e4f48639e34220fcd8066e0",
       "value": 14
      }
     },
     "f52a5896a9d4454e98fcc66a20248ec1": {
      "model_module": "@jupyter-widgets/base",
      "model_module_version": "2.0.0",
      "model_name": "LayoutModel",
      "state": {}
     },
     "f543d32d843f4955878b778cb81a964d": {
      "model_module": "@jupyter-widgets/controls",
      "model_module_version": "2.0.0",
      "model_name": "ProgressStyleModel",
      "state": {
       "description_width": ""
      }
     },
     "f582b0d4a292401d932ab20f5932a9d1": {
      "model_module": "@jupyter-widgets/controls",
      "model_module_version": "2.0.0",
      "model_name": "FloatProgressModel",
      "state": {
       "layout": "IPY_MODEL_ff30316fe880436996abb44496e73699",
       "max": 14,
       "style": "IPY_MODEL_efaa5cc9133246c5a87a0d28f284f2e0",
       "value": 14
      }
     },
     "f5846f39e54f424b8d42db37bdcfc0a9": {
      "model_module": "@jupyter-widgets/base",
      "model_module_version": "2.0.0",
      "model_name": "LayoutModel",
      "state": {
       "visibility": "hidden"
      }
     },
     "f5958f3d92dc465cb3343b569d564cfb": {
      "model_module": "@jupyter-widgets/base",
      "model_module_version": "2.0.0",
      "model_name": "LayoutModel",
      "state": {
       "visibility": "hidden"
      }
     },
     "f5a981e5a7524c87a051d9a302a8aa9c": {
      "model_module": "@jupyter-widgets/base",
      "model_module_version": "2.0.0",
      "model_name": "LayoutModel",
      "state": {}
     },
     "f5c1099f58694a458f09234778574a17": {
      "model_module": "@jupyter-widgets/controls",
      "model_module_version": "2.0.0",
      "model_name": "ProgressStyleModel",
      "state": {
       "description_width": ""
      }
     },
     "f5c8d2bc4eb94957a857c9e4335822fb": {
      "model_module": "@jupyter-widgets/controls",
      "model_module_version": "2.0.0",
      "model_name": "HTMLStyleModel",
      "state": {
       "description_width": "",
       "font_size": null,
       "text_color": null
      }
     },
     "f5da7559deac4cc49549da2068068aad": {
      "model_module": "@jupyter-widgets/controls",
      "model_module_version": "2.0.0",
      "model_name": "HTMLModel",
      "state": {
       "layout": "IPY_MODEL_c0c35296b75a45d19ca38440697fc9eb",
       "style": "IPY_MODEL_424af4f508904fe6814b0cfa4bb5297f",
       "value": " 63/63 [00:19&lt;00:00,  3.46it/s]"
      }
     },
     "f5e1c78ab0964a4e9bd0d9671cb1ed89": {
      "model_module": "@jupyter-widgets/controls",
      "model_module_version": "2.0.0",
      "model_name": "HTMLStyleModel",
      "state": {
       "description_width": "",
       "font_size": null,
       "text_color": null
      }
     },
     "f64bcd6aa5dc4041819010f06346154d": {
      "model_module": "@jupyter-widgets/base",
      "model_module_version": "2.0.0",
      "model_name": "LayoutModel",
      "state": {}
     },
     "f66a2f3e69b94002920824233209a608": {
      "model_module": "@jupyter-widgets/controls",
      "model_module_version": "2.0.0",
      "model_name": "HTMLStyleModel",
      "state": {
       "description_width": "",
       "font_size": null,
       "text_color": null
      }
     },
     "f67838f2d323410286ddec0ed59be862": {
      "model_module": "@jupyter-widgets/controls",
      "model_module_version": "2.0.0",
      "model_name": "HTMLStyleModel",
      "state": {
       "description_width": "",
       "font_size": null,
       "text_color": null
      }
     },
     "f680169347a3432e9af91b2cb38d06f1": {
      "model_module": "@jupyter-widgets/base",
      "model_module_version": "2.0.0",
      "model_name": "LayoutModel",
      "state": {}
     },
     "f6b0024d411149c6b0d90970963d69e3": {
      "model_module": "@jupyter-widgets/base",
      "model_module_version": "2.0.0",
      "model_name": "LayoutModel",
      "state": {}
     },
     "f6b81d2006b14909850bd5526a73d85b": {
      "model_module": "@jupyter-widgets/controls",
      "model_module_version": "2.0.0",
      "model_name": "HTMLModel",
      "state": {
       "layout": "IPY_MODEL_f33eb546dc6d4ed5af0fae87621e2ae9",
       "style": "IPY_MODEL_c1792fff40b74d52a63498bf8d17f7e5",
       "value": "Epoch 17, Loss: 2.2040: 100%"
      }
     },
     "f6bae7ebca7c4a46afaf92b58d20a1d1": {
      "model_module": "@jupyter-widgets/controls",
      "model_module_version": "2.0.0",
      "model_name": "HTMLStyleModel",
      "state": {
       "description_width": "",
       "font_size": null,
       "text_color": null
      }
     },
     "f6cfa5d5daf84d7987f86bcfc37dbe86": {
      "model_module": "@jupyter-widgets/controls",
      "model_module_version": "2.0.0",
      "model_name": "HTMLStyleModel",
      "state": {
       "description_width": "",
       "font_size": null,
       "text_color": null
      }
     },
     "f6db9ff91c1548fb88aea4020f55f50a": {
      "model_module": "@jupyter-widgets/base",
      "model_module_version": "2.0.0",
      "model_name": "LayoutModel",
      "state": {}
     },
     "f6e789276ae54f39959886e7dabfd9c8": {
      "model_module": "@jupyter-widgets/controls",
      "model_module_version": "2.0.0",
      "model_name": "ProgressStyleModel",
      "state": {
       "description_width": ""
      }
     },
     "f6f8bdbc334d47458c5e27a2f66b2755": {
      "model_module": "@jupyter-widgets/base",
      "model_module_version": "2.0.0",
      "model_name": "LayoutModel",
      "state": {}
     },
     "f71392a4d8524b91b0dcdcc99a49d399": {
      "model_module": "@jupyter-widgets/controls",
      "model_module_version": "2.0.0",
      "model_name": "HTMLStyleModel",
      "state": {
       "description_width": "",
       "font_size": null,
       "text_color": null
      }
     },
     "f71d37135b0046bf9c0186f2bb33db02": {
      "model_module": "@jupyter-widgets/base",
      "model_module_version": "2.0.0",
      "model_name": "LayoutModel",
      "state": {}
     },
     "f72751867fee4f6b881f317d82193b81": {
      "model_module": "@jupyter-widgets/base",
      "model_module_version": "2.0.0",
      "model_name": "LayoutModel",
      "state": {}
     },
     "f784ce82c06946f09162179de8889b79": {
      "model_module": "@jupyter-widgets/controls",
      "model_module_version": "2.0.0",
      "model_name": "HTMLModel",
      "state": {
       "layout": "IPY_MODEL_34084a1e778148cdb2d4be94a6e5082e",
       "style": "IPY_MODEL_6e3500ace25348c09618314c1f9cb044",
       "value": " 14/14 [00:01&lt;00:00, 10.09it/s]"
      }
     },
     "f7889be506f24102b4738f66a746fd64": {
      "model_module": "@jupyter-widgets/base",
      "model_module_version": "2.0.0",
      "model_name": "LayoutModel",
      "state": {}
     },
     "f799237f2f4846318727e5798a0d8c18": {
      "model_module": "@jupyter-widgets/base",
      "model_module_version": "2.0.0",
      "model_name": "LayoutModel",
      "state": {
       "visibility": "hidden"
      }
     },
     "f7aef27c0ba14fe891c77ebc9779fb62": {
      "model_module": "@jupyter-widgets/controls",
      "model_module_version": "2.0.0",
      "model_name": "HTMLStyleModel",
      "state": {
       "description_width": "",
       "font_size": null,
       "text_color": null
      }
     },
     "f7b34c764f154a6eb35a4af42786bc4d": {
      "model_module": "@jupyter-widgets/controls",
      "model_module_version": "2.0.0",
      "model_name": "ProgressStyleModel",
      "state": {
       "description_width": ""
      }
     },
     "f7cf3225cb22440b95ef4736152fd537": {
      "model_module": "@jupyter-widgets/controls",
      "model_module_version": "2.0.0",
      "model_name": "HTMLStyleModel",
      "state": {
       "description_width": "",
       "font_size": null,
       "text_color": null
      }
     },
     "f7f05a82bd49457daf528932058b8a21": {
      "model_module": "@jupyter-widgets/controls",
      "model_module_version": "2.0.0",
      "model_name": "FloatProgressModel",
      "state": {
       "layout": "IPY_MODEL_a6cc4d3786a249c69946bc9b1bcc1fe9",
       "max": 14,
       "style": "IPY_MODEL_2fff1e6e3085441bbc04b1be711dced8",
       "value": 14
      }
     },
     "f7f3baf858ef4d7ba2edfbdc65939aeb": {
      "model_module": "@jupyter-widgets/controls",
      "model_module_version": "2.0.0",
      "model_name": "HTMLStyleModel",
      "state": {
       "description_width": "",
       "font_size": null,
       "text_color": null
      }
     },
     "f8041220ae484324967a38ca81e93a9a": {
      "model_module": "@jupyter-widgets/base",
      "model_module_version": "2.0.0",
      "model_name": "LayoutModel",
      "state": {}
     },
     "f830941338b1444781e9f11e40b419aa": {
      "model_module": "@jupyter-widgets/controls",
      "model_module_version": "2.0.0",
      "model_name": "HTMLStyleModel",
      "state": {
       "description_width": "",
       "font_size": null,
       "text_color": null
      }
     },
     "f83b7dd50dc8457f98234d7f1221bcfe": {
      "model_module": "@jupyter-widgets/base",
      "model_module_version": "2.0.0",
      "model_name": "LayoutModel",
      "state": {}
     },
     "f846bea0ffa54a2b8cb4eb3a1ec1410a": {
      "model_module": "@jupyter-widgets/controls",
      "model_module_version": "2.0.0",
      "model_name": "HTMLModel",
      "state": {
       "layout": "IPY_MODEL_6f6f51fbeab641cca11f0296a2994edd",
       "style": "IPY_MODEL_8ef599299eb0423793c4f912d3edd5ca",
       "value": " 63/63 [00:20&lt;00:00,  3.26it/s]"
      }
     },
     "f85845d5e58847f2975adafc76af8a7c": {
      "model_module": "@jupyter-widgets/base",
      "model_module_version": "2.0.0",
      "model_name": "LayoutModel",
      "state": {}
     },
     "f863e98966f54566b0c392ccfae38cbd": {
      "model_module": "@jupyter-widgets/base",
      "model_module_version": "2.0.0",
      "model_name": "LayoutModel",
      "state": {}
     },
     "f8c5b001bd144c9b89d65a30e283094d": {
      "model_module": "@jupyter-widgets/base",
      "model_module_version": "2.0.0",
      "model_name": "LayoutModel",
      "state": {}
     },
     "f8e03cc4772341f49f98ff076226426d": {
      "model_module": "@jupyter-widgets/base",
      "model_module_version": "2.0.0",
      "model_name": "LayoutModel",
      "state": {}
     },
     "f995f4de09df477a9f7b7e02ca413b35": {
      "model_module": "@jupyter-widgets/base",
      "model_module_version": "2.0.0",
      "model_name": "LayoutModel",
      "state": {}
     },
     "f9a738016870431fb5a60696861f6e05": {
      "model_module": "@jupyter-widgets/base",
      "model_module_version": "2.0.0",
      "model_name": "LayoutModel",
      "state": {
       "visibility": "hidden"
      }
     },
     "f9b389892e574908b3ecb19c7dff6586": {
      "model_module": "@jupyter-widgets/controls",
      "model_module_version": "2.0.0",
      "model_name": "HTMLStyleModel",
      "state": {
       "description_width": "",
       "font_size": null,
       "text_color": null
      }
     },
     "f9d97c57b7ed4e69a2eabd6cfa0f9060": {
      "model_module": "@jupyter-widgets/controls",
      "model_module_version": "2.0.0",
      "model_name": "FloatProgressModel",
      "state": {
       "layout": "IPY_MODEL_8045b8e4877b40f3bac5cc507a37eecd",
       "max": 63,
       "style": "IPY_MODEL_3b18baea0b9841b0931911c5233a7036",
       "value": 63
      }
     },
     "f9efa986097143a3af94e1e458021b5f": {
      "model_module": "@jupyter-widgets/base",
      "model_module_version": "2.0.0",
      "model_name": "LayoutModel",
      "state": {
       "visibility": "hidden"
      }
     },
     "fa0083cfc9cc4742b0e9239926042912": {
      "model_module": "@jupyter-widgets/base",
      "model_module_version": "2.0.0",
      "model_name": "LayoutModel",
      "state": {
       "visibility": "hidden"
      }
     },
     "fa05ecb5b78b41868c444c51821a963d": {
      "model_module": "@jupyter-widgets/base",
      "model_module_version": "2.0.0",
      "model_name": "LayoutModel",
      "state": {}
     },
     "fa7920e7bbbf491996a4dc64ad6615a4": {
      "model_module": "@jupyter-widgets/base",
      "model_module_version": "2.0.0",
      "model_name": "LayoutModel",
      "state": {}
     },
     "fa83dbde11294ff3868d23a9fe451c6a": {
      "model_module": "@jupyter-widgets/base",
      "model_module_version": "2.0.0",
      "model_name": "LayoutModel",
      "state": {
       "visibility": "hidden"
      }
     },
     "fac9e2e640284ea18b5513983a913332": {
      "model_module": "@jupyter-widgets/base",
      "model_module_version": "2.0.0",
      "model_name": "LayoutModel",
      "state": {
       "visibility": "hidden"
      }
     },
     "fad5680d06ac4904acda7f40483721ae": {
      "model_module": "@jupyter-widgets/base",
      "model_module_version": "2.0.0",
      "model_name": "LayoutModel",
      "state": {}
     },
     "fb084fabebd94823922eab712ebc4a39": {
      "model_module": "@jupyter-widgets/controls",
      "model_module_version": "2.0.0",
      "model_name": "HTMLModel",
      "state": {
       "layout": "IPY_MODEL_1107d1fbf099457f83083539d83133ab",
       "style": "IPY_MODEL_c18f689b23664d439bc29237e641cfc4",
       "value": " 32/32 [00:09&lt;00:00,  3.47it/s]"
      }
     },
     "fb3a34e420c64b9abcbb718da3c31928": {
      "model_module": "@jupyter-widgets/controls",
      "model_module_version": "2.0.0",
      "model_name": "HTMLStyleModel",
      "state": {
       "description_width": "",
       "font_size": null,
       "text_color": null
      }
     },
     "fb556d0e6d234a28ade327786adae125": {
      "model_module": "@jupyter-widgets/controls",
      "model_module_version": "2.0.0",
      "model_name": "ProgressStyleModel",
      "state": {
       "description_width": ""
      }
     },
     "fb55bf730c774104ae9bfbd74155e1d5": {
      "model_module": "@jupyter-widgets/base",
      "model_module_version": "2.0.0",
      "model_name": "LayoutModel",
      "state": {}
     },
     "fb61b504e7b24caaab544116bc1b7bb1": {
      "model_module": "@jupyter-widgets/base",
      "model_module_version": "2.0.0",
      "model_name": "LayoutModel",
      "state": {
       "visibility": "hidden"
      }
     },
     "fb7f75f7b3084146b38be60f91c129d9": {
      "model_module": "@jupyter-widgets/base",
      "model_module_version": "2.0.0",
      "model_name": "LayoutModel",
      "state": {}
     },
     "fb968648b865412bbb422a4e6c720778": {
      "model_module": "@jupyter-widgets/controls",
      "model_module_version": "2.0.0",
      "model_name": "HTMLModel",
      "state": {
       "layout": "IPY_MODEL_7383969557a8421290b00c3dbc48745c",
       "style": "IPY_MODEL_49aa033ab95743888ba624d575e6aad0",
       "value": " 13/14 [00:01&lt;00:00, 10.27it/s]"
      }
     },
     "fba7d4be7e2249e9a8ef9959e80a7698": {
      "model_module": "@jupyter-widgets/base",
      "model_module_version": "2.0.0",
      "model_name": "LayoutModel",
      "state": {}
     },
     "fbdb264336e0410987e8f06f951ce7bf": {
      "model_module": "@jupyter-widgets/controls",
      "model_module_version": "2.0.0",
      "model_name": "HTMLModel",
      "state": {
       "layout": "IPY_MODEL_f7889be506f24102b4738f66a746fd64",
       "style": "IPY_MODEL_fb3a34e420c64b9abcbb718da3c31928",
       "value": "Epoch 7, Loss: 2.8240: 100%"
      }
     },
     "fc34c1361d744653a436dbb649c71c84": {
      "model_module": "@jupyter-widgets/controls",
      "model_module_version": "2.0.0",
      "model_name": "ProgressStyleModel",
      "state": {
       "description_width": ""
      }
     },
     "fc4d267871704d1598ac0e8ec154d76c": {
      "model_module": "@jupyter-widgets/controls",
      "model_module_version": "2.0.0",
      "model_name": "HTMLModel",
      "state": {
       "layout": "IPY_MODEL_198f29a9647041618d5bd00880af45cb",
       "style": "IPY_MODEL_856d03fba0864e9caa52558a4dd3a687",
       "value": "Epoch 5, Loss: 3.7419:  93%"
      }
     },
     "fc54b6184d1b4a8883c7a6c9ee7aa981": {
      "model_module": "@jupyter-widgets/controls",
      "model_module_version": "2.0.0",
      "model_name": "FloatProgressModel",
      "state": {
       "layout": "IPY_MODEL_013dff69b6cb4348b285620e8e6ce876",
       "max": 27,
       "style": "IPY_MODEL_9df0a4b457c244d5838b7573f32adf10",
       "value": 27
      }
     },
     "fc5a528d4c204b8fb7a43f262ac8a78e": {
      "model_module": "@jupyter-widgets/controls",
      "model_module_version": "2.0.0",
      "model_name": "HTMLModel",
      "state": {
       "layout": "IPY_MODEL_ff42df21b5b4469b86c18feb4a6e1dfc",
       "style": "IPY_MODEL_5509e698c43c45399d2281e706bc7abd",
       "value": "Epoch 1987, Loss: -24.4687: 100%"
      }
     },
     "fc919fd142c141b9a08016c4d7e108ee": {
      "model_module": "@jupyter-widgets/base",
      "model_module_version": "2.0.0",
      "model_name": "LayoutModel",
      "state": {}
     },
     "fcb1efc79cd241e28e604634feb581ad": {
      "model_module": "@jupyter-widgets/controls",
      "model_module_version": "2.0.0",
      "model_name": "HTMLStyleModel",
      "state": {
       "description_width": "",
       "font_size": null,
       "text_color": null
      }
     },
     "fcfa234640a64d0085a23ee391fa3822": {
      "model_module": "@jupyter-widgets/base",
      "model_module_version": "2.0.0",
      "model_name": "LayoutModel",
      "state": {}
     },
     "fd4eb101e4884c2a9be8de4995fdaf1c": {
      "model_module": "@jupyter-widgets/controls",
      "model_module_version": "2.0.0",
      "model_name": "HTMLModel",
      "state": {
       "layout": "IPY_MODEL_463f96ca08124ce691b85a394d4b044c",
       "style": "IPY_MODEL_c0a7294f88254c269600eb02f213855d",
       "value": "Epoch 7, Loss: 2.7066: 100%"
      }
     },
     "fd825b5b38274369862fb7f75f40669c": {
      "model_module": "@jupyter-widgets/base",
      "model_module_version": "2.0.0",
      "model_name": "LayoutModel",
      "state": {}
     },
     "fdb9e7b7ead7424fbc8f922779e4822b": {
      "model_module": "@jupyter-widgets/base",
      "model_module_version": "2.0.0",
      "model_name": "LayoutModel",
      "state": {}
     },
     "fde3130889aa47a2a3e98daed0e7b97b": {
      "model_module": "@jupyter-widgets/controls",
      "model_module_version": "2.0.0",
      "model_name": "HTMLStyleModel",
      "state": {
       "description_width": "",
       "font_size": null,
       "text_color": null
      }
     },
     "fde65eaefe5f447392c44babf5c9bd90": {
      "model_module": "@jupyter-widgets/controls",
      "model_module_version": "2.0.0",
      "model_name": "HTMLStyleModel",
      "state": {
       "description_width": "",
       "font_size": null,
       "text_color": null
      }
     },
     "fe09273d3c934fd3922368ded66b7dbc": {
      "model_module": "@jupyter-widgets/controls",
      "model_module_version": "2.0.0",
      "model_name": "ProgressStyleModel",
      "state": {
       "description_width": ""
      }
     },
     "fe26c4a907464252b2ff8323d6b3c2f8": {
      "model_module": "@jupyter-widgets/controls",
      "model_module_version": "2.0.0",
      "model_name": "HTMLStyleModel",
      "state": {
       "description_width": "",
       "font_size": null,
       "text_color": null
      }
     },
     "fe2de565960045ef86ef9b494884e27a": {
      "model_module": "@jupyter-widgets/controls",
      "model_module_version": "2.0.0",
      "model_name": "ProgressStyleModel",
      "state": {
       "description_width": ""
      }
     },
     "fe35654297554deda63c80528cb0b3f9": {
      "model_module": "@jupyter-widgets/controls",
      "model_module_version": "2.0.0",
      "model_name": "HTMLStyleModel",
      "state": {
       "description_width": "",
       "font_size": null,
       "text_color": null
      }
     },
     "fe39f4d5fb6841038f2451d86098e479": {
      "model_module": "@jupyter-widgets/controls",
      "model_module_version": "2.0.0",
      "model_name": "HTMLModel",
      "state": {
       "layout": "IPY_MODEL_d12630a881f64f2dbc4a23410bdd4522",
       "style": "IPY_MODEL_99123f34efde4df3aa5a82d8800ffa1e",
       "value": " 77/77 [00:23&lt;00:00,  3.46it/s]"
      }
     },
     "fea796dc5f8b4476ba1fb42db7046a59": {
      "model_module": "@jupyter-widgets/controls",
      "model_module_version": "2.0.0",
      "model_name": "HTMLModel",
      "state": {
       "layout": "IPY_MODEL_c258921ebe2b464c8174352471c692df",
       "style": "IPY_MODEL_fedf3f45a3aa4063807d9bddcfa83b73",
       "value": "Epoch 12, Loss: 2.5303: 100%"
      }
     },
     "fec3aa009cb449ce81305bdc3497ce3f": {
      "model_module": "@jupyter-widgets/base",
      "model_module_version": "2.0.0",
      "model_name": "LayoutModel",
      "state": {}
     },
     "fedf3f45a3aa4063807d9bddcfa83b73": {
      "model_module": "@jupyter-widgets/controls",
      "model_module_version": "2.0.0",
      "model_name": "HTMLStyleModel",
      "state": {
       "description_width": "",
       "font_size": null,
       "text_color": null
      }
     },
     "ff04813360034d1783aae5685f88d7b0": {
      "model_module": "@jupyter-widgets/base",
      "model_module_version": "2.0.0",
      "model_name": "LayoutModel",
      "state": {}
     },
     "ff06d61649ce481286dbbf701d97c814": {
      "model_module": "@jupyter-widgets/base",
      "model_module_version": "2.0.0",
      "model_name": "LayoutModel",
      "state": {}
     },
     "ff2d7815f6584b24a8cec812c4d36a06": {
      "model_module": "@jupyter-widgets/base",
      "model_module_version": "2.0.0",
      "model_name": "LayoutModel",
      "state": {}
     },
     "ff30316fe880436996abb44496e73699": {
      "model_module": "@jupyter-widgets/base",
      "model_module_version": "2.0.0",
      "model_name": "LayoutModel",
      "state": {}
     },
     "ff42df21b5b4469b86c18feb4a6e1dfc": {
      "model_module": "@jupyter-widgets/base",
      "model_module_version": "2.0.0",
      "model_name": "LayoutModel",
      "state": {}
     },
     "ff4c26b3deeb403b99ff57d61f1f8f81": {
      "model_module": "@jupyter-widgets/controls",
      "model_module_version": "2.0.0",
      "model_name": "FloatProgressModel",
      "state": {
       "layout": "IPY_MODEL_ad6dca0567a74b299d89483739a7887c",
       "max": 32,
       "style": "IPY_MODEL_c9a8f3002b4647959c29bb9dbd8eec61",
       "value": 32
      }
     },
     "ff730d3eecd54bffaaab513bc4a5c52b": {
      "model_module": "@jupyter-widgets/controls",
      "model_module_version": "2.0.0",
      "model_name": "HTMLStyleModel",
      "state": {
       "description_width": "",
       "font_size": null,
       "text_color": null
      }
     },
     "ffa78292e5a74211ba57eab4f53176b3": {
      "model_module": "@jupyter-widgets/base",
      "model_module_version": "2.0.0",
      "model_name": "LayoutModel",
      "state": {
       "visibility": "hidden"
      }
     },
     "ffbaf339d37248408b545f54faae4191": {
      "model_module": "@jupyter-widgets/controls",
      "model_module_version": "2.0.0",
      "model_name": "HTMLStyleModel",
      "state": {
       "description_width": "",
       "font_size": null,
       "text_color": null
      }
     },
     "ffc70e0428fc4bedbbec35af364db81a": {
      "model_module": "@jupyter-widgets/base",
      "model_module_version": "2.0.0",
      "model_name": "LayoutModel",
      "state": {}
     },
     "ffd72c7051c24a46a5c2283b12d2402d": {
      "model_module": "@jupyter-widgets/controls",
      "model_module_version": "2.0.0",
      "model_name": "FloatProgressModel",
      "state": {
       "layout": "IPY_MODEL_8b14885cf67741fb85bc4dbeda2ed006",
       "max": 14,
       "style": "IPY_MODEL_87e74625dbfa40bc894183e5152f6c13",
       "value": 14
      }
     }
    },
    "version_major": 2,
    "version_minor": 0
   }
  }
 },
 "nbformat": 4,
 "nbformat_minor": 5
}
