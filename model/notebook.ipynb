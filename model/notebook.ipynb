{
 "cells": [
  {
   "metadata": {},
   "cell_type": "markdown",
   "source": [
    "Try to use these to fix outputs issue:\n",
    "\n",
    "https://ipython.readthedocs.io/en/stable/interactive/magics.html\n",
    "https://notebook.community/lifeinoppo/littlefishlet-scode/RES/REF/python_sourcecode/ipython-master/examples/IPython%20Kernel/Capturing%20Output"
   ],
   "id": "206fd0459d5c59b4"
  },
  {
   "cell_type": "markdown",
   "source": [
    "# Load SEED Dataset"
   ],
   "metadata": {
    "collapsed": false
   },
   "id": "a29db2a0b135a13b"
  },
  {
   "metadata": {},
   "cell_type": "markdown",
   "source": "### Load RAW EEG",
   "id": "24699bd8dcadd704"
  },
  {
   "metadata": {},
   "cell_type": "code",
   "source": [
    "from dataset_processing.seed_dataset_loader import SeedDatasetLoader\n",
    "\n",
    "sampling_frequency = 200  # 200 Hz\n",
    "\n",
    "_loader = SeedDatasetLoader(fs=sampling_frequency)"
   ],
   "id": "f28dcf2b965f8640",
   "outputs": [],
   "execution_count": null
  },
  {
   "cell_type": "code",
   "source": [
    "labels = _loader.get_labels()\n",
    "labels"
   ],
   "metadata": {
    "collapsed": false
   },
   "id": "ca4d22bed4a15e46",
   "outputs": [],
   "execution_count": null
  },
  {
   "cell_type": "code",
   "source": [
    "channel_order = _loader.get_channel_order()\n",
    "channel_order"
   ],
   "metadata": {
    "collapsed": false
   },
   "id": "f8b0f267cb93aacf",
   "outputs": [],
   "execution_count": null
  },
  {
   "metadata": {},
   "cell_type": "code",
   "source": "_eeg_data_df = _loader.get_eeg_data_df()",
   "id": "71c84272baaf52fc",
   "outputs": [],
   "execution_count": null
  },
  {
   "cell_type": "code",
   "source": "_loader.plot_random_eeg()",
   "metadata": {
    "collapsed": false
   },
   "id": "e227135b42d3ad7c",
   "outputs": [],
   "execution_count": null
  },
  {
   "metadata": {},
   "cell_type": "code",
   "source": "del _loader",
   "id": "af4511eb8ab884d9",
   "outputs": [],
   "execution_count": null
  },
  {
   "cell_type": "markdown",
   "source": "### Data Augmentation",
   "metadata": {
    "collapsed": false
   },
   "id": "3405db51e6dde34e"
  },
  {
   "metadata": {},
   "cell_type": "code",
   "source": [
    "from dataset_processing.eeg_augmentation import EEGAugmentation\n",
    "\n",
    "_augmentor = EEGAugmentation(_eeg_data_df)\n",
    "_augmented_df = _augmentor.augment_data()\n",
    "del _augmentor, _eeg_data_df"
   ],
   "id": "cb020fa64271167f",
   "outputs": [],
   "execution_count": null
  },
  {
   "metadata": {},
   "cell_type": "markdown",
   "source": "# Pre-Training",
   "id": "ad9af7bc72ac020d"
  },
  {
   "metadata": {},
   "cell_type": "code",
   "source": [
    "from torch.utils.data import DataLoader\n",
    "from dataset_processing.eeg_dataset import EEGDataset\n",
    "from model.pre_training.do_pre_training import PreTraining\n",
    "\n",
    "# From the paper\n",
    "pretraining_batch_size = 256"
   ],
   "id": "c370fe3af6a91b1a",
   "outputs": [],
   "execution_count": null
  },
  {
   "metadata": {},
   "cell_type": "code",
   "outputs": [],
   "execution_count": null,
   "source": [
    "# TODO: Add in bachelor thesis how `num_workers` was chosen with code from w_testing_values notebook\n",
    "\n",
    "# Custom cleanup function, useful when using the dataloader too much,\n",
    "# as it's bugged and needs manual cleaning (because of Jupyter Notebook)\n",
    "def cleanup_data_loader(loader):\n",
    "    # noinspection PyProtectedMember\n",
    "    if loader._iterator is not None:\n",
    "        # noinspection PyProtectedMember\n",
    "        loader._iterator._shutdown_workers()"
   ],
   "id": "1cfd0859dba8d07b"
  },
  {
   "metadata": {},
   "cell_type": "markdown",
   "source": [
    "##### Results for choosing best value for `num_workers` (HH:MM:SS.milliseconds)\n",
    "Time/epoch with `num_workers = 0`: `0:18:18.900`\n",
    "\n",
    "Time/epoch with `num_workers = 1`: `0:08:41.793`\n",
    "\n",
    "Time/epoch with `num_workers = 2`: `0:06:42.313`\n",
    "\n",
    "Time/epoch with `num_workers = 3`: `0:06:36.799`\n",
    "\n",
    "Time/epoch with `num_workers = 4`: `0:06:52.586`\n",
    "\n",
    "Time/epoch with `num_workers = 8`: `0:06:44.983`"
   ],
   "id": "e6b460522fd2523a"
  },
  {
   "metadata": {},
   "cell_type": "markdown",
   "source": "### Dataset Loader",
   "id": "116d350633bb880f"
  },
  {
   "metadata": {},
   "cell_type": "code",
   "source": [
    "try:\n",
    "    # noinspection PyUnresolvedReferences,PyUnboundLocalVariable\n",
    "    _dataset\n",
    "except NameError:\n",
    "    # noinspection PyUnboundLocalVariable\n",
    "    _dataset = EEGDataset(_augmented_df)\n",
    "    del _augmented_df"
   ],
   "id": "19e986f720c0e26b",
   "outputs": [],
   "execution_count": null
  },
  {
   "metadata": {},
   "cell_type": "code",
   "source": [
    "num_workers = 3\n",
    "\n",
    "data_loader = DataLoader(\n",
    "    _dataset,\n",
    "    batch_size=pretraining_batch_size,\n",
    "    shuffle=True,\n",
    "    pin_memory=True,\n",
    "    persistent_workers=True,\n",
    "\n",
    "    num_workers=num_workers,\n",
    "    prefetch_factor=2,  # Default: 2 for `num_workers` > 0  # TODO: Maybe set to 3-4\n",
    ")\n",
    "# del _augmented_df, _dataset"
   ],
   "id": "ced1c49f14fc7150",
   "outputs": [],
   "execution_count": null
  },
  {
   "metadata": {},
   "cell_type": "markdown",
   "source": "### Do the pre-training",
   "id": "bb188c0dbcb163af"
  },
  {
   "metadata": {},
   "cell_type": "code",
   "source": [
    "# from importlib import reload\n",
    "# import model.pre_training.do_pre_training\n",
    "# \n",
    "# reload(model.pre_training.do_pre_training)\n",
    "# \n",
    "# PreTraining = model.pre_training.do_pre_training.PreTraining"
   ],
   "id": "6078ef1e07435f74",
   "outputs": [],
   "execution_count": null
  },
  {
   "metadata": {},
   "cell_type": "code",
   "source": "# TODO: Use for simplified training: https://pytorch-ignite.ai/tutorials/beginner/01-getting-started/",
   "id": "a88a1da60cfc3f7f",
   "outputs": [],
   "execution_count": null
  },
  {
   "cell_type": "code",
   "source": [
    "print(f\"Starting pre-training with {num_workers} workers loading the dataset\")\n",
    "\n",
    "pretraining = PreTraining(\n",
    "    data_loader=data_loader,\n",
    "    sampling_frequency=sampling_frequency,\n",
    "    pretraining_model_save_dir=\"model_params/pretraining\",\n",
    "    scheduler_patience=50,\n",
    "    early_stopping_patience=100,\n",
    "    epochs=2000,\n",
    ")\n",
    "pretraining.train()\n",
    "\n",
    "cleanup_data_loader(data_loader)"
   ],
   "metadata": {
    "collapsed": false
   },
   "id": "6ebf017b23d22c9f",
   "outputs": [],
   "execution_count": null
  },
  {
   "metadata": {},
   "cell_type": "code",
   "source": [
    "# %load_ext tensorboard\n",
    "# %tensorboard --logdir runs"
   ],
   "id": "a0441a2dd06e00a1",
   "outputs": [],
   "execution_count": null
  },
  {
   "metadata": {},
   "cell_type": "markdown",
   "source": "# Fine-Tuning",
   "id": "d52e28a9f9218d03"
  },
  {
   "metadata": {},
   "cell_type": "markdown",
   "source": "### Dataset Loader",
   "id": "9ee25fc044cb4938"
  },
  {
   "metadata": {},
   "cell_type": "code",
   "source": [
    "# from torch.utils.data import DataLoader\n",
    "# from dataset_processing.eeg_dataset import EEGDataset\n",
    "# \n",
    "# # From the paper\n",
    "# pretraining_batch_size = 256\n",
    "# \n",
    "# _dataset = EEGDataset(_augmented_df)\n",
    "# data_loader = DataLoader(_dataset, batch_size=pretraining_batch_size, shuffle=True)\n",
    "# del _augmented_df, _dataset"
   ],
   "id": "ee9b7dd3e7b33359",
   "outputs": [],
   "execution_count": null
  },
  {
   "metadata": {},
   "cell_type": "markdown",
   "source": "### Do the fine-tuning",
   "id": "4b86e0b0a5e34884"
  },
  {
   "metadata": {},
   "cell_type": "code",
   "source": [
    "# from model.fine_tuning.do_fine_tuning import FineTuning\n",
    "# \n",
    "# finetuning = FineTuning(\n",
    "#     data_loader=data_loader,\n",
    "#     sampling_frequency=sampling_frequency,\n",
    "#     finetuning_model_save_dir=\"model_params/finetuning\",\n",
    "#     epochs=10,\n",
    "# )\n",
    "# finetuning.train()"
   ],
   "id": "4eb9f66758227bd3",
   "outputs": [],
   "execution_count": null
  },
  {
   "metadata": {},
   "cell_type": "markdown",
   "source": "# Ideas",
   "id": "8099d554347b0eab"
  },
  {
   "cell_type": "markdown",
   "source": [
    "Do a correlation matrix between the channels of the EEG signals.\n",
    "Then when doing the joint whatever model, use the \"distances\" between the channels (like the hamming distance but not really), as a \"weight\" for training the joining etc.\n",
    "\n",
    "Or maybe just output something that could show each channel's contribution towards the final emotion prediction."
   ],
   "metadata": {
    "collapsed": false
   },
   "id": "1dddb3704166f6cd"
  }
 ],
 "metadata": {
  "kernelspec": {
   "display_name": "Python 3",
   "language": "python",
   "name": "python3"
  },
  "language_info": {
   "codemirror_mode": {
    "name": "ipython",
    "version": 2
   },
   "file_extension": ".py",
   "mimetype": "text/x-python",
   "name": "python",
   "nbconvert_exporter": "python",
   "pygments_lexer": "ipython2",
   "version": "2.7.6"
  }
 },
 "nbformat": 4,
 "nbformat_minor": 5
}
