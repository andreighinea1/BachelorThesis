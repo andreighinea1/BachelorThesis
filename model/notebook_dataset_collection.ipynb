{
 "cells": [
  {
   "metadata": {},
   "cell_type": "markdown",
   "source": "!pip install moviepy pygame",
   "id": "e0e692da60a6760"
  },
  {
   "metadata": {
    "ExecuteTime": {
     "end_time": "2024-06-10T21:41:23.107048Z",
     "start_time": "2024-06-10T21:41:04.311545Z"
    }
   },
   "cell_type": "code",
   "source": [
    "from dataset_collection.eeg_emotion_experiment import EEGEmotionExperiment\n",
    "\n",
    "experiment = EEGEmotionExperiment(\n",
    "    overwrite_concatenated_videos=False,\n",
    "    ignore_existing_files=True,\n",
    ")\n",
    "experiment.prepare_videos()\n",
    "experiment.create_segments()\n",
    "experiment.run_experiment()"
   ],
   "id": "33a2d9565cbbb5be",
   "outputs": [
    {
     "name": "stdout",
     "output_type": "stream",
     "text": [
      "positive video already concatenated, ignoring existing videos\n",
      "neutral video already concatenated, ignoring existing videos\n",
      "negative video already concatenated, ignoring existing videos\n",
      "Segmenting for positive canceled, as segments already exist in ./dataset_collection/videos\\positive\\_segments\n",
      "Segmenting for neutral canceled, as segments already exist in ./dataset_collection/videos\\neutral\\_segments\n",
      "Segmenting for negative canceled, as segments already exist in ./dataset_collection/videos\\negative\\_segments\n"
     ]
    },
    {
     "ename": "NameError",
     "evalue": "name 'exit' is not defined",
     "output_type": "error",
     "traceback": [
      "\u001B[1;31m---------------------------------------------------------------------------\u001B[0m",
      "\u001B[1;31mNameError\u001B[0m                                 Traceback (most recent call last)",
      "Cell \u001B[1;32mIn[1], line 9\u001B[0m\n\u001B[0;32m      7\u001B[0m experiment\u001B[38;5;241m.\u001B[39mprepare_videos()\n\u001B[0;32m      8\u001B[0m experiment\u001B[38;5;241m.\u001B[39mcreate_segments()\n\u001B[1;32m----> 9\u001B[0m \u001B[43mexperiment\u001B[49m\u001B[38;5;241;43m.\u001B[39;49m\u001B[43mrun_experiment\u001B[49m\u001B[43m(\u001B[49m\u001B[43m)\u001B[49m\n",
      "File \u001B[1;32mD:\\Personal\\_BachelorThesis\\BachelorThesis_Project\\model\\dataset_collection\\eeg_emotion_experiment.py:175\u001B[0m, in \u001B[0;36mEEGEmotionExperiment.run_experiment\u001B[1;34m(self)\u001B[0m\n\u001B[0;32m    173\u001B[0m     \u001B[38;5;28mself\u001B[39m\u001B[38;5;241m.\u001B[39m_show_message(\u001B[38;5;124m\"\u001B[39m\u001B[38;5;124mHint of start\u001B[39m\u001B[38;5;124m\"\u001B[39m, duration)\n\u001B[0;32m    174\u001B[0m \u001B[38;5;28;01melif\u001B[39;00m step \u001B[38;5;241m==\u001B[39m \u001B[38;5;124m\"\u001B[39m\u001B[38;5;124mMovie clip\u001B[39m\u001B[38;5;124m\"\u001B[39m:\n\u001B[1;32m--> 175\u001B[0m     \u001B[38;5;28;43mself\u001B[39;49m\u001B[38;5;241;43m.\u001B[39;49m\u001B[43m_play_video\u001B[49m\u001B[43m(\u001B[49m\u001B[43msegment_path\u001B[49m\u001B[43m)\u001B[49m\n\u001B[0;32m    176\u001B[0m \u001B[38;5;28;01melif\u001B[39;00m step \u001B[38;5;241m==\u001B[39m \u001B[38;5;124m\"\u001B[39m\u001B[38;5;124mSelf-assessment\u001B[39m\u001B[38;5;124m\"\u001B[39m:\n\u001B[0;32m    177\u001B[0m     \u001B[38;5;28mself\u001B[39m\u001B[38;5;241m.\u001B[39m_show_message(\u001B[38;5;124m\"\u001B[39m\u001B[38;5;124mPlease assess your emotions\u001B[39m\u001B[38;5;124m\"\u001B[39m, duration)\n",
      "File \u001B[1;32mD:\\Personal\\_BachelorThesis\\BachelorThesis_Project\\model\\dataset_collection\\eeg_emotion_experiment.py:127\u001B[0m, in \u001B[0;36mEEGEmotionExperiment._play_video\u001B[1;34m(video_path)\u001B[0m\n\u001B[0;32m    125\u001B[0m     \u001B[38;5;28;01melif\u001B[39;00m key \u001B[38;5;241m==\u001B[39m \u001B[38;5;28mord\u001B[39m(\u001B[38;5;124m'\u001B[39m\u001B[38;5;124mq\u001B[39m\u001B[38;5;124m'\u001B[39m):\n\u001B[0;32m    126\u001B[0m         cv2\u001B[38;5;241m.\u001B[39mdestroyAllWindows()\n\u001B[1;32m--> 127\u001B[0m         \u001B[43mexit\u001B[49m()\n\u001B[0;32m    128\u001B[0m cap\u001B[38;5;241m.\u001B[39mrelease()\n\u001B[0;32m    129\u001B[0m cv2\u001B[38;5;241m.\u001B[39mdestroyAllWindows()\n",
      "\u001B[1;31mNameError\u001B[0m: name 'exit' is not defined"
     ]
    }
   ],
   "execution_count": 1
  },
  {
   "metadata": {},
   "cell_type": "code",
   "source": "",
   "id": "db5af23dd0069482",
   "outputs": [],
   "execution_count": null
  }
 ],
 "metadata": {
  "kernelspec": {
   "display_name": "Python 3",
   "language": "python",
   "name": "python3"
  },
  "language_info": {
   "codemirror_mode": {
    "name": "ipython",
    "version": 2
   },
   "file_extension": ".py",
   "mimetype": "text/x-python",
   "name": "python",
   "nbconvert_exporter": "python",
   "pygments_lexer": "ipython2",
   "version": "2.7.6"
  }
 },
 "nbformat": 4,
 "nbformat_minor": 5
}
