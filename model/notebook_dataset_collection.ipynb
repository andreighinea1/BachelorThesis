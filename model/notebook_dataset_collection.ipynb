{
 "cells": [
  {
   "metadata": {},
   "cell_type": "markdown",
   "source": "!pip install moviepy pygame",
   "id": "e0e692da60a6760"
  },
  {
   "metadata": {
    "ExecuteTime": {
     "end_time": "2024-06-11T10:28:42.901519Z",
     "start_time": "2024-06-11T10:28:39.322512Z"
    }
   },
   "cell_type": "code",
   "source": [
    "from importlib import reload\n",
    "import dataset_collection.eeg_emotion_experiment\n",
    "reload(dataset_collection.eeg_emotion_experiment)\n",
    "\n",
    "from dataset_collection.eeg_emotion_experiment import EEGEmotionExperiment\n",
    "\n",
    "experiment = EEGEmotionExperiment(\n",
    "    overwrite_concatenated_videos=False,\n",
    "    ignore_existing_files=True,\n",
    ")\n",
    "experiment.prepare_videos()\n",
    "experiment.create_segments()\n",
    "experiment.run_experiment()"
   ],
   "id": "33a2d9565cbbb5be",
   "outputs": [
    {
     "name": "stdout",
     "output_type": "stream",
     "text": [
      "positive video already concatenated, ignoring existing videos\n",
      "neutral video already concatenated, ignoring existing videos\n",
      "negative video already concatenated, ignoring existing videos\n",
      "Segmenting for positive canceled, as segments already exist in ./dataset_collection/videos\\positive\\_segments\n",
      "Segmenting for neutral canceled, as segments already exist in ./dataset_collection/videos\\neutral\\_segments\n",
      "Segmenting for negative canceled, as segments already exist in ./dataset_collection/videos\\negative\\_segments\n"
     ]
    },
    {
     "ename": "SystemExit",
     "evalue": "",
     "output_type": "error",
     "traceback": [
      "An exception has occurred, use %tb to see the full traceback.\n",
      "\u001B[1;31mSystemExit\u001B[0m\n"
     ]
    }
   ],
   "execution_count": 21
  },
  {
   "metadata": {},
   "cell_type": "code",
   "source": "",
   "id": "db5af23dd0069482",
   "outputs": [],
   "execution_count": null
  }
 ],
 "metadata": {
  "kernelspec": {
   "display_name": "Python 3",
   "language": "python",
   "name": "python3"
  },
  "language_info": {
   "codemirror_mode": {
    "name": "ipython",
    "version": 2
   },
   "file_extension": ".py",
   "mimetype": "text/x-python",
   "name": "python",
   "nbconvert_exporter": "python",
   "pygments_lexer": "ipython2",
   "version": "2.7.6"
  }
 },
 "nbformat": 4,
 "nbformat_minor": 5
}
