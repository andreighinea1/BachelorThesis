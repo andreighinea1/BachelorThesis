{
 "cells": [
  {
   "metadata": {},
   "cell_type": "markdown",
   "source": "!pip install moviepy pygame",
   "id": "e0e692da60a6760"
  },
  {
   "metadata": {},
   "cell_type": "code",
   "source": [
    "from dataset_collection.eeg_emotion_experiment import EEGEmotionExperiment\n",
    "\n",
    "experiment = EEGEmotionExperiment(\n",
    "    overwrite_concatenated_videos=False,\n",
    "    ignore_existing_files=True,\n",
    ")\n",
    "experiment.prepare_videos()\n",
    "experiment.create_segments()\n",
    "experiment.run_experiment()"
   ],
   "id": "33a2d9565cbbb5be",
   "outputs": [],
   "execution_count": null
  },
  {
   "metadata": {},
   "cell_type": "code",
   "source": "",
   "id": "db5af23dd0069482",
   "outputs": [],
   "execution_count": null
  }
 ],
 "metadata": {
  "kernelspec": {
   "display_name": "Python 3",
   "language": "python",
   "name": "python3"
  },
  "language_info": {
   "codemirror_mode": {
    "name": "ipython",
    "version": 2
   },
   "file_extension": ".py",
   "mimetype": "text/x-python",
   "name": "python",
   "nbconvert_exporter": "python",
   "pygments_lexer": "ipython2",
   "version": "2.7.6"
  }
 },
 "nbformat": 4,
 "nbformat_minor": 5
}
