{
 "cells": [
  {
   "metadata": {},
   "cell_type": "code",
   "source": "!pip install moviepy pygame",
   "id": "d19368c443214c07",
   "outputs": [],
   "execution_count": null
  },
  {
   "metadata": {},
   "cell_type": "code",
   "source": [
    "from dataset_collection.eeg_emotion_experiment import EEGEmotionExperiment\n",
    "\n",
    "experiment = EEGEmotionExperiment(\n",
    "    overwrite_concatenated_videos=False,\n",
    "    ignore_existing_files=True,\n",
    ")\n",
    "experiment.prepare_videos()\n",
    "experiment.create_segments()\n",
    "experiment.run_experiment()"
   ],
   "id": "33a2d9565cbbb5be",
   "outputs": [],
   "execution_count": null
  }
 ],
 "metadata": {
  "kernelspec": {
   "display_name": "Python 3",
   "language": "python",
   "name": "python3"
  },
  "language_info": {
   "codemirror_mode": {
    "name": "ipython",
    "version": 2
   },
   "file_extension": ".py",
   "mimetype": "text/x-python",
   "name": "python",
   "nbconvert_exporter": "python",
   "pygments_lexer": "ipython2",
   "version": "2.7.6"
  }
 },
 "nbformat": 4,
 "nbformat_minor": 5
}
