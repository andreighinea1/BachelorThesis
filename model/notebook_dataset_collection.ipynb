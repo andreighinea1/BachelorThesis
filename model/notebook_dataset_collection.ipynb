{
 "cells": [
  {
   "metadata": {},
   "cell_type": "markdown",
   "source": "!pip install moviepy pygame",
   "id": "e0e692da60a6760"
  },
  {
   "metadata": {
    "ExecuteTime": {
     "end_time": "2024-06-10T21:27:28.367516Z",
     "start_time": "2024-06-10T21:26:47.695844Z"
    }
   },
   "cell_type": "code",
   "source": [
    "from dataset_collection.eeg_emotion_experiment import EEGEmotionExperiment\n",
    "\n",
    "experiment = EEGEmotionExperiment(\n",
    "    overwrite_concatenated_videos=False,\n",
    "    ignore_existing_files=True,\n",
    ")\n",
    "experiment.prepare_videos()\n",
    "experiment.create_segments()\n",
    "experiment.run_experiment()"
   ],
   "id": "33a2d9565cbbb5be",
   "outputs": [
    {
     "name": "stdout",
     "output_type": "stream",
     "text": [
      "positive video already concatenated, ignoring existing videos\n",
      "neutral video already concatenated, ignoring existing videos\n",
      "negative video already concatenated, ignoring existing videos\n",
      "Segmenting for positive canceled, as segments already exist in ./dataset_collection/videos\\positive\\_segments\n",
      "Segmenting for neutral canceled, as segments already exist in ./dataset_collection/videos\\neutral\\_segments\n",
      "Segmenting for negative canceled, as segments already exist in ./dataset_collection/videos\\negative\\_segments\n"
     ]
    },
    {
     "name": "stderr",
     "output_type": "stream",
     "text": [
      "\n",
      "KeyboardInterrupt\n",
      "\n"
     ]
    }
   ],
   "execution_count": 1
  }
 ],
 "metadata": {
  "kernelspec": {
   "display_name": "Python 3",
   "language": "python",
   "name": "python3"
  },
  "language_info": {
   "codemirror_mode": {
    "name": "ipython",
    "version": 2
   },
   "file_extension": ".py",
   "mimetype": "text/x-python",
   "name": "python",
   "nbconvert_exporter": "python",
   "pygments_lexer": "ipython2",
   "version": "2.7.6"
  }
 },
 "nbformat": 4,
 "nbformat_minor": 5
}
