{
 "cells": [
  {
   "metadata": {},
   "cell_type": "raw",
   "source": "!pip install moviepy pygame",
   "id": "6500afdf207ace1f"
  },
  {
   "metadata": {},
   "cell_type": "code",
   "source": [
    "# from importlib import reload\n",
    "# \n",
    "# import dataset_collection.eeg_emotion_experiment\n",
    "# \n",
    "# reload(dataset_collection.eeg_emotion_experiment)\n",
    "\n",
    "from dataset_collection.eeg_emotion_experiment import EEGEmotionExperiment\n",
    "\n",
    "experiment = EEGEmotionExperiment(\n",
    "    desired_segment_duration=4 * 60,  # 4 minutes\n",
    "    overwrite_concatenated_videos=False,\n",
    "    ignore_existing_files=True,\n",
    "    save_audio_separately=False,\n",
    ")\n",
    "experiment.prepare_videos()\n",
    "experiment.create_segments()\n",
    "# experiment.run_experiment()"
   ],
   "id": "33a2d9565cbbb5be",
   "outputs": [],
   "execution_count": null
  },
  {
   "metadata": {},
   "cell_type": "code",
   "source": "",
   "id": "db5af23dd0069482",
   "outputs": [],
   "execution_count": null
  }
 ],
 "metadata": {
  "kernelspec": {
   "display_name": "Python 3",
   "language": "python",
   "name": "python3"
  },
  "language_info": {
   "codemirror_mode": {
    "name": "ipython",
    "version": 2
   },
   "file_extension": ".py",
   "mimetype": "text/x-python",
   "name": "python",
   "nbconvert_exporter": "python",
   "pygments_lexer": "ipython2",
   "version": "2.7.6"
  }
 },
 "nbformat": 4,
 "nbformat_minor": 5
}
